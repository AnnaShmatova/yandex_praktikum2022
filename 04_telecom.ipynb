{
 "cells": [
  {
   "cell_type": "markdown",
   "metadata": {},
   "source": [
    "# Определение перспективного тарифа для телеком-компании\n",
    "\n",
    "Я аналитик компании «Мегалайн» — федерального оператора сотовой связи. Клиентам предлагают два тарифных плана: «Смарт» и «Ультра». Чтобы скорректировать рекламный бюджет, коммерческий департамент хочет понять, какой тариф приносит больше денег.\n",
    "Вам предстоит сделать предварительный анализ тарифов на небольшой выборке клиентов. В вашем распоряжении данные 500 пользователей «Мегалайна»: кто они, откуда, каким тарифом пользуются, сколько звонков и сообщений каждый отправил за 2018 год. Нужно проанализировать поведение клиентов и сделать вывод — какой тариф лучше.\n",
    "Описание тарифов:\n",
    "\n",
    "**Тариф «Смарт»**\n",
    "- Ежемесячная плата: 550 рублей\n",
    "- Включено 500 минут разговора, 50 сообщений и 15 Гб интернет-трафика\n",
    "- Стоимость услуг сверх тарифного пакета: минута разговора - 3 рубля, сообщение - 3 рубля, 1 Гб интернет-трафика - 200 рублей\n",
    "\n",
    "**Тариф «Ультра»**\n",
    "- Ежемесячная плата: 1950 рублей\n",
    "- Включено 3000 минут разговора, 1000 сообщений и 30 Гб интернет-трафика\n",
    "- Стоимость услуг сверх тарифного пакета: минута разговора - 1 рубль, сообщение - 1 рубль, 1 Гб интернет-трафика - 150 рублей"
   ]
  },
  {
   "cell_type": "markdown",
   "metadata": {},
   "source": [
    "# План работы\n",
    "\n",
    "\n",
    "[**1. Осмотр и обработка данных**](#cell1)\n",
    "- посмотрим наборы данных\n",
    "- сделаем предварительные выводы\n",
    "- поищем аномалии\n",
    "- найти и обработать пропуски\n",
    "- заменить некорректные типы данных\n",
    "- удалить дубликаты\n",
    "- привести данные к нужным типам\n",
    "\n",
    "\n",
    "[**2. Подготовка данных**](#cell2)\n",
    "Посчитайте для каждого пользователя:\n",
    "\n",
    "- количество сделанных звонков и израсходованных минут разговора по месяцам\n",
    "- количество отправленных сообщений по месяцам\n",
    "- объем израсходованного интернет-трафика по месяцам\n",
    "- помесячную выручку с каждого пользователя\n",
    "(вычтите бесплатный лимит из суммарного количества звонков, сообщений и интернет-трафика, остаток умножьте на значение из тарифного плана)\n",
    "\n",
    "[**3. Анализ данных**](#cell3)\n",
    "- Опишите поведение клиентов оператора, исходя из выборки\n",
    "- Сколько минут разговора, сколько сообщений и какой объём интернет-трафика требуется пользователям каждого тарифа\n",
    "в месяц? \n",
    "- Посчитайте среднее количество, дисперсию и стандартное отклонение\n",
    "- Постройте гистограммы. Опишите распределения\n",
    "\n",
    "\n",
    "[**4. Проверка гипотез**](#cell4)\n",
    "- средняя выручка пользователей тарифов «Ультра» и «Смарт» различаются\n",
    "- средняя выручка пользователей из Москвы отличается от выручки пользователей из других регионов\n",
    "Пороговое значение alpha задайте самостоятельно.\n",
    "\n",
    "Поясните:\n",
    "\n",
    "- как вы формулировали нулевую и альтернативную гипотезы\n",
    "- какой критерий использовали для проверки гипотез и почему\n",
    "\n",
    "[**5. Результаты исследования**](#cell5)\n",
    "- Общие выводы\n",
    "- Рекомендации"
   ]
  },
  {
   "cell_type": "markdown",
   "metadata": {},
   "source": [
    "<a id=\"cell1\"></a>"
   ]
  },
  {
   "cell_type": "markdown",
   "metadata": {},
   "source": [
    "## Осмотр и обработка данных  <a class=\"anchor\" id=\"first-bullet\"></a>"
   ]
  },
  {
   "cell_type": "code",
   "execution_count": 1,
   "metadata": {},
   "outputs": [],
   "source": [
    "import pandas as pd\n",
    "import matplotlib.pyplot as plt\n",
    "import seaborn as sns\n",
    "import numpy as np\n",
    "from datetime import datetime\n",
    "from scipy import stats as st"
   ]
  },
  {
   "cell_type": "code",
   "execution_count": 2,
   "metadata": {},
   "outputs": [
    {
     "data": {
      "text/html": [
       "<div>\n",
       "<style scoped>\n",
       "    .dataframe tbody tr th:only-of-type {\n",
       "        vertical-align: middle;\n",
       "    }\n",
       "\n",
       "    .dataframe tbody tr th {\n",
       "        vertical-align: top;\n",
       "    }\n",
       "\n",
       "    .dataframe thead th {\n",
       "        text-align: right;\n",
       "    }\n",
       "</style>\n",
       "<table border=\"1\" class=\"dataframe\">\n",
       "  <thead>\n",
       "    <tr style=\"text-align: right;\">\n",
       "      <th></th>\n",
       "      <th>id</th>\n",
       "      <th>call_date</th>\n",
       "      <th>duration</th>\n",
       "      <th>user_id</th>\n",
       "    </tr>\n",
       "  </thead>\n",
       "  <tbody>\n",
       "    <tr>\n",
       "      <th>0</th>\n",
       "      <td>1000_0</td>\n",
       "      <td>2018-07-25</td>\n",
       "      <td>0.00</td>\n",
       "      <td>1000</td>\n",
       "    </tr>\n",
       "    <tr>\n",
       "      <th>1</th>\n",
       "      <td>1000_1</td>\n",
       "      <td>2018-08-17</td>\n",
       "      <td>0.00</td>\n",
       "      <td>1000</td>\n",
       "    </tr>\n",
       "    <tr>\n",
       "      <th>2</th>\n",
       "      <td>1000_2</td>\n",
       "      <td>2018-06-11</td>\n",
       "      <td>2.85</td>\n",
       "      <td>1000</td>\n",
       "    </tr>\n",
       "    <tr>\n",
       "      <th>3</th>\n",
       "      <td>1000_3</td>\n",
       "      <td>2018-09-21</td>\n",
       "      <td>13.80</td>\n",
       "      <td>1000</td>\n",
       "    </tr>\n",
       "    <tr>\n",
       "      <th>4</th>\n",
       "      <td>1000_4</td>\n",
       "      <td>2018-12-15</td>\n",
       "      <td>5.18</td>\n",
       "      <td>1000</td>\n",
       "    </tr>\n",
       "    <tr>\n",
       "      <th>...</th>\n",
       "      <td>...</td>\n",
       "      <td>...</td>\n",
       "      <td>...</td>\n",
       "      <td>...</td>\n",
       "    </tr>\n",
       "    <tr>\n",
       "      <th>202602</th>\n",
       "      <td>1499_215</td>\n",
       "      <td>2018-12-26</td>\n",
       "      <td>0.76</td>\n",
       "      <td>1499</td>\n",
       "    </tr>\n",
       "    <tr>\n",
       "      <th>202603</th>\n",
       "      <td>1499_216</td>\n",
       "      <td>2018-10-18</td>\n",
       "      <td>18.83</td>\n",
       "      <td>1499</td>\n",
       "    </tr>\n",
       "    <tr>\n",
       "      <th>202604</th>\n",
       "      <td>1499_217</td>\n",
       "      <td>2018-11-10</td>\n",
       "      <td>10.81</td>\n",
       "      <td>1499</td>\n",
       "    </tr>\n",
       "    <tr>\n",
       "      <th>202605</th>\n",
       "      <td>1499_218</td>\n",
       "      <td>2018-10-06</td>\n",
       "      <td>4.27</td>\n",
       "      <td>1499</td>\n",
       "    </tr>\n",
       "    <tr>\n",
       "      <th>202606</th>\n",
       "      <td>1499_219</td>\n",
       "      <td>2018-12-14</td>\n",
       "      <td>19.62</td>\n",
       "      <td>1499</td>\n",
       "    </tr>\n",
       "  </tbody>\n",
       "</table>\n",
       "<p>202607 rows × 4 columns</p>\n",
       "</div>"
      ],
      "text/plain": [
       "              id   call_date  duration  user_id\n",
       "0         1000_0  2018-07-25      0.00     1000\n",
       "1         1000_1  2018-08-17      0.00     1000\n",
       "2         1000_2  2018-06-11      2.85     1000\n",
       "3         1000_3  2018-09-21     13.80     1000\n",
       "4         1000_4  2018-12-15      5.18     1000\n",
       "...          ...         ...       ...      ...\n",
       "202602  1499_215  2018-12-26      0.76     1499\n",
       "202603  1499_216  2018-10-18     18.83     1499\n",
       "202604  1499_217  2018-11-10     10.81     1499\n",
       "202605  1499_218  2018-10-06      4.27     1499\n",
       "202606  1499_219  2018-12-14     19.62     1499\n",
       "\n",
       "[202607 rows x 4 columns]"
      ]
     },
     "execution_count": 2,
     "metadata": {},
     "output_type": "execute_result"
    }
   ],
   "source": [
    "df_call = pd.read_csv('/datasets/calls.csv')\n",
    "df_call"
   ]
  },
  {
   "cell_type": "code",
   "execution_count": 3,
   "metadata": {},
   "outputs": [
    {
     "name": "stdout",
     "output_type": "stream",
     "text": [
      "<class 'pandas.core.frame.DataFrame'>\n",
      "RangeIndex: 202607 entries, 0 to 202606\n",
      "Data columns (total 4 columns):\n",
      " #   Column     Non-Null Count   Dtype  \n",
      "---  ------     --------------   -----  \n",
      " 0   id         202607 non-null  object \n",
      " 1   call_date  202607 non-null  object \n",
      " 2   duration   202607 non-null  float64\n",
      " 3   user_id    202607 non-null  int64  \n",
      "dtypes: float64(1), int64(1), object(2)\n",
      "memory usage: 6.2+ MB\n"
     ]
    }
   ],
   "source": [
    "df_call.info()"
   ]
  },
  {
   "cell_type": "code",
   "execution_count": 4,
   "metadata": {},
   "outputs": [
    {
     "data": {
      "text/html": [
       "<div>\n",
       "<style scoped>\n",
       "    .dataframe tbody tr th:only-of-type {\n",
       "        vertical-align: middle;\n",
       "    }\n",
       "\n",
       "    .dataframe tbody tr th {\n",
       "        vertical-align: top;\n",
       "    }\n",
       "\n",
       "    .dataframe thead th {\n",
       "        text-align: right;\n",
       "    }\n",
       "</style>\n",
       "<table border=\"1\" class=\"dataframe\">\n",
       "  <thead>\n",
       "    <tr style=\"text-align: right;\">\n",
       "      <th></th>\n",
       "      <th>duration</th>\n",
       "      <th>user_id</th>\n",
       "    </tr>\n",
       "  </thead>\n",
       "  <tbody>\n",
       "    <tr>\n",
       "      <th>count</th>\n",
       "      <td>202607.000000</td>\n",
       "      <td>202607.000000</td>\n",
       "    </tr>\n",
       "    <tr>\n",
       "      <th>mean</th>\n",
       "      <td>6.755887</td>\n",
       "      <td>1253.940619</td>\n",
       "    </tr>\n",
       "    <tr>\n",
       "      <th>std</th>\n",
       "      <td>5.843365</td>\n",
       "      <td>144.722751</td>\n",
       "    </tr>\n",
       "    <tr>\n",
       "      <th>min</th>\n",
       "      <td>0.000000</td>\n",
       "      <td>1000.000000</td>\n",
       "    </tr>\n",
       "    <tr>\n",
       "      <th>25%</th>\n",
       "      <td>1.300000</td>\n",
       "      <td>1126.000000</td>\n",
       "    </tr>\n",
       "    <tr>\n",
       "      <th>50%</th>\n",
       "      <td>6.000000</td>\n",
       "      <td>1260.000000</td>\n",
       "    </tr>\n",
       "    <tr>\n",
       "      <th>75%</th>\n",
       "      <td>10.700000</td>\n",
       "      <td>1379.000000</td>\n",
       "    </tr>\n",
       "    <tr>\n",
       "      <th>max</th>\n",
       "      <td>38.000000</td>\n",
       "      <td>1499.000000</td>\n",
       "    </tr>\n",
       "  </tbody>\n",
       "</table>\n",
       "</div>"
      ],
      "text/plain": [
       "            duration        user_id\n",
       "count  202607.000000  202607.000000\n",
       "mean        6.755887    1253.940619\n",
       "std         5.843365     144.722751\n",
       "min         0.000000    1000.000000\n",
       "25%         1.300000    1126.000000\n",
       "50%         6.000000    1260.000000\n",
       "75%        10.700000    1379.000000\n",
       "max        38.000000    1499.000000"
      ]
     },
     "metadata": {},
     "output_type": "display_data"
    },
    {
     "data": {
      "text/plain": [
       "0"
      ]
     },
     "metadata": {},
     "output_type": "display_data"
    }
   ],
   "source": [
    "display(df_call.describe())\n",
    "display(df_call.duplicated().sum()) # наличие дубликатов"
   ]
  },
  {
   "cell_type": "code",
   "execution_count": 5,
   "metadata": {},
   "outputs": [
    {
     "data": {
      "text/html": [
       "<div>\n",
       "<style scoped>\n",
       "    .dataframe tbody tr th:only-of-type {\n",
       "        vertical-align: middle;\n",
       "    }\n",
       "\n",
       "    .dataframe tbody tr th {\n",
       "        vertical-align: top;\n",
       "    }\n",
       "\n",
       "    .dataframe thead th {\n",
       "        text-align: right;\n",
       "    }\n",
       "</style>\n",
       "<table border=\"1\" class=\"dataframe\">\n",
       "  <thead>\n",
       "    <tr style=\"text-align: right;\">\n",
       "      <th></th>\n",
       "      <th>id</th>\n",
       "      <th>mb_used</th>\n",
       "      <th>session_date</th>\n",
       "      <th>user_id</th>\n",
       "    </tr>\n",
       "  </thead>\n",
       "  <tbody>\n",
       "    <tr>\n",
       "      <th>0</th>\n",
       "      <td>1000_0</td>\n",
       "      <td>112.95</td>\n",
       "      <td>2018-11-25</td>\n",
       "      <td>1000</td>\n",
       "    </tr>\n",
       "    <tr>\n",
       "      <th>1</th>\n",
       "      <td>1000_1</td>\n",
       "      <td>1052.81</td>\n",
       "      <td>2018-09-07</td>\n",
       "      <td>1000</td>\n",
       "    </tr>\n",
       "    <tr>\n",
       "      <th>2</th>\n",
       "      <td>1000_2</td>\n",
       "      <td>1197.26</td>\n",
       "      <td>2018-06-25</td>\n",
       "      <td>1000</td>\n",
       "    </tr>\n",
       "    <tr>\n",
       "      <th>3</th>\n",
       "      <td>1000_3</td>\n",
       "      <td>550.27</td>\n",
       "      <td>2018-08-22</td>\n",
       "      <td>1000</td>\n",
       "    </tr>\n",
       "    <tr>\n",
       "      <th>4</th>\n",
       "      <td>1000_4</td>\n",
       "      <td>302.56</td>\n",
       "      <td>2018-09-24</td>\n",
       "      <td>1000</td>\n",
       "    </tr>\n",
       "    <tr>\n",
       "      <th>...</th>\n",
       "      <td>...</td>\n",
       "      <td>...</td>\n",
       "      <td>...</td>\n",
       "      <td>...</td>\n",
       "    </tr>\n",
       "    <tr>\n",
       "      <th>149391</th>\n",
       "      <td>1499_152</td>\n",
       "      <td>318.90</td>\n",
       "      <td>2018-10-03</td>\n",
       "      <td>1499</td>\n",
       "    </tr>\n",
       "    <tr>\n",
       "      <th>149392</th>\n",
       "      <td>1499_153</td>\n",
       "      <td>490.13</td>\n",
       "      <td>2018-12-14</td>\n",
       "      <td>1499</td>\n",
       "    </tr>\n",
       "    <tr>\n",
       "      <th>149393</th>\n",
       "      <td>1499_154</td>\n",
       "      <td>0.00</td>\n",
       "      <td>2018-10-27</td>\n",
       "      <td>1499</td>\n",
       "    </tr>\n",
       "    <tr>\n",
       "      <th>149394</th>\n",
       "      <td>1499_155</td>\n",
       "      <td>1246.32</td>\n",
       "      <td>2018-11-26</td>\n",
       "      <td>1499</td>\n",
       "    </tr>\n",
       "    <tr>\n",
       "      <th>149395</th>\n",
       "      <td>1499_156</td>\n",
       "      <td>544.37</td>\n",
       "      <td>2018-10-26</td>\n",
       "      <td>1499</td>\n",
       "    </tr>\n",
       "  </tbody>\n",
       "</table>\n",
       "<p>149396 rows × 4 columns</p>\n",
       "</div>"
      ],
      "text/plain": [
       "              id  mb_used session_date  user_id\n",
       "0         1000_0   112.95   2018-11-25     1000\n",
       "1         1000_1  1052.81   2018-09-07     1000\n",
       "2         1000_2  1197.26   2018-06-25     1000\n",
       "3         1000_3   550.27   2018-08-22     1000\n",
       "4         1000_4   302.56   2018-09-24     1000\n",
       "...          ...      ...          ...      ...\n",
       "149391  1499_152   318.90   2018-10-03     1499\n",
       "149392  1499_153   490.13   2018-12-14     1499\n",
       "149393  1499_154     0.00   2018-10-27     1499\n",
       "149394  1499_155  1246.32   2018-11-26     1499\n",
       "149395  1499_156   544.37   2018-10-26     1499\n",
       "\n",
       "[149396 rows x 4 columns]"
      ]
     },
     "execution_count": 5,
     "metadata": {},
     "output_type": "execute_result"
    }
   ],
   "source": [
    "df_int = pd.read_csv('/datasets/internet.csv', index_col=0)\n",
    "df_int "
   ]
  },
  {
   "cell_type": "code",
   "execution_count": 6,
   "metadata": {},
   "outputs": [
    {
     "name": "stdout",
     "output_type": "stream",
     "text": [
      "<class 'pandas.core.frame.DataFrame'>\n",
      "Int64Index: 149396 entries, 0 to 149395\n",
      "Data columns (total 4 columns):\n",
      " #   Column        Non-Null Count   Dtype  \n",
      "---  ------        --------------   -----  \n",
      " 0   id            149396 non-null  object \n",
      " 1   mb_used       149396 non-null  float64\n",
      " 2   session_date  149396 non-null  object \n",
      " 3   user_id       149396 non-null  int64  \n",
      "dtypes: float64(1), int64(1), object(2)\n",
      "memory usage: 5.7+ MB\n"
     ]
    }
   ],
   "source": [
    "df_int.info()"
   ]
  },
  {
   "cell_type": "code",
   "execution_count": 7,
   "metadata": {},
   "outputs": [
    {
     "data": {
      "text/html": [
       "<div>\n",
       "<style scoped>\n",
       "    .dataframe tbody tr th:only-of-type {\n",
       "        vertical-align: middle;\n",
       "    }\n",
       "\n",
       "    .dataframe tbody tr th {\n",
       "        vertical-align: top;\n",
       "    }\n",
       "\n",
       "    .dataframe thead th {\n",
       "        text-align: right;\n",
       "    }\n",
       "</style>\n",
       "<table border=\"1\" class=\"dataframe\">\n",
       "  <thead>\n",
       "    <tr style=\"text-align: right;\">\n",
       "      <th></th>\n",
       "      <th>mb_used</th>\n",
       "      <th>user_id</th>\n",
       "    </tr>\n",
       "  </thead>\n",
       "  <tbody>\n",
       "    <tr>\n",
       "      <th>count</th>\n",
       "      <td>149396.000000</td>\n",
       "      <td>149396.000000</td>\n",
       "    </tr>\n",
       "    <tr>\n",
       "      <th>mean</th>\n",
       "      <td>370.192426</td>\n",
       "      <td>1252.099842</td>\n",
       "    </tr>\n",
       "    <tr>\n",
       "      <th>std</th>\n",
       "      <td>278.300951</td>\n",
       "      <td>144.050823</td>\n",
       "    </tr>\n",
       "    <tr>\n",
       "      <th>min</th>\n",
       "      <td>0.000000</td>\n",
       "      <td>1000.000000</td>\n",
       "    </tr>\n",
       "    <tr>\n",
       "      <th>25%</th>\n",
       "      <td>138.187500</td>\n",
       "      <td>1130.000000</td>\n",
       "    </tr>\n",
       "    <tr>\n",
       "      <th>50%</th>\n",
       "      <td>348.015000</td>\n",
       "      <td>1251.000000</td>\n",
       "    </tr>\n",
       "    <tr>\n",
       "      <th>75%</th>\n",
       "      <td>559.552500</td>\n",
       "      <td>1380.000000</td>\n",
       "    </tr>\n",
       "    <tr>\n",
       "      <th>max</th>\n",
       "      <td>1724.830000</td>\n",
       "      <td>1499.000000</td>\n",
       "    </tr>\n",
       "  </tbody>\n",
       "</table>\n",
       "</div>"
      ],
      "text/plain": [
       "             mb_used        user_id\n",
       "count  149396.000000  149396.000000\n",
       "mean      370.192426    1252.099842\n",
       "std       278.300951     144.050823\n",
       "min         0.000000    1000.000000\n",
       "25%       138.187500    1130.000000\n",
       "50%       348.015000    1251.000000\n",
       "75%       559.552500    1380.000000\n",
       "max      1724.830000    1499.000000"
      ]
     },
     "metadata": {},
     "output_type": "display_data"
    },
    {
     "data": {
      "text/plain": [
       "0"
      ]
     },
     "metadata": {},
     "output_type": "display_data"
    }
   ],
   "source": [
    "display(df_int.describe())\n",
    "display(df_int.duplicated().sum()) # наличие дубликатов"
   ]
  },
  {
   "cell_type": "code",
   "execution_count": 8,
   "metadata": {},
   "outputs": [
    {
     "data": {
      "text/html": [
       "<div>\n",
       "<style scoped>\n",
       "    .dataframe tbody tr th:only-of-type {\n",
       "        vertical-align: middle;\n",
       "    }\n",
       "\n",
       "    .dataframe tbody tr th {\n",
       "        vertical-align: top;\n",
       "    }\n",
       "\n",
       "    .dataframe thead th {\n",
       "        text-align: right;\n",
       "    }\n",
       "</style>\n",
       "<table border=\"1\" class=\"dataframe\">\n",
       "  <thead>\n",
       "    <tr style=\"text-align: right;\">\n",
       "      <th></th>\n",
       "      <th>id</th>\n",
       "    </tr>\n",
       "    <tr>\n",
       "      <th>user_id</th>\n",
       "      <th></th>\n",
       "    </tr>\n",
       "  </thead>\n",
       "  <tbody>\n",
       "    <tr>\n",
       "      <th>1000</th>\n",
       "      <td>211</td>\n",
       "    </tr>\n",
       "    <tr>\n",
       "      <th>1001</th>\n",
       "      <td>96</td>\n",
       "    </tr>\n",
       "    <tr>\n",
       "      <th>1002</th>\n",
       "      <td>369</td>\n",
       "    </tr>\n",
       "    <tr>\n",
       "      <th>1003</th>\n",
       "      <td>104</td>\n",
       "    </tr>\n",
       "    <tr>\n",
       "      <th>1004</th>\n",
       "      <td>300</td>\n",
       "    </tr>\n",
       "    <tr>\n",
       "      <th>...</th>\n",
       "      <td>...</td>\n",
       "    </tr>\n",
       "    <tr>\n",
       "      <th>1495</th>\n",
       "      <td>254</td>\n",
       "    </tr>\n",
       "    <tr>\n",
       "      <th>1496</th>\n",
       "      <td>834</td>\n",
       "    </tr>\n",
       "    <tr>\n",
       "      <th>1497</th>\n",
       "      <td>121</td>\n",
       "    </tr>\n",
       "    <tr>\n",
       "      <th>1498</th>\n",
       "      <td>232</td>\n",
       "    </tr>\n",
       "    <tr>\n",
       "      <th>1499</th>\n",
       "      <td>157</td>\n",
       "    </tr>\n",
       "  </tbody>\n",
       "</table>\n",
       "<p>497 rows × 1 columns</p>\n",
       "</div>"
      ],
      "text/plain": [
       "          id\n",
       "user_id     \n",
       "1000     211\n",
       "1001      96\n",
       "1002     369\n",
       "1003     104\n",
       "1004     300\n",
       "...      ...\n",
       "1495     254\n",
       "1496     834\n",
       "1497     121\n",
       "1498     232\n",
       "1499     157\n",
       "\n",
       "[497 rows x 1 columns]"
      ]
     },
     "metadata": {},
     "output_type": "display_data"
    },
    {
     "data": {
      "text/plain": [
       "array([[<AxesSubplot:title={'center':'id'}>]], dtype=object)"
      ]
     },
     "execution_count": 8,
     "metadata": {},
     "output_type": "execute_result"
    },
    {
     "data": {
      "image/png": "[encoded data removed]",
      "text/plain": [
       "<Figure size 432x288 with 1 Axes>"
      ]
     },
     "metadata": {
      "needs_background": "light"
     },
     "output_type": "display_data"
    }
   ],
   "source": [
    "group = df_int.groupby(by = 'user_id').agg({'id':'count'})\n",
    "display(group)\n",
    "group.hist()"
   ]
  },
  {
   "cell_type": "code",
   "execution_count": 9,
   "metadata": {},
   "outputs": [
    {
     "data": {
      "text/html": [
       "<div>\n",
       "<style scoped>\n",
       "    .dataframe tbody tr th:only-of-type {\n",
       "        vertical-align: middle;\n",
       "    }\n",
       "\n",
       "    .dataframe tbody tr th {\n",
       "        vertical-align: top;\n",
       "    }\n",
       "\n",
       "    .dataframe thead th {\n",
       "        text-align: right;\n",
       "    }\n",
       "</style>\n",
       "<table border=\"1\" class=\"dataframe\">\n",
       "  <thead>\n",
       "    <tr style=\"text-align: right;\">\n",
       "      <th></th>\n",
       "      <th>id</th>\n",
       "      <th>message_date</th>\n",
       "      <th>user_id</th>\n",
       "    </tr>\n",
       "  </thead>\n",
       "  <tbody>\n",
       "    <tr>\n",
       "      <th>0</th>\n",
       "      <td>1000_0</td>\n",
       "      <td>2018-06-27</td>\n",
       "      <td>1000</td>\n",
       "    </tr>\n",
       "    <tr>\n",
       "      <th>1</th>\n",
       "      <td>1000_1</td>\n",
       "      <td>2018-10-08</td>\n",
       "      <td>1000</td>\n",
       "    </tr>\n",
       "    <tr>\n",
       "      <th>2</th>\n",
       "      <td>1000_2</td>\n",
       "      <td>2018-08-04</td>\n",
       "      <td>1000</td>\n",
       "    </tr>\n",
       "    <tr>\n",
       "      <th>3</th>\n",
       "      <td>1000_3</td>\n",
       "      <td>2018-06-16</td>\n",
       "      <td>1000</td>\n",
       "    </tr>\n",
       "    <tr>\n",
       "      <th>4</th>\n",
       "      <td>1000_4</td>\n",
       "      <td>2018-12-05</td>\n",
       "      <td>1000</td>\n",
       "    </tr>\n",
       "    <tr>\n",
       "      <th>...</th>\n",
       "      <td>...</td>\n",
       "      <td>...</td>\n",
       "      <td>...</td>\n",
       "    </tr>\n",
       "    <tr>\n",
       "      <th>123031</th>\n",
       "      <td>1499_179</td>\n",
       "      <td>2018-12-12</td>\n",
       "      <td>1499</td>\n",
       "    </tr>\n",
       "    <tr>\n",
       "      <th>123032</th>\n",
       "      <td>1499_180</td>\n",
       "      <td>2018-09-28</td>\n",
       "      <td>1499</td>\n",
       "    </tr>\n",
       "    <tr>\n",
       "      <th>123033</th>\n",
       "      <td>1499_181</td>\n",
       "      <td>2018-09-27</td>\n",
       "      <td>1499</td>\n",
       "    </tr>\n",
       "    <tr>\n",
       "      <th>123034</th>\n",
       "      <td>1499_182</td>\n",
       "      <td>2018-11-15</td>\n",
       "      <td>1499</td>\n",
       "    </tr>\n",
       "    <tr>\n",
       "      <th>123035</th>\n",
       "      <td>1499_183</td>\n",
       "      <td>2018-11-16</td>\n",
       "      <td>1499</td>\n",
       "    </tr>\n",
       "  </tbody>\n",
       "</table>\n",
       "<p>123036 rows × 3 columns</p>\n",
       "</div>"
      ],
      "text/plain": [
       "              id message_date  user_id\n",
       "0         1000_0   2018-06-27     1000\n",
       "1         1000_1   2018-10-08     1000\n",
       "2         1000_2   2018-08-04     1000\n",
       "3         1000_3   2018-06-16     1000\n",
       "4         1000_4   2018-12-05     1000\n",
       "...          ...          ...      ...\n",
       "123031  1499_179   2018-12-12     1499\n",
       "123032  1499_180   2018-09-28     1499\n",
       "123033  1499_181   2018-09-27     1499\n",
       "123034  1499_182   2018-11-15     1499\n",
       "123035  1499_183   2018-11-16     1499\n",
       "\n",
       "[123036 rows x 3 columns]"
      ]
     },
     "execution_count": 9,
     "metadata": {},
     "output_type": "execute_result"
    }
   ],
   "source": [
    "df_mess = pd.read_csv('/datasets/messages.csv')\n",
    "df_mess"
   ]
  },
  {
   "cell_type": "code",
   "execution_count": 10,
   "metadata": {},
   "outputs": [
    {
     "name": "stdout",
     "output_type": "stream",
     "text": [
      "<class 'pandas.core.frame.DataFrame'>\n",
      "RangeIndex: 123036 entries, 0 to 123035\n",
      "Data columns (total 3 columns):\n",
      " #   Column        Non-Null Count   Dtype \n",
      "---  ------        --------------   ----- \n",
      " 0   id            123036 non-null  object\n",
      " 1   message_date  123036 non-null  object\n",
      " 2   user_id       123036 non-null  int64 \n",
      "dtypes: int64(1), object(2)\n",
      "memory usage: 2.8+ MB\n"
     ]
    }
   ],
   "source": [
    "df_mess.info()"
   ]
  },
  {
   "cell_type": "code",
   "execution_count": 11,
   "metadata": {},
   "outputs": [
    {
     "data": {
      "text/html": [
       "<div>\n",
       "<style scoped>\n",
       "    .dataframe tbody tr th:only-of-type {\n",
       "        vertical-align: middle;\n",
       "    }\n",
       "\n",
       "    .dataframe tbody tr th {\n",
       "        vertical-align: top;\n",
       "    }\n",
       "\n",
       "    .dataframe thead th {\n",
       "        text-align: right;\n",
       "    }\n",
       "</style>\n",
       "<table border=\"1\" class=\"dataframe\">\n",
       "  <thead>\n",
       "    <tr style=\"text-align: right;\">\n",
       "      <th></th>\n",
       "      <th>user_id</th>\n",
       "    </tr>\n",
       "  </thead>\n",
       "  <tbody>\n",
       "    <tr>\n",
       "      <th>count</th>\n",
       "      <td>123036.000000</td>\n",
       "    </tr>\n",
       "    <tr>\n",
       "      <th>mean</th>\n",
       "      <td>1256.989410</td>\n",
       "    </tr>\n",
       "    <tr>\n",
       "      <th>std</th>\n",
       "      <td>143.523967</td>\n",
       "    </tr>\n",
       "    <tr>\n",
       "      <th>min</th>\n",
       "      <td>1000.000000</td>\n",
       "    </tr>\n",
       "    <tr>\n",
       "      <th>25%</th>\n",
       "      <td>1134.000000</td>\n",
       "    </tr>\n",
       "    <tr>\n",
       "      <th>50%</th>\n",
       "      <td>1271.000000</td>\n",
       "    </tr>\n",
       "    <tr>\n",
       "      <th>75%</th>\n",
       "      <td>1381.000000</td>\n",
       "    </tr>\n",
       "    <tr>\n",
       "      <th>max</th>\n",
       "      <td>1499.000000</td>\n",
       "    </tr>\n",
       "  </tbody>\n",
       "</table>\n",
       "</div>"
      ],
      "text/plain": [
       "             user_id\n",
       "count  123036.000000\n",
       "mean     1256.989410\n",
       "std       143.523967\n",
       "min      1000.000000\n",
       "25%      1134.000000\n",
       "50%      1271.000000\n",
       "75%      1381.000000\n",
       "max      1499.000000"
      ]
     },
     "metadata": {},
     "output_type": "display_data"
    },
    {
     "data": {
      "text/plain": [
       "0"
      ]
     },
     "metadata": {},
     "output_type": "display_data"
    }
   ],
   "source": [
    "display(df_mess.describe())\n",
    "display(df_mess.duplicated().sum()) # наличие дубликатов"
   ]
  },
  {
   "cell_type": "code",
   "execution_count": 12,
   "metadata": {},
   "outputs": [
    {
     "data": {
      "text/html": [
       "<div>\n",
       "<style scoped>\n",
       "    .dataframe tbody tr th:only-of-type {\n",
       "        vertical-align: middle;\n",
       "    }\n",
       "\n",
       "    .dataframe tbody tr th {\n",
       "        vertical-align: top;\n",
       "    }\n",
       "\n",
       "    .dataframe thead th {\n",
       "        text-align: right;\n",
       "    }\n",
       "</style>\n",
       "<table border=\"1\" class=\"dataframe\">\n",
       "  <thead>\n",
       "    <tr style=\"text-align: right;\">\n",
       "      <th></th>\n",
       "      <th>messages_included</th>\n",
       "      <th>mb_per_month_included</th>\n",
       "      <th>minutes_included</th>\n",
       "      <th>rub_monthly_fee</th>\n",
       "      <th>rub_per_gb</th>\n",
       "      <th>rub_per_message</th>\n",
       "      <th>rub_per_minute</th>\n",
       "      <th>tariff_name</th>\n",
       "    </tr>\n",
       "  </thead>\n",
       "  <tbody>\n",
       "    <tr>\n",
       "      <th>0</th>\n",
       "      <td>50</td>\n",
       "      <td>15360</td>\n",
       "      <td>500</td>\n",
       "      <td>550</td>\n",
       "      <td>200</td>\n",
       "      <td>3</td>\n",
       "      <td>3</td>\n",
       "      <td>smart</td>\n",
       "    </tr>\n",
       "    <tr>\n",
       "      <th>1</th>\n",
       "      <td>1000</td>\n",
       "      <td>30720</td>\n",
       "      <td>3000</td>\n",
       "      <td>1950</td>\n",
       "      <td>150</td>\n",
       "      <td>1</td>\n",
       "      <td>1</td>\n",
       "      <td>ultra</td>\n",
       "    </tr>\n",
       "  </tbody>\n",
       "</table>\n",
       "</div>"
      ],
      "text/plain": [
       "   messages_included  mb_per_month_included  minutes_included  \\\n",
       "0                 50                  15360               500   \n",
       "1               1000                  30720              3000   \n",
       "\n",
       "   rub_monthly_fee  rub_per_gb  rub_per_message  rub_per_minute tariff_name  \n",
       "0              550         200                3               3       smart  \n",
       "1             1950         150                1               1       ultra  "
      ]
     },
     "execution_count": 12,
     "metadata": {},
     "output_type": "execute_result"
    }
   ],
   "source": [
    "df_tarif = pd.read_csv('/datasets/tariffs.csv')\n",
    "df_tarif"
   ]
  },
  {
   "cell_type": "code",
   "execution_count": 13,
   "metadata": {},
   "outputs": [
    {
     "data": {
      "text/html": [
       "<div>\n",
       "<style scoped>\n",
       "    .dataframe tbody tr th:only-of-type {\n",
       "        vertical-align: middle;\n",
       "    }\n",
       "\n",
       "    .dataframe tbody tr th {\n",
       "        vertical-align: top;\n",
       "    }\n",
       "\n",
       "    .dataframe thead th {\n",
       "        text-align: right;\n",
       "    }\n",
       "</style>\n",
       "<table border=\"1\" class=\"dataframe\">\n",
       "  <thead>\n",
       "    <tr style=\"text-align: right;\">\n",
       "      <th></th>\n",
       "      <th>user_id</th>\n",
       "      <th>age</th>\n",
       "      <th>churn_date</th>\n",
       "      <th>city</th>\n",
       "      <th>first_name</th>\n",
       "      <th>last_name</th>\n",
       "      <th>reg_date</th>\n",
       "      <th>tariff</th>\n",
       "    </tr>\n",
       "  </thead>\n",
       "  <tbody>\n",
       "    <tr>\n",
       "      <th>0</th>\n",
       "      <td>1000</td>\n",
       "      <td>52</td>\n",
       "      <td>NaN</td>\n",
       "      <td>Краснодар</td>\n",
       "      <td>Рафаил</td>\n",
       "      <td>Верещагин</td>\n",
       "      <td>2018-05-25</td>\n",
       "      <td>ultra</td>\n",
       "    </tr>\n",
       "    <tr>\n",
       "      <th>1</th>\n",
       "      <td>1001</td>\n",
       "      <td>41</td>\n",
       "      <td>NaN</td>\n",
       "      <td>Москва</td>\n",
       "      <td>Иван</td>\n",
       "      <td>Ежов</td>\n",
       "      <td>2018-11-01</td>\n",
       "      <td>smart</td>\n",
       "    </tr>\n",
       "    <tr>\n",
       "      <th>2</th>\n",
       "      <td>1002</td>\n",
       "      <td>59</td>\n",
       "      <td>NaN</td>\n",
       "      <td>Стерлитамак</td>\n",
       "      <td>Евгений</td>\n",
       "      <td>Абрамович</td>\n",
       "      <td>2018-06-17</td>\n",
       "      <td>smart</td>\n",
       "    </tr>\n",
       "    <tr>\n",
       "      <th>3</th>\n",
       "      <td>1003</td>\n",
       "      <td>23</td>\n",
       "      <td>NaN</td>\n",
       "      <td>Москва</td>\n",
       "      <td>Белла</td>\n",
       "      <td>Белякова</td>\n",
       "      <td>2018-08-17</td>\n",
       "      <td>ultra</td>\n",
       "    </tr>\n",
       "    <tr>\n",
       "      <th>4</th>\n",
       "      <td>1004</td>\n",
       "      <td>68</td>\n",
       "      <td>NaN</td>\n",
       "      <td>Новокузнецк</td>\n",
       "      <td>Татьяна</td>\n",
       "      <td>Авдеенко</td>\n",
       "      <td>2018-05-14</td>\n",
       "      <td>ultra</td>\n",
       "    </tr>\n",
       "    <tr>\n",
       "      <th>...</th>\n",
       "      <td>...</td>\n",
       "      <td>...</td>\n",
       "      <td>...</td>\n",
       "      <td>...</td>\n",
       "      <td>...</td>\n",
       "      <td>...</td>\n",
       "      <td>...</td>\n",
       "      <td>...</td>\n",
       "    </tr>\n",
       "    <tr>\n",
       "      <th>495</th>\n",
       "      <td>1495</td>\n",
       "      <td>65</td>\n",
       "      <td>NaN</td>\n",
       "      <td>Иркутск</td>\n",
       "      <td>Авксентий</td>\n",
       "      <td>Фокин</td>\n",
       "      <td>2018-08-28</td>\n",
       "      <td>ultra</td>\n",
       "    </tr>\n",
       "    <tr>\n",
       "      <th>496</th>\n",
       "      <td>1496</td>\n",
       "      <td>36</td>\n",
       "      <td>NaN</td>\n",
       "      <td>Вологда</td>\n",
       "      <td>Трифон</td>\n",
       "      <td>Блохин</td>\n",
       "      <td>2018-01-27</td>\n",
       "      <td>smart</td>\n",
       "    </tr>\n",
       "    <tr>\n",
       "      <th>497</th>\n",
       "      <td>1497</td>\n",
       "      <td>32</td>\n",
       "      <td>NaN</td>\n",
       "      <td>Челябинск</td>\n",
       "      <td>Каролина</td>\n",
       "      <td>Агеева</td>\n",
       "      <td>2018-10-09</td>\n",
       "      <td>smart</td>\n",
       "    </tr>\n",
       "    <tr>\n",
       "      <th>498</th>\n",
       "      <td>1498</td>\n",
       "      <td>68</td>\n",
       "      <td>2018-10-25</td>\n",
       "      <td>Владикавказ</td>\n",
       "      <td>Всеволод</td>\n",
       "      <td>Акимчин</td>\n",
       "      <td>2018-07-19</td>\n",
       "      <td>smart</td>\n",
       "    </tr>\n",
       "    <tr>\n",
       "      <th>499</th>\n",
       "      <td>1499</td>\n",
       "      <td>35</td>\n",
       "      <td>NaN</td>\n",
       "      <td>Пермь</td>\n",
       "      <td>Гектор</td>\n",
       "      <td>Корнилов</td>\n",
       "      <td>2018-09-27</td>\n",
       "      <td>smart</td>\n",
       "    </tr>\n",
       "  </tbody>\n",
       "</table>\n",
       "<p>500 rows × 8 columns</p>\n",
       "</div>"
      ],
      "text/plain": [
       "     user_id  age  churn_date         city first_name  last_name    reg_date  \\\n",
       "0       1000   52         NaN    Краснодар     Рафаил  Верещагин  2018-05-25   \n",
       "1       1001   41         NaN       Москва       Иван       Ежов  2018-11-01   \n",
       "2       1002   59         NaN  Стерлитамак    Евгений  Абрамович  2018-06-17   \n",
       "3       1003   23         NaN       Москва      Белла   Белякова  2018-08-17   \n",
       "4       1004   68         NaN  Новокузнецк    Татьяна   Авдеенко  2018-05-14   \n",
       "..       ...  ...         ...          ...        ...        ...         ...   \n",
       "495     1495   65         NaN      Иркутск  Авксентий      Фокин  2018-08-28   \n",
       "496     1496   36         NaN      Вологда     Трифон     Блохин  2018-01-27   \n",
       "497     1497   32         NaN    Челябинск   Каролина     Агеева  2018-10-09   \n",
       "498     1498   68  2018-10-25  Владикавказ   Всеволод    Акимчин  2018-07-19   \n",
       "499     1499   35         NaN        Пермь     Гектор   Корнилов  2018-09-27   \n",
       "\n",
       "    tariff  \n",
       "0    ultra  \n",
       "1    smart  \n",
       "2    smart  \n",
       "3    ultra  \n",
       "4    ultra  \n",
       "..     ...  \n",
       "495  ultra  \n",
       "496  smart  \n",
       "497  smart  \n",
       "498  smart  \n",
       "499  smart  \n",
       "\n",
       "[500 rows x 8 columns]"
      ]
     },
     "execution_count": 13,
     "metadata": {},
     "output_type": "execute_result"
    }
   ],
   "source": [
    "df_users = pd.read_csv('/datasets/users.csv')\n",
    "df_users"
   ]
  },
  {
   "cell_type": "code",
   "execution_count": 14,
   "metadata": {},
   "outputs": [
    {
     "name": "stdout",
     "output_type": "stream",
     "text": [
      "<class 'pandas.core.frame.DataFrame'>\n",
      "RangeIndex: 500 entries, 0 to 499\n",
      "Data columns (total 8 columns):\n",
      " #   Column      Non-Null Count  Dtype \n",
      "---  ------      --------------  ----- \n",
      " 0   user_id     500 non-null    int64 \n",
      " 1   age         500 non-null    int64 \n",
      " 2   churn_date  38 non-null     object\n",
      " 3   city        500 non-null    object\n",
      " 4   first_name  500 non-null    object\n",
      " 5   last_name   500 non-null    object\n",
      " 6   reg_date    500 non-null    object\n",
      " 7   tariff      500 non-null    object\n",
      "dtypes: int64(2), object(6)\n",
      "memory usage: 31.4+ KB\n"
     ]
    }
   ],
   "source": [
    "df_users.info()"
   ]
  },
  {
   "cell_type": "code",
   "execution_count": 15,
   "metadata": {},
   "outputs": [
    {
     "data": {
      "text/html": [
       "<div>\n",
       "<style scoped>\n",
       "    .dataframe tbody tr th:only-of-type {\n",
       "        vertical-align: middle;\n",
       "    }\n",
       "\n",
       "    .dataframe tbody tr th {\n",
       "        vertical-align: top;\n",
       "    }\n",
       "\n",
       "    .dataframe thead th {\n",
       "        text-align: right;\n",
       "    }\n",
       "</style>\n",
       "<table border=\"1\" class=\"dataframe\">\n",
       "  <thead>\n",
       "    <tr style=\"text-align: right;\">\n",
       "      <th></th>\n",
       "      <th>user_id</th>\n",
       "      <th>age</th>\n",
       "    </tr>\n",
       "  </thead>\n",
       "  <tbody>\n",
       "    <tr>\n",
       "      <th>count</th>\n",
       "      <td>500.000000</td>\n",
       "      <td>500.00000</td>\n",
       "    </tr>\n",
       "    <tr>\n",
       "      <th>mean</th>\n",
       "      <td>1249.500000</td>\n",
       "      <td>46.58800</td>\n",
       "    </tr>\n",
       "    <tr>\n",
       "      <th>std</th>\n",
       "      <td>144.481833</td>\n",
       "      <td>16.66763</td>\n",
       "    </tr>\n",
       "    <tr>\n",
       "      <th>min</th>\n",
       "      <td>1000.000000</td>\n",
       "      <td>18.00000</td>\n",
       "    </tr>\n",
       "    <tr>\n",
       "      <th>25%</th>\n",
       "      <td>1124.750000</td>\n",
       "      <td>32.00000</td>\n",
       "    </tr>\n",
       "    <tr>\n",
       "      <th>50%</th>\n",
       "      <td>1249.500000</td>\n",
       "      <td>46.00000</td>\n",
       "    </tr>\n",
       "    <tr>\n",
       "      <th>75%</th>\n",
       "      <td>1374.250000</td>\n",
       "      <td>62.00000</td>\n",
       "    </tr>\n",
       "    <tr>\n",
       "      <th>max</th>\n",
       "      <td>1499.000000</td>\n",
       "      <td>75.00000</td>\n",
       "    </tr>\n",
       "  </tbody>\n",
       "</table>\n",
       "</div>"
      ],
      "text/plain": [
       "           user_id        age\n",
       "count   500.000000  500.00000\n",
       "mean   1249.500000   46.58800\n",
       "std     144.481833   16.66763\n",
       "min    1000.000000   18.00000\n",
       "25%    1124.750000   32.00000\n",
       "50%    1249.500000   46.00000\n",
       "75%    1374.250000   62.00000\n",
       "max    1499.000000   75.00000"
      ]
     },
     "execution_count": 15,
     "metadata": {},
     "output_type": "execute_result"
    }
   ],
   "source": [
    "df_users.describe()"
   ]
  },
  {
   "cell_type": "code",
   "execution_count": 16,
   "metadata": {},
   "outputs": [
    {
     "data": {
      "text/html": [
       "<div>\n",
       "<style scoped>\n",
       "    .dataframe tbody tr th:only-of-type {\n",
       "        vertical-align: middle;\n",
       "    }\n",
       "\n",
       "    .dataframe tbody tr th {\n",
       "        vertical-align: top;\n",
       "    }\n",
       "\n",
       "    .dataframe thead th {\n",
       "        text-align: right;\n",
       "    }\n",
       "</style>\n",
       "<table border=\"1\" class=\"dataframe\">\n",
       "  <thead>\n",
       "    <tr style=\"text-align: right;\">\n",
       "      <th></th>\n",
       "      <th>user_id</th>\n",
       "      <th>age</th>\n",
       "    </tr>\n",
       "  </thead>\n",
       "  <tbody>\n",
       "    <tr>\n",
       "      <th>count</th>\n",
       "      <td>500.000000</td>\n",
       "      <td>500.00000</td>\n",
       "    </tr>\n",
       "    <tr>\n",
       "      <th>mean</th>\n",
       "      <td>1249.500000</td>\n",
       "      <td>46.58800</td>\n",
       "    </tr>\n",
       "    <tr>\n",
       "      <th>std</th>\n",
       "      <td>144.481833</td>\n",
       "      <td>16.66763</td>\n",
       "    </tr>\n",
       "    <tr>\n",
       "      <th>min</th>\n",
       "      <td>1000.000000</td>\n",
       "      <td>18.00000</td>\n",
       "    </tr>\n",
       "    <tr>\n",
       "      <th>25%</th>\n",
       "      <td>1124.750000</td>\n",
       "      <td>32.00000</td>\n",
       "    </tr>\n",
       "    <tr>\n",
       "      <th>50%</th>\n",
       "      <td>1249.500000</td>\n",
       "      <td>46.00000</td>\n",
       "    </tr>\n",
       "    <tr>\n",
       "      <th>75%</th>\n",
       "      <td>1374.250000</td>\n",
       "      <td>62.00000</td>\n",
       "    </tr>\n",
       "    <tr>\n",
       "      <th>max</th>\n",
       "      <td>1499.000000</td>\n",
       "      <td>75.00000</td>\n",
       "    </tr>\n",
       "  </tbody>\n",
       "</table>\n",
       "</div>"
      ],
      "text/plain": [
       "           user_id        age\n",
       "count   500.000000  500.00000\n",
       "mean   1249.500000   46.58800\n",
       "std     144.481833   16.66763\n",
       "min    1000.000000   18.00000\n",
       "25%    1124.750000   32.00000\n",
       "50%    1249.500000   46.00000\n",
       "75%    1374.250000   62.00000\n",
       "max    1499.000000   75.00000"
      ]
     },
     "metadata": {},
     "output_type": "display_data"
    },
    {
     "data": {
      "text/plain": [
       "0"
      ]
     },
     "metadata": {},
     "output_type": "display_data"
    }
   ],
   "source": [
    "display(df_users.describe())\n",
    "display(df_users.duplicated().sum()) # наличие дубликатов"
   ]
  },
  {
   "cell_type": "code",
   "execution_count": 64,
   "metadata": {},
   "outputs": [
    {
     "data": {
      "image/png": "[encoded data removed]",
      "text/plain": [
       "<Figure size 432x288 with 1 Axes>"
      ]
     },
     "metadata": {
      "needs_background": "light"
     },
     "output_type": "display_data"
    }
   ],
   "source": [
    " df_int.mb_used.hist(bins = 50);"
   ]
  },
  {
   "cell_type": "markdown",
   "metadata": {},
   "source": [
    "### Переходим к обработке данных"
   ]
  },
  {
   "cell_type": "code",
   "execution_count": 18,
   "metadata": {},
   "outputs": [
    {
     "data": {
      "text/plain": [
       "id           0\n",
       "call_date    0\n",
       "duration     0\n",
       "user_id      0\n",
       "dtype: int64"
      ]
     },
     "execution_count": 18,
     "metadata": {},
     "output_type": "execute_result"
    }
   ],
   "source": [
    "#проверяем таблицу df_call на наличие пропусков\n",
    "df_call.isna().sum()"
   ]
  },
  {
   "cell_type": "code",
   "execution_count": 19,
   "metadata": {},
   "outputs": [
    {
     "data": {
      "text/html": [
       "<div>\n",
       "<style scoped>\n",
       "    .dataframe tbody tr th:only-of-type {\n",
       "        vertical-align: middle;\n",
       "    }\n",
       "\n",
       "    .dataframe tbody tr th {\n",
       "        vertical-align: top;\n",
       "    }\n",
       "\n",
       "    .dataframe thead th {\n",
       "        text-align: right;\n",
       "    }\n",
       "</style>\n",
       "<table border=\"1\" class=\"dataframe\">\n",
       "  <thead>\n",
       "    <tr style=\"text-align: right;\">\n",
       "      <th></th>\n",
       "      <th>id</th>\n",
       "      <th>call_date</th>\n",
       "      <th>duration</th>\n",
       "      <th>user_id</th>\n",
       "      <th>month</th>\n",
       "    </tr>\n",
       "  </thead>\n",
       "  <tbody>\n",
       "    <tr>\n",
       "      <th>0</th>\n",
       "      <td>1000_0</td>\n",
       "      <td>2018-07-25</td>\n",
       "      <td>0</td>\n",
       "      <td>1000</td>\n",
       "      <td>7</td>\n",
       "    </tr>\n",
       "    <tr>\n",
       "      <th>1</th>\n",
       "      <td>1000_1</td>\n",
       "      <td>2018-08-17</td>\n",
       "      <td>0</td>\n",
       "      <td>1000</td>\n",
       "      <td>8</td>\n",
       "    </tr>\n",
       "    <tr>\n",
       "      <th>2</th>\n",
       "      <td>1000_2</td>\n",
       "      <td>2018-06-11</td>\n",
       "      <td>3</td>\n",
       "      <td>1000</td>\n",
       "      <td>6</td>\n",
       "    </tr>\n",
       "    <tr>\n",
       "      <th>3</th>\n",
       "      <td>1000_3</td>\n",
       "      <td>2018-09-21</td>\n",
       "      <td>14</td>\n",
       "      <td>1000</td>\n",
       "      <td>9</td>\n",
       "    </tr>\n",
       "    <tr>\n",
       "      <th>4</th>\n",
       "      <td>1000_4</td>\n",
       "      <td>2018-12-15</td>\n",
       "      <td>6</td>\n",
       "      <td>1000</td>\n",
       "      <td>12</td>\n",
       "    </tr>\n",
       "    <tr>\n",
       "      <th>...</th>\n",
       "      <td>...</td>\n",
       "      <td>...</td>\n",
       "      <td>...</td>\n",
       "      <td>...</td>\n",
       "      <td>...</td>\n",
       "    </tr>\n",
       "    <tr>\n",
       "      <th>202602</th>\n",
       "      <td>1499_215</td>\n",
       "      <td>2018-12-26</td>\n",
       "      <td>1</td>\n",
       "      <td>1499</td>\n",
       "      <td>12</td>\n",
       "    </tr>\n",
       "    <tr>\n",
       "      <th>202603</th>\n",
       "      <td>1499_216</td>\n",
       "      <td>2018-10-18</td>\n",
       "      <td>19</td>\n",
       "      <td>1499</td>\n",
       "      <td>10</td>\n",
       "    </tr>\n",
       "    <tr>\n",
       "      <th>202604</th>\n",
       "      <td>1499_217</td>\n",
       "      <td>2018-11-10</td>\n",
       "      <td>11</td>\n",
       "      <td>1499</td>\n",
       "      <td>11</td>\n",
       "    </tr>\n",
       "    <tr>\n",
       "      <th>202605</th>\n",
       "      <td>1499_218</td>\n",
       "      <td>2018-10-06</td>\n",
       "      <td>5</td>\n",
       "      <td>1499</td>\n",
       "      <td>10</td>\n",
       "    </tr>\n",
       "    <tr>\n",
       "      <th>202606</th>\n",
       "      <td>1499_219</td>\n",
       "      <td>2018-12-14</td>\n",
       "      <td>20</td>\n",
       "      <td>1499</td>\n",
       "      <td>12</td>\n",
       "    </tr>\n",
       "  </tbody>\n",
       "</table>\n",
       "<p>202607 rows × 5 columns</p>\n",
       "</div>"
      ],
      "text/plain": [
       "              id  call_date  duration  user_id  month\n",
       "0         1000_0 2018-07-25         0     1000      7\n",
       "1         1000_1 2018-08-17         0     1000      8\n",
       "2         1000_2 2018-06-11         3     1000      6\n",
       "3         1000_3 2018-09-21        14     1000      9\n",
       "4         1000_4 2018-12-15         6     1000     12\n",
       "...          ...        ...       ...      ...    ...\n",
       "202602  1499_215 2018-12-26         1     1499     12\n",
       "202603  1499_216 2018-10-18        19     1499     10\n",
       "202604  1499_217 2018-11-10        11     1499     11\n",
       "202605  1499_218 2018-10-06         5     1499     10\n",
       "202606  1499_219 2018-12-14        20     1499     12\n",
       "\n",
       "[202607 rows x 5 columns]"
      ]
     },
     "execution_count": 19,
     "metadata": {},
     "output_type": "execute_result"
    }
   ],
   "source": [
    "#поменяем тип данных в столбце call_date на datetime и создадим новый столбец с месяцами\n",
    "df_call['call_date'] = pd.to_datetime(df_call['call_date'], format='%Y-%m-%d')\n",
    "df_call['month'] = pd.DatetimeIndex(df_call['call_date']).month\n",
    "\n",
    "#так как оператор округляет минуты в большую сторону, то и мы приведем столбец duration к int\n",
    "df_call['duration'] = np.ceil(df_call['duration']).astype('int')\n",
    "\n",
    "df_call"
   ]
  },
  {
   "cell_type": "code",
   "execution_count": 20,
   "metadata": {},
   "outputs": [
    {
     "data": {
      "text/plain": [
       "id              0\n",
       "mb_used         0\n",
       "session_date    0\n",
       "user_id         0\n",
       "dtype: int64"
      ]
     },
     "execution_count": 20,
     "metadata": {},
     "output_type": "execute_result"
    }
   ],
   "source": [
    "#проверяем таблицу df_int на наличие пропусков\n",
    "df_int.isna().sum()"
   ]
  },
  {
   "cell_type": "code",
   "execution_count": 21,
   "metadata": {},
   "outputs": [
    {
     "data": {
      "text/html": [
       "<div>\n",
       "<style scoped>\n",
       "    .dataframe tbody tr th:only-of-type {\n",
       "        vertical-align: middle;\n",
       "    }\n",
       "\n",
       "    .dataframe tbody tr th {\n",
       "        vertical-align: top;\n",
       "    }\n",
       "\n",
       "    .dataframe thead th {\n",
       "        text-align: right;\n",
       "    }\n",
       "</style>\n",
       "<table border=\"1\" class=\"dataframe\">\n",
       "  <thead>\n",
       "    <tr style=\"text-align: right;\">\n",
       "      <th></th>\n",
       "      <th>id</th>\n",
       "      <th>mb_used</th>\n",
       "      <th>session_date</th>\n",
       "      <th>user_id</th>\n",
       "      <th>month</th>\n",
       "    </tr>\n",
       "  </thead>\n",
       "  <tbody>\n",
       "    <tr>\n",
       "      <th>0</th>\n",
       "      <td>1000_0</td>\n",
       "      <td>112.95</td>\n",
       "      <td>2018-11-25</td>\n",
       "      <td>1000</td>\n",
       "      <td>11</td>\n",
       "    </tr>\n",
       "    <tr>\n",
       "      <th>1</th>\n",
       "      <td>1000_1</td>\n",
       "      <td>1052.81</td>\n",
       "      <td>2018-09-07</td>\n",
       "      <td>1000</td>\n",
       "      <td>9</td>\n",
       "    </tr>\n",
       "    <tr>\n",
       "      <th>2</th>\n",
       "      <td>1000_2</td>\n",
       "      <td>1197.26</td>\n",
       "      <td>2018-06-25</td>\n",
       "      <td>1000</td>\n",
       "      <td>6</td>\n",
       "    </tr>\n",
       "    <tr>\n",
       "      <th>3</th>\n",
       "      <td>1000_3</td>\n",
       "      <td>550.27</td>\n",
       "      <td>2018-08-22</td>\n",
       "      <td>1000</td>\n",
       "      <td>8</td>\n",
       "    </tr>\n",
       "    <tr>\n",
       "      <th>4</th>\n",
       "      <td>1000_4</td>\n",
       "      <td>302.56</td>\n",
       "      <td>2018-09-24</td>\n",
       "      <td>1000</td>\n",
       "      <td>9</td>\n",
       "    </tr>\n",
       "    <tr>\n",
       "      <th>...</th>\n",
       "      <td>...</td>\n",
       "      <td>...</td>\n",
       "      <td>...</td>\n",
       "      <td>...</td>\n",
       "      <td>...</td>\n",
       "    </tr>\n",
       "    <tr>\n",
       "      <th>149391</th>\n",
       "      <td>1499_152</td>\n",
       "      <td>318.90</td>\n",
       "      <td>2018-10-03</td>\n",
       "      <td>1499</td>\n",
       "      <td>10</td>\n",
       "    </tr>\n",
       "    <tr>\n",
       "      <th>149392</th>\n",
       "      <td>1499_153</td>\n",
       "      <td>490.13</td>\n",
       "      <td>2018-12-14</td>\n",
       "      <td>1499</td>\n",
       "      <td>12</td>\n",
       "    </tr>\n",
       "    <tr>\n",
       "      <th>149393</th>\n",
       "      <td>1499_154</td>\n",
       "      <td>0.00</td>\n",
       "      <td>2018-10-27</td>\n",
       "      <td>1499</td>\n",
       "      <td>10</td>\n",
       "    </tr>\n",
       "    <tr>\n",
       "      <th>149394</th>\n",
       "      <td>1499_155</td>\n",
       "      <td>1246.32</td>\n",
       "      <td>2018-11-26</td>\n",
       "      <td>1499</td>\n",
       "      <td>11</td>\n",
       "    </tr>\n",
       "    <tr>\n",
       "      <th>149395</th>\n",
       "      <td>1499_156</td>\n",
       "      <td>544.37</td>\n",
       "      <td>2018-10-26</td>\n",
       "      <td>1499</td>\n",
       "      <td>10</td>\n",
       "    </tr>\n",
       "  </tbody>\n",
       "</table>\n",
       "<p>149396 rows × 5 columns</p>\n",
       "</div>"
      ],
      "text/plain": [
       "              id  mb_used session_date  user_id  month\n",
       "0         1000_0   112.95   2018-11-25     1000     11\n",
       "1         1000_1  1052.81   2018-09-07     1000      9\n",
       "2         1000_2  1197.26   2018-06-25     1000      6\n",
       "3         1000_3   550.27   2018-08-22     1000      8\n",
       "4         1000_4   302.56   2018-09-24     1000      9\n",
       "...          ...      ...          ...      ...    ...\n",
       "149391  1499_152   318.90   2018-10-03     1499     10\n",
       "149392  1499_153   490.13   2018-12-14     1499     12\n",
       "149393  1499_154     0.00   2018-10-27     1499     10\n",
       "149394  1499_155  1246.32   2018-11-26     1499     11\n",
       "149395  1499_156   544.37   2018-10-26     1499     10\n",
       "\n",
       "[149396 rows x 5 columns]"
      ]
     },
     "execution_count": 21,
     "metadata": {},
     "output_type": "execute_result"
    }
   ],
   "source": [
    "#поменяем тип данных в столбце session_date на datetime и создадим новый столбец с месяцами\n",
    "df_int['session_date'] = pd.to_datetime(df_int['session_date'], format='%Y-%m-%d')\n",
    "df_int['month'] = pd.DatetimeIndex(df_int['session_date']).month\n",
    "\n",
    "df_int"
   ]
  },
  {
   "cell_type": "code",
   "execution_count": 22,
   "metadata": {},
   "outputs": [
    {
     "data": {
      "text/plain": [
       "id              0\n",
       "message_date    0\n",
       "user_id         0\n",
       "dtype: int64"
      ]
     },
     "execution_count": 22,
     "metadata": {},
     "output_type": "execute_result"
    }
   ],
   "source": [
    "#проверяем таблицу df_mess на наличие пропусков\n",
    "df_mess.isna().sum()"
   ]
  },
  {
   "cell_type": "code",
   "execution_count": 23,
   "metadata": {},
   "outputs": [
    {
     "data": {
      "text/html": [
       "<div>\n",
       "<style scoped>\n",
       "    .dataframe tbody tr th:only-of-type {\n",
       "        vertical-align: middle;\n",
       "    }\n",
       "\n",
       "    .dataframe tbody tr th {\n",
       "        vertical-align: top;\n",
       "    }\n",
       "\n",
       "    .dataframe thead th {\n",
       "        text-align: right;\n",
       "    }\n",
       "</style>\n",
       "<table border=\"1\" class=\"dataframe\">\n",
       "  <thead>\n",
       "    <tr style=\"text-align: right;\">\n",
       "      <th></th>\n",
       "      <th>id</th>\n",
       "      <th>message_date</th>\n",
       "      <th>user_id</th>\n",
       "      <th>month</th>\n",
       "    </tr>\n",
       "  </thead>\n",
       "  <tbody>\n",
       "    <tr>\n",
       "      <th>0</th>\n",
       "      <td>1000_0</td>\n",
       "      <td>2018-06-27</td>\n",
       "      <td>1000</td>\n",
       "      <td>6</td>\n",
       "    </tr>\n",
       "    <tr>\n",
       "      <th>1</th>\n",
       "      <td>1000_1</td>\n",
       "      <td>2018-10-08</td>\n",
       "      <td>1000</td>\n",
       "      <td>10</td>\n",
       "    </tr>\n",
       "    <tr>\n",
       "      <th>2</th>\n",
       "      <td>1000_2</td>\n",
       "      <td>2018-08-04</td>\n",
       "      <td>1000</td>\n",
       "      <td>8</td>\n",
       "    </tr>\n",
       "    <tr>\n",
       "      <th>3</th>\n",
       "      <td>1000_3</td>\n",
       "      <td>2018-06-16</td>\n",
       "      <td>1000</td>\n",
       "      <td>6</td>\n",
       "    </tr>\n",
       "    <tr>\n",
       "      <th>4</th>\n",
       "      <td>1000_4</td>\n",
       "      <td>2018-12-05</td>\n",
       "      <td>1000</td>\n",
       "      <td>12</td>\n",
       "    </tr>\n",
       "    <tr>\n",
       "      <th>...</th>\n",
       "      <td>...</td>\n",
       "      <td>...</td>\n",
       "      <td>...</td>\n",
       "      <td>...</td>\n",
       "    </tr>\n",
       "    <tr>\n",
       "      <th>123031</th>\n",
       "      <td>1499_179</td>\n",
       "      <td>2018-12-12</td>\n",
       "      <td>1499</td>\n",
       "      <td>12</td>\n",
       "    </tr>\n",
       "    <tr>\n",
       "      <th>123032</th>\n",
       "      <td>1499_180</td>\n",
       "      <td>2018-09-28</td>\n",
       "      <td>1499</td>\n",
       "      <td>9</td>\n",
       "    </tr>\n",
       "    <tr>\n",
       "      <th>123033</th>\n",
       "      <td>1499_181</td>\n",
       "      <td>2018-09-27</td>\n",
       "      <td>1499</td>\n",
       "      <td>9</td>\n",
       "    </tr>\n",
       "    <tr>\n",
       "      <th>123034</th>\n",
       "      <td>1499_182</td>\n",
       "      <td>2018-11-15</td>\n",
       "      <td>1499</td>\n",
       "      <td>11</td>\n",
       "    </tr>\n",
       "    <tr>\n",
       "      <th>123035</th>\n",
       "      <td>1499_183</td>\n",
       "      <td>2018-11-16</td>\n",
       "      <td>1499</td>\n",
       "      <td>11</td>\n",
       "    </tr>\n",
       "  </tbody>\n",
       "</table>\n",
       "<p>123036 rows × 4 columns</p>\n",
       "</div>"
      ],
      "text/plain": [
       "              id message_date  user_id  month\n",
       "0         1000_0   2018-06-27     1000      6\n",
       "1         1000_1   2018-10-08     1000     10\n",
       "2         1000_2   2018-08-04     1000      8\n",
       "3         1000_3   2018-06-16     1000      6\n",
       "4         1000_4   2018-12-05     1000     12\n",
       "...          ...          ...      ...    ...\n",
       "123031  1499_179   2018-12-12     1499     12\n",
       "123032  1499_180   2018-09-28     1499      9\n",
       "123033  1499_181   2018-09-27     1499      9\n",
       "123034  1499_182   2018-11-15     1499     11\n",
       "123035  1499_183   2018-11-16     1499     11\n",
       "\n",
       "[123036 rows x 4 columns]"
      ]
     },
     "execution_count": 23,
     "metadata": {},
     "output_type": "execute_result"
    }
   ],
   "source": [
    "#поменяем тип данных в столбце message_date на datetime и создадим новый столбец с месяцами\n",
    "df_mess['message_date'] = pd.to_datetime(df_mess['message_date'], format='%Y-%m-%d')\n",
    "df_mess['month'] = pd.DatetimeIndex(df_mess['message_date']).month\n",
    "df_mess"
   ]
  },
  {
   "cell_type": "code",
   "execution_count": 24,
   "metadata": {},
   "outputs": [
    {
     "data": {
      "text/plain": [
       "user_id         0\n",
       "age             0\n",
       "churn_date    462\n",
       "city            0\n",
       "first_name      0\n",
       "last_name       0\n",
       "reg_date        0\n",
       "tariff          0\n",
       "dtype: int64"
      ]
     },
     "execution_count": 24,
     "metadata": {},
     "output_type": "execute_result"
    }
   ],
   "source": [
    "#проверяем таблицу df_users на наличие пропусков\n",
    "df_users.isna().sum()"
   ]
  },
  {
   "cell_type": "markdown",
   "metadata": {},
   "source": [
    "462 пропуска в столбце churn_date, говорят о том что 38 клиентов прекратили пользоваться тарифом"
   ]
  },
  {
   "cell_type": "code",
   "execution_count": 25,
   "metadata": {},
   "outputs": [
    {
     "data": {
      "text/html": [
       "<div>\n",
       "<style scoped>\n",
       "    .dataframe tbody tr th:only-of-type {\n",
       "        vertical-align: middle;\n",
       "    }\n",
       "\n",
       "    .dataframe tbody tr th {\n",
       "        vertical-align: top;\n",
       "    }\n",
       "\n",
       "    .dataframe thead th {\n",
       "        text-align: right;\n",
       "    }\n",
       "</style>\n",
       "<table border=\"1\" class=\"dataframe\">\n",
       "  <thead>\n",
       "    <tr style=\"text-align: right;\">\n",
       "      <th></th>\n",
       "      <th>user_id</th>\n",
       "      <th>age</th>\n",
       "      <th>churn_date</th>\n",
       "      <th>city</th>\n",
       "      <th>first_name</th>\n",
       "      <th>last_name</th>\n",
       "      <th>reg_date</th>\n",
       "      <th>tariff_name</th>\n",
       "    </tr>\n",
       "  </thead>\n",
       "  <tbody>\n",
       "    <tr>\n",
       "      <th>0</th>\n",
       "      <td>1000</td>\n",
       "      <td>52</td>\n",
       "      <td>NaT</td>\n",
       "      <td>Краснодар</td>\n",
       "      <td>Рафаил</td>\n",
       "      <td>Верещагин</td>\n",
       "      <td>2018-05-25</td>\n",
       "      <td>ultra</td>\n",
       "    </tr>\n",
       "    <tr>\n",
       "      <th>1</th>\n",
       "      <td>1001</td>\n",
       "      <td>41</td>\n",
       "      <td>NaT</td>\n",
       "      <td>Москва</td>\n",
       "      <td>Иван</td>\n",
       "      <td>Ежов</td>\n",
       "      <td>2018-11-01</td>\n",
       "      <td>smart</td>\n",
       "    </tr>\n",
       "    <tr>\n",
       "      <th>2</th>\n",
       "      <td>1002</td>\n",
       "      <td>59</td>\n",
       "      <td>NaT</td>\n",
       "      <td>Стерлитамак</td>\n",
       "      <td>Евгений</td>\n",
       "      <td>Абрамович</td>\n",
       "      <td>2018-06-17</td>\n",
       "      <td>smart</td>\n",
       "    </tr>\n",
       "    <tr>\n",
       "      <th>3</th>\n",
       "      <td>1003</td>\n",
       "      <td>23</td>\n",
       "      <td>NaT</td>\n",
       "      <td>Москва</td>\n",
       "      <td>Белла</td>\n",
       "      <td>Белякова</td>\n",
       "      <td>2018-08-17</td>\n",
       "      <td>ultra</td>\n",
       "    </tr>\n",
       "    <tr>\n",
       "      <th>4</th>\n",
       "      <td>1004</td>\n",
       "      <td>68</td>\n",
       "      <td>NaT</td>\n",
       "      <td>Новокузнецк</td>\n",
       "      <td>Татьяна</td>\n",
       "      <td>Авдеенко</td>\n",
       "      <td>2018-05-14</td>\n",
       "      <td>ultra</td>\n",
       "    </tr>\n",
       "    <tr>\n",
       "      <th>...</th>\n",
       "      <td>...</td>\n",
       "      <td>...</td>\n",
       "      <td>...</td>\n",
       "      <td>...</td>\n",
       "      <td>...</td>\n",
       "      <td>...</td>\n",
       "      <td>...</td>\n",
       "      <td>...</td>\n",
       "    </tr>\n",
       "    <tr>\n",
       "      <th>495</th>\n",
       "      <td>1495</td>\n",
       "      <td>65</td>\n",
       "      <td>NaT</td>\n",
       "      <td>Иркутск</td>\n",
       "      <td>Авксентий</td>\n",
       "      <td>Фокин</td>\n",
       "      <td>2018-08-28</td>\n",
       "      <td>ultra</td>\n",
       "    </tr>\n",
       "    <tr>\n",
       "      <th>496</th>\n",
       "      <td>1496</td>\n",
       "      <td>36</td>\n",
       "      <td>NaT</td>\n",
       "      <td>Вологда</td>\n",
       "      <td>Трифон</td>\n",
       "      <td>Блохин</td>\n",
       "      <td>2018-01-27</td>\n",
       "      <td>smart</td>\n",
       "    </tr>\n",
       "    <tr>\n",
       "      <th>497</th>\n",
       "      <td>1497</td>\n",
       "      <td>32</td>\n",
       "      <td>NaT</td>\n",
       "      <td>Челябинск</td>\n",
       "      <td>Каролина</td>\n",
       "      <td>Агеева</td>\n",
       "      <td>2018-10-09</td>\n",
       "      <td>smart</td>\n",
       "    </tr>\n",
       "    <tr>\n",
       "      <th>498</th>\n",
       "      <td>1498</td>\n",
       "      <td>68</td>\n",
       "      <td>2018-10-25</td>\n",
       "      <td>Владикавказ</td>\n",
       "      <td>Всеволод</td>\n",
       "      <td>Акимчин</td>\n",
       "      <td>2018-07-19</td>\n",
       "      <td>smart</td>\n",
       "    </tr>\n",
       "    <tr>\n",
       "      <th>499</th>\n",
       "      <td>1499</td>\n",
       "      <td>35</td>\n",
       "      <td>NaT</td>\n",
       "      <td>Пермь</td>\n",
       "      <td>Гектор</td>\n",
       "      <td>Корнилов</td>\n",
       "      <td>2018-09-27</td>\n",
       "      <td>smart</td>\n",
       "    </tr>\n",
       "  </tbody>\n",
       "</table>\n",
       "<p>500 rows × 8 columns</p>\n",
       "</div>"
      ],
      "text/plain": [
       "     user_id  age churn_date         city first_name  last_name   reg_date  \\\n",
       "0       1000   52        NaT    Краснодар     Рафаил  Верещагин 2018-05-25   \n",
       "1       1001   41        NaT       Москва       Иван       Ежов 2018-11-01   \n",
       "2       1002   59        NaT  Стерлитамак    Евгений  Абрамович 2018-06-17   \n",
       "3       1003   23        NaT       Москва      Белла   Белякова 2018-08-17   \n",
       "4       1004   68        NaT  Новокузнецк    Татьяна   Авдеенко 2018-05-14   \n",
       "..       ...  ...        ...          ...        ...        ...        ...   \n",
       "495     1495   65        NaT      Иркутск  Авксентий      Фокин 2018-08-28   \n",
       "496     1496   36        NaT      Вологда     Трифон     Блохин 2018-01-27   \n",
       "497     1497   32        NaT    Челябинск   Каролина     Агеева 2018-10-09   \n",
       "498     1498   68 2018-10-25  Владикавказ   Всеволод    Акимчин 2018-07-19   \n",
       "499     1499   35        NaT        Пермь     Гектор   Корнилов 2018-09-27   \n",
       "\n",
       "    tariff_name  \n",
       "0         ultra  \n",
       "1         smart  \n",
       "2         smart  \n",
       "3         ultra  \n",
       "4         ultra  \n",
       "..          ...  \n",
       "495       ultra  \n",
       "496       smart  \n",
       "497       smart  \n",
       "498       smart  \n",
       "499       smart  \n",
       "\n",
       "[500 rows x 8 columns]"
      ]
     },
     "execution_count": 25,
     "metadata": {},
     "output_type": "execute_result"
    }
   ],
   "source": [
    "#поменяем тип данных в столбце reg_date и churn_date на datetime, а также переименуем солбец tariff в tariff_name, как в таблице df_tarif\n",
    "df_users['reg_date'] = pd.to_datetime(df_users['reg_date'], format='%Y-%m-%d')\n",
    "df_users['churn_date'] = pd.to_datetime(df_users['churn_date'], format=\"%Y-%m-%d\")\n",
    "df_users.rename(columns = {'tariff': 'tariff_name'}, inplace=True)\n",
    "df_users"
   ]
  },
  {
   "cell_type": "markdown",
   "metadata": {},
   "source": [
    "<a id=\"cell2\"></a>"
   ]
  },
  {
   "cell_type": "markdown",
   "metadata": {},
   "source": [
    "## Подготовка данных\n",
    "Посчитаем для каждого пользователя:\n",
    "\n",
    "- количество сделанных звонков и израсходованных минут разговора по месяцам\n",
    "- количество отправленных сообщений по месяцам\n",
    "- объем израсходованного интернет-трафика по месяцам\n",
    "- помесячную выручку с каждого пользователя\n",
    "(вычтите бесплатный лимит из суммарного количества звонков, сообщений и интернет-трафика, остаток умножьте на значение из тарифного плана)"
   ]
  },
  {
   "cell_type": "markdown",
   "metadata": {},
   "source": [
    "### Количество сделанных звонков и израсходованных минут разговора по месяцам"
   ]
  },
  {
   "cell_type": "markdown",
   "metadata": {},
   "source": [
    "Посчитаем количество сделанных звонков и израсходованных минут разговора по месяцам. Для этого сгруппируем данные по столбцам с id клиентов, месяцам и выведем сумму трафика и количество звонков. Сбросим индекс для новой таблицы и переименуем столбцы на более понятные."
   ]
  },
  {
   "cell_type": "code",
   "execution_count": 26,
   "metadata": {},
   "outputs": [
    {
     "data": {
      "text/html": [
       "<div>\n",
       "<style scoped>\n",
       "    .dataframe tbody tr th:only-of-type {\n",
       "        vertical-align: middle;\n",
       "    }\n",
       "\n",
       "    .dataframe tbody tr th {\n",
       "        vertical-align: top;\n",
       "    }\n",
       "\n",
       "    .dataframe thead th {\n",
       "        text-align: right;\n",
       "    }\n",
       "</style>\n",
       "<table border=\"1\" class=\"dataframe\">\n",
       "  <thead>\n",
       "    <tr style=\"text-align: right;\">\n",
       "      <th></th>\n",
       "      <th>user_id</th>\n",
       "      <th>month</th>\n",
       "      <th>month_calls_duration</th>\n",
       "      <th>calls_total_in_month</th>\n",
       "    </tr>\n",
       "  </thead>\n",
       "  <tbody>\n",
       "    <tr>\n",
       "      <th>0</th>\n",
       "      <td>1000</td>\n",
       "      <td>5</td>\n",
       "      <td>159</td>\n",
       "      <td>22</td>\n",
       "    </tr>\n",
       "    <tr>\n",
       "      <th>1</th>\n",
       "      <td>1000</td>\n",
       "      <td>6</td>\n",
       "      <td>172</td>\n",
       "      <td>43</td>\n",
       "    </tr>\n",
       "    <tr>\n",
       "      <th>2</th>\n",
       "      <td>1000</td>\n",
       "      <td>7</td>\n",
       "      <td>340</td>\n",
       "      <td>47</td>\n",
       "    </tr>\n",
       "    <tr>\n",
       "      <th>3</th>\n",
       "      <td>1000</td>\n",
       "      <td>8</td>\n",
       "      <td>408</td>\n",
       "      <td>52</td>\n",
       "    </tr>\n",
       "    <tr>\n",
       "      <th>4</th>\n",
       "      <td>1000</td>\n",
       "      <td>9</td>\n",
       "      <td>466</td>\n",
       "      <td>58</td>\n",
       "    </tr>\n",
       "    <tr>\n",
       "      <th>...</th>\n",
       "      <td>...</td>\n",
       "      <td>...</td>\n",
       "      <td>...</td>\n",
       "      <td>...</td>\n",
       "    </tr>\n",
       "    <tr>\n",
       "      <th>3169</th>\n",
       "      <td>1498</td>\n",
       "      <td>10</td>\n",
       "      <td>247</td>\n",
       "      <td>41</td>\n",
       "    </tr>\n",
       "    <tr>\n",
       "      <th>3170</th>\n",
       "      <td>1499</td>\n",
       "      <td>9</td>\n",
       "      <td>70</td>\n",
       "      <td>9</td>\n",
       "    </tr>\n",
       "    <tr>\n",
       "      <th>3171</th>\n",
       "      <td>1499</td>\n",
       "      <td>10</td>\n",
       "      <td>449</td>\n",
       "      <td>68</td>\n",
       "    </tr>\n",
       "    <tr>\n",
       "      <th>3172</th>\n",
       "      <td>1499</td>\n",
       "      <td>11</td>\n",
       "      <td>612</td>\n",
       "      <td>74</td>\n",
       "    </tr>\n",
       "    <tr>\n",
       "      <th>3173</th>\n",
       "      <td>1499</td>\n",
       "      <td>12</td>\n",
       "      <td>492</td>\n",
       "      <td>69</td>\n",
       "    </tr>\n",
       "  </tbody>\n",
       "</table>\n",
       "<p>3174 rows × 4 columns</p>\n",
       "</div>"
      ],
      "text/plain": [
       "      user_id  month  month_calls_duration  calls_total_in_month\n",
       "0        1000      5                   159                    22\n",
       "1        1000      6                   172                    43\n",
       "2        1000      7                   340                    47\n",
       "3        1000      8                   408                    52\n",
       "4        1000      9                   466                    58\n",
       "...       ...    ...                   ...                   ...\n",
       "3169     1498     10                   247                    41\n",
       "3170     1499      9                    70                     9\n",
       "3171     1499     10                   449                    68\n",
       "3172     1499     11                   612                    74\n",
       "3173     1499     12                   492                    69\n",
       "\n",
       "[3174 rows x 4 columns]"
      ]
     },
     "execution_count": 26,
     "metadata": {},
     "output_type": "execute_result"
    }
   ],
   "source": [
    "user_calls = df_call.groupby(['user_id', 'month']).agg({'duration':'sum', 'id':'count'}).reset_index().rename(columns={'duration':'month_calls_duration','id':'calls_total_in_month'})\n",
    "user_calls"
   ]
  },
  {
   "cell_type": "markdown",
   "metadata": {},
   "source": [
    "### Количество отправленных сообщений по месяцам "
   ]
  },
  {
   "cell_type": "markdown",
   "metadata": {},
   "source": [
    "Посчитаем количество отправленных сообщений по месяцам для каждого клиента. Для этого также сгруппируем данные по id клиента, месяцам и выведем количество сообщений. Сбросим индекс и переименуем столбцы."
   ]
  },
  {
   "cell_type": "code",
   "execution_count": 27,
   "metadata": {},
   "outputs": [
    {
     "data": {
      "text/html": [
       "<div>\n",
       "<style scoped>\n",
       "    .dataframe tbody tr th:only-of-type {\n",
       "        vertical-align: middle;\n",
       "    }\n",
       "\n",
       "    .dataframe tbody tr th {\n",
       "        vertical-align: top;\n",
       "    }\n",
       "\n",
       "    .dataframe thead th {\n",
       "        text-align: right;\n",
       "    }\n",
       "</style>\n",
       "<table border=\"1\" class=\"dataframe\">\n",
       "  <thead>\n",
       "    <tr style=\"text-align: right;\">\n",
       "      <th></th>\n",
       "      <th>user_id</th>\n",
       "      <th>month</th>\n",
       "      <th>message_total_in_month</th>\n",
       "    </tr>\n",
       "  </thead>\n",
       "  <tbody>\n",
       "    <tr>\n",
       "      <th>0</th>\n",
       "      <td>1000</td>\n",
       "      <td>5</td>\n",
       "      <td>22</td>\n",
       "    </tr>\n",
       "    <tr>\n",
       "      <th>1</th>\n",
       "      <td>1000</td>\n",
       "      <td>6</td>\n",
       "      <td>60</td>\n",
       "    </tr>\n",
       "    <tr>\n",
       "      <th>2</th>\n",
       "      <td>1000</td>\n",
       "      <td>7</td>\n",
       "      <td>75</td>\n",
       "    </tr>\n",
       "    <tr>\n",
       "      <th>3</th>\n",
       "      <td>1000</td>\n",
       "      <td>8</td>\n",
       "      <td>81</td>\n",
       "    </tr>\n",
       "    <tr>\n",
       "      <th>4</th>\n",
       "      <td>1000</td>\n",
       "      <td>9</td>\n",
       "      <td>57</td>\n",
       "    </tr>\n",
       "    <tr>\n",
       "      <th>...</th>\n",
       "      <td>...</td>\n",
       "      <td>...</td>\n",
       "      <td>...</td>\n",
       "    </tr>\n",
       "    <tr>\n",
       "      <th>2712</th>\n",
       "      <td>1498</td>\n",
       "      <td>10</td>\n",
       "      <td>42</td>\n",
       "    </tr>\n",
       "    <tr>\n",
       "      <th>2713</th>\n",
       "      <td>1499</td>\n",
       "      <td>9</td>\n",
       "      <td>11</td>\n",
       "    </tr>\n",
       "    <tr>\n",
       "      <th>2714</th>\n",
       "      <td>1499</td>\n",
       "      <td>10</td>\n",
       "      <td>48</td>\n",
       "    </tr>\n",
       "    <tr>\n",
       "      <th>2715</th>\n",
       "      <td>1499</td>\n",
       "      <td>11</td>\n",
       "      <td>59</td>\n",
       "    </tr>\n",
       "    <tr>\n",
       "      <th>2716</th>\n",
       "      <td>1499</td>\n",
       "      <td>12</td>\n",
       "      <td>66</td>\n",
       "    </tr>\n",
       "  </tbody>\n",
       "</table>\n",
       "<p>2717 rows × 3 columns</p>\n",
       "</div>"
      ],
      "text/plain": [
       "      user_id  month  message_total_in_month\n",
       "0        1000      5                      22\n",
       "1        1000      6                      60\n",
       "2        1000      7                      75\n",
       "3        1000      8                      81\n",
       "4        1000      9                      57\n",
       "...       ...    ...                     ...\n",
       "2712     1498     10                      42\n",
       "2713     1499      9                      11\n",
       "2714     1499     10                      48\n",
       "2715     1499     11                      59\n",
       "2716     1499     12                      66\n",
       "\n",
       "[2717 rows x 3 columns]"
      ]
     },
     "execution_count": 27,
     "metadata": {},
     "output_type": "execute_result"
    }
   ],
   "source": [
    "user_message = df_mess.groupby(['user_id', 'month']).agg({'id':'count'}).reset_index().rename(columns={'id':'message_total_in_month'})\n",
    "user_message"
   ]
  },
  {
   "cell_type": "markdown",
   "metadata": {},
   "source": [
    "### Объем израсходованного интернет-трафика по месяцам"
   ]
  },
  {
   "cell_type": "markdown",
   "metadata": {},
   "source": [
    "Посчитаем израсходованный трафик для каждого клиента по месяцам. Для этого также сгруппируем данные по id клиента, месяцам и выведем сумму потраченных мегабайтов. Округлим мегабайты в большую сторону, так как это делаем оператор. Сбросим индекс и переименуем столбцы. "
   ]
  },
  {
   "cell_type": "code",
   "execution_count": 28,
   "metadata": {},
   "outputs": [
    {
     "data": {
      "text/html": [
       "<div>\n",
       "<style scoped>\n",
       "    .dataframe tbody tr th:only-of-type {\n",
       "        vertical-align: middle;\n",
       "    }\n",
       "\n",
       "    .dataframe tbody tr th {\n",
       "        vertical-align: top;\n",
       "    }\n",
       "\n",
       "    .dataframe thead th {\n",
       "        text-align: right;\n",
       "    }\n",
       "</style>\n",
       "<table border=\"1\" class=\"dataframe\">\n",
       "  <thead>\n",
       "    <tr style=\"text-align: right;\">\n",
       "      <th></th>\n",
       "      <th>user_id</th>\n",
       "      <th>month</th>\n",
       "      <th>month_mb_used</th>\n",
       "    </tr>\n",
       "  </thead>\n",
       "  <tbody>\n",
       "    <tr>\n",
       "      <th>0</th>\n",
       "      <td>1000</td>\n",
       "      <td>5</td>\n",
       "      <td>3</td>\n",
       "    </tr>\n",
       "    <tr>\n",
       "      <th>1</th>\n",
       "      <td>1000</td>\n",
       "      <td>6</td>\n",
       "      <td>23</td>\n",
       "    </tr>\n",
       "    <tr>\n",
       "      <th>2</th>\n",
       "      <td>1000</td>\n",
       "      <td>7</td>\n",
       "      <td>14</td>\n",
       "    </tr>\n",
       "    <tr>\n",
       "      <th>3</th>\n",
       "      <td>1000</td>\n",
       "      <td>8</td>\n",
       "      <td>14</td>\n",
       "    </tr>\n",
       "    <tr>\n",
       "      <th>4</th>\n",
       "      <td>1000</td>\n",
       "      <td>9</td>\n",
       "      <td>15</td>\n",
       "    </tr>\n",
       "    <tr>\n",
       "      <th>...</th>\n",
       "      <td>...</td>\n",
       "      <td>...</td>\n",
       "      <td>...</td>\n",
       "    </tr>\n",
       "    <tr>\n",
       "      <th>3198</th>\n",
       "      <td>1498</td>\n",
       "      <td>10</td>\n",
       "      <td>21</td>\n",
       "    </tr>\n",
       "    <tr>\n",
       "      <th>3199</th>\n",
       "      <td>1499</td>\n",
       "      <td>9</td>\n",
       "      <td>2</td>\n",
       "    </tr>\n",
       "    <tr>\n",
       "      <th>3200</th>\n",
       "      <td>1499</td>\n",
       "      <td>10</td>\n",
       "      <td>18</td>\n",
       "    </tr>\n",
       "    <tr>\n",
       "      <th>3201</th>\n",
       "      <td>1499</td>\n",
       "      <td>11</td>\n",
       "      <td>18</td>\n",
       "    </tr>\n",
       "    <tr>\n",
       "      <th>3202</th>\n",
       "      <td>1499</td>\n",
       "      <td>12</td>\n",
       "      <td>13</td>\n",
       "    </tr>\n",
       "  </tbody>\n",
       "</table>\n",
       "<p>3203 rows × 3 columns</p>\n",
       "</div>"
      ],
      "text/plain": [
       "      user_id  month  month_mb_used\n",
       "0        1000      5              3\n",
       "1        1000      6             23\n",
       "2        1000      7             14\n",
       "3        1000      8             14\n",
       "4        1000      9             15\n",
       "...       ...    ...            ...\n",
       "3198     1498     10             21\n",
       "3199     1499      9              2\n",
       "3200     1499     10             18\n",
       "3201     1499     11             18\n",
       "3202     1499     12             13\n",
       "\n",
       "[3203 rows x 3 columns]"
      ]
     },
     "execution_count": 28,
     "metadata": {},
     "output_type": "execute_result"
    }
   ],
   "source": [
    "user_int = df_int.groupby(['user_id', 'month']).agg({'mb_used':'sum'}).reset_index().rename(columns={'mb_used':'month_mb_used'})\n",
    "user_int['month_mb_used'] = user_int['month_mb_used']/1024\n",
    "user_int['month_mb_used'] = np.ceil(user_int['month_mb_used']).astype('int')\n",
    "\n",
    "user_int"
   ]
  },
  {
   "cell_type": "code",
   "execution_count": 29,
   "metadata": {},
   "outputs": [
    {
     "data": {
      "text/html": [
       "<div>\n",
       "<style scoped>\n",
       "    .dataframe tbody tr th:only-of-type {\n",
       "        vertical-align: middle;\n",
       "    }\n",
       "\n",
       "    .dataframe tbody tr th {\n",
       "        vertical-align: top;\n",
       "    }\n",
       "\n",
       "    .dataframe thead th {\n",
       "        text-align: right;\n",
       "    }\n",
       "</style>\n",
       "<table border=\"1\" class=\"dataframe\">\n",
       "  <thead>\n",
       "    <tr style=\"text-align: right;\">\n",
       "      <th></th>\n",
       "      <th>messages_included</th>\n",
       "      <th>mb_per_month_included</th>\n",
       "      <th>minutes_included</th>\n",
       "      <th>rub_monthly_fee</th>\n",
       "      <th>rub_per_gb</th>\n",
       "      <th>rub_per_message</th>\n",
       "      <th>rub_per_minute</th>\n",
       "      <th>tariff_name</th>\n",
       "    </tr>\n",
       "  </thead>\n",
       "  <tbody>\n",
       "    <tr>\n",
       "      <th>0</th>\n",
       "      <td>50</td>\n",
       "      <td>15.0</td>\n",
       "      <td>500</td>\n",
       "      <td>550</td>\n",
       "      <td>200</td>\n",
       "      <td>3</td>\n",
       "      <td>3</td>\n",
       "      <td>smart</td>\n",
       "    </tr>\n",
       "    <tr>\n",
       "      <th>1</th>\n",
       "      <td>1000</td>\n",
       "      <td>30.0</td>\n",
       "      <td>3000</td>\n",
       "      <td>1950</td>\n",
       "      <td>150</td>\n",
       "      <td>1</td>\n",
       "      <td>1</td>\n",
       "      <td>ultra</td>\n",
       "    </tr>\n",
       "  </tbody>\n",
       "</table>\n",
       "</div>"
      ],
      "text/plain": [
       "   messages_included  mb_per_month_included  minutes_included  \\\n",
       "0                 50                   15.0               500   \n",
       "1               1000                   30.0              3000   \n",
       "\n",
       "   rub_monthly_fee  rub_per_gb  rub_per_message  rub_per_minute tariff_name  \n",
       "0              550         200                3               3       smart  \n",
       "1             1950         150                1               1       ultra  "
      ]
     },
     "execution_count": 29,
     "metadata": {},
     "output_type": "execute_result"
    }
   ],
   "source": [
    "#округлим тогда сразу и до гигабайт значения в таблице с описанием тарифов, так как в дальнейшем мы их будем сравнивать\n",
    "#округляем в меньшую сторону так, как это описано в условии 15гб и 30гб\n",
    "df_tarif['mb_per_month_included'] = df_tarif['mb_per_month_included']/1024\n",
    "df_tarif['mb_per_month_included'] = np.floor(df_tarif['mb_per_month_included'])\n",
    "df_tarif"
   ]
  },
  {
   "cell_type": "code",
   "execution_count": 66,
   "metadata": {},
   "outputs": [
    {
     "data": {
      "text/plain": [
       "(1.0, 1.0)"
      ]
     },
     "execution_count": 66,
     "metadata": {},
     "output_type": "execute_result"
    }
   ],
   "source": [
    "# check\n",
    "np.floor(1.5), np.floor(1.9)"
   ]
  },
  {
   "cell_type": "markdown",
   "metadata": {},
   "source": [
    "### Месячная выручка с каждого пользователя"
   ]
  },
  {
   "cell_type": "markdown",
   "metadata": {},
   "source": [
    "Чтобы посчитать месячную выручку с каждого пользователя для начала нужно объединить все таблицы."
   ]
  },
  {
   "cell_type": "code",
   "execution_count": 30,
   "metadata": {},
   "outputs": [
    {
     "name": "stdout",
     "output_type": "stream",
     "text": [
      "<class 'pandas.core.frame.DataFrame'>\n",
      "RangeIndex: 3214 entries, 0 to 3213\n",
      "Data columns (total 7 columns):\n",
      " #   Column                  Non-Null Count  Dtype  \n",
      "---  ------                  --------------  -----  \n",
      " 0   index                   3213 non-null   float64\n",
      " 1   user_id                 3214 non-null   int64  \n",
      " 2   month                   3214 non-null   int64  \n",
      " 3   month_calls_duration    3174 non-null   float64\n",
      " 4   calls_total_in_month    3174 non-null   float64\n",
      " 5   message_total_in_month  2717 non-null   float64\n",
      " 6   month_mb_used           3203 non-null   float64\n",
      "dtypes: float64(5), int64(2)\n",
      "memory usage: 175.9 KB\n"
     ]
    }
   ],
   "source": [
    "#добавим outer чтобы попали все данные и сбросим индекс чтобы не задвоились при дальнейшем объединении столбцы\n",
    "df = user_calls.merge(user_message, on=['user_id','month'], how='outer').reset_index()\n",
    "df = df.merge(user_int, on=['user_id','month'], how = 'outer').reset_index()\n",
    "df.drop(['level_0'], axis=1, inplace=True)\n",
    "df.info()"
   ]
  },
  {
   "cell_type": "code",
   "execution_count": 31,
   "metadata": {},
   "outputs": [
    {
     "name": "stdout",
     "output_type": "stream",
     "text": [
      "<class 'pandas.core.frame.DataFrame'>\n",
      "RangeIndex: 3216 entries, 0 to 3215\n",
      "Data columns (total 15 columns):\n",
      " #   Column                  Non-Null Count  Dtype         \n",
      "---  ------                  --------------  -----         \n",
      " 0   level_0                 3216 non-null   int64         \n",
      " 1   index                   3213 non-null   float64       \n",
      " 2   user_id                 3216 non-null   int64         \n",
      " 3   month                   3214 non-null   float64       \n",
      " 4   month_calls_duration    3174 non-null   float64       \n",
      " 5   calls_total_in_month    3174 non-null   float64       \n",
      " 6   message_total_in_month  2717 non-null   float64       \n",
      " 7   month_mb_used           3203 non-null   float64       \n",
      " 8   age                     3216 non-null   int64         \n",
      " 9   churn_date              189 non-null    datetime64[ns]\n",
      " 10  city                    3216 non-null   object        \n",
      " 11  first_name              3216 non-null   object        \n",
      " 12  last_name               3216 non-null   object        \n",
      " 13  reg_date                3216 non-null   datetime64[ns]\n",
      " 14  tariff_name             3216 non-null   object        \n",
      "dtypes: datetime64[ns](2), float64(6), int64(3), object(4)\n",
      "memory usage: 377.0+ KB\n"
     ]
    }
   ],
   "source": [
    "#теперь добавим оставшиеся таблицы\n",
    "df = df.merge(df_users, on='user_id', how='outer').reset_index()\n",
    "df.info()"
   ]
  },
  {
   "cell_type": "code",
   "execution_count": 32,
   "metadata": {},
   "outputs": [
    {
     "name": "stdout",
     "output_type": "stream",
     "text": [
      "<class 'pandas.core.frame.DataFrame'>\n",
      "Int64Index: 3216 entries, 0 to 3215\n",
      "Data columns (total 21 columns):\n",
      " #   Column                  Non-Null Count  Dtype         \n",
      "---  ------                  --------------  -----         \n",
      " 0   index                   3213 non-null   float64       \n",
      " 1   user_id                 3216 non-null   int64         \n",
      " 2   month                   3214 non-null   float64       \n",
      " 3   month_calls_duration    3174 non-null   float64       \n",
      " 4   calls_total_in_month    3174 non-null   float64       \n",
      " 5   message_total_in_month  2717 non-null   float64       \n",
      " 6   month_mb_used           3203 non-null   float64       \n",
      " 7   age                     3216 non-null   int64         \n",
      " 8   churn_date              189 non-null    datetime64[ns]\n",
      " 9   city                    3216 non-null   object        \n",
      " 10  first_name              3216 non-null   object        \n",
      " 11  last_name               3216 non-null   object        \n",
      " 12  reg_date                3216 non-null   datetime64[ns]\n",
      " 13  tariff_name             3216 non-null   object        \n",
      " 14  messages_included       3216 non-null   int64         \n",
      " 15  mb_per_month_included   3216 non-null   float64       \n",
      " 16  minutes_included        3216 non-null   int64         \n",
      " 17  rub_monthly_fee         3216 non-null   int64         \n",
      " 18  rub_per_gb              3216 non-null   int64         \n",
      " 19  rub_per_message         3216 non-null   int64         \n",
      " 20  rub_per_minute          3216 non-null   int64         \n",
      "dtypes: datetime64[ns](2), float64(7), int64(8), object(4)\n",
      "memory usage: 552.8+ KB\n"
     ]
    }
   ],
   "source": [
    "df = df.merge(df_tarif, on='tariff_name', how='left')\n",
    "#удалим столбец level_0, так как он дублирцет индексы\n",
    "df.drop(['level_0'], axis=1, inplace=True)\n",
    "df.info()"
   ]
  },
  {
   "cell_type": "code",
   "execution_count": 33,
   "metadata": {},
   "outputs": [
    {
     "data": {
      "text/plain": [
       "index                        3\n",
       "user_id                      0\n",
       "month                        2\n",
       "month_calls_duration        42\n",
       "calls_total_in_month        42\n",
       "message_total_in_month     499\n",
       "month_mb_used               13\n",
       "age                          0\n",
       "churn_date                3027\n",
       "city                         0\n",
       "first_name                   0\n",
       "last_name                    0\n",
       "reg_date                     0\n",
       "tariff_name                  0\n",
       "messages_included            0\n",
       "mb_per_month_included        0\n",
       "minutes_included             0\n",
       "rub_monthly_fee              0\n",
       "rub_per_gb                   0\n",
       "rub_per_message              0\n",
       "rub_per_minute               0\n",
       "dtype: int64"
      ]
     },
     "execution_count": 33,
     "metadata": {},
     "output_type": "execute_result"
    }
   ],
   "source": [
    "#прежде чем подходить к расчету проверим наличие пропущенных значений\n",
    "df.isna().sum()"
   ]
  },
  {
   "cell_type": "markdown",
   "metadata": {},
   "source": [
    "Лучше пропущенные значения в столбцах month_calls_duration, calls_total_in_month, message_total_in_month, month_mb_used заменить на 0, так как пропуски свидетельствуют об отсутсвии трафика, отправки сообщений и недозвонах."
   ]
  },
  {
   "cell_type": "code",
   "execution_count": 34,
   "metadata": {},
   "outputs": [
    {
     "data": {
      "text/plain": [
       "index                        3\n",
       "user_id                      0\n",
       "month                        2\n",
       "month_calls_duration         0\n",
       "calls_total_in_month         0\n",
       "message_total_in_month       0\n",
       "month_mb_used                0\n",
       "age                          0\n",
       "churn_date                3027\n",
       "city                         0\n",
       "first_name                   0\n",
       "last_name                    0\n",
       "reg_date                     0\n",
       "tariff_name                  0\n",
       "messages_included            0\n",
       "mb_per_month_included        0\n",
       "minutes_included             0\n",
       "rub_monthly_fee              0\n",
       "rub_per_gb                   0\n",
       "rub_per_message              0\n",
       "rub_per_minute               0\n",
       "dtype: int64"
      ]
     },
     "execution_count": 34,
     "metadata": {},
     "output_type": "execute_result"
    }
   ],
   "source": [
    "df['month_calls_duration'] = df['month_calls_duration'].fillna(0)\n",
    "df['calls_total_in_month'] = df['calls_total_in_month'].fillna(0)\n",
    "df['message_total_in_month'] = df['message_total_in_month'].fillna(0)\n",
    "df['month_mb_used'] = df['month_mb_used'].fillna(0)\n",
    "df.isna().sum()"
   ]
  },
  {
   "cell_type": "code",
   "execution_count": 35,
   "metadata": {},
   "outputs": [
    {
     "data": {
      "text/plain": [
       "0"
      ]
     },
     "execution_count": 35,
     "metadata": {},
     "output_type": "execute_result"
    }
   ],
   "source": [
    "df.duplicated().sum()"
   ]
  },
  {
   "cell_type": "markdown",
   "metadata": {},
   "source": [
    "Общая таблица готова к подсчету выручки, для начала определим в рублях превышение по тарифу, для этого напишем функцию."
   ]
  },
  {
   "cell_type": "code",
   "execution_count": 36,
   "metadata": {},
   "outputs": [
    {
     "data": {
      "text/html": [
       "<div>\n",
       "<style scoped>\n",
       "    .dataframe tbody tr th:only-of-type {\n",
       "        vertical-align: middle;\n",
       "    }\n",
       "\n",
       "    .dataframe tbody tr th {\n",
       "        vertical-align: top;\n",
       "    }\n",
       "\n",
       "    .dataframe thead th {\n",
       "        text-align: right;\n",
       "    }\n",
       "</style>\n",
       "<table border=\"1\" class=\"dataframe\">\n",
       "  <thead>\n",
       "    <tr style=\"text-align: right;\">\n",
       "      <th></th>\n",
       "      <th>index</th>\n",
       "      <th>user_id</th>\n",
       "      <th>month</th>\n",
       "      <th>month_calls_duration</th>\n",
       "      <th>calls_total_in_month</th>\n",
       "      <th>message_total_in_month</th>\n",
       "      <th>month_mb_used</th>\n",
       "      <th>age</th>\n",
       "      <th>churn_date</th>\n",
       "      <th>city</th>\n",
       "      <th>...</th>\n",
       "      <th>reg_date</th>\n",
       "      <th>tariff_name</th>\n",
       "      <th>messages_included</th>\n",
       "      <th>mb_per_month_included</th>\n",
       "      <th>minutes_included</th>\n",
       "      <th>rub_monthly_fee</th>\n",
       "      <th>rub_per_gb</th>\n",
       "      <th>rub_per_message</th>\n",
       "      <th>rub_per_minute</th>\n",
       "      <th>tariff_excess</th>\n",
       "    </tr>\n",
       "  </thead>\n",
       "  <tbody>\n",
       "    <tr>\n",
       "      <th>3076</th>\n",
       "      <td>3074.0</td>\n",
       "      <td>1481</td>\n",
       "      <td>9.0</td>\n",
       "      <td>312.0</td>\n",
       "      <td>43.0</td>\n",
       "      <td>22.0</td>\n",
       "      <td>17.0</td>\n",
       "      <td>70</td>\n",
       "      <td>NaT</td>\n",
       "      <td>Москва</td>\n",
       "      <td>...</td>\n",
       "      <td>2018-02-26</td>\n",
       "      <td>smart</td>\n",
       "      <td>50</td>\n",
       "      <td>15.0</td>\n",
       "      <td>500</td>\n",
       "      <td>550</td>\n",
       "      <td>200</td>\n",
       "      <td>3</td>\n",
       "      <td>3</td>\n",
       "      <td>400.0</td>\n",
       "    </tr>\n",
       "    <tr>\n",
       "      <th>1583</th>\n",
       "      <td>1583.0</td>\n",
       "      <td>1253</td>\n",
       "      <td>12.0</td>\n",
       "      <td>241.0</td>\n",
       "      <td>41.0</td>\n",
       "      <td>87.0</td>\n",
       "      <td>22.0</td>\n",
       "      <td>29</td>\n",
       "      <td>NaT</td>\n",
       "      <td>Астрахань</td>\n",
       "      <td>...</td>\n",
       "      <td>2018-08-06</td>\n",
       "      <td>ultra</td>\n",
       "      <td>1000</td>\n",
       "      <td>30.0</td>\n",
       "      <td>3000</td>\n",
       "      <td>1950</td>\n",
       "      <td>150</td>\n",
       "      <td>1</td>\n",
       "      <td>1</td>\n",
       "      <td>0.0</td>\n",
       "    </tr>\n",
       "    <tr>\n",
       "      <th>2458</th>\n",
       "      <td>2457.0</td>\n",
       "      <td>1390</td>\n",
       "      <td>7.0</td>\n",
       "      <td>2.0</td>\n",
       "      <td>1.0</td>\n",
       "      <td>1.0</td>\n",
       "      <td>3.0</td>\n",
       "      <td>56</td>\n",
       "      <td>NaT</td>\n",
       "      <td>Санкт-Петербург</td>\n",
       "      <td>...</td>\n",
       "      <td>2018-07-30</td>\n",
       "      <td>smart</td>\n",
       "      <td>50</td>\n",
       "      <td>15.0</td>\n",
       "      <td>500</td>\n",
       "      <td>550</td>\n",
       "      <td>200</td>\n",
       "      <td>3</td>\n",
       "      <td>3</td>\n",
       "      <td>0.0</td>\n",
       "    </tr>\n",
       "    <tr>\n",
       "      <th>2866</th>\n",
       "      <td>2865.0</td>\n",
       "      <td>1453</td>\n",
       "      <td>3.0</td>\n",
       "      <td>875.0</td>\n",
       "      <td>121.0</td>\n",
       "      <td>64.0</td>\n",
       "      <td>26.0</td>\n",
       "      <td>50</td>\n",
       "      <td>NaT</td>\n",
       "      <td>Москва</td>\n",
       "      <td>...</td>\n",
       "      <td>2018-01-01</td>\n",
       "      <td>ultra</td>\n",
       "      <td>1000</td>\n",
       "      <td>30.0</td>\n",
       "      <td>3000</td>\n",
       "      <td>1950</td>\n",
       "      <td>150</td>\n",
       "      <td>1</td>\n",
       "      <td>1</td>\n",
       "      <td>0.0</td>\n",
       "    </tr>\n",
       "    <tr>\n",
       "      <th>1390</th>\n",
       "      <td>1390.0</td>\n",
       "      <td>1220</td>\n",
       "      <td>12.0</td>\n",
       "      <td>766.0</td>\n",
       "      <td>102.0</td>\n",
       "      <td>0.0</td>\n",
       "      <td>21.0</td>\n",
       "      <td>59</td>\n",
       "      <td>NaT</td>\n",
       "      <td>Ростов-на-Дону</td>\n",
       "      <td>...</td>\n",
       "      <td>2018-11-22</td>\n",
       "      <td>smart</td>\n",
       "      <td>50</td>\n",
       "      <td>15.0</td>\n",
       "      <td>500</td>\n",
       "      <td>550</td>\n",
       "      <td>200</td>\n",
       "      <td>3</td>\n",
       "      <td>3</td>\n",
       "      <td>1998.0</td>\n",
       "    </tr>\n",
       "  </tbody>\n",
       "</table>\n",
       "<p>5 rows × 22 columns</p>\n",
       "</div>"
      ],
      "text/plain": [
       "       index  user_id  month  month_calls_duration  calls_total_in_month  \\\n",
       "3076  3074.0     1481    9.0                 312.0                  43.0   \n",
       "1583  1583.0     1253   12.0                 241.0                  41.0   \n",
       "2458  2457.0     1390    7.0                   2.0                   1.0   \n",
       "2866  2865.0     1453    3.0                 875.0                 121.0   \n",
       "1390  1390.0     1220   12.0                 766.0                 102.0   \n",
       "\n",
       "      message_total_in_month  month_mb_used  age churn_date             city  \\\n",
       "3076                    22.0           17.0   70        NaT           Москва   \n",
       "1583                    87.0           22.0   29        NaT        Астрахань   \n",
       "2458                     1.0            3.0   56        NaT  Санкт-Петербург   \n",
       "2866                    64.0           26.0   50        NaT           Москва   \n",
       "1390                     0.0           21.0   59        NaT   Ростов-на-Дону   \n",
       "\n",
       "      ...   reg_date tariff_name messages_included mb_per_month_included  \\\n",
       "3076  ... 2018-02-26       smart                50                  15.0   \n",
       "1583  ... 2018-08-06       ultra              1000                  30.0   \n",
       "2458  ... 2018-07-30       smart                50                  15.0   \n",
       "2866  ... 2018-01-01       ultra              1000                  30.0   \n",
       "1390  ... 2018-11-22       smart                50                  15.0   \n",
       "\n",
       "      minutes_included  rub_monthly_fee  rub_per_gb  rub_per_message  \\\n",
       "3076               500              550         200                3   \n",
       "1583              3000             1950         150                1   \n",
       "2458               500              550         200                3   \n",
       "2866              3000             1950         150                1   \n",
       "1390               500              550         200                3   \n",
       "\n",
       "      rub_per_minute  tariff_excess  \n",
       "3076               3          400.0  \n",
       "1583               1            0.0  \n",
       "2458               3            0.0  \n",
       "2866               1            0.0  \n",
       "1390               3         1998.0  \n",
       "\n",
       "[5 rows x 22 columns]"
      ]
     },
     "execution_count": 36,
     "metadata": {},
     "output_type": "execute_result"
    }
   ],
   "source": [
    "def tariff_excess(row):\n",
    "    message = (row['message_total_in_month'] - row['messages_included']) * row['rub_per_message']\n",
    "    mins = (row['month_calls_duration'] - row['minutes_included']) * row['rub_per_minute']\n",
    "    mbs = np.floor((row['month_mb_used'] - row['mb_per_month_included']) * row['rub_per_gb'])\n",
    "    total = 0\n",
    "    for i in [message, mins, mbs]:\n",
    "        if i > 0:\n",
    "            total += i\n",
    "    return total\n",
    "df['tariff_excess'] = df.apply(lambda x: tariff_excess(x), axis=1)\n",
    "df.sample(5)"
   ]
  },
  {
   "cell_type": "code",
   "execution_count": 37,
   "metadata": {},
   "outputs": [
    {
     "data": {
      "text/plain": [
       "1.0"
      ]
     },
     "execution_count": 37,
     "metadata": {},
     "output_type": "execute_result"
    }
   ],
   "source": [
    "# check\n",
    "np.floor(1.9)"
   ]
  },
  {
   "cell_type": "code",
   "execution_count": 38,
   "metadata": {},
   "outputs": [
    {
     "name": "stdout",
     "output_type": "stream",
     "text": [
      "<class 'pandas.core.frame.DataFrame'>\n",
      "Int64Index: 3216 entries, 0 to 3215\n",
      "Data columns (total 23 columns):\n",
      " #   Column                  Non-Null Count  Dtype         \n",
      "---  ------                  --------------  -----         \n",
      " 0   index                   3213 non-null   float64       \n",
      " 1   user_id                 3216 non-null   int64         \n",
      " 2   month                   3214 non-null   float64       \n",
      " 3   month_calls_duration    3216 non-null   float64       \n",
      " 4   calls_total_in_month    3216 non-null   float64       \n",
      " 5   message_total_in_month  3216 non-null   float64       \n",
      " 6   month_mb_used           3216 non-null   float64       \n",
      " 7   age                     3216 non-null   int64         \n",
      " 8   churn_date              189 non-null    datetime64[ns]\n",
      " 9   city                    3216 non-null   object        \n",
      " 10  first_name              3216 non-null   object        \n",
      " 11  last_name               3216 non-null   object        \n",
      " 12  reg_date                3216 non-null   datetime64[ns]\n",
      " 13  tariff_name             3216 non-null   object        \n",
      " 14  messages_included       3216 non-null   int64         \n",
      " 15  mb_per_month_included   3216 non-null   float64       \n",
      " 16  minutes_included        3216 non-null   int64         \n",
      " 17  rub_monthly_fee         3216 non-null   int64         \n",
      " 18  rub_per_gb              3216 non-null   int64         \n",
      " 19  rub_per_message         3216 non-null   int64         \n",
      " 20  rub_per_minute          3216 non-null   int64         \n",
      " 21  tariff_excess           3216 non-null   float64       \n",
      " 22  final_payment           3216 non-null   float64       \n",
      "dtypes: datetime64[ns](2), float64(9), int64(8), object(4)\n",
      "memory usage: 603.0+ KB\n"
     ]
    }
   ],
   "source": [
    "#теперь мы можем посчитать сколько всего платят с учетом абонентской платы и превышения\n",
    "df['final_payment'] = df['rub_monthly_fee'] + df['tariff_excess']\n",
    "df.info()"
   ]
  },
  {
   "cell_type": "markdown",
   "metadata": {},
   "source": [
    "**Вывод по подготовке данных**. Мы обработали и получили все данные для дальнейшего анализа"
   ]
  },
  {
   "cell_type": "code",
   "execution_count": 67,
   "metadata": {},
   "outputs": [
    {
     "data": {
      "text/plain": [
       "4916951.0"
      ]
     },
     "execution_count": 67,
     "metadata": {},
     "output_type": "execute_result"
    }
   ],
   "source": [
    "# check\n",
    "df['final_payment'].sum()"
   ]
  },
  {
   "cell_type": "markdown",
   "metadata": {},
   "source": [
    "## Анализ данных\n",
    "\n",
    "- Сколько минут разговора, сколько сообщений и какой объём интернет-трафика требуется пользователям каждого тарифа в месяц?\n",
    "- Посчитайте среднее количество, дисперсию и стандартное отклонение\n",
    "- Постройте гистограммы. Опишите распределения"
   ]
  },
  {
   "cell_type": "markdown",
   "metadata": {},
   "source": [
    "### Сколько минут нужны клиентам тарифов СМАРТ и УЛЬТРА\n",
    "Построим гистограмму и посчитаем среднее, медиану, дисперсию и стандартное отклонение."
   ]
  },
  {
   "cell_type": "code",
   "execution_count": 40,
   "metadata": {},
   "outputs": [
    {
     "data": {
      "text/plain": [
       "count    3216.000000\n",
       "mean      450.964241\n",
       "std       242.096312\n",
       "min         0.000000\n",
       "25%       282.000000\n",
       "50%       443.000000\n",
       "75%       589.000000\n",
       "max      1673.000000\n",
       "Name: month_calls_duration, dtype: float64"
      ]
     },
     "execution_count": 40,
     "metadata": {},
     "output_type": "execute_result"
    }
   ],
   "source": [
    "df['month_calls_duration'].describe()"
   ]
  },
  {
   "cell_type": "code",
   "execution_count": 41,
   "metadata": {},
   "outputs": [
    {
     "data": {
      "text/plain": [
       "smart    2230\n",
       "ultra     986\n",
       "Name: tariff_name, dtype: int64"
      ]
     },
     "execution_count": 41,
     "metadata": {},
     "output_type": "execute_result"
    }
   ],
   "source": [
    "df['tariff_name'].value_counts()"
   ]
  },
  {
   "cell_type": "code",
   "execution_count": 42,
   "metadata": {},
   "outputs": [
    {
     "data": {
      "text/plain": [
       "<matplotlib.legend.Legend at 0x7fcd3ed7e9a0>"
      ]
     },
     "execution_count": 42,
     "metadata": {},
     "output_type": "execute_result"
    },
    {
     "data": {
      "image/png": "[encoded data removed]",
      "text/plain": [
       "<Figure size 432x288 with 1 Axes>"
      ]
     },
     "metadata": {
      "needs_background": "light"
     },
     "output_type": "display_data"
    }
   ],
   "source": [
    "df[df['tariff_name'] == 'smart']['month_calls_duration'].plot(kind='hist', bins=10)\n",
    "df[df['tariff_name'] == 'ultra']['month_calls_duration'].plot(kind='hist', bins=10)\n",
    "plt.title('Требуемое количество минут для тарифов СМАРТ и УЛЬТРА')\n",
    "plt.xlabel('Минуты')\n",
    "plt.legend(['смарт', 'ультра'])"
   ]
  },
  {
   "cell_type": "code",
   "execution_count": 43,
   "metadata": {},
   "outputs": [
    {
     "data": {
      "text/html": [
       "<div>\n",
       "<style scoped>\n",
       "    .dataframe tbody tr th:only-of-type {\n",
       "        vertical-align: middle;\n",
       "    }\n",
       "\n",
       "    .dataframe tbody tr th {\n",
       "        vertical-align: top;\n",
       "    }\n",
       "\n",
       "    .dataframe thead tr th {\n",
       "        text-align: left;\n",
       "    }\n",
       "\n",
       "    .dataframe thead tr:last-of-type th {\n",
       "        text-align: right;\n",
       "    }\n",
       "</style>\n",
       "<table border=\"1\" class=\"dataframe\">\n",
       "  <thead>\n",
       "    <tr>\n",
       "      <th></th>\n",
       "      <th colspan=\"4\" halign=\"left\">month_calls_duration</th>\n",
       "    </tr>\n",
       "    <tr>\n",
       "      <th></th>\n",
       "      <th>median</th>\n",
       "      <th>mean</th>\n",
       "      <th>var</th>\n",
       "      <th>std</th>\n",
       "    </tr>\n",
       "    <tr>\n",
       "      <th>tariff_name</th>\n",
       "      <th></th>\n",
       "      <th></th>\n",
       "      <th></th>\n",
       "      <th></th>\n",
       "    </tr>\n",
       "  </thead>\n",
       "  <tbody>\n",
       "    <tr>\n",
       "      <th>smart</th>\n",
       "      <td>421.5</td>\n",
       "      <td>417.747534</td>\n",
       "      <td>36281.393836</td>\n",
       "      <td>190.476754</td>\n",
       "    </tr>\n",
       "    <tr>\n",
       "      <th>ultra</th>\n",
       "      <td>518.0</td>\n",
       "      <td>526.089249</td>\n",
       "      <td>101052.493549</td>\n",
       "      <td>317.887549</td>\n",
       "    </tr>\n",
       "  </tbody>\n",
       "</table>\n",
       "</div>"
      ],
      "text/plain": [
       "            month_calls_duration                                       \n",
       "                          median        mean            var         std\n",
       "tariff_name                                                            \n",
       "smart                      421.5  417.747534   36281.393836  190.476754\n",
       "ultra                      518.0  526.089249  101052.493549  317.887549"
      ]
     },
     "execution_count": 43,
     "metadata": {},
     "output_type": "execute_result"
    }
   ],
   "source": [
    "df.groupby('tariff_name').agg({'month_calls_duration':['median','mean','var','std']})"
   ]
  },
  {
   "cell_type": "markdown",
   "metadata": {},
   "source": [
    "**Вывод**. В среднем клиенты на тарифе Смарт тратят 418 минут - можно сказать что они практически полностью используют минуты тарифа. Клиенты на тарифе Ультра тратят в среднем 526 минут, в запасе у них остается около 2500 минут, входящих в их тариф. Среднее и медиана расположены рядом. "
   ]
  },
  {
   "cell_type": "markdown",
   "metadata": {},
   "source": [
    "### Сколько смс нужно клиентам тарифов СМАРТ и УЛЬТРА\n",
    "Построим гистограмму и посчитаем среднее, медиану, дисперсию и стандартное отклонение."
   ]
  },
  {
   "cell_type": "code",
   "execution_count": 44,
   "metadata": {},
   "outputs": [
    {
     "data": {
      "text/plain": [
       "count    3216.000000\n",
       "mean       38.257463\n",
       "std        36.149684\n",
       "min         0.000000\n",
       "25%         9.000000\n",
       "50%        30.000000\n",
       "75%        57.000000\n",
       "max       224.000000\n",
       "Name: message_total_in_month, dtype: float64"
      ]
     },
     "execution_count": 44,
     "metadata": {},
     "output_type": "execute_result"
    }
   ],
   "source": [
    "df['message_total_in_month'].describe()"
   ]
  },
  {
   "cell_type": "code",
   "execution_count": 45,
   "metadata": {},
   "outputs": [
    {
     "data": {
      "text/plain": [
       "<matplotlib.legend.Legend at 0x7fcd3f10ae20>"
      ]
     },
     "execution_count": 45,
     "metadata": {},
     "output_type": "execute_result"
    },
    {
     "data": {
      "image/png": "[encoded data removed]",
      "text/plain": [
       "<Figure size 432x288 with 1 Axes>"
      ]
     },
     "metadata": {
      "needs_background": "light"
     },
     "output_type": "display_data"
    }
   ],
   "source": [
    "df[df['tariff_name'] == 'smart']['message_total_in_month'].plot(kind='hist', bins=10)\n",
    "df[df['tariff_name'] == 'ultra']['message_total_in_month'].plot(kind='hist', bins=10)\n",
    "plt.title('Требуемое количество смс для тарифов СМАРТ и УЛЬТРА')\n",
    "plt.xlabel('кол-во СМС')\n",
    "plt.legend(['смарт', 'ультра'])"
   ]
  },
  {
   "cell_type": "code",
   "execution_count": 46,
   "metadata": {},
   "outputs": [
    {
     "data": {
      "text/html": [
       "<div>\n",
       "<style scoped>\n",
       "    .dataframe tbody tr th:only-of-type {\n",
       "        vertical-align: middle;\n",
       "    }\n",
       "\n",
       "    .dataframe tbody tr th {\n",
       "        vertical-align: top;\n",
       "    }\n",
       "\n",
       "    .dataframe thead tr th {\n",
       "        text-align: left;\n",
       "    }\n",
       "\n",
       "    .dataframe thead tr:last-of-type th {\n",
       "        text-align: right;\n",
       "    }\n",
       "</style>\n",
       "<table border=\"1\" class=\"dataframe\">\n",
       "  <thead>\n",
       "    <tr>\n",
       "      <th></th>\n",
       "      <th colspan=\"4\" halign=\"left\">message_total_in_month</th>\n",
       "    </tr>\n",
       "    <tr>\n",
       "      <th></th>\n",
       "      <th>median</th>\n",
       "      <th>mean</th>\n",
       "      <th>var</th>\n",
       "      <th>std</th>\n",
       "    </tr>\n",
       "    <tr>\n",
       "      <th>tariff_name</th>\n",
       "      <th></th>\n",
       "      <th></th>\n",
       "      <th></th>\n",
       "      <th></th>\n",
       "    </tr>\n",
       "  </thead>\n",
       "  <tbody>\n",
       "    <tr>\n",
       "      <th>smart</th>\n",
       "      <td>28.0</td>\n",
       "      <td>33.369058</td>\n",
       "      <td>796.955256</td>\n",
       "      <td>28.230396</td>\n",
       "    </tr>\n",
       "    <tr>\n",
       "      <th>ultra</th>\n",
       "      <td>38.0</td>\n",
       "      <td>49.313387</td>\n",
       "      <td>2285.417425</td>\n",
       "      <td>47.806040</td>\n",
       "    </tr>\n",
       "  </tbody>\n",
       "</table>\n",
       "</div>"
      ],
      "text/plain": [
       "            message_total_in_month                                   \n",
       "                            median       mean          var        std\n",
       "tariff_name                                                          \n",
       "smart                         28.0  33.369058   796.955256  28.230396\n",
       "ultra                         38.0  49.313387  2285.417425  47.806040"
      ]
     },
     "execution_count": 46,
     "metadata": {},
     "output_type": "execute_result"
    }
   ],
   "source": [
    "df.groupby('tariff_name').agg({'message_total_in_month':['median','mean','var','std']})"
   ]
  },
  {
   "cell_type": "markdown",
   "metadata": {},
   "source": [
    "**Вывод**. Смс сообщения пользуются меньшим спросом. В среднем у пользователей тарифа Ультра запас практически 950 неспользованных смс в месяц, у пользователей тарифа Спарт - около 17 сообщений. Медиана и средее снова рядом."
   ]
  },
  {
   "cell_type": "markdown",
   "metadata": {},
   "source": [
    "### Сколько трафика нужно клиентам тарифов СМАРТ и УЛЬТРА\n",
    "Построим гистограмму и посчитаем среднее, медиану, дисперсию и стандартное отклонение."
   ]
  },
  {
   "cell_type": "code",
   "execution_count": 47,
   "metadata": {},
   "outputs": [
    {
     "data": {
      "text/plain": [
       "count    3216.000000\n",
       "mean       17.288246\n",
       "std         7.410845\n",
       "min         0.000000\n",
       "25%        13.000000\n",
       "50%        17.000000\n",
       "75%        21.000000\n",
       "max        49.000000\n",
       "Name: month_mb_used, dtype: float64"
      ]
     },
     "execution_count": 47,
     "metadata": {},
     "output_type": "execute_result"
    }
   ],
   "source": [
    "df['month_mb_used'].describe()"
   ]
  },
  {
   "cell_type": "code",
   "execution_count": 48,
   "metadata": {},
   "outputs": [
    {
     "data": {
      "text/plain": [
       "<matplotlib.legend.Legend at 0x7fcd3f23cac0>"
      ]
     },
     "execution_count": 48,
     "metadata": {},
     "output_type": "execute_result"
    },
    {
     "data": {
      "image/png": "[encoded data removed]",
      "text/plain": [
       "<Figure size 432x288 with 1 Axes>"
      ]
     },
     "metadata": {
      "needs_background": "light"
     },
     "output_type": "display_data"
    }
   ],
   "source": [
    "df[df['tariff_name'] == 'smart']['month_mb_used'].plot(kind='hist', bins=10)\n",
    "df[df['tariff_name'] == 'ultra']['month_mb_used'].plot(kind='hist', bins=10)\n",
    "plt.title('Требуемое количество трафика для тарифов СМАРТ и УЛЬТРА')\n",
    "plt.xlabel('трафик')\n",
    "plt.legend(['смарт', 'ультра'])"
   ]
  },
  {
   "cell_type": "code",
   "execution_count": 49,
   "metadata": {},
   "outputs": [
    {
     "data": {
      "text/html": [
       "<div>\n",
       "<style scoped>\n",
       "    .dataframe tbody tr th:only-of-type {\n",
       "        vertical-align: middle;\n",
       "    }\n",
       "\n",
       "    .dataframe tbody tr th {\n",
       "        vertical-align: top;\n",
       "    }\n",
       "\n",
       "    .dataframe thead tr th {\n",
       "        text-align: left;\n",
       "    }\n",
       "\n",
       "    .dataframe thead tr:last-of-type th {\n",
       "        text-align: right;\n",
       "    }\n",
       "</style>\n",
       "<table border=\"1\" class=\"dataframe\">\n",
       "  <thead>\n",
       "    <tr>\n",
       "      <th></th>\n",
       "      <th colspan=\"4\" halign=\"left\">month_mb_used</th>\n",
       "    </tr>\n",
       "    <tr>\n",
       "      <th></th>\n",
       "      <th>median</th>\n",
       "      <th>mean</th>\n",
       "      <th>var</th>\n",
       "      <th>std</th>\n",
       "    </tr>\n",
       "    <tr>\n",
       "      <th>tariff_name</th>\n",
       "      <th></th>\n",
       "      <th></th>\n",
       "      <th></th>\n",
       "      <th></th>\n",
       "    </tr>\n",
       "  </thead>\n",
       "  <tbody>\n",
       "    <tr>\n",
       "      <th>smart</th>\n",
       "      <td>17.0</td>\n",
       "      <td>16.321525</td>\n",
       "      <td>33.133453</td>\n",
       "      <td>5.756167</td>\n",
       "    </tr>\n",
       "    <tr>\n",
       "      <th>ultra</th>\n",
       "      <td>19.0</td>\n",
       "      <td>19.474645</td>\n",
       "      <td>97.378544</td>\n",
       "      <td>9.868057</td>\n",
       "    </tr>\n",
       "  </tbody>\n",
       "</table>\n",
       "</div>"
      ],
      "text/plain": [
       "            month_mb_used                                \n",
       "                   median       mean        var       std\n",
       "tariff_name                                              \n",
       "smart                17.0  16.321525  33.133453  5.756167\n",
       "ultra                19.0  19.474645  97.378544  9.868057"
      ]
     },
     "execution_count": 49,
     "metadata": {},
     "output_type": "execute_result"
    }
   ],
   "source": [
    "df.groupby('tariff_name').agg({'month_mb_used':['median','mean','var','std']})"
   ]
  },
  {
   "cell_type": "markdown",
   "metadata": {},
   "source": [
    "**Вывод**. Среднее и медиана лежат снова рядом. Разброс данных больше у пользователей тарифа Ультра.  На Смарте люди выходят за пределы тарифа довольно часто, пользователи тарифа Ультра в среднем используют 19Гб, т.е. 10 Гб у них остается в запасе. "
   ]
  },
  {
   "cell_type": "markdown",
   "metadata": {},
   "source": [
    "**Общий вывод по анализу поведения клиентов оператора**. Пользователи тарифа Смарт в среднем полностью пользуются благами своего тарифа и чаще выходят за пределы тарифа. Пользователи тарифа Ультра пользуются только 1/6 частью минут, практически не используют смски и тратят 2/3 трафика. Тариф Ультра требует доработки."
   ]
  },
  {
   "cell_type": "markdown",
   "metadata": {},
   "source": [
    "<a id=\"cell4\"></a>"
   ]
  },
  {
   "cell_type": "markdown",
   "metadata": {},
   "source": [
    "## Проверка гипотез\n",
    "- средняя выручка пользователей тарифов «Ультра» и «Смарт» различаются\n",
    "- средняя выручка пользователей из Москвы отличается от выручки пользователей из других регионов\n",
    "\n",
    "Пороговое значение alpha задайте самостоятельно.\n",
    "\n",
    "\n",
    "Чтобы выбросы не мешали проверке гипотез напишем функцию, используем метод 3х сигм, для удаления выбросов."
   ]
  },
  {
   "cell_type": "code",
   "execution_count": 50,
   "metadata": {},
   "outputs": [],
   "source": [
    "def delete_outliers(df, column, graphic=0, x = 10, y = 10):\n",
    "    q1 = df[column].quantile(0.25)                 \n",
    "    q3 = df[column].quantile(0.75)\n",
    "    iqr = q3 - q1\n",
    "    iqr_test = (df[column] >= (q1 - 1.5 * iqr)) & (df[column] <= (q3 + 1.5 * iqr))\n",
    "    if graphic == 1:\n",
    "        return df.loc[iqr_test].boxplot([column], figsize=(x,y))\n",
    "    else:\n",
    "        return df.loc[iqr_test]"
   ]
  },
  {
   "cell_type": "markdown",
   "metadata": {},
   "source": [
    "Будем использовать t-критерий Стьюдента, так как сравниваемые выборки независимы между собой.\n",
    "Гипотеза о равенстве средних двух генеральных совокупностей №1\n",
    "\n",
    "**Сформулируем гипотезы:**\n",
    "\n",
    "- H0: выручка пользователей тарифов «Ультра» и «Смарт» не различается\n",
    "- H1: выручка пользователей тарифов «Ультра» и «Смарт» различается"
   ]
  },
  {
   "cell_type": "code",
   "execution_count": 51,
   "metadata": {},
   "outputs": [],
   "source": [
    "ultra = df[df['tariff_name'] == 'ultra']\n",
    "smart = df[df['tariff_name'] == 'smart']"
   ]
  },
  {
   "cell_type": "code",
   "execution_count": 52,
   "metadata": {},
   "outputs": [],
   "source": [
    "ultra = delete_outliers(ultra, 'final_payment', 0)\n",
    "ultra = ultra['final_payment']"
   ]
  },
  {
   "cell_type": "code",
   "execution_count": 53,
   "metadata": {},
   "outputs": [],
   "source": [
    "smart = delete_outliers(smart, 'final_payment', 0)\n",
    "smart = smart['final_payment']"
   ]
  },
  {
   "cell_type": "code",
   "execution_count": 54,
   "metadata": {},
   "outputs": [
    {
     "name": "stdout",
     "output_type": "stream",
     "text": [
      "p-значение: 3.1080242236586082e-155\n",
      "Отвергаем нулевую гипотезу\n"
     ]
    }
   ],
   "source": [
    "alpha = 0.05\n",
    "results = st.ttest_ind(ultra, smart)\n",
    "\n",
    "print('p-значение:', results.pvalue)\n",
    "\n",
    "if (results.pvalue < alpha):\n",
    "    print('Отвергаем нулевую гипотезу')\n",
    "else:\n",
    "    print('Не получилось отвергнуть нулевую гипотезу')"
   ]
  },
  {
   "cell_type": "markdown",
   "metadata": {},
   "source": [
    "**Вывод**. Средняя выручка пользователей тарифов «Ультра» и «Смарт» различаются."
   ]
  },
  {
   "cell_type": "markdown",
   "metadata": {},
   "source": [
    "Гипотеза о равенстве средних двух генеральных совокупностей №2\n",
    "\n",
    "**Сформулируем гипотезы:**\n",
    "\n",
    "- H0: средняя выручка пользователей из Москвы не отличается от выручки пользователей из других регионов\n",
    "- H1: средняя выручка пользователей из Москвы отличается от выручки пользователей из других регионов"
   ]
  },
  {
   "cell_type": "code",
   "execution_count": 55,
   "metadata": {},
   "outputs": [
    {
     "data": {
      "text/plain": [
       "array(['Краснодар', 'Москва', 'Стерлитамак', 'Новокузнецк',\n",
       "       'Набережные Челны', 'Ульяновск', 'Челябинск', 'Пермь', 'Тюмень',\n",
       "       'Самара', 'Санкт-Петербург', 'Иваново', 'Чебоксары', 'Омск', 'Уфа',\n",
       "       'Томск', 'Чита', 'Мурманск', 'Петрозаводск', 'Тверь',\n",
       "       'Екатеринбург', 'Махачкала', 'Вологда', 'Череповец', 'Ярославль',\n",
       "       'Сочи', 'Хабаровск', 'Ставрополь', 'Рязань', 'Улан-Удэ', 'Тула',\n",
       "       'Саратов', 'Ростов-на-Дону', 'Казань', 'Иркутск', 'Курск',\n",
       "       'Калуга', 'Якутск', 'Астрахань', 'Химки', 'Владикавказ',\n",
       "       'Волгоград', 'Саранск', 'Ижевск', 'Новосибирск', 'Брянск',\n",
       "       'Тольятти', 'Нижний Тагил', 'Орёл', 'Белгород', 'Воронеж',\n",
       "       'Курган', 'Барнаул', 'Красноярск', 'Архангельск', 'Липецк',\n",
       "       'Кемерово', 'Киров', 'Сургут', 'Пенза', 'Волжский', 'Магнитогорск',\n",
       "       'Нижний Новгород', 'Кострома', 'Владивосток', 'Тамбов', 'Балашиха',\n",
       "       'Севастополь', 'Калининград', 'Оренбург', 'Смоленск',\n",
       "       'Нижневартовск', 'Владимир', 'Новороссийск', 'Грозный', 'Подольск'],\n",
       "      dtype=object)"
      ]
     },
     "execution_count": 55,
     "metadata": {},
     "output_type": "execute_result"
    }
   ],
   "source": [
    "df['city'].unique()"
   ]
  },
  {
   "cell_type": "code",
   "execution_count": 56,
   "metadata": {},
   "outputs": [
    {
     "data": {
      "text/html": [
       "<div>\n",
       "<style scoped>\n",
       "    .dataframe tbody tr th:only-of-type {\n",
       "        vertical-align: middle;\n",
       "    }\n",
       "\n",
       "    .dataframe tbody tr th {\n",
       "        vertical-align: top;\n",
       "    }\n",
       "\n",
       "    .dataframe thead th {\n",
       "        text-align: right;\n",
       "    }\n",
       "</style>\n",
       "<table border=\"1\" class=\"dataframe\">\n",
       "  <thead>\n",
       "    <tr style=\"text-align: right;\">\n",
       "      <th></th>\n",
       "      <th>index</th>\n",
       "      <th>user_id</th>\n",
       "      <th>month</th>\n",
       "      <th>month_calls_duration</th>\n",
       "      <th>calls_total_in_month</th>\n",
       "      <th>message_total_in_month</th>\n",
       "      <th>month_mb_used</th>\n",
       "      <th>age</th>\n",
       "      <th>churn_date</th>\n",
       "      <th>city</th>\n",
       "      <th>...</th>\n",
       "      <th>messages_included</th>\n",
       "      <th>mb_per_month_included</th>\n",
       "      <th>minutes_included</th>\n",
       "      <th>rub_monthly_fee</th>\n",
       "      <th>rub_per_gb</th>\n",
       "      <th>rub_per_message</th>\n",
       "      <th>rub_per_minute</th>\n",
       "      <th>tariff_excess</th>\n",
       "      <th>final_payment</th>\n",
       "      <th>region</th>\n",
       "    </tr>\n",
       "  </thead>\n",
       "  <tbody>\n",
       "    <tr>\n",
       "      <th>0</th>\n",
       "      <td>0.0</td>\n",
       "      <td>1000</td>\n",
       "      <td>5.0</td>\n",
       "      <td>159.0</td>\n",
       "      <td>22.0</td>\n",
       "      <td>22.0</td>\n",
       "      <td>3.0</td>\n",
       "      <td>52</td>\n",
       "      <td>NaT</td>\n",
       "      <td>Краснодар</td>\n",
       "      <td>...</td>\n",
       "      <td>1000</td>\n",
       "      <td>30.0</td>\n",
       "      <td>3000</td>\n",
       "      <td>1950</td>\n",
       "      <td>150</td>\n",
       "      <td>1</td>\n",
       "      <td>1</td>\n",
       "      <td>0.0</td>\n",
       "      <td>1950.0</td>\n",
       "      <td>Другой регион</td>\n",
       "    </tr>\n",
       "    <tr>\n",
       "      <th>1</th>\n",
       "      <td>1.0</td>\n",
       "      <td>1000</td>\n",
       "      <td>6.0</td>\n",
       "      <td>172.0</td>\n",
       "      <td>43.0</td>\n",
       "      <td>60.0</td>\n",
       "      <td>23.0</td>\n",
       "      <td>52</td>\n",
       "      <td>NaT</td>\n",
       "      <td>Краснодар</td>\n",
       "      <td>...</td>\n",
       "      <td>1000</td>\n",
       "      <td>30.0</td>\n",
       "      <td>3000</td>\n",
       "      <td>1950</td>\n",
       "      <td>150</td>\n",
       "      <td>1</td>\n",
       "      <td>1</td>\n",
       "      <td>0.0</td>\n",
       "      <td>1950.0</td>\n",
       "      <td>Другой регион</td>\n",
       "    </tr>\n",
       "    <tr>\n",
       "      <th>2</th>\n",
       "      <td>2.0</td>\n",
       "      <td>1000</td>\n",
       "      <td>7.0</td>\n",
       "      <td>340.0</td>\n",
       "      <td>47.0</td>\n",
       "      <td>75.0</td>\n",
       "      <td>14.0</td>\n",
       "      <td>52</td>\n",
       "      <td>NaT</td>\n",
       "      <td>Краснодар</td>\n",
       "      <td>...</td>\n",
       "      <td>1000</td>\n",
       "      <td>30.0</td>\n",
       "      <td>3000</td>\n",
       "      <td>1950</td>\n",
       "      <td>150</td>\n",
       "      <td>1</td>\n",
       "      <td>1</td>\n",
       "      <td>0.0</td>\n",
       "      <td>1950.0</td>\n",
       "      <td>Другой регион</td>\n",
       "    </tr>\n",
       "    <tr>\n",
       "      <th>3</th>\n",
       "      <td>3.0</td>\n",
       "      <td>1000</td>\n",
       "      <td>8.0</td>\n",
       "      <td>408.0</td>\n",
       "      <td>52.0</td>\n",
       "      <td>81.0</td>\n",
       "      <td>14.0</td>\n",
       "      <td>52</td>\n",
       "      <td>NaT</td>\n",
       "      <td>Краснодар</td>\n",
       "      <td>...</td>\n",
       "      <td>1000</td>\n",
       "      <td>30.0</td>\n",
       "      <td>3000</td>\n",
       "      <td>1950</td>\n",
       "      <td>150</td>\n",
       "      <td>1</td>\n",
       "      <td>1</td>\n",
       "      <td>0.0</td>\n",
       "      <td>1950.0</td>\n",
       "      <td>Другой регион</td>\n",
       "    </tr>\n",
       "    <tr>\n",
       "      <th>4</th>\n",
       "      <td>4.0</td>\n",
       "      <td>1000</td>\n",
       "      <td>9.0</td>\n",
       "      <td>466.0</td>\n",
       "      <td>58.0</td>\n",
       "      <td>57.0</td>\n",
       "      <td>15.0</td>\n",
       "      <td>52</td>\n",
       "      <td>NaT</td>\n",
       "      <td>Краснодар</td>\n",
       "      <td>...</td>\n",
       "      <td>1000</td>\n",
       "      <td>30.0</td>\n",
       "      <td>3000</td>\n",
       "      <td>1950</td>\n",
       "      <td>150</td>\n",
       "      <td>1</td>\n",
       "      <td>1</td>\n",
       "      <td>0.0</td>\n",
       "      <td>1950.0</td>\n",
       "      <td>Другой регион</td>\n",
       "    </tr>\n",
       "  </tbody>\n",
       "</table>\n",
       "<p>5 rows × 24 columns</p>\n",
       "</div>"
      ],
      "text/plain": [
       "   index  user_id  month  month_calls_duration  calls_total_in_month  \\\n",
       "0    0.0     1000    5.0                 159.0                  22.0   \n",
       "1    1.0     1000    6.0                 172.0                  43.0   \n",
       "2    2.0     1000    7.0                 340.0                  47.0   \n",
       "3    3.0     1000    8.0                 408.0                  52.0   \n",
       "4    4.0     1000    9.0                 466.0                  58.0   \n",
       "\n",
       "   message_total_in_month  month_mb_used  age churn_date       city  ...  \\\n",
       "0                    22.0            3.0   52        NaT  Краснодар  ...   \n",
       "1                    60.0           23.0   52        NaT  Краснодар  ...   \n",
       "2                    75.0           14.0   52        NaT  Краснодар  ...   \n",
       "3                    81.0           14.0   52        NaT  Краснодар  ...   \n",
       "4                    57.0           15.0   52        NaT  Краснодар  ...   \n",
       "\n",
       "  messages_included mb_per_month_included minutes_included rub_monthly_fee  \\\n",
       "0              1000                  30.0             3000            1950   \n",
       "1              1000                  30.0             3000            1950   \n",
       "2              1000                  30.0             3000            1950   \n",
       "3              1000                  30.0             3000            1950   \n",
       "4              1000                  30.0             3000            1950   \n",
       "\n",
       "   rub_per_gb  rub_per_message  rub_per_minute  tariff_excess  final_payment  \\\n",
       "0         150                1               1            0.0         1950.0   \n",
       "1         150                1               1            0.0         1950.0   \n",
       "2         150                1               1            0.0         1950.0   \n",
       "3         150                1               1            0.0         1950.0   \n",
       "4         150                1               1            0.0         1950.0   \n",
       "\n",
       "          region  \n",
       "0  Другой регион  \n",
       "1  Другой регион  \n",
       "2  Другой регион  \n",
       "3  Другой регион  \n",
       "4  Другой регион  \n",
       "\n",
       "[5 rows x 24 columns]"
      ]
     },
     "execution_count": 56,
     "metadata": {},
     "output_type": "execute_result"
    }
   ],
   "source": [
    "df['region'] = np.where(df['city'] == 'Москва', 'Москва', 'Другой регион')\n",
    "df.head()"
   ]
  },
  {
   "cell_type": "code",
   "execution_count": 57,
   "metadata": {},
   "outputs": [],
   "source": [
    "moscow = df[df['region'] == 'Москва']\n",
    "region = df[df['region'] == 'Другой регион']"
   ]
  },
  {
   "cell_type": "code",
   "execution_count": 58,
   "metadata": {},
   "outputs": [],
   "source": [
    "moscow = delete_outliers(moscow, 'final_payment', 0)\n",
    "moscow = moscow['final_payment']"
   ]
  },
  {
   "cell_type": "code",
   "execution_count": 59,
   "metadata": {},
   "outputs": [],
   "source": [
    "region = delete_outliers(region, 'final_payment', 0)\n",
    "region = region['final_payment']"
   ]
  },
  {
   "cell_type": "code",
   "execution_count": 60,
   "metadata": {},
   "outputs": [
    {
     "name": "stdout",
     "output_type": "stream",
     "text": [
      "p-значение: 0.29144177734462323\n",
      "Не получилось отвергнуть нулевую гипотезу\n"
     ]
    }
   ],
   "source": [
    "results = st.ttest_ind(moscow, region)\n",
    "print('p-значение:', results.pvalue)\n",
    "\n",
    "if (results.pvalue < alpha):\n",
    "    print('Отвергаем нулевую гипотезу')\n",
    "else:\n",
    "    print('Не получилось отвергнуть нулевую гипотезу')"
   ]
  },
  {
   "cell_type": "markdown",
   "metadata": {},
   "source": [
    "**Вывод**. Cредняя выручка пользователей из Москвы не отличается от выручки пользователей из других регионов и это можно утвержать с вероятностью в 30%."
   ]
  },
  {
   "cell_type": "markdown",
   "metadata": {},
   "source": [
    "<a id=\"cell5\"></a>"
   ]
  },
  {
   "cell_type": "code",
   "execution_count": 68,
   "metadata": {},
   "outputs": [
    {
     "name": "stdout",
     "output_type": "stream",
     "text": [
      "p-значение: 0.1912450522572209\n",
      "Не получилось отвергнуть нулевую гипотезу\n"
     ]
    }
   ],
   "source": [
    "# Приведены два датасета: сумма покупок, совершённых за месяц посетителями ...\n",
    "\n",
    "sample_1 = [3071, 3636, 3454, 3151, 2185, 3259, 1727, 2263, 2015,\n",
    "2582, 4815, 633, 3186, 887, 2028, 3589, 2564, 1422, 1785,\n",
    "3180, 1770, 2716, 2546, 1848, 4644, 3134, 475, 2686,\n",
    "1838, 3352]\n",
    "sample_2 = [1211, 1228, 2157, 3699, 600, 1898, 1688, 1420, 5048, 3007,\n",
    "509, 3777, 5583, 3949, 121, 1674, 4300, 1338, 3066,\n",
    "3562, 1010, 2311, 462, 863, 2021, 528, 1849, 255,\n",
    "1740, 2596]\n",
    "alpha = .05 # критический уровень статистической значимости\n",
    "# если p-value окажется меньше него - отвергнем гипотезу\n",
    "results = st.ttest_ind(\n",
    "sample_1,\n",
    "sample_2)\n",
    "print('p-значение:', results.pvalue)\n",
    "if (results.pvalue < alpha):\n",
    "    print(\"Отвергаем нулевую гипотезу\")\n",
    "else:\n",
    "\n",
    "    print(\"Не получилось отвергнуть нулевую гипотезу\")"
   ]
  },
  {
   "cell_type": "markdown",
   "metadata": {},
   "source": [
    "## Результаты исследования\n",
    "Люди на разных тарифах ведут себя по-разному. Рано или поздно даже клиенты на тарифе Ультра могут уйти, так что рекомендую пересмотреть пакеты тарифов.\n",
    "\n",
    "СМС-ки у клиентов в тарифе Ультра практически не расходуются, тариф Смарт подходит к лимитам - рекомендую пересмотреть пакеты смс сообщений в тарифе Ультра - возможно вообще избавиться. \n",
    "\n",
    "Мобильная связь тоже расходуется по разному. В среднем клиенты на тарифе Смарт тратят 418 минут - можно сказать что они практически полностью используют минуты тарифа. Клиенты на тарифе Ультра тратят в среднем 526 минут, в запасе у них остается около 2500 минут, входящих в их тариф. Рекомендую пересмотреть пакет минут в Тарифе Ультра - значительно сократить и отрегулировать стоимость тарифа из-за этих изменений.\n",
    "\n",
    "Трафик тоже по разному расходуется. На Смарте люди выходят за пределы тарифа довольно часто, пользователи тарифа Ультра в среднем используют 19Гб, т.е. 10 Гб у них остается в запасе. Рекомендую пересмотреть пакет мегабайтов в тарифе Смарт, возможно за счет сокращения смс пакета.\n",
    "\n",
    "Выручка одинаковая и в регионах, и в Москве. Вероятно это не связано с уровнем жизни, а вызвана обыденностью потребления телефонной связи и интернета."
   ]
  }
 ],
 "metadata": {
  "ExecuteTimeLog": [
   {
    "duration": 198,
    "start_time": "2022-05-12T09:58:59.828Z"
   },
   {
    "duration": 1290,
    "start_time": "2022-05-12T10:00:40.779Z"
   },
   {
    "duration": 141,
    "start_time": "2022-05-12T10:01:10.159Z"
   },
   {
    "duration": 124,
    "start_time": "2022-05-12T10:01:43.336Z"
   },
   {
    "duration": 84,
    "start_time": "2022-05-12T10:02:27.759Z"
   },
   {
    "duration": 142,
    "start_time": "2022-05-12T10:02:38.646Z"
   },
   {
    "duration": 150,
    "start_time": "2022-05-12T10:03:17.838Z"
   },
   {
    "duration": 149,
    "start_time": "2022-05-12T10:03:22.790Z"
   },
   {
    "duration": 126,
    "start_time": "2022-05-12T10:03:31.470Z"
   },
   {
    "duration": 87,
    "start_time": "2022-05-12T10:03:36.165Z"
   },
   {
    "duration": 18,
    "start_time": "2022-05-12T10:04:07.045Z"
   },
   {
    "duration": 31,
    "start_time": "2022-05-12T10:04:45.036Z"
   },
   {
    "duration": 12,
    "start_time": "2022-05-12T11:22:27.057Z"
   },
   {
    "duration": 126,
    "start_time": "2022-05-12T11:23:06.816Z"
   },
   {
    "duration": 3194,
    "start_time": "2022-05-12T11:26:27.088Z"
   },
   {
    "duration": 9,
    "start_time": "2022-05-12T11:29:08.506Z"
   },
   {
    "duration": 20,
    "start_time": "2022-05-12T11:29:16.738Z"
   },
   {
    "duration": 20,
    "start_time": "2022-05-12T11:29:37.690Z"
   },
   {
    "duration": 19,
    "start_time": "2022-05-12T11:32:08.561Z"
   },
   {
    "duration": 23,
    "start_time": "2022-05-12T11:32:19.898Z"
   },
   {
    "duration": 13,
    "start_time": "2022-05-12T11:33:23.894Z"
   },
   {
    "duration": 13,
    "start_time": "2022-05-12T11:33:35.413Z"
   },
   {
    "duration": 3,
    "start_time": "2022-05-12T11:35:50.041Z"
   },
   {
    "duration": 3,
    "start_time": "2022-05-12T11:36:10.219Z"
   },
   {
    "duration": 13,
    "start_time": "2022-05-12T11:36:20.186Z"
   },
   {
    "duration": 12,
    "start_time": "2022-05-12T11:37:35.674Z"
   },
   {
    "duration": 1410,
    "start_time": "2022-05-12T11:38:02.573Z"
   },
   {
    "duration": 1894,
    "start_time": "2022-05-12T11:38:05.590Z"
   },
   {
    "duration": 567,
    "start_time": "2022-05-12T11:38:09.780Z"
   },
   {
    "duration": 3679,
    "start_time": "2022-05-12T11:38:13.262Z"
   },
   {
    "duration": 95,
    "start_time": "2022-05-12T11:38:21.461Z"
   },
   {
    "duration": 1716,
    "start_time": "2022-05-12T11:38:32.717Z"
   },
   {
    "duration": 109,
    "start_time": "2022-05-12T11:38:43.763Z"
   },
   {
    "duration": 10,
    "start_time": "2022-05-12T11:39:04.468Z"
   },
   {
    "duration": 12,
    "start_time": "2022-05-12T11:40:05.883Z"
   },
   {
    "duration": 100,
    "start_time": "2022-05-12T11:42:21.945Z"
   },
   {
    "duration": 14,
    "start_time": "2022-05-12T11:42:29.082Z"
   },
   {
    "duration": 16,
    "start_time": "2022-05-12T11:42:39.024Z"
   },
   {
    "duration": 18,
    "start_time": "2022-05-12T11:43:00.086Z"
   },
   {
    "duration": 11,
    "start_time": "2022-05-12T11:44:26.343Z"
   },
   {
    "duration": 10,
    "start_time": "2022-05-12T11:45:54.452Z"
   },
   {
    "duration": 1127,
    "start_time": "2022-05-12T11:49:09.271Z"
   },
   {
    "duration": 140,
    "start_time": "2022-05-12T11:49:11.111Z"
   },
   {
    "duration": 3880,
    "start_time": "2022-05-12T11:49:13.488Z"
   },
   {
    "duration": 9093,
    "start_time": "2022-05-12T11:49:17.370Z"
   },
   {
    "duration": 883,
    "start_time": "2022-05-12T11:49:38.391Z"
   },
   {
    "duration": 20,
    "start_time": "2022-05-12T11:49:42.892Z"
   },
   {
    "duration": 21,
    "start_time": "2022-05-12T11:50:09.751Z"
   },
   {
    "duration": 315,
    "start_time": "2022-05-12T11:50:13.007Z"
   },
   {
    "duration": 1383,
    "start_time": "2022-05-12T11:54:13.580Z"
   },
   {
    "duration": 792,
    "start_time": "2022-05-12T11:54:16.434Z"
   },
   {
    "duration": 1018,
    "start_time": "2022-05-12T11:54:31.563Z"
   },
   {
    "duration": 98,
    "start_time": "2022-05-12T11:54:46.354Z"
   },
   {
    "duration": 289,
    "start_time": "2022-05-12T11:55:05.026Z"
   },
   {
    "duration": 110,
    "start_time": "2022-05-12T11:55:19.209Z"
   },
   {
    "duration": 40,
    "start_time": "2022-05-12T11:58:30.671Z"
   },
   {
    "duration": 33,
    "start_time": "2022-05-12T11:58:50.798Z"
   },
   {
    "duration": 39,
    "start_time": "2022-05-12T11:59:17.557Z"
   },
   {
    "duration": 39,
    "start_time": "2022-05-12T12:01:59.075Z"
   },
   {
    "duration": 2941,
    "start_time": "2022-05-12T12:02:07.019Z"
   },
   {
    "duration": 28,
    "start_time": "2022-05-12T12:03:32.042Z"
   },
   {
    "duration": 98,
    "start_time": "2022-05-12T12:17:32.420Z"
   },
   {
    "duration": 20,
    "start_time": "2022-05-12T12:19:21.388Z"
   },
   {
    "duration": 20,
    "start_time": "2022-05-12T12:19:42.233Z"
   },
   {
    "duration": 20,
    "start_time": "2022-05-12T12:20:00.377Z"
   },
   {
    "duration": 75,
    "start_time": "2022-05-12T12:25:15.647Z"
   },
   {
    "duration": 108,
    "start_time": "2022-05-12T12:25:23.997Z"
   },
   {
    "duration": 18,
    "start_time": "2022-05-12T12:26:54.787Z"
   },
   {
    "duration": 18,
    "start_time": "2022-05-12T12:28:03.779Z"
   },
   {
    "duration": 17,
    "start_time": "2022-05-12T12:28:20.761Z"
   },
   {
    "duration": 19,
    "start_time": "2022-05-12T12:28:46.329Z"
   },
   {
    "duration": 16,
    "start_time": "2022-05-12T12:31:55.288Z"
   },
   {
    "duration": 2166,
    "start_time": "2022-05-12T12:36:18.873Z"
   },
   {
    "duration": 15,
    "start_time": "2022-05-12T12:37:53.961Z"
   },
   {
    "duration": 16,
    "start_time": "2022-05-12T12:38:37.391Z"
   },
   {
    "duration": 82,
    "start_time": "2022-05-12T12:44:11.901Z"
   },
   {
    "duration": 209,
    "start_time": "2022-05-12T12:45:16.923Z"
   },
   {
    "duration": 48,
    "start_time": "2022-05-12T12:45:31.955Z"
   },
   {
    "duration": 71,
    "start_time": "2022-05-12T12:55:20.238Z"
   },
   {
    "duration": 42,
    "start_time": "2022-05-12T12:55:52.226Z"
   },
   {
    "duration": 11,
    "start_time": "2022-05-12T12:57:01.917Z"
   },
   {
    "duration": 12,
    "start_time": "2022-05-12T12:57:17.824Z"
   },
   {
    "duration": 1124,
    "start_time": "2022-05-12T13:01:54.954Z"
   },
   {
    "duration": 153,
    "start_time": "2022-05-12T13:01:57.771Z"
   },
   {
    "duration": 137,
    "start_time": "2022-05-12T13:02:01.202Z"
   },
   {
    "duration": 88,
    "start_time": "2022-05-12T13:02:04.387Z"
   },
   {
    "duration": 20,
    "start_time": "2022-05-12T13:02:07.595Z"
   },
   {
    "duration": 57,
    "start_time": "2022-05-12T13:02:09.993Z"
   },
   {
    "duration": 56,
    "start_time": "2022-05-12T13:02:12.770Z"
   },
   {
    "duration": 87,
    "start_time": "2022-05-12T13:02:19.337Z"
   },
   {
    "duration": 12,
    "start_time": "2022-05-12T13:02:28.970Z"
   },
   {
    "duration": 13,
    "start_time": "2022-05-12T13:02:36.913Z"
   },
   {
    "duration": 200,
    "start_time": "2022-05-12T13:07:13.390Z"
   },
   {
    "duration": 228,
    "start_time": "2022-05-12T13:07:29.196Z"
   },
   {
    "duration": 200,
    "start_time": "2022-05-12T13:07:55.621Z"
   },
   {
    "duration": 160,
    "start_time": "2022-05-12T13:09:13.888Z"
   },
   {
    "duration": 29,
    "start_time": "2022-05-12T13:09:26.249Z"
   },
   {
    "duration": 1187,
    "start_time": "2022-05-12T13:16:34.794Z"
   },
   {
    "duration": 169,
    "start_time": "2022-05-12T13:16:48.531Z"
   },
   {
    "duration": 26,
    "start_time": "2022-05-12T13:17:04.628Z"
   },
   {
    "duration": 24,
    "start_time": "2022-05-12T13:18:37.129Z"
   },
   {
    "duration": 257,
    "start_time": "2022-05-12T13:18:48.729Z"
   },
   {
    "duration": 20,
    "start_time": "2022-05-12T13:19:08.136Z"
   },
   {
    "duration": 25,
    "start_time": "2022-05-12T13:19:25.447Z"
   },
   {
    "duration": 135,
    "start_time": "2022-05-12T13:19:29.671Z"
   },
   {
    "duration": 22,
    "start_time": "2022-05-12T13:19:41.791Z"
   },
   {
    "duration": 14,
    "start_time": "2022-05-12T13:19:57.054Z"
   },
   {
    "duration": 31,
    "start_time": "2022-05-12T13:20:15.693Z"
   },
   {
    "duration": 60,
    "start_time": "2022-05-12T13:20:20.527Z"
   },
   {
    "duration": 11,
    "start_time": "2022-05-12T13:20:41.317Z"
   },
   {
    "duration": 13,
    "start_time": "2022-05-12T13:20:51.734Z"
   },
   {
    "duration": 21,
    "start_time": "2022-05-12T14:18:55.671Z"
   },
   {
    "duration": 34,
    "start_time": "2022-05-12T14:19:38.654Z"
   },
   {
    "duration": 144,
    "start_time": "2022-05-12T14:21:53.204Z"
   },
   {
    "duration": 45,
    "start_time": "2022-05-12T14:22:01.148Z"
   },
   {
    "duration": 46,
    "start_time": "2022-05-12T14:22:50.876Z"
   },
   {
    "duration": 41,
    "start_time": "2022-05-12T14:23:14.497Z"
   },
   {
    "duration": 43,
    "start_time": "2022-05-12T14:23:18.361Z"
   },
   {
    "duration": 61,
    "start_time": "2022-05-12T14:23:27.074Z"
   },
   {
    "duration": 1398,
    "start_time": "2022-05-13T06:33:59.269Z"
   },
   {
    "duration": 159,
    "start_time": "2022-05-13T06:34:02.707Z"
   },
   {
    "duration": 24,
    "start_time": "2022-05-13T06:34:05.898Z"
   },
   {
    "duration": 25,
    "start_time": "2022-05-13T06:34:08.594Z"
   },
   {
    "duration": 145,
    "start_time": "2022-05-13T06:34:12.067Z"
   },
   {
    "duration": 22,
    "start_time": "2022-05-13T06:34:15.275Z"
   },
   {
    "duration": 25,
    "start_time": "2022-05-13T06:34:18.027Z"
   },
   {
    "duration": 115,
    "start_time": "2022-05-13T06:34:21.109Z"
   },
   {
    "duration": 29,
    "start_time": "2022-05-13T06:34:24.019Z"
   },
   {
    "duration": 15,
    "start_time": "2022-05-13T06:34:27.027Z"
   },
   {
    "duration": 18,
    "start_time": "2022-05-13T06:34:29.973Z"
   },
   {
    "duration": 25,
    "start_time": "2022-05-13T06:34:32.570Z"
   },
   {
    "duration": 13,
    "start_time": "2022-05-13T06:34:35.378Z"
   },
   {
    "duration": 14,
    "start_time": "2022-05-13T06:34:37.986Z"
   },
   {
    "duration": 107,
    "start_time": "2022-05-13T06:36:22.201Z"
   },
   {
    "duration": 227,
    "start_time": "2022-05-13T06:36:46.753Z"
   },
   {
    "duration": 216,
    "start_time": "2022-05-13T06:38:12.185Z"
   },
   {
    "duration": 19,
    "start_time": "2022-05-13T06:40:16.343Z"
   },
   {
    "duration": 17,
    "start_time": "2022-05-13T06:41:35.941Z"
   },
   {
    "duration": 17,
    "start_time": "2022-05-13T06:43:23.218Z"
   },
   {
    "duration": 17,
    "start_time": "2022-05-13T06:45:51.393Z"
   },
   {
    "duration": 16,
    "start_time": "2022-05-13T06:46:33.713Z"
   },
   {
    "duration": 13,
    "start_time": "2022-05-13T06:46:38.001Z"
   },
   {
    "duration": 2316,
    "start_time": "2022-05-13T06:46:54.592Z"
   },
   {
    "duration": 2264,
    "start_time": "2022-05-13T06:47:32.776Z"
   },
   {
    "duration": 23,
    "start_time": "2022-05-13T06:48:11.526Z"
   },
   {
    "duration": 17,
    "start_time": "2022-05-13T06:48:19.176Z"
   },
   {
    "duration": 19,
    "start_time": "2022-05-13T06:51:33.479Z"
   },
   {
    "duration": 70,
    "start_time": "2022-05-13T06:52:02.340Z"
   },
   {
    "duration": 1361,
    "start_time": "2022-05-13T06:52:33.181Z"
   },
   {
    "duration": 189,
    "start_time": "2022-05-13T06:52:35.332Z"
   },
   {
    "duration": 32,
    "start_time": "2022-05-13T06:52:38.020Z"
   },
   {
    "duration": 31,
    "start_time": "2022-05-13T06:52:40.091Z"
   },
   {
    "duration": 169,
    "start_time": "2022-05-13T06:52:42.219Z"
   },
   {
    "duration": 20,
    "start_time": "2022-05-13T06:52:44.887Z"
   },
   {
    "duration": 25,
    "start_time": "2022-05-13T06:52:47.299Z"
   },
   {
    "duration": 85,
    "start_time": "2022-05-13T06:52:49.979Z"
   },
   {
    "duration": 17,
    "start_time": "2022-05-13T06:52:53.083Z"
   },
   {
    "duration": 12,
    "start_time": "2022-05-13T06:52:55.107Z"
   },
   {
    "duration": 1130,
    "start_time": "2022-05-13T06:53:08.914Z"
   },
   {
    "duration": 160,
    "start_time": "2022-05-13T06:53:10.046Z"
   },
   {
    "duration": 25,
    "start_time": "2022-05-13T06:53:10.208Z"
   },
   {
    "duration": 43,
    "start_time": "2022-05-13T06:53:10.235Z"
   },
   {
    "duration": 137,
    "start_time": "2022-05-13T06:53:10.280Z"
   },
   {
    "duration": 21,
    "start_time": "2022-05-13T06:53:10.419Z"
   },
   {
    "duration": 45,
    "start_time": "2022-05-13T06:53:10.442Z"
   },
   {
    "duration": 127,
    "start_time": "2022-05-13T06:53:10.489Z"
   },
   {
    "duration": 17,
    "start_time": "2022-05-13T06:53:10.618Z"
   },
   {
    "duration": 25,
    "start_time": "2022-05-13T06:53:10.638Z"
   },
   {
    "duration": 21,
    "start_time": "2022-05-13T06:53:10.666Z"
   },
   {
    "duration": 31,
    "start_time": "2022-05-13T06:53:10.689Z"
   },
   {
    "duration": 14,
    "start_time": "2022-05-13T06:53:10.722Z"
   },
   {
    "duration": 18,
    "start_time": "2022-05-13T06:53:10.738Z"
   },
   {
    "duration": 28,
    "start_time": "2022-05-13T06:53:10.762Z"
   },
   {
    "duration": 134,
    "start_time": "2022-05-13T06:53:10.792Z"
   },
   {
    "duration": 39,
    "start_time": "2022-05-13T06:53:10.927Z"
   },
   {
    "duration": 114,
    "start_time": "2022-05-13T06:53:10.968Z"
   },
   {
    "duration": 157,
    "start_time": "2022-05-13T06:53:11.084Z"
   },
   {
    "duration": 0,
    "start_time": "2022-05-13T06:53:11.243Z"
   },
   {
    "duration": 61,
    "start_time": "2022-05-13T06:53:46.824Z"
   },
   {
    "duration": 16,
    "start_time": "2022-05-13T06:54:25.086Z"
   },
   {
    "duration": 1399,
    "start_time": "2022-05-13T06:54:42.537Z"
   },
   {
    "duration": 203,
    "start_time": "2022-05-13T06:54:43.939Z"
   },
   {
    "duration": 43,
    "start_time": "2022-05-13T06:54:44.144Z"
   },
   {
    "duration": 34,
    "start_time": "2022-05-13T06:54:44.189Z"
   },
   {
    "duration": 204,
    "start_time": "2022-05-13T06:54:44.225Z"
   },
   {
    "duration": 41,
    "start_time": "2022-05-13T06:54:44.430Z"
   },
   {
    "duration": 26,
    "start_time": "2022-05-13T06:54:44.473Z"
   },
   {
    "duration": 101,
    "start_time": "2022-05-13T06:54:44.501Z"
   },
   {
    "duration": 19,
    "start_time": "2022-05-13T06:54:44.604Z"
   },
   {
    "duration": 12,
    "start_time": "2022-05-13T06:54:44.625Z"
   },
   {
    "duration": 31,
    "start_time": "2022-05-13T06:54:44.638Z"
   },
   {
    "duration": 28,
    "start_time": "2022-05-13T06:54:44.671Z"
   },
   {
    "duration": 10,
    "start_time": "2022-05-13T06:54:44.701Z"
   },
   {
    "duration": 15,
    "start_time": "2022-05-13T06:54:44.713Z"
   },
   {
    "duration": 43,
    "start_time": "2022-05-13T06:54:44.730Z"
   },
   {
    "duration": 117,
    "start_time": "2022-05-13T06:54:44.774Z"
   },
   {
    "duration": 21,
    "start_time": "2022-05-13T06:54:44.893Z"
   },
   {
    "duration": 108,
    "start_time": "2022-05-13T06:54:44.915Z"
   },
   {
    "duration": 101,
    "start_time": "2022-05-13T06:54:45.025Z"
   },
   {
    "duration": 0,
    "start_time": "2022-05-13T06:54:45.127Z"
   },
   {
    "duration": 17,
    "start_time": "2022-05-13T06:55:26.929Z"
   },
   {
    "duration": 1113,
    "start_time": "2022-05-13T06:55:32.634Z"
   },
   {
    "duration": 163,
    "start_time": "2022-05-13T06:55:33.750Z"
   },
   {
    "duration": 24,
    "start_time": "2022-05-13T06:55:33.915Z"
   },
   {
    "duration": 41,
    "start_time": "2022-05-13T06:55:33.940Z"
   },
   {
    "duration": 139,
    "start_time": "2022-05-13T06:55:33.983Z"
   },
   {
    "duration": 46,
    "start_time": "2022-05-13T06:55:34.124Z"
   },
   {
    "duration": 31,
    "start_time": "2022-05-13T06:55:34.174Z"
   },
   {
    "duration": 97,
    "start_time": "2022-05-13T06:55:34.207Z"
   },
   {
    "duration": 19,
    "start_time": "2022-05-13T06:55:34.306Z"
   },
   {
    "duration": 12,
    "start_time": "2022-05-13T06:55:34.326Z"
   },
   {
    "duration": 32,
    "start_time": "2022-05-13T06:55:34.340Z"
   },
   {
    "duration": 27,
    "start_time": "2022-05-13T06:55:34.374Z"
   },
   {
    "duration": 10,
    "start_time": "2022-05-13T06:55:34.403Z"
   },
   {
    "duration": 18,
    "start_time": "2022-05-13T06:55:34.417Z"
   },
   {
    "duration": 42,
    "start_time": "2022-05-13T06:55:34.437Z"
   },
   {
    "duration": 100,
    "start_time": "2022-05-13T06:55:34.481Z"
   },
   {
    "duration": 16,
    "start_time": "2022-05-13T06:55:34.582Z"
   },
   {
    "duration": 85,
    "start_time": "2022-05-13T06:55:34.600Z"
   },
   {
    "duration": 110,
    "start_time": "2022-05-13T06:55:34.687Z"
   },
   {
    "duration": 0,
    "start_time": "2022-05-13T06:55:34.798Z"
   },
   {
    "duration": 13,
    "start_time": "2022-05-13T06:57:57.692Z"
   },
   {
    "duration": 14,
    "start_time": "2022-05-13T06:58:15.739Z"
   },
   {
    "duration": 19,
    "start_time": "2022-05-13T07:00:45.963Z"
   },
   {
    "duration": 15,
    "start_time": "2022-05-13T07:02:01.095Z"
   },
   {
    "duration": 52,
    "start_time": "2022-05-13T07:03:50.487Z"
   },
   {
    "duration": 13,
    "start_time": "2022-05-13T07:06:42.479Z"
   },
   {
    "duration": 31,
    "start_time": "2022-05-13T07:07:47.444Z"
   },
   {
    "duration": 19,
    "start_time": "2022-05-13T07:08:22.787Z"
   },
   {
    "duration": 30,
    "start_time": "2022-05-13T07:08:43.033Z"
   },
   {
    "duration": 6,
    "start_time": "2022-05-13T07:09:47.323Z"
   },
   {
    "duration": 14,
    "start_time": "2022-05-13T07:12:20.279Z"
   },
   {
    "duration": 14,
    "start_time": "2022-05-13T07:14:19.078Z"
   },
   {
    "duration": 2504,
    "start_time": "2022-05-13T07:19:49.119Z"
   },
   {
    "duration": 18,
    "start_time": "2022-05-13T07:20:42.286Z"
   },
   {
    "duration": 15,
    "start_time": "2022-05-13T07:21:23.541Z"
   },
   {
    "duration": 19,
    "start_time": "2022-05-13T07:21:32.492Z"
   },
   {
    "duration": 14,
    "start_time": "2022-05-13T07:21:45.103Z"
   },
   {
    "duration": 6,
    "start_time": "2022-05-13T07:22:23.700Z"
   },
   {
    "duration": 18,
    "start_time": "2022-05-13T07:23:45.524Z"
   },
   {
    "duration": 9,
    "start_time": "2022-05-13T07:24:02.475Z"
   },
   {
    "duration": 20,
    "start_time": "2022-05-13T07:24:38.754Z"
   },
   {
    "duration": 45,
    "start_time": "2022-05-13T07:28:49.357Z"
   },
   {
    "duration": 26,
    "start_time": "2022-05-13T07:30:05.382Z"
   },
   {
    "duration": 1117,
    "start_time": "2022-05-13T07:31:38.516Z"
   },
   {
    "duration": 174,
    "start_time": "2022-05-13T07:31:39.635Z"
   },
   {
    "duration": 25,
    "start_time": "2022-05-13T07:31:39.811Z"
   },
   {
    "duration": 43,
    "start_time": "2022-05-13T07:31:39.839Z"
   },
   {
    "duration": 142,
    "start_time": "2022-05-13T07:31:39.884Z"
   },
   {
    "duration": 20,
    "start_time": "2022-05-13T07:31:40.028Z"
   },
   {
    "duration": 27,
    "start_time": "2022-05-13T07:31:40.063Z"
   },
   {
    "duration": 92,
    "start_time": "2022-05-13T07:31:40.092Z"
   },
   {
    "duration": 17,
    "start_time": "2022-05-13T07:31:40.186Z"
   },
   {
    "duration": 12,
    "start_time": "2022-05-13T07:31:40.205Z"
   },
   {
    "duration": 14,
    "start_time": "2022-05-13T07:31:40.218Z"
   },
   {
    "duration": 42,
    "start_time": "2022-05-13T07:31:40.233Z"
   },
   {
    "duration": 11,
    "start_time": "2022-05-13T07:31:40.277Z"
   },
   {
    "duration": 18,
    "start_time": "2022-05-13T07:31:40.290Z"
   },
   {
    "duration": 25,
    "start_time": "2022-05-13T07:31:40.310Z"
   },
   {
    "duration": 136,
    "start_time": "2022-05-13T07:31:40.337Z"
   },
   {
    "duration": 20,
    "start_time": "2022-05-13T07:31:40.475Z"
   },
   {
    "duration": 84,
    "start_time": "2022-05-13T07:31:40.497Z"
   },
   {
    "duration": 17,
    "start_time": "2022-05-13T07:31:40.583Z"
   },
   {
    "duration": 61,
    "start_time": "2022-05-13T07:31:40.602Z"
   },
   {
    "duration": 8,
    "start_time": "2022-05-13T07:31:40.667Z"
   },
   {
    "duration": 30,
    "start_time": "2022-05-13T07:31:40.678Z"
   },
   {
    "duration": 28,
    "start_time": "2022-05-13T07:31:40.710Z"
   },
   {
    "duration": 36,
    "start_time": "2022-05-13T07:31:40.740Z"
   },
   {
    "duration": 23,
    "start_time": "2022-05-13T07:31:40.777Z"
   },
   {
    "duration": 24,
    "start_time": "2022-05-13T07:32:46.559Z"
   },
   {
    "duration": 16,
    "start_time": "2022-05-13T07:47:30.799Z"
   },
   {
    "duration": 18,
    "start_time": "2022-05-13T07:49:43.851Z"
   },
   {
    "duration": 105,
    "start_time": "2022-05-13T07:54:47.639Z"
   },
   {
    "duration": 18,
    "start_time": "2022-05-13T07:55:42.504Z"
   },
   {
    "duration": 1370,
    "start_time": "2022-05-13T08:08:28.208Z"
   },
   {
    "duration": 163,
    "start_time": "2022-05-13T08:08:29.581Z"
   },
   {
    "duration": 27,
    "start_time": "2022-05-13T08:08:29.745Z"
   },
   {
    "duration": 34,
    "start_time": "2022-05-13T08:08:29.774Z"
   },
   {
    "duration": 199,
    "start_time": "2022-05-13T08:08:29.811Z"
   },
   {
    "duration": 33,
    "start_time": "2022-05-13T08:08:30.012Z"
   },
   {
    "duration": 44,
    "start_time": "2022-05-13T08:08:30.047Z"
   },
   {
    "duration": 90,
    "start_time": "2022-05-13T08:08:30.092Z"
   },
   {
    "duration": 17,
    "start_time": "2022-05-13T08:08:30.183Z"
   },
   {
    "duration": 14,
    "start_time": "2022-05-13T08:08:30.201Z"
   },
   {
    "duration": 20,
    "start_time": "2022-05-13T08:08:30.216Z"
   },
   {
    "duration": 45,
    "start_time": "2022-05-13T08:08:30.238Z"
   },
   {
    "duration": 9,
    "start_time": "2022-05-13T08:08:30.285Z"
   },
   {
    "duration": 32,
    "start_time": "2022-05-13T08:08:30.297Z"
   },
   {
    "duration": 45,
    "start_time": "2022-05-13T08:08:30.330Z"
   },
   {
    "duration": 85,
    "start_time": "2022-05-13T08:08:30.377Z"
   },
   {
    "duration": 23,
    "start_time": "2022-05-13T08:08:30.464Z"
   },
   {
    "duration": 87,
    "start_time": "2022-05-13T08:08:30.488Z"
   },
   {
    "duration": 17,
    "start_time": "2022-05-13T08:08:30.577Z"
   },
   {
    "duration": 75,
    "start_time": "2022-05-13T08:08:30.595Z"
   },
   {
    "duration": 8,
    "start_time": "2022-05-13T08:08:30.672Z"
   },
   {
    "duration": 177,
    "start_time": "2022-05-13T08:08:30.681Z"
   },
   {
    "duration": 0,
    "start_time": "2022-05-13T08:08:30.861Z"
   },
   {
    "duration": 0,
    "start_time": "2022-05-13T08:08:30.862Z"
   },
   {
    "duration": 0,
    "start_time": "2022-05-13T08:08:30.864Z"
   },
   {
    "duration": 0,
    "start_time": "2022-05-13T08:08:30.865Z"
   },
   {
    "duration": 0,
    "start_time": "2022-05-13T08:08:30.866Z"
   },
   {
    "duration": 16,
    "start_time": "2022-05-13T08:09:36.591Z"
   },
   {
    "duration": 23,
    "start_time": "2022-05-13T08:09:56.143Z"
   },
   {
    "duration": 25,
    "start_time": "2022-05-13T08:10:38.663Z"
   },
   {
    "duration": 19,
    "start_time": "2022-05-13T08:11:04.200Z"
   },
   {
    "duration": 18,
    "start_time": "2022-05-13T08:11:34.758Z"
   },
   {
    "duration": 15,
    "start_time": "2022-05-13T08:11:45.430Z"
   },
   {
    "duration": 21,
    "start_time": "2022-05-13T08:16:58.969Z"
   },
   {
    "duration": 15,
    "start_time": "2022-05-13T08:30:49.027Z"
   },
   {
    "duration": 21,
    "start_time": "2022-05-13T08:31:39.755Z"
   },
   {
    "duration": 20,
    "start_time": "2022-05-13T08:31:56.026Z"
   },
   {
    "duration": 1243,
    "start_time": "2022-05-13T08:32:10.538Z"
   },
   {
    "duration": 158,
    "start_time": "2022-05-13T08:32:11.783Z"
   },
   {
    "duration": 32,
    "start_time": "2022-05-13T08:32:11.943Z"
   },
   {
    "duration": 29,
    "start_time": "2022-05-13T08:32:11.981Z"
   },
   {
    "duration": 147,
    "start_time": "2022-05-13T08:32:12.012Z"
   },
   {
    "duration": 33,
    "start_time": "2022-05-13T08:32:12.161Z"
   },
   {
    "duration": 26,
    "start_time": "2022-05-13T08:32:12.196Z"
   },
   {
    "duration": 112,
    "start_time": "2022-05-13T08:32:12.223Z"
   },
   {
    "duration": 26,
    "start_time": "2022-05-13T08:32:12.336Z"
   },
   {
    "duration": 14,
    "start_time": "2022-05-13T08:32:12.365Z"
   },
   {
    "duration": 18,
    "start_time": "2022-05-13T08:32:12.383Z"
   },
   {
    "duration": 25,
    "start_time": "2022-05-13T08:32:12.402Z"
   },
   {
    "duration": 10,
    "start_time": "2022-05-13T08:32:12.429Z"
   },
   {
    "duration": 24,
    "start_time": "2022-05-13T08:32:12.441Z"
   },
   {
    "duration": 36,
    "start_time": "2022-05-13T08:32:12.467Z"
   },
   {
    "duration": 123,
    "start_time": "2022-05-13T08:32:12.505Z"
   },
   {
    "duration": 17,
    "start_time": "2022-05-13T08:32:12.630Z"
   },
   {
    "duration": 84,
    "start_time": "2022-05-13T08:32:12.649Z"
   },
   {
    "duration": 33,
    "start_time": "2022-05-13T08:32:12.735Z"
   },
   {
    "duration": 75,
    "start_time": "2022-05-13T08:32:12.771Z"
   },
   {
    "duration": 6,
    "start_time": "2022-05-13T08:32:12.847Z"
   },
   {
    "duration": 26,
    "start_time": "2022-05-13T08:32:12.861Z"
   },
   {
    "duration": 34,
    "start_time": "2022-05-13T08:32:12.889Z"
   },
   {
    "duration": 54,
    "start_time": "2022-05-13T08:32:12.925Z"
   },
   {
    "duration": 24,
    "start_time": "2022-05-13T08:32:12.981Z"
   },
   {
    "duration": 16,
    "start_time": "2022-05-13T08:32:13.007Z"
   },
   {
    "duration": 42,
    "start_time": "2022-05-13T08:32:13.025Z"
   },
   {
    "duration": 10,
    "start_time": "2022-05-13T08:35:03.438Z"
   },
   {
    "duration": 146,
    "start_time": "2022-05-13T08:35:48.229Z"
   },
   {
    "duration": 40,
    "start_time": "2022-05-13T08:36:09.643Z"
   },
   {
    "duration": 20,
    "start_time": "2022-05-13T08:37:36.216Z"
   },
   {
    "duration": 66,
    "start_time": "2022-05-13T08:37:41.634Z"
   },
   {
    "duration": 54,
    "start_time": "2022-05-13T08:40:27.992Z"
   },
   {
    "duration": 93,
    "start_time": "2022-05-13T08:40:34.425Z"
   },
   {
    "duration": 46,
    "start_time": "2022-05-13T08:40:59.991Z"
   },
   {
    "duration": 26,
    "start_time": "2022-05-13T08:41:04.698Z"
   },
   {
    "duration": 110,
    "start_time": "2022-05-13T08:41:08.543Z"
   },
   {
    "duration": 32,
    "start_time": "2022-05-13T08:50:50.350Z"
   },
   {
    "duration": 31,
    "start_time": "2022-05-13T08:51:09.270Z"
   },
   {
    "duration": 39,
    "start_time": "2022-05-13T08:51:33.030Z"
   },
   {
    "duration": 29,
    "start_time": "2022-05-13T08:51:39.414Z"
   },
   {
    "duration": 50,
    "start_time": "2022-05-13T08:52:00.069Z"
   },
   {
    "duration": 26,
    "start_time": "2022-05-13T08:52:04.975Z"
   },
   {
    "duration": 36,
    "start_time": "2022-05-13T08:52:35.838Z"
   },
   {
    "duration": 23,
    "start_time": "2022-05-13T08:52:38.501Z"
   },
   {
    "duration": 45,
    "start_time": "2022-05-13T08:52:47.878Z"
   },
   {
    "duration": 21,
    "start_time": "2022-05-13T08:52:50.812Z"
   },
   {
    "duration": 24,
    "start_time": "2022-05-13T08:52:55.383Z"
   },
   {
    "duration": 28,
    "start_time": "2022-05-13T08:52:59.188Z"
   },
   {
    "duration": 20,
    "start_time": "2022-05-13T08:53:29.091Z"
   },
   {
    "duration": 19,
    "start_time": "2022-05-13T08:53:43.506Z"
   },
   {
    "duration": 38,
    "start_time": "2022-05-13T08:53:53.578Z"
   },
   {
    "duration": 33,
    "start_time": "2022-05-13T08:54:10.946Z"
   },
   {
    "duration": 42,
    "start_time": "2022-05-13T08:54:14.146Z"
   },
   {
    "duration": 35,
    "start_time": "2022-05-13T08:57:21.175Z"
   },
   {
    "duration": 35,
    "start_time": "2022-05-13T08:57:52.390Z"
   },
   {
    "duration": 1205,
    "start_time": "2022-05-13T08:57:58.069Z"
   },
   {
    "duration": 225,
    "start_time": "2022-05-13T08:57:59.276Z"
   },
   {
    "duration": 37,
    "start_time": "2022-05-13T08:57:59.503Z"
   },
   {
    "duration": 50,
    "start_time": "2022-05-13T08:57:59.542Z"
   },
   {
    "duration": 202,
    "start_time": "2022-05-13T08:57:59.595Z"
   },
   {
    "duration": 24,
    "start_time": "2022-05-13T08:57:59.799Z"
   },
   {
    "duration": 62,
    "start_time": "2022-05-13T08:57:59.825Z"
   },
   {
    "duration": 89,
    "start_time": "2022-05-13T08:57:59.889Z"
   },
   {
    "duration": 21,
    "start_time": "2022-05-13T08:57:59.980Z"
   },
   {
    "duration": 14,
    "start_time": "2022-05-13T08:58:00.003Z"
   },
   {
    "duration": 16,
    "start_time": "2022-05-13T08:58:00.019Z"
   },
   {
    "duration": 32,
    "start_time": "2022-05-13T08:58:00.036Z"
   },
   {
    "duration": 16,
    "start_time": "2022-05-13T08:58:00.069Z"
   },
   {
    "duration": 19,
    "start_time": "2022-05-13T08:58:00.089Z"
   },
   {
    "duration": 29,
    "start_time": "2022-05-13T08:58:00.109Z"
   },
   {
    "duration": 138,
    "start_time": "2022-05-13T08:58:00.140Z"
   },
   {
    "duration": 17,
    "start_time": "2022-05-13T08:58:00.282Z"
   },
   {
    "duration": 85,
    "start_time": "2022-05-13T08:58:00.300Z"
   },
   {
    "duration": 16,
    "start_time": "2022-05-13T08:58:00.387Z"
   },
   {
    "duration": 72,
    "start_time": "2022-05-13T08:58:00.404Z"
   },
   {
    "duration": 8,
    "start_time": "2022-05-13T08:58:00.477Z"
   },
   {
    "duration": 31,
    "start_time": "2022-05-13T08:58:00.487Z"
   },
   {
    "duration": 54,
    "start_time": "2022-05-13T08:58:00.521Z"
   },
   {
    "duration": 25,
    "start_time": "2022-05-13T08:58:00.577Z"
   },
   {
    "duration": 26,
    "start_time": "2022-05-13T08:58:00.604Z"
   },
   {
    "duration": 41,
    "start_time": "2022-05-13T08:58:00.632Z"
   },
   {
    "duration": 19,
    "start_time": "2022-05-13T08:58:00.675Z"
   },
   {
    "duration": 122,
    "start_time": "2022-05-13T08:58:00.696Z"
   },
   {
    "duration": 0,
    "start_time": "2022-05-13T08:58:00.819Z"
   },
   {
    "duration": 35,
    "start_time": "2022-05-13T08:58:16.652Z"
   },
   {
    "duration": 29,
    "start_time": "2022-05-13T08:58:42.532Z"
   },
   {
    "duration": 31,
    "start_time": "2022-05-13T08:58:58.981Z"
   },
   {
    "duration": 23,
    "start_time": "2022-05-13T08:59:32.651Z"
   },
   {
    "duration": 19,
    "start_time": "2022-05-13T08:59:49.250Z"
   },
   {
    "duration": 36,
    "start_time": "2022-05-13T09:00:08.962Z"
   },
   {
    "duration": 23,
    "start_time": "2022-05-13T09:00:40.081Z"
   },
   {
    "duration": 1290,
    "start_time": "2022-05-13T09:00:48.250Z"
   },
   {
    "duration": 190,
    "start_time": "2022-05-13T09:00:49.542Z"
   },
   {
    "duration": 37,
    "start_time": "2022-05-13T09:00:49.733Z"
   },
   {
    "duration": 33,
    "start_time": "2022-05-13T09:00:49.773Z"
   },
   {
    "duration": 167,
    "start_time": "2022-05-13T09:00:49.808Z"
   },
   {
    "duration": 27,
    "start_time": "2022-05-13T09:00:49.983Z"
   },
   {
    "duration": 30,
    "start_time": "2022-05-13T09:00:50.013Z"
   },
   {
    "duration": 135,
    "start_time": "2022-05-13T09:00:50.044Z"
   },
   {
    "duration": 27,
    "start_time": "2022-05-13T09:00:50.181Z"
   },
   {
    "duration": 15,
    "start_time": "2022-05-13T09:00:50.212Z"
   },
   {
    "duration": 15,
    "start_time": "2022-05-13T09:00:50.229Z"
   },
   {
    "duration": 41,
    "start_time": "2022-05-13T09:00:50.246Z"
   },
   {
    "duration": 14,
    "start_time": "2022-05-13T09:00:50.290Z"
   },
   {
    "duration": 19,
    "start_time": "2022-05-13T09:00:50.306Z"
   },
   {
    "duration": 36,
    "start_time": "2022-05-13T09:00:50.327Z"
   },
   {
    "duration": 124,
    "start_time": "2022-05-13T09:00:50.365Z"
   },
   {
    "duration": 26,
    "start_time": "2022-05-13T09:00:50.491Z"
   },
   {
    "duration": 94,
    "start_time": "2022-05-13T09:00:50.521Z"
   },
   {
    "duration": 16,
    "start_time": "2022-05-13T09:00:50.618Z"
   },
   {
    "duration": 80,
    "start_time": "2022-05-13T09:00:50.636Z"
   },
   {
    "duration": 7,
    "start_time": "2022-05-13T09:00:50.719Z"
   },
   {
    "duration": 40,
    "start_time": "2022-05-13T09:00:50.728Z"
   },
   {
    "duration": 39,
    "start_time": "2022-05-13T09:00:50.770Z"
   },
   {
    "duration": 24,
    "start_time": "2022-05-13T09:00:50.812Z"
   },
   {
    "duration": 48,
    "start_time": "2022-05-13T09:00:50.839Z"
   },
   {
    "duration": 28,
    "start_time": "2022-05-13T09:00:50.890Z"
   },
   {
    "duration": 19,
    "start_time": "2022-05-13T09:00:50.921Z"
   },
   {
    "duration": 26,
    "start_time": "2022-05-13T09:00:50.964Z"
   },
   {
    "duration": 13,
    "start_time": "2022-05-13T09:00:50.992Z"
   },
   {
    "duration": 25,
    "start_time": "2022-05-13T09:01:14.873Z"
   },
   {
    "duration": 24,
    "start_time": "2022-05-13T09:02:09.719Z"
   },
   {
    "duration": 1349,
    "start_time": "2022-05-13T09:02:28.903Z"
   },
   {
    "duration": 224,
    "start_time": "2022-05-13T09:02:30.255Z"
   },
   {
    "duration": 34,
    "start_time": "2022-05-13T09:02:30.481Z"
   },
   {
    "duration": 52,
    "start_time": "2022-05-13T09:02:30.518Z"
   },
   {
    "duration": 225,
    "start_time": "2022-05-13T09:02:30.572Z"
   },
   {
    "duration": 22,
    "start_time": "2022-05-13T09:02:30.798Z"
   },
   {
    "duration": 42,
    "start_time": "2022-05-13T09:02:30.821Z"
   },
   {
    "duration": 105,
    "start_time": "2022-05-13T09:02:30.865Z"
   },
   {
    "duration": 21,
    "start_time": "2022-05-13T09:02:30.974Z"
   },
   {
    "duration": 13,
    "start_time": "2022-05-13T09:02:30.998Z"
   },
   {
    "duration": 18,
    "start_time": "2022-05-13T09:02:31.013Z"
   },
   {
    "duration": 34,
    "start_time": "2022-05-13T09:02:31.032Z"
   },
   {
    "duration": 16,
    "start_time": "2022-05-13T09:02:31.067Z"
   },
   {
    "duration": 42,
    "start_time": "2022-05-13T09:02:31.085Z"
   },
   {
    "duration": 37,
    "start_time": "2022-05-13T09:02:31.130Z"
   },
   {
    "duration": 139,
    "start_time": "2022-05-13T09:02:31.169Z"
   },
   {
    "duration": 22,
    "start_time": "2022-05-13T09:02:31.310Z"
   },
   {
    "duration": 128,
    "start_time": "2022-05-13T09:02:31.334Z"
   },
   {
    "duration": 19,
    "start_time": "2022-05-13T09:02:31.464Z"
   },
   {
    "duration": 62,
    "start_time": "2022-05-13T09:02:31.486Z"
   },
   {
    "duration": 23,
    "start_time": "2022-05-13T09:02:31.550Z"
   },
   {
    "duration": 31,
    "start_time": "2022-05-13T09:02:31.575Z"
   },
   {
    "duration": 30,
    "start_time": "2022-05-13T09:02:31.608Z"
   },
   {
    "duration": 40,
    "start_time": "2022-05-13T09:02:31.639Z"
   },
   {
    "duration": 26,
    "start_time": "2022-05-13T09:02:31.680Z"
   },
   {
    "duration": 26,
    "start_time": "2022-05-13T09:02:31.707Z"
   },
   {
    "duration": 48,
    "start_time": "2022-05-13T09:02:31.735Z"
   },
   {
    "duration": 23,
    "start_time": "2022-05-13T09:02:31.787Z"
   },
   {
    "duration": 10,
    "start_time": "2022-05-13T09:02:31.812Z"
   },
   {
    "duration": 20,
    "start_time": "2022-05-13T09:03:18.148Z"
   },
   {
    "duration": 1179,
    "start_time": "2022-05-13T09:03:35.537Z"
   },
   {
    "duration": 169,
    "start_time": "2022-05-13T09:03:36.718Z"
   },
   {
    "duration": 24,
    "start_time": "2022-05-13T09:03:36.889Z"
   },
   {
    "duration": 27,
    "start_time": "2022-05-13T09:03:36.915Z"
   },
   {
    "duration": 164,
    "start_time": "2022-05-13T09:03:36.943Z"
   },
   {
    "duration": 20,
    "start_time": "2022-05-13T09:03:37.109Z"
   },
   {
    "duration": 43,
    "start_time": "2022-05-13T09:03:37.131Z"
   },
   {
    "duration": 100,
    "start_time": "2022-05-13T09:03:37.176Z"
   },
   {
    "duration": 22,
    "start_time": "2022-05-13T09:03:37.277Z"
   },
   {
    "duration": 13,
    "start_time": "2022-05-13T09:03:37.302Z"
   },
   {
    "duration": 15,
    "start_time": "2022-05-13T09:03:37.317Z"
   },
   {
    "duration": 41,
    "start_time": "2022-05-13T09:03:37.334Z"
   },
   {
    "duration": 13,
    "start_time": "2022-05-13T09:03:37.376Z"
   },
   {
    "duration": 13,
    "start_time": "2022-05-13T09:03:37.391Z"
   },
   {
    "duration": 23,
    "start_time": "2022-05-13T09:03:37.406Z"
   },
   {
    "duration": 115,
    "start_time": "2022-05-13T09:03:37.431Z"
   },
   {
    "duration": 40,
    "start_time": "2022-05-13T09:03:37.547Z"
   },
   {
    "duration": 81,
    "start_time": "2022-05-13T09:03:37.589Z"
   },
   {
    "duration": 19,
    "start_time": "2022-05-13T09:03:37.673Z"
   },
   {
    "duration": 56,
    "start_time": "2022-05-13T09:03:37.694Z"
   },
   {
    "duration": 16,
    "start_time": "2022-05-13T09:03:37.751Z"
   },
   {
    "duration": 30,
    "start_time": "2022-05-13T09:03:37.771Z"
   },
   {
    "duration": 33,
    "start_time": "2022-05-13T09:03:37.802Z"
   },
   {
    "duration": 27,
    "start_time": "2022-05-13T09:03:37.836Z"
   },
   {
    "duration": 31,
    "start_time": "2022-05-13T09:03:37.864Z"
   },
   {
    "duration": 20,
    "start_time": "2022-05-13T09:03:37.896Z"
   },
   {
    "duration": 17,
    "start_time": "2022-05-13T09:03:37.917Z"
   },
   {
    "duration": 20,
    "start_time": "2022-05-13T09:03:37.965Z"
   },
   {
    "duration": 8,
    "start_time": "2022-05-13T09:03:37.987Z"
   },
   {
    "duration": 107,
    "start_time": "2022-05-13T09:03:56.983Z"
   },
   {
    "duration": 20,
    "start_time": "2022-05-13T09:04:00.445Z"
   },
   {
    "duration": 24,
    "start_time": "2022-05-13T09:04:07.865Z"
   },
   {
    "duration": 23,
    "start_time": "2022-05-13T09:04:19.951Z"
   },
   {
    "duration": 27,
    "start_time": "2022-05-13T09:04:21.494Z"
   },
   {
    "duration": 19,
    "start_time": "2022-05-13T09:04:30.521Z"
   },
   {
    "duration": 1400,
    "start_time": "2022-05-13T09:04:37.802Z"
   },
   {
    "duration": 205,
    "start_time": "2022-05-13T09:04:39.205Z"
   },
   {
    "duration": 48,
    "start_time": "2022-05-13T09:04:39.415Z"
   },
   {
    "duration": 36,
    "start_time": "2022-05-13T09:04:39.468Z"
   },
   {
    "duration": 140,
    "start_time": "2022-05-13T09:04:39.506Z"
   },
   {
    "duration": 29,
    "start_time": "2022-05-13T09:04:39.647Z"
   },
   {
    "duration": 33,
    "start_time": "2022-05-13T09:04:39.680Z"
   },
   {
    "duration": 99,
    "start_time": "2022-05-13T09:04:39.714Z"
   },
   {
    "duration": 19,
    "start_time": "2022-05-13T09:04:39.816Z"
   },
   {
    "duration": 32,
    "start_time": "2022-05-13T09:04:39.837Z"
   },
   {
    "duration": 15,
    "start_time": "2022-05-13T09:04:39.871Z"
   },
   {
    "duration": 26,
    "start_time": "2022-05-13T09:04:39.888Z"
   },
   {
    "duration": 9,
    "start_time": "2022-05-13T09:04:39.915Z"
   },
   {
    "duration": 15,
    "start_time": "2022-05-13T09:04:39.926Z"
   },
   {
    "duration": 32,
    "start_time": "2022-05-13T09:04:39.943Z"
   },
   {
    "duration": 132,
    "start_time": "2022-05-13T09:04:39.977Z"
   },
   {
    "duration": 25,
    "start_time": "2022-05-13T09:04:40.111Z"
   },
   {
    "duration": 113,
    "start_time": "2022-05-13T09:04:40.137Z"
   },
   {
    "duration": 24,
    "start_time": "2022-05-13T09:04:40.252Z"
   },
   {
    "duration": 92,
    "start_time": "2022-05-13T09:04:40.278Z"
   },
   {
    "duration": 8,
    "start_time": "2022-05-13T09:04:40.372Z"
   },
   {
    "duration": 25,
    "start_time": "2022-05-13T09:04:40.382Z"
   },
   {
    "duration": 36,
    "start_time": "2022-05-13T09:04:40.409Z"
   },
   {
    "duration": 40,
    "start_time": "2022-05-13T09:04:40.447Z"
   },
   {
    "duration": 24,
    "start_time": "2022-05-13T09:04:40.489Z"
   },
   {
    "duration": 19,
    "start_time": "2022-05-13T09:04:40.515Z"
   },
   {
    "duration": 46,
    "start_time": "2022-05-13T09:04:40.537Z"
   },
   {
    "duration": 22,
    "start_time": "2022-05-13T09:04:40.585Z"
   },
   {
    "duration": 7,
    "start_time": "2022-05-13T09:04:40.609Z"
   },
   {
    "duration": 157,
    "start_time": "2022-05-13T09:06:09.057Z"
   },
   {
    "duration": 29,
    "start_time": "2022-05-13T09:07:09.400Z"
   },
   {
    "duration": 19,
    "start_time": "2022-05-13T09:07:10.505Z"
   },
   {
    "duration": 24,
    "start_time": "2022-05-13T09:07:14.885Z"
   },
   {
    "duration": 1466,
    "start_time": "2022-05-13T09:07:20.990Z"
   },
   {
    "duration": 249,
    "start_time": "2022-05-13T09:07:22.462Z"
   },
   {
    "duration": 26,
    "start_time": "2022-05-13T09:07:22.713Z"
   },
   {
    "duration": 54,
    "start_time": "2022-05-13T09:07:22.741Z"
   },
   {
    "duration": 213,
    "start_time": "2022-05-13T09:07:22.799Z"
   },
   {
    "duration": 33,
    "start_time": "2022-05-13T09:07:23.014Z"
   },
   {
    "duration": 57,
    "start_time": "2022-05-13T09:07:23.050Z"
   },
   {
    "duration": 134,
    "start_time": "2022-05-13T09:07:23.111Z"
   },
   {
    "duration": 32,
    "start_time": "2022-05-13T09:07:23.247Z"
   },
   {
    "duration": 41,
    "start_time": "2022-05-13T09:07:23.281Z"
   },
   {
    "duration": 21,
    "start_time": "2022-05-13T09:07:23.324Z"
   },
   {
    "duration": 30,
    "start_time": "2022-05-13T09:07:23.347Z"
   },
   {
    "duration": 32,
    "start_time": "2022-05-13T09:07:23.380Z"
   },
   {
    "duration": 18,
    "start_time": "2022-05-13T09:07:23.416Z"
   },
   {
    "duration": 40,
    "start_time": "2022-05-13T09:07:23.437Z"
   },
   {
    "duration": 133,
    "start_time": "2022-05-13T09:07:23.480Z"
   },
   {
    "duration": 29,
    "start_time": "2022-05-13T09:07:23.615Z"
   },
   {
    "duration": 117,
    "start_time": "2022-05-13T09:07:23.646Z"
   },
   {
    "duration": 30,
    "start_time": "2022-05-13T09:07:23.766Z"
   },
   {
    "duration": 70,
    "start_time": "2022-05-13T09:07:23.798Z"
   },
   {
    "duration": 11,
    "start_time": "2022-05-13T09:07:23.871Z"
   },
   {
    "duration": 43,
    "start_time": "2022-05-13T09:07:23.883Z"
   },
   {
    "duration": 44,
    "start_time": "2022-05-13T09:07:23.928Z"
   },
   {
    "duration": 33,
    "start_time": "2022-05-13T09:07:23.974Z"
   },
   {
    "duration": 45,
    "start_time": "2022-05-13T09:07:24.009Z"
   },
   {
    "duration": 42,
    "start_time": "2022-05-13T09:07:24.065Z"
   },
   {
    "duration": 21,
    "start_time": "2022-05-13T09:07:24.109Z"
   },
   {
    "duration": 38,
    "start_time": "2022-05-13T09:07:24.131Z"
   },
   {
    "duration": 44,
    "start_time": "2022-05-13T09:07:24.173Z"
   },
   {
    "duration": 1505,
    "start_time": "2022-05-13T09:07:46.336Z"
   },
   {
    "duration": 174,
    "start_time": "2022-05-13T09:07:47.843Z"
   },
   {
    "duration": 26,
    "start_time": "2022-05-13T09:07:48.019Z"
   },
   {
    "duration": 41,
    "start_time": "2022-05-13T09:07:48.063Z"
   },
   {
    "duration": 233,
    "start_time": "2022-05-13T09:07:48.106Z"
   },
   {
    "duration": 41,
    "start_time": "2022-05-13T09:07:48.341Z"
   },
   {
    "duration": 59,
    "start_time": "2022-05-13T09:07:48.383Z"
   },
   {
    "duration": 137,
    "start_time": "2022-05-13T09:07:48.444Z"
   },
   {
    "duration": 29,
    "start_time": "2022-05-13T09:07:48.583Z"
   },
   {
    "duration": 16,
    "start_time": "2022-05-13T09:07:48.615Z"
   },
   {
    "duration": 38,
    "start_time": "2022-05-13T09:07:48.633Z"
   },
   {
    "duration": 35,
    "start_time": "2022-05-13T09:07:48.674Z"
   },
   {
    "duration": 14,
    "start_time": "2022-05-13T09:07:48.711Z"
   },
   {
    "duration": 28,
    "start_time": "2022-05-13T09:07:48.727Z"
   },
   {
    "duration": 66,
    "start_time": "2022-05-13T09:07:48.757Z"
   },
   {
    "duration": 128,
    "start_time": "2022-05-13T09:07:48.825Z"
   },
   {
    "duration": 29,
    "start_time": "2022-05-13T09:07:48.955Z"
   },
   {
    "duration": 129,
    "start_time": "2022-05-13T09:07:48.989Z"
   },
   {
    "duration": 18,
    "start_time": "2022-05-13T09:07:49.120Z"
   },
   {
    "duration": 83,
    "start_time": "2022-05-13T09:07:49.140Z"
   },
   {
    "duration": 8,
    "start_time": "2022-05-13T09:07:49.225Z"
   },
   {
    "duration": 36,
    "start_time": "2022-05-13T09:07:49.235Z"
   },
   {
    "duration": 55,
    "start_time": "2022-05-13T09:07:49.276Z"
   },
   {
    "duration": 22,
    "start_time": "2022-05-13T09:07:49.332Z"
   },
   {
    "duration": 46,
    "start_time": "2022-05-13T09:07:49.356Z"
   },
   {
    "duration": 27,
    "start_time": "2022-05-13T09:07:49.404Z"
   },
   {
    "duration": 42,
    "start_time": "2022-05-13T09:07:49.434Z"
   },
   {
    "duration": 23,
    "start_time": "2022-05-13T09:07:49.481Z"
   },
   {
    "duration": 8,
    "start_time": "2022-05-13T09:07:49.506Z"
   },
   {
    "duration": 24,
    "start_time": "2022-05-13T09:08:15.703Z"
   },
   {
    "duration": 29,
    "start_time": "2022-05-13T09:08:56.526Z"
   },
   {
    "duration": 172,
    "start_time": "2022-05-13T09:09:21.118Z"
   },
   {
    "duration": 1420,
    "start_time": "2022-05-13T09:09:32.990Z"
   },
   {
    "duration": 206,
    "start_time": "2022-05-13T09:09:34.416Z"
   },
   {
    "duration": 49,
    "start_time": "2022-05-13T09:09:34.625Z"
   },
   {
    "duration": 46,
    "start_time": "2022-05-13T09:09:34.676Z"
   },
   {
    "duration": 196,
    "start_time": "2022-05-13T09:09:34.725Z"
   },
   {
    "duration": 22,
    "start_time": "2022-05-13T09:09:34.923Z"
   },
   {
    "duration": 40,
    "start_time": "2022-05-13T09:09:34.947Z"
   },
   {
    "duration": 108,
    "start_time": "2022-05-13T09:09:34.990Z"
   },
   {
    "duration": 26,
    "start_time": "2022-05-13T09:09:35.102Z"
   },
   {
    "duration": 25,
    "start_time": "2022-05-13T09:09:35.130Z"
   },
   {
    "duration": 38,
    "start_time": "2022-05-13T09:09:35.164Z"
   },
   {
    "duration": 39,
    "start_time": "2022-05-13T09:09:35.206Z"
   },
   {
    "duration": 11,
    "start_time": "2022-05-13T09:09:35.247Z"
   },
   {
    "duration": 43,
    "start_time": "2022-05-13T09:09:35.262Z"
   },
   {
    "duration": 24,
    "start_time": "2022-05-13T09:09:35.307Z"
   },
   {
    "duration": 114,
    "start_time": "2022-05-13T09:09:35.333Z"
   },
   {
    "duration": 23,
    "start_time": "2022-05-13T09:09:35.449Z"
   },
   {
    "duration": 98,
    "start_time": "2022-05-13T09:09:35.474Z"
   },
   {
    "duration": 27,
    "start_time": "2022-05-13T09:09:35.575Z"
   },
   {
    "duration": 83,
    "start_time": "2022-05-13T09:09:35.604Z"
   },
   {
    "duration": 8,
    "start_time": "2022-05-13T09:09:35.690Z"
   },
   {
    "duration": 21,
    "start_time": "2022-05-13T09:09:35.700Z"
   },
   {
    "duration": 59,
    "start_time": "2022-05-13T09:09:35.723Z"
   },
   {
    "duration": 27,
    "start_time": "2022-05-13T09:09:35.784Z"
   },
   {
    "duration": 25,
    "start_time": "2022-05-13T09:09:35.813Z"
   },
   {
    "duration": 65,
    "start_time": "2022-05-13T09:09:35.840Z"
   },
   {
    "duration": 19,
    "start_time": "2022-05-13T09:09:35.906Z"
   },
   {
    "duration": 27,
    "start_time": "2022-05-13T09:09:35.928Z"
   },
   {
    "duration": 13,
    "start_time": "2022-05-13T09:09:35.957Z"
   },
   {
    "duration": 6,
    "start_time": "2022-05-13T09:16:32.517Z"
   },
   {
    "duration": 10,
    "start_time": "2022-05-13T09:16:43.339Z"
   },
   {
    "duration": 13,
    "start_time": "2022-05-13T09:17:21.250Z"
   },
   {
    "duration": 5,
    "start_time": "2022-05-13T09:24:23.595Z"
   },
   {
    "duration": 112,
    "start_time": "2022-05-13T09:24:56.978Z"
   },
   {
    "duration": 6,
    "start_time": "2022-05-13T09:25:15.873Z"
   },
   {
    "duration": 13,
    "start_time": "2022-05-13T09:25:23.760Z"
   },
   {
    "duration": 6,
    "start_time": "2022-05-13T09:44:38.598Z"
   },
   {
    "duration": 8,
    "start_time": "2022-05-13T09:44:45.987Z"
   },
   {
    "duration": 6,
    "start_time": "2022-05-13T09:50:21.169Z"
   },
   {
    "duration": 7,
    "start_time": "2022-05-13T09:50:31.913Z"
   },
   {
    "duration": 3643,
    "start_time": "2022-05-13T10:00:03.097Z"
   },
   {
    "duration": 3552,
    "start_time": "2022-05-13T10:00:55.395Z"
   },
   {
    "duration": 3286,
    "start_time": "2022-05-13T10:01:24.736Z"
   },
   {
    "duration": 3451,
    "start_time": "2022-05-13T10:02:18.486Z"
   },
   {
    "duration": 3435,
    "start_time": "2022-05-13T10:03:09.025Z"
   },
   {
    "duration": 153,
    "start_time": "2022-05-13T11:12:06.094Z"
   },
   {
    "duration": 2690,
    "start_time": "2022-05-13T11:13:42.616Z"
   },
   {
    "duration": 31,
    "start_time": "2022-05-13T11:14:01.417Z"
   },
   {
    "duration": 1333,
    "start_time": "2022-05-13T11:24:30.384Z"
   },
   {
    "duration": 182,
    "start_time": "2022-05-13T11:24:31.719Z"
   },
   {
    "duration": 28,
    "start_time": "2022-05-13T11:24:31.903Z"
   },
   {
    "duration": 39,
    "start_time": "2022-05-13T11:24:31.934Z"
   },
   {
    "duration": 167,
    "start_time": "2022-05-13T11:24:31.975Z"
   },
   {
    "duration": 32,
    "start_time": "2022-05-13T11:24:32.144Z"
   },
   {
    "duration": 50,
    "start_time": "2022-05-13T11:24:32.178Z"
   },
   {
    "duration": 104,
    "start_time": "2022-05-13T11:24:32.230Z"
   },
   {
    "duration": 17,
    "start_time": "2022-05-13T11:24:32.336Z"
   },
   {
    "duration": 21,
    "start_time": "2022-05-13T11:24:32.356Z"
   },
   {
    "duration": 47,
    "start_time": "2022-05-13T11:24:32.378Z"
   },
   {
    "duration": 23,
    "start_time": "2022-05-13T11:24:32.426Z"
   },
   {
    "duration": 10,
    "start_time": "2022-05-13T11:24:32.450Z"
   },
   {
    "duration": 50,
    "start_time": "2022-05-13T11:24:32.468Z"
   },
   {
    "duration": 24,
    "start_time": "2022-05-13T11:24:32.519Z"
   },
   {
    "duration": 84,
    "start_time": "2022-05-13T11:24:32.545Z"
   },
   {
    "duration": 17,
    "start_time": "2022-05-13T11:24:32.631Z"
   },
   {
    "duration": 89,
    "start_time": "2022-05-13T11:24:32.650Z"
   },
   {
    "duration": 14,
    "start_time": "2022-05-13T11:24:32.741Z"
   },
   {
    "duration": 74,
    "start_time": "2022-05-13T11:24:32.762Z"
   },
   {
    "duration": 6,
    "start_time": "2022-05-13T11:24:32.838Z"
   },
   {
    "duration": 26,
    "start_time": "2022-05-13T11:24:32.846Z"
   },
   {
    "duration": 76,
    "start_time": "2022-05-13T11:24:32.873Z"
   },
   {
    "duration": 30,
    "start_time": "2022-05-13T11:24:32.950Z"
   },
   {
    "duration": 28,
    "start_time": "2022-05-13T11:24:32.982Z"
   },
   {
    "duration": 32,
    "start_time": "2022-05-13T11:24:33.012Z"
   },
   {
    "duration": 33,
    "start_time": "2022-05-13T11:24:33.046Z"
   },
   {
    "duration": 41,
    "start_time": "2022-05-13T11:24:33.083Z"
   },
   {
    "duration": 8,
    "start_time": "2022-05-13T11:24:33.126Z"
   },
   {
    "duration": 12,
    "start_time": "2022-05-13T11:24:33.136Z"
   },
   {
    "duration": 23,
    "start_time": "2022-05-13T11:24:33.150Z"
   },
   {
    "duration": 208,
    "start_time": "2022-05-13T11:24:33.175Z"
   },
   {
    "duration": 39,
    "start_time": "2022-05-13T11:24:33.385Z"
   },
   {
    "duration": 1201,
    "start_time": "2022-05-13T11:42:34.459Z"
   },
   {
    "duration": 256,
    "start_time": "2022-05-13T11:42:35.663Z"
   },
   {
    "duration": 25,
    "start_time": "2022-05-13T11:42:35.920Z"
   },
   {
    "duration": 30,
    "start_time": "2022-05-13T11:42:35.964Z"
   },
   {
    "duration": 181,
    "start_time": "2022-05-13T11:42:35.995Z"
   },
   {
    "duration": 24,
    "start_time": "2022-05-13T11:42:36.179Z"
   },
   {
    "duration": 25,
    "start_time": "2022-05-13T11:42:36.205Z"
   },
   {
    "duration": 120,
    "start_time": "2022-05-13T11:42:36.232Z"
   },
   {
    "duration": 25,
    "start_time": "2022-05-13T11:42:36.354Z"
   },
   {
    "duration": 29,
    "start_time": "2022-05-13T11:42:36.382Z"
   },
   {
    "duration": 19,
    "start_time": "2022-05-13T11:42:36.413Z"
   },
   {
    "duration": 37,
    "start_time": "2022-05-13T11:42:36.435Z"
   },
   {
    "duration": 15,
    "start_time": "2022-05-13T11:42:36.474Z"
   },
   {
    "duration": 14,
    "start_time": "2022-05-13T11:42:36.491Z"
   },
   {
    "duration": 23,
    "start_time": "2022-05-13T11:42:36.506Z"
   },
   {
    "duration": 102,
    "start_time": "2022-05-13T11:42:36.530Z"
   },
   {
    "duration": 28,
    "start_time": "2022-05-13T11:42:36.634Z"
   },
   {
    "duration": 61,
    "start_time": "2022-05-13T11:42:36.668Z"
   },
   {
    "duration": 14,
    "start_time": "2022-05-13T11:42:36.731Z"
   },
   {
    "duration": 47,
    "start_time": "2022-05-13T11:42:36.763Z"
   },
   {
    "duration": 5,
    "start_time": "2022-05-13T11:42:36.812Z"
   },
   {
    "duration": 19,
    "start_time": "2022-05-13T11:42:36.819Z"
   },
   {
    "duration": 67,
    "start_time": "2022-05-13T11:42:36.840Z"
   },
   {
    "duration": 23,
    "start_time": "2022-05-13T11:42:36.909Z"
   },
   {
    "duration": 44,
    "start_time": "2022-05-13T11:42:36.934Z"
   },
   {
    "duration": 19,
    "start_time": "2022-05-13T11:42:36.982Z"
   },
   {
    "duration": 20,
    "start_time": "2022-05-13T11:42:37.002Z"
   },
   {
    "duration": 54,
    "start_time": "2022-05-13T11:42:37.025Z"
   },
   {
    "duration": 8,
    "start_time": "2022-05-13T11:42:37.082Z"
   },
   {
    "duration": 13,
    "start_time": "2022-05-13T11:42:37.092Z"
   },
   {
    "duration": 11,
    "start_time": "2022-05-13T11:42:37.107Z"
   },
   {
    "duration": 211,
    "start_time": "2022-05-13T11:42:37.120Z"
   },
   {
    "duration": 19,
    "start_time": "2022-05-13T11:42:37.333Z"
   },
   {
    "duration": 2472,
    "start_time": "2022-05-13T11:42:37.354Z"
   },
   {
    "duration": 225,
    "start_time": "2022-05-13T11:44:35.201Z"
   },
   {
    "duration": 191,
    "start_time": "2022-05-13T11:44:56.322Z"
   },
   {
    "duration": 183,
    "start_time": "2022-05-13T11:45:21.585Z"
   },
   {
    "duration": 384,
    "start_time": "2022-05-13T11:48:02.661Z"
   },
   {
    "duration": 303,
    "start_time": "2022-05-13T11:48:22.398Z"
   },
   {
    "duration": 330,
    "start_time": "2022-05-13T11:48:39.005Z"
   },
   {
    "duration": 194,
    "start_time": "2022-05-13T11:49:02.103Z"
   },
   {
    "duration": 4463,
    "start_time": "2022-05-13T11:50:05.046Z"
   },
   {
    "duration": 14,
    "start_time": "2022-05-13T11:50:23.309Z"
   },
   {
    "duration": 14,
    "start_time": "2022-05-13T11:50:54.715Z"
   },
   {
    "duration": 13,
    "start_time": "2022-05-13T11:51:08.387Z"
   },
   {
    "duration": 15,
    "start_time": "2022-05-13T11:51:30.140Z"
   },
   {
    "duration": 7,
    "start_time": "2022-05-13T11:51:33.506Z"
   },
   {
    "duration": 17,
    "start_time": "2022-05-13T11:55:57.349Z"
   },
   {
    "duration": 15,
    "start_time": "2022-05-13T11:56:30.421Z"
   },
   {
    "duration": 12,
    "start_time": "2022-05-13T11:57:00.464Z"
   },
   {
    "duration": 6,
    "start_time": "2022-05-13T11:57:08.509Z"
   },
   {
    "duration": 172,
    "start_time": "2022-05-13T11:57:55.228Z"
   },
   {
    "duration": 141,
    "start_time": "2022-05-13T11:58:20.376Z"
   },
   {
    "duration": 16,
    "start_time": "2022-05-13T11:58:43.375Z"
   },
   {
    "duration": 92,
    "start_time": "2022-05-13T11:58:53.164Z"
   },
   {
    "duration": 2493,
    "start_time": "2022-05-13T12:04:05.488Z"
   },
   {
    "duration": 120,
    "start_time": "2022-05-13T12:04:19.318Z"
   },
   {
    "duration": 221,
    "start_time": "2022-05-13T12:07:34.199Z"
   },
   {
    "duration": 226,
    "start_time": "2022-05-13T12:08:33.250Z"
   },
   {
    "duration": 160,
    "start_time": "2022-05-13T12:10:01.105Z"
   },
   {
    "duration": 186,
    "start_time": "2022-05-13T12:10:56.503Z"
   },
   {
    "duration": 52,
    "start_time": "2022-05-13T12:11:42.445Z"
   },
   {
    "duration": 139,
    "start_time": "2022-05-13T12:11:55.438Z"
   },
   {
    "duration": 19,
    "start_time": "2022-05-13T12:12:09.061Z"
   },
   {
    "duration": 304,
    "start_time": "2022-05-13T12:15:39.915Z"
   },
   {
    "duration": 11,
    "start_time": "2022-05-13T12:29:21.334Z"
   },
   {
    "duration": 202,
    "start_time": "2022-05-13T12:30:07.516Z"
   },
   {
    "duration": 205,
    "start_time": "2022-05-13T12:30:22.548Z"
   },
   {
    "duration": 13,
    "start_time": "2022-05-13T12:30:52.643Z"
   },
   {
    "duration": 12,
    "start_time": "2022-05-13T12:36:32.254Z"
   },
   {
    "duration": 184,
    "start_time": "2022-05-13T12:39:50.485Z"
   },
   {
    "duration": 22,
    "start_time": "2022-05-13T12:40:33.570Z"
   },
   {
    "duration": 7,
    "start_time": "2022-05-13T13:07:51.227Z"
   },
   {
    "duration": 32,
    "start_time": "2022-05-13T13:09:42.260Z"
   },
   {
    "duration": 15,
    "start_time": "2022-05-13T13:12:08.884Z"
   },
   {
    "duration": 146,
    "start_time": "2022-05-13T13:12:15.305Z"
   },
   {
    "duration": 273,
    "start_time": "2022-05-13T13:13:14.323Z"
   },
   {
    "duration": 1651,
    "start_time": "2022-05-13T13:13:56.666Z"
   },
   {
    "duration": 252,
    "start_time": "2022-05-13T13:13:58.320Z"
   },
   {
    "duration": 50,
    "start_time": "2022-05-13T13:13:58.574Z"
   },
   {
    "duration": 83,
    "start_time": "2022-05-13T13:13:58.628Z"
   },
   {
    "duration": 214,
    "start_time": "2022-05-13T13:13:58.714Z"
   },
   {
    "duration": 36,
    "start_time": "2022-05-13T13:13:58.930Z"
   },
   {
    "duration": 40,
    "start_time": "2022-05-13T13:13:58.971Z"
   },
   {
    "duration": 142,
    "start_time": "2022-05-13T13:13:59.015Z"
   },
   {
    "duration": 34,
    "start_time": "2022-05-13T13:13:59.160Z"
   },
   {
    "duration": 23,
    "start_time": "2022-05-13T13:13:59.199Z"
   },
   {
    "duration": 18,
    "start_time": "2022-05-13T13:13:59.223Z"
   },
   {
    "duration": 27,
    "start_time": "2022-05-13T13:13:59.243Z"
   },
   {
    "duration": 19,
    "start_time": "2022-05-13T13:13:59.275Z"
   },
   {
    "duration": 54,
    "start_time": "2022-05-13T13:13:59.295Z"
   },
   {
    "duration": 79,
    "start_time": "2022-05-13T13:13:59.352Z"
   },
   {
    "duration": 85,
    "start_time": "2022-05-13T13:13:59.433Z"
   },
   {
    "duration": 21,
    "start_time": "2022-05-13T13:13:59.520Z"
   },
   {
    "duration": 103,
    "start_time": "2022-05-13T13:13:59.543Z"
   },
   {
    "duration": 27,
    "start_time": "2022-05-13T13:13:59.648Z"
   },
   {
    "duration": 95,
    "start_time": "2022-05-13T13:13:59.677Z"
   },
   {
    "duration": 15,
    "start_time": "2022-05-13T13:13:59.776Z"
   },
   {
    "duration": 40,
    "start_time": "2022-05-13T13:13:59.796Z"
   },
   {
    "duration": 55,
    "start_time": "2022-05-13T13:13:59.838Z"
   },
   {
    "duration": 36,
    "start_time": "2022-05-13T13:13:59.895Z"
   },
   {
    "duration": 50,
    "start_time": "2022-05-13T13:13:59.934Z"
   },
   {
    "duration": 50,
    "start_time": "2022-05-13T13:13:59.986Z"
   },
   {
    "duration": 36,
    "start_time": "2022-05-13T13:14:00.039Z"
   },
   {
    "duration": 78,
    "start_time": "2022-05-13T13:14:00.080Z"
   },
   {
    "duration": 10,
    "start_time": "2022-05-13T13:14:00.169Z"
   },
   {
    "duration": 50,
    "start_time": "2022-05-13T13:14:00.181Z"
   },
   {
    "duration": 25,
    "start_time": "2022-05-13T13:14:00.233Z"
   },
   {
    "duration": 293,
    "start_time": "2022-05-13T13:14:00.266Z"
   },
   {
    "duration": 43,
    "start_time": "2022-05-13T13:14:00.562Z"
   },
   {
    "duration": 23,
    "start_time": "2022-05-13T13:14:00.612Z"
   },
   {
    "duration": 23,
    "start_time": "2022-05-13T13:14:00.641Z"
   },
   {
    "duration": 355,
    "start_time": "2022-05-13T13:14:00.671Z"
   },
   {
    "duration": 39,
    "start_time": "2022-05-13T13:14:01.032Z"
   },
   {
    "duration": 27,
    "start_time": "2022-05-13T13:14:01.074Z"
   },
   {
    "duration": 239,
    "start_time": "2022-05-13T13:14:01.103Z"
   },
   {
    "duration": 32,
    "start_time": "2022-05-13T13:14:01.347Z"
   },
   {
    "duration": 57,
    "start_time": "2022-05-13T13:14:01.386Z"
   },
   {
    "duration": 289,
    "start_time": "2022-05-13T13:14:01.445Z"
   },
   {
    "duration": 33,
    "start_time": "2022-05-13T13:14:01.736Z"
   },
   {
    "duration": 205,
    "start_time": "2022-05-13T13:14:01.772Z"
   },
   {
    "duration": 16,
    "start_time": "2022-05-13T13:14:01.980Z"
   },
   {
    "duration": 92,
    "start_time": "2022-05-13T13:14:02.001Z"
   },
   {
    "duration": 4293,
    "start_time": "2022-05-13T13:14:02.095Z"
   },
   {
    "duration": 0,
    "start_time": "2022-05-13T13:14:06.391Z"
   },
   {
    "duration": 5,
    "start_time": "2022-05-13T13:14:18.992Z"
   },
   {
    "duration": 1630,
    "start_time": "2022-05-13T13:14:32.149Z"
   },
   {
    "duration": 171,
    "start_time": "2022-05-13T13:14:33.781Z"
   },
   {
    "duration": 33,
    "start_time": "2022-05-13T13:14:33.954Z"
   },
   {
    "duration": 27,
    "start_time": "2022-05-13T13:14:33.991Z"
   },
   {
    "duration": 253,
    "start_time": "2022-05-13T13:14:34.019Z"
   },
   {
    "duration": 40,
    "start_time": "2022-05-13T13:14:34.274Z"
   },
   {
    "duration": 58,
    "start_time": "2022-05-13T13:14:34.316Z"
   },
   {
    "duration": 138,
    "start_time": "2022-05-13T13:14:34.379Z"
   },
   {
    "duration": 27,
    "start_time": "2022-05-13T13:14:34.519Z"
   },
   {
    "duration": 27,
    "start_time": "2022-05-13T13:14:34.550Z"
   },
   {
    "duration": 27,
    "start_time": "2022-05-13T13:14:34.579Z"
   },
   {
    "duration": 27,
    "start_time": "2022-05-13T13:14:34.608Z"
   },
   {
    "duration": 19,
    "start_time": "2022-05-13T13:14:34.637Z"
   },
   {
    "duration": 24,
    "start_time": "2022-05-13T13:14:34.662Z"
   },
   {
    "duration": 43,
    "start_time": "2022-05-13T13:14:34.688Z"
   },
   {
    "duration": 125,
    "start_time": "2022-05-13T13:14:34.733Z"
   },
   {
    "duration": 26,
    "start_time": "2022-05-13T13:14:34.859Z"
   },
   {
    "duration": 89,
    "start_time": "2022-05-13T13:14:34.889Z"
   },
   {
    "duration": 18,
    "start_time": "2022-05-13T13:14:34.982Z"
   },
   {
    "duration": 79,
    "start_time": "2022-05-13T13:14:35.002Z"
   },
   {
    "duration": 7,
    "start_time": "2022-05-13T13:14:35.084Z"
   },
   {
    "duration": 26,
    "start_time": "2022-05-13T13:14:35.093Z"
   },
   {
    "duration": 75,
    "start_time": "2022-05-13T13:14:35.122Z"
   },
   {
    "duration": 32,
    "start_time": "2022-05-13T13:14:35.199Z"
   },
   {
    "duration": 48,
    "start_time": "2022-05-13T13:14:35.233Z"
   },
   {
    "duration": 29,
    "start_time": "2022-05-13T13:14:35.282Z"
   },
   {
    "duration": 55,
    "start_time": "2022-05-13T13:14:35.313Z"
   },
   {
    "duration": 37,
    "start_time": "2022-05-13T13:14:35.372Z"
   },
   {
    "duration": 8,
    "start_time": "2022-05-13T13:14:35.411Z"
   },
   {
    "duration": 14,
    "start_time": "2022-05-13T13:14:35.422Z"
   },
   {
    "duration": 46,
    "start_time": "2022-05-13T13:14:35.438Z"
   },
   {
    "duration": 224,
    "start_time": "2022-05-13T13:14:35.487Z"
   },
   {
    "duration": 23,
    "start_time": "2022-05-13T13:14:35.713Z"
   },
   {
    "duration": 27,
    "start_time": "2022-05-13T13:14:35.738Z"
   },
   {
    "duration": 9,
    "start_time": "2022-05-13T13:14:35.768Z"
   },
   {
    "duration": 221,
    "start_time": "2022-05-13T13:14:35.779Z"
   },
   {
    "duration": 16,
    "start_time": "2022-05-13T13:14:36.003Z"
   },
   {
    "duration": 9,
    "start_time": "2022-05-13T13:14:36.021Z"
   },
   {
    "duration": 291,
    "start_time": "2022-05-13T13:14:36.031Z"
   },
   {
    "duration": 14,
    "start_time": "2022-05-13T13:14:36.324Z"
   },
   {
    "duration": 26,
    "start_time": "2022-05-13T13:14:36.340Z"
   },
   {
    "duration": 312,
    "start_time": "2022-05-13T13:14:36.370Z"
   },
   {
    "duration": 20,
    "start_time": "2022-05-13T13:14:36.684Z"
   },
   {
    "duration": 160,
    "start_time": "2022-05-13T13:14:36.706Z"
   },
   {
    "duration": 10,
    "start_time": "2022-05-13T13:14:36.872Z"
   },
   {
    "duration": 35,
    "start_time": "2022-05-13T13:14:36.883Z"
   },
   {
    "duration": 6,
    "start_time": "2022-05-13T13:14:36.922Z"
   },
   {
    "duration": 120,
    "start_time": "2022-05-13T13:14:36.930Z"
   },
   {
    "duration": 9,
    "start_time": "2022-05-13T13:17:05.989Z"
   },
   {
    "duration": 20,
    "start_time": "2022-05-13T13:17:59.993Z"
   },
   {
    "duration": 10,
    "start_time": "2022-05-13T13:18:47.869Z"
   },
   {
    "duration": 1558,
    "start_time": "2022-05-13T13:19:11.398Z"
   },
   {
    "duration": 388,
    "start_time": "2022-05-13T13:19:12.958Z"
   },
   {
    "duration": 34,
    "start_time": "2022-05-13T13:19:13.348Z"
   },
   {
    "duration": 73,
    "start_time": "2022-05-13T13:19:13.384Z"
   },
   {
    "duration": 741,
    "start_time": "2022-05-13T13:19:13.460Z"
   },
   {
    "duration": 33,
    "start_time": "2022-05-13T13:19:14.203Z"
   },
   {
    "duration": 50,
    "start_time": "2022-05-13T13:19:14.238Z"
   },
   {
    "duration": 247,
    "start_time": "2022-05-13T13:19:14.290Z"
   },
   {
    "duration": 20,
    "start_time": "2022-05-13T13:19:14.539Z"
   },
   {
    "duration": 54,
    "start_time": "2022-05-13T13:19:14.563Z"
   },
   {
    "duration": 61,
    "start_time": "2022-05-13T13:19:14.620Z"
   },
   {
    "duration": 71,
    "start_time": "2022-05-13T13:19:14.683Z"
   },
   {
    "duration": 13,
    "start_time": "2022-05-13T13:19:14.756Z"
   },
   {
    "duration": 61,
    "start_time": "2022-05-13T13:19:14.777Z"
   },
   {
    "duration": 54,
    "start_time": "2022-05-13T13:19:14.840Z"
   },
   {
    "duration": 126,
    "start_time": "2022-05-13T13:19:14.896Z"
   },
   {
    "duration": 28,
    "start_time": "2022-05-13T13:19:15.024Z"
   },
   {
    "duration": 144,
    "start_time": "2022-05-13T13:19:15.054Z"
   },
   {
    "duration": 26,
    "start_time": "2022-05-13T13:19:15.200Z"
   },
   {
    "duration": 115,
    "start_time": "2022-05-13T13:19:15.228Z"
   },
   {
    "duration": 12,
    "start_time": "2022-05-13T13:19:15.345Z"
   },
   {
    "duration": 93,
    "start_time": "2022-05-13T13:19:15.359Z"
   },
   {
    "duration": 124,
    "start_time": "2022-05-13T13:19:15.455Z"
   },
   {
    "duration": 34,
    "start_time": "2022-05-13T13:19:15.585Z"
   },
   {
    "duration": 58,
    "start_time": "2022-05-13T13:19:15.621Z"
   },
   {
    "duration": 67,
    "start_time": "2022-05-13T13:19:15.681Z"
   },
   {
    "duration": 23,
    "start_time": "2022-05-13T13:19:15.750Z"
   },
   {
    "duration": 79,
    "start_time": "2022-05-13T13:19:15.774Z"
   },
   {
    "duration": 18,
    "start_time": "2022-05-13T13:19:15.855Z"
   },
   {
    "duration": 74,
    "start_time": "2022-05-13T13:19:15.874Z"
   },
   {
    "duration": 60,
    "start_time": "2022-05-13T13:19:15.950Z"
   },
   {
    "duration": 217,
    "start_time": "2022-05-13T13:19:16.012Z"
   },
   {
    "duration": 16,
    "start_time": "2022-05-13T13:19:16.230Z"
   },
   {
    "duration": 82,
    "start_time": "2022-05-13T13:19:16.248Z"
   },
   {
    "duration": 26,
    "start_time": "2022-05-13T13:19:16.332Z"
   },
   {
    "duration": 342,
    "start_time": "2022-05-13T13:19:16.360Z"
   },
   {
    "duration": 15,
    "start_time": "2022-05-13T13:19:16.705Z"
   },
   {
    "duration": 36,
    "start_time": "2022-05-13T13:19:16.722Z"
   },
   {
    "duration": 219,
    "start_time": "2022-05-13T13:19:16.760Z"
   },
   {
    "duration": 17,
    "start_time": "2022-05-13T13:19:16.983Z"
   },
   {
    "duration": 18,
    "start_time": "2022-05-13T13:19:17.007Z"
   },
   {
    "duration": 352,
    "start_time": "2022-05-13T13:19:17.031Z"
   },
   {
    "duration": 26,
    "start_time": "2022-05-13T13:19:17.386Z"
   },
   {
    "duration": 150,
    "start_time": "2022-05-13T13:19:17.417Z"
   },
   {
    "duration": 8,
    "start_time": "2022-05-13T13:19:17.576Z"
   },
   {
    "duration": 51,
    "start_time": "2022-05-13T13:19:17.586Z"
   },
   {
    "duration": 25,
    "start_time": "2022-05-13T13:19:17.643Z"
   },
   {
    "duration": 4,
    "start_time": "2022-05-13T13:19:17.670Z"
   },
   {
    "duration": 166,
    "start_time": "2022-05-13T13:19:17.676Z"
   },
   {
    "duration": 10,
    "start_time": "2022-05-13T13:19:35.109Z"
   },
   {
    "duration": 1366,
    "start_time": "2022-05-13T13:19:48.612Z"
   },
   {
    "duration": 197,
    "start_time": "2022-05-13T13:19:49.983Z"
   },
   {
    "duration": 42,
    "start_time": "2022-05-13T13:19:50.189Z"
   },
   {
    "duration": 36,
    "start_time": "2022-05-13T13:19:50.233Z"
   },
   {
    "duration": 202,
    "start_time": "2022-05-13T13:19:50.272Z"
   },
   {
    "duration": 32,
    "start_time": "2022-05-13T13:19:50.483Z"
   },
   {
    "duration": 52,
    "start_time": "2022-05-13T13:19:50.518Z"
   },
   {
    "duration": 129,
    "start_time": "2022-05-13T13:19:50.572Z"
   },
   {
    "duration": 23,
    "start_time": "2022-05-13T13:19:50.703Z"
   },
   {
    "duration": 12,
    "start_time": "2022-05-13T13:19:50.728Z"
   },
   {
    "duration": 33,
    "start_time": "2022-05-13T13:19:50.743Z"
   },
   {
    "duration": 50,
    "start_time": "2022-05-13T13:19:50.780Z"
   },
   {
    "duration": 11,
    "start_time": "2022-05-13T13:19:50.832Z"
   },
   {
    "duration": 21,
    "start_time": "2022-05-13T13:19:50.847Z"
   },
   {
    "duration": 64,
    "start_time": "2022-05-13T13:19:50.870Z"
   },
   {
    "duration": 83,
    "start_time": "2022-05-13T13:19:50.936Z"
   },
   {
    "duration": 17,
    "start_time": "2022-05-13T13:19:51.023Z"
   },
   {
    "duration": 86,
    "start_time": "2022-05-13T13:19:51.042Z"
   },
   {
    "duration": 14,
    "start_time": "2022-05-13T13:19:51.130Z"
   },
   {
    "duration": 70,
    "start_time": "2022-05-13T13:19:51.145Z"
   },
   {
    "duration": 16,
    "start_time": "2022-05-13T13:19:51.218Z"
   },
   {
    "duration": 30,
    "start_time": "2022-05-13T13:19:51.236Z"
   },
   {
    "duration": 88,
    "start_time": "2022-05-13T13:19:51.268Z"
   },
   {
    "duration": 42,
    "start_time": "2022-05-13T13:19:51.358Z"
   },
   {
    "duration": 53,
    "start_time": "2022-05-13T13:19:51.404Z"
   },
   {
    "duration": 35,
    "start_time": "2022-05-13T13:19:51.459Z"
   },
   {
    "duration": 44,
    "start_time": "2022-05-13T13:19:51.496Z"
   },
   {
    "duration": 28,
    "start_time": "2022-05-13T13:19:51.542Z"
   },
   {
    "duration": 8,
    "start_time": "2022-05-13T13:19:51.572Z"
   },
   {
    "duration": 57,
    "start_time": "2022-05-13T13:19:51.582Z"
   },
   {
    "duration": 13,
    "start_time": "2022-05-13T13:19:51.641Z"
   },
   {
    "duration": 204,
    "start_time": "2022-05-13T13:19:51.656Z"
   },
   {
    "duration": 21,
    "start_time": "2022-05-13T13:19:51.867Z"
   },
   {
    "duration": 26,
    "start_time": "2022-05-13T13:19:51.898Z"
   },
   {
    "duration": 5,
    "start_time": "2022-05-13T13:19:51.926Z"
   },
   {
    "duration": 231,
    "start_time": "2022-05-13T13:19:51.933Z"
   },
   {
    "duration": 17,
    "start_time": "2022-05-13T13:19:52.166Z"
   },
   {
    "duration": 39,
    "start_time": "2022-05-13T13:19:52.185Z"
   },
   {
    "duration": 205,
    "start_time": "2022-05-13T13:19:52.226Z"
   },
   {
    "duration": 17,
    "start_time": "2022-05-13T13:19:52.434Z"
   },
   {
    "duration": 9,
    "start_time": "2022-05-13T13:19:52.466Z"
   },
   {
    "duration": 245,
    "start_time": "2022-05-13T13:19:52.476Z"
   },
   {
    "duration": 21,
    "start_time": "2022-05-13T13:19:52.723Z"
   },
   {
    "duration": 148,
    "start_time": "2022-05-13T13:19:52.746Z"
   },
   {
    "duration": 8,
    "start_time": "2022-05-13T13:19:52.897Z"
   },
   {
    "duration": 24,
    "start_time": "2022-05-13T13:19:52.906Z"
   },
   {
    "duration": 36,
    "start_time": "2022-05-13T13:19:52.932Z"
   },
   {
    "duration": 6,
    "start_time": "2022-05-13T13:19:52.972Z"
   },
   {
    "duration": 209,
    "start_time": "2022-05-13T13:19:52.983Z"
   },
   {
    "duration": 6,
    "start_time": "2022-05-13T13:20:15.318Z"
   },
   {
    "duration": 109,
    "start_time": "2022-05-13T13:20:19.020Z"
   },
   {
    "duration": 116,
    "start_time": "2022-05-13T13:22:33.800Z"
   },
   {
    "duration": 180,
    "start_time": "2022-05-13T13:22:43.313Z"
   },
   {
    "duration": 1495,
    "start_time": "2022-05-13T13:22:49.194Z"
   },
   {
    "duration": 235,
    "start_time": "2022-05-13T13:22:50.697Z"
   },
   {
    "duration": 56,
    "start_time": "2022-05-13T13:22:50.935Z"
   },
   {
    "duration": 61,
    "start_time": "2022-05-13T13:22:50.997Z"
   },
   {
    "duration": 214,
    "start_time": "2022-05-13T13:22:51.060Z"
   },
   {
    "duration": 43,
    "start_time": "2022-05-13T13:22:51.276Z"
   },
   {
    "duration": 28,
    "start_time": "2022-05-13T13:22:51.322Z"
   },
   {
    "duration": 151,
    "start_time": "2022-05-13T13:22:51.352Z"
   },
   {
    "duration": 22,
    "start_time": "2022-05-13T13:22:51.505Z"
   },
   {
    "duration": 13,
    "start_time": "2022-05-13T13:22:51.529Z"
   },
   {
    "duration": 29,
    "start_time": "2022-05-13T13:22:51.544Z"
   },
   {
    "duration": 43,
    "start_time": "2022-05-13T13:22:51.576Z"
   },
   {
    "duration": 11,
    "start_time": "2022-05-13T13:22:51.621Z"
   },
   {
    "duration": 14,
    "start_time": "2022-05-13T13:22:51.634Z"
   },
   {
    "duration": 26,
    "start_time": "2022-05-13T13:22:51.650Z"
   },
   {
    "duration": 104,
    "start_time": "2022-05-13T13:22:51.678Z"
   },
   {
    "duration": 29,
    "start_time": "2022-05-13T13:22:51.784Z"
   },
   {
    "duration": 74,
    "start_time": "2022-05-13T13:22:51.815Z"
   },
   {
    "duration": 30,
    "start_time": "2022-05-13T13:22:51.891Z"
   },
   {
    "duration": 48,
    "start_time": "2022-05-13T13:22:51.922Z"
   },
   {
    "duration": 8,
    "start_time": "2022-05-13T13:22:51.976Z"
   },
   {
    "duration": 39,
    "start_time": "2022-05-13T13:22:51.989Z"
   },
   {
    "duration": 45,
    "start_time": "2022-05-13T13:22:52.029Z"
   },
   {
    "duration": 38,
    "start_time": "2022-05-13T13:22:52.076Z"
   },
   {
    "duration": 25,
    "start_time": "2022-05-13T13:22:52.116Z"
   },
   {
    "duration": 43,
    "start_time": "2022-05-13T13:22:52.142Z"
   },
   {
    "duration": 43,
    "start_time": "2022-05-13T13:22:52.187Z"
   },
   {
    "duration": 36,
    "start_time": "2022-05-13T13:22:52.235Z"
   },
   {
    "duration": 8,
    "start_time": "2022-05-13T13:22:52.275Z"
   },
   {
    "duration": 41,
    "start_time": "2022-05-13T13:22:52.285Z"
   },
   {
    "duration": 14,
    "start_time": "2022-05-13T13:22:52.328Z"
   },
   {
    "duration": 159,
    "start_time": "2022-05-13T13:22:52.344Z"
   },
   {
    "duration": 18,
    "start_time": "2022-05-13T13:22:52.505Z"
   },
   {
    "duration": 7,
    "start_time": "2022-05-13T13:22:52.525Z"
   },
   {
    "duration": 8,
    "start_time": "2022-05-13T13:22:52.534Z"
   },
   {
    "duration": 245,
    "start_time": "2022-05-13T13:22:52.544Z"
   },
   {
    "duration": 20,
    "start_time": "2022-05-13T13:22:52.791Z"
   },
   {
    "duration": 11,
    "start_time": "2022-05-13T13:22:52.813Z"
   },
   {
    "duration": 213,
    "start_time": "2022-05-13T13:22:52.827Z"
   },
   {
    "duration": 28,
    "start_time": "2022-05-13T13:22:53.042Z"
   },
   {
    "duration": 8,
    "start_time": "2022-05-13T13:22:53.072Z"
   },
   {
    "duration": 291,
    "start_time": "2022-05-13T13:22:53.083Z"
   },
   {
    "duration": 19,
    "start_time": "2022-05-13T13:22:53.376Z"
   },
   {
    "duration": 247,
    "start_time": "2022-05-13T13:22:53.397Z"
   },
   {
    "duration": 182,
    "start_time": "2022-05-13T13:22:53.647Z"
   },
   {
    "duration": 8,
    "start_time": "2022-05-13T13:22:53.832Z"
   },
   {
    "duration": 32,
    "start_time": "2022-05-13T13:22:53.842Z"
   },
   {
    "duration": 57,
    "start_time": "2022-05-13T13:22:53.876Z"
   },
   {
    "duration": 5,
    "start_time": "2022-05-13T13:22:53.935Z"
   },
   {
    "duration": 117,
    "start_time": "2022-05-13T13:22:53.941Z"
   },
   {
    "duration": 167,
    "start_time": "2022-05-13T13:23:28.049Z"
   },
   {
    "duration": 346,
    "start_time": "2022-05-13T13:23:48.002Z"
   },
   {
    "duration": 1473,
    "start_time": "2022-05-13T13:23:57.054Z"
   },
   {
    "duration": 183,
    "start_time": "2022-05-13T13:23:58.530Z"
   },
   {
    "duration": 26,
    "start_time": "2022-05-13T13:23:58.714Z"
   },
   {
    "duration": 47,
    "start_time": "2022-05-13T13:23:58.743Z"
   },
   {
    "duration": 147,
    "start_time": "2022-05-13T13:23:58.793Z"
   },
   {
    "duration": 40,
    "start_time": "2022-05-13T13:23:58.942Z"
   },
   {
    "duration": 45,
    "start_time": "2022-05-13T13:23:58.984Z"
   },
   {
    "duration": 97,
    "start_time": "2022-05-13T13:23:59.031Z"
   },
   {
    "duration": 17,
    "start_time": "2022-05-13T13:23:59.130Z"
   },
   {
    "duration": 31,
    "start_time": "2022-05-13T13:23:59.150Z"
   },
   {
    "duration": 32,
    "start_time": "2022-05-13T13:23:59.182Z"
   },
   {
    "duration": 24,
    "start_time": "2022-05-13T13:23:59.216Z"
   },
   {
    "duration": 10,
    "start_time": "2022-05-13T13:23:59.241Z"
   },
   {
    "duration": 26,
    "start_time": "2022-05-13T13:23:59.253Z"
   },
   {
    "duration": 56,
    "start_time": "2022-05-13T13:23:59.282Z"
   },
   {
    "duration": 104,
    "start_time": "2022-05-13T13:23:59.340Z"
   },
   {
    "duration": 39,
    "start_time": "2022-05-13T13:23:59.446Z"
   },
   {
    "duration": 73,
    "start_time": "2022-05-13T13:23:59.487Z"
   },
   {
    "duration": 29,
    "start_time": "2022-05-13T13:23:59.562Z"
   },
   {
    "duration": 71,
    "start_time": "2022-05-13T13:23:59.593Z"
   },
   {
    "duration": 9,
    "start_time": "2022-05-13T13:23:59.666Z"
   },
   {
    "duration": 45,
    "start_time": "2022-05-13T13:23:59.676Z"
   },
   {
    "duration": 49,
    "start_time": "2022-05-13T13:23:59.723Z"
   },
   {
    "duration": 37,
    "start_time": "2022-05-13T13:23:59.773Z"
   },
   {
    "duration": 34,
    "start_time": "2022-05-13T13:23:59.812Z"
   },
   {
    "duration": 25,
    "start_time": "2022-05-13T13:23:59.868Z"
   },
   {
    "duration": 28,
    "start_time": "2022-05-13T13:23:59.894Z"
   },
   {
    "duration": 25,
    "start_time": "2022-05-13T13:23:59.926Z"
   },
   {
    "duration": 17,
    "start_time": "2022-05-13T13:23:59.952Z"
   },
   {
    "duration": 23,
    "start_time": "2022-05-13T13:23:59.971Z"
   },
   {
    "duration": 22,
    "start_time": "2022-05-13T13:23:59.996Z"
   },
   {
    "duration": 209,
    "start_time": "2022-05-13T13:24:00.020Z"
   },
   {
    "duration": 15,
    "start_time": "2022-05-13T13:24:00.231Z"
   },
   {
    "duration": 22,
    "start_time": "2022-05-13T13:24:00.247Z"
   },
   {
    "duration": 34,
    "start_time": "2022-05-13T13:24:00.274Z"
   },
   {
    "duration": 212,
    "start_time": "2022-05-13T13:24:00.309Z"
   },
   {
    "duration": 15,
    "start_time": "2022-05-13T13:24:00.523Z"
   },
   {
    "duration": 36,
    "start_time": "2022-05-13T13:24:00.540Z"
   },
   {
    "duration": 313,
    "start_time": "2022-05-13T13:24:00.577Z"
   },
   {
    "duration": 21,
    "start_time": "2022-05-13T13:24:00.891Z"
   },
   {
    "duration": 24,
    "start_time": "2022-05-13T13:24:00.914Z"
   },
   {
    "duration": 270,
    "start_time": "2022-05-13T13:24:00.940Z"
   },
   {
    "duration": 15,
    "start_time": "2022-05-13T13:24:01.212Z"
   },
   {
    "duration": 186,
    "start_time": "2022-05-13T13:24:01.229Z"
   },
   {
    "duration": 117,
    "start_time": "2022-05-13T13:24:01.417Z"
   },
   {
    "duration": 7,
    "start_time": "2022-05-13T13:24:01.536Z"
   },
   {
    "duration": 25,
    "start_time": "2022-05-13T13:24:01.545Z"
   },
   {
    "duration": 49,
    "start_time": "2022-05-13T13:24:01.571Z"
   },
   {
    "duration": 11,
    "start_time": "2022-05-13T13:24:01.621Z"
   },
   {
    "duration": 111,
    "start_time": "2022-05-13T13:24:01.633Z"
   },
   {
    "duration": 164,
    "start_time": "2022-05-13T13:24:13.458Z"
   },
   {
    "duration": 1273,
    "start_time": "2022-05-13T13:33:11.404Z"
   },
   {
    "duration": 196,
    "start_time": "2022-05-13T13:33:12.679Z"
   },
   {
    "duration": 39,
    "start_time": "2022-05-13T13:33:12.877Z"
   },
   {
    "duration": 27,
    "start_time": "2022-05-13T13:33:12.918Z"
   },
   {
    "duration": 185,
    "start_time": "2022-05-13T13:33:12.948Z"
   },
   {
    "duration": 37,
    "start_time": "2022-05-13T13:33:13.134Z"
   },
   {
    "duration": 33,
    "start_time": "2022-05-13T13:33:13.172Z"
   },
   {
    "duration": 110,
    "start_time": "2022-05-13T13:33:13.207Z"
   },
   {
    "duration": 22,
    "start_time": "2022-05-13T13:33:13.319Z"
   },
   {
    "duration": 13,
    "start_time": "2022-05-13T13:33:13.343Z"
   },
   {
    "duration": 20,
    "start_time": "2022-05-13T13:33:13.357Z"
   },
   {
    "duration": 58,
    "start_time": "2022-05-13T13:33:13.379Z"
   },
   {
    "duration": 11,
    "start_time": "2022-05-13T13:33:13.439Z"
   },
   {
    "duration": 33,
    "start_time": "2022-05-13T13:33:13.454Z"
   },
   {
    "duration": 49,
    "start_time": "2022-05-13T13:33:13.489Z"
   },
   {
    "duration": 83,
    "start_time": "2022-05-13T13:33:13.539Z"
   },
   {
    "duration": 17,
    "start_time": "2022-05-13T13:33:13.623Z"
   },
   {
    "duration": 85,
    "start_time": "2022-05-13T13:33:13.641Z"
   },
   {
    "duration": 20,
    "start_time": "2022-05-13T13:33:13.728Z"
   },
   {
    "duration": 64,
    "start_time": "2022-05-13T13:33:13.751Z"
   },
   {
    "duration": 7,
    "start_time": "2022-05-13T13:33:13.818Z"
   },
   {
    "duration": 24,
    "start_time": "2022-05-13T13:33:13.827Z"
   },
   {
    "duration": 73,
    "start_time": "2022-05-13T13:33:13.852Z"
   },
   {
    "duration": 27,
    "start_time": "2022-05-13T13:33:13.927Z"
   },
   {
    "duration": 34,
    "start_time": "2022-05-13T13:33:13.956Z"
   },
   {
    "duration": 50,
    "start_time": "2022-05-13T13:33:13.992Z"
   },
   {
    "duration": 25,
    "start_time": "2022-05-13T13:33:14.044Z"
   },
   {
    "duration": 31,
    "start_time": "2022-05-13T13:33:14.071Z"
   },
   {
    "duration": 33,
    "start_time": "2022-05-13T13:33:14.104Z"
   },
   {
    "duration": 12,
    "start_time": "2022-05-13T13:33:14.139Z"
   },
   {
    "duration": 17,
    "start_time": "2022-05-13T13:33:14.153Z"
   },
   {
    "duration": 211,
    "start_time": "2022-05-13T13:33:14.172Z"
   },
   {
    "duration": 26,
    "start_time": "2022-05-13T13:33:14.388Z"
   },
   {
    "duration": 14,
    "start_time": "2022-05-13T13:33:14.416Z"
   },
   {
    "duration": 6,
    "start_time": "2022-05-13T13:33:14.431Z"
   },
   {
    "duration": 244,
    "start_time": "2022-05-13T13:33:14.439Z"
   },
   {
    "duration": 19,
    "start_time": "2022-05-13T13:33:14.684Z"
   },
   {
    "duration": 22,
    "start_time": "2022-05-13T13:33:14.707Z"
   },
   {
    "duration": 204,
    "start_time": "2022-05-13T13:33:14.731Z"
   },
   {
    "duration": 13,
    "start_time": "2022-05-13T13:33:14.936Z"
   },
   {
    "duration": 14,
    "start_time": "2022-05-13T13:33:14.967Z"
   },
   {
    "duration": 265,
    "start_time": "2022-05-13T13:33:14.982Z"
   },
   {
    "duration": 27,
    "start_time": "2022-05-13T13:33:15.249Z"
   },
   {
    "duration": 222,
    "start_time": "2022-05-13T13:33:15.278Z"
   },
   {
    "duration": 0,
    "start_time": "2022-05-13T13:33:15.502Z"
   },
   {
    "duration": 0,
    "start_time": "2022-05-13T13:33:15.503Z"
   },
   {
    "duration": 0,
    "start_time": "2022-05-13T13:33:15.504Z"
   },
   {
    "duration": 0,
    "start_time": "2022-05-13T13:33:15.506Z"
   },
   {
    "duration": 0,
    "start_time": "2022-05-13T13:33:15.507Z"
   },
   {
    "duration": 1,
    "start_time": "2022-05-13T13:33:15.508Z"
   },
   {
    "duration": 0,
    "start_time": "2022-05-13T13:33:15.510Z"
   },
   {
    "duration": 1392,
    "start_time": "2022-05-13T13:33:41.717Z"
   },
   {
    "duration": 185,
    "start_time": "2022-05-13T13:33:43.111Z"
   },
   {
    "duration": 37,
    "start_time": "2022-05-13T13:33:43.298Z"
   },
   {
    "duration": 60,
    "start_time": "2022-05-13T13:33:43.338Z"
   },
   {
    "duration": 219,
    "start_time": "2022-05-13T13:33:43.401Z"
   },
   {
    "duration": 22,
    "start_time": "2022-05-13T13:33:43.623Z"
   },
   {
    "duration": 40,
    "start_time": "2022-05-13T13:33:43.647Z"
   },
   {
    "duration": 113,
    "start_time": "2022-05-13T13:33:43.689Z"
   },
   {
    "duration": 27,
    "start_time": "2022-05-13T13:33:43.804Z"
   },
   {
    "duration": 37,
    "start_time": "2022-05-13T13:33:43.833Z"
   },
   {
    "duration": 42,
    "start_time": "2022-05-13T13:33:43.872Z"
   },
   {
    "duration": 27,
    "start_time": "2022-05-13T13:33:43.916Z"
   },
   {
    "duration": 15,
    "start_time": "2022-05-13T13:33:43.945Z"
   },
   {
    "duration": 66,
    "start_time": "2022-05-13T13:33:43.962Z"
   },
   {
    "duration": 23,
    "start_time": "2022-05-13T13:33:44.030Z"
   },
   {
    "duration": 93,
    "start_time": "2022-05-13T13:33:44.055Z"
   },
   {
    "duration": 43,
    "start_time": "2022-05-13T13:33:44.150Z"
   },
   {
    "duration": 90,
    "start_time": "2022-05-13T13:33:44.195Z"
   },
   {
    "duration": 33,
    "start_time": "2022-05-13T13:33:44.287Z"
   },
   {
    "duration": 61,
    "start_time": "2022-05-13T13:33:44.322Z"
   },
   {
    "duration": 10,
    "start_time": "2022-05-13T13:33:44.388Z"
   },
   {
    "duration": 44,
    "start_time": "2022-05-13T13:33:44.400Z"
   },
   {
    "duration": 64,
    "start_time": "2022-05-13T13:33:44.446Z"
   },
   {
    "duration": 39,
    "start_time": "2022-05-13T13:33:44.517Z"
   },
   {
    "duration": 37,
    "start_time": "2022-05-13T13:33:44.558Z"
   },
   {
    "duration": 42,
    "start_time": "2022-05-13T13:33:44.597Z"
   },
   {
    "duration": 25,
    "start_time": "2022-05-13T13:33:44.643Z"
   },
   {
    "duration": 33,
    "start_time": "2022-05-13T13:33:44.673Z"
   },
   {
    "duration": 27,
    "start_time": "2022-05-13T13:33:44.708Z"
   },
   {
    "duration": 11,
    "start_time": "2022-05-13T13:33:44.737Z"
   },
   {
    "duration": 42,
    "start_time": "2022-05-13T13:33:44.750Z"
   },
   {
    "duration": 214,
    "start_time": "2022-05-13T13:33:44.794Z"
   },
   {
    "duration": 19,
    "start_time": "2022-05-13T13:33:45.010Z"
   },
   {
    "duration": 11,
    "start_time": "2022-05-13T13:33:45.031Z"
   },
   {
    "duration": 30,
    "start_time": "2022-05-13T13:33:45.044Z"
   },
   {
    "duration": 369,
    "start_time": "2022-05-13T13:33:45.076Z"
   },
   {
    "duration": 25,
    "start_time": "2022-05-13T13:33:45.446Z"
   },
   {
    "duration": 16,
    "start_time": "2022-05-13T13:33:45.473Z"
   },
   {
    "duration": 329,
    "start_time": "2022-05-13T13:33:45.490Z"
   },
   {
    "duration": 18,
    "start_time": "2022-05-13T13:33:45.825Z"
   },
   {
    "duration": 26,
    "start_time": "2022-05-13T13:33:45.845Z"
   },
   {
    "duration": 260,
    "start_time": "2022-05-13T13:33:45.875Z"
   },
   {
    "duration": 18,
    "start_time": "2022-05-13T13:33:46.139Z"
   },
   {
    "duration": 26,
    "start_time": "2022-05-13T13:33:46.177Z"
   },
   {
    "duration": 239,
    "start_time": "2022-05-13T13:33:46.205Z"
   },
   {
    "duration": 162,
    "start_time": "2022-05-13T13:33:46.446Z"
   },
   {
    "duration": 9,
    "start_time": "2022-05-13T13:33:46.610Z"
   },
   {
    "duration": 14,
    "start_time": "2022-05-13T13:33:46.621Z"
   },
   {
    "duration": 18,
    "start_time": "2022-05-13T13:33:46.636Z"
   },
   {
    "duration": 8,
    "start_time": "2022-05-13T13:33:46.663Z"
   },
   {
    "duration": 220,
    "start_time": "2022-05-13T13:33:46.674Z"
   },
   {
    "duration": 3565,
    "start_time": "2022-05-13T13:42:19.536Z"
   },
   {
    "duration": 7,
    "start_time": "2022-05-13T13:42:41.737Z"
   },
   {
    "duration": 12,
    "start_time": "2022-05-13T13:43:14.210Z"
   },
   {
    "duration": 10,
    "start_time": "2022-05-13T13:44:26.291Z"
   },
   {
    "duration": 2,
    "start_time": "2022-05-13T13:44:40.838Z"
   },
   {
    "duration": 7,
    "start_time": "2022-05-13T13:45:31.928Z"
   },
   {
    "duration": 4,
    "start_time": "2022-05-13T13:52:04.511Z"
   },
   {
    "duration": 30,
    "start_time": "2022-05-13T13:52:25.817Z"
   },
   {
    "duration": 30,
    "start_time": "2022-05-13T13:53:18.521Z"
   },
   {
    "duration": 34,
    "start_time": "2022-05-13T13:55:48.703Z"
   },
   {
    "duration": 43,
    "start_time": "2022-05-13T13:56:10.452Z"
   },
   {
    "duration": 17,
    "start_time": "2022-05-13T13:57:55.316Z"
   },
   {
    "duration": 5,
    "start_time": "2022-05-13T14:00:48.408Z"
   },
   {
    "duration": 21,
    "start_time": "2022-05-13T14:01:03.520Z"
   },
   {
    "duration": 8,
    "start_time": "2022-05-13T14:02:02.588Z"
   },
   {
    "duration": 7,
    "start_time": "2022-05-13T14:02:54.013Z"
   },
   {
    "duration": 7,
    "start_time": "2022-05-13T14:03:38.220Z"
   },
   {
    "duration": 5,
    "start_time": "2022-05-13T14:04:26.683Z"
   },
   {
    "duration": 225,
    "start_time": "2022-05-13T14:18:45.510Z"
   },
   {
    "duration": 177,
    "start_time": "2022-05-13T14:19:59.368Z"
   },
   {
    "duration": 186,
    "start_time": "2022-05-13T14:20:05.757Z"
   },
   {
    "duration": 1254,
    "start_time": "2022-05-13T14:34:28.755Z"
   },
   {
    "duration": 171,
    "start_time": "2022-05-13T14:34:30.011Z"
   },
   {
    "duration": 34,
    "start_time": "2022-05-13T14:34:30.184Z"
   },
   {
    "duration": 55,
    "start_time": "2022-05-13T14:34:30.220Z"
   },
   {
    "duration": 157,
    "start_time": "2022-05-13T14:34:30.280Z"
   },
   {
    "duration": 31,
    "start_time": "2022-05-13T14:34:30.440Z"
   },
   {
    "duration": 63,
    "start_time": "2022-05-13T14:34:30.475Z"
   },
   {
    "duration": 121,
    "start_time": "2022-05-13T14:34:30.540Z"
   },
   {
    "duration": 26,
    "start_time": "2022-05-13T14:34:30.664Z"
   },
   {
    "duration": 65,
    "start_time": "2022-05-13T14:34:30.692Z"
   },
   {
    "duration": 59,
    "start_time": "2022-05-13T14:34:30.759Z"
   },
   {
    "duration": 28,
    "start_time": "2022-05-13T14:34:30.820Z"
   },
   {
    "duration": 11,
    "start_time": "2022-05-13T14:34:30.850Z"
   },
   {
    "duration": 51,
    "start_time": "2022-05-13T14:34:30.868Z"
   },
   {
    "duration": 34,
    "start_time": "2022-05-13T14:34:30.921Z"
   },
   {
    "duration": 122,
    "start_time": "2022-05-13T14:34:30.956Z"
   },
   {
    "duration": 31,
    "start_time": "2022-05-13T14:34:31.081Z"
   },
   {
    "duration": 86,
    "start_time": "2022-05-13T14:34:31.114Z"
   },
   {
    "duration": 32,
    "start_time": "2022-05-13T14:34:31.202Z"
   },
   {
    "duration": 98,
    "start_time": "2022-05-13T14:34:31.237Z"
   },
   {
    "duration": 6,
    "start_time": "2022-05-13T14:34:31.338Z"
   },
   {
    "duration": 54,
    "start_time": "2022-05-13T14:34:31.345Z"
   },
   {
    "duration": 75,
    "start_time": "2022-05-13T14:34:31.402Z"
   },
   {
    "duration": 39,
    "start_time": "2022-05-13T14:34:31.479Z"
   },
   {
    "duration": 32,
    "start_time": "2022-05-13T14:34:31.520Z"
   },
   {
    "duration": 29,
    "start_time": "2022-05-13T14:34:31.554Z"
   },
   {
    "duration": 39,
    "start_time": "2022-05-13T14:34:31.585Z"
   },
   {
    "duration": 25,
    "start_time": "2022-05-13T14:34:31.625Z"
   },
   {
    "duration": 14,
    "start_time": "2022-05-13T14:34:31.651Z"
   },
   {
    "duration": 39,
    "start_time": "2022-05-13T14:34:31.667Z"
   },
   {
    "duration": 28,
    "start_time": "2022-05-13T14:34:31.708Z"
   },
   {
    "duration": 168,
    "start_time": "2022-05-13T14:34:31.738Z"
   },
   {
    "duration": 19,
    "start_time": "2022-05-13T14:34:31.908Z"
   },
   {
    "duration": 9,
    "start_time": "2022-05-13T14:34:31.929Z"
   },
   {
    "duration": 27,
    "start_time": "2022-05-13T14:34:31.940Z"
   },
   {
    "duration": 315,
    "start_time": "2022-05-13T14:34:31.969Z"
   },
   {
    "duration": 18,
    "start_time": "2022-05-13T14:34:32.286Z"
   },
   {
    "duration": 9,
    "start_time": "2022-05-13T14:34:32.306Z"
   },
   {
    "duration": 256,
    "start_time": "2022-05-13T14:34:32.317Z"
   },
   {
    "duration": 17,
    "start_time": "2022-05-13T14:34:32.575Z"
   },
   {
    "duration": 20,
    "start_time": "2022-05-13T14:34:32.597Z"
   },
   {
    "duration": 208,
    "start_time": "2022-05-13T14:34:32.619Z"
   },
   {
    "duration": 14,
    "start_time": "2022-05-13T14:34:32.829Z"
   },
   {
    "duration": 4,
    "start_time": "2022-05-13T14:34:32.845Z"
   },
   {
    "duration": 43,
    "start_time": "2022-05-13T14:34:32.851Z"
   },
   {
    "duration": 13,
    "start_time": "2022-05-13T14:34:32.898Z"
   },
   {
    "duration": 9,
    "start_time": "2022-05-13T14:34:32.913Z"
   },
   {
    "duration": 8,
    "start_time": "2022-05-13T14:34:32.923Z"
   },
   {
    "duration": 8,
    "start_time": "2022-05-13T14:34:32.933Z"
   },
   {
    "duration": 32,
    "start_time": "2022-05-13T14:34:32.943Z"
   },
   {
    "duration": 9,
    "start_time": "2022-05-13T14:34:32.977Z"
   },
   {
    "duration": 21,
    "start_time": "2022-05-13T14:34:32.988Z"
   },
   {
    "duration": 7,
    "start_time": "2022-05-13T14:34:33.011Z"
   },
   {
    "duration": 6,
    "start_time": "2022-05-13T14:34:33.020Z"
   },
   {
    "duration": 181,
    "start_time": "2022-05-13T16:47:47.080Z"
   },
   {
    "duration": 1277,
    "start_time": "2022-05-13T16:49:32.387Z"
   },
   {
    "duration": 175,
    "start_time": "2022-05-13T16:49:33.666Z"
   },
   {
    "duration": 29,
    "start_time": "2022-05-13T16:49:33.843Z"
   },
   {
    "duration": 31,
    "start_time": "2022-05-13T16:49:33.874Z"
   },
   {
    "duration": 176,
    "start_time": "2022-05-13T16:49:33.908Z"
   },
   {
    "duration": 23,
    "start_time": "2022-05-13T16:49:34.086Z"
   },
   {
    "duration": 44,
    "start_time": "2022-05-13T16:49:34.111Z"
   },
   {
    "duration": 102,
    "start_time": "2022-05-13T16:49:34.157Z"
   },
   {
    "duration": 21,
    "start_time": "2022-05-13T16:49:34.261Z"
   },
   {
    "duration": 14,
    "start_time": "2022-05-13T16:49:34.284Z"
   },
   {
    "duration": 37,
    "start_time": "2022-05-13T16:49:34.300Z"
   },
   {
    "duration": 38,
    "start_time": "2022-05-13T16:49:34.339Z"
   },
   {
    "duration": 11,
    "start_time": "2022-05-13T16:49:34.379Z"
   },
   {
    "duration": 18,
    "start_time": "2022-05-13T16:49:34.394Z"
   },
   {
    "duration": 28,
    "start_time": "2022-05-13T16:49:34.414Z"
   },
   {
    "duration": 89,
    "start_time": "2022-05-13T16:49:34.445Z"
   },
   {
    "duration": 19,
    "start_time": "2022-05-13T16:49:34.536Z"
   },
   {
    "duration": 77,
    "start_time": "2022-05-13T16:49:34.558Z"
   },
   {
    "duration": 16,
    "start_time": "2022-05-13T16:49:34.638Z"
   },
   {
    "duration": 45,
    "start_time": "2022-05-13T16:49:34.656Z"
   },
   {
    "duration": 30,
    "start_time": "2022-05-13T16:49:34.703Z"
   },
   {
    "duration": 23,
    "start_time": "2022-05-13T16:49:34.735Z"
   },
   {
    "duration": 48,
    "start_time": "2022-05-13T16:49:34.759Z"
   },
   {
    "duration": 44,
    "start_time": "2022-05-13T16:49:34.808Z"
   },
   {
    "duration": 28,
    "start_time": "2022-05-13T16:49:34.854Z"
   },
   {
    "duration": 22,
    "start_time": "2022-05-13T16:49:34.883Z"
   },
   {
    "duration": 46,
    "start_time": "2022-05-13T16:49:34.907Z"
   },
   {
    "duration": 29,
    "start_time": "2022-05-13T16:49:34.955Z"
   },
   {
    "duration": 8,
    "start_time": "2022-05-13T16:49:34.986Z"
   },
   {
    "duration": 38,
    "start_time": "2022-05-13T16:49:34.996Z"
   },
   {
    "duration": 11,
    "start_time": "2022-05-13T16:49:35.036Z"
   },
   {
    "duration": 180,
    "start_time": "2022-05-13T16:49:35.049Z"
   },
   {
    "duration": 15,
    "start_time": "2022-05-13T16:49:35.230Z"
   },
   {
    "duration": 4,
    "start_time": "2022-05-13T16:49:35.247Z"
   },
   {
    "duration": 13,
    "start_time": "2022-05-13T16:49:35.253Z"
   },
   {
    "duration": 12,
    "start_time": "2022-05-13T16:49:35.268Z"
   },
   {
    "duration": 254,
    "start_time": "2022-05-13T16:49:35.282Z"
   },
   {
    "duration": 15,
    "start_time": "2022-05-13T16:49:35.538Z"
   },
   {
    "duration": 10,
    "start_time": "2022-05-13T16:49:35.554Z"
   },
   {
    "duration": 228,
    "start_time": "2022-05-13T16:49:35.566Z"
   },
   {
    "duration": 15,
    "start_time": "2022-05-13T16:49:35.800Z"
   },
   {
    "duration": 10,
    "start_time": "2022-05-13T16:49:35.834Z"
   },
   {
    "duration": 228,
    "start_time": "2022-05-13T16:49:35.845Z"
   },
   {
    "duration": 16,
    "start_time": "2022-05-13T16:49:36.074Z"
   },
   {
    "duration": 4,
    "start_time": "2022-05-13T16:49:36.091Z"
   },
   {
    "duration": 8,
    "start_time": "2022-05-13T16:49:36.097Z"
   },
   {
    "duration": 31,
    "start_time": "2022-05-13T16:49:36.107Z"
   },
   {
    "duration": 9,
    "start_time": "2022-05-13T16:49:36.140Z"
   },
   {
    "duration": 10,
    "start_time": "2022-05-13T16:49:36.151Z"
   },
   {
    "duration": 6,
    "start_time": "2022-05-13T16:49:36.162Z"
   },
   {
    "duration": 23,
    "start_time": "2022-05-13T16:49:36.169Z"
   },
   {
    "duration": 39,
    "start_time": "2022-05-13T16:49:36.194Z"
   },
   {
    "duration": 7,
    "start_time": "2022-05-13T16:49:36.235Z"
   },
   {
    "duration": 8,
    "start_time": "2022-05-13T16:49:36.244Z"
   },
   {
    "duration": 5,
    "start_time": "2022-05-13T16:49:36.253Z"
   },
   {
    "duration": 223,
    "start_time": "2022-05-13T16:50:47.913Z"
   },
   {
    "duration": 4,
    "start_time": "2022-05-13T16:51:11.623Z"
   },
   {
    "duration": 5,
    "start_time": "2022-05-13T16:51:24.402Z"
   },
   {
    "duration": 56,
    "start_time": "2022-05-14T09:41:23.274Z"
   },
   {
    "duration": 1543,
    "start_time": "2022-05-14T09:41:32.687Z"
   },
   {
    "duration": 173,
    "start_time": "2022-05-14T09:41:34.232Z"
   },
   {
    "duration": 35,
    "start_time": "2022-05-14T09:41:34.407Z"
   },
   {
    "duration": 26,
    "start_time": "2022-05-14T09:41:34.444Z"
   },
   {
    "duration": 174,
    "start_time": "2022-05-14T09:41:34.472Z"
   },
   {
    "duration": 25,
    "start_time": "2022-05-14T09:41:34.648Z"
   },
   {
    "duration": 22,
    "start_time": "2022-05-14T09:41:34.675Z"
   },
   {
    "duration": 105,
    "start_time": "2022-05-14T09:41:34.699Z"
   },
   {
    "duration": 32,
    "start_time": "2022-05-14T09:41:34.806Z"
   },
   {
    "duration": 13,
    "start_time": "2022-05-14T09:41:34.842Z"
   },
   {
    "duration": 20,
    "start_time": "2022-05-14T09:41:34.856Z"
   },
   {
    "duration": 39,
    "start_time": "2022-05-14T09:41:34.878Z"
   },
   {
    "duration": 10,
    "start_time": "2022-05-14T09:41:34.919Z"
   },
   {
    "duration": 17,
    "start_time": "2022-05-14T09:41:34.931Z"
   },
   {
    "duration": 24,
    "start_time": "2022-05-14T09:41:34.949Z"
   },
   {
    "duration": 90,
    "start_time": "2022-05-14T09:41:34.975Z"
   },
   {
    "duration": 17,
    "start_time": "2022-05-14T09:41:35.067Z"
   },
   {
    "duration": 126,
    "start_time": "2022-05-14T09:41:35.086Z"
   },
   {
    "duration": 0,
    "start_time": "2022-05-14T09:41:35.224Z"
   },
   {
    "duration": 0,
    "start_time": "2022-05-14T09:41:35.225Z"
   },
   {
    "duration": 0,
    "start_time": "2022-05-14T09:41:35.226Z"
   },
   {
    "duration": 0,
    "start_time": "2022-05-14T09:41:35.227Z"
   },
   {
    "duration": 0,
    "start_time": "2022-05-14T09:41:35.228Z"
   },
   {
    "duration": 0,
    "start_time": "2022-05-14T09:41:35.229Z"
   },
   {
    "duration": 0,
    "start_time": "2022-05-14T09:41:35.230Z"
   },
   {
    "duration": 0,
    "start_time": "2022-05-14T09:41:35.231Z"
   },
   {
    "duration": 0,
    "start_time": "2022-05-14T09:41:35.232Z"
   },
   {
    "duration": 0,
    "start_time": "2022-05-14T09:41:35.233Z"
   },
   {
    "duration": 0,
    "start_time": "2022-05-14T09:41:35.234Z"
   },
   {
    "duration": 0,
    "start_time": "2022-05-14T09:41:35.235Z"
   },
   {
    "duration": 0,
    "start_time": "2022-05-14T09:41:35.236Z"
   },
   {
    "duration": 0,
    "start_time": "2022-05-14T09:41:35.237Z"
   },
   {
    "duration": 0,
    "start_time": "2022-05-14T09:41:35.238Z"
   },
   {
    "duration": 0,
    "start_time": "2022-05-14T09:41:35.239Z"
   },
   {
    "duration": 0,
    "start_time": "2022-05-14T09:41:35.240Z"
   },
   {
    "duration": 0,
    "start_time": "2022-05-14T09:41:35.241Z"
   },
   {
    "duration": 0,
    "start_time": "2022-05-14T09:41:35.242Z"
   },
   {
    "duration": 0,
    "start_time": "2022-05-14T09:41:35.243Z"
   },
   {
    "duration": 0,
    "start_time": "2022-05-14T09:41:35.244Z"
   },
   {
    "duration": 0,
    "start_time": "2022-05-14T09:41:35.245Z"
   },
   {
    "duration": 0,
    "start_time": "2022-05-14T09:41:35.247Z"
   },
   {
    "duration": 0,
    "start_time": "2022-05-14T09:41:35.248Z"
   },
   {
    "duration": 0,
    "start_time": "2022-05-14T09:41:35.249Z"
   },
   {
    "duration": 0,
    "start_time": "2022-05-14T09:41:35.250Z"
   },
   {
    "duration": 0,
    "start_time": "2022-05-14T09:41:35.251Z"
   },
   {
    "duration": 0,
    "start_time": "2022-05-14T09:41:35.252Z"
   },
   {
    "duration": 0,
    "start_time": "2022-05-14T09:41:35.253Z"
   },
   {
    "duration": 0,
    "start_time": "2022-05-14T09:41:35.254Z"
   },
   {
    "duration": 0,
    "start_time": "2022-05-14T09:41:35.255Z"
   },
   {
    "duration": 0,
    "start_time": "2022-05-14T09:41:35.257Z"
   },
   {
    "duration": 0,
    "start_time": "2022-05-14T09:41:35.258Z"
   },
   {
    "duration": 0,
    "start_time": "2022-05-14T09:41:35.259Z"
   },
   {
    "duration": 0,
    "start_time": "2022-05-14T09:41:35.260Z"
   },
   {
    "duration": 0,
    "start_time": "2022-05-14T09:41:35.261Z"
   },
   {
    "duration": 0,
    "start_time": "2022-05-14T09:41:35.262Z"
   },
   {
    "duration": 0,
    "start_time": "2022-05-14T09:41:35.323Z"
   },
   {
    "duration": 1342,
    "start_time": "2022-05-14T09:52:56.285Z"
   },
   {
    "duration": 185,
    "start_time": "2022-05-14T09:52:57.630Z"
   },
   {
    "duration": 33,
    "start_time": "2022-05-14T09:52:57.816Z"
   },
   {
    "duration": 30,
    "start_time": "2022-05-14T09:52:57.851Z"
   },
   {
    "duration": 180,
    "start_time": "2022-05-14T09:52:57.883Z"
   },
   {
    "duration": 24,
    "start_time": "2022-05-14T09:52:58.065Z"
   },
   {
    "duration": 48,
    "start_time": "2022-05-14T09:52:58.091Z"
   },
   {
    "duration": 101,
    "start_time": "2022-05-14T09:52:58.141Z"
   },
   {
    "duration": 20,
    "start_time": "2022-05-14T09:52:58.244Z"
   },
   {
    "duration": 14,
    "start_time": "2022-05-14T09:52:58.267Z"
   },
   {
    "duration": 21,
    "start_time": "2022-05-14T09:52:58.283Z"
   },
   {
    "duration": 37,
    "start_time": "2022-05-14T09:52:58.324Z"
   },
   {
    "duration": 11,
    "start_time": "2022-05-14T09:52:58.363Z"
   },
   {
    "duration": 17,
    "start_time": "2022-05-14T09:52:58.376Z"
   },
   {
    "duration": 30,
    "start_time": "2022-05-14T09:52:58.395Z"
   },
   {
    "duration": 72,
    "start_time": "2022-05-14T09:52:58.427Z"
   },
   {
    "duration": 37,
    "start_time": "2022-05-14T09:52:58.501Z"
   },
   {
    "duration": 119,
    "start_time": "2022-05-14T09:52:58.540Z"
   },
   {
    "duration": 0,
    "start_time": "2022-05-14T09:52:58.663Z"
   },
   {
    "duration": 0,
    "start_time": "2022-05-14T09:52:58.664Z"
   },
   {
    "duration": 0,
    "start_time": "2022-05-14T09:52:58.665Z"
   },
   {
    "duration": 0,
    "start_time": "2022-05-14T09:52:58.667Z"
   },
   {
    "duration": 0,
    "start_time": "2022-05-14T09:52:58.668Z"
   },
   {
    "duration": 0,
    "start_time": "2022-05-14T09:52:58.668Z"
   },
   {
    "duration": 0,
    "start_time": "2022-05-14T09:52:58.669Z"
   },
   {
    "duration": 0,
    "start_time": "2022-05-14T09:52:58.671Z"
   },
   {
    "duration": 0,
    "start_time": "2022-05-14T09:52:58.672Z"
   },
   {
    "duration": 0,
    "start_time": "2022-05-14T09:52:58.673Z"
   },
   {
    "duration": 0,
    "start_time": "2022-05-14T09:52:58.675Z"
   },
   {
    "duration": 0,
    "start_time": "2022-05-14T09:52:58.675Z"
   },
   {
    "duration": 0,
    "start_time": "2022-05-14T09:52:58.676Z"
   },
   {
    "duration": 0,
    "start_time": "2022-05-14T09:52:58.677Z"
   },
   {
    "duration": 0,
    "start_time": "2022-05-14T09:52:58.678Z"
   },
   {
    "duration": 0,
    "start_time": "2022-05-14T09:52:58.679Z"
   },
   {
    "duration": 0,
    "start_time": "2022-05-14T09:52:58.680Z"
   },
   {
    "duration": 0,
    "start_time": "2022-05-14T09:52:58.681Z"
   },
   {
    "duration": 0,
    "start_time": "2022-05-14T09:52:58.682Z"
   },
   {
    "duration": 0,
    "start_time": "2022-05-14T09:52:58.683Z"
   },
   {
    "duration": 0,
    "start_time": "2022-05-14T09:52:58.723Z"
   },
   {
    "duration": 0,
    "start_time": "2022-05-14T09:52:58.725Z"
   },
   {
    "duration": 0,
    "start_time": "2022-05-14T09:52:58.726Z"
   },
   {
    "duration": 0,
    "start_time": "2022-05-14T09:52:58.727Z"
   },
   {
    "duration": 0,
    "start_time": "2022-05-14T09:52:58.728Z"
   },
   {
    "duration": 0,
    "start_time": "2022-05-14T09:52:58.729Z"
   },
   {
    "duration": 0,
    "start_time": "2022-05-14T09:52:58.730Z"
   },
   {
    "duration": 0,
    "start_time": "2022-05-14T09:52:58.731Z"
   },
   {
    "duration": 0,
    "start_time": "2022-05-14T09:52:58.732Z"
   },
   {
    "duration": 0,
    "start_time": "2022-05-14T09:52:58.732Z"
   },
   {
    "duration": 0,
    "start_time": "2022-05-14T09:52:58.733Z"
   },
   {
    "duration": 0,
    "start_time": "2022-05-14T09:52:58.735Z"
   },
   {
    "duration": 0,
    "start_time": "2022-05-14T09:52:58.736Z"
   },
   {
    "duration": 0,
    "start_time": "2022-05-14T09:52:58.737Z"
   },
   {
    "duration": 0,
    "start_time": "2022-05-14T09:52:58.738Z"
   },
   {
    "duration": 0,
    "start_time": "2022-05-14T09:52:58.739Z"
   },
   {
    "duration": 0,
    "start_time": "2022-05-14T09:52:58.740Z"
   },
   {
    "duration": 0,
    "start_time": "2022-05-14T09:52:58.741Z"
   },
   {
    "duration": 1282,
    "start_time": "2022-05-14T09:59:21.377Z"
   },
   {
    "duration": 190,
    "start_time": "2022-05-14T09:59:22.661Z"
   },
   {
    "duration": 43,
    "start_time": "2022-05-14T09:59:22.854Z"
   },
   {
    "duration": 56,
    "start_time": "2022-05-14T09:59:22.901Z"
   },
   {
    "duration": 234,
    "start_time": "2022-05-14T09:59:22.959Z"
   },
   {
    "duration": 39,
    "start_time": "2022-05-14T09:59:23.195Z"
   },
   {
    "duration": 34,
    "start_time": "2022-05-14T09:59:23.236Z"
   },
   {
    "duration": 151,
    "start_time": "2022-05-14T09:59:23.272Z"
   },
   {
    "duration": 31,
    "start_time": "2022-05-14T09:59:23.425Z"
   },
   {
    "duration": 15,
    "start_time": "2022-05-14T09:59:23.460Z"
   },
   {
    "duration": 36,
    "start_time": "2022-05-14T09:59:23.477Z"
   },
   {
    "duration": 38,
    "start_time": "2022-05-14T09:59:23.514Z"
   },
   {
    "duration": 12,
    "start_time": "2022-05-14T09:59:23.554Z"
   },
   {
    "duration": 22,
    "start_time": "2022-05-14T09:59:23.568Z"
   },
   {
    "duration": 33,
    "start_time": "2022-05-14T09:59:23.592Z"
   },
   {
    "duration": 856,
    "start_time": "2022-05-14T09:59:23.626Z"
   },
   {
    "duration": 18,
    "start_time": "2022-05-14T09:59:24.484Z"
   },
   {
    "duration": 128,
    "start_time": "2022-05-14T09:59:24.503Z"
   },
   {
    "duration": 0,
    "start_time": "2022-05-14T09:59:24.634Z"
   },
   {
    "duration": 0,
    "start_time": "2022-05-14T09:59:24.635Z"
   },
   {
    "duration": 0,
    "start_time": "2022-05-14T09:59:24.637Z"
   },
   {
    "duration": 0,
    "start_time": "2022-05-14T09:59:24.637Z"
   },
   {
    "duration": 0,
    "start_time": "2022-05-14T09:59:24.638Z"
   },
   {
    "duration": 0,
    "start_time": "2022-05-14T09:59:24.640Z"
   },
   {
    "duration": 0,
    "start_time": "2022-05-14T09:59:24.641Z"
   },
   {
    "duration": 0,
    "start_time": "2022-05-14T09:59:24.642Z"
   },
   {
    "duration": 0,
    "start_time": "2022-05-14T09:59:24.643Z"
   },
   {
    "duration": 0,
    "start_time": "2022-05-14T09:59:24.644Z"
   },
   {
    "duration": 0,
    "start_time": "2022-05-14T09:59:24.645Z"
   },
   {
    "duration": 0,
    "start_time": "2022-05-14T09:59:24.646Z"
   },
   {
    "duration": 0,
    "start_time": "2022-05-14T09:59:24.647Z"
   },
   {
    "duration": 0,
    "start_time": "2022-05-14T09:59:24.648Z"
   },
   {
    "duration": 0,
    "start_time": "2022-05-14T09:59:24.649Z"
   },
   {
    "duration": 0,
    "start_time": "2022-05-14T09:59:24.650Z"
   },
   {
    "duration": 0,
    "start_time": "2022-05-14T09:59:24.651Z"
   },
   {
    "duration": 0,
    "start_time": "2022-05-14T09:59:24.653Z"
   },
   {
    "duration": 0,
    "start_time": "2022-05-14T09:59:24.654Z"
   },
   {
    "duration": 0,
    "start_time": "2022-05-14T09:59:24.655Z"
   },
   {
    "duration": 0,
    "start_time": "2022-05-14T09:59:24.656Z"
   },
   {
    "duration": 0,
    "start_time": "2022-05-14T09:59:24.657Z"
   },
   {
    "duration": 0,
    "start_time": "2022-05-14T09:59:24.658Z"
   },
   {
    "duration": 0,
    "start_time": "2022-05-14T09:59:24.659Z"
   },
   {
    "duration": 0,
    "start_time": "2022-05-14T09:59:24.661Z"
   },
   {
    "duration": 0,
    "start_time": "2022-05-14T09:59:24.662Z"
   },
   {
    "duration": 0,
    "start_time": "2022-05-14T09:59:24.663Z"
   },
   {
    "duration": 0,
    "start_time": "2022-05-14T09:59:24.664Z"
   },
   {
    "duration": 0,
    "start_time": "2022-05-14T09:59:24.665Z"
   },
   {
    "duration": 0,
    "start_time": "2022-05-14T09:59:24.722Z"
   },
   {
    "duration": 0,
    "start_time": "2022-05-14T09:59:24.724Z"
   },
   {
    "duration": 0,
    "start_time": "2022-05-14T09:59:24.725Z"
   },
   {
    "duration": 0,
    "start_time": "2022-05-14T09:59:24.727Z"
   },
   {
    "duration": 0,
    "start_time": "2022-05-14T09:59:24.728Z"
   },
   {
    "duration": 0,
    "start_time": "2022-05-14T09:59:24.730Z"
   },
   {
    "duration": 0,
    "start_time": "2022-05-14T09:59:24.731Z"
   },
   {
    "duration": 0,
    "start_time": "2022-05-14T09:59:24.733Z"
   },
   {
    "duration": 0,
    "start_time": "2022-05-14T09:59:24.734Z"
   },
   {
    "duration": 2943,
    "start_time": "2022-05-14T10:02:52.504Z"
   },
   {
    "duration": 191,
    "start_time": "2022-05-14T10:02:55.450Z"
   },
   {
    "duration": 27,
    "start_time": "2022-05-14T10:02:55.643Z"
   },
   {
    "duration": 39,
    "start_time": "2022-05-14T10:02:55.673Z"
   },
   {
    "duration": 170,
    "start_time": "2022-05-14T10:02:55.713Z"
   },
   {
    "duration": 23,
    "start_time": "2022-05-14T10:02:55.884Z"
   },
   {
    "duration": 36,
    "start_time": "2022-05-14T10:02:55.909Z"
   },
   {
    "duration": 111,
    "start_time": "2022-05-14T10:02:55.947Z"
   },
   {
    "duration": 21,
    "start_time": "2022-05-14T10:02:56.060Z"
   },
   {
    "duration": 14,
    "start_time": "2022-05-14T10:02:56.084Z"
   },
   {
    "duration": 30,
    "start_time": "2022-05-14T10:02:56.100Z"
   },
   {
    "duration": 39,
    "start_time": "2022-05-14T10:02:56.131Z"
   },
   {
    "duration": 16,
    "start_time": "2022-05-14T10:02:56.172Z"
   },
   {
    "duration": 19,
    "start_time": "2022-05-14T10:02:56.191Z"
   },
   {
    "duration": 43,
    "start_time": "2022-05-14T10:02:56.213Z"
   },
   {
    "duration": 87,
    "start_time": "2022-05-14T10:02:56.258Z"
   },
   {
    "duration": 18,
    "start_time": "2022-05-14T10:02:56.347Z"
   },
   {
    "duration": 70,
    "start_time": "2022-05-14T10:02:56.367Z"
   },
   {
    "duration": 16,
    "start_time": "2022-05-14T10:02:56.439Z"
   },
   {
    "duration": 48,
    "start_time": "2022-05-14T10:02:56.457Z"
   },
   {
    "duration": 7,
    "start_time": "2022-05-14T10:02:56.523Z"
   },
   {
    "duration": 23,
    "start_time": "2022-05-14T10:02:56.532Z"
   },
   {
    "duration": 67,
    "start_time": "2022-05-14T10:02:56.557Z"
   },
   {
    "duration": 27,
    "start_time": "2022-05-14T10:02:56.626Z"
   },
   {
    "duration": 26,
    "start_time": "2022-05-14T10:02:56.654Z"
   },
   {
    "duration": 46,
    "start_time": "2022-05-14T10:02:56.681Z"
   },
   {
    "duration": 22,
    "start_time": "2022-05-14T10:02:56.730Z"
   },
   {
    "duration": 31,
    "start_time": "2022-05-14T10:02:56.756Z"
   },
   {
    "duration": 33,
    "start_time": "2022-05-14T10:02:56.789Z"
   },
   {
    "duration": 11,
    "start_time": "2022-05-14T10:02:56.824Z"
   },
   {
    "duration": 11,
    "start_time": "2022-05-14T10:02:56.837Z"
   },
   {
    "duration": 165,
    "start_time": "2022-05-14T10:02:56.849Z"
   },
   {
    "duration": 7,
    "start_time": "2022-05-14T10:02:57.016Z"
   },
   {
    "duration": 17,
    "start_time": "2022-05-14T10:02:57.025Z"
   },
   {
    "duration": 5,
    "start_time": "2022-05-14T10:02:57.044Z"
   },
   {
    "duration": 9,
    "start_time": "2022-05-14T10:02:57.051Z"
   },
   {
    "duration": 6,
    "start_time": "2022-05-14T10:02:57.062Z"
   },
   {
    "duration": 246,
    "start_time": "2022-05-14T10:02:57.070Z"
   },
   {
    "duration": 15,
    "start_time": "2022-05-14T10:02:57.322Z"
   },
   {
    "duration": 8,
    "start_time": "2022-05-14T10:02:57.340Z"
   },
   {
    "duration": 211,
    "start_time": "2022-05-14T10:02:57.350Z"
   },
   {
    "duration": 16,
    "start_time": "2022-05-14T10:02:57.563Z"
   },
   {
    "duration": 9,
    "start_time": "2022-05-14T10:02:57.581Z"
   },
   {
    "duration": 213,
    "start_time": "2022-05-14T10:02:57.592Z"
   },
   {
    "duration": 23,
    "start_time": "2022-05-14T10:02:57.807Z"
   },
   {
    "duration": 4,
    "start_time": "2022-05-14T10:02:57.832Z"
   },
   {
    "duration": 9,
    "start_time": "2022-05-14T10:02:57.838Z"
   },
   {
    "duration": 13,
    "start_time": "2022-05-14T10:02:57.849Z"
   },
   {
    "duration": 9,
    "start_time": "2022-05-14T10:02:57.864Z"
   },
   {
    "duration": 6,
    "start_time": "2022-05-14T10:02:57.874Z"
   },
   {
    "duration": 6,
    "start_time": "2022-05-14T10:02:57.881Z"
   },
   {
    "duration": 46,
    "start_time": "2022-05-14T10:02:57.889Z"
   },
   {
    "duration": 8,
    "start_time": "2022-05-14T10:02:57.937Z"
   },
   {
    "duration": 7,
    "start_time": "2022-05-14T10:02:57.947Z"
   },
   {
    "duration": 12,
    "start_time": "2022-05-14T10:02:57.956Z"
   },
   {
    "duration": 7,
    "start_time": "2022-05-14T10:02:57.970Z"
   },
   {
    "duration": 268,
    "start_time": "2022-05-14T10:05:11.906Z"
   },
   {
    "duration": 28,
    "start_time": "2022-05-14T10:05:27.176Z"
   },
   {
    "duration": 4070,
    "start_time": "2022-05-14T10:06:43.466Z"
   },
   {
    "duration": 31,
    "start_time": "2022-05-14T10:07:24.040Z"
   },
   {
    "duration": 19,
    "start_time": "2022-05-14T10:09:55.692Z"
   },
   {
    "duration": 11,
    "start_time": "2022-05-14T10:12:04.019Z"
   },
   {
    "duration": 11,
    "start_time": "2022-05-14T10:12:23.846Z"
   },
   {
    "duration": 9,
    "start_time": "2022-05-14T10:12:57.622Z"
   },
   {
    "duration": 12,
    "start_time": "2022-05-14T10:13:11.926Z"
   },
   {
    "duration": 26,
    "start_time": "2022-05-14T10:14:38.591Z"
   },
   {
    "duration": 1358,
    "start_time": "2022-05-14T10:15:09.706Z"
   },
   {
    "duration": 208,
    "start_time": "2022-05-14T10:15:11.066Z"
   },
   {
    "duration": 48,
    "start_time": "2022-05-14T10:15:11.276Z"
   },
   {
    "duration": 32,
    "start_time": "2022-05-14T10:15:11.327Z"
   },
   {
    "duration": 181,
    "start_time": "2022-05-14T10:15:11.361Z"
   },
   {
    "duration": 23,
    "start_time": "2022-05-14T10:15:11.544Z"
   },
   {
    "duration": 24,
    "start_time": "2022-05-14T10:15:11.570Z"
   },
   {
    "duration": 117,
    "start_time": "2022-05-14T10:15:11.596Z"
   },
   {
    "duration": 25,
    "start_time": "2022-05-14T10:15:11.715Z"
   },
   {
    "duration": 14,
    "start_time": "2022-05-14T10:15:11.743Z"
   },
   {
    "duration": 20,
    "start_time": "2022-05-14T10:15:11.759Z"
   },
   {
    "duration": 37,
    "start_time": "2022-05-14T10:15:11.781Z"
   },
   {
    "duration": 12,
    "start_time": "2022-05-14T10:15:11.819Z"
   },
   {
    "duration": 15,
    "start_time": "2022-05-14T10:15:11.833Z"
   },
   {
    "duration": 30,
    "start_time": "2022-05-14T10:15:11.850Z"
   },
   {
    "duration": 91,
    "start_time": "2022-05-14T10:15:11.882Z"
   },
   {
    "duration": 18,
    "start_time": "2022-05-14T10:15:11.975Z"
   },
   {
    "duration": 72,
    "start_time": "2022-05-14T10:15:11.995Z"
   },
   {
    "duration": 17,
    "start_time": "2022-05-14T10:15:12.069Z"
   },
   {
    "duration": 66,
    "start_time": "2022-05-14T10:15:12.089Z"
   },
   {
    "duration": 7,
    "start_time": "2022-05-14T10:15:12.158Z"
   },
   {
    "duration": 23,
    "start_time": "2022-05-14T10:15:12.167Z"
   },
   {
    "duration": 63,
    "start_time": "2022-05-14T10:15:12.192Z"
   },
   {
    "duration": 26,
    "start_time": "2022-05-14T10:15:12.256Z"
   },
   {
    "duration": 56,
    "start_time": "2022-05-14T10:15:12.285Z"
   },
   {
    "duration": 33,
    "start_time": "2022-05-14T10:15:12.344Z"
   },
   {
    "duration": 27,
    "start_time": "2022-05-14T10:15:12.380Z"
   },
   {
    "duration": 41,
    "start_time": "2022-05-14T10:15:12.428Z"
   },
   {
    "duration": 9,
    "start_time": "2022-05-14T10:15:12.471Z"
   },
   {
    "duration": 14,
    "start_time": "2022-05-14T10:15:12.483Z"
   },
   {
    "duration": 15,
    "start_time": "2022-05-14T10:15:12.523Z"
   },
   {
    "duration": 248,
    "start_time": "2022-05-14T10:15:12.540Z"
   },
   {
    "duration": 6,
    "start_time": "2022-05-14T10:15:12.790Z"
   },
   {
    "duration": 40,
    "start_time": "2022-05-14T10:15:12.798Z"
   },
   {
    "duration": 5,
    "start_time": "2022-05-14T10:15:12.841Z"
   },
   {
    "duration": 19,
    "start_time": "2022-05-14T10:15:12.849Z"
   },
   {
    "duration": 8,
    "start_time": "2022-05-14T10:15:12.870Z"
   },
   {
    "duration": 245,
    "start_time": "2022-05-14T10:15:12.880Z"
   },
   {
    "duration": 15,
    "start_time": "2022-05-14T10:15:13.128Z"
   },
   {
    "duration": 8,
    "start_time": "2022-05-14T10:15:13.145Z"
   },
   {
    "duration": 223,
    "start_time": "2022-05-14T10:15:13.155Z"
   },
   {
    "duration": 15,
    "start_time": "2022-05-14T10:15:13.380Z"
   },
   {
    "duration": 9,
    "start_time": "2022-05-14T10:15:13.397Z"
   },
   {
    "duration": 202,
    "start_time": "2022-05-14T10:15:13.423Z"
   },
   {
    "duration": 15,
    "start_time": "2022-05-14T10:15:13.627Z"
   },
   {
    "duration": 9,
    "start_time": "2022-05-14T10:15:13.644Z"
   },
   {
    "duration": 8,
    "start_time": "2022-05-14T10:15:13.655Z"
   },
   {
    "duration": 7,
    "start_time": "2022-05-14T10:15:13.665Z"
   },
   {
    "duration": 7,
    "start_time": "2022-05-14T10:15:13.674Z"
   },
   {
    "duration": 40,
    "start_time": "2022-05-14T10:15:13.683Z"
   },
   {
    "duration": 7,
    "start_time": "2022-05-14T10:15:13.726Z"
   },
   {
    "duration": 25,
    "start_time": "2022-05-14T10:15:13.735Z"
   },
   {
    "duration": 8,
    "start_time": "2022-05-14T10:15:13.762Z"
   },
   {
    "duration": 9,
    "start_time": "2022-05-14T10:15:13.771Z"
   },
   {
    "duration": 45,
    "start_time": "2022-05-14T10:15:13.782Z"
   },
   {
    "duration": 7,
    "start_time": "2022-05-14T10:15:13.829Z"
   },
   {
    "duration": 22,
    "start_time": "2022-05-14T10:15:54.950Z"
   },
   {
    "duration": 112,
    "start_time": "2022-05-14T10:16:00.574Z"
   },
   {
    "duration": 19,
    "start_time": "2022-05-14T10:16:48.493Z"
   },
   {
    "duration": 1301,
    "start_time": "2022-05-14T10:16:59.540Z"
   },
   {
    "duration": 191,
    "start_time": "2022-05-14T10:17:00.843Z"
   },
   {
    "duration": 27,
    "start_time": "2022-05-14T10:17:01.036Z"
   },
   {
    "duration": 31,
    "start_time": "2022-05-14T10:17:01.066Z"
   },
   {
    "duration": 173,
    "start_time": "2022-05-14T10:17:01.099Z"
   },
   {
    "duration": 29,
    "start_time": "2022-05-14T10:17:01.274Z"
   },
   {
    "duration": 52,
    "start_time": "2022-05-14T10:17:01.306Z"
   },
   {
    "duration": 107,
    "start_time": "2022-05-14T10:17:01.360Z"
   },
   {
    "duration": 22,
    "start_time": "2022-05-14T10:17:01.468Z"
   },
   {
    "duration": 30,
    "start_time": "2022-05-14T10:17:01.493Z"
   },
   {
    "duration": 30,
    "start_time": "2022-05-14T10:17:01.525Z"
   },
   {
    "duration": 36,
    "start_time": "2022-05-14T10:17:01.557Z"
   },
   {
    "duration": 11,
    "start_time": "2022-05-14T10:17:01.594Z"
   },
   {
    "duration": 25,
    "start_time": "2022-05-14T10:17:01.606Z"
   },
   {
    "duration": 57,
    "start_time": "2022-05-14T10:17:01.633Z"
   },
   {
    "duration": 70,
    "start_time": "2022-05-14T10:17:01.692Z"
   },
   {
    "duration": 17,
    "start_time": "2022-05-14T10:17:01.764Z"
   },
   {
    "duration": 76,
    "start_time": "2022-05-14T10:17:01.783Z"
   },
   {
    "duration": 16,
    "start_time": "2022-05-14T10:17:01.860Z"
   },
   {
    "duration": 78,
    "start_time": "2022-05-14T10:17:01.878Z"
   },
   {
    "duration": 6,
    "start_time": "2022-05-14T10:17:01.958Z"
   },
   {
    "duration": 39,
    "start_time": "2022-05-14T10:17:01.967Z"
   },
   {
    "duration": 45,
    "start_time": "2022-05-14T10:17:02.008Z"
   },
   {
    "duration": 28,
    "start_time": "2022-05-14T10:17:02.055Z"
   },
   {
    "duration": 50,
    "start_time": "2022-05-14T10:17:02.085Z"
   },
   {
    "duration": 21,
    "start_time": "2022-05-14T10:17:02.136Z"
   },
   {
    "duration": 123,
    "start_time": "2022-05-14T10:17:02.159Z"
   },
   {
    "duration": 0,
    "start_time": "2022-05-14T10:17:02.286Z"
   },
   {
    "duration": 0,
    "start_time": "2022-05-14T10:17:02.288Z"
   },
   {
    "duration": 0,
    "start_time": "2022-05-14T10:17:02.290Z"
   },
   {
    "duration": 0,
    "start_time": "2022-05-14T10:17:02.291Z"
   },
   {
    "duration": 0,
    "start_time": "2022-05-14T10:17:02.293Z"
   },
   {
    "duration": 0,
    "start_time": "2022-05-14T10:17:02.294Z"
   },
   {
    "duration": 0,
    "start_time": "2022-05-14T10:17:02.295Z"
   },
   {
    "duration": 0,
    "start_time": "2022-05-14T10:17:02.297Z"
   },
   {
    "duration": 0,
    "start_time": "2022-05-14T10:17:02.298Z"
   },
   {
    "duration": 0,
    "start_time": "2022-05-14T10:17:02.299Z"
   },
   {
    "duration": 0,
    "start_time": "2022-05-14T10:17:02.300Z"
   },
   {
    "duration": 0,
    "start_time": "2022-05-14T10:17:02.301Z"
   },
   {
    "duration": 0,
    "start_time": "2022-05-14T10:17:02.323Z"
   },
   {
    "duration": 0,
    "start_time": "2022-05-14T10:17:02.324Z"
   },
   {
    "duration": 0,
    "start_time": "2022-05-14T10:17:02.325Z"
   },
   {
    "duration": 0,
    "start_time": "2022-05-14T10:17:02.326Z"
   },
   {
    "duration": 0,
    "start_time": "2022-05-14T10:17:02.328Z"
   },
   {
    "duration": 0,
    "start_time": "2022-05-14T10:17:02.329Z"
   },
   {
    "duration": 0,
    "start_time": "2022-05-14T10:17:02.330Z"
   },
   {
    "duration": 0,
    "start_time": "2022-05-14T10:17:02.331Z"
   },
   {
    "duration": 0,
    "start_time": "2022-05-14T10:17:02.332Z"
   },
   {
    "duration": 0,
    "start_time": "2022-05-14T10:17:02.333Z"
   },
   {
    "duration": 1,
    "start_time": "2022-05-14T10:17:02.334Z"
   },
   {
    "duration": 0,
    "start_time": "2022-05-14T10:17:02.336Z"
   },
   {
    "duration": 0,
    "start_time": "2022-05-14T10:17:02.337Z"
   },
   {
    "duration": 0,
    "start_time": "2022-05-14T10:17:02.338Z"
   },
   {
    "duration": 0,
    "start_time": "2022-05-14T10:17:02.339Z"
   },
   {
    "duration": 0,
    "start_time": "2022-05-14T10:17:02.340Z"
   },
   {
    "duration": 0,
    "start_time": "2022-05-14T10:17:02.341Z"
   },
   {
    "duration": 21,
    "start_time": "2022-05-14T10:17:36.989Z"
   },
   {
    "duration": 18,
    "start_time": "2022-05-14T10:18:00.410Z"
   },
   {
    "duration": 24,
    "start_time": "2022-05-14T10:24:27.354Z"
   },
   {
    "duration": 24,
    "start_time": "2022-05-14T10:25:18.982Z"
   },
   {
    "duration": 26,
    "start_time": "2022-05-14T10:25:29.793Z"
   },
   {
    "duration": 18,
    "start_time": "2022-05-14T10:26:37.302Z"
   },
   {
    "duration": 22,
    "start_time": "2022-05-14T10:26:55.028Z"
   },
   {
    "duration": 16,
    "start_time": "2022-05-14T10:27:22.070Z"
   },
   {
    "duration": 0,
    "start_time": "2022-05-14T10:27:22.088Z"
   },
   {
    "duration": 20,
    "start_time": "2022-05-14T10:28:00.134Z"
   },
   {
    "duration": 1459,
    "start_time": "2022-05-14T10:28:15.759Z"
   },
   {
    "duration": 206,
    "start_time": "2022-05-14T10:28:17.220Z"
   },
   {
    "duration": 29,
    "start_time": "2022-05-14T10:28:17.428Z"
   },
   {
    "duration": 30,
    "start_time": "2022-05-14T10:28:17.459Z"
   },
   {
    "duration": 210,
    "start_time": "2022-05-14T10:28:17.491Z"
   },
   {
    "duration": 29,
    "start_time": "2022-05-14T10:28:17.702Z"
   },
   {
    "duration": 25,
    "start_time": "2022-05-14T10:28:17.733Z"
   },
   {
    "duration": 136,
    "start_time": "2022-05-14T10:28:17.759Z"
   },
   {
    "duration": 31,
    "start_time": "2022-05-14T10:28:17.897Z"
   },
   {
    "duration": 17,
    "start_time": "2022-05-14T10:28:17.931Z"
   },
   {
    "duration": 22,
    "start_time": "2022-05-14T10:28:17.950Z"
   },
   {
    "duration": 38,
    "start_time": "2022-05-14T10:28:17.974Z"
   },
   {
    "duration": 19,
    "start_time": "2022-05-14T10:28:18.014Z"
   },
   {
    "duration": 45,
    "start_time": "2022-05-14T10:28:18.035Z"
   },
   {
    "duration": 38,
    "start_time": "2022-05-14T10:28:18.082Z"
   },
   {
    "duration": 74,
    "start_time": "2022-05-14T10:28:18.122Z"
   },
   {
    "duration": 30,
    "start_time": "2022-05-14T10:28:18.198Z"
   },
   {
    "duration": 57,
    "start_time": "2022-05-14T10:28:18.230Z"
   },
   {
    "duration": 38,
    "start_time": "2022-05-14T10:28:18.289Z"
   },
   {
    "duration": 58,
    "start_time": "2022-05-14T10:28:18.329Z"
   },
   {
    "duration": 7,
    "start_time": "2022-05-14T10:28:18.389Z"
   },
   {
    "duration": 45,
    "start_time": "2022-05-14T10:28:18.398Z"
   },
   {
    "duration": 49,
    "start_time": "2022-05-14T10:28:18.446Z"
   },
   {
    "duration": 48,
    "start_time": "2022-05-14T10:28:18.496Z"
   },
   {
    "duration": 85,
    "start_time": "2022-05-14T10:28:18.546Z"
   },
   {
    "duration": 33,
    "start_time": "2022-05-14T10:28:18.633Z"
   },
   {
    "duration": 126,
    "start_time": "2022-05-14T10:28:18.668Z"
   },
   {
    "duration": 0,
    "start_time": "2022-05-14T10:28:18.797Z"
   },
   {
    "duration": 0,
    "start_time": "2022-05-14T10:28:18.798Z"
   },
   {
    "duration": 0,
    "start_time": "2022-05-14T10:28:18.800Z"
   },
   {
    "duration": 0,
    "start_time": "2022-05-14T10:28:18.800Z"
   },
   {
    "duration": 0,
    "start_time": "2022-05-14T10:28:18.802Z"
   },
   {
    "duration": 0,
    "start_time": "2022-05-14T10:28:18.803Z"
   },
   {
    "duration": 0,
    "start_time": "2022-05-14T10:28:18.804Z"
   },
   {
    "duration": 0,
    "start_time": "2022-05-14T10:28:18.805Z"
   },
   {
    "duration": 0,
    "start_time": "2022-05-14T10:28:18.823Z"
   },
   {
    "duration": 0,
    "start_time": "2022-05-14T10:28:18.824Z"
   },
   {
    "duration": 0,
    "start_time": "2022-05-14T10:28:18.825Z"
   },
   {
    "duration": 0,
    "start_time": "2022-05-14T10:28:18.826Z"
   },
   {
    "duration": 0,
    "start_time": "2022-05-14T10:28:18.828Z"
   },
   {
    "duration": 0,
    "start_time": "2022-05-14T10:28:18.829Z"
   },
   {
    "duration": 0,
    "start_time": "2022-05-14T10:28:18.830Z"
   },
   {
    "duration": 0,
    "start_time": "2022-05-14T10:28:18.830Z"
   },
   {
    "duration": 0,
    "start_time": "2022-05-14T10:28:18.832Z"
   },
   {
    "duration": 0,
    "start_time": "2022-05-14T10:28:18.832Z"
   },
   {
    "duration": 0,
    "start_time": "2022-05-14T10:28:18.834Z"
   },
   {
    "duration": 1,
    "start_time": "2022-05-14T10:28:18.834Z"
   },
   {
    "duration": 0,
    "start_time": "2022-05-14T10:28:18.836Z"
   },
   {
    "duration": 0,
    "start_time": "2022-05-14T10:28:18.837Z"
   },
   {
    "duration": 0,
    "start_time": "2022-05-14T10:28:18.838Z"
   },
   {
    "duration": 0,
    "start_time": "2022-05-14T10:28:18.839Z"
   },
   {
    "duration": 0,
    "start_time": "2022-05-14T10:28:18.840Z"
   },
   {
    "duration": 0,
    "start_time": "2022-05-14T10:28:18.841Z"
   },
   {
    "duration": 0,
    "start_time": "2022-05-14T10:28:18.843Z"
   },
   {
    "duration": 0,
    "start_time": "2022-05-14T10:28:18.844Z"
   },
   {
    "duration": 0,
    "start_time": "2022-05-14T10:28:18.845Z"
   },
   {
    "duration": 20,
    "start_time": "2022-05-14T10:33:24.248Z"
   },
   {
    "duration": 34,
    "start_time": "2022-05-14T10:33:31.293Z"
   },
   {
    "duration": 32,
    "start_time": "2022-05-14T10:33:34.080Z"
   },
   {
    "duration": 22,
    "start_time": "2022-05-14T10:33:55.320Z"
   },
   {
    "duration": 24,
    "start_time": "2022-05-14T10:34:01.998Z"
   },
   {
    "duration": 20,
    "start_time": "2022-05-14T10:34:04.684Z"
   },
   {
    "duration": 21,
    "start_time": "2022-05-14T10:34:17.692Z"
   },
   {
    "duration": 1349,
    "start_time": "2022-05-14T10:44:00.212Z"
   },
   {
    "duration": 182,
    "start_time": "2022-05-14T10:44:01.563Z"
   },
   {
    "duration": 28,
    "start_time": "2022-05-14T10:44:01.747Z"
   },
   {
    "duration": 47,
    "start_time": "2022-05-14T10:44:01.777Z"
   },
   {
    "duration": 175,
    "start_time": "2022-05-14T10:44:01.826Z"
   },
   {
    "duration": 29,
    "start_time": "2022-05-14T10:44:02.003Z"
   },
   {
    "duration": 25,
    "start_time": "2022-05-14T10:44:02.033Z"
   },
   {
    "duration": 115,
    "start_time": "2022-05-14T10:44:02.062Z"
   },
   {
    "duration": 21,
    "start_time": "2022-05-14T10:44:02.179Z"
   },
   {
    "duration": 36,
    "start_time": "2022-05-14T10:44:02.203Z"
   },
   {
    "duration": 33,
    "start_time": "2022-05-14T10:44:02.241Z"
   },
   {
    "duration": 58,
    "start_time": "2022-05-14T10:44:02.276Z"
   },
   {
    "duration": 12,
    "start_time": "2022-05-14T10:44:02.336Z"
   },
   {
    "duration": 36,
    "start_time": "2022-05-14T10:44:02.351Z"
   },
   {
    "duration": 29,
    "start_time": "2022-05-14T10:44:02.389Z"
   },
   {
    "duration": 89,
    "start_time": "2022-05-14T10:44:02.420Z"
   },
   {
    "duration": 18,
    "start_time": "2022-05-14T10:44:02.512Z"
   },
   {
    "duration": 82,
    "start_time": "2022-05-14T10:44:02.532Z"
   },
   {
    "duration": 17,
    "start_time": "2022-05-14T10:44:02.616Z"
   },
   {
    "duration": 60,
    "start_time": "2022-05-14T10:44:02.635Z"
   },
   {
    "duration": 5,
    "start_time": "2022-05-14T10:44:02.697Z"
   },
   {
    "duration": 40,
    "start_time": "2022-05-14T10:44:02.704Z"
   },
   {
    "duration": 43,
    "start_time": "2022-05-14T10:44:02.746Z"
   },
   {
    "duration": 35,
    "start_time": "2022-05-14T10:44:02.791Z"
   },
   {
    "duration": 26,
    "start_time": "2022-05-14T10:44:02.827Z"
   },
   {
    "duration": 22,
    "start_time": "2022-05-14T10:44:02.855Z"
   },
   {
    "duration": 17,
    "start_time": "2022-05-14T10:44:02.879Z"
   },
   {
    "duration": 19,
    "start_time": "2022-05-14T10:44:02.922Z"
   },
   {
    "duration": 8,
    "start_time": "2022-05-14T10:44:02.944Z"
   },
   {
    "duration": 11,
    "start_time": "2022-05-14T10:44:02.954Z"
   },
   {
    "duration": 12,
    "start_time": "2022-05-14T10:44:02.967Z"
   },
   {
    "duration": 197,
    "start_time": "2022-05-14T10:44:02.981Z"
   },
   {
    "duration": 4,
    "start_time": "2022-05-14T10:44:03.181Z"
   },
   {
    "duration": 16,
    "start_time": "2022-05-14T10:44:03.186Z"
   },
   {
    "duration": 21,
    "start_time": "2022-05-14T10:44:03.204Z"
   },
   {
    "duration": 14,
    "start_time": "2022-05-14T10:44:03.227Z"
   },
   {
    "duration": 13,
    "start_time": "2022-05-14T10:44:03.243Z"
   },
   {
    "duration": 229,
    "start_time": "2022-05-14T10:44:03.257Z"
   },
   {
    "duration": 14,
    "start_time": "2022-05-14T10:44:03.488Z"
   },
   {
    "duration": 25,
    "start_time": "2022-05-14T10:44:03.504Z"
   },
   {
    "duration": 316,
    "start_time": "2022-05-14T10:44:03.531Z"
   },
   {
    "duration": 21,
    "start_time": "2022-05-14T10:44:03.849Z"
   },
   {
    "duration": 11,
    "start_time": "2022-05-14T10:44:03.872Z"
   },
   {
    "duration": 222,
    "start_time": "2022-05-14T10:44:03.885Z"
   },
   {
    "duration": 24,
    "start_time": "2022-05-14T10:44:04.109Z"
   },
   {
    "duration": 4,
    "start_time": "2022-05-14T10:44:04.135Z"
   },
   {
    "duration": 10,
    "start_time": "2022-05-14T10:44:04.141Z"
   },
   {
    "duration": 7,
    "start_time": "2022-05-14T10:44:04.153Z"
   },
   {
    "duration": 8,
    "start_time": "2022-05-14T10:44:04.162Z"
   },
   {
    "duration": 7,
    "start_time": "2022-05-14T10:44:04.172Z"
   },
   {
    "duration": 45,
    "start_time": "2022-05-14T10:44:04.180Z"
   },
   {
    "duration": 28,
    "start_time": "2022-05-14T10:44:04.227Z"
   },
   {
    "duration": 8,
    "start_time": "2022-05-14T10:44:04.257Z"
   },
   {
    "duration": 10,
    "start_time": "2022-05-14T10:44:04.267Z"
   },
   {
    "duration": 9,
    "start_time": "2022-05-14T10:44:04.279Z"
   },
   {
    "duration": 35,
    "start_time": "2022-05-14T10:44:04.290Z"
   },
   {
    "duration": 147,
    "start_time": "2022-05-14T10:46:31.457Z"
   },
   {
    "duration": 151,
    "start_time": "2022-05-14T10:47:23.584Z"
   },
   {
    "duration": 9,
    "start_time": "2022-05-14T10:58:52.657Z"
   },
   {
    "duration": 12,
    "start_time": "2022-05-14T10:59:09.632Z"
   },
   {
    "duration": 24,
    "start_time": "2022-05-14T10:59:59.763Z"
   },
   {
    "duration": 9,
    "start_time": "2022-05-14T11:00:22.385Z"
   },
   {
    "duration": 13,
    "start_time": "2022-05-14T11:00:51.508Z"
   },
   {
    "duration": 13,
    "start_time": "2022-05-14T11:01:11.783Z"
   },
   {
    "duration": 14,
    "start_time": "2022-05-14T11:01:18.620Z"
   },
   {
    "duration": 11,
    "start_time": "2022-05-14T11:01:32.880Z"
   },
   {
    "duration": 1304,
    "start_time": "2022-05-14T11:01:45.044Z"
   },
   {
    "duration": 168,
    "start_time": "2022-05-14T11:01:46.350Z"
   },
   {
    "duration": 31,
    "start_time": "2022-05-14T11:01:46.522Z"
   },
   {
    "duration": 33,
    "start_time": "2022-05-14T11:01:46.556Z"
   },
   {
    "duration": 174,
    "start_time": "2022-05-14T11:01:46.590Z"
   },
   {
    "duration": 22,
    "start_time": "2022-05-14T11:01:46.765Z"
   },
   {
    "duration": 41,
    "start_time": "2022-05-14T11:01:46.789Z"
   },
   {
    "duration": 108,
    "start_time": "2022-05-14T11:01:46.832Z"
   },
   {
    "duration": 21,
    "start_time": "2022-05-14T11:01:46.942Z"
   },
   {
    "duration": 15,
    "start_time": "2022-05-14T11:01:46.966Z"
   },
   {
    "duration": 22,
    "start_time": "2022-05-14T11:01:46.983Z"
   },
   {
    "duration": 65,
    "start_time": "2022-05-14T11:01:47.007Z"
   },
   {
    "duration": 12,
    "start_time": "2022-05-14T11:01:47.073Z"
   },
   {
    "duration": 14,
    "start_time": "2022-05-14T11:01:47.087Z"
   },
   {
    "duration": 22,
    "start_time": "2022-05-14T11:01:47.103Z"
   },
   {
    "duration": 75,
    "start_time": "2022-05-14T11:01:47.127Z"
   },
   {
    "duration": 40,
    "start_time": "2022-05-14T11:01:47.204Z"
   },
   {
    "duration": 54,
    "start_time": "2022-05-14T11:01:47.246Z"
   },
   {
    "duration": 44,
    "start_time": "2022-05-14T11:01:47.302Z"
   },
   {
    "duration": 45,
    "start_time": "2022-05-14T11:01:47.347Z"
   },
   {
    "duration": 6,
    "start_time": "2022-05-14T11:01:47.394Z"
   },
   {
    "duration": 26,
    "start_time": "2022-05-14T11:01:47.422Z"
   },
   {
    "duration": 43,
    "start_time": "2022-05-14T11:01:47.449Z"
   },
   {
    "duration": 51,
    "start_time": "2022-05-14T11:01:47.493Z"
   },
   {
    "duration": 29,
    "start_time": "2022-05-14T11:01:47.545Z"
   },
   {
    "duration": 11,
    "start_time": "2022-05-14T11:01:47.575Z"
   },
   {
    "duration": 50,
    "start_time": "2022-05-14T11:01:47.588Z"
   },
   {
    "duration": 20,
    "start_time": "2022-05-14T11:01:47.642Z"
   },
   {
    "duration": 20,
    "start_time": "2022-05-14T11:01:47.663Z"
   },
   {
    "duration": 8,
    "start_time": "2022-05-14T11:01:47.684Z"
   },
   {
    "duration": 31,
    "start_time": "2022-05-14T11:01:47.693Z"
   },
   {
    "duration": 11,
    "start_time": "2022-05-14T11:01:47.735Z"
   },
   {
    "duration": 149,
    "start_time": "2022-05-14T11:01:47.748Z"
   },
   {
    "duration": 4,
    "start_time": "2022-05-14T11:01:47.899Z"
   },
   {
    "duration": 30,
    "start_time": "2022-05-14T11:01:47.905Z"
   },
   {
    "duration": 5,
    "start_time": "2022-05-14T11:01:47.937Z"
   },
   {
    "duration": 9,
    "start_time": "2022-05-14T11:01:47.944Z"
   },
   {
    "duration": 7,
    "start_time": "2022-05-14T11:01:47.955Z"
   },
   {
    "duration": 248,
    "start_time": "2022-05-14T11:01:47.964Z"
   },
   {
    "duration": 27,
    "start_time": "2022-05-14T11:01:48.215Z"
   },
   {
    "duration": 9,
    "start_time": "2022-05-14T11:01:48.244Z"
   },
   {
    "duration": 201,
    "start_time": "2022-05-14T11:01:48.256Z"
   },
   {
    "duration": 15,
    "start_time": "2022-05-14T11:01:48.459Z"
   },
   {
    "duration": 10,
    "start_time": "2022-05-14T11:01:48.476Z"
   },
   {
    "duration": 220,
    "start_time": "2022-05-14T11:01:48.488Z"
   },
   {
    "duration": 29,
    "start_time": "2022-05-14T11:01:48.710Z"
   },
   {
    "duration": 10,
    "start_time": "2022-05-14T11:01:48.741Z"
   },
   {
    "duration": 8,
    "start_time": "2022-05-14T11:01:48.753Z"
   },
   {
    "duration": 10,
    "start_time": "2022-05-14T11:01:48.763Z"
   },
   {
    "duration": 7,
    "start_time": "2022-05-14T11:01:48.774Z"
   },
   {
    "duration": 6,
    "start_time": "2022-05-14T11:01:48.783Z"
   },
   {
    "duration": 8,
    "start_time": "2022-05-14T11:01:48.790Z"
   },
   {
    "duration": 29,
    "start_time": "2022-05-14T11:01:48.824Z"
   },
   {
    "duration": 7,
    "start_time": "2022-05-14T11:01:48.855Z"
   },
   {
    "duration": 8,
    "start_time": "2022-05-14T11:01:48.863Z"
   },
   {
    "duration": 9,
    "start_time": "2022-05-14T11:01:48.873Z"
   },
   {
    "duration": 7,
    "start_time": "2022-05-14T11:01:48.884Z"
   },
   {
    "duration": 10,
    "start_time": "2022-05-14T11:02:25.255Z"
   },
   {
    "duration": 12,
    "start_time": "2022-05-14T11:03:36.536Z"
   },
   {
    "duration": 12,
    "start_time": "2022-05-14T11:03:56.168Z"
   },
   {
    "duration": 17,
    "start_time": "2022-05-14T11:04:27.914Z"
   },
   {
    "duration": 13,
    "start_time": "2022-05-14T11:05:18.544Z"
   },
   {
    "duration": 899,
    "start_time": "2022-05-14T11:06:18.583Z"
   },
   {
    "duration": 13,
    "start_time": "2022-05-14T11:06:35.611Z"
   },
   {
    "duration": 1226,
    "start_time": "2022-05-14T11:06:46.223Z"
   },
   {
    "duration": 186,
    "start_time": "2022-05-14T11:06:47.451Z"
   },
   {
    "duration": 28,
    "start_time": "2022-05-14T11:06:47.639Z"
   },
   {
    "duration": 26,
    "start_time": "2022-05-14T11:06:47.669Z"
   },
   {
    "duration": 176,
    "start_time": "2022-05-14T11:06:47.696Z"
   },
   {
    "duration": 22,
    "start_time": "2022-05-14T11:06:47.874Z"
   },
   {
    "duration": 41,
    "start_time": "2022-05-14T11:06:47.898Z"
   },
   {
    "duration": 102,
    "start_time": "2022-05-14T11:06:47.940Z"
   },
   {
    "duration": 20,
    "start_time": "2022-05-14T11:06:48.044Z"
   },
   {
    "duration": 37,
    "start_time": "2022-05-14T11:06:48.068Z"
   },
   {
    "duration": 25,
    "start_time": "2022-05-14T11:06:48.107Z"
   },
   {
    "duration": 57,
    "start_time": "2022-05-14T11:06:48.134Z"
   },
   {
    "duration": 10,
    "start_time": "2022-05-14T11:06:48.193Z"
   },
   {
    "duration": 46,
    "start_time": "2022-05-14T11:06:48.205Z"
   },
   {
    "duration": 47,
    "start_time": "2022-05-14T11:06:48.252Z"
   },
   {
    "duration": 75,
    "start_time": "2022-05-14T11:06:48.301Z"
   },
   {
    "duration": 18,
    "start_time": "2022-05-14T11:06:48.378Z"
   },
   {
    "duration": 85,
    "start_time": "2022-05-14T11:06:48.398Z"
   },
   {
    "duration": 15,
    "start_time": "2022-05-14T11:06:48.485Z"
   },
   {
    "duration": 66,
    "start_time": "2022-05-14T11:06:48.502Z"
   },
   {
    "duration": 6,
    "start_time": "2022-05-14T11:06:48.570Z"
   },
   {
    "duration": 46,
    "start_time": "2022-05-14T11:06:48.578Z"
   },
   {
    "duration": 61,
    "start_time": "2022-05-14T11:06:48.625Z"
   },
   {
    "duration": 25,
    "start_time": "2022-05-14T11:06:48.688Z"
   },
   {
    "duration": 42,
    "start_time": "2022-05-14T11:06:48.714Z"
   },
   {
    "duration": 9,
    "start_time": "2022-05-14T11:06:48.758Z"
   },
   {
    "duration": 36,
    "start_time": "2022-05-14T11:06:48.769Z"
   },
   {
    "duration": 38,
    "start_time": "2022-05-14T11:06:48.809Z"
   },
   {
    "duration": 35,
    "start_time": "2022-05-14T11:06:48.849Z"
   },
   {
    "duration": 11,
    "start_time": "2022-05-14T11:06:48.886Z"
   },
   {
    "duration": 35,
    "start_time": "2022-05-14T11:06:48.898Z"
   },
   {
    "duration": 24,
    "start_time": "2022-05-14T11:06:48.935Z"
   },
   {
    "duration": 155,
    "start_time": "2022-05-14T11:06:48.961Z"
   },
   {
    "duration": 7,
    "start_time": "2022-05-14T11:06:49.118Z"
   },
   {
    "duration": 35,
    "start_time": "2022-05-14T11:06:49.128Z"
   },
   {
    "duration": 13,
    "start_time": "2022-05-14T11:06:49.164Z"
   },
   {
    "duration": 21,
    "start_time": "2022-05-14T11:06:49.179Z"
   },
   {
    "duration": 31,
    "start_time": "2022-05-14T11:06:49.202Z"
   },
   {
    "duration": 228,
    "start_time": "2022-05-14T11:06:49.236Z"
   },
   {
    "duration": 15,
    "start_time": "2022-05-14T11:06:49.466Z"
   },
   {
    "duration": 14,
    "start_time": "2022-05-14T11:06:49.483Z"
   },
   {
    "duration": 210,
    "start_time": "2022-05-14T11:06:49.499Z"
   },
   {
    "duration": 30,
    "start_time": "2022-05-14T11:06:49.711Z"
   },
   {
    "duration": 18,
    "start_time": "2022-05-14T11:06:49.743Z"
   },
   {
    "duration": 188,
    "start_time": "2022-05-14T11:06:49.763Z"
   },
   {
    "duration": 14,
    "start_time": "2022-05-14T11:06:49.953Z"
   },
   {
    "duration": 6,
    "start_time": "2022-05-14T11:06:49.969Z"
   },
   {
    "duration": 36,
    "start_time": "2022-05-14T11:06:49.976Z"
   },
   {
    "duration": 43,
    "start_time": "2022-05-14T11:06:50.014Z"
   },
   {
    "duration": 20,
    "start_time": "2022-05-14T11:06:50.059Z"
   },
   {
    "duration": 44,
    "start_time": "2022-05-14T11:06:50.081Z"
   },
   {
    "duration": 26,
    "start_time": "2022-05-14T11:06:50.126Z"
   },
   {
    "duration": 50,
    "start_time": "2022-05-14T11:06:50.153Z"
   },
   {
    "duration": 9,
    "start_time": "2022-05-14T11:06:50.205Z"
   },
   {
    "duration": 26,
    "start_time": "2022-05-14T11:06:50.215Z"
   },
   {
    "duration": 33,
    "start_time": "2022-05-14T11:06:50.243Z"
   },
   {
    "duration": 7,
    "start_time": "2022-05-14T11:06:50.277Z"
   },
   {
    "duration": 8,
    "start_time": "2022-05-14T12:11:09.434Z"
   },
   {
    "duration": 187,
    "start_time": "2022-05-14T12:11:09.444Z"
   },
   {
    "duration": 28,
    "start_time": "2022-05-14T12:11:09.633Z"
   },
   {
    "duration": 27,
    "start_time": "2022-05-14T12:11:09.663Z"
   },
   {
    "duration": 178,
    "start_time": "2022-05-14T12:11:09.691Z"
   },
   {
    "duration": 23,
    "start_time": "2022-05-14T12:11:09.871Z"
   },
   {
    "duration": 37,
    "start_time": "2022-05-14T12:11:09.895Z"
   },
   {
    "duration": 115,
    "start_time": "2022-05-14T12:11:09.934Z"
   },
   {
    "duration": 23,
    "start_time": "2022-05-14T12:11:10.051Z"
   },
   {
    "duration": 19,
    "start_time": "2022-05-14T12:11:10.076Z"
   },
   {
    "duration": 32,
    "start_time": "2022-05-14T12:11:10.097Z"
   },
   {
    "duration": 41,
    "start_time": "2022-05-14T12:11:10.131Z"
   },
   {
    "duration": 12,
    "start_time": "2022-05-14T12:11:10.174Z"
   },
   {
    "duration": 16,
    "start_time": "2022-05-14T12:11:10.188Z"
   },
   {
    "duration": 30,
    "start_time": "2022-05-14T12:11:10.206Z"
   },
   {
    "duration": 71,
    "start_time": "2022-05-14T12:11:10.239Z"
   },
   {
    "duration": 21,
    "start_time": "2022-05-14T12:11:10.323Z"
   },
   {
    "duration": 54,
    "start_time": "2022-05-14T12:11:10.346Z"
   },
   {
    "duration": 19,
    "start_time": "2022-05-14T12:11:10.423Z"
   },
   {
    "duration": 48,
    "start_time": "2022-05-14T12:11:10.444Z"
   },
   {
    "duration": 7,
    "start_time": "2022-05-14T12:11:10.493Z"
   },
   {
    "duration": 22,
    "start_time": "2022-05-14T12:11:10.523Z"
   },
   {
    "duration": 40,
    "start_time": "2022-05-14T12:11:10.547Z"
   },
   {
    "duration": 56,
    "start_time": "2022-05-14T12:11:10.589Z"
   },
   {
    "duration": 28,
    "start_time": "2022-05-14T12:11:10.653Z"
   },
   {
    "duration": 12,
    "start_time": "2022-05-14T12:11:10.683Z"
   },
   {
    "duration": 48,
    "start_time": "2022-05-14T12:11:10.697Z"
   },
   {
    "duration": 21,
    "start_time": "2022-05-14T12:11:10.747Z"
   },
   {
    "duration": 53,
    "start_time": "2022-05-14T12:11:10.770Z"
   },
   {
    "duration": 9,
    "start_time": "2022-05-14T12:11:10.825Z"
   },
   {
    "duration": 12,
    "start_time": "2022-05-14T12:11:10.836Z"
   },
   {
    "duration": 11,
    "start_time": "2022-05-14T12:11:10.850Z"
   },
   {
    "duration": 165,
    "start_time": "2022-05-14T12:11:10.863Z"
   },
   {
    "duration": 4,
    "start_time": "2022-05-14T12:11:11.030Z"
   },
   {
    "duration": 18,
    "start_time": "2022-05-14T12:11:11.036Z"
   },
   {
    "duration": 4,
    "start_time": "2022-05-14T12:11:11.056Z"
   },
   {
    "duration": 9,
    "start_time": "2022-05-14T12:11:11.062Z"
   },
   {
    "duration": 9,
    "start_time": "2022-05-14T12:11:11.072Z"
   },
   {
    "duration": 245,
    "start_time": "2022-05-14T12:11:11.083Z"
   },
   {
    "duration": 15,
    "start_time": "2022-05-14T12:11:11.330Z"
   },
   {
    "duration": 8,
    "start_time": "2022-05-14T12:11:11.347Z"
   },
   {
    "duration": 219,
    "start_time": "2022-05-14T12:11:11.356Z"
   },
   {
    "duration": 15,
    "start_time": "2022-05-14T12:11:11.577Z"
   },
   {
    "duration": 8,
    "start_time": "2022-05-14T12:11:11.594Z"
   },
   {
    "duration": 222,
    "start_time": "2022-05-14T12:11:11.603Z"
   },
   {
    "duration": 16,
    "start_time": "2022-05-14T12:11:11.827Z"
   },
   {
    "duration": 5,
    "start_time": "2022-05-14T12:11:11.846Z"
   },
   {
    "duration": 7,
    "start_time": "2022-05-14T12:11:11.853Z"
   },
   {
    "duration": 7,
    "start_time": "2022-05-14T12:11:11.863Z"
   },
   {
    "duration": 9,
    "start_time": "2022-05-14T12:11:11.872Z"
   },
   {
    "duration": 6,
    "start_time": "2022-05-14T12:11:11.922Z"
   },
   {
    "duration": 7,
    "start_time": "2022-05-14T12:11:11.930Z"
   },
   {
    "duration": 27,
    "start_time": "2022-05-14T12:11:11.939Z"
   },
   {
    "duration": 9,
    "start_time": "2022-05-14T12:11:11.968Z"
   },
   {
    "duration": 44,
    "start_time": "2022-05-14T12:11:11.979Z"
   },
   {
    "duration": 7,
    "start_time": "2022-05-14T12:11:12.025Z"
   },
   {
    "duration": 5,
    "start_time": "2022-05-14T12:11:12.034Z"
   },
   {
    "duration": 210,
    "start_time": "2022-05-14T12:18:40.086Z"
   },
   {
    "duration": 1292,
    "start_time": "2022-05-14T12:18:59.175Z"
   },
   {
    "duration": 189,
    "start_time": "2022-05-14T12:19:00.470Z"
   },
   {
    "duration": 38,
    "start_time": "2022-05-14T12:19:00.661Z"
   },
   {
    "duration": 51,
    "start_time": "2022-05-14T12:19:00.702Z"
   },
   {
    "duration": 232,
    "start_time": "2022-05-14T12:19:00.755Z"
   },
   {
    "duration": 39,
    "start_time": "2022-05-14T12:19:00.989Z"
   },
   {
    "duration": 25,
    "start_time": "2022-05-14T12:19:01.030Z"
   },
   {
    "duration": 115,
    "start_time": "2022-05-14T12:19:01.057Z"
   },
   {
    "duration": 21,
    "start_time": "2022-05-14T12:19:01.174Z"
   },
   {
    "duration": 56,
    "start_time": "2022-05-14T12:19:01.199Z"
   },
   {
    "duration": 34,
    "start_time": "2022-05-14T12:19:01.256Z"
   },
   {
    "duration": 47,
    "start_time": "2022-05-14T12:19:01.292Z"
   },
   {
    "duration": 14,
    "start_time": "2022-05-14T12:19:01.341Z"
   },
   {
    "duration": 17,
    "start_time": "2022-05-14T12:19:01.357Z"
   },
   {
    "duration": 29,
    "start_time": "2022-05-14T12:19:01.375Z"
   },
   {
    "duration": 75,
    "start_time": "2022-05-14T12:19:01.422Z"
   },
   {
    "duration": 34,
    "start_time": "2022-05-14T12:19:01.499Z"
   },
   {
    "duration": 57,
    "start_time": "2022-05-14T12:19:01.535Z"
   },
   {
    "duration": 33,
    "start_time": "2022-05-14T12:19:01.594Z"
   },
   {
    "duration": 44,
    "start_time": "2022-05-14T12:19:01.628Z"
   },
   {
    "duration": 8,
    "start_time": "2022-05-14T12:19:01.674Z"
   },
   {
    "duration": 51,
    "start_time": "2022-05-14T12:19:01.684Z"
   },
   {
    "duration": 41,
    "start_time": "2022-05-14T12:19:01.737Z"
   },
   {
    "duration": 49,
    "start_time": "2022-05-14T12:19:01.780Z"
   },
   {
    "duration": 37,
    "start_time": "2022-05-14T12:19:01.832Z"
   },
   {
    "duration": 12,
    "start_time": "2022-05-14T12:19:01.871Z"
   },
   {
    "duration": 47,
    "start_time": "2022-05-14T12:19:01.885Z"
   },
   {
    "duration": 21,
    "start_time": "2022-05-14T12:19:01.937Z"
   },
   {
    "duration": 22,
    "start_time": "2022-05-14T12:19:01.960Z"
   },
   {
    "duration": 39,
    "start_time": "2022-05-14T12:19:01.985Z"
   },
   {
    "duration": 14,
    "start_time": "2022-05-14T12:19:02.027Z"
   },
   {
    "duration": 14,
    "start_time": "2022-05-14T12:19:02.043Z"
   },
   {
    "duration": 207,
    "start_time": "2022-05-14T12:19:02.059Z"
   },
   {
    "duration": 5,
    "start_time": "2022-05-14T12:19:02.269Z"
   },
   {
    "duration": 22,
    "start_time": "2022-05-14T12:19:02.276Z"
   },
   {
    "duration": 24,
    "start_time": "2022-05-14T12:19:02.300Z"
   },
   {
    "duration": 15,
    "start_time": "2022-05-14T12:19:02.327Z"
   },
   {
    "duration": 7,
    "start_time": "2022-05-14T12:19:02.344Z"
   },
   {
    "duration": 288,
    "start_time": "2022-05-14T12:19:02.353Z"
   },
   {
    "duration": 15,
    "start_time": "2022-05-14T12:19:02.643Z"
   },
   {
    "duration": 8,
    "start_time": "2022-05-14T12:19:02.660Z"
   },
   {
    "duration": 212,
    "start_time": "2022-05-14T12:19:02.669Z"
   },
   {
    "duration": 16,
    "start_time": "2022-05-14T12:19:02.883Z"
   },
   {
    "duration": 25,
    "start_time": "2022-05-14T12:19:02.901Z"
   },
   {
    "duration": 200,
    "start_time": "2022-05-14T12:19:02.928Z"
   },
   {
    "duration": 17,
    "start_time": "2022-05-14T12:19:03.131Z"
   },
   {
    "duration": 5,
    "start_time": "2022-05-14T12:19:03.149Z"
   },
   {
    "duration": 10,
    "start_time": "2022-05-14T12:19:03.156Z"
   },
   {
    "duration": 12,
    "start_time": "2022-05-14T12:19:03.168Z"
   },
   {
    "duration": 40,
    "start_time": "2022-05-14T12:19:03.183Z"
   },
   {
    "duration": 6,
    "start_time": "2022-05-14T12:19:03.225Z"
   },
   {
    "duration": 21,
    "start_time": "2022-05-14T12:19:03.232Z"
   },
   {
    "duration": 39,
    "start_time": "2022-05-14T12:19:03.255Z"
   },
   {
    "duration": 9,
    "start_time": "2022-05-14T12:19:03.296Z"
   },
   {
    "duration": 25,
    "start_time": "2022-05-14T12:19:03.307Z"
   },
   {
    "duration": 12,
    "start_time": "2022-05-14T12:19:03.335Z"
   },
   {
    "duration": 347,
    "start_time": "2022-05-14T12:19:03.349Z"
   },
   {
    "duration": 11,
    "start_time": "2022-05-14T12:40:07.288Z"
   },
   {
    "duration": 211,
    "start_time": "2022-05-14T12:40:07.301Z"
   },
   {
    "duration": 37,
    "start_time": "2022-05-14T12:40:07.514Z"
   },
   {
    "duration": 27,
    "start_time": "2022-05-14T12:40:07.553Z"
   },
   {
    "duration": 188,
    "start_time": "2022-05-14T12:40:07.583Z"
   },
   {
    "duration": 23,
    "start_time": "2022-05-14T12:40:07.773Z"
   },
   {
    "duration": 43,
    "start_time": "2022-05-14T12:40:07.797Z"
   },
   {
    "duration": 99,
    "start_time": "2022-05-14T12:40:07.842Z"
   },
   {
    "duration": 26,
    "start_time": "2022-05-14T12:40:07.946Z"
   },
   {
    "duration": 13,
    "start_time": "2022-05-14T12:40:07.974Z"
   },
   {
    "duration": 21,
    "start_time": "2022-05-14T12:40:07.989Z"
   },
   {
    "duration": 47,
    "start_time": "2022-05-14T12:40:08.012Z"
   },
   {
    "duration": 11,
    "start_time": "2022-05-14T12:40:08.062Z"
   },
   {
    "duration": 26,
    "start_time": "2022-05-14T12:40:08.076Z"
   },
   {
    "duration": 35,
    "start_time": "2022-05-14T12:40:08.104Z"
   },
   {
    "duration": 26,
    "start_time": "2022-05-14T12:40:08.143Z"
   },
   {
    "duration": 79,
    "start_time": "2022-05-14T12:40:08.171Z"
   },
   {
    "duration": 19,
    "start_time": "2022-05-14T12:40:08.251Z"
   },
   {
    "duration": 79,
    "start_time": "2022-05-14T12:40:08.272Z"
   },
   {
    "duration": 16,
    "start_time": "2022-05-14T12:40:08.353Z"
   },
   {
    "duration": 55,
    "start_time": "2022-05-14T12:40:08.371Z"
   },
   {
    "duration": 10,
    "start_time": "2022-05-14T12:40:08.431Z"
   },
   {
    "duration": 23,
    "start_time": "2022-05-14T12:40:08.443Z"
   },
   {
    "duration": 70,
    "start_time": "2022-05-14T12:40:08.468Z"
   },
   {
    "duration": 31,
    "start_time": "2022-05-14T12:40:08.540Z"
   },
   {
    "duration": 26,
    "start_time": "2022-05-14T12:40:08.573Z"
   },
   {
    "duration": 32,
    "start_time": "2022-05-14T12:40:08.600Z"
   },
   {
    "duration": 44,
    "start_time": "2022-05-14T12:40:08.634Z"
   },
   {
    "duration": 19,
    "start_time": "2022-05-14T12:40:08.680Z"
   },
   {
    "duration": 45,
    "start_time": "2022-05-14T12:40:08.701Z"
   },
   {
    "duration": 9,
    "start_time": "2022-05-14T12:40:08.748Z"
   },
   {
    "duration": 11,
    "start_time": "2022-05-14T12:40:08.758Z"
   },
   {
    "duration": 12,
    "start_time": "2022-05-14T12:40:08.771Z"
   },
   {
    "duration": 174,
    "start_time": "2022-05-14T12:40:08.784Z"
   },
   {
    "duration": 5,
    "start_time": "2022-05-14T12:40:08.959Z"
   },
   {
    "duration": 15,
    "start_time": "2022-05-14T12:40:08.965Z"
   },
   {
    "duration": 4,
    "start_time": "2022-05-14T12:40:08.982Z"
   },
   {
    "duration": 10,
    "start_time": "2022-05-14T12:40:08.988Z"
   },
   {
    "duration": 29,
    "start_time": "2022-05-14T12:40:08.999Z"
   },
   {
    "duration": 230,
    "start_time": "2022-05-14T12:40:09.030Z"
   },
   {
    "duration": 15,
    "start_time": "2022-05-14T12:40:09.261Z"
   },
   {
    "duration": 7,
    "start_time": "2022-05-14T12:40:09.278Z"
   },
   {
    "duration": 222,
    "start_time": "2022-05-14T12:40:09.287Z"
   },
   {
    "duration": 35,
    "start_time": "2022-05-14T12:40:09.510Z"
   },
   {
    "duration": 8,
    "start_time": "2022-05-14T12:40:09.546Z"
   },
   {
    "duration": 231,
    "start_time": "2022-05-14T12:40:09.557Z"
   },
   {
    "duration": 16,
    "start_time": "2022-05-14T12:40:09.790Z"
   },
   {
    "duration": 16,
    "start_time": "2022-05-14T12:40:09.807Z"
   },
   {
    "duration": 10,
    "start_time": "2022-05-14T12:40:09.826Z"
   },
   {
    "duration": 21,
    "start_time": "2022-05-14T12:40:09.838Z"
   },
   {
    "duration": 6,
    "start_time": "2022-05-14T12:40:09.861Z"
   },
   {
    "duration": 5,
    "start_time": "2022-05-14T12:40:09.869Z"
   },
   {
    "duration": 5,
    "start_time": "2022-05-14T12:40:09.876Z"
   },
   {
    "duration": 137,
    "start_time": "2022-05-14T12:40:09.883Z"
   },
   {
    "duration": 9,
    "start_time": "2022-05-14T12:40:10.022Z"
   },
   {
    "duration": 11,
    "start_time": "2022-05-14T12:40:10.035Z"
   },
   {
    "duration": 11,
    "start_time": "2022-05-14T12:40:10.048Z"
   },
   {
    "duration": 6,
    "start_time": "2022-05-14T12:40:10.061Z"
   },
   {
    "duration": 18,
    "start_time": "2022-05-14T12:40:50.755Z"
   },
   {
    "duration": 79,
    "start_time": "2022-05-14T12:42:13.224Z"
   },
   {
    "duration": 90,
    "start_time": "2022-05-14T12:42:34.050Z"
   },
   {
    "duration": 143,
    "start_time": "2022-05-14T12:43:00.395Z"
   },
   {
    "duration": 2242,
    "start_time": "2022-05-14T12:50:49.151Z"
   },
   {
    "duration": 253,
    "start_time": "2022-05-14T12:50:51.395Z"
   },
   {
    "duration": 43,
    "start_time": "2022-05-14T12:50:51.650Z"
   },
   {
    "duration": 265,
    "start_time": "2022-05-14T12:50:51.696Z"
   },
   {
    "duration": 182,
    "start_time": "2022-05-14T12:50:51.963Z"
   },
   {
    "duration": 26,
    "start_time": "2022-05-14T12:50:52.148Z"
   },
   {
    "duration": 202,
    "start_time": "2022-05-14T12:50:52.176Z"
   },
   {
    "duration": 88,
    "start_time": "2022-05-14T12:50:52.380Z"
   },
   {
    "duration": 951,
    "start_time": "2022-05-14T12:50:52.470Z"
   },
   {
    "duration": 26,
    "start_time": "2022-05-14T12:50:53.429Z"
   },
   {
    "duration": 79,
    "start_time": "2022-05-14T12:50:53.457Z"
   },
   {
    "duration": 867,
    "start_time": "2022-05-14T12:50:53.538Z"
   },
   {
    "duration": 112,
    "start_time": "2022-05-14T12:50:54.407Z"
   },
   {
    "duration": 16,
    "start_time": "2022-05-14T12:50:54.521Z"
   },
   {
    "duration": 16,
    "start_time": "2022-05-14T12:50:54.539Z"
   },
   {
    "duration": 19,
    "start_time": "2022-05-14T12:50:54.557Z"
   },
   {
    "duration": 63,
    "start_time": "2022-05-14T12:50:54.578Z"
   },
   {
    "duration": 100,
    "start_time": "2022-05-14T12:50:54.644Z"
   },
   {
    "duration": 20,
    "start_time": "2022-05-14T12:50:54.746Z"
   },
   {
    "duration": 77,
    "start_time": "2022-05-14T12:50:54.768Z"
   },
   {
    "duration": 16,
    "start_time": "2022-05-14T12:50:54.847Z"
   },
   {
    "duration": 70,
    "start_time": "2022-05-14T12:50:54.866Z"
   },
   {
    "duration": 6,
    "start_time": "2022-05-14T12:50:54.939Z"
   },
   {
    "duration": 21,
    "start_time": "2022-05-14T12:50:54.947Z"
   },
   {
    "duration": 54,
    "start_time": "2022-05-14T12:50:54.970Z"
   },
   {
    "duration": 36,
    "start_time": "2022-05-14T12:50:55.027Z"
   },
   {
    "duration": 37,
    "start_time": "2022-05-14T12:50:55.065Z"
   },
   {
    "duration": 16,
    "start_time": "2022-05-14T12:50:55.129Z"
   },
   {
    "duration": 22,
    "start_time": "2022-05-14T12:50:55.147Z"
   },
   {
    "duration": 18,
    "start_time": "2022-05-14T12:50:55.171Z"
   },
   {
    "duration": 52,
    "start_time": "2022-05-14T12:50:55.191Z"
   },
   {
    "duration": 8,
    "start_time": "2022-05-14T12:50:55.245Z"
   },
   {
    "duration": 10,
    "start_time": "2022-05-14T12:50:55.255Z"
   },
   {
    "duration": 10,
    "start_time": "2022-05-14T12:50:55.267Z"
   },
   {
    "duration": 178,
    "start_time": "2022-05-14T12:50:55.279Z"
   },
   {
    "duration": 4,
    "start_time": "2022-05-14T12:50:55.459Z"
   },
   {
    "duration": 22,
    "start_time": "2022-05-14T12:50:55.465Z"
   },
   {
    "duration": 5,
    "start_time": "2022-05-14T12:50:55.488Z"
   },
   {
    "duration": 8,
    "start_time": "2022-05-14T12:50:55.495Z"
   },
   {
    "duration": 5,
    "start_time": "2022-05-14T12:50:55.505Z"
   },
   {
    "duration": 227,
    "start_time": "2022-05-14T12:50:55.528Z"
   },
   {
    "duration": 16,
    "start_time": "2022-05-14T12:50:55.757Z"
   },
   {
    "duration": 8,
    "start_time": "2022-05-14T12:50:55.775Z"
   },
   {
    "duration": 227,
    "start_time": "2022-05-14T12:50:55.785Z"
   },
   {
    "duration": 20,
    "start_time": "2022-05-14T12:50:56.013Z"
   },
   {
    "duration": 9,
    "start_time": "2022-05-14T12:50:56.036Z"
   },
   {
    "duration": 227,
    "start_time": "2022-05-14T12:50:56.047Z"
   },
   {
    "duration": 16,
    "start_time": "2022-05-14T12:50:56.275Z"
   },
   {
    "duration": 5,
    "start_time": "2022-05-14T12:50:56.294Z"
   },
   {
    "duration": 30,
    "start_time": "2022-05-14T12:50:56.301Z"
   },
   {
    "duration": 12,
    "start_time": "2022-05-14T12:50:56.334Z"
   },
   {
    "duration": 8,
    "start_time": "2022-05-14T12:50:56.349Z"
   },
   {
    "duration": 5,
    "start_time": "2022-05-14T12:50:56.359Z"
   },
   {
    "duration": 7,
    "start_time": "2022-05-14T12:50:56.366Z"
   },
   {
    "duration": 59,
    "start_time": "2022-05-14T12:50:56.375Z"
   },
   {
    "duration": 9,
    "start_time": "2022-05-14T12:50:56.438Z"
   },
   {
    "duration": 6,
    "start_time": "2022-05-14T12:50:56.449Z"
   },
   {
    "duration": 6,
    "start_time": "2022-05-14T12:50:56.457Z"
   },
   {
    "duration": 5,
    "start_time": "2022-05-14T12:50:56.465Z"
   },
   {
    "duration": 235,
    "start_time": "2022-05-14T12:51:45.859Z"
   },
   {
    "duration": 1281,
    "start_time": "2022-05-14T13:26:59.066Z"
   },
   {
    "duration": 187,
    "start_time": "2022-05-14T13:27:00.349Z"
   },
   {
    "duration": 28,
    "start_time": "2022-05-14T13:27:00.537Z"
   },
   {
    "duration": 162,
    "start_time": "2022-05-14T13:27:00.567Z"
   },
   {
    "duration": 159,
    "start_time": "2022-05-14T13:27:00.731Z"
   },
   {
    "duration": 22,
    "start_time": "2022-05-14T13:27:00.892Z"
   },
   {
    "duration": 175,
    "start_time": "2022-05-14T13:27:00.923Z"
   },
   {
    "duration": 235,
    "start_time": "2022-05-14T13:27:01.100Z"
   },
   {
    "duration": 90,
    "start_time": "2022-05-14T13:27:01.337Z"
   },
   {
    "duration": 103,
    "start_time": "2022-05-14T13:27:01.430Z"
   },
   {
    "duration": 22,
    "start_time": "2022-05-14T13:27:01.536Z"
   },
   {
    "duration": 87,
    "start_time": "2022-05-14T13:27:01.560Z"
   },
   {
    "duration": 22,
    "start_time": "2022-05-14T13:27:01.650Z"
   },
   {
    "duration": 59,
    "start_time": "2022-05-14T13:27:01.674Z"
   },
   {
    "duration": 12,
    "start_time": "2022-05-14T13:27:01.734Z"
   },
   {
    "duration": 19,
    "start_time": "2022-05-14T13:27:01.747Z"
   },
   {
    "duration": 20,
    "start_time": "2022-05-14T13:27:01.767Z"
   },
   {
    "duration": 36,
    "start_time": "2022-05-14T13:27:01.788Z"
   },
   {
    "duration": 23,
    "start_time": "2022-05-14T13:27:01.826Z"
   },
   {
    "duration": 88,
    "start_time": "2022-05-14T13:27:01.850Z"
   },
   {
    "duration": 18,
    "start_time": "2022-05-14T13:27:01.939Z"
   },
   {
    "duration": 69,
    "start_time": "2022-05-14T13:27:01.959Z"
   },
   {
    "duration": 15,
    "start_time": "2022-05-14T13:27:02.029Z"
   },
   {
    "duration": 43,
    "start_time": "2022-05-14T13:27:02.046Z"
   },
   {
    "duration": 6,
    "start_time": "2022-05-14T13:27:02.091Z"
   },
   {
    "duration": 21,
    "start_time": "2022-05-14T13:27:02.123Z"
   },
   {
    "duration": 42,
    "start_time": "2022-05-14T13:27:02.146Z"
   },
   {
    "duration": 47,
    "start_time": "2022-05-14T13:27:02.192Z"
   },
   {
    "duration": 26,
    "start_time": "2022-05-14T13:27:02.241Z"
   },
   {
    "duration": 10,
    "start_time": "2022-05-14T13:27:02.268Z"
   },
   {
    "duration": 42,
    "start_time": "2022-05-14T13:27:02.280Z"
   },
   {
    "duration": 20,
    "start_time": "2022-05-14T13:27:02.324Z"
   },
   {
    "duration": 19,
    "start_time": "2022-05-14T13:27:02.345Z"
   },
   {
    "duration": 7,
    "start_time": "2022-05-14T13:27:02.366Z"
   },
   {
    "duration": 23,
    "start_time": "2022-05-14T13:27:02.375Z"
   },
   {
    "duration": 31,
    "start_time": "2022-05-14T13:27:02.400Z"
   },
   {
    "duration": 148,
    "start_time": "2022-05-14T13:27:02.432Z"
   },
   {
    "duration": 4,
    "start_time": "2022-05-14T13:27:02.582Z"
   },
   {
    "duration": 16,
    "start_time": "2022-05-14T13:27:02.587Z"
   },
   {
    "duration": 19,
    "start_time": "2022-05-14T13:27:02.605Z"
   },
   {
    "duration": 13,
    "start_time": "2022-05-14T13:27:02.626Z"
   },
   {
    "duration": 6,
    "start_time": "2022-05-14T13:27:02.640Z"
   },
   {
    "duration": 207,
    "start_time": "2022-05-14T13:27:02.648Z"
   },
   {
    "duration": 14,
    "start_time": "2022-05-14T13:27:02.857Z"
   },
   {
    "duration": 7,
    "start_time": "2022-05-14T13:27:02.872Z"
   },
   {
    "duration": 207,
    "start_time": "2022-05-14T13:27:02.881Z"
   },
   {
    "duration": 14,
    "start_time": "2022-05-14T13:27:03.090Z"
   },
   {
    "duration": 20,
    "start_time": "2022-05-14T13:27:03.106Z"
   },
   {
    "duration": 194,
    "start_time": "2022-05-14T13:27:03.128Z"
   },
   {
    "duration": 15,
    "start_time": "2022-05-14T13:27:03.324Z"
   },
   {
    "duration": 4,
    "start_time": "2022-05-14T13:27:03.340Z"
   },
   {
    "duration": 9,
    "start_time": "2022-05-14T13:27:03.346Z"
   },
   {
    "duration": 9,
    "start_time": "2022-05-14T13:27:03.357Z"
   },
   {
    "duration": 7,
    "start_time": "2022-05-14T13:27:03.368Z"
   },
   {
    "duration": 5,
    "start_time": "2022-05-14T13:27:03.376Z"
   },
   {
    "duration": 9,
    "start_time": "2022-05-14T13:27:03.383Z"
   },
   {
    "duration": 27,
    "start_time": "2022-05-14T13:27:03.423Z"
   },
   {
    "duration": 7,
    "start_time": "2022-05-14T13:27:03.452Z"
   },
   {
    "duration": 14,
    "start_time": "2022-05-14T13:27:03.460Z"
   },
   {
    "duration": 7,
    "start_time": "2022-05-14T13:27:03.476Z"
   },
   {
    "duration": 6,
    "start_time": "2022-05-14T13:27:03.485Z"
   },
   {
    "duration": 69,
    "start_time": "2022-05-14T13:34:19.256Z"
   },
   {
    "duration": 16,
    "start_time": "2022-05-14T13:35:14.018Z"
   },
   {
    "duration": 46,
    "start_time": "2022-05-14T13:36:30.710Z"
   },
   {
    "duration": 134,
    "start_time": "2022-05-14T13:38:24.781Z"
   },
   {
    "duration": 38,
    "start_time": "2022-05-14T13:38:54.083Z"
   },
   {
    "duration": 39,
    "start_time": "2022-05-14T13:40:53.191Z"
   },
   {
    "duration": 41,
    "start_time": "2022-05-14T13:41:10.179Z"
   },
   {
    "duration": 41,
    "start_time": "2022-05-14T13:41:30.817Z"
   },
   {
    "duration": 41,
    "start_time": "2022-05-14T13:42:31.324Z"
   },
   {
    "duration": 37,
    "start_time": "2022-05-14T14:27:32.510Z"
   },
   {
    "duration": 1242,
    "start_time": "2022-05-14T14:28:50.581Z"
   },
   {
    "duration": 168,
    "start_time": "2022-05-14T14:28:51.824Z"
   },
   {
    "duration": 28,
    "start_time": "2022-05-14T14:28:51.994Z"
   },
   {
    "duration": 157,
    "start_time": "2022-05-14T14:28:52.024Z"
   },
   {
    "duration": 162,
    "start_time": "2022-05-14T14:28:52.183Z"
   },
   {
    "duration": 21,
    "start_time": "2022-05-14T14:28:52.347Z"
   },
   {
    "duration": 184,
    "start_time": "2022-05-14T14:28:52.370Z"
   },
   {
    "duration": 228,
    "start_time": "2022-05-14T14:28:52.556Z"
   },
   {
    "duration": 83,
    "start_time": "2022-05-14T14:28:52.786Z"
   },
   {
    "duration": 102,
    "start_time": "2022-05-14T14:28:52.873Z"
   },
   {
    "duration": 20,
    "start_time": "2022-05-14T14:28:52.977Z"
   },
   {
    "duration": 72,
    "start_time": "2022-05-14T14:28:52.999Z"
   },
   {
    "duration": 21,
    "start_time": "2022-05-14T14:28:53.072Z"
   },
   {
    "duration": 66,
    "start_time": "2022-05-14T14:28:53.094Z"
   },
   {
    "duration": 11,
    "start_time": "2022-05-14T14:28:53.162Z"
   },
   {
    "duration": 17,
    "start_time": "2022-05-14T14:28:53.175Z"
   },
   {
    "duration": 20,
    "start_time": "2022-05-14T14:28:53.193Z"
   },
   {
    "duration": 135,
    "start_time": "2022-05-14T14:28:53.215Z"
   },
   {
    "duration": 0,
    "start_time": "2022-05-14T14:28:53.353Z"
   },
   {
    "duration": 0,
    "start_time": "2022-05-14T14:28:53.354Z"
   },
   {
    "duration": 0,
    "start_time": "2022-05-14T14:28:53.354Z"
   },
   {
    "duration": 0,
    "start_time": "2022-05-14T14:28:53.355Z"
   },
   {
    "duration": 0,
    "start_time": "2022-05-14T14:28:53.357Z"
   },
   {
    "duration": 0,
    "start_time": "2022-05-14T14:28:53.358Z"
   },
   {
    "duration": 0,
    "start_time": "2022-05-14T14:28:53.359Z"
   },
   {
    "duration": 0,
    "start_time": "2022-05-14T14:28:53.360Z"
   },
   {
    "duration": 0,
    "start_time": "2022-05-14T14:28:53.361Z"
   },
   {
    "duration": 0,
    "start_time": "2022-05-14T14:28:53.362Z"
   },
   {
    "duration": 0,
    "start_time": "2022-05-14T14:28:53.364Z"
   },
   {
    "duration": 0,
    "start_time": "2022-05-14T14:28:53.365Z"
   },
   {
    "duration": 0,
    "start_time": "2022-05-14T14:28:53.366Z"
   },
   {
    "duration": 0,
    "start_time": "2022-05-14T14:28:53.368Z"
   },
   {
    "duration": 0,
    "start_time": "2022-05-14T14:28:53.369Z"
   },
   {
    "duration": 0,
    "start_time": "2022-05-14T14:28:53.371Z"
   },
   {
    "duration": 0,
    "start_time": "2022-05-14T14:28:53.372Z"
   },
   {
    "duration": 0,
    "start_time": "2022-05-14T14:28:53.373Z"
   },
   {
    "duration": 0,
    "start_time": "2022-05-14T14:28:53.375Z"
   },
   {
    "duration": 0,
    "start_time": "2022-05-14T14:28:53.376Z"
   },
   {
    "duration": 0,
    "start_time": "2022-05-14T14:28:53.378Z"
   },
   {
    "duration": 0,
    "start_time": "2022-05-14T14:28:53.379Z"
   },
   {
    "duration": 0,
    "start_time": "2022-05-14T14:28:53.380Z"
   },
   {
    "duration": 0,
    "start_time": "2022-05-14T14:28:53.382Z"
   },
   {
    "duration": 0,
    "start_time": "2022-05-14T14:28:53.423Z"
   },
   {
    "duration": 0,
    "start_time": "2022-05-14T14:28:53.424Z"
   },
   {
    "duration": 0,
    "start_time": "2022-05-14T14:28:53.426Z"
   },
   {
    "duration": 0,
    "start_time": "2022-05-14T14:28:53.428Z"
   },
   {
    "duration": 0,
    "start_time": "2022-05-14T14:28:53.429Z"
   },
   {
    "duration": 0,
    "start_time": "2022-05-14T14:28:53.430Z"
   },
   {
    "duration": 0,
    "start_time": "2022-05-14T14:28:53.432Z"
   },
   {
    "duration": 0,
    "start_time": "2022-05-14T14:28:53.433Z"
   },
   {
    "duration": 0,
    "start_time": "2022-05-14T14:28:53.435Z"
   },
   {
    "duration": 0,
    "start_time": "2022-05-14T14:28:53.436Z"
   },
   {
    "duration": 0,
    "start_time": "2022-05-14T14:28:53.437Z"
   },
   {
    "duration": 0,
    "start_time": "2022-05-14T14:28:53.438Z"
   },
   {
    "duration": 0,
    "start_time": "2022-05-14T14:28:53.440Z"
   },
   {
    "duration": 0,
    "start_time": "2022-05-14T14:28:53.441Z"
   },
   {
    "duration": 0,
    "start_time": "2022-05-14T14:28:53.442Z"
   },
   {
    "duration": 0,
    "start_time": "2022-05-14T14:28:53.443Z"
   },
   {
    "duration": 0,
    "start_time": "2022-05-14T14:28:53.444Z"
   },
   {
    "duration": 0,
    "start_time": "2022-05-14T14:28:53.445Z"
   },
   {
    "duration": 0,
    "start_time": "2022-05-14T14:28:53.446Z"
   },
   {
    "duration": 37,
    "start_time": "2022-05-14T14:29:47.957Z"
   },
   {
    "duration": 36,
    "start_time": "2022-05-14T14:32:19.852Z"
   },
   {
    "duration": 1308,
    "start_time": "2022-05-14T14:34:43.831Z"
   },
   {
    "duration": 185,
    "start_time": "2022-05-14T14:34:45.141Z"
   },
   {
    "duration": 28,
    "start_time": "2022-05-14T14:34:45.327Z"
   },
   {
    "duration": 162,
    "start_time": "2022-05-14T14:34:45.357Z"
   },
   {
    "duration": 166,
    "start_time": "2022-05-14T14:34:45.523Z"
   },
   {
    "duration": 22,
    "start_time": "2022-05-14T14:34:45.691Z"
   },
   {
    "duration": 1677,
    "start_time": "2022-05-14T14:36:33.266Z"
   },
   {
    "duration": 185,
    "start_time": "2022-05-14T14:36:34.945Z"
   },
   {
    "duration": 28,
    "start_time": "2022-05-14T14:36:35.132Z"
   },
   {
    "duration": 185,
    "start_time": "2022-05-14T14:36:35.162Z"
   },
   {
    "duration": 181,
    "start_time": "2022-05-14T14:36:35.348Z"
   },
   {
    "duration": 23,
    "start_time": "2022-05-14T14:36:35.531Z"
   },
   {
    "duration": 1358,
    "start_time": "2022-05-14T14:37:04.888Z"
   },
   {
    "duration": 199,
    "start_time": "2022-05-14T14:37:06.248Z"
   },
   {
    "duration": 29,
    "start_time": "2022-05-14T14:37:06.449Z"
   },
   {
    "duration": 159,
    "start_time": "2022-05-14T14:37:06.480Z"
   },
   {
    "duration": 157,
    "start_time": "2022-05-14T14:37:06.641Z"
   },
   {
    "duration": 27,
    "start_time": "2022-05-14T14:37:06.800Z"
   },
   {
    "duration": 70,
    "start_time": "2022-05-14T14:37:06.829Z"
   },
   {
    "duration": 108,
    "start_time": "2022-05-14T14:37:06.901Z"
   },
   {
    "duration": 24,
    "start_time": "2022-05-14T14:37:07.011Z"
   },
   {
    "duration": 67,
    "start_time": "2022-05-14T14:37:07.038Z"
   },
   {
    "duration": 22,
    "start_time": "2022-05-14T14:37:07.123Z"
   },
   {
    "duration": 56,
    "start_time": "2022-05-14T14:37:07.147Z"
   },
   {
    "duration": 11,
    "start_time": "2022-05-14T14:37:07.204Z"
   },
   {
    "duration": 17,
    "start_time": "2022-05-14T14:37:07.217Z"
   },
   {
    "duration": 19,
    "start_time": "2022-05-14T14:37:07.235Z"
   },
   {
    "duration": 22,
    "start_time": "2022-05-14T14:37:07.255Z"
   },
   {
    "duration": 87,
    "start_time": "2022-05-14T14:37:07.279Z"
   },
   {
    "duration": 19,
    "start_time": "2022-05-14T14:37:07.367Z"
   },
   {
    "duration": 64,
    "start_time": "2022-05-14T14:37:07.388Z"
   },
   {
    "duration": 16,
    "start_time": "2022-05-14T14:37:07.454Z"
   },
   {
    "duration": 60,
    "start_time": "2022-05-14T14:37:07.471Z"
   },
   {
    "duration": 6,
    "start_time": "2022-05-14T14:37:07.533Z"
   },
   {
    "duration": 22,
    "start_time": "2022-05-14T14:37:07.541Z"
   },
   {
    "duration": 60,
    "start_time": "2022-05-14T14:37:07.564Z"
   },
   {
    "duration": 26,
    "start_time": "2022-05-14T14:37:07.625Z"
   },
   {
    "duration": 26,
    "start_time": "2022-05-14T14:37:07.653Z"
   },
   {
    "duration": 10,
    "start_time": "2022-05-14T14:37:07.680Z"
   },
   {
    "duration": 48,
    "start_time": "2022-05-14T14:37:07.694Z"
   },
   {
    "duration": 18,
    "start_time": "2022-05-14T14:37:07.744Z"
   },
   {
    "duration": 19,
    "start_time": "2022-05-14T14:37:07.763Z"
   },
   {
    "duration": 7,
    "start_time": "2022-05-14T14:37:07.783Z"
   },
   {
    "duration": 38,
    "start_time": "2022-05-14T14:37:07.792Z"
   },
   {
    "duration": 10,
    "start_time": "2022-05-14T14:37:07.832Z"
   },
   {
    "duration": 151,
    "start_time": "2022-05-14T14:37:07.844Z"
   },
   {
    "duration": 4,
    "start_time": "2022-05-14T14:37:07.997Z"
   },
   {
    "duration": 27,
    "start_time": "2022-05-14T14:37:08.003Z"
   },
   {
    "duration": 4,
    "start_time": "2022-05-14T14:37:08.032Z"
   },
   {
    "duration": 13,
    "start_time": "2022-05-14T14:37:08.038Z"
   },
   {
    "duration": 12,
    "start_time": "2022-05-14T14:37:08.053Z"
   },
   {
    "duration": 220,
    "start_time": "2022-05-14T14:37:08.066Z"
   },
   {
    "duration": 14,
    "start_time": "2022-05-14T14:37:08.289Z"
   },
   {
    "duration": 23,
    "start_time": "2022-05-14T14:37:08.305Z"
   },
   {
    "duration": 214,
    "start_time": "2022-05-14T14:37:08.329Z"
   },
   {
    "duration": 14,
    "start_time": "2022-05-14T14:37:08.545Z"
   },
   {
    "duration": 8,
    "start_time": "2022-05-14T14:37:08.561Z"
   },
   {
    "duration": 223,
    "start_time": "2022-05-14T14:37:08.571Z"
   },
   {
    "duration": 14,
    "start_time": "2022-05-14T14:37:08.796Z"
   },
   {
    "duration": 14,
    "start_time": "2022-05-14T14:37:08.811Z"
   },
   {
    "duration": 8,
    "start_time": "2022-05-14T14:37:08.826Z"
   },
   {
    "duration": 8,
    "start_time": "2022-05-14T14:37:08.836Z"
   },
   {
    "duration": 9,
    "start_time": "2022-05-14T14:37:08.846Z"
   },
   {
    "duration": 5,
    "start_time": "2022-05-14T14:37:08.856Z"
   },
   {
    "duration": 6,
    "start_time": "2022-05-14T14:37:08.863Z"
   },
   {
    "duration": 58,
    "start_time": "2022-05-14T14:37:08.871Z"
   },
   {
    "duration": 7,
    "start_time": "2022-05-14T14:37:08.931Z"
   },
   {
    "duration": 19,
    "start_time": "2022-05-14T14:37:08.940Z"
   },
   {
    "duration": 9,
    "start_time": "2022-05-14T14:37:08.962Z"
   },
   {
    "duration": 5,
    "start_time": "2022-05-14T14:37:08.973Z"
   },
   {
    "duration": 157,
    "start_time": "2022-05-14T15:04:12.370Z"
   },
   {
    "duration": 135,
    "start_time": "2022-05-14T15:04:40.971Z"
   },
   {
    "duration": 18,
    "start_time": "2022-05-14T15:06:31.729Z"
   },
   {
    "duration": 18,
    "start_time": "2022-05-14T15:07:58.326Z"
   },
   {
    "duration": 164,
    "start_time": "2022-05-14T15:08:11.112Z"
   },
   {
    "duration": 1316,
    "start_time": "2022-05-14T15:09:51.043Z"
   },
   {
    "duration": 188,
    "start_time": "2022-05-14T15:09:52.361Z"
   },
   {
    "duration": 30,
    "start_time": "2022-05-14T15:09:52.551Z"
   },
   {
    "duration": 170,
    "start_time": "2022-05-14T15:09:52.583Z"
   },
   {
    "duration": 178,
    "start_time": "2022-05-14T15:09:52.755Z"
   },
   {
    "duration": 24,
    "start_time": "2022-05-14T15:09:52.936Z"
   },
   {
    "duration": 84,
    "start_time": "2022-05-14T15:09:52.962Z"
   },
   {
    "duration": 793,
    "start_time": "2022-05-14T15:09:53.048Z"
   },
   {
    "duration": 102,
    "start_time": "2022-05-14T15:09:53.843Z"
   },
   {
    "duration": 20,
    "start_time": "2022-05-14T15:09:53.948Z"
   },
   {
    "duration": 71,
    "start_time": "2022-05-14T15:09:53.970Z"
   },
   {
    "duration": 19,
    "start_time": "2022-05-14T15:09:54.043Z"
   },
   {
    "duration": 35,
    "start_time": "2022-05-14T15:09:54.064Z"
   },
   {
    "duration": 10,
    "start_time": "2022-05-14T15:09:54.101Z"
   },
   {
    "duration": 17,
    "start_time": "2022-05-14T15:09:54.113Z"
   },
   {
    "duration": 22,
    "start_time": "2022-05-14T15:09:54.132Z"
   },
   {
    "duration": 23,
    "start_time": "2022-05-14T15:09:54.156Z"
   },
   {
    "duration": 88,
    "start_time": "2022-05-14T15:09:54.181Z"
   },
   {
    "duration": 19,
    "start_time": "2022-05-14T15:09:54.271Z"
   },
   {
    "duration": 71,
    "start_time": "2022-05-14T15:09:54.292Z"
   },
   {
    "duration": 17,
    "start_time": "2022-05-14T15:09:54.365Z"
   },
   {
    "duration": 70,
    "start_time": "2022-05-14T15:09:54.384Z"
   },
   {
    "duration": 7,
    "start_time": "2022-05-14T15:09:54.456Z"
   },
   {
    "duration": 22,
    "start_time": "2022-05-14T15:09:54.465Z"
   },
   {
    "duration": 58,
    "start_time": "2022-05-14T15:09:54.488Z"
   },
   {
    "duration": 26,
    "start_time": "2022-05-14T15:09:54.548Z"
   },
   {
    "duration": 26,
    "start_time": "2022-05-14T15:09:54.575Z"
   },
   {
    "duration": 11,
    "start_time": "2022-05-14T15:09:54.622Z"
   },
   {
    "duration": 22,
    "start_time": "2022-05-14T15:09:54.635Z"
   },
   {
    "duration": 19,
    "start_time": "2022-05-14T15:09:54.659Z"
   },
   {
    "duration": 52,
    "start_time": "2022-05-14T15:09:54.679Z"
   },
   {
    "duration": 12,
    "start_time": "2022-05-14T15:09:54.732Z"
   },
   {
    "duration": 14,
    "start_time": "2022-05-14T15:09:54.746Z"
   },
   {
    "duration": 10,
    "start_time": "2022-05-14T15:09:54.762Z"
   },
   {
    "duration": 171,
    "start_time": "2022-05-14T15:09:54.774Z"
   },
   {
    "duration": 4,
    "start_time": "2022-05-14T15:09:54.947Z"
   },
   {
    "duration": 15,
    "start_time": "2022-05-14T15:09:54.952Z"
   },
   {
    "duration": 4,
    "start_time": "2022-05-14T15:09:54.968Z"
   },
   {
    "duration": 8,
    "start_time": "2022-05-14T15:09:54.974Z"
   },
   {
    "duration": 38,
    "start_time": "2022-05-14T15:09:54.984Z"
   },
   {
    "duration": 214,
    "start_time": "2022-05-14T15:09:55.024Z"
   },
   {
    "duration": 15,
    "start_time": "2022-05-14T15:09:55.240Z"
   },
   {
    "duration": 8,
    "start_time": "2022-05-14T15:09:55.256Z"
   },
   {
    "duration": 296,
    "start_time": "2022-05-14T15:09:55.266Z"
   },
   {
    "duration": 14,
    "start_time": "2022-05-14T15:09:55.564Z"
   },
   {
    "duration": 7,
    "start_time": "2022-05-14T15:09:55.580Z"
   },
   {
    "duration": 216,
    "start_time": "2022-05-14T15:09:55.589Z"
   },
   {
    "duration": 22,
    "start_time": "2022-05-14T15:09:55.807Z"
   },
   {
    "duration": 4,
    "start_time": "2022-05-14T15:09:55.831Z"
   },
   {
    "duration": 8,
    "start_time": "2022-05-14T15:09:55.837Z"
   },
   {
    "duration": 7,
    "start_time": "2022-05-14T15:09:55.846Z"
   },
   {
    "duration": 7,
    "start_time": "2022-05-14T15:09:55.855Z"
   },
   {
    "duration": 5,
    "start_time": "2022-05-14T15:09:55.864Z"
   },
   {
    "duration": 6,
    "start_time": "2022-05-14T15:09:55.871Z"
   },
   {
    "duration": 63,
    "start_time": "2022-05-14T15:09:55.879Z"
   },
   {
    "duration": 7,
    "start_time": "2022-05-14T15:09:55.944Z"
   },
   {
    "duration": 9,
    "start_time": "2022-05-14T15:09:55.952Z"
   },
   {
    "duration": 8,
    "start_time": "2022-05-14T15:09:55.962Z"
   },
   {
    "duration": 8,
    "start_time": "2022-05-14T15:09:55.972Z"
   },
   {
    "duration": 692,
    "start_time": "2022-05-14T15:10:21.623Z"
   },
   {
    "duration": 780,
    "start_time": "2022-05-14T15:10:55.387Z"
   },
   {
    "duration": 698,
    "start_time": "2022-05-14T15:11:09.570Z"
   },
   {
    "duration": 1216,
    "start_time": "2022-05-14T15:11:45.751Z"
   },
   {
    "duration": 1393,
    "start_time": "2022-05-14T15:11:58.200Z"
   },
   {
    "duration": 912,
    "start_time": "2022-05-14T15:12:24.343Z"
   },
   {
    "duration": 152,
    "start_time": "2022-05-14T15:18:16.155Z"
   },
   {
    "duration": 138,
    "start_time": "2022-05-14T15:18:45.995Z"
   },
   {
    "duration": 3219,
    "start_time": "2022-05-14T15:21:06.305Z"
   },
   {
    "duration": 3134,
    "start_time": "2022-05-14T15:22:26.931Z"
   },
   {
    "duration": 8,
    "start_time": "2022-05-14T15:22:50.385Z"
   },
   {
    "duration": 6,
    "start_time": "2022-05-14T15:23:20.929Z"
   },
   {
    "duration": 4,
    "start_time": "2022-05-14T15:23:46.114Z"
   },
   {
    "duration": 10,
    "start_time": "2022-05-14T15:24:20.906Z"
   },
   {
    "duration": 10,
    "start_time": "2022-05-14T15:24:37.805Z"
   },
   {
    "duration": 1409,
    "start_time": "2022-05-14T19:18:57.075Z"
   },
   {
    "duration": 202,
    "start_time": "2022-05-14T19:18:58.487Z"
   },
   {
    "duration": 35,
    "start_time": "2022-05-14T19:18:58.691Z"
   },
   {
    "duration": 189,
    "start_time": "2022-05-14T19:18:58.729Z"
   },
   {
    "duration": 184,
    "start_time": "2022-05-14T19:18:58.921Z"
   },
   {
    "duration": 28,
    "start_time": "2022-05-14T19:18:59.107Z"
   },
   {
    "duration": 114,
    "start_time": "2022-05-14T19:18:59.152Z"
   },
   {
    "duration": 258,
    "start_time": "2022-05-14T19:18:59.268Z"
   },
   {
    "duration": 120,
    "start_time": "2022-05-14T19:18:59.528Z"
   },
   {
    "duration": 24,
    "start_time": "2022-05-14T19:18:59.653Z"
   },
   {
    "duration": 98,
    "start_time": "2022-05-14T19:18:59.679Z"
   },
   {
    "duration": 19,
    "start_time": "2022-05-14T19:18:59.779Z"
   },
   {
    "duration": 31,
    "start_time": "2022-05-14T19:18:59.801Z"
   },
   {
    "duration": 29,
    "start_time": "2022-05-14T19:18:59.834Z"
   },
   {
    "duration": 20,
    "start_time": "2022-05-14T19:18:59.865Z"
   },
   {
    "duration": 23,
    "start_time": "2022-05-14T19:18:59.887Z"
   },
   {
    "duration": 49,
    "start_time": "2022-05-14T19:18:59.912Z"
   },
   {
    "duration": 28,
    "start_time": "2022-05-14T19:18:59.963Z"
   },
   {
    "duration": 118,
    "start_time": "2022-05-14T19:18:59.993Z"
   },
   {
    "duration": 22,
    "start_time": "2022-05-14T19:19:00.114Z"
   },
   {
    "duration": 71,
    "start_time": "2022-05-14T19:19:00.152Z"
   },
   {
    "duration": 35,
    "start_time": "2022-05-14T19:19:00.225Z"
   },
   {
    "duration": 57,
    "start_time": "2022-05-14T19:19:00.262Z"
   },
   {
    "duration": 34,
    "start_time": "2022-05-14T19:19:00.322Z"
   },
   {
    "duration": 46,
    "start_time": "2022-05-14T19:19:00.358Z"
   },
   {
    "duration": 63,
    "start_time": "2022-05-14T19:19:00.407Z"
   },
   {
    "duration": 34,
    "start_time": "2022-05-14T19:19:00.472Z"
   },
   {
    "duration": 55,
    "start_time": "2022-05-14T19:19:00.511Z"
   },
   {
    "duration": 13,
    "start_time": "2022-05-14T19:19:00.569Z"
   },
   {
    "duration": 36,
    "start_time": "2022-05-14T19:19:00.584Z"
   },
   {
    "duration": 47,
    "start_time": "2022-05-14T19:19:00.623Z"
   },
   {
    "duration": 29,
    "start_time": "2022-05-14T19:19:00.672Z"
   },
   {
    "duration": 9,
    "start_time": "2022-05-14T19:19:00.703Z"
   },
   {
    "duration": 42,
    "start_time": "2022-05-14T19:19:00.714Z"
   },
   {
    "duration": 15,
    "start_time": "2022-05-14T19:19:00.759Z"
   },
   {
    "duration": 243,
    "start_time": "2022-05-14T19:19:00.776Z"
   },
   {
    "duration": 5,
    "start_time": "2022-05-14T19:19:01.022Z"
   },
   {
    "duration": 35,
    "start_time": "2022-05-14T19:19:01.030Z"
   },
   {
    "duration": 11,
    "start_time": "2022-05-14T19:19:01.067Z"
   },
   {
    "duration": 25,
    "start_time": "2022-05-14T19:19:01.081Z"
   },
   {
    "duration": 10,
    "start_time": "2022-05-14T19:19:01.109Z"
   },
   {
    "duration": 348,
    "start_time": "2022-05-14T19:19:01.121Z"
   },
   {
    "duration": 23,
    "start_time": "2022-05-14T19:19:01.471Z"
   },
   {
    "duration": 13,
    "start_time": "2022-05-14T19:19:01.496Z"
   },
   {
    "duration": 330,
    "start_time": "2022-05-14T19:19:01.511Z"
   },
   {
    "duration": 26,
    "start_time": "2022-05-14T19:19:01.843Z"
   },
   {
    "duration": 11,
    "start_time": "2022-05-14T19:19:01.871Z"
   },
   {
    "duration": 337,
    "start_time": "2022-05-14T19:19:01.885Z"
   },
   {
    "duration": 35,
    "start_time": "2022-05-14T19:19:02.224Z"
   },
   {
    "duration": 7,
    "start_time": "2022-05-14T19:19:02.261Z"
   },
   {
    "duration": 15,
    "start_time": "2022-05-14T19:19:02.271Z"
   },
   {
    "duration": 11,
    "start_time": "2022-05-14T19:19:02.288Z"
   },
   {
    "duration": 10,
    "start_time": "2022-05-14T19:19:02.301Z"
   },
   {
    "duration": 43,
    "start_time": "2022-05-14T19:19:02.313Z"
   },
   {
    "duration": 11,
    "start_time": "2022-05-14T19:19:02.359Z"
   },
   {
    "duration": 38,
    "start_time": "2022-05-14T19:19:02.372Z"
   },
   {
    "duration": 44,
    "start_time": "2022-05-14T19:19:02.412Z"
   },
   {
    "duration": 11,
    "start_time": "2022-05-14T19:19:02.458Z"
   },
   {
    "duration": 10,
    "start_time": "2022-05-14T19:19:02.471Z"
   },
   {
    "duration": 8,
    "start_time": "2022-05-14T19:19:02.484Z"
   },
   {
    "duration": 152,
    "start_time": "2022-05-14T19:19:26.851Z"
   },
   {
    "duration": 421,
    "start_time": "2022-05-14T19:19:35.720Z"
   },
   {
    "duration": 472,
    "start_time": "2022-05-14T19:19:40.687Z"
   },
   {
    "duration": 282,
    "start_time": "2022-05-14T19:21:15.444Z"
   },
   {
    "duration": 7,
    "start_time": "2022-05-14T19:25:48.942Z"
   },
   {
    "duration": 8,
    "start_time": "2022-05-14T19:26:15.543Z"
   },
   {
    "duration": 6,
    "start_time": "2022-05-14T19:27:26.786Z"
   },
   {
    "duration": 10,
    "start_time": "2022-05-14T19:29:27.887Z"
   },
   {
    "duration": 91,
    "start_time": "2022-05-14T19:31:47.499Z"
   },
   {
    "duration": 9,
    "start_time": "2022-05-14T19:31:54.794Z"
   },
   {
    "duration": 4,
    "start_time": "2022-05-14T19:33:28.262Z"
   },
   {
    "duration": 19,
    "start_time": "2022-05-14T19:33:29.438Z"
   },
   {
    "duration": 2114,
    "start_time": "2022-05-14T19:33:54.929Z"
   },
   {
    "duration": 281,
    "start_time": "2022-05-14T19:34:08.024Z"
   },
   {
    "duration": 290,
    "start_time": "2022-05-14T19:34:27.041Z"
   },
   {
    "duration": 264,
    "start_time": "2022-05-14T19:34:33.914Z"
   },
   {
    "duration": 41,
    "start_time": "2022-05-14T19:34:36.330Z"
   }
  ],
  "kernelspec": {
   "display_name": "Python 3 (ipykernel)",
   "language": "python",
   "name": "python3"
  },
  "language_info": {
   "codemirror_mode": {
    "name": "ipython",
    "version": 3
   },
   "file_extension": ".py",
   "mimetype": "text/x-python",
   "name": "python",
   "nbconvert_exporter": "python",
   "pygments_lexer": "ipython3",
   "version": "3.9.5"
  },
  "toc": {
   "base_numbering": 1,
   "nav_menu": {
    "height": "55px",
    "width": "246.992px"
   },
   "number_sections": true,
   "sideBar": true,
   "skip_h1_title": true,
   "title_cell": "Table of Contents",
   "title_sidebar": "Contents",
   "toc_cell": false,
   "toc_position": {
    "height": "calc(100% - 180px)",
    "left": "10px",
    "top": "150px",
    "width": "494.396px"
   },
   "toc_section_display": true,
   "toc_window_display": true
  }
 },
 "nbformat": 4,
 "nbformat_minor": 2
}
