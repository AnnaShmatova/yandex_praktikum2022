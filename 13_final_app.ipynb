{
 "cells": [
  {
   "cell_type": "markdown",
   "metadata": {},
   "source": [
    "# Мобильные приложения — Выделение групп пользователей на основе поведения"
   ]
  },
  {
   "cell_type": "markdown",
   "metadata": {},
   "source": [
    "# Цель проекта\n",
    "Закрепление навыков предобработки предоставленных данных, исследовательского и статистического анализа данных, визуализации, когортного анализа, создание презентации и дашборда.\n",
    "\n",
    "# Задачи проекта\n",
    "\n",
    "1. **Выделить группы пользователей, которые различаются по метрикам:**\n",
    " - retention rate,\n",
    " - время, проведённое в приложении, \n",
    " - частота действий, \n",
    " - конверсия в целевое действие — просмотр контактов.\n",
    "\n",
    "2. **Провести исследовательский анализ данных**\n",
    "3. **Сегментировать пользователей на основе действий**\n",
    "4. **Проверить статистические гипотезы**\n",
    "    1. *Некоторые пользователи установили приложение по ссылке из `yandex`, другие — из `google`. Проверьте гипотезу: две эти группы демонстрируют разную конверсию в просмотры контактов.*\n",
    "    2. *Сформулируйте собственную гипотезу. Дополните её нулевой и альтернативной гипотезами. Проведите статистический тест.*\n",
    "\n",
    "\n",
    "# Описание данных\n",
    "Датасет содержит данные о событиях, совершенных в мобильном приложении \"Ненужные вещи\". В нем пользователи продают свои ненужные вещи, размещая их на доске объявлений. В датасете содержатся данные пользователей, впервые совершивших действия в приложении после 7 октября 2019 года.\n",
    "\n",
    "Датасет **mobile_dataset.csv** содержит колонки:\n",
    "- `event.time` — время совершения\n",
    "- `event.name` — название события\n",
    "- `user.id` — идентификатор пользователя\n",
    "\n",
    "Датасет **mobile_sources.csv** содержит колонки:\n",
    "- `userId` — идентификатор пользователя\n",
    "- `source` — источник, с которого пользователь установил приложение\n",
    "\n",
    "Расшифровки событий:\n",
    "- `advert_open` — открытие карточки объявления\n",
    "- `photos_show` — просмотр фотографий в объявлении\n",
    "- `tips_show` — пользователь увидел рекомендованные объявления\n",
    "- `tips_click` — пользователь кликнул по рекомендованному объявлению\n",
    "- `contacts_show` и `show_contacts` — пользователь нажал на кнопку \"посмотреть номер телефона\" на карточке объявления\n",
    "- `contacts_call` — пользователь позвонил по номеру телефона на карточке объявления\n",
    "- `map` — пользователь открыл карту размещенных объявлений\n",
    "- `search_1` — `search_7` — разные события, связанные с поиском по сайту\n",
    "- `favorites_add` — добавление объявления в избранное"
   ]
  },
  {
   "cell_type": "markdown",
   "metadata": {},
   "source": [
    "# Оглавление:\n",
    "\n",
    "\n",
    "[**1. Загрузка данных и изучение общей информации**](#first-bullet)\n",
    " - Открыть файлы с данными и изучить общую информацию\n",
    " - Проверить типы данных в столбцах;\n",
    " - При необходимости переименовать столбцы;\n",
    " - Проверить данные на пропуски, обработать пропуски при необходимости, либо аргументировать, если избавляться от пропусков не буду;\n",
    " - Проверить и обработать данные на дубликаты;\n",
    " - Написать выводы по разделу.\n",
    " \n",
    "[**2. Исследовательский анализ данных**](#second-bullet)\n",
    "- Объединить датасеты по id пользователя;\n",
    "- Рассчитать общий Retention Rate пользователей приложения;\n",
    "- Посмотреть, сколько всего пользователей используют приложение;\n",
    "- Посмотреть общую активность пользователей, рассчитать метрики DAU, WAU\n",
    "- Исследовать, сколько в среднем времени проводят пользователи в приложении;\n",
    "- Написать выводы по разделу.\n",
    "\n",
    "[**3. Сегментация пользователей на группы**](#third-bullet)\n",
    "- Разбить пользователей на группы\n",
    "- Провести когортный анализ\n",
    "- Рассчитать Retention Rate\n",
    "- Построить график распределения пользователей по времени, проведенному в приложении\n",
    "- Посчитать конверсию в целевое действие - просмотр контактов для пользователей,\n",
    "- Построить график распределения конверсий;\n",
    "- Написать выводы по разделу.\n",
    "\n",
    "[**4. Проверка статистических гипотез**](#fourth-bullet)\n",
    "- Разделить пользователей на группы: установившие приложение из google, установившие приложение из yandex;\n",
    "- Проверить гипотезу: две эти группы пользователей демонстрируют разную конверсию в просмотры контактов;\n",
    "- Сформулировать и проверить собственную гипотезу;\n",
    "- Написать выводы по разделу.\n",
    "\n",
    "[**5. Общие выводы**](#fifth-bullet)\n",
    " - Формулировка общих выводов и рекомендаций\n",
    " - Подготовка и отправка презентации\n",
    " - Дашборд"
   ]
  },
  {
   "cell_type": "markdown",
   "metadata": {},
   "source": [
    "## Загрузка данных и изучение общей информации<a class=\"anchor\" id=\"first-bullet\"></a>\n",
    " - Открыть файлы с данными и изучить общую информацию\n",
    " - Проверить типы данных в столбцах;\n",
    " - При необходимости переименовать столбцы;\n",
    " - Проверить данные на пропуски, обработать пропуски при необходимости, либо аргументировать, если избавляться от пропусков не буду;\n",
    " - Проверить и обработать данные на дубликаты;\n",
    " - Написать выводы по разделу."
   ]
  },
  {
   "cell_type": "code",
   "execution_count": 1,
   "metadata": {},
   "outputs": [],
   "source": [
    "import pandas as pd\n",
    "import datetime as dt\n",
    "import numpy as np\n",
    "import matplotlib.pyplot as plt\n",
    "import seaborn as sns\n",
    "import math as mth\n",
    "from math import factorial\n",
    "from scipy import stats as st\n",
    "from plotly import graph_objects as go \n",
    "from pandas.plotting import register_matplotlib_converters\n",
    "register_matplotlib_converters()"
   ]
  },
  {
   "cell_type": "code",
   "execution_count": 2,
   "metadata": {},
   "outputs": [
    {
     "data": {
      "text/html": [
       "<div>\n",
       "<style scoped>\n",
       "    .dataframe tbody tr th:only-of-type {\n",
       "        vertical-align: middle;\n",
       "    }\n",
       "\n",
       "    .dataframe tbody tr th {\n",
       "        vertical-align: top;\n",
       "    }\n",
       "\n",
       "    .dataframe thead th {\n",
       "        text-align: right;\n",
       "    }\n",
       "</style>\n",
       "<table border=\"1\" class=\"dataframe\">\n",
       "  <thead>\n",
       "    <tr style=\"text-align: right;\">\n",
       "      <th></th>\n",
       "      <th>event.time</th>\n",
       "      <th>event.name</th>\n",
       "      <th>user.id</th>\n",
       "    </tr>\n",
       "  </thead>\n",
       "  <tbody>\n",
       "    <tr>\n",
       "      <th>0</th>\n",
       "      <td>2019-10-07 00:00:00.431357</td>\n",
       "      <td>advert_open</td>\n",
       "      <td>020292ab-89bc-4156-9acf-68bc2783f894</td>\n",
       "    </tr>\n",
       "    <tr>\n",
       "      <th>1</th>\n",
       "      <td>2019-10-07 00:00:01.236320</td>\n",
       "      <td>tips_show</td>\n",
       "      <td>020292ab-89bc-4156-9acf-68bc2783f894</td>\n",
       "    </tr>\n",
       "    <tr>\n",
       "      <th>2</th>\n",
       "      <td>2019-10-07 00:00:02.245341</td>\n",
       "      <td>tips_show</td>\n",
       "      <td>cf7eda61-9349-469f-ac27-e5b6f5ec475c</td>\n",
       "    </tr>\n",
       "    <tr>\n",
       "      <th>3</th>\n",
       "      <td>2019-10-07 00:00:07.039334</td>\n",
       "      <td>tips_show</td>\n",
       "      <td>020292ab-89bc-4156-9acf-68bc2783f894</td>\n",
       "    </tr>\n",
       "    <tr>\n",
       "      <th>4</th>\n",
       "      <td>2019-10-07 00:00:56.319813</td>\n",
       "      <td>advert_open</td>\n",
       "      <td>cf7eda61-9349-469f-ac27-e5b6f5ec475c</td>\n",
       "    </tr>\n",
       "    <tr>\n",
       "      <th>...</th>\n",
       "      <td>...</td>\n",
       "      <td>...</td>\n",
       "      <td>...</td>\n",
       "    </tr>\n",
       "    <tr>\n",
       "      <th>74192</th>\n",
       "      <td>2019-11-03 23:53:29.534986</td>\n",
       "      <td>tips_show</td>\n",
       "      <td>28fccdf4-7b9e-42f5-bc73-439a265f20e9</td>\n",
       "    </tr>\n",
       "    <tr>\n",
       "      <th>74193</th>\n",
       "      <td>2019-11-03 23:54:00.407086</td>\n",
       "      <td>tips_show</td>\n",
       "      <td>28fccdf4-7b9e-42f5-bc73-439a265f20e9</td>\n",
       "    </tr>\n",
       "    <tr>\n",
       "      <th>74194</th>\n",
       "      <td>2019-11-03 23:56:57.041825</td>\n",
       "      <td>search_1</td>\n",
       "      <td>20850c8f-4135-4059-b13b-198d3ac59902</td>\n",
       "    </tr>\n",
       "    <tr>\n",
       "      <th>74195</th>\n",
       "      <td>2019-11-03 23:57:06.232189</td>\n",
       "      <td>tips_show</td>\n",
       "      <td>28fccdf4-7b9e-42f5-bc73-439a265f20e9</td>\n",
       "    </tr>\n",
       "    <tr>\n",
       "      <th>74196</th>\n",
       "      <td>2019-11-03 23:58:12.532487</td>\n",
       "      <td>tips_show</td>\n",
       "      <td>28fccdf4-7b9e-42f5-bc73-439a265f20e9</td>\n",
       "    </tr>\n",
       "  </tbody>\n",
       "</table>\n",
       "<p>74197 rows × 3 columns</p>\n",
       "</div>"
      ],
      "text/plain": [
       "                       event.time   event.name  \\\n",
       "0      2019-10-07 00:00:00.431357  advert_open   \n",
       "1      2019-10-07 00:00:01.236320    tips_show   \n",
       "2      2019-10-07 00:00:02.245341    tips_show   \n",
       "3      2019-10-07 00:00:07.039334    tips_show   \n",
       "4      2019-10-07 00:00:56.319813  advert_open   \n",
       "...                           ...          ...   \n",
       "74192  2019-11-03 23:53:29.534986    tips_show   \n",
       "74193  2019-11-03 23:54:00.407086    tips_show   \n",
       "74194  2019-11-03 23:56:57.041825     search_1   \n",
       "74195  2019-11-03 23:57:06.232189    tips_show   \n",
       "74196  2019-11-03 23:58:12.532487    tips_show   \n",
       "\n",
       "                                    user.id  \n",
       "0      020292ab-89bc-4156-9acf-68bc2783f894  \n",
       "1      020292ab-89bc-4156-9acf-68bc2783f894  \n",
       "2      cf7eda61-9349-469f-ac27-e5b6f5ec475c  \n",
       "3      020292ab-89bc-4156-9acf-68bc2783f894  \n",
       "4      cf7eda61-9349-469f-ac27-e5b6f5ec475c  \n",
       "...                                     ...  \n",
       "74192  28fccdf4-7b9e-42f5-bc73-439a265f20e9  \n",
       "74193  28fccdf4-7b9e-42f5-bc73-439a265f20e9  \n",
       "74194  20850c8f-4135-4059-b13b-198d3ac59902  \n",
       "74195  28fccdf4-7b9e-42f5-bc73-439a265f20e9  \n",
       "74196  28fccdf4-7b9e-42f5-bc73-439a265f20e9  \n",
       "\n",
       "[74197 rows x 3 columns]"
      ]
     },
     "execution_count": 2,
     "metadata": {},
     "output_type": "execute_result"
    }
   ],
   "source": [
    "#загружаю датасет mobile_dataset\n",
    "mobile_dataset = pd.read_csv('https://code.s3.yandex.net/datasets/mobile_dataset.csv')\n",
    "mobile_dataset"
   ]
  },
  {
   "cell_type": "code",
   "execution_count": 3,
   "metadata": {},
   "outputs": [
    {
     "name": "stdout",
     "output_type": "stream",
     "text": [
      "<class 'pandas.core.frame.DataFrame'>\n",
      "RangeIndex: 74197 entries, 0 to 74196\n",
      "Data columns (total 3 columns):\n",
      " #   Column      Non-Null Count  Dtype \n",
      "---  ------      --------------  ----- \n",
      " 0   event.time  74197 non-null  object\n",
      " 1   event.name  74197 non-null  object\n",
      " 2   user.id     74197 non-null  object\n",
      "dtypes: object(3)\n",
      "memory usage: 1.7+ MB\n"
     ]
    }
   ],
   "source": [
    "#смотрю общую информацию о датасете\n",
    "mobile_dataset.info()"
   ]
  },
  {
   "cell_type": "code",
   "execution_count": 4,
   "metadata": {},
   "outputs": [
    {
     "data": {
      "text/plain": [
       "event.time    0\n",
       "event.name    0\n",
       "user.id       0\n",
       "dtype: int64"
      ]
     },
     "execution_count": 4,
     "metadata": {},
     "output_type": "execute_result"
    }
   ],
   "source": [
    "#проверяю датасет на пропуски\n",
    "mobile_dataset.isna().sum()"
   ]
  },
  {
   "cell_type": "code",
   "execution_count": 5,
   "metadata": {},
   "outputs": [
    {
     "data": {
      "text/plain": [
       "0"
      ]
     },
     "execution_count": 5,
     "metadata": {},
     "output_type": "execute_result"
    }
   ],
   "source": [
    "#проверяю датасет на дубликаты\n",
    "mobile_dataset.duplicated().sum()"
   ]
  },
  {
   "cell_type": "code",
   "execution_count": 6,
   "metadata": {},
   "outputs": [
    {
     "data": {
      "text/html": [
       "<div>\n",
       "<style scoped>\n",
       "    .dataframe tbody tr th:only-of-type {\n",
       "        vertical-align: middle;\n",
       "    }\n",
       "\n",
       "    .dataframe tbody tr th {\n",
       "        vertical-align: top;\n",
       "    }\n",
       "\n",
       "    .dataframe thead th {\n",
       "        text-align: right;\n",
       "    }\n",
       "</style>\n",
       "<table border=\"1\" class=\"dataframe\">\n",
       "  <thead>\n",
       "    <tr style=\"text-align: right;\">\n",
       "      <th></th>\n",
       "      <th>event_time</th>\n",
       "      <th>event_name</th>\n",
       "      <th>user_id</th>\n",
       "    </tr>\n",
       "  </thead>\n",
       "  <tbody>\n",
       "    <tr>\n",
       "      <th>0</th>\n",
       "      <td>2019-10-07 00:00:00.431357</td>\n",
       "      <td>advert_open</td>\n",
       "      <td>020292ab-89bc-4156-9acf-68bc2783f894</td>\n",
       "    </tr>\n",
       "    <tr>\n",
       "      <th>1</th>\n",
       "      <td>2019-10-07 00:00:01.236320</td>\n",
       "      <td>tips_show</td>\n",
       "      <td>020292ab-89bc-4156-9acf-68bc2783f894</td>\n",
       "    </tr>\n",
       "    <tr>\n",
       "      <th>2</th>\n",
       "      <td>2019-10-07 00:00:02.245341</td>\n",
       "      <td>tips_show</td>\n",
       "      <td>cf7eda61-9349-469f-ac27-e5b6f5ec475c</td>\n",
       "    </tr>\n",
       "    <tr>\n",
       "      <th>3</th>\n",
       "      <td>2019-10-07 00:00:07.039334</td>\n",
       "      <td>tips_show</td>\n",
       "      <td>020292ab-89bc-4156-9acf-68bc2783f894</td>\n",
       "    </tr>\n",
       "    <tr>\n",
       "      <th>4</th>\n",
       "      <td>2019-10-07 00:00:56.319813</td>\n",
       "      <td>advert_open</td>\n",
       "      <td>cf7eda61-9349-469f-ac27-e5b6f5ec475c</td>\n",
       "    </tr>\n",
       "  </tbody>\n",
       "</table>\n",
       "</div>"
      ],
      "text/plain": [
       "                   event_time   event_name  \\\n",
       "0  2019-10-07 00:00:00.431357  advert_open   \n",
       "1  2019-10-07 00:00:01.236320    tips_show   \n",
       "2  2019-10-07 00:00:02.245341    tips_show   \n",
       "3  2019-10-07 00:00:07.039334    tips_show   \n",
       "4  2019-10-07 00:00:56.319813  advert_open   \n",
       "\n",
       "                                user_id  \n",
       "0  020292ab-89bc-4156-9acf-68bc2783f894  \n",
       "1  020292ab-89bc-4156-9acf-68bc2783f894  \n",
       "2  cf7eda61-9349-469f-ac27-e5b6f5ec475c  \n",
       "3  020292ab-89bc-4156-9acf-68bc2783f894  \n",
       "4  cf7eda61-9349-469f-ac27-e5b6f5ec475c  "
      ]
     },
     "execution_count": 6,
     "metadata": {},
     "output_type": "execute_result"
    }
   ],
   "source": [
    "#переименовываю стоблцы на более удобные для меня\n",
    "mobile_dataset = mobile_dataset.rename(columns={'event.time': 'event_time', 'event.name': 'event_name',\\\n",
    "                                         'user.id': 'user_id'})\n",
    "mobile_dataset.head()"
   ]
  },
  {
   "cell_type": "code",
   "execution_count": 7,
   "metadata": {},
   "outputs": [
    {
     "name": "stdout",
     "output_type": "stream",
     "text": [
      "<class 'pandas.core.frame.DataFrame'>\n",
      "RangeIndex: 74197 entries, 0 to 74196\n",
      "Data columns (total 3 columns):\n",
      " #   Column      Non-Null Count  Dtype         \n",
      "---  ------      --------------  -----         \n",
      " 0   event_time  74197 non-null  datetime64[ns]\n",
      " 1   event_name  74197 non-null  object        \n",
      " 2   user_id     74197 non-null  object        \n",
      "dtypes: datetime64[ns](1), object(2)\n",
      "memory usage: 1.7+ MB\n"
     ]
    }
   ],
   "source": [
    "#меняю тип данных в столбце event_time на дата время (был object)\n",
    "mobile_dataset['event_time']=pd.to_datetime(mobile_dataset['event_time'])\n",
    "mobile_dataset.info()"
   ]
  },
  {
   "cell_type": "code",
   "execution_count": 8,
   "metadata": {},
   "outputs": [
    {
     "data": {
      "text/html": [
       "<div>\n",
       "<style scoped>\n",
       "    .dataframe tbody tr th:only-of-type {\n",
       "        vertical-align: middle;\n",
       "    }\n",
       "\n",
       "    .dataframe tbody tr th {\n",
       "        vertical-align: top;\n",
       "    }\n",
       "\n",
       "    .dataframe thead th {\n",
       "        text-align: right;\n",
       "    }\n",
       "</style>\n",
       "<table border=\"1\" class=\"dataframe\">\n",
       "  <thead>\n",
       "    <tr style=\"text-align: right;\">\n",
       "      <th></th>\n",
       "      <th>event_time</th>\n",
       "      <th>event_name</th>\n",
       "      <th>user_id</th>\n",
       "    </tr>\n",
       "  </thead>\n",
       "  <tbody>\n",
       "    <tr>\n",
       "      <th>0</th>\n",
       "      <td>2019-10-07 00:00:00</td>\n",
       "      <td>advert_open</td>\n",
       "      <td>020292ab-89bc-4156-9acf-68bc2783f894</td>\n",
       "    </tr>\n",
       "    <tr>\n",
       "      <th>1</th>\n",
       "      <td>2019-10-07 00:00:01</td>\n",
       "      <td>tips_show</td>\n",
       "      <td>020292ab-89bc-4156-9acf-68bc2783f894</td>\n",
       "    </tr>\n",
       "    <tr>\n",
       "      <th>2</th>\n",
       "      <td>2019-10-07 00:00:02</td>\n",
       "      <td>tips_show</td>\n",
       "      <td>cf7eda61-9349-469f-ac27-e5b6f5ec475c</td>\n",
       "    </tr>\n",
       "    <tr>\n",
       "      <th>3</th>\n",
       "      <td>2019-10-07 00:00:07</td>\n",
       "      <td>tips_show</td>\n",
       "      <td>020292ab-89bc-4156-9acf-68bc2783f894</td>\n",
       "    </tr>\n",
       "    <tr>\n",
       "      <th>4</th>\n",
       "      <td>2019-10-07 00:00:56</td>\n",
       "      <td>advert_open</td>\n",
       "      <td>cf7eda61-9349-469f-ac27-e5b6f5ec475c</td>\n",
       "    </tr>\n",
       "  </tbody>\n",
       "</table>\n",
       "</div>"
      ],
      "text/plain": [
       "           event_time   event_name                               user_id\n",
       "0 2019-10-07 00:00:00  advert_open  020292ab-89bc-4156-9acf-68bc2783f894\n",
       "1 2019-10-07 00:00:01    tips_show  020292ab-89bc-4156-9acf-68bc2783f894\n",
       "2 2019-10-07 00:00:02    tips_show  cf7eda61-9349-469f-ac27-e5b6f5ec475c\n",
       "3 2019-10-07 00:00:07    tips_show  020292ab-89bc-4156-9acf-68bc2783f894\n",
       "4 2019-10-07 00:00:56  advert_open  cf7eda61-9349-469f-ac27-e5b6f5ec475c"
      ]
     },
     "execution_count": 8,
     "metadata": {},
     "output_type": "execute_result"
    }
   ],
   "source": [
    "#избавлюсь округлением от миллисекунд \n",
    "mobile_dataset['event_time']=mobile_dataset['event_time'].astype('datetime64[s]')\n",
    "mobile_dataset.head()"
   ]
  },
  {
   "cell_type": "code",
   "execution_count": 9,
   "metadata": {},
   "outputs": [
    {
     "data": {
      "text/plain": [
       "tips_show        40055\n",
       "photos_show      10012\n",
       "advert_open       6164\n",
       "contacts_show     4450\n",
       "map               3881\n",
       "search_1          3506\n",
       "favorites_add     1417\n",
       "search_5          1049\n",
       "tips_click         814\n",
       "search_4           701\n",
       "contacts_call      541\n",
       "search_3           522\n",
       "search_6           460\n",
       "search_2           324\n",
       "search_7           222\n",
       "show_contacts       79\n",
       "Name: event_name, dtype: int64"
      ]
     },
     "execution_count": 9,
     "metadata": {},
     "output_type": "execute_result"
    }
   ],
   "source": [
    "#смотрю количество уникальных событий пользователей\n",
    "mobile_dataset['event_name'].value_counts()"
   ]
  },
  {
   "cell_type": "code",
   "execution_count": 10,
   "metadata": {},
   "outputs": [
    {
     "data": {
      "text/html": [
       "<div>\n",
       "<style scoped>\n",
       "    .dataframe tbody tr th:only-of-type {\n",
       "        vertical-align: middle;\n",
       "    }\n",
       "\n",
       "    .dataframe tbody tr th {\n",
       "        vertical-align: top;\n",
       "    }\n",
       "\n",
       "    .dataframe thead th {\n",
       "        text-align: right;\n",
       "    }\n",
       "</style>\n",
       "<table border=\"1\" class=\"dataframe\">\n",
       "  <thead>\n",
       "    <tr style=\"text-align: right;\">\n",
       "      <th></th>\n",
       "      <th>userId</th>\n",
       "      <th>source</th>\n",
       "    </tr>\n",
       "  </thead>\n",
       "  <tbody>\n",
       "    <tr>\n",
       "      <th>0</th>\n",
       "      <td>020292ab-89bc-4156-9acf-68bc2783f894</td>\n",
       "      <td>other</td>\n",
       "    </tr>\n",
       "    <tr>\n",
       "      <th>1</th>\n",
       "      <td>cf7eda61-9349-469f-ac27-e5b6f5ec475c</td>\n",
       "      <td>yandex</td>\n",
       "    </tr>\n",
       "    <tr>\n",
       "      <th>2</th>\n",
       "      <td>8c356c42-3ba9-4cb6-80b8-3f868d0192c3</td>\n",
       "      <td>yandex</td>\n",
       "    </tr>\n",
       "    <tr>\n",
       "      <th>3</th>\n",
       "      <td>d9b06b47-0f36-419b-bbb0-3533e582a6cb</td>\n",
       "      <td>other</td>\n",
       "    </tr>\n",
       "    <tr>\n",
       "      <th>4</th>\n",
       "      <td>f32e1e2a-3027-4693-b793-b7b3ff274439</td>\n",
       "      <td>google</td>\n",
       "    </tr>\n",
       "    <tr>\n",
       "      <th>...</th>\n",
       "      <td>...</td>\n",
       "      <td>...</td>\n",
       "    </tr>\n",
       "    <tr>\n",
       "      <th>4288</th>\n",
       "      <td>b86fe56e-f2de-4f8a-b192-cd89a37ecd41</td>\n",
       "      <td>yandex</td>\n",
       "    </tr>\n",
       "    <tr>\n",
       "      <th>4289</th>\n",
       "      <td>424c0ae1-3ea3-4f1e-a814-6bac73e48ab1</td>\n",
       "      <td>yandex</td>\n",
       "    </tr>\n",
       "    <tr>\n",
       "      <th>4290</th>\n",
       "      <td>437a4cd4-9ba9-457f-8614-d142bc48fbeb</td>\n",
       "      <td>yandex</td>\n",
       "    </tr>\n",
       "    <tr>\n",
       "      <th>4291</th>\n",
       "      <td>c10055f0-0b47-477a-869e-d391b31fdf8f</td>\n",
       "      <td>yandex</td>\n",
       "    </tr>\n",
       "    <tr>\n",
       "      <th>4292</th>\n",
       "      <td>d157bffc-264d-4464-8220-1cc0c42f43a9</td>\n",
       "      <td>google</td>\n",
       "    </tr>\n",
       "  </tbody>\n",
       "</table>\n",
       "<p>4293 rows × 2 columns</p>\n",
       "</div>"
      ],
      "text/plain": [
       "                                    userId  source\n",
       "0     020292ab-89bc-4156-9acf-68bc2783f894   other\n",
       "1     cf7eda61-9349-469f-ac27-e5b6f5ec475c  yandex\n",
       "2     8c356c42-3ba9-4cb6-80b8-3f868d0192c3  yandex\n",
       "3     d9b06b47-0f36-419b-bbb0-3533e582a6cb   other\n",
       "4     f32e1e2a-3027-4693-b793-b7b3ff274439  google\n",
       "...                                    ...     ...\n",
       "4288  b86fe56e-f2de-4f8a-b192-cd89a37ecd41  yandex\n",
       "4289  424c0ae1-3ea3-4f1e-a814-6bac73e48ab1  yandex\n",
       "4290  437a4cd4-9ba9-457f-8614-d142bc48fbeb  yandex\n",
       "4291  c10055f0-0b47-477a-869e-d391b31fdf8f  yandex\n",
       "4292  d157bffc-264d-4464-8220-1cc0c42f43a9  google\n",
       "\n",
       "[4293 rows x 2 columns]"
      ]
     },
     "execution_count": 10,
     "metadata": {},
     "output_type": "execute_result"
    }
   ],
   "source": [
    "#загружаю датасет mobile_soures\n",
    "mobile_sourсes = pd.read_csv('https://code.s3.yandex.net/datasets/mobile_soures.csv')\n",
    "mobile_sourсes"
   ]
  },
  {
   "cell_type": "code",
   "execution_count": 11,
   "metadata": {},
   "outputs": [
    {
     "name": "stdout",
     "output_type": "stream",
     "text": [
      "<class 'pandas.core.frame.DataFrame'>\n",
      "RangeIndex: 4293 entries, 0 to 4292\n",
      "Data columns (total 2 columns):\n",
      " #   Column  Non-Null Count  Dtype \n",
      "---  ------  --------------  ----- \n",
      " 0   userId  4293 non-null   object\n",
      " 1   source  4293 non-null   object\n",
      "dtypes: object(2)\n",
      "memory usage: 67.2+ KB\n"
     ]
    }
   ],
   "source": [
    "#смотрю общую информацию о датасете\n",
    "mobile_sourсes.info()"
   ]
  },
  {
   "cell_type": "code",
   "execution_count": 12,
   "metadata": {},
   "outputs": [
    {
     "data": {
      "text/plain": [
       "userId    0\n",
       "source    0\n",
       "dtype: int64"
      ]
     },
     "execution_count": 12,
     "metadata": {},
     "output_type": "execute_result"
    }
   ],
   "source": [
    "#проверяю датасет на пропуски\n",
    "mobile_sourсes.isna().sum()"
   ]
  },
  {
   "cell_type": "code",
   "execution_count": 13,
   "metadata": {},
   "outputs": [
    {
     "data": {
      "text/plain": [
       "0"
      ]
     },
     "execution_count": 13,
     "metadata": {},
     "output_type": "execute_result"
    }
   ],
   "source": [
    "#проверяю датасет на дубликаты\n",
    "mobile_sourсes.duplicated().sum()"
   ]
  },
  {
   "cell_type": "code",
   "execution_count": 14,
   "metadata": {},
   "outputs": [
    {
     "data": {
      "text/html": [
       "<div>\n",
       "<style scoped>\n",
       "    .dataframe tbody tr th:only-of-type {\n",
       "        vertical-align: middle;\n",
       "    }\n",
       "\n",
       "    .dataframe tbody tr th {\n",
       "        vertical-align: top;\n",
       "    }\n",
       "\n",
       "    .dataframe thead th {\n",
       "        text-align: right;\n",
       "    }\n",
       "</style>\n",
       "<table border=\"1\" class=\"dataframe\">\n",
       "  <thead>\n",
       "    <tr style=\"text-align: right;\">\n",
       "      <th></th>\n",
       "      <th>user_id</th>\n",
       "      <th>source</th>\n",
       "    </tr>\n",
       "  </thead>\n",
       "  <tbody>\n",
       "    <tr>\n",
       "      <th>0</th>\n",
       "      <td>020292ab-89bc-4156-9acf-68bc2783f894</td>\n",
       "      <td>other</td>\n",
       "    </tr>\n",
       "    <tr>\n",
       "      <th>1</th>\n",
       "      <td>cf7eda61-9349-469f-ac27-e5b6f5ec475c</td>\n",
       "      <td>yandex</td>\n",
       "    </tr>\n",
       "    <tr>\n",
       "      <th>2</th>\n",
       "      <td>8c356c42-3ba9-4cb6-80b8-3f868d0192c3</td>\n",
       "      <td>yandex</td>\n",
       "    </tr>\n",
       "    <tr>\n",
       "      <th>3</th>\n",
       "      <td>d9b06b47-0f36-419b-bbb0-3533e582a6cb</td>\n",
       "      <td>other</td>\n",
       "    </tr>\n",
       "    <tr>\n",
       "      <th>4</th>\n",
       "      <td>f32e1e2a-3027-4693-b793-b7b3ff274439</td>\n",
       "      <td>google</td>\n",
       "    </tr>\n",
       "  </tbody>\n",
       "</table>\n",
       "</div>"
      ],
      "text/plain": [
       "                                user_id  source\n",
       "0  020292ab-89bc-4156-9acf-68bc2783f894   other\n",
       "1  cf7eda61-9349-469f-ac27-e5b6f5ec475c  yandex\n",
       "2  8c356c42-3ba9-4cb6-80b8-3f868d0192c3  yandex\n",
       "3  d9b06b47-0f36-419b-bbb0-3533e582a6cb   other\n",
       "4  f32e1e2a-3027-4693-b793-b7b3ff274439  google"
      ]
     },
     "execution_count": 14,
     "metadata": {},
     "output_type": "execute_result"
    }
   ],
   "source": [
    "#переименовываю столбец userId\n",
    "mobile_sourсes = mobile_sourсes.rename(columns={'userId':'user_id'})\n",
    "mobile_sourсes.head()"
   ]
  },
  {
   "cell_type": "code",
   "execution_count": 15,
   "metadata": {},
   "outputs": [
    {
     "data": {
      "text/plain": [
       "yandex    1934\n",
       "other     1230\n",
       "google    1129\n",
       "Name: source, dtype: int64"
      ]
     },
     "execution_count": 15,
     "metadata": {},
     "output_type": "execute_result"
    }
   ],
   "source": [
    "#смотрю количество уникальных источников\n",
    "mobile_sourсes['source'].value_counts()"
   ]
  },
  {
   "cell_type": "code",
   "execution_count": 16,
   "metadata": {},
   "outputs": [
    {
     "data": {
      "text/plain": [
       "4293"
      ]
     },
     "execution_count": 16,
     "metadata": {},
     "output_type": "execute_result"
    }
   ],
   "source": [
    "#смотрю число уникальных пользователей в датасете с источниками\n",
    "mobile_sourсes['user_id'].nunique()"
   ]
  },
  {
   "cell_type": "code",
   "execution_count": 17,
   "metadata": {},
   "outputs": [
    {
     "data": {
      "text/plain": [
       "4293"
      ]
     },
     "execution_count": 17,
     "metadata": {},
     "output_type": "execute_result"
    }
   ],
   "source": [
    "#смотрю число уникальных пользователей в mobile_dataset\n",
    "mobile_dataset['user_id'].nunique()"
   ]
  },
  {
   "cell_type": "code",
   "execution_count": 18,
   "metadata": {},
   "outputs": [
    {
     "data": {
      "text/plain": [
       "tips_show        40055\n",
       "photos_show      10012\n",
       "advert_open       6164\n",
       "contacts_show     4529\n",
       "map               3881\n",
       "search_1          3506\n",
       "favorites_add     1417\n",
       "search_5          1049\n",
       "tips_click         814\n",
       "search_4           701\n",
       "contacts_call      541\n",
       "search_3           522\n",
       "search_6           460\n",
       "search_2           324\n",
       "search_7           222\n",
       "Name: event_name, dtype: int64"
      ]
     },
     "execution_count": 18,
     "metadata": {},
     "output_type": "execute_result"
    }
   ],
   "source": [
    "#по событиям пользователей с целевыми действиями видны неявные дубли contacts_show и show_contacts - объединяю их\n",
    "mobile_dataset['event_name'] = mobile_dataset['event_name'].str.replace('show_contacts', 'contacts_show', regex = True)\n",
    "mobile_dataset['event_name'].value_counts()"
   ]
  },
  {
   "cell_type": "code",
   "execution_count": 19,
   "metadata": {},
   "outputs": [
    {
     "data": {
      "text/plain": [
       "tips_show        40055\n",
       "photos_show      10012\n",
       "search            6784\n",
       "advert_open       6164\n",
       "contacts_show     4529\n",
       "map               3881\n",
       "favorites_add     1417\n",
       "tips_click         814\n",
       "contacts_call      541\n",
       "Name: event_name, dtype: int64"
      ]
     },
     "execution_count": 19,
     "metadata": {},
     "output_type": "execute_result"
    }
   ],
   "source": [
    "\n",
    "\"\"\"\n",
    "Также объединю поиск по сайту с индексами 1-7 - так как по содержанию \n",
    "мы не можем идентифицировать эти события и на результат они не повлияют\n",
    "\"\"\"\n",
    "\n",
    "mobile_dataset['event_name'] = mobile_dataset['event_name'].str.replace('search_1', 'search', regex = True)\n",
    "mobile_dataset['event_name'] = mobile_dataset['event_name'].str.replace('search_2', 'search', regex = True)\n",
    "mobile_dataset['event_name'] = mobile_dataset['event_name'].str.replace('search_3', 'search', regex = True)\n",
    "mobile_dataset['event_name'] = mobile_dataset['event_name'].str.replace('search_4', 'search', regex = True)\n",
    "mobile_dataset['event_name'] = mobile_dataset['event_name'].str.replace('search_5', 'search', regex = True)\n",
    "mobile_dataset['event_name'] = mobile_dataset['event_name'].str.replace('search_6', 'search', regex = True)\n",
    "mobile_dataset['event_name'] = mobile_dataset['event_name'].str.replace('search_7', 'search', regex = True)\n",
    "mobile_dataset['event_name'].value_counts()"
   ]
  },
  {
   "cell_type": "markdown",
   "metadata": {},
   "source": [
    "**Вывод первого этапа**. После загрузки датасетов провела предварительную обработку:\n",
    "- изменила названия столбцов на более понятные\n",
    "- проверила пропуски и дубликаты - явных найдено не было\n",
    "- количество уникальных пользователей в датасетах совпадает\n",
    "- объединила события - неявные дубли contacts_show и show_contacts, а также поиск по сайту с индексами 1-7 - так как по содержанию мы не можем идентифицировать эти события и на результат они не повлияют"
   ]
  },
  {
   "cell_type": "markdown",
   "metadata": {},
   "source": [
    "## Исследовательский анализ данных<a class=\"anchor\" id=\"second-bullet\"></a>\n",
    "- Объединить датасеты по id пользователя;\n",
    "- Посмотреть, сколько всего пользователей используют приложение;\n",
    "- Посмотреть общую активность пользователей, рассчитать метрики DAU, WAU\n",
    "- Исследовать, сколько в среднем времени проводят пользователи в приложении;\n",
    "- Написать выводы по разделу."
   ]
  },
  {
   "cell_type": "code",
   "execution_count": 20,
   "metadata": {},
   "outputs": [
    {
     "data": {
      "text/html": [
       "<div>\n",
       "<style scoped>\n",
       "    .dataframe tbody tr th:only-of-type {\n",
       "        vertical-align: middle;\n",
       "    }\n",
       "\n",
       "    .dataframe tbody tr th {\n",
       "        vertical-align: top;\n",
       "    }\n",
       "\n",
       "    .dataframe thead th {\n",
       "        text-align: right;\n",
       "    }\n",
       "</style>\n",
       "<table border=\"1\" class=\"dataframe\">\n",
       "  <thead>\n",
       "    <tr style=\"text-align: right;\">\n",
       "      <th></th>\n",
       "      <th>event_time</th>\n",
       "      <th>event_name</th>\n",
       "      <th>user_id</th>\n",
       "      <th>source</th>\n",
       "    </tr>\n",
       "  </thead>\n",
       "  <tbody>\n",
       "    <tr>\n",
       "      <th>0</th>\n",
       "      <td>2019-10-07 00:00:00</td>\n",
       "      <td>advert_open</td>\n",
       "      <td>020292ab-89bc-4156-9acf-68bc2783f894</td>\n",
       "      <td>other</td>\n",
       "    </tr>\n",
       "    <tr>\n",
       "      <th>1</th>\n",
       "      <td>2019-10-07 00:00:01</td>\n",
       "      <td>tips_show</td>\n",
       "      <td>020292ab-89bc-4156-9acf-68bc2783f894</td>\n",
       "      <td>other</td>\n",
       "    </tr>\n",
       "    <tr>\n",
       "      <th>2</th>\n",
       "      <td>2019-10-07 00:00:07</td>\n",
       "      <td>tips_show</td>\n",
       "      <td>020292ab-89bc-4156-9acf-68bc2783f894</td>\n",
       "      <td>other</td>\n",
       "    </tr>\n",
       "    <tr>\n",
       "      <th>3</th>\n",
       "      <td>2019-10-07 00:01:27</td>\n",
       "      <td>advert_open</td>\n",
       "      <td>020292ab-89bc-4156-9acf-68bc2783f894</td>\n",
       "      <td>other</td>\n",
       "    </tr>\n",
       "    <tr>\n",
       "      <th>4</th>\n",
       "      <td>2019-10-07 00:01:34</td>\n",
       "      <td>tips_show</td>\n",
       "      <td>020292ab-89bc-4156-9acf-68bc2783f894</td>\n",
       "      <td>other</td>\n",
       "    </tr>\n",
       "    <tr>\n",
       "      <th>...</th>\n",
       "      <td>...</td>\n",
       "      <td>...</td>\n",
       "      <td>...</td>\n",
       "      <td>...</td>\n",
       "    </tr>\n",
       "    <tr>\n",
       "      <th>74192</th>\n",
       "      <td>2019-11-03 23:46:47</td>\n",
       "      <td>map</td>\n",
       "      <td>d157bffc-264d-4464-8220-1cc0c42f43a9</td>\n",
       "      <td>google</td>\n",
       "    </tr>\n",
       "    <tr>\n",
       "      <th>74193</th>\n",
       "      <td>2019-11-03 23:46:58</td>\n",
       "      <td>advert_open</td>\n",
       "      <td>d157bffc-264d-4464-8220-1cc0c42f43a9</td>\n",
       "      <td>google</td>\n",
       "    </tr>\n",
       "    <tr>\n",
       "      <th>74194</th>\n",
       "      <td>2019-11-03 23:47:01</td>\n",
       "      <td>tips_show</td>\n",
       "      <td>d157bffc-264d-4464-8220-1cc0c42f43a9</td>\n",
       "      <td>google</td>\n",
       "    </tr>\n",
       "    <tr>\n",
       "      <th>74195</th>\n",
       "      <td>2019-11-03 23:47:47</td>\n",
       "      <td>advert_open</td>\n",
       "      <td>d157bffc-264d-4464-8220-1cc0c42f43a9</td>\n",
       "      <td>google</td>\n",
       "    </tr>\n",
       "    <tr>\n",
       "      <th>74196</th>\n",
       "      <td>2019-11-03 23:47:50</td>\n",
       "      <td>tips_show</td>\n",
       "      <td>d157bffc-264d-4464-8220-1cc0c42f43a9</td>\n",
       "      <td>google</td>\n",
       "    </tr>\n",
       "  </tbody>\n",
       "</table>\n",
       "<p>74197 rows × 4 columns</p>\n",
       "</div>"
      ],
      "text/plain": [
       "               event_time   event_name                               user_id  \\\n",
       "0     2019-10-07 00:00:00  advert_open  020292ab-89bc-4156-9acf-68bc2783f894   \n",
       "1     2019-10-07 00:00:01    tips_show  020292ab-89bc-4156-9acf-68bc2783f894   \n",
       "2     2019-10-07 00:00:07    tips_show  020292ab-89bc-4156-9acf-68bc2783f894   \n",
       "3     2019-10-07 00:01:27  advert_open  020292ab-89bc-4156-9acf-68bc2783f894   \n",
       "4     2019-10-07 00:01:34    tips_show  020292ab-89bc-4156-9acf-68bc2783f894   \n",
       "...                   ...          ...                                   ...   \n",
       "74192 2019-11-03 23:46:47          map  d157bffc-264d-4464-8220-1cc0c42f43a9   \n",
       "74193 2019-11-03 23:46:58  advert_open  d157bffc-264d-4464-8220-1cc0c42f43a9   \n",
       "74194 2019-11-03 23:47:01    tips_show  d157bffc-264d-4464-8220-1cc0c42f43a9   \n",
       "74195 2019-11-03 23:47:47  advert_open  d157bffc-264d-4464-8220-1cc0c42f43a9   \n",
       "74196 2019-11-03 23:47:50    tips_show  d157bffc-264d-4464-8220-1cc0c42f43a9   \n",
       "\n",
       "       source  \n",
       "0       other  \n",
       "1       other  \n",
       "2       other  \n",
       "3       other  \n",
       "4       other  \n",
       "...       ...  \n",
       "74192  google  \n",
       "74193  google  \n",
       "74194  google  \n",
       "74195  google  \n",
       "74196  google  \n",
       "\n",
       "[74197 rows x 4 columns]"
      ]
     },
     "execution_count": 20,
     "metadata": {},
     "output_type": "execute_result"
    }
   ],
   "source": [
    "#создам объединенный по полю user_id датасет\n",
    "mobile_app = mobile_dataset.merge(mobile_sourсes, on = 'user_id')\n",
    "mobile_app"
   ]
  },
  {
   "cell_type": "code",
   "execution_count": 21,
   "metadata": {},
   "outputs": [
    {
     "data": {
      "text/plain": [
       "4293"
      ]
     },
     "execution_count": 21,
     "metadata": {},
     "output_type": "execute_result"
    }
   ],
   "source": [
    "#проверяю число уникальных пользователей в получившемся датасете \n",
    "mobile_app['user_id'].nunique()"
   ]
  },
  {
   "cell_type": "code",
   "execution_count": 22,
   "metadata": {},
   "outputs": [
    {
     "name": "stdout",
     "output_type": "stream",
     "text": [
      "Дата первой пользовательской сессии -  2019-10-07 00:00:00\n",
      "Дата последней пользовательской сессии -  2019-11-03 23:58:12\n"
     ]
    }
   ],
   "source": [
    "#смотрю первую и последнюю пользовательскую сессию\n",
    "print('Дата первой пользовательской сессии - ', mobile_app['event_time'].min())\n",
    "print('Дата последней пользовательской сессии - ', mobile_app['event_time'].max())"
   ]
  },
  {
   "cell_type": "code",
   "execution_count": 23,
   "metadata": {},
   "outputs": [
    {
     "data": {
      "image/png": "[encoded data removed]",
      "text/plain": [
       "<Figure size 1440x360 with 1 Axes>"
      ]
     },
     "metadata": {
      "needs_background": "light"
     },
     "output_type": "display_data"
    }
   ],
   "source": [
    "#смотрю распределение событий по датам\n",
    "mobile_app['event_time'].hist(bins = 28, figsize = (20, 5))\n",
    "plt.title('Распределение событий по датам', fontsize = 20)\n",
    "plt.xlabel('Даты', fontsize=12)\n",
    "plt.ylabel('Число событий, ед.', fontsize=12)\n",
    "plt.show()"
   ]
  },
  {
   "cell_type": "markdown",
   "metadata": {},
   "source": [
    "**Вывод:** Данный график показывает, сколько различных событий по дням совершали пользователи приложения. Пользователи достаточно стабильны, нельзя говорить о силных перепадах в данных. На графике ожидаемо видно, что по выходным пользователи совершают меньше действий, видны пики по количеству событий - 14 октября и 23 октября."
   ]
  },
  {
   "cell_type": "markdown",
   "metadata": {},
   "source": [
    "### Общая активность пользователей, расчет метрик DAU, WAU"
   ]
  },
  {
   "cell_type": "code",
   "execution_count": 24,
   "metadata": {},
   "outputs": [
    {
     "name": "stdout",
     "output_type": "stream",
     "text": [
      "DAU средний = 279\n",
      "WAU средний = 1139\n"
     ]
    }
   ],
   "source": [
    "#считаю показатели DAU, WAU, предварительно выделяя в датафрейме новые столбцы из дат \n",
    "mobile_app['session_year']  = mobile_app['event_time'].dt.year\n",
    "mobile_app['session_month'] = mobile_app['event_time'].astype('datetime64[M]')\n",
    "mobile_app['session_week']  = mobile_app['event_time'].astype('datetime64[W]')\n",
    "mobile_app['session_date'] = mobile_app['event_time'].dt.date\n",
    "mobile_app\n",
    "\n",
    "dau_total = mobile_app.groupby('session_date').agg({'user_id': 'nunique'}).mean()\n",
    "wau_total = (mobile_app.groupby(['session_year', 'session_week']).agg({'user_id': 'nunique'}).mean())\n",
    "\n",
    "print('DAU средний =', int(dau_total))\n",
    "print('WAU средний =', int(wau_total))"
   ]
  },
  {
   "cell_type": "markdown",
   "metadata": {},
   "source": [
    "Из почти 4300 пользователей ежедневную активность в среднем показывают примерно 279 человек, а еженедельную - 1139, то есть четверть от общего числа."
   ]
  },
  {
   "cell_type": "code",
   "execution_count": 25,
   "metadata": {},
   "outputs": [
    {
     "data": {
      "image/png": "[encoded data removed]",
      "text/plain": [
       "<Figure size 2880x1080 with 1 Axes>"
      ]
     },
     "metadata": {
      "needs_background": "light"
     },
     "output_type": "display_data"
    }
   ],
   "source": [
    "#визуализирую среднее число уникальных посетителей в день\n",
    "dau = mobile_app.groupby('session_date').agg({'user_id': 'nunique'}).reset_index()\n",
    "dau.plot(figsize = (40, 15), legend = None, x = 'session_date', grid = True, color = '#C71585', linewidth = 3)\n",
    "plt.title('Оценка пользовательской активности по дням', fontsize = 30)\n",
    "plt.xticks(fontsize = 20)\n",
    "plt.yticks(fontsize = 20)\n",
    "plt.xlabel('Даты', fontsize=25)\n",
    "plt.ylabel('Число посетителей, ед.', fontsize=25)\n",
    "plt.show()"
   ]
  },
  {
   "cell_type": "markdown",
   "metadata": {},
   "source": [
    "Есть два пика посещаемости приложения пользователями - 23 октября и 28 октября, и есть два дня, где активность проседала - 12 октября и 2 ноября. Трудно говорить о том, чем обусловлены пики, но провалы, которые сильно отличаются от среднего можно списывать на сбои в работе приложения."
   ]
  },
  {
   "cell_type": "code",
   "execution_count": 26,
   "metadata": {},
   "outputs": [
    {
     "data": {
      "image/png": "[encoded data removed]",
      "text/plain": [
       "<Figure size 2160x720 with 1 Axes>"
      ]
     },
     "metadata": {
      "needs_background": "light"
     },
     "output_type": "display_data"
    }
   ],
   "source": [
    "#визуализирую среднее число уникальных посетителей по неделям\n",
    "wau = mobile_app.groupby(['session_year', 'session_week']).agg({'user_id': 'nunique'}).reset_index()\n",
    "wau[['session_week', 'user_id']].plot(x='session_week', y='user_id', figsize=(30, 10), legend = None, \\\n",
    "                                      grid = True, color = '#000080', linewidth = 3)\n",
    "plt.title('Оценка пользовательской активности по неделям', fontsize = 30)\n",
    "plt.xticks(fontsize = 20)\n",
    "plt.yticks(fontsize = 20)\n",
    "plt.xlabel('Недели', fontsize=20)\n",
    "plt.ylabel('Число посетителей, ед.', fontsize=25)\n",
    "plt.show()"
   ]
  },
  {
   "cell_type": "markdown",
   "metadata": {},
   "source": [
    "При оценке пользовательской активности по неделям можно отметить, что пик приходится на неделю с 17 по 24 октября, что подтверждает обнаруженный ранее факт с пиками 23 и 28 октября."
   ]
  },
  {
   "cell_type": "code",
   "execution_count": 27,
   "metadata": {},
   "outputs": [
    {
     "name": "stdout",
     "output_type": "stream",
     "text": [
      "Sticky Factor по отношению к недельной аудитории: 25 %\n"
     ]
    }
   ],
   "source": [
    "#посчитаю sticky фактор\n",
    "sticky_wau = (dau_total / wau_total) * 100\n",
    "print('Sticky Factor по отношению к недельной аудитории:', int(sticky_wau.round()), '%')"
   ]
  },
  {
   "cell_type": "markdown",
   "metadata": {},
   "source": [
    "Степень вовлеченности аудитории 25%. Как мы знаем чем выше вовлечённость пользователей, тем выше лояльность пользователей к нему. 25% на мой взгляд хороший показатель лояльности."
   ]
  },
  {
   "cell_type": "markdown",
   "metadata": {},
   "source": [
    "### Расчет средней пользовательской сессии в приложении"
   ]
  },
  {
   "cell_type": "code",
   "execution_count": 28,
   "metadata": {},
   "outputs": [],
   "source": [
    "#создаю датафреймы с минимальным максимальным временем события для пользователей\n",
    "min_time = mobile_app.groupby('user_id').agg({'event_time': 'min'}).reset_index()\n",
    "max_time = mobile_app.groupby('user_id').agg({'event_time': 'max'}).reset_index()\n",
    "min_time = min_time.rename(columns = {'event_time': 'min_event_time'})\n",
    "max_time = max_time.rename(columns = {'event_time': 'max_event_time'})"
   ]
  },
  {
   "cell_type": "code",
   "execution_count": 29,
   "metadata": {},
   "outputs": [
    {
     "data": {
      "text/html": [
       "<div>\n",
       "<style scoped>\n",
       "    .dataframe tbody tr th:only-of-type {\n",
       "        vertical-align: middle;\n",
       "    }\n",
       "\n",
       "    .dataframe tbody tr th {\n",
       "        vertical-align: top;\n",
       "    }\n",
       "\n",
       "    .dataframe thead th {\n",
       "        text-align: right;\n",
       "    }\n",
       "</style>\n",
       "<table border=\"1\" class=\"dataframe\">\n",
       "  <thead>\n",
       "    <tr style=\"text-align: right;\">\n",
       "      <th></th>\n",
       "      <th>user_id</th>\n",
       "      <th>max_event_time</th>\n",
       "      <th>min_event_time</th>\n",
       "      <th>session_duration</th>\n",
       "    </tr>\n",
       "  </thead>\n",
       "  <tbody>\n",
       "    <tr>\n",
       "      <th>0</th>\n",
       "      <td>0001b1d5-b74a-4cbf-aeb0-7df5947bf349</td>\n",
       "      <td>2019-10-22 11:30:52</td>\n",
       "      <td>2019-10-07 13:39:45</td>\n",
       "      <td>78667</td>\n",
       "    </tr>\n",
       "    <tr>\n",
       "      <th>1</th>\n",
       "      <td>00157779-810c-4498-9e05-a1e9e3cedf93</td>\n",
       "      <td>2019-11-03 17:12:09</td>\n",
       "      <td>2019-10-19 21:34:33</td>\n",
       "      <td>70656</td>\n",
       "    </tr>\n",
       "    <tr>\n",
       "      <th>2</th>\n",
       "      <td>00463033-5717-4bf1-91b4-09183923b9df</td>\n",
       "      <td>2019-11-01 14:19:17</td>\n",
       "      <td>2019-11-01 13:54:35</td>\n",
       "      <td>1482</td>\n",
       "    </tr>\n",
       "    <tr>\n",
       "      <th>3</th>\n",
       "      <td>004690c3-5a84-4bb7-a8af-e0c8f8fca64e</td>\n",
       "      <td>2019-10-31 21:42:15</td>\n",
       "      <td>2019-10-18 22:14:05</td>\n",
       "      <td>84490</td>\n",
       "    </tr>\n",
       "    <tr>\n",
       "      <th>4</th>\n",
       "      <td>00551e79-152e-4441-9cf7-565d7eb04090</td>\n",
       "      <td>2019-10-29 02:17:12</td>\n",
       "      <td>2019-10-25 16:44:41</td>\n",
       "      <td>34351</td>\n",
       "    </tr>\n",
       "    <tr>\n",
       "      <th>...</th>\n",
       "      <td>...</td>\n",
       "      <td>...</td>\n",
       "      <td>...</td>\n",
       "      <td>...</td>\n",
       "    </tr>\n",
       "    <tr>\n",
       "      <th>4288</th>\n",
       "      <td>ffab8d8a-30bb-424a-a3ab-0b63ebbf7b07</td>\n",
       "      <td>2019-10-26 19:53:51</td>\n",
       "      <td>2019-10-13 16:11:27</td>\n",
       "      <td>13344</td>\n",
       "    </tr>\n",
       "    <tr>\n",
       "      <th>4289</th>\n",
       "      <td>ffc01466-fdb1-4460-ae94-e800f52eb136</td>\n",
       "      <td>2019-10-07 20:33:42</td>\n",
       "      <td>2019-10-07 20:32:49</td>\n",
       "      <td>53</td>\n",
       "    </tr>\n",
       "    <tr>\n",
       "      <th>4290</th>\n",
       "      <td>ffcf50d9-293c-4254-8243-4890b030b238</td>\n",
       "      <td>2019-10-23 11:52:55</td>\n",
       "      <td>2019-10-23 11:51:35</td>\n",
       "      <td>80</td>\n",
       "    </tr>\n",
       "    <tr>\n",
       "      <th>4291</th>\n",
       "      <td>ffe68f10-e48e-470e-be9b-eeb93128ff1a</td>\n",
       "      <td>2019-10-28 07:17:52</td>\n",
       "      <td>2019-10-21 16:39:33</td>\n",
       "      <td>52699</td>\n",
       "    </tr>\n",
       "    <tr>\n",
       "      <th>4292</th>\n",
       "      <td>fffb9e79-b927-4dbb-9b48-7fd09b23a62b</td>\n",
       "      <td>2019-11-03 16:08:25</td>\n",
       "      <td>2019-10-12 00:57:21</td>\n",
       "      <td>54664</td>\n",
       "    </tr>\n",
       "  </tbody>\n",
       "</table>\n",
       "<p>4293 rows × 4 columns</p>\n",
       "</div>"
      ],
      "text/plain": [
       "                                   user_id      max_event_time  \\\n",
       "0     0001b1d5-b74a-4cbf-aeb0-7df5947bf349 2019-10-22 11:30:52   \n",
       "1     00157779-810c-4498-9e05-a1e9e3cedf93 2019-11-03 17:12:09   \n",
       "2     00463033-5717-4bf1-91b4-09183923b9df 2019-11-01 14:19:17   \n",
       "3     004690c3-5a84-4bb7-a8af-e0c8f8fca64e 2019-10-31 21:42:15   \n",
       "4     00551e79-152e-4441-9cf7-565d7eb04090 2019-10-29 02:17:12   \n",
       "...                                    ...                 ...   \n",
       "4288  ffab8d8a-30bb-424a-a3ab-0b63ebbf7b07 2019-10-26 19:53:51   \n",
       "4289  ffc01466-fdb1-4460-ae94-e800f52eb136 2019-10-07 20:33:42   \n",
       "4290  ffcf50d9-293c-4254-8243-4890b030b238 2019-10-23 11:52:55   \n",
       "4291  ffe68f10-e48e-470e-be9b-eeb93128ff1a 2019-10-28 07:17:52   \n",
       "4292  fffb9e79-b927-4dbb-9b48-7fd09b23a62b 2019-11-03 16:08:25   \n",
       "\n",
       "          min_event_time  session_duration  \n",
       "0    2019-10-07 13:39:45             78667  \n",
       "1    2019-10-19 21:34:33             70656  \n",
       "2    2019-11-01 13:54:35              1482  \n",
       "3    2019-10-18 22:14:05             84490  \n",
       "4    2019-10-25 16:44:41             34351  \n",
       "...                  ...               ...  \n",
       "4288 2019-10-13 16:11:27             13344  \n",
       "4289 2019-10-07 20:32:49                53  \n",
       "4290 2019-10-23 11:51:35                80  \n",
       "4291 2019-10-21 16:39:33             52699  \n",
       "4292 2019-10-12 00:57:21             54664  \n",
       "\n",
       "[4293 rows x 4 columns]"
      ]
     },
     "execution_count": 29,
     "metadata": {},
     "output_type": "execute_result"
    }
   ],
   "source": [
    "#считаю длительность пользовательской сессии в секундах\n",
    "user_duration = max_time.merge(min_time, on = 'user_id')\n",
    "user_duration['session_duration'] = (user_duration['max_event_time'] - user_duration['min_event_time']).dt.seconds\n",
    "user_duration"
   ]
  },
  {
   "cell_type": "code",
   "execution_count": 30,
   "metadata": {},
   "outputs": [
    {
     "data": {
      "image/png": "[encoded data removed]",
      "text/plain": [
       "<Figure size 720x504 with 1 Axes>"
      ]
     },
     "metadata": {
      "needs_background": "light"
     },
     "output_type": "display_data"
    },
    {
     "data": {
      "image/png": "[encoded data removed]",
      "text/plain": [
       "<Figure size 432x288 with 1 Axes>"
      ]
     },
     "metadata": {
      "needs_background": "light"
     },
     "output_type": "display_data"
    }
   ],
   "source": [
    "#строю визуализации пользовательских сессий\n",
    "user_duration['session_duration'].hist(bins = 40, figsize = (10, 7), range = (0, 25000))\n",
    "plt.title('Пользовательская сессия, сек.')\n",
    "plt.xticks(fontsize = 10)\n",
    "plt.yticks(fontsize = 10)\n",
    "plt.xlabel('Пользовательская сессия в секундах', fontsize=10)\n",
    "plt.ylabel('Число пользователей, ед.', fontsize=10)\n",
    "plt.show()\n",
    "plt.suptitle('Пользовательская сессия, сек.')\n",
    "user_duration.boxplot(column = 'session_duration')\n",
    "plt.xticks(fontsize = 10)\n",
    "plt.yticks(fontsize = 10)\n",
    "plt.ylabel('Пользовательская сессия в секундах', fontsize=10)\n",
    "plt.ylim(0, 25000)\n",
    "plt.show()"
   ]
  },
  {
   "cell_type": "code",
   "execution_count": 31,
   "metadata": {},
   "outputs": [
    {
     "data": {
      "text/html": [
       "<div>\n",
       "<style scoped>\n",
       "    .dataframe tbody tr th:only-of-type {\n",
       "        vertical-align: middle;\n",
       "    }\n",
       "\n",
       "    .dataframe tbody tr th {\n",
       "        vertical-align: top;\n",
       "    }\n",
       "\n",
       "    .dataframe thead th {\n",
       "        text-align: right;\n",
       "    }\n",
       "</style>\n",
       "<table border=\"1\" class=\"dataframe\">\n",
       "  <thead>\n",
       "    <tr style=\"text-align: right;\">\n",
       "      <th></th>\n",
       "      <th>event_time</th>\n",
       "      <th>event_name</th>\n",
       "      <th>user_id</th>\n",
       "      <th>source</th>\n",
       "      <th>session_year</th>\n",
       "      <th>session_month</th>\n",
       "      <th>session_week</th>\n",
       "      <th>session_date</th>\n",
       "      <th>max_event_time</th>\n",
       "      <th>min_event_time</th>\n",
       "      <th>session_duration</th>\n",
       "    </tr>\n",
       "  </thead>\n",
       "  <tbody>\n",
       "    <tr>\n",
       "      <th>0</th>\n",
       "      <td>2019-10-07 00:00:00</td>\n",
       "      <td>advert_open</td>\n",
       "      <td>020292ab-89bc-4156-9acf-68bc2783f894</td>\n",
       "      <td>other</td>\n",
       "      <td>2019</td>\n",
       "      <td>2019-10-01</td>\n",
       "      <td>2019-10-03</td>\n",
       "      <td>2019-10-07</td>\n",
       "      <td>2019-10-07 00:18:42</td>\n",
       "      <td>2019-10-07</td>\n",
       "      <td>1122</td>\n",
       "    </tr>\n",
       "    <tr>\n",
       "      <th>1</th>\n",
       "      <td>2019-10-07 00:00:01</td>\n",
       "      <td>tips_show</td>\n",
       "      <td>020292ab-89bc-4156-9acf-68bc2783f894</td>\n",
       "      <td>other</td>\n",
       "      <td>2019</td>\n",
       "      <td>2019-10-01</td>\n",
       "      <td>2019-10-03</td>\n",
       "      <td>2019-10-07</td>\n",
       "      <td>2019-10-07 00:18:42</td>\n",
       "      <td>2019-10-07</td>\n",
       "      <td>1122</td>\n",
       "    </tr>\n",
       "    <tr>\n",
       "      <th>2</th>\n",
       "      <td>2019-10-07 00:00:07</td>\n",
       "      <td>tips_show</td>\n",
       "      <td>020292ab-89bc-4156-9acf-68bc2783f894</td>\n",
       "      <td>other</td>\n",
       "      <td>2019</td>\n",
       "      <td>2019-10-01</td>\n",
       "      <td>2019-10-03</td>\n",
       "      <td>2019-10-07</td>\n",
       "      <td>2019-10-07 00:18:42</td>\n",
       "      <td>2019-10-07</td>\n",
       "      <td>1122</td>\n",
       "    </tr>\n",
       "    <tr>\n",
       "      <th>3</th>\n",
       "      <td>2019-10-07 00:01:27</td>\n",
       "      <td>advert_open</td>\n",
       "      <td>020292ab-89bc-4156-9acf-68bc2783f894</td>\n",
       "      <td>other</td>\n",
       "      <td>2019</td>\n",
       "      <td>2019-10-01</td>\n",
       "      <td>2019-10-03</td>\n",
       "      <td>2019-10-07</td>\n",
       "      <td>2019-10-07 00:18:42</td>\n",
       "      <td>2019-10-07</td>\n",
       "      <td>1122</td>\n",
       "    </tr>\n",
       "    <tr>\n",
       "      <th>4</th>\n",
       "      <td>2019-10-07 00:01:34</td>\n",
       "      <td>tips_show</td>\n",
       "      <td>020292ab-89bc-4156-9acf-68bc2783f894</td>\n",
       "      <td>other</td>\n",
       "      <td>2019</td>\n",
       "      <td>2019-10-01</td>\n",
       "      <td>2019-10-03</td>\n",
       "      <td>2019-10-07</td>\n",
       "      <td>2019-10-07 00:18:42</td>\n",
       "      <td>2019-10-07</td>\n",
       "      <td>1122</td>\n",
       "    </tr>\n",
       "  </tbody>\n",
       "</table>\n",
       "</div>"
      ],
      "text/plain": [
       "           event_time   event_name                               user_id  \\\n",
       "0 2019-10-07 00:00:00  advert_open  020292ab-89bc-4156-9acf-68bc2783f894   \n",
       "1 2019-10-07 00:00:01    tips_show  020292ab-89bc-4156-9acf-68bc2783f894   \n",
       "2 2019-10-07 00:00:07    tips_show  020292ab-89bc-4156-9acf-68bc2783f894   \n",
       "3 2019-10-07 00:01:27  advert_open  020292ab-89bc-4156-9acf-68bc2783f894   \n",
       "4 2019-10-07 00:01:34    tips_show  020292ab-89bc-4156-9acf-68bc2783f894   \n",
       "\n",
       "  source  session_year session_month session_week session_date  \\\n",
       "0  other          2019    2019-10-01   2019-10-03   2019-10-07   \n",
       "1  other          2019    2019-10-01   2019-10-03   2019-10-07   \n",
       "2  other          2019    2019-10-01   2019-10-03   2019-10-07   \n",
       "3  other          2019    2019-10-01   2019-10-03   2019-10-07   \n",
       "4  other          2019    2019-10-01   2019-10-03   2019-10-07   \n",
       "\n",
       "       max_event_time min_event_time  session_duration  \n",
       "0 2019-10-07 00:18:42     2019-10-07              1122  \n",
       "1 2019-10-07 00:18:42     2019-10-07              1122  \n",
       "2 2019-10-07 00:18:42     2019-10-07              1122  \n",
       "3 2019-10-07 00:18:42     2019-10-07              1122  \n",
       "4 2019-10-07 00:18:42     2019-10-07              1122  "
      ]
     },
     "execution_count": 31,
     "metadata": {},
     "output_type": "execute_result"
    }
   ],
   "source": [
    "mobile_app = mobile_app.merge(user_duration, on = 'user_id')\n",
    "mobile_app.head()"
   ]
  },
  {
   "cell_type": "code",
   "execution_count": 32,
   "metadata": {},
   "outputs": [
    {
     "data": {
      "text/plain": [
       "2.91"
      ]
     },
     "execution_count": 32,
     "metadata": {},
     "output_type": "execute_result"
    }
   ],
   "source": [
    "#считаю моду, чтоб посмотреть среднюю продолжительность пользовательской сессии, так как есть выбросы в данных\n",
    "(mobile_app['session_duration'].mode()[0]/3600).round(2)"
   ]
  },
  {
   "cell_type": "markdown",
   "metadata": {},
   "source": [
    "**Вывод:** В среднем пользователи, за период чуть меньше месяца, проводят в приложении около 3 часов - это довольно адекватный параметр для приложения, где люди продают и покупают вещи. Выбросы, которые достигают 24 часа, нельзя списать на сбои в приложении, так как это могут быть реальные пользователи с большим количеством проведенного времени за покупками или продажами своих товаров/вещей. \n",
    "\n",
    "Провела исследовательский анализ данных. Из почти 4300 пользователей ежедневную активность в среднем показывают примерно 279 человек, а еженедельную - 1139, то есть четверть от общего числа.\n",
    "\n",
    "Посмотрела, как распределяется активность пользователей по дням и неделям, было отмечано, что на выходных приложением пользуются реже, чем на неделе. Были выявлены пиковые дни и недели активности: пик приходится на неделю с 17 по 24 октября, а дни - 23 и 28 октября."
   ]
  },
  {
   "cell_type": "markdown",
   "metadata": {},
   "source": [
    "## Сегментация пользователей на группы<a class=\"anchor\" id=\"third-bullet\"></a>\n",
    "\n",
    "- Разбить пользователей на группы\n",
    "- Провести когортный анализ\n",
    "- Рассчитать Retention Rate\n",
    "- Построить график распределения пользователей по времени, проведенному в приложении\n",
    "- Посчитать конверсию в целевое действие - просмотр контактов для пользователей,\n",
    "- Построить график распределения конверсий;\n",
    "- Написать выводы по разделу."
   ]
  },
  {
   "cell_type": "markdown",
   "metadata": {},
   "source": [
    "### Расчет Retention Rate"
   ]
  },
  {
   "cell_type": "code",
   "execution_count": 33,
   "metadata": {},
   "outputs": [
    {
     "data": {
      "text/html": [
       "<div>\n",
       "<style scoped>\n",
       "    .dataframe tbody tr th:only-of-type {\n",
       "        vertical-align: middle;\n",
       "    }\n",
       "\n",
       "    .dataframe tbody tr th {\n",
       "        vertical-align: top;\n",
       "    }\n",
       "\n",
       "    .dataframe thead th {\n",
       "        text-align: right;\n",
       "    }\n",
       "</style>\n",
       "<table border=\"1\" class=\"dataframe\">\n",
       "  <thead>\n",
       "    <tr style=\"text-align: right;\">\n",
       "      <th></th>\n",
       "      <th>first_activity_day</th>\n",
       "      <th>day_cohort_lifetime</th>\n",
       "      <th>user_cnt</th>\n",
       "    </tr>\n",
       "  </thead>\n",
       "  <tbody>\n",
       "    <tr>\n",
       "      <th>0</th>\n",
       "      <td>2019-10-07</td>\n",
       "      <td>0 days</td>\n",
       "      <td>204</td>\n",
       "    </tr>\n",
       "    <tr>\n",
       "      <th>1</th>\n",
       "      <td>2019-10-07</td>\n",
       "      <td>1 days</td>\n",
       "      <td>37</td>\n",
       "    </tr>\n",
       "    <tr>\n",
       "      <th>2</th>\n",
       "      <td>2019-10-07</td>\n",
       "      <td>2 days</td>\n",
       "      <td>21</td>\n",
       "    </tr>\n",
       "    <tr>\n",
       "      <th>3</th>\n",
       "      <td>2019-10-07</td>\n",
       "      <td>3 days</td>\n",
       "      <td>22</td>\n",
       "    </tr>\n",
       "    <tr>\n",
       "      <th>4</th>\n",
       "      <td>2019-10-07</td>\n",
       "      <td>4 days</td>\n",
       "      <td>14</td>\n",
       "    </tr>\n",
       "    <tr>\n",
       "      <th>...</th>\n",
       "      <td>...</td>\n",
       "      <td>...</td>\n",
       "      <td>...</td>\n",
       "    </tr>\n",
       "    <tr>\n",
       "      <th>399</th>\n",
       "      <td>2019-11-01</td>\n",
       "      <td>1 days</td>\n",
       "      <td>15</td>\n",
       "    </tr>\n",
       "    <tr>\n",
       "      <th>400</th>\n",
       "      <td>2019-11-01</td>\n",
       "      <td>2 days</td>\n",
       "      <td>6</td>\n",
       "    </tr>\n",
       "    <tr>\n",
       "      <th>401</th>\n",
       "      <td>2019-11-02</td>\n",
       "      <td>0 days</td>\n",
       "      <td>97</td>\n",
       "    </tr>\n",
       "    <tr>\n",
       "      <th>402</th>\n",
       "      <td>2019-11-02</td>\n",
       "      <td>1 days</td>\n",
       "      <td>15</td>\n",
       "    </tr>\n",
       "    <tr>\n",
       "      <th>403</th>\n",
       "      <td>2019-11-03</td>\n",
       "      <td>0 days</td>\n",
       "      <td>135</td>\n",
       "    </tr>\n",
       "  </tbody>\n",
       "</table>\n",
       "<p>404 rows × 3 columns</p>\n",
       "</div>"
      ],
      "text/plain": [
       "    first_activity_day day_cohort_lifetime  user_cnt\n",
       "0           2019-10-07              0 days       204\n",
       "1           2019-10-07              1 days        37\n",
       "2           2019-10-07              2 days        21\n",
       "3           2019-10-07              3 days        22\n",
       "4           2019-10-07              4 days        14\n",
       "..                 ...                 ...       ...\n",
       "399         2019-11-01              1 days        15\n",
       "400         2019-11-01              2 days         6\n",
       "401         2019-11-02              0 days        97\n",
       "402         2019-11-02              1 days        15\n",
       "403         2019-11-03              0 days       135\n",
       "\n",
       "[404 rows x 3 columns]"
      ]
     },
     "execution_count": 33,
     "metadata": {},
     "output_type": "execute_result"
    }
   ],
   "source": [
    "#создаю датафрейм с дневными когортами, предварительно расчитав день активности пользователя, день первой активности и lifetime когорт\n",
    "mobile_app['activity_day'] = mobile_app['event_time'].astype('datetime64[D]')\n",
    "mobile_app['first_activity_day'] = mobile_app['min_event_time'].astype('datetime64[D]')\n",
    "mobile_app['day_cohort_lifetime'] = (mobile_app['activity_day'] - mobile_app['first_activity_day'])\n",
    "day_cohorts = mobile_app.groupby(['first_activity_day', 'day_cohort_lifetime']).agg({'user_id': 'nunique'})\\\n",
    ".reset_index()\n",
    "day_cohorts = day_cohorts.rename(columns = {'user_id': 'user_cnt'})\n",
    "day_cohorts"
   ]
  },
  {
   "cell_type": "code",
   "execution_count": 34,
   "metadata": {},
   "outputs": [
    {
     "data": {
      "text/html": [
       "<div>\n",
       "<style scoped>\n",
       "    .dataframe tbody tr th:only-of-type {\n",
       "        vertical-align: middle;\n",
       "    }\n",
       "\n",
       "    .dataframe tbody tr th {\n",
       "        vertical-align: top;\n",
       "    }\n",
       "\n",
       "    .dataframe thead th {\n",
       "        text-align: right;\n",
       "    }\n",
       "</style>\n",
       "<table border=\"1\" class=\"dataframe\">\n",
       "  <thead>\n",
       "    <tr style=\"text-align: right;\">\n",
       "      <th></th>\n",
       "      <th>first_activity_week</th>\n",
       "      <th>week_cohort_lifetime</th>\n",
       "      <th>user_cnt</th>\n",
       "    </tr>\n",
       "  </thead>\n",
       "  <tbody>\n",
       "    <tr>\n",
       "      <th>0</th>\n",
       "      <td>2019-10-03</td>\n",
       "      <td>0</td>\n",
       "      <td>547</td>\n",
       "    </tr>\n",
       "    <tr>\n",
       "      <th>1</th>\n",
       "      <td>2019-10-03</td>\n",
       "      <td>1</td>\n",
       "      <td>148</td>\n",
       "    </tr>\n",
       "    <tr>\n",
       "      <th>2</th>\n",
       "      <td>2019-10-03</td>\n",
       "      <td>2</td>\n",
       "      <td>92</td>\n",
       "    </tr>\n",
       "    <tr>\n",
       "      <th>3</th>\n",
       "      <td>2019-10-03</td>\n",
       "      <td>3</td>\n",
       "      <td>60</td>\n",
       "    </tr>\n",
       "    <tr>\n",
       "      <th>4</th>\n",
       "      <td>2019-10-03</td>\n",
       "      <td>4</td>\n",
       "      <td>39</td>\n",
       "    </tr>\n",
       "    <tr>\n",
       "      <th>5</th>\n",
       "      <td>2019-10-10</td>\n",
       "      <td>0</td>\n",
       "      <td>1120</td>\n",
       "    </tr>\n",
       "    <tr>\n",
       "      <th>6</th>\n",
       "      <td>2019-10-10</td>\n",
       "      <td>1</td>\n",
       "      <td>262</td>\n",
       "    </tr>\n",
       "    <tr>\n",
       "      <th>7</th>\n",
       "      <td>2019-10-10</td>\n",
       "      <td>2</td>\n",
       "      <td>173</td>\n",
       "    </tr>\n",
       "    <tr>\n",
       "      <th>8</th>\n",
       "      <td>2019-10-10</td>\n",
       "      <td>3</td>\n",
       "      <td>79</td>\n",
       "    </tr>\n",
       "    <tr>\n",
       "      <th>9</th>\n",
       "      <td>2019-10-17</td>\n",
       "      <td>0</td>\n",
       "      <td>1136</td>\n",
       "    </tr>\n",
       "    <tr>\n",
       "      <th>10</th>\n",
       "      <td>2019-10-17</td>\n",
       "      <td>1</td>\n",
       "      <td>273</td>\n",
       "    </tr>\n",
       "    <tr>\n",
       "      <th>11</th>\n",
       "      <td>2019-10-17</td>\n",
       "      <td>2</td>\n",
       "      <td>101</td>\n",
       "    </tr>\n",
       "    <tr>\n",
       "      <th>12</th>\n",
       "      <td>2019-10-24</td>\n",
       "      <td>0</td>\n",
       "      <td>1014</td>\n",
       "    </tr>\n",
       "    <tr>\n",
       "      <th>13</th>\n",
       "      <td>2019-10-24</td>\n",
       "      <td>1</td>\n",
       "      <td>176</td>\n",
       "    </tr>\n",
       "    <tr>\n",
       "      <th>14</th>\n",
       "      <td>2019-10-31</td>\n",
       "      <td>0</td>\n",
       "      <td>476</td>\n",
       "    </tr>\n",
       "  </tbody>\n",
       "</table>\n",
       "</div>"
      ],
      "text/plain": [
       "   first_activity_week  week_cohort_lifetime  user_cnt\n",
       "0           2019-10-03                     0       547\n",
       "1           2019-10-03                     1       148\n",
       "2           2019-10-03                     2        92\n",
       "3           2019-10-03                     3        60\n",
       "4           2019-10-03                     4        39\n",
       "5           2019-10-10                     0      1120\n",
       "6           2019-10-10                     1       262\n",
       "7           2019-10-10                     2       173\n",
       "8           2019-10-10                     3        79\n",
       "9           2019-10-17                     0      1136\n",
       "10          2019-10-17                     1       273\n",
       "11          2019-10-17                     2       101\n",
       "12          2019-10-24                     0      1014\n",
       "13          2019-10-24                     1       176\n",
       "14          2019-10-31                     0       476"
      ]
     },
     "execution_count": 34,
     "metadata": {},
     "output_type": "execute_result"
    }
   ],
   "source": [
    "#создаю датафрейм с недельнымим когортами, предварительно расчитав неделю активности пользователя, неделю первой активности и lifetime когорт\n",
    "mobile_app['activity_week'] = mobile_app['event_time'].astype('datetime64[W]')\n",
    "mobile_app['first_activity_week'] = mobile_app['min_event_time'].astype('datetime64[W]')\n",
    "mobile_app['week_cohort_lifetime'] = ((mobile_app['activity_week'] - mobile_app['first_activity_week'])\\\n",
    "                                      / np.timedelta64(1, 'W')).round().astype('int')\n",
    "week_cohorts = mobile_app.groupby(['first_activity_week', 'week_cohort_lifetime']).agg({'user_id': 'nunique'})\\\n",
    ".reset_index()\n",
    "week_cohorts = week_cohorts.rename(columns = {'user_id': 'user_cnt'})\n",
    "week_cohorts"
   ]
  },
  {
   "cell_type": "code",
   "execution_count": 35,
   "metadata": {},
   "outputs": [
    {
     "data": {
      "text/html": [
       "<div>\n",
       "<style scoped>\n",
       "    .dataframe tbody tr th:only-of-type {\n",
       "        vertical-align: middle;\n",
       "    }\n",
       "\n",
       "    .dataframe tbody tr th {\n",
       "        vertical-align: top;\n",
       "    }\n",
       "\n",
       "    .dataframe thead th {\n",
       "        text-align: right;\n",
       "    }\n",
       "</style>\n",
       "<table border=\"1\" class=\"dataframe\">\n",
       "  <thead>\n",
       "    <tr style=\"text-align: right;\">\n",
       "      <th></th>\n",
       "      <th>first_activity_week</th>\n",
       "      <th>week_cohort_users</th>\n",
       "    </tr>\n",
       "  </thead>\n",
       "  <tbody>\n",
       "    <tr>\n",
       "      <th>0</th>\n",
       "      <td>2019-10-03</td>\n",
       "      <td>547</td>\n",
       "    </tr>\n",
       "    <tr>\n",
       "      <th>5</th>\n",
       "      <td>2019-10-10</td>\n",
       "      <td>1120</td>\n",
       "    </tr>\n",
       "    <tr>\n",
       "      <th>9</th>\n",
       "      <td>2019-10-17</td>\n",
       "      <td>1136</td>\n",
       "    </tr>\n",
       "    <tr>\n",
       "      <th>12</th>\n",
       "      <td>2019-10-24</td>\n",
       "      <td>1014</td>\n",
       "    </tr>\n",
       "    <tr>\n",
       "      <th>14</th>\n",
       "      <td>2019-10-31</td>\n",
       "      <td>476</td>\n",
       "    </tr>\n",
       "  </tbody>\n",
       "</table>\n",
       "</div>"
      ],
      "text/plain": [
       "   first_activity_week  week_cohort_users\n",
       "0           2019-10-03                547\n",
       "5           2019-10-10               1120\n",
       "9           2019-10-17               1136\n",
       "12          2019-10-24               1014\n",
       "14          2019-10-31                476"
      ]
     },
     "execution_count": 35,
     "metadata": {},
     "output_type": "execute_result"
    }
   ],
   "source": [
    "#считаю число пользователей на нулевой месяц lifetime\n",
    "initial_users_count = week_cohorts[week_cohorts['week_cohort_lifetime'] == 0][['first_activity_week', 'user_cnt']]\n",
    "initial_users_count = initial_users_count.rename(columns={'user_cnt': 'week_cohort_users'})\n",
    "initial_users_count"
   ]
  },
  {
   "cell_type": "code",
   "execution_count": 36,
   "metadata": {},
   "outputs": [
    {
     "data": {
      "text/html": [
       "<div>\n",
       "<style scoped>\n",
       "    .dataframe tbody tr th:only-of-type {\n",
       "        vertical-align: middle;\n",
       "    }\n",
       "\n",
       "    .dataframe tbody tr th {\n",
       "        vertical-align: top;\n",
       "    }\n",
       "\n",
       "    .dataframe thead th {\n",
       "        text-align: right;\n",
       "    }\n",
       "</style>\n",
       "<table border=\"1\" class=\"dataframe\">\n",
       "  <thead>\n",
       "    <tr style=\"text-align: right;\">\n",
       "      <th></th>\n",
       "      <th>first_activity_week</th>\n",
       "      <th>week_cohort_lifetime</th>\n",
       "      <th>user_cnt</th>\n",
       "      <th>week_cohort_users</th>\n",
       "      <th>retention</th>\n",
       "    </tr>\n",
       "  </thead>\n",
       "  <tbody>\n",
       "    <tr>\n",
       "      <th>0</th>\n",
       "      <td>2019-10-03</td>\n",
       "      <td>0</td>\n",
       "      <td>547</td>\n",
       "      <td>547</td>\n",
       "      <td>1.000000</td>\n",
       "    </tr>\n",
       "    <tr>\n",
       "      <th>1</th>\n",
       "      <td>2019-10-03</td>\n",
       "      <td>1</td>\n",
       "      <td>148</td>\n",
       "      <td>547</td>\n",
       "      <td>0.270567</td>\n",
       "    </tr>\n",
       "    <tr>\n",
       "      <th>2</th>\n",
       "      <td>2019-10-03</td>\n",
       "      <td>2</td>\n",
       "      <td>92</td>\n",
       "      <td>547</td>\n",
       "      <td>0.168190</td>\n",
       "    </tr>\n",
       "    <tr>\n",
       "      <th>3</th>\n",
       "      <td>2019-10-03</td>\n",
       "      <td>3</td>\n",
       "      <td>60</td>\n",
       "      <td>547</td>\n",
       "      <td>0.109689</td>\n",
       "    </tr>\n",
       "    <tr>\n",
       "      <th>4</th>\n",
       "      <td>2019-10-03</td>\n",
       "      <td>4</td>\n",
       "      <td>39</td>\n",
       "      <td>547</td>\n",
       "      <td>0.071298</td>\n",
       "    </tr>\n",
       "    <tr>\n",
       "      <th>5</th>\n",
       "      <td>2019-10-10</td>\n",
       "      <td>0</td>\n",
       "      <td>1120</td>\n",
       "      <td>1120</td>\n",
       "      <td>1.000000</td>\n",
       "    </tr>\n",
       "    <tr>\n",
       "      <th>6</th>\n",
       "      <td>2019-10-10</td>\n",
       "      <td>1</td>\n",
       "      <td>262</td>\n",
       "      <td>1120</td>\n",
       "      <td>0.233929</td>\n",
       "    </tr>\n",
       "    <tr>\n",
       "      <th>7</th>\n",
       "      <td>2019-10-10</td>\n",
       "      <td>2</td>\n",
       "      <td>173</td>\n",
       "      <td>1120</td>\n",
       "      <td>0.154464</td>\n",
       "    </tr>\n",
       "    <tr>\n",
       "      <th>8</th>\n",
       "      <td>2019-10-10</td>\n",
       "      <td>3</td>\n",
       "      <td>79</td>\n",
       "      <td>1120</td>\n",
       "      <td>0.070536</td>\n",
       "    </tr>\n",
       "    <tr>\n",
       "      <th>9</th>\n",
       "      <td>2019-10-17</td>\n",
       "      <td>0</td>\n",
       "      <td>1136</td>\n",
       "      <td>1136</td>\n",
       "      <td>1.000000</td>\n",
       "    </tr>\n",
       "    <tr>\n",
       "      <th>10</th>\n",
       "      <td>2019-10-17</td>\n",
       "      <td>1</td>\n",
       "      <td>273</td>\n",
       "      <td>1136</td>\n",
       "      <td>0.240317</td>\n",
       "    </tr>\n",
       "    <tr>\n",
       "      <th>11</th>\n",
       "      <td>2019-10-17</td>\n",
       "      <td>2</td>\n",
       "      <td>101</td>\n",
       "      <td>1136</td>\n",
       "      <td>0.088908</td>\n",
       "    </tr>\n",
       "    <tr>\n",
       "      <th>12</th>\n",
       "      <td>2019-10-24</td>\n",
       "      <td>0</td>\n",
       "      <td>1014</td>\n",
       "      <td>1014</td>\n",
       "      <td>1.000000</td>\n",
       "    </tr>\n",
       "    <tr>\n",
       "      <th>13</th>\n",
       "      <td>2019-10-24</td>\n",
       "      <td>1</td>\n",
       "      <td>176</td>\n",
       "      <td>1014</td>\n",
       "      <td>0.173570</td>\n",
       "    </tr>\n",
       "    <tr>\n",
       "      <th>14</th>\n",
       "      <td>2019-10-31</td>\n",
       "      <td>0</td>\n",
       "      <td>476</td>\n",
       "      <td>476</td>\n",
       "      <td>1.000000</td>\n",
       "    </tr>\n",
       "  </tbody>\n",
       "</table>\n",
       "</div>"
      ],
      "text/plain": [
       "   first_activity_week  week_cohort_lifetime  user_cnt  week_cohort_users  \\\n",
       "0           2019-10-03                     0       547                547   \n",
       "1           2019-10-03                     1       148                547   \n",
       "2           2019-10-03                     2        92                547   \n",
       "3           2019-10-03                     3        60                547   \n",
       "4           2019-10-03                     4        39                547   \n",
       "5           2019-10-10                     0      1120               1120   \n",
       "6           2019-10-10                     1       262               1120   \n",
       "7           2019-10-10                     2       173               1120   \n",
       "8           2019-10-10                     3        79               1120   \n",
       "9           2019-10-17                     0      1136               1136   \n",
       "10          2019-10-17                     1       273               1136   \n",
       "11          2019-10-17                     2       101               1136   \n",
       "12          2019-10-24                     0      1014               1014   \n",
       "13          2019-10-24                     1       176               1014   \n",
       "14          2019-10-31                     0       476                476   \n",
       "\n",
       "    retention  \n",
       "0    1.000000  \n",
       "1    0.270567  \n",
       "2    0.168190  \n",
       "3    0.109689  \n",
       "4    0.071298  \n",
       "5    1.000000  \n",
       "6    0.233929  \n",
       "7    0.154464  \n",
       "8    0.070536  \n",
       "9    1.000000  \n",
       "10   0.240317  \n",
       "11   0.088908  \n",
       "12   1.000000  \n",
       "13   0.173570  \n",
       "14   1.000000  "
      ]
     },
     "execution_count": 36,
     "metadata": {},
     "output_type": "execute_result"
    }
   ],
   "source": [
    "#объединяю созданные датафреймы для расчета Retention Rate\n",
    "week_cohorts = week_cohorts.merge(initial_users_count, on = 'first_activity_week')\n",
    "week_cohorts['retention'] = week_cohorts['user_cnt'] / week_cohorts['week_cohort_users']\n",
    "week_cohorts"
   ]
  },
  {
   "cell_type": "code",
   "execution_count": 37,
   "metadata": {},
   "outputs": [
    {
     "data": {
      "text/html": [
       "<div>\n",
       "<style scoped>\n",
       "    .dataframe tbody tr th:only-of-type {\n",
       "        vertical-align: middle;\n",
       "    }\n",
       "\n",
       "    .dataframe tbody tr th {\n",
       "        vertical-align: top;\n",
       "    }\n",
       "\n",
       "    .dataframe thead th {\n",
       "        text-align: right;\n",
       "    }\n",
       "</style>\n",
       "<table border=\"1\" class=\"dataframe\">\n",
       "  <thead>\n",
       "    <tr style=\"text-align: right;\">\n",
       "      <th>week_cohort_lifetime</th>\n",
       "      <th>0</th>\n",
       "      <th>1</th>\n",
       "      <th>2</th>\n",
       "      <th>3</th>\n",
       "      <th>4</th>\n",
       "    </tr>\n",
       "    <tr>\n",
       "      <th>first_activity_week</th>\n",
       "      <th></th>\n",
       "      <th></th>\n",
       "      <th></th>\n",
       "      <th></th>\n",
       "      <th></th>\n",
       "    </tr>\n",
       "  </thead>\n",
       "  <tbody>\n",
       "    <tr>\n",
       "      <th>2019-10-03</th>\n",
       "      <td>1.0</td>\n",
       "      <td>0.270567</td>\n",
       "      <td>0.168190</td>\n",
       "      <td>0.109689</td>\n",
       "      <td>0.071298</td>\n",
       "    </tr>\n",
       "    <tr>\n",
       "      <th>2019-10-10</th>\n",
       "      <td>1.0</td>\n",
       "      <td>0.233929</td>\n",
       "      <td>0.154464</td>\n",
       "      <td>0.070536</td>\n",
       "      <td>NaN</td>\n",
       "    </tr>\n",
       "    <tr>\n",
       "      <th>2019-10-17</th>\n",
       "      <td>1.0</td>\n",
       "      <td>0.240317</td>\n",
       "      <td>0.088908</td>\n",
       "      <td>NaN</td>\n",
       "      <td>NaN</td>\n",
       "    </tr>\n",
       "    <tr>\n",
       "      <th>2019-10-24</th>\n",
       "      <td>1.0</td>\n",
       "      <td>0.173570</td>\n",
       "      <td>NaN</td>\n",
       "      <td>NaN</td>\n",
       "      <td>NaN</td>\n",
       "    </tr>\n",
       "    <tr>\n",
       "      <th>2019-10-31</th>\n",
       "      <td>1.0</td>\n",
       "      <td>NaN</td>\n",
       "      <td>NaN</td>\n",
       "      <td>NaN</td>\n",
       "      <td>NaN</td>\n",
       "    </tr>\n",
       "  </tbody>\n",
       "</table>\n",
       "</div>"
      ],
      "text/plain": [
       "week_cohort_lifetime    0         1         2         3         4\n",
       "first_activity_week                                              \n",
       "2019-10-03            1.0  0.270567  0.168190  0.109689  0.071298\n",
       "2019-10-10            1.0  0.233929  0.154464  0.070536       NaN\n",
       "2019-10-17            1.0  0.240317  0.088908       NaN       NaN\n",
       "2019-10-24            1.0  0.173570       NaN       NaN       NaN\n",
       "2019-10-31            1.0       NaN       NaN       NaN       NaN"
      ]
     },
     "execution_count": 37,
     "metadata": {},
     "output_type": "execute_result"
    }
   ],
   "source": [
    "#создаю сводную таблицу для построения тепловой карты \n",
    "retention_pivot = week_cohorts.pivot_table(index = 'first_activity_week', columns = 'week_cohort_lifetime', \\\n",
    "                                           values = 'retention', aggfunc = 'sum')\n",
    "retention_pivot"
   ]
  },
  {
   "cell_type": "code",
   "execution_count": 38,
   "metadata": {},
   "outputs": [
    {
     "data": {
      "image/png": "[encoded data removed]",
      "text/plain": [
       "<Figure size 720x720 with 2 Axes>"
      ]
     },
     "metadata": {
      "needs_background": "light"
     },
     "output_type": "display_data"
    }
   ],
   "source": [
    "plt.figure(figsize = (10,10))\n",
    "plt.title('Коэффициент удержания пользователей')\n",
    "ax = sns.heatmap(retention_pivot, annot = True, fmt = '.1%', linewidths = 1, linecolor = 'grey')\n",
    "plt.xlabel('Недели')\n",
    "plt.ylabel('Когорты')\n",
    "ax.set_yticklabels(retention_pivot.index.date)\n",
    "plt.show()"
   ]
  },
  {
   "cell_type": "code",
   "execution_count": 39,
   "metadata": {},
   "outputs": [
    {
     "name": "stdout",
     "output_type": "stream",
     "text": [
      "Средний коэффициент удержания на вторую неделю жизни когорт равен 22.96 %\n",
      "Средний коэффициент удержания на третью неделю жизни когорт равен 13.72 %\n",
      "Средний коэффициент удержания на четвертую неделю жизни когорт равен 9.01 %\n",
      "Средний коэффициент удержания на пятую неделю жизни когорт равен 7.13 %\n"
     ]
    }
   ],
   "source": [
    "#расчет среднего коэффициента удержания на вторую неделю жизни когорт\n",
    "mean_retention_second_week = ((retention_pivot[1].mean())*100).round(2)\n",
    "print('Средний коэффициент удержания на вторую неделю жизни когорт равен', mean_retention_second_week, '%')\n",
    "mean_retention_third_week = ((retention_pivot[2].mean())*100).round(2)\n",
    "print('Средний коэффициент удержания на третью неделю жизни когорт равен', mean_retention_third_week, '%')\n",
    "mean_retention_forth_week = ((retention_pivot[3].mean())*100).round(2)\n",
    "print('Средний коэффициент удержания на четвертую неделю жизни когорт равен', mean_retention_forth_week, '%')\n",
    "mean_retention_fifth_week = ((retention_pivot[4].mean())*100).round(2)\n",
    "print('Средний коэффициент удержания на пятую неделю жизни когорт равен', mean_retention_fifth_week, '%')"
   ]
  },
  {
   "cell_type": "markdown",
   "metadata": {},
   "source": [
    "**Вывод:** Разделила прользователей на когорты по неделям начала использования приложения, рассчитала коэффициент удержания пользователей по недельным когортам и построила тепловую карту. Как видно на вторую неделю жизни когорт средний коэффициент удержания пользователей - примерно четверть - около 23%, а к концу наблюдений на четвертую и пятую неделю лояльными пользователшями осталось всего около 7%. Показатель кажется низким, хотя нужно учитывать специфику приложения:  скорее всего люди пользуются им не на постоянной основе, а время от времени (купив или продав вещи)."
   ]
  },
  {
   "cell_type": "markdown",
   "metadata": {},
   "source": [
    "### Пользователи пришли в приложение из разных источников: Yandex, Google и Other, посмотрю и сравню метрики пользователей в этих группах."
   ]
  },
  {
   "cell_type": "code",
   "execution_count": 40,
   "metadata": {},
   "outputs": [
    {
     "data": {
      "text/html": [
       "<div>\n",
       "<style scoped>\n",
       "    .dataframe tbody tr th:only-of-type {\n",
       "        vertical-align: middle;\n",
       "    }\n",
       "\n",
       "    .dataframe tbody tr th {\n",
       "        vertical-align: top;\n",
       "    }\n",
       "\n",
       "    .dataframe thead th {\n",
       "        text-align: right;\n",
       "    }\n",
       "</style>\n",
       "<table border=\"1\" class=\"dataframe\">\n",
       "  <thead>\n",
       "    <tr style=\"text-align: right;\">\n",
       "      <th>week_cohort_lifetime</th>\n",
       "      <th>0</th>\n",
       "      <th>1</th>\n",
       "      <th>2</th>\n",
       "      <th>3</th>\n",
       "      <th>4</th>\n",
       "    </tr>\n",
       "    <tr>\n",
       "      <th>first_activity_week</th>\n",
       "      <th></th>\n",
       "      <th></th>\n",
       "      <th></th>\n",
       "      <th></th>\n",
       "      <th></th>\n",
       "    </tr>\n",
       "  </thead>\n",
       "  <tbody>\n",
       "    <tr>\n",
       "      <th>2019-10-03</th>\n",
       "      <td>1.0</td>\n",
       "      <td>0.253521</td>\n",
       "      <td>0.119718</td>\n",
       "      <td>0.112676</td>\n",
       "      <td>0.084507</td>\n",
       "    </tr>\n",
       "    <tr>\n",
       "      <th>2019-10-10</th>\n",
       "      <td>1.0</td>\n",
       "      <td>0.243056</td>\n",
       "      <td>0.145833</td>\n",
       "      <td>0.069444</td>\n",
       "      <td>NaN</td>\n",
       "    </tr>\n",
       "    <tr>\n",
       "      <th>2019-10-17</th>\n",
       "      <td>1.0</td>\n",
       "      <td>0.226300</td>\n",
       "      <td>0.079511</td>\n",
       "      <td>NaN</td>\n",
       "      <td>NaN</td>\n",
       "    </tr>\n",
       "    <tr>\n",
       "      <th>2019-10-24</th>\n",
       "      <td>1.0</td>\n",
       "      <td>0.174797</td>\n",
       "      <td>NaN</td>\n",
       "      <td>NaN</td>\n",
       "      <td>NaN</td>\n",
       "    </tr>\n",
       "    <tr>\n",
       "      <th>2019-10-31</th>\n",
       "      <td>1.0</td>\n",
       "      <td>NaN</td>\n",
       "      <td>NaN</td>\n",
       "      <td>NaN</td>\n",
       "      <td>NaN</td>\n",
       "    </tr>\n",
       "  </tbody>\n",
       "</table>\n",
       "</div>"
      ],
      "text/plain": [
       "week_cohort_lifetime    0         1         2         3         4\n",
       "first_activity_week                                              \n",
       "2019-10-03            1.0  0.253521  0.119718  0.112676  0.084507\n",
       "2019-10-10            1.0  0.243056  0.145833  0.069444       NaN\n",
       "2019-10-17            1.0  0.226300  0.079511       NaN       NaN\n",
       "2019-10-24            1.0  0.174797       NaN       NaN       NaN\n",
       "2019-10-31            1.0       NaN       NaN       NaN       NaN"
      ]
     },
     "execution_count": 40,
     "metadata": {},
     "output_type": "execute_result"
    }
   ],
   "source": [
    "#создаю датафрейм с недельнымим когортами для источника привлечения пользователей Google, используя ранее рассчитанные показатели\n",
    "google_cohorts = mobile_app.query('source == \"google\"').groupby(['first_activity_week', 'week_cohort_lifetime'])\\\n",
    ".agg({'user_id': 'nunique'}).reset_index()\n",
    "google_cohorts = google_cohorts.rename(columns = {'user_id': 'google_user_cnt'})\n",
    "#далее повторяю все расчеты для retation rate, что были ранее\n",
    "\n",
    "#считаю число пользователей на нулевой месяц lifetime\n",
    "google_initial_users_count = google_cohorts[google_cohorts['week_cohort_lifetime'] == 0][['first_activity_week', \\\n",
    "                                                                                          'google_user_cnt']]\n",
    "google_initial_users_count = google_initial_users_count.rename(columns={'google_user_cnt': 'google_cohort_users'})\n",
    "\n",
    "#объединяю созданные датафреймы для расчета Retention Rate\n",
    "google_cohorts = google_cohorts.merge(google_initial_users_count, on = 'first_activity_week')\n",
    "google_cohorts['retention'] = google_cohorts['google_user_cnt'] / google_cohorts['google_cohort_users']\n",
    "\n",
    "#создаю сводную таблицу для построения тепловой карты \n",
    "google_retention_pivot = google_cohorts.pivot_table(index = 'first_activity_week', columns = 'week_cohort_lifetime',\\\n",
    "                                                    values = 'retention', aggfunc = 'sum')\n",
    "google_retention_pivot"
   ]
  },
  {
   "cell_type": "code",
   "execution_count": 41,
   "metadata": {},
   "outputs": [
    {
     "data": {
      "image/png": "[encoded data removed]",
      "text/plain": [
       "<Figure size 504x504 with 2 Axes>"
      ]
     },
     "metadata": {
      "needs_background": "light"
     },
     "output_type": "display_data"
    }
   ],
   "source": [
    "plt.figure(figsize = (7,7))\n",
    "plt.title('Коэффициент удержания пользователей из Google')\n",
    "ax = sns.heatmap(google_retention_pivot, annot = True, fmt = '.1%', linewidths = 1, linecolor = 'grey')\n",
    "plt.xlabel('Недели')\n",
    "plt.ylabel('Когорты')\n",
    "ax.set_yticklabels(google_retention_pivot.index.date)\n",
    "plt.show()"
   ]
  },
  {
   "cell_type": "code",
   "execution_count": 42,
   "metadata": {},
   "outputs": [
    {
     "name": "stdout",
     "output_type": "stream",
     "text": [
      "Средний коэффициент удержания на вторую неделю жизни когорт источника Google равен 22.44 %\n",
      "Средний коэффициент удержания на третью неделю жизни когорт источника Google равен 11.5 %\n",
      "Средний коэффициент удержания на четвертую неделю жизни когорт источника Google равен 9.11 %\n",
      "Средний коэффициент удержания на пятую неделю жизни когорт источника Google равен 8.45 %\n"
     ]
    }
   ],
   "source": [
    "#расчет среднего коэффициента удержания на вторую неделю жизни когорт для источника Google\n",
    "mean_google_retention_second_week = ((google_retention_pivot[1].mean())*100).round(2)\n",
    "print('Средний коэффициент удержания на вторую неделю жизни когорт источника Google равен', mean_google_retention_second_week,\\\n",
    "      '%')\n",
    "mean_google_retention_third_week = ((google_retention_pivot[2].mean())*100).round(2)\n",
    "print('Средний коэффициент удержания на третью неделю жизни когорт источника Google равен', mean_google_retention_third_week,\\\n",
    "      '%')\n",
    "mean_google_retention_forth_week = ((google_retention_pivot[3].mean())*100).round(2)\n",
    "print('Средний коэффициент удержания на четвертую неделю жизни когорт источника Google равен', mean_google_retention_forth_week,\\\n",
    "      '%')\n",
    "mean_google_retention_fifth_week = ((google_retention_pivot[4].mean())*100).round(2)\n",
    "print('Средний коэффициент удержания на пятую неделю жизни когорт источника Google равен', mean_google_retention_fifth_week,\\\n",
    "      '%')"
   ]
  },
  {
   "cell_type": "markdown",
   "metadata": {},
   "source": [
    "**Yandex - аналогичный анализ проведем для Яндекс**"
   ]
  },
  {
   "cell_type": "code",
   "execution_count": 43,
   "metadata": {},
   "outputs": [
    {
     "data": {
      "text/html": [
       "<div>\n",
       "<style scoped>\n",
       "    .dataframe tbody tr th:only-of-type {\n",
       "        vertical-align: middle;\n",
       "    }\n",
       "\n",
       "    .dataframe tbody tr th {\n",
       "        vertical-align: top;\n",
       "    }\n",
       "\n",
       "    .dataframe thead th {\n",
       "        text-align: right;\n",
       "    }\n",
       "</style>\n",
       "<table border=\"1\" class=\"dataframe\">\n",
       "  <thead>\n",
       "    <tr style=\"text-align: right;\">\n",
       "      <th>week_cohort_lifetime</th>\n",
       "      <th>0</th>\n",
       "      <th>1</th>\n",
       "      <th>2</th>\n",
       "      <th>3</th>\n",
       "      <th>4</th>\n",
       "    </tr>\n",
       "    <tr>\n",
       "      <th>first_activity_week</th>\n",
       "      <th></th>\n",
       "      <th></th>\n",
       "      <th></th>\n",
       "      <th></th>\n",
       "      <th></th>\n",
       "    </tr>\n",
       "  </thead>\n",
       "  <tbody>\n",
       "    <tr>\n",
       "      <th>2019-10-03</th>\n",
       "      <td>1.0</td>\n",
       "      <td>0.275304</td>\n",
       "      <td>0.165992</td>\n",
       "      <td>0.093117</td>\n",
       "      <td>0.05668</td>\n",
       "    </tr>\n",
       "    <tr>\n",
       "      <th>2019-10-10</th>\n",
       "      <td>1.0</td>\n",
       "      <td>0.237452</td>\n",
       "      <td>0.150579</td>\n",
       "      <td>0.067568</td>\n",
       "      <td>NaN</td>\n",
       "    </tr>\n",
       "    <tr>\n",
       "      <th>2019-10-17</th>\n",
       "      <td>1.0</td>\n",
       "      <td>0.236473</td>\n",
       "      <td>0.078156</td>\n",
       "      <td>NaN</td>\n",
       "      <td>NaN</td>\n",
       "    </tr>\n",
       "    <tr>\n",
       "      <th>2019-10-24</th>\n",
       "      <td>1.0</td>\n",
       "      <td>0.158009</td>\n",
       "      <td>NaN</td>\n",
       "      <td>NaN</td>\n",
       "      <td>NaN</td>\n",
       "    </tr>\n",
       "    <tr>\n",
       "      <th>2019-10-31</th>\n",
       "      <td>1.0</td>\n",
       "      <td>NaN</td>\n",
       "      <td>NaN</td>\n",
       "      <td>NaN</td>\n",
       "      <td>NaN</td>\n",
       "    </tr>\n",
       "  </tbody>\n",
       "</table>\n",
       "</div>"
      ],
      "text/plain": [
       "week_cohort_lifetime    0         1         2         3        4\n",
       "first_activity_week                                             \n",
       "2019-10-03            1.0  0.275304  0.165992  0.093117  0.05668\n",
       "2019-10-10            1.0  0.237452  0.150579  0.067568      NaN\n",
       "2019-10-17            1.0  0.236473  0.078156       NaN      NaN\n",
       "2019-10-24            1.0  0.158009       NaN       NaN      NaN\n",
       "2019-10-31            1.0       NaN       NaN       NaN      NaN"
      ]
     },
     "execution_count": 43,
     "metadata": {},
     "output_type": "execute_result"
    }
   ],
   "source": [
    "#аналогичный анализ проведем для Яндекс\n",
    "#создаю датафрейм с недельнымим когортами для источника привлечения пользователей Yandex, используя ранее рассчитанные показатели\n",
    "yandex_cohorts = mobile_app.query('source == \"yandex\"').groupby(['first_activity_week', 'week_cohort_lifetime'])\\\n",
    ".agg({'user_id': 'nunique'}).reset_index()\n",
    "yandex_cohorts = yandex_cohorts.rename(columns = {'user_id': 'yandex_user_cnt'})\n",
    "#далее повторяю все расчеты для retation rate, что были ранее\n",
    "\n",
    "#считаю число пользователей на нулевой месяц lifetime\n",
    "yandex_initial_users_count = yandex_cohorts[yandex_cohorts['week_cohort_lifetime'] == 0][['first_activity_week', \\\n",
    "                                                                                          'yandex_user_cnt']]\n",
    "yandex_initial_users_count = yandex_initial_users_count.rename(columns={'yandex_user_cnt': 'yandex_cohort_users'})\n",
    "\n",
    "#объединяю созданные датафреймы для расчета Retention Rate\n",
    "yandex_cohorts = yandex_cohorts.merge(yandex_initial_users_count, on = 'first_activity_week')\n",
    "yandex_cohorts['retention'] = yandex_cohorts['yandex_user_cnt'] / yandex_cohorts['yandex_cohort_users']\n",
    "\n",
    "#создаю сводную таблицу для построения тепловой карты \n",
    "yandex_retention_pivot = yandex_cohorts.pivot_table(index = 'first_activity_week', columns = 'week_cohort_lifetime',\\\n",
    "                                                    values = 'retention', aggfunc = 'sum')\n",
    "yandex_retention_pivot"
   ]
  },
  {
   "cell_type": "code",
   "execution_count": 44,
   "metadata": {},
   "outputs": [
    {
     "data": {
      "image/png": "[encoded data removed]",
      "text/plain": [
       "<Figure size 504x504 with 2 Axes>"
      ]
     },
     "metadata": {
      "needs_background": "light"
     },
     "output_type": "display_data"
    }
   ],
   "source": [
    "plt.figure(figsize = (7,7))\n",
    "plt.title('Коэффициент удержания пользователей из Yandex')\n",
    "ax = sns.heatmap(yandex_retention_pivot, annot = True, fmt = '.1%', linewidths = 1, linecolor = 'grey')\n",
    "plt.xlabel('Недели')\n",
    "plt.ylabel('Когорты')\n",
    "ax.set_yticklabels(yandex_retention_pivot.index.date)\n",
    "plt.show()"
   ]
  },
  {
   "cell_type": "code",
   "execution_count": 45,
   "metadata": {},
   "outputs": [
    {
     "name": "stdout",
     "output_type": "stream",
     "text": [
      "Средний коэффициент удержания на вторую неделю жизни когорт источника Yandex равен 22.68 %\n",
      "Средний коэффициент удержания на третью неделю жизни когорт источника Yandex равен 13.16 %\n",
      "Средний коэффициент удержания на четвертую неделю жизни когорт источника Yandex равен 8.03 %\n",
      "Средний коэффициент удержания на пятую неделю жизни когорт источника Yandex равен 5.67 %\n"
     ]
    }
   ],
   "source": [
    "#расчет среднего коэффициента удержания на вторую неделю жизни когорт для источника Google\n",
    "mean_yandex_retention_second_week = ((yandex_retention_pivot[1].mean())*100).round(2)\n",
    "print('Средний коэффициент удержания на вторую неделю жизни когорт источника Yandex равен', mean_yandex_retention_second_week,\\\n",
    "      '%')\n",
    "mean_yandex_retention_third_week = ((yandex_retention_pivot[2].mean())*100).round(2)\n",
    "print('Средний коэффициент удержания на третью неделю жизни когорт источника Yandex равен', mean_yandex_retention_third_week,\\\n",
    "      '%')\n",
    "mean_yandex_retention_forth_week = ((yandex_retention_pivot[3].mean())*100).round(2)\n",
    "print('Средний коэффициент удержания на четвертую неделю жизни когорт источника Yandex равен', mean_yandex_retention_forth_week,\\\n",
    "      '%')\n",
    "mean_yandex_retention_fifth_week = ((yandex_retention_pivot[4].mean())*100).round(2)\n",
    "print('Средний коэффициент удержания на пятую неделю жизни когорт источника Yandex равен', mean_yandex_retention_fifth_week,\\\n",
    "      '%')"
   ]
  },
  {
   "cell_type": "markdown",
   "metadata": {},
   "source": [
    "**Other - аналогичный анализ проведем для источника Other**"
   ]
  },
  {
   "cell_type": "code",
   "execution_count": 46,
   "metadata": {},
   "outputs": [
    {
     "data": {
      "text/html": [
       "<div>\n",
       "<style scoped>\n",
       "    .dataframe tbody tr th:only-of-type {\n",
       "        vertical-align: middle;\n",
       "    }\n",
       "\n",
       "    .dataframe tbody tr th {\n",
       "        vertical-align: top;\n",
       "    }\n",
       "\n",
       "    .dataframe thead th {\n",
       "        text-align: right;\n",
       "    }\n",
       "</style>\n",
       "<table border=\"1\" class=\"dataframe\">\n",
       "  <thead>\n",
       "    <tr style=\"text-align: right;\">\n",
       "      <th>week_cohort_lifetime</th>\n",
       "      <th>0</th>\n",
       "      <th>1</th>\n",
       "      <th>2</th>\n",
       "      <th>3</th>\n",
       "      <th>4</th>\n",
       "    </tr>\n",
       "    <tr>\n",
       "      <th>first_activity_week</th>\n",
       "      <th></th>\n",
       "      <th></th>\n",
       "      <th></th>\n",
       "      <th></th>\n",
       "      <th></th>\n",
       "    </tr>\n",
       "  </thead>\n",
       "  <tbody>\n",
       "    <tr>\n",
       "      <th>2019-10-03</th>\n",
       "      <td>1.0</td>\n",
       "      <td>0.278481</td>\n",
       "      <td>0.215190</td>\n",
       "      <td>0.132911</td>\n",
       "      <td>0.082278</td>\n",
       "    </tr>\n",
       "    <tr>\n",
       "      <th>2019-10-10</th>\n",
       "      <td>1.0</td>\n",
       "      <td>0.219745</td>\n",
       "      <td>0.168790</td>\n",
       "      <td>0.076433</td>\n",
       "      <td>NaN</td>\n",
       "    </tr>\n",
       "    <tr>\n",
       "      <th>2019-10-17</th>\n",
       "      <td>1.0</td>\n",
       "      <td>0.261290</td>\n",
       "      <td>0.116129</td>\n",
       "      <td>NaN</td>\n",
       "      <td>NaN</td>\n",
       "    </tr>\n",
       "    <tr>\n",
       "      <th>2019-10-24</th>\n",
       "      <td>1.0</td>\n",
       "      <td>0.196078</td>\n",
       "      <td>NaN</td>\n",
       "      <td>NaN</td>\n",
       "      <td>NaN</td>\n",
       "    </tr>\n",
       "    <tr>\n",
       "      <th>2019-10-31</th>\n",
       "      <td>1.0</td>\n",
       "      <td>NaN</td>\n",
       "      <td>NaN</td>\n",
       "      <td>NaN</td>\n",
       "      <td>NaN</td>\n",
       "    </tr>\n",
       "  </tbody>\n",
       "</table>\n",
       "</div>"
      ],
      "text/plain": [
       "week_cohort_lifetime    0         1         2         3         4\n",
       "first_activity_week                                              \n",
       "2019-10-03            1.0  0.278481  0.215190  0.132911  0.082278\n",
       "2019-10-10            1.0  0.219745  0.168790  0.076433       NaN\n",
       "2019-10-17            1.0  0.261290  0.116129       NaN       NaN\n",
       "2019-10-24            1.0  0.196078       NaN       NaN       NaN\n",
       "2019-10-31            1.0       NaN       NaN       NaN       NaN"
      ]
     },
     "execution_count": 46,
     "metadata": {},
     "output_type": "execute_result"
    }
   ],
   "source": [
    "#создаю датафрейм с недельнымим когортами для источника привлечения пользователей Other, используя ранее рассчитанные показатели\n",
    "other_cohorts = mobile_app.query('source == \"other\"').groupby(['first_activity_week', 'week_cohort_lifetime'])\\\n",
    ".agg({'user_id': 'nunique'}).reset_index()\n",
    "other_cohorts = other_cohorts.rename(columns = {'user_id': 'other_user_cnt'})\n",
    "#далее повторяю все расчеты для retation rate, что были ранее\n",
    "\n",
    "#считаю число пользователей на нулевой месяц lifetime\n",
    "other_initial_users_count = other_cohorts[other_cohorts['week_cohort_lifetime'] == 0][['first_activity_week', \\\n",
    "                                                                                          'other_user_cnt']]\n",
    "other_initial_users_count = other_initial_users_count.rename(columns={'other_user_cnt': 'other_cohort_users'})\n",
    "\n",
    "#объединяю созданные датафреймы для расчета Retention Rate\n",
    "other_cohorts = other_cohorts.merge(other_initial_users_count, on = 'first_activity_week')\n",
    "other_cohorts['retention'] = other_cohorts['other_user_cnt'] / other_cohorts['other_cohort_users']\n",
    "\n",
    "#создаю сводную таблицу для построения тепловой карты \n",
    "other_retention_pivot = other_cohorts.pivot_table(index = 'first_activity_week', columns = 'week_cohort_lifetime',\\\n",
    "                                                    values = 'retention', aggfunc = 'sum')\n",
    "other_retention_pivot"
   ]
  },
  {
   "cell_type": "code",
   "execution_count": 47,
   "metadata": {},
   "outputs": [
    {
     "data": {
      "image/png": "[encoded data removed]",
      "text/plain": [
       "<Figure size 504x504 with 2 Axes>"
      ]
     },
     "metadata": {
      "needs_background": "light"
     },
     "output_type": "display_data"
    }
   ],
   "source": [
    "plt.figure(figsize = (7,7))\n",
    "plt.title('Коэффициент удержания пользователей из Other')\n",
    "ax = sns.heatmap(other_retention_pivot, annot = True, fmt = '.1%', linewidths = 1, linecolor = 'grey')\n",
    "plt.xlabel('Недели')\n",
    "plt.ylabel('Когорты')\n",
    "ax.set_yticklabels(other_retention_pivot.index.date)\n",
    "plt.show()"
   ]
  },
  {
   "cell_type": "code",
   "execution_count": 48,
   "metadata": {},
   "outputs": [
    {
     "name": "stdout",
     "output_type": "stream",
     "text": [
      "Средний коэффициент удержания на вторую неделю жизни когорт источника Other равен 23.89 %\n",
      "Средний коэффициент удержания на третью неделю жизни когорт источника Other равен 16.67 %\n",
      "Средний коэффициент удержания на четвертую неделю жизни когорт источника Other равен 10.47 %\n",
      "Средний коэффициент удержания на пятую неделю жизни когорт источника Other равен 8.23 %\n"
     ]
    }
   ],
   "source": [
    "#расчет среднего коэффициента удержания на вторую неделю жизни когорт для источника Google\n",
    "mean_other_retention_second_week = ((other_retention_pivot[1].mean())*100).round(2)\n",
    "print('Средний коэффициент удержания на вторую неделю жизни когорт источника Other равен', mean_other_retention_second_week,\\\n",
    "      '%')\n",
    "mean_other_retention_third_week = ((other_retention_pivot[2].mean())*100).round(2)\n",
    "print('Средний коэффициент удержания на третью неделю жизни когорт источника Other равен', mean_other_retention_third_week,\\\n",
    "      '%')\n",
    "mean_other_retention_forth_week = ((other_retention_pivot[3].mean())*100).round(2)\n",
    "print('Средний коэффициент удержания на четвертую неделю жизни когорт источника Other равен', mean_other_retention_forth_week,\\\n",
    "      '%')\n",
    "mean_other_retention_fifth_week = ((other_retention_pivot[4].mean())*100).round(2)\n",
    "print('Средний коэффициент удержания на пятую неделю жизни когорт источника Other равен', mean_other_retention_fifth_week,\\\n",
    "      '%')"
   ]
  },
  {
   "cell_type": "markdown",
   "metadata": {},
   "source": [
    "**Вывод:** визуализации и расчеты позволяют говорить о том, что коэффициент удержания пользователей, скачавших приложение из разных источников, примерно одинаковый, но чуть лучше смотрится источник Other. Можно сделать предварительный вывод о том, что источник, откуда пришли пользователи, не особо влияет на поведение пользователей в приложении."
   ]
  },
  {
   "cell_type": "markdown",
   "metadata": {},
   "source": [
    "### Время, проведенное в приложении"
   ]
  },
  {
   "cell_type": "code",
   "execution_count": 49,
   "metadata": {},
   "outputs": [
    {
     "data": {
      "text/html": [
       "<div>\n",
       "<style scoped>\n",
       "    .dataframe tbody tr th:only-of-type {\n",
       "        vertical-align: middle;\n",
       "    }\n",
       "\n",
       "    .dataframe tbody tr th {\n",
       "        vertical-align: top;\n",
       "    }\n",
       "\n",
       "    .dataframe thead th {\n",
       "        text-align: right;\n",
       "    }\n",
       "</style>\n",
       "<table border=\"1\" class=\"dataframe\">\n",
       "  <thead>\n",
       "    <tr style=\"text-align: right;\">\n",
       "      <th></th>\n",
       "      <th>source</th>\n",
       "      <th>user_id</th>\n",
       "      <th>session_duration</th>\n",
       "    </tr>\n",
       "  </thead>\n",
       "  <tbody>\n",
       "    <tr>\n",
       "      <th>0</th>\n",
       "      <td>google</td>\n",
       "      <td>004690c3-5a84-4bb7-a8af-e0c8f8fca64e</td>\n",
       "      <td>84490</td>\n",
       "    </tr>\n",
       "    <tr>\n",
       "      <th>1</th>\n",
       "      <td>google</td>\n",
       "      <td>00653802-5ff1-4071-bc17-347fc4cef569</td>\n",
       "      <td>511</td>\n",
       "    </tr>\n",
       "    <tr>\n",
       "      <th>2</th>\n",
       "      <td>google</td>\n",
       "      <td>00a93a72-3bbc-4ee7-8a81-7134f45ae009</td>\n",
       "      <td>770</td>\n",
       "    </tr>\n",
       "    <tr>\n",
       "      <th>3</th>\n",
       "      <td>google</td>\n",
       "      <td>00af35c4-2045-4960-96b8-7fd5f1978a88</td>\n",
       "      <td>358</td>\n",
       "    </tr>\n",
       "    <tr>\n",
       "      <th>4</th>\n",
       "      <td>google</td>\n",
       "      <td>01147bf8-cd48-49c0-a5af-3f6eb45f8262</td>\n",
       "      <td>4148</td>\n",
       "    </tr>\n",
       "    <tr>\n",
       "      <th>...</th>\n",
       "      <td>...</td>\n",
       "      <td>...</td>\n",
       "      <td>...</td>\n",
       "    </tr>\n",
       "    <tr>\n",
       "      <th>4288</th>\n",
       "      <td>yandex</td>\n",
       "      <td>ff5c152c-bd63-4797-8fa2-29987199e76d</td>\n",
       "      <td>1049</td>\n",
       "    </tr>\n",
       "    <tr>\n",
       "      <th>4289</th>\n",
       "      <td>yandex</td>\n",
       "      <td>ff82c7c7-16d6-44b1-833b-a217747b0b02</td>\n",
       "      <td>76714</td>\n",
       "    </tr>\n",
       "    <tr>\n",
       "      <th>4290</th>\n",
       "      <td>yandex</td>\n",
       "      <td>ffab8d8a-30bb-424a-a3ab-0b63ebbf7b07</td>\n",
       "      <td>13344</td>\n",
       "    </tr>\n",
       "    <tr>\n",
       "      <th>4291</th>\n",
       "      <td>yandex</td>\n",
       "      <td>ffc01466-fdb1-4460-ae94-e800f52eb136</td>\n",
       "      <td>53</td>\n",
       "    </tr>\n",
       "    <tr>\n",
       "      <th>4292</th>\n",
       "      <td>yandex</td>\n",
       "      <td>ffe68f10-e48e-470e-be9b-eeb93128ff1a</td>\n",
       "      <td>52699</td>\n",
       "    </tr>\n",
       "  </tbody>\n",
       "</table>\n",
       "<p>4293 rows × 3 columns</p>\n",
       "</div>"
      ],
      "text/plain": [
       "      source                               user_id  session_duration\n",
       "0     google  004690c3-5a84-4bb7-a8af-e0c8f8fca64e             84490\n",
       "1     google  00653802-5ff1-4071-bc17-347fc4cef569               511\n",
       "2     google  00a93a72-3bbc-4ee7-8a81-7134f45ae009               770\n",
       "3     google  00af35c4-2045-4960-96b8-7fd5f1978a88               358\n",
       "4     google  01147bf8-cd48-49c0-a5af-3f6eb45f8262              4148\n",
       "...      ...                                   ...               ...\n",
       "4288  yandex  ff5c152c-bd63-4797-8fa2-29987199e76d              1049\n",
       "4289  yandex  ff82c7c7-16d6-44b1-833b-a217747b0b02             76714\n",
       "4290  yandex  ffab8d8a-30bb-424a-a3ab-0b63ebbf7b07             13344\n",
       "4291  yandex  ffc01466-fdb1-4460-ae94-e800f52eb136                53\n",
       "4292  yandex  ffe68f10-e48e-470e-be9b-eeb93128ff1a             52699\n",
       "\n",
       "[4293 rows x 3 columns]"
      ]
     },
     "execution_count": 49,
     "metadata": {},
     "output_type": "execute_result"
    }
   ],
   "source": [
    "#строю датасет с группировкой по источникам, чтоб посчитать среднюю пользовательскую сессию для групп пользователей\n",
    "source_duration = mobile_app.groupby(['source', 'user_id']).agg({'session_duration': 'first'}).reset_index()\n",
    "source_duration"
   ]
  },
  {
   "cell_type": "code",
   "execution_count": 50,
   "metadata": {},
   "outputs": [
    {
     "data": {
      "text/html": [
       "<div>\n",
       "<style scoped>\n",
       "    .dataframe tbody tr th:only-of-type {\n",
       "        vertical-align: middle;\n",
       "    }\n",
       "\n",
       "    .dataframe tbody tr th {\n",
       "        vertical-align: top;\n",
       "    }\n",
       "\n",
       "    .dataframe thead th {\n",
       "        text-align: right;\n",
       "    }\n",
       "</style>\n",
       "<table border=\"1\" class=\"dataframe\">\n",
       "  <thead>\n",
       "    <tr style=\"text-align: right;\">\n",
       "      <th></th>\n",
       "      <th>source</th>\n",
       "      <th>user_id</th>\n",
       "      <th>session_duration</th>\n",
       "    </tr>\n",
       "  </thead>\n",
       "  <tbody>\n",
       "    <tr>\n",
       "      <th>0</th>\n",
       "      <td>google</td>\n",
       "      <td>1129</td>\n",
       "      <td>2453.0</td>\n",
       "    </tr>\n",
       "    <tr>\n",
       "      <th>1</th>\n",
       "      <td>other</td>\n",
       "      <td>1230</td>\n",
       "      <td>2192.0</td>\n",
       "    </tr>\n",
       "    <tr>\n",
       "      <th>2</th>\n",
       "      <td>yandex</td>\n",
       "      <td>1934</td>\n",
       "      <td>2094.5</td>\n",
       "    </tr>\n",
       "  </tbody>\n",
       "</table>\n",
       "</div>"
      ],
      "text/plain": [
       "   source  user_id  session_duration\n",
       "0  google     1129            2453.0\n",
       "1   other     1230            2192.0\n",
       "2  yandex     1934            2094.5"
      ]
     },
     "execution_count": 50,
     "metadata": {},
     "output_type": "execute_result"
    }
   ],
   "source": [
    "source_users_session = source_duration.groupby('source').agg({'user_id': 'count', 'session_duration': 'median'}).reset_index()\n",
    "source_users_session"
   ]
  },
  {
   "cell_type": "code",
   "execution_count": 51,
   "metadata": {},
   "outputs": [
    {
     "data": {
      "image/png": "[encoded data removed]",
      "text/plain": [
       "<Figure size 504x360 with 1 Axes>"
      ]
     },
     "metadata": {
      "needs_background": "light"
     },
     "output_type": "display_data"
    }
   ],
   "source": [
    "plt.figure(figsize=(7,5))\n",
    "plt.bar(source_users_session['source'], source_users_session['user_id'], color = '#125638') \n",
    "plt.title('Распределение количества пользователей по типам источников:', fontsize=15)\n",
    "plt.xticks(fontsize = 15)\n",
    "plt.yticks(fontsize = 13)\n",
    "plt.xlabel('Тип источника', fontsize=12)\n",
    "plt.ylabel('Число пользователей, ед', fontsize=12)\n",
    "plt.show()"
   ]
  },
  {
   "cell_type": "code",
   "execution_count": 52,
   "metadata": {},
   "outputs": [
    {
     "data": {
      "image/png": "[encoded data removed]",
      "text/plain": [
       "<Figure size 504x504 with 1 Axes>"
      ]
     },
     "metadata": {
      "needs_background": "light"
     },
     "output_type": "display_data"
    }
   ],
   "source": [
    "plt.figure(figsize = (7, 7))\n",
    "ax = sns.boxplot(x = \"source\", y = \"session_duration\", data = source_duration, palette = \"magma_r\")\n",
    "ax.set_ylim([-1000, 54000])\n",
    "plt.title('Длительность пользовательской сессии по типам источников:', fontsize=15)\n",
    "plt.xlabel('Тип источника', fontsize=12)\n",
    "plt.ylabel('Число пользователей, ед', fontsize=12)\n",
    "plt.show()"
   ]
  },
  {
   "cell_type": "markdown",
   "metadata": {},
   "source": [
    "**Вывод:** средняя пользовательская сессия наибольшая у тех, кто скачал приложение из Google - около 41 минуты, далее идут остальные источники - 36,5 минут и потом пользователи, скачавшие приложение из Яндекса - почти 35 минут. Также стоит отметить, что наибольшее число пользователей скачало мобильное приложение именно из Яндекса. Также видно, что длительность пользовательской сессии по типам источников, откуда пользователи скачали приложение, примерно одинаковая."
   ]
  },
  {
   "cell_type": "markdown",
   "metadata": {},
   "source": [
    "### Частота действий"
   ]
  },
  {
   "cell_type": "code",
   "execution_count": 53,
   "metadata": {},
   "outputs": [
    {
     "data": {
      "text/html": [
       "<div>\n",
       "<style scoped>\n",
       "    .dataframe tbody tr th:only-of-type {\n",
       "        vertical-align: middle;\n",
       "    }\n",
       "\n",
       "    .dataframe tbody tr th {\n",
       "        vertical-align: top;\n",
       "    }\n",
       "\n",
       "    .dataframe thead th {\n",
       "        text-align: right;\n",
       "    }\n",
       "</style>\n",
       "<table border=\"1\" class=\"dataframe\">\n",
       "  <thead>\n",
       "    <tr style=\"text-align: right;\">\n",
       "      <th></th>\n",
       "      <th>source</th>\n",
       "      <th>event_name</th>\n",
       "      <th>user_cnt</th>\n",
       "    </tr>\n",
       "  </thead>\n",
       "  <tbody>\n",
       "    <tr>\n",
       "      <th>0</th>\n",
       "      <td>google</td>\n",
       "      <td>advert_open</td>\n",
       "      <td>1621</td>\n",
       "    </tr>\n",
       "    <tr>\n",
       "      <th>1</th>\n",
       "      <td>google</td>\n",
       "      <td>contacts_call</td>\n",
       "      <td>163</td>\n",
       "    </tr>\n",
       "    <tr>\n",
       "      <th>2</th>\n",
       "      <td>google</td>\n",
       "      <td>contacts_show</td>\n",
       "      <td>1440</td>\n",
       "    </tr>\n",
       "    <tr>\n",
       "      <th>3</th>\n",
       "      <td>google</td>\n",
       "      <td>favorites_add</td>\n",
       "      <td>415</td>\n",
       "    </tr>\n",
       "    <tr>\n",
       "      <th>4</th>\n",
       "      <td>google</td>\n",
       "      <td>map</td>\n",
       "      <td>1028</td>\n",
       "    </tr>\n",
       "  </tbody>\n",
       "</table>\n",
       "</div>"
      ],
      "text/plain": [
       "   source     event_name  user_cnt\n",
       "0  google    advert_open      1621\n",
       "1  google  contacts_call       163\n",
       "2  google  contacts_show      1440\n",
       "3  google  favorites_add       415\n",
       "4  google            map      1028"
      ]
     },
     "execution_count": 53,
     "metadata": {},
     "output_type": "execute_result"
    }
   ],
   "source": [
    "#считаю количество действий для каждого источника по типам событий \n",
    "freq = mobile_app.groupby(['source', 'event_name']).agg({'user_id': 'count'}).reset_index().\\\n",
    "rename(columns = {'user_id': 'user_cnt'})\n",
    "freq.head()"
   ]
  },
  {
   "cell_type": "code",
   "execution_count": 54,
   "metadata": {},
   "outputs": [
    {
     "data": {
      "text/html": [
       "<div>\n",
       "<style scoped>\n",
       "    .dataframe tbody tr th:only-of-type {\n",
       "        vertical-align: middle;\n",
       "    }\n",
       "\n",
       "    .dataframe tbody tr th {\n",
       "        vertical-align: top;\n",
       "    }\n",
       "\n",
       "    .dataframe thead th {\n",
       "        text-align: right;\n",
       "    }\n",
       "</style>\n",
       "<table border=\"1\" class=\"dataframe\">\n",
       "  <thead>\n",
       "    <tr style=\"text-align: right;\">\n",
       "      <th>event_name</th>\n",
       "      <th>advert_open</th>\n",
       "      <th>contacts_call</th>\n",
       "      <th>contacts_show</th>\n",
       "      <th>favorites_add</th>\n",
       "      <th>map</th>\n",
       "      <th>photos_show</th>\n",
       "      <th>search</th>\n",
       "      <th>tips_click</th>\n",
       "      <th>tips_show</th>\n",
       "    </tr>\n",
       "    <tr>\n",
       "      <th>source</th>\n",
       "      <th></th>\n",
       "      <th></th>\n",
       "      <th></th>\n",
       "      <th></th>\n",
       "      <th></th>\n",
       "      <th></th>\n",
       "      <th></th>\n",
       "      <th></th>\n",
       "      <th></th>\n",
       "    </tr>\n",
       "  </thead>\n",
       "  <tbody>\n",
       "    <tr>\n",
       "      <th>google</th>\n",
       "      <td>1621</td>\n",
       "      <td>163</td>\n",
       "      <td>1440</td>\n",
       "      <td>415</td>\n",
       "      <td>1028</td>\n",
       "      <td>3466</td>\n",
       "      <td>2144</td>\n",
       "      <td>190</td>\n",
       "      <td>9978</td>\n",
       "    </tr>\n",
       "    <tr>\n",
       "      <th>other</th>\n",
       "      <td>1918</td>\n",
       "      <td>152</td>\n",
       "      <td>1054</td>\n",
       "      <td>259</td>\n",
       "      <td>910</td>\n",
       "      <td>2862</td>\n",
       "      <td>1958</td>\n",
       "      <td>228</td>\n",
       "      <td>10125</td>\n",
       "    </tr>\n",
       "    <tr>\n",
       "      <th>yandex</th>\n",
       "      <td>2625</td>\n",
       "      <td>226</td>\n",
       "      <td>2035</td>\n",
       "      <td>743</td>\n",
       "      <td>1943</td>\n",
       "      <td>3684</td>\n",
       "      <td>2682</td>\n",
       "      <td>396</td>\n",
       "      <td>19952</td>\n",
       "    </tr>\n",
       "  </tbody>\n",
       "</table>\n",
       "</div>"
      ],
      "text/plain": [
       "event_name  advert_open  contacts_call  contacts_show  favorites_add   map  \\\n",
       "source                                                                       \n",
       "google             1621            163           1440            415  1028   \n",
       "other              1918            152           1054            259   910   \n",
       "yandex             2625            226           2035            743  1943   \n",
       "\n",
       "event_name  photos_show  search  tips_click  tips_show  \n",
       "source                                                  \n",
       "google             3466    2144         190       9978  \n",
       "other              2862    1958         228      10125  \n",
       "yandex             3684    2682         396      19952  "
      ]
     },
     "execution_count": 54,
     "metadata": {},
     "output_type": "execute_result"
    }
   ],
   "source": [
    "freq_pivot = mobile_app.pivot_table(index = 'source', columns = 'event_name', values = 'user_id', aggfunc = 'count')\n",
    "freq_pivot"
   ]
  },
  {
   "cell_type": "code",
   "execution_count": 55,
   "metadata": {},
   "outputs": [
    {
     "data": {
      "image/png": "[encoded data removed]",
      "text/plain": [
       "<Figure size 720x720 with 1 Axes>"
      ]
     },
     "metadata": {
      "needs_background": "light"
     },
     "output_type": "display_data"
    }
   ],
   "source": [
    "plt.figure(figsize = (10, 10))\n",
    "sns.barplot(data=freq, x='source', y='user_cnt', hue='event_name', palette = \"rocket\")\n",
    "plt.title('Распределение частоты событий по типам источников', fontsize = 15)\n",
    "plt.xlabel('Типы источников', fontsize = 12)\n",
    "plt.ylabel('Число событиий, ед.', fontsize = 12)\n",
    "plt.xticks(fontsize = 16)\n",
    "plt.show()"
   ]
  },
  {
   "cell_type": "markdown",
   "metadata": {},
   "source": [
    "Как видно на графике видно что по типу событий просмотра рекомендованных объявлений сильно выбиваются пользователи из Яндекс, но, так как изначально количество пользователей было различное, видится разумным построить такой же график только разбив события на доли от общего числа по каждому источнику и проанализировать эти результаты."
   ]
  },
  {
   "cell_type": "code",
   "execution_count": 56,
   "metadata": {},
   "outputs": [
    {
     "name": "stdout",
     "output_type": "stream",
     "text": [
      "Общее число событий для источника Google: 20445\n",
      "Общее число событий для источника Other: 19466\n",
      "Общее число событий для источника Yandex: 34286\n"
     ]
    }
   ],
   "source": [
    "#считаю общее число событий для каждого источника\n",
    "google_events = mobile_app.query('source == \"google\"')['event_name'].count()\n",
    "other_events = mobile_app.query('source == \"other\"')['event_name'].count()\n",
    "yandex_events = mobile_app.query('source == \"yandex\"')['event_name'].count()\n",
    "\n",
    "print('Общее число событий для источника Google:', google_events)\n",
    "print('Общее число событий для источника Other:', other_events)\n",
    "print('Общее число событий для источника Yandex:', yandex_events)"
   ]
  },
  {
   "cell_type": "code",
   "execution_count": 57,
   "metadata": {},
   "outputs": [
    {
     "data": {
      "text/html": [
       "<div>\n",
       "<style scoped>\n",
       "    .dataframe tbody tr th:only-of-type {\n",
       "        vertical-align: middle;\n",
       "    }\n",
       "\n",
       "    .dataframe tbody tr th {\n",
       "        vertical-align: top;\n",
       "    }\n",
       "\n",
       "    .dataframe thead th {\n",
       "        text-align: right;\n",
       "    }\n",
       "</style>\n",
       "<table border=\"1\" class=\"dataframe\">\n",
       "  <thead>\n",
       "    <tr style=\"text-align: right;\">\n",
       "      <th></th>\n",
       "      <th>source</th>\n",
       "      <th>event_name</th>\n",
       "      <th>user_cnt</th>\n",
       "      <th>event_count</th>\n",
       "    </tr>\n",
       "  </thead>\n",
       "  <tbody>\n",
       "    <tr>\n",
       "      <th>0</th>\n",
       "      <td>google</td>\n",
       "      <td>advert_open</td>\n",
       "      <td>1621</td>\n",
       "      <td>20445</td>\n",
       "    </tr>\n",
       "    <tr>\n",
       "      <th>1</th>\n",
       "      <td>google</td>\n",
       "      <td>contacts_call</td>\n",
       "      <td>163</td>\n",
       "      <td>20445</td>\n",
       "    </tr>\n",
       "    <tr>\n",
       "      <th>2</th>\n",
       "      <td>google</td>\n",
       "      <td>contacts_show</td>\n",
       "      <td>1440</td>\n",
       "      <td>20445</td>\n",
       "    </tr>\n",
       "    <tr>\n",
       "      <th>3</th>\n",
       "      <td>google</td>\n",
       "      <td>favorites_add</td>\n",
       "      <td>415</td>\n",
       "      <td>20445</td>\n",
       "    </tr>\n",
       "    <tr>\n",
       "      <th>4</th>\n",
       "      <td>google</td>\n",
       "      <td>map</td>\n",
       "      <td>1028</td>\n",
       "      <td>20445</td>\n",
       "    </tr>\n",
       "  </tbody>\n",
       "</table>\n",
       "</div>"
      ],
      "text/plain": [
       "   source     event_name  user_cnt  event_count\n",
       "0  google    advert_open      1621        20445\n",
       "1  google  contacts_call       163        20445\n",
       "2  google  contacts_show      1440        20445\n",
       "3  google  favorites_add       415        20445\n",
       "4  google            map      1028        20445"
      ]
     },
     "execution_count": 57,
     "metadata": {},
     "output_type": "execute_result"
    }
   ],
   "source": [
    "#посчитаю доли каждого события, предварительно создав столбец с общим числом событий для каждого источника\n",
    "def event_count(source):\n",
    "    if source == \"google\":\n",
    "        return google_events\n",
    "    elif source == \"yandex\":\n",
    "        return yandex_events\n",
    "    else:\n",
    "        return other_events\n",
    "\n",
    "freq['event_count'] = freq['source'].apply(event_count)\n",
    "freq.head()"
   ]
  },
  {
   "cell_type": "code",
   "execution_count": 58,
   "metadata": {},
   "outputs": [
    {
     "data": {
      "text/html": [
       "<div>\n",
       "<style scoped>\n",
       "    .dataframe tbody tr th:only-of-type {\n",
       "        vertical-align: middle;\n",
       "    }\n",
       "\n",
       "    .dataframe tbody tr th {\n",
       "        vertical-align: top;\n",
       "    }\n",
       "\n",
       "    .dataframe thead th {\n",
       "        text-align: right;\n",
       "    }\n",
       "</style>\n",
       "<table border=\"1\" class=\"dataframe\">\n",
       "  <thead>\n",
       "    <tr style=\"text-align: right;\">\n",
       "      <th></th>\n",
       "      <th>source</th>\n",
       "      <th>event_name</th>\n",
       "      <th>user_cnt</th>\n",
       "      <th>event_count</th>\n",
       "      <th>fraction</th>\n",
       "    </tr>\n",
       "  </thead>\n",
       "  <tbody>\n",
       "    <tr>\n",
       "      <th>0</th>\n",
       "      <td>google</td>\n",
       "      <td>advert_open</td>\n",
       "      <td>1621</td>\n",
       "      <td>20445</td>\n",
       "      <td>0.08</td>\n",
       "    </tr>\n",
       "    <tr>\n",
       "      <th>1</th>\n",
       "      <td>google</td>\n",
       "      <td>contacts_call</td>\n",
       "      <td>163</td>\n",
       "      <td>20445</td>\n",
       "      <td>0.01</td>\n",
       "    </tr>\n",
       "    <tr>\n",
       "      <th>2</th>\n",
       "      <td>google</td>\n",
       "      <td>contacts_show</td>\n",
       "      <td>1440</td>\n",
       "      <td>20445</td>\n",
       "      <td>0.07</td>\n",
       "    </tr>\n",
       "    <tr>\n",
       "      <th>3</th>\n",
       "      <td>google</td>\n",
       "      <td>favorites_add</td>\n",
       "      <td>415</td>\n",
       "      <td>20445</td>\n",
       "      <td>0.02</td>\n",
       "    </tr>\n",
       "    <tr>\n",
       "      <th>4</th>\n",
       "      <td>google</td>\n",
       "      <td>map</td>\n",
       "      <td>1028</td>\n",
       "      <td>20445</td>\n",
       "      <td>0.05</td>\n",
       "    </tr>\n",
       "  </tbody>\n",
       "</table>\n",
       "</div>"
      ],
      "text/plain": [
       "   source     event_name  user_cnt  event_count  fraction\n",
       "0  google    advert_open      1621        20445      0.08\n",
       "1  google  contacts_call       163        20445      0.01\n",
       "2  google  contacts_show      1440        20445      0.07\n",
       "3  google  favorites_add       415        20445      0.02\n",
       "4  google            map      1028        20445      0.05"
      ]
     },
     "execution_count": 58,
     "metadata": {},
     "output_type": "execute_result"
    }
   ],
   "source": [
    "freq['fraction'] = (freq['user_cnt'] / freq['event_count']).round(2)\n",
    "freq.head()"
   ]
  },
  {
   "cell_type": "code",
   "execution_count": 59,
   "metadata": {},
   "outputs": [
    {
     "data": {
      "text/html": [
       "<div>\n",
       "<style scoped>\n",
       "    .dataframe tbody tr th:only-of-type {\n",
       "        vertical-align: middle;\n",
       "    }\n",
       "\n",
       "    .dataframe tbody tr th {\n",
       "        vertical-align: top;\n",
       "    }\n",
       "\n",
       "    .dataframe thead th {\n",
       "        text-align: right;\n",
       "    }\n",
       "</style>\n",
       "<table border=\"1\" class=\"dataframe\">\n",
       "  <thead>\n",
       "    <tr style=\"text-align: right;\">\n",
       "      <th>event_name</th>\n",
       "      <th>advert_open</th>\n",
       "      <th>contacts_call</th>\n",
       "      <th>contacts_show</th>\n",
       "      <th>favorites_add</th>\n",
       "      <th>map</th>\n",
       "      <th>photos_show</th>\n",
       "      <th>search</th>\n",
       "      <th>tips_click</th>\n",
       "      <th>tips_show</th>\n",
       "    </tr>\n",
       "    <tr>\n",
       "      <th>source</th>\n",
       "      <th></th>\n",
       "      <th></th>\n",
       "      <th></th>\n",
       "      <th></th>\n",
       "      <th></th>\n",
       "      <th></th>\n",
       "      <th></th>\n",
       "      <th></th>\n",
       "      <th></th>\n",
       "    </tr>\n",
       "  </thead>\n",
       "  <tbody>\n",
       "    <tr>\n",
       "      <th>google</th>\n",
       "      <td>0.08</td>\n",
       "      <td>0.01</td>\n",
       "      <td>0.07</td>\n",
       "      <td>0.02</td>\n",
       "      <td>0.05</td>\n",
       "      <td>0.17</td>\n",
       "      <td>0.10</td>\n",
       "      <td>0.01</td>\n",
       "      <td>0.49</td>\n",
       "    </tr>\n",
       "    <tr>\n",
       "      <th>other</th>\n",
       "      <td>0.10</td>\n",
       "      <td>0.01</td>\n",
       "      <td>0.05</td>\n",
       "      <td>0.01</td>\n",
       "      <td>0.05</td>\n",
       "      <td>0.15</td>\n",
       "      <td>0.10</td>\n",
       "      <td>0.01</td>\n",
       "      <td>0.52</td>\n",
       "    </tr>\n",
       "    <tr>\n",
       "      <th>yandex</th>\n",
       "      <td>0.08</td>\n",
       "      <td>0.01</td>\n",
       "      <td>0.06</td>\n",
       "      <td>0.02</td>\n",
       "      <td>0.06</td>\n",
       "      <td>0.11</td>\n",
       "      <td>0.08</td>\n",
       "      <td>0.01</td>\n",
       "      <td>0.58</td>\n",
       "    </tr>\n",
       "  </tbody>\n",
       "</table>\n",
       "</div>"
      ],
      "text/plain": [
       "event_name  advert_open  contacts_call  contacts_show  favorites_add   map  \\\n",
       "source                                                                       \n",
       "google             0.08           0.01           0.07           0.02  0.05   \n",
       "other              0.10           0.01           0.05           0.01  0.05   \n",
       "yandex             0.08           0.01           0.06           0.02  0.06   \n",
       "\n",
       "event_name  photos_show  search  tips_click  tips_show  \n",
       "source                                                  \n",
       "google             0.17    0.10        0.01       0.49  \n",
       "other              0.15    0.10        0.01       0.52  \n",
       "yandex             0.11    0.08        0.01       0.58  "
      ]
     },
     "execution_count": 59,
     "metadata": {},
     "output_type": "execute_result"
    }
   ],
   "source": [
    "freq_fraction = freq.pivot_table(index = 'source', columns = 'event_name', values = 'fraction',\\\n",
    "                                           aggfunc = 'first')\n",
    "freq_fraction"
   ]
  },
  {
   "cell_type": "code",
   "execution_count": 60,
   "metadata": {},
   "outputs": [
    {
     "data": {
      "image/png": "[encoded data removed]",
      "text/plain": [
       "<Figure size 576x576 with 1 Axes>"
      ]
     },
     "metadata": {
      "needs_background": "light"
     },
     "output_type": "display_data"
    }
   ],
   "source": [
    "freq_fraction.plot(kind = 'bar', stacked = True, rot = 0, figsize = (8, 8), width =0.3)\n",
    "plt.title('Распределение долей событий по типам источников', fontsize = 15)\n",
    "plt.xlabel('Типы источников', fontsize = 12)\n",
    "plt.ylabel('Доля событиий', fontsize = 12)\n",
    "plt.xticks(fontsize = 12)\n",
    "plt.show()"
   ]
  },
  {
   "cell_type": "markdown",
   "metadata": {},
   "source": [
    "**Вывод:** Самое популярное действие для всех пользователей - просмотр рекомендованных объявлений, для источников Гугл и остальных это действие составляет 49-52% от всех действий, у Яндекса - 58%. Также к популярным событиям можно отнести открытие карточки объявления, просмотр фотографий в объявлении и поиск по сайту. Этот анализ также показывает, что поведение пользователей из разным источников примерно одинаковое."
   ]
  },
  {
   "cell_type": "markdown",
   "metadata": {},
   "source": [
    "### Конверсия в целевое действие"
   ]
  },
  {
   "cell_type": "code",
   "execution_count": 61,
   "metadata": {},
   "outputs": [
    {
     "name": "stdout",
     "output_type": "stream",
     "text": [
      "Общее число пользователей для источника Google: 1129\n",
      "Общее число пользователей для источника Other: 1230\n",
      "Общее число пользователей для источника Yandex: 1934\n"
     ]
    }
   ],
   "source": [
    "#считаю общее число пользователей для каждого источника\n",
    "google_users = mobile_app.query('source == \"google\"')['user_id'].nunique()\n",
    "other_users = mobile_app.query('source == \"other\"')['user_id'].nunique()\n",
    "yandex_users = mobile_app.query('source == \"yandex\"')['user_id'].nunique()\n",
    "\n",
    "print('Общее число пользователей для источника Google:', google_users)\n",
    "print('Общее число пользователей для источника Other:', other_users)\n",
    "print('Общее число пользователей для источника Yandex:', yandex_users)"
   ]
  },
  {
   "cell_type": "code",
   "execution_count": 62,
   "metadata": {},
   "outputs": [
    {
     "data": {
      "text/html": [
       "<div>\n",
       "<style scoped>\n",
       "    .dataframe tbody tr th:only-of-type {\n",
       "        vertical-align: middle;\n",
       "    }\n",
       "\n",
       "    .dataframe tbody tr th {\n",
       "        vertical-align: top;\n",
       "    }\n",
       "\n",
       "    .dataframe thead th {\n",
       "        text-align: right;\n",
       "    }\n",
       "</style>\n",
       "<table border=\"1\" class=\"dataframe\">\n",
       "  <thead>\n",
       "    <tr style=\"text-align: right;\">\n",
       "      <th></th>\n",
       "      <th>source</th>\n",
       "      <th>user_contacts_show</th>\n",
       "      <th>unique_users</th>\n",
       "      <th>conversion_to_contacts</th>\n",
       "    </tr>\n",
       "  </thead>\n",
       "  <tbody>\n",
       "    <tr>\n",
       "      <th>2</th>\n",
       "      <td>yandex</td>\n",
       "      <td>478</td>\n",
       "      <td>1934</td>\n",
       "      <td>0.247</td>\n",
       "    </tr>\n",
       "    <tr>\n",
       "      <th>0</th>\n",
       "      <td>google</td>\n",
       "      <td>275</td>\n",
       "      <td>1129</td>\n",
       "      <td>0.244</td>\n",
       "    </tr>\n",
       "    <tr>\n",
       "      <th>1</th>\n",
       "      <td>other</td>\n",
       "      <td>228</td>\n",
       "      <td>1230</td>\n",
       "      <td>0.185</td>\n",
       "    </tr>\n",
       "  </tbody>\n",
       "</table>\n",
       "</div>"
      ],
      "text/plain": [
       "   source  user_contacts_show  unique_users  conversion_to_contacts\n",
       "2  yandex                 478          1934                   0.247\n",
       "0  google                 275          1129                   0.244\n",
       "1   other                 228          1230                   0.185"
      ]
     },
     "execution_count": 62,
     "metadata": {},
     "output_type": "execute_result"
    }
   ],
   "source": [
    "conversion = mobile_app.query('event_name == \"contacts_show\"').groupby('source').agg({'user_id': 'nunique'}).reset_index()\n",
    "conversion = conversion.rename(columns = {'user_id': 'user_contacts_show'})\n",
    "\n",
    "#функция для добавления столбца с уникальными пользователями по источникам \n",
    "def unique_users(source):\n",
    "    if source == \"google\":\n",
    "        return google_users\n",
    "    elif source == \"yandex\":\n",
    "        return yandex_users\n",
    "    else:\n",
    "        return other_users\n",
    "\n",
    "conversion['unique_users'] = conversion['source'].apply(unique_users)             \n",
    "conversion['conversion_to_contacts'] = (conversion['user_contacts_show'] / conversion['unique_users']).round(3)\n",
    "conversion = conversion.sort_values(by = 'conversion_to_contacts', ascending = False)\n",
    "conversion      "
   ]
  },
  {
   "cell_type": "code",
   "execution_count": 63,
   "metadata": {},
   "outputs": [
    {
     "data": {
      "image/png": "[encoded data removed]",
      "text/plain": [
       "<Figure size 504x360 with 1 Axes>"
      ]
     },
     "metadata": {
      "needs_background": "light"
     },
     "output_type": "display_data"
    }
   ],
   "source": [
    "plt.figure(figsize=(7,5))\n",
    "plt.bar(conversion['source'], conversion['conversion_to_contacts'], color = '#125638', width = 0.4) \n",
    "plt.title('Конверсия в целевое действие просмотр контактов по типам источников:', fontsize=15)\n",
    "plt.xticks(fontsize = 15)\n",
    "plt.yticks(fontsize = 13)\n",
    "plt.xlabel('Тип источника', fontsize=12)\n",
    "plt.ylabel('Конверсия', fontsize=12)\n",
    "plt.show()  "
   ]
  },
  {
   "cell_type": "markdown",
   "metadata": {},
   "source": [
    "**Вывод:** У Яндекс и Гугл конверсия в целевое действие - просмотр телефона от общего числа установивших приложение почти одинаковая - порядка 24% пользователей, то есть примерно четверть всех пользователей открывает номера телефонов в объявлении, а у других источников конверсия ниже - 18,5%.\n",
    "\n",
    "**Вывод по разделу:**  проанализировала поведение пользователей из трех групп: тех, кто установил приложение из Google, Yandex и из других источников (Other). Посмотрела распределение числа уникальных пользователей: наибольшее число пользователей характерно для Яндекс-группы, в то время как Гугл и другие источники друг с другом сопоставимы ко количеству пользователей. \n",
    "Метрики для этих групп: \n",
    "\n",
    "1) Retention Rate - коэффициент удержания пользователей. Получилась примерно одинаковая картина: на вторую неделю жизни когорт коэффициент удержания 22-23%, на третью неделю коэффициент удержания больше всего у других источников - около 16,5% против 11 Гугла и 13 Яндекса, на четвертую показатели примерно одинаковые - 8-10%, на пятой недели у Гугла и других источников остается порядка 8 процента изначальных пользователей, у Яндекс - около 5,5%. В целом нельзя говорить о значительных различиях по источникам установки приложения.\n",
    "\n",
    "2) Время проведенное в приложении. В среднем пользователи, привлеченные из разных источников, показывают схожее время длительности нахождения в приложении - средняя пользовательская сессия наибольшая у тех, кто скачал приложение из Google - около 41 минуты, далее идут остальные источники - 36,5 минут и потом пользователи, скачавшие приложение из Яндекса - почти 35 минут. В целом, время не принципиально отличается друг от друга, пользователи проводят в приложении порядка 35-40 минут, отсутствие различий в пользовательских сессиях приведено также на визуализациях.\n",
    "\n",
    "3) Частота действий. Самое популярное действие для всех пользователей - просмотр рекомендованных объявлений, для источников Гугл и остальных это действие составляет 49-52% от всех действий, у Яндекса - 58%. Также к популярным событиям можно отнести открытие карточки объявления, просмотр фотографий в объявлении и поиск по сайту. Этот анализ так же показывает, что поведение пользователей из разным источников плюс-минус одинаковое.\n",
    "\n",
    "4) Конверсия в целевое действие. В этом разделе была посчитала конверсия изначально установивших приложение пользователей в целевое действие - просмотр номера телефона в объявлении, у Яндекс и Гугл конверсия почти одинаковая - порядка 24% пользователей, то есть примерно четверть всех пользователей открывает номепра телефонов в объявлении, а у других источников конверсия ниже - 18,5%."
   ]
  },
  {
   "cell_type": "markdown",
   "metadata": {},
   "source": [
    "## Проверка статистических гипотез<a class=\"anchor\" id=\"fourth-bullet\"></a>\n",
    "- Разделить пользователей на группы: установившие приложение из google, установившие приложение из yandex;\n",
    "- Проверить гипотезу: две эти группы пользователей демонстрируют разную конверсию в просмотры контактов;\n",
    "- Сформулировать и проверить собственную гипотезу;\n",
    "- Написать выводы по разделу.\n",
    "\n",
    "### Провека гипотезы о равенстве конверсий\n",
    "Проверю гипотезу о равенстве конверсий в целевое событие - просмотр контактов для пользователей, установивших приложение из Google и Yandex.\n",
    "\n",
    "Рассчитаю статистическую значимость различий в конверсиях между группами и проверю гипотезы:\n",
    "\n",
    "H0 - нулевая гипотеза о том, что статистически значимых различий в конверсиях между группами пользователей нет\n",
    "\n",
    "H1 - альтернативная гипотеза о том, что есть статистические различия между конверсиями групп пользователей\n",
    "\n",
    "Критический уровень статистической значимости задам равный 0.05, исходя из общепринятых пороговых значений. При увеличении статистической значимости увеличивается критическая область, при попадании в которую, отвергаем нулевую гипотезу. Мы увеличим вероятность попасть в эту область, из-за этого увеличится число ложных срабатываний - увеличится вероятность ошибки первого рода."
   ]
  },
  {
   "cell_type": "code",
   "execution_count": 64,
   "metadata": {},
   "outputs": [
    {
     "data": {
      "text/html": [
       "<div>\n",
       "<style scoped>\n",
       "    .dataframe tbody tr th:only-of-type {\n",
       "        vertical-align: middle;\n",
       "    }\n",
       "\n",
       "    .dataframe tbody tr th {\n",
       "        vertical-align: top;\n",
       "    }\n",
       "\n",
       "    .dataframe thead th {\n",
       "        text-align: right;\n",
       "    }\n",
       "</style>\n",
       "<table border=\"1\" class=\"dataframe\">\n",
       "  <thead>\n",
       "    <tr style=\"text-align: right;\">\n",
       "      <th></th>\n",
       "      <th>source</th>\n",
       "      <th>user_contacts_show</th>\n",
       "      <th>unique_users</th>\n",
       "      <th>conversion_to_contacts</th>\n",
       "    </tr>\n",
       "  </thead>\n",
       "  <tbody>\n",
       "    <tr>\n",
       "      <th>2</th>\n",
       "      <td>yandex</td>\n",
       "      <td>478</td>\n",
       "      <td>1934</td>\n",
       "      <td>0.247</td>\n",
       "    </tr>\n",
       "    <tr>\n",
       "      <th>0</th>\n",
       "      <td>google</td>\n",
       "      <td>275</td>\n",
       "      <td>1129</td>\n",
       "      <td>0.244</td>\n",
       "    </tr>\n",
       "  </tbody>\n",
       "</table>\n",
       "</div>"
      ],
      "text/plain": [
       "   source  user_contacts_show  unique_users  conversion_to_contacts\n",
       "2  yandex                 478          1934                   0.247\n",
       "0  google                 275          1129                   0.244"
      ]
     },
     "execution_count": 64,
     "metadata": {},
     "output_type": "execute_result"
    }
   ],
   "source": [
    "google_yandex_conv = conversion.query('source == \"google\" or source == \"yandex\"')\n",
    "google_yandex_conv"
   ]
  },
  {
   "cell_type": "code",
   "execution_count": 65,
   "metadata": {},
   "outputs": [
    {
     "name": "stdout",
     "output_type": "stream",
     "text": [
      "p-значение:  [0.8244316]\n",
      "Не получилось отвергнуть нулевую гипотезу, нет оснований считать конверсии в группах разными\n"
     ]
    }
   ],
   "source": [
    "alpha = 0.05  \n",
    "\n",
    "event_users = np.array([google_yandex_conv.query('source == \"google\"')['user_contacts_show'], \\\n",
    "                        google_yandex_conv.query('source == \"yandex\"')['user_contacts_show']])\n",
    "total_users = np.array([google_yandex_conv.query('source == \"google\"')['unique_users'], \\\n",
    "                        google_yandex_conv.query('source == \"yandex\"')['unique_users']])\n",
    "\n",
    "\n",
    "#конверсия для обеих групп\n",
    "p1 = event_users[0]/total_users[0]\n",
    "p2 = event_users[1]/total_users[1]\n",
    "#в комбинированном\n",
    "p_combined = (event_users[0] + event_users[1]) / (total_users[0] + total_users[1])\n",
    "#разница конверсий в датасетах\n",
    "difference = p1 - p2\n",
    "#считаю статистику в стандартных отклонениях стандартного нормального распределения\n",
    "z_value = difference / mth.sqrt(p_combined * (1 - p_combined) * \\\n",
    "                                    (1 / total_users[0] + 1 / total_users[1]))\n",
    "\n",
    "#задаю стандартное нормальное распределение со средним 0 и стандартным отклонением 1)\n",
    "distr = st.norm(0, 1)\n",
    "\n",
    "p_value = (1 - distr.cdf(abs(z_value))) * 2\n",
    "\n",
    "print('p-значение: ', p_value)\n",
    "\n",
    "if p_value < alpha:\n",
    "    print('Отвергаем нулевую гипотезу: между конверсиями групп есть значимая разница')\n",
    "else:\n",
    "    print('Не получилось отвергнуть нулевую гипотезу, нет оснований считать конверсии в группах разными')"
   ]
  },
  {
   "cell_type": "markdown",
   "metadata": {},
   "source": [
    "**Вывод:** Проверка статистической гипотезы подтвердила, что нет оснований считать конверсии в целевое действие пользователей групп Google и Yandex разными"
   ]
  },
  {
   "cell_type": "markdown",
   "metadata": {},
   "source": [
    "### Формулировка и проверка собственной гипотезы\n",
    "Гипотезы:\n",
    "\n",
    "H0 - среднее время пользовательской сессии для групп Google и Yandex равно\n",
    "\n",
    "H1 - среднее время пользовательской сессии для групп Google и Yandex различается\n",
    "\n",
    "Критический уровень статистической значимости 0.05, исходя из общепринятых пороговых значений"
   ]
  },
  {
   "cell_type": "code",
   "execution_count": 66,
   "metadata": {},
   "outputs": [
    {
     "name": "stdout",
     "output_type": "stream",
     "text": [
      "p-значение: 0.5983626313569959\n",
      "Не получилось отвергнуть нулевую гипотезу\n"
     ]
    }
   ],
   "source": [
    "alpha = 0.05 \n",
    "results = st.ttest_ind(source_duration.query('source == \"google\"')['session_duration'], source_duration.query('source == \"yandex\"')['session_duration'], equal_var = False)\n",
    "print('p-значение:', results.pvalue)\n",
    "\n",
    "if (results.pvalue < alpha):\n",
    "    print(\"Отвергаем нулевую гипотезу\")\n",
    "else:\n",
    "    print(\"Не получилось отвергнуть нулевую гипотезу\")"
   ]
  },
  {
   "cell_type": "markdown",
   "metadata": {},
   "source": [
    "Результат статтеста подтверждает предыдущие выводы о том, что длительность пользовательских сессий не сильно различается по источникам"
   ]
  },
  {
   "cell_type": "markdown",
   "metadata": {},
   "source": [
    "## Общие выводы<a class=\"anchor\" id=\"fifth-bullet\"></a>"
   ]
  },
  {
   "cell_type": "markdown",
   "metadata": {},
   "source": [
    "В данном исследовании был проведен анализ пользовательский активности пользователей мобильного приложения \"Ненужные вещи\".\n",
    "Перед началом исследования данные были подготовлены к анализу, пропусков и дубликатов не было выявлено.\n",
    "\n",
    "Исследовала пользовательскую активность: Я трасполагала данными почти за месяц, из почти 4300 пользователей ежедневную активность в среднем показывают примерно 279 человек, а еженедельную - 1139, то есть четверть от общего числа. В среднем пользователи за рассматриваемый период проводят в приложении около 3 часов - думаю, это довольно-таки адекватный параметр для приложения, где люди продают и покупают вещи. Есть выбросы до пользовательский сессии в 24 часа - то есть некоторые пользователи проводят около часа в приложении ежедневно, я не думаю, что эти выбросы можно считать ошибкой в данных, нельзя исключать, что некоторые пользователи могут что-то активно искать и отслеживать в приложении, или продаватьт многие свои вещи.\n",
    "\n",
    "Посмотрела, как распределяется активность пользователей по дням и неделям, было отмечано, что на выходных приложением пользуются реже, нежели в будни. Были выявлены пиковые дни и недели активности: пик приходится на неделю с 17 по 24 октября, а по дням - 23 и 28 октября. Выявить какую-то тенденцию трудно.\n",
    "\n",
    "Разделила прользователей на когорты по неделям начала использования приложения, рассчитала коэффициент удержания пользователей по недельным когортам и построила тепловую карту, на вторую неделю жизни когорт средний коэффициент удержания пользователей - примерно четверть - около 23%, а к концу наблюдений на четвертую и пятую неделю лояльными пользователшями осталось всего около 7%. Думаю, это не очень высокий показатель, хотя нужно учитывать специфику приложения: оно создано для покупки и продажи вещей, скорее всего люди пользуются им не на постоянной основе, а время от времени.\n",
    "\n",
    "Далее я провела анализ метрик для пользователей из трех групп: установивших приложение из Google, Yandex и из других источников (Other). Посмотрела распределение числа уникальных пользователей: наибольшее число пользователей характерно для Яндекс-группы, в то время как Гугл и другие источники друг с другом сопоставимы ко количеству пользователей. Посчитала для этих групп метрики:\n",
    "\n",
    "- **Retention Rate** - коэффициент удержания пользователей. По источникам выстроилась примерно одинаковая картина: на вторую неделю жизни когорт коэффициент удержания 22-23%, на третью неделю коэффициент удержания больше всего у других источников - около 16,5% против 11 Гугла и 13 Яндекса, на четвертую показатели примерно одинаковые - 8-10%, на пятой недели у Гугла и других источников остается порядка 8 процента изначальных пользователей, у Яндекс - около 5,5%. В целом нельзя говорить о значительных различиях по источникам установки приложения.\n",
    "\n",
    "- **Время проведенное в приложении.** В среднем пользователи, привлеченные из разных источников, показывают схожее время длительности нахождения в приложении - средняя пользовательская сессия наибольшая у тех, кто скачал приложение из Google - около 41 минуты, далее идут остальные источники - 36,5 минут и потом пользователи, скачавшие приложение из Яндекса - почти 35 минут. В целом6 время не принципиально отличается друг от друга, пользователи проводят в приложении порядка 35-40 минут, отсутствие различий в пользовательских сессиях приведено также на визуализациях.\n",
    "\n",
    "- **Частота действий.** Самое популярное действие для всех пользователей - просмотр рекомендованных объявлений, для источников Гугл и остальных это действие составляет 49-52% от всех действий, у Яндекса - 58%. Также к популярным событиям можно отнести открытие карточки объявления, просмотр фотографий в объявлении и поиск по сайту. Этот анализ так же показывает, что поведение пользователей из разным источников плюс=минус одинаковое.\n",
    "\n",
    "- **Конверсия в целевое действие.** В этом разделе была посчитала конверсия изначально установивших приложение пользователей в целевое действие - просмотр номера телефона в объявлении, у Яндекс и Гугл конверсия почти одинаковая - порядка 24% пользователей, то есть примерно четверть всех пользователей открывает номепра телефонов в объявлении, а у других источников конверсия ниже - 18,5%.\n",
    "\n",
    "Далее были проверены статистические гипотезы: \n",
    "- **Гипотезу о равенстве конверсий в целевое событие** - просмотр контактов для пользователей, установивших приложение из Google и Yandex.\n",
    "\n",
    "Проверка статистической гипотезы подствердила, что нет оснований считать конверсии в целевое действие пользователей групп Google и Yandex разными\n",
    "\n",
    "- **Проверила стат тестом гипотезу о равенстве среднего времени пользовательской сессии для групп Google и Yandex**\n",
    "Не получилось отвергнуть нулевую гипотезу о равенстве среднего времени пользовательской сессии, результат статтеста подтверждает предыдущие выводы о том, что длительность пользовательских сессий не сильно различается по источникам.\n",
    "\n",
    "**Рекомендации** Можно отметить, что не было выявлено строгих закономерностей и различий групп пользователей, установивших приложение \"Ненужные вещи\" из различных источников. Пользователи, пришедшие из разных источников показывают примерно одинаковое поведение.\n",
    "\n",
    "Рекомендуется продолжать работать над привлечением пользователей в приложение и над повышением удержания пользователей в приложении. Стоит работать над совершенствованием персонализированных рекомендаций для пользователей, отслеживать поисковые запросы в приложении, формировать портрет пользователя и настраивать индивидуальные рекомендации. "
   ]
  },
  {
   "cell_type": "markdown",
   "metadata": {},
   "source": [
    "### Презентация\n",
    "https://drive.google.com/file/d/1XRM0w4Xy_dgyHGTUFap3qqmJ71OoXXVM/view?usp=sharing\n",
    "\n",
    "### Дашборд в Tableau\n",
    "https://public.tableau.com/views/final_dash_16651456805890/Dashboard1?:language=en-US&:display_count=n&:origin=viz_share_link"
   ]
  }
 ],
 "metadata": {
  "ExecuteTimeLog": [
   {
    "duration": 1542,
    "start_time": "2022-10-06T08:29:39.128Z"
   },
   {
    "duration": 337,
    "start_time": "2022-10-06T08:33:22.707Z"
   },
   {
    "duration": 14,
    "start_time": "2022-10-06T08:34:25.081Z"
   },
   {
    "duration": 26,
    "start_time": "2022-10-06T08:34:58.425Z"
   },
   {
    "duration": 22,
    "start_time": "2022-10-06T08:35:19.032Z"
   },
   {
    "duration": 30,
    "start_time": "2022-10-06T08:35:36.976Z"
   },
   {
    "duration": 101,
    "start_time": "2022-10-06T08:36:07.903Z"
   },
   {
    "duration": 10,
    "start_time": "2022-10-06T08:36:22.146Z"
   },
   {
    "duration": 35,
    "start_time": "2022-10-06T08:36:54.006Z"
   },
   {
    "duration": 16,
    "start_time": "2022-10-06T09:28:42.749Z"
   },
   {
    "duration": 14,
    "start_time": "2022-10-06T09:29:09.029Z"
   },
   {
    "duration": 60,
    "start_time": "2022-10-06T09:29:48.729Z"
   },
   {
    "duration": 35,
    "start_time": "2022-10-06T09:30:04.844Z"
   },
   {
    "duration": 10,
    "start_time": "2022-10-06T09:30:15.756Z"
   },
   {
    "duration": 45,
    "start_time": "2022-10-06T09:30:22.474Z"
   },
   {
    "duration": 1178,
    "start_time": "2022-10-06T09:31:02.011Z"
   },
   {
    "duration": 278,
    "start_time": "2022-10-06T09:31:03.191Z"
   },
   {
    "duration": 21,
    "start_time": "2022-10-06T09:31:03.470Z"
   },
   {
    "duration": 15,
    "start_time": "2022-10-06T09:31:03.494Z"
   },
   {
    "duration": 50,
    "start_time": "2022-10-06T09:31:03.510Z"
   },
   {
    "duration": 9,
    "start_time": "2022-10-06T09:31:03.562Z"
   },
   {
    "duration": 42,
    "start_time": "2022-10-06T09:31:03.573Z"
   },
   {
    "duration": 38,
    "start_time": "2022-10-06T09:31:03.617Z"
   },
   {
    "duration": 12,
    "start_time": "2022-10-06T09:31:03.656Z"
   },
   {
    "duration": 54,
    "start_time": "2022-10-06T09:31:03.671Z"
   },
   {
    "duration": 101,
    "start_time": "2022-10-06T09:31:18.540Z"
   },
   {
    "duration": 20,
    "start_time": "2022-10-06T09:31:34.162Z"
   },
   {
    "duration": 6,
    "start_time": "2022-10-06T09:32:02.370Z"
   },
   {
    "duration": 6,
    "start_time": "2022-10-06T09:32:34.299Z"
   },
   {
    "duration": 83,
    "start_time": "2022-10-06T09:34:41.990Z"
   },
   {
    "duration": 8,
    "start_time": "2022-10-06T09:34:55.005Z"
   },
   {
    "duration": 6,
    "start_time": "2022-10-06T09:35:43.183Z"
   },
   {
    "duration": 5,
    "start_time": "2022-10-06T09:36:23.805Z"
   },
   {
    "duration": 16,
    "start_time": "2022-10-06T09:36:58.989Z"
   },
   {
    "duration": 18,
    "start_time": "2022-10-06T09:37:17.421Z"
   },
   {
    "duration": 54,
    "start_time": "2022-10-06T12:07:42.899Z"
   },
   {
    "duration": 32,
    "start_time": "2022-10-06T12:09:07.182Z"
   },
   {
    "duration": 245,
    "start_time": "2022-10-06T12:10:45.760Z"
   },
   {
    "duration": 234,
    "start_time": "2022-10-06T12:12:34.899Z"
   },
   {
    "duration": 8,
    "start_time": "2022-10-06T12:17:59.605Z"
   },
   {
    "duration": 25,
    "start_time": "2022-10-06T12:18:12.813Z"
   },
   {
    "duration": 13,
    "start_time": "2022-10-06T12:18:37.085Z"
   },
   {
    "duration": 4,
    "start_time": "2022-10-06T12:18:48.918Z"
   },
   {
    "duration": 42,
    "start_time": "2022-10-06T13:35:34.790Z"
   },
   {
    "duration": 50,
    "start_time": "2022-10-06T13:36:35.370Z"
   },
   {
    "duration": 52,
    "start_time": "2022-10-06T13:36:50.388Z"
   },
   {
    "duration": 9,
    "start_time": "2022-10-06T13:37:02.487Z"
   },
   {
    "duration": 5,
    "start_time": "2022-10-06T13:39:40.236Z"
   },
   {
    "duration": 5,
    "start_time": "2022-10-06T13:40:24.748Z"
   },
   {
    "duration": 297,
    "start_time": "2022-10-06T13:40:29.046Z"
   },
   {
    "duration": 72,
    "start_time": "2022-10-06T13:57:44.533Z"
   },
   {
    "duration": 448,
    "start_time": "2022-10-06T13:58:27.981Z"
   },
   {
    "duration": 259,
    "start_time": "2022-10-06T14:01:10.049Z"
   },
   {
    "duration": 5,
    "start_time": "2022-10-06T14:03:49.799Z"
   },
   {
    "duration": 27,
    "start_time": "2022-10-06T14:08:23.658Z"
   },
   {
    "duration": 18,
    "start_time": "2022-10-06T14:08:41.186Z"
   },
   {
    "duration": 9,
    "start_time": "2022-10-06T14:09:12.425Z"
   },
   {
    "duration": 287,
    "start_time": "2022-10-06T14:09:30.281Z"
   },
   {
    "duration": 27,
    "start_time": "2022-10-06T14:10:22.250Z"
   },
   {
    "duration": 6,
    "start_time": "2022-10-06T14:10:43.313Z"
   },
   {
    "duration": 58,
    "start_time": "2022-10-07T07:03:09.194Z"
   },
   {
    "duration": 1311,
    "start_time": "2022-10-07T07:03:17.202Z"
   },
   {
    "duration": 353,
    "start_time": "2022-10-07T07:03:18.515Z"
   },
   {
    "duration": 16,
    "start_time": "2022-10-07T07:03:18.869Z"
   },
   {
    "duration": 14,
    "start_time": "2022-10-07T07:03:18.887Z"
   },
   {
    "duration": 38,
    "start_time": "2022-10-07T07:03:18.902Z"
   },
   {
    "duration": 9,
    "start_time": "2022-10-07T07:03:18.942Z"
   },
   {
    "duration": 61,
    "start_time": "2022-10-07T07:03:18.952Z"
   },
   {
    "duration": 14,
    "start_time": "2022-10-07T07:03:19.015Z"
   },
   {
    "duration": 9,
    "start_time": "2022-10-07T07:03:19.030Z"
   },
   {
    "duration": 152,
    "start_time": "2022-10-07T07:03:19.041Z"
   },
   {
    "duration": 10,
    "start_time": "2022-10-07T07:03:19.195Z"
   },
   {
    "duration": 10,
    "start_time": "2022-10-07T07:03:19.207Z"
   },
   {
    "duration": 7,
    "start_time": "2022-10-07T07:03:19.219Z"
   },
   {
    "duration": 8,
    "start_time": "2022-10-07T07:03:19.228Z"
   },
   {
    "duration": 7,
    "start_time": "2022-10-07T07:03:19.238Z"
   },
   {
    "duration": 9,
    "start_time": "2022-10-07T07:03:19.247Z"
   },
   {
    "duration": 19,
    "start_time": "2022-10-07T07:03:19.258Z"
   },
   {
    "duration": 63,
    "start_time": "2022-10-07T07:03:19.278Z"
   },
   {
    "duration": 275,
    "start_time": "2022-10-07T07:03:19.343Z"
   },
   {
    "duration": 29,
    "start_time": "2022-10-07T07:03:19.621Z"
   },
   {
    "duration": 13,
    "start_time": "2022-10-07T07:03:19.651Z"
   },
   {
    "duration": 5,
    "start_time": "2022-10-07T07:03:19.665Z"
   },
   {
    "duration": 341,
    "start_time": "2022-10-07T07:03:19.672Z"
   },
   {
    "duration": 77,
    "start_time": "2022-10-07T07:03:20.014Z"
   },
   {
    "duration": 456,
    "start_time": "2022-10-07T07:03:20.092Z"
   },
   {
    "duration": 264,
    "start_time": "2022-10-07T07:03:20.550Z"
   },
   {
    "duration": 8,
    "start_time": "2022-10-07T07:03:20.816Z"
   },
   {
    "duration": 50,
    "start_time": "2022-10-07T07:03:20.826Z"
   },
   {
    "duration": 22,
    "start_time": "2022-10-07T07:03:20.877Z"
   },
   {
    "duration": 358,
    "start_time": "2022-10-07T07:03:20.901Z"
   },
   {
    "duration": 27,
    "start_time": "2022-10-07T07:03:21.261Z"
   },
   {
    "duration": 5,
    "start_time": "2022-10-07T07:03:21.289Z"
   },
   {
    "duration": 55,
    "start_time": "2022-10-07T07:03:21.296Z"
   },
   {
    "duration": 32,
    "start_time": "2022-10-07T07:04:07.038Z"
   },
   {
    "duration": 10,
    "start_time": "2022-10-07T07:04:25.990Z"
   },
   {
    "duration": 118,
    "start_time": "2022-10-07T07:09:16.775Z"
   },
   {
    "duration": 18,
    "start_time": "2022-10-07T07:09:35.095Z"
   },
   {
    "duration": 20,
    "start_time": "2022-10-07T07:09:37.927Z"
   },
   {
    "duration": 436,
    "start_time": "2022-10-07T07:09:56.038Z"
   },
   {
    "duration": 8,
    "start_time": "2022-10-07T07:10:20.119Z"
   },
   {
    "duration": 135,
    "start_time": "2022-10-07T07:13:17.347Z"
   },
   {
    "duration": 347,
    "start_time": "2022-10-07T07:13:35.379Z"
   },
   {
    "duration": 350,
    "start_time": "2022-10-07T07:14:00.487Z"
   },
   {
    "duration": 313,
    "start_time": "2022-10-07T07:14:24.440Z"
   },
   {
    "duration": 323,
    "start_time": "2022-10-07T07:14:40.769Z"
   },
   {
    "duration": 8,
    "start_time": "2022-10-07T07:15:02.871Z"
   },
   {
    "duration": 51,
    "start_time": "2022-10-07T07:15:51.303Z"
   },
   {
    "duration": 346,
    "start_time": "2022-10-07T07:16:12.856Z"
   },
   {
    "duration": 347,
    "start_time": "2022-10-07T07:16:26.128Z"
   },
   {
    "duration": 351,
    "start_time": "2022-10-07T07:16:37.177Z"
   },
   {
    "duration": 8,
    "start_time": "2022-10-07T07:16:40.822Z"
   },
   {
    "duration": 47,
    "start_time": "2022-10-07T07:16:43.815Z"
   },
   {
    "duration": 389,
    "start_time": "2022-10-07T07:16:46.186Z"
   },
   {
    "duration": 8,
    "start_time": "2022-10-07T07:16:48.989Z"
   },
   {
    "duration": 55,
    "start_time": "2022-10-07T07:16:51.382Z"
   },
   {
    "duration": 379,
    "start_time": "2022-10-07T07:16:59.326Z"
   },
   {
    "duration": 6,
    "start_time": "2022-10-07T07:17:14.695Z"
   },
   {
    "duration": 37,
    "start_time": "2022-10-07T07:17:40.364Z"
   },
   {
    "duration": 333,
    "start_time": "2022-10-07T07:20:07.626Z"
   },
   {
    "duration": 346,
    "start_time": "2022-10-07T07:20:16.171Z"
   },
   {
    "duration": 7,
    "start_time": "2022-10-07T07:20:29.153Z"
   },
   {
    "duration": 39,
    "start_time": "2022-10-07T07:23:22.472Z"
   },
   {
    "duration": 14,
    "start_time": "2022-10-07T07:23:36.095Z"
   },
   {
    "duration": 230,
    "start_time": "2022-10-07T07:24:06.545Z"
   },
   {
    "duration": 133,
    "start_time": "2022-10-07T07:24:16.661Z"
   },
   {
    "duration": 133,
    "start_time": "2022-10-07T07:24:43.046Z"
   },
   {
    "duration": 123,
    "start_time": "2022-10-07T07:24:54.646Z"
   },
   {
    "duration": 115,
    "start_time": "2022-10-07T07:25:01.940Z"
   },
   {
    "duration": 93,
    "start_time": "2022-10-07T07:25:10.173Z"
   },
   {
    "duration": 125,
    "start_time": "2022-10-07T07:25:17.318Z"
   },
   {
    "duration": 20,
    "start_time": "2022-10-07T07:27:26.910Z"
   },
   {
    "duration": 30,
    "start_time": "2022-10-07T07:47:28.221Z"
   },
   {
    "duration": 40,
    "start_time": "2022-10-07T07:47:31.047Z"
   },
   {
    "duration": 285,
    "start_time": "2022-10-07T07:48:00.255Z"
   },
   {
    "duration": 286,
    "start_time": "2022-10-07T07:48:13.174Z"
   },
   {
    "duration": 425,
    "start_time": "2022-10-07T07:48:26.016Z"
   },
   {
    "duration": 295,
    "start_time": "2022-10-07T07:48:49.693Z"
   },
   {
    "duration": 326,
    "start_time": "2022-10-07T07:48:59.109Z"
   },
   {
    "duration": 15,
    "start_time": "2022-10-07T07:50:38.276Z"
   },
   {
    "duration": 11,
    "start_time": "2022-10-07T07:51:57.219Z"
   },
   {
    "duration": 32,
    "start_time": "2022-10-07T07:52:51.409Z"
   },
   {
    "duration": 9,
    "start_time": "2022-10-07T07:53:31.800Z"
   },
   {
    "duration": 13,
    "start_time": "2022-10-07T07:54:16.152Z"
   },
   {
    "duration": 13,
    "start_time": "2022-10-07T07:54:41.711Z"
   },
   {
    "duration": 25,
    "start_time": "2022-10-07T07:54:51.077Z"
   },
   {
    "duration": 240,
    "start_time": "2022-10-07T07:55:12.303Z"
   },
   {
    "duration": 45,
    "start_time": "2022-10-07T08:25:02.200Z"
   },
   {
    "duration": 20,
    "start_time": "2022-10-07T08:25:38.351Z"
   },
   {
    "duration": 131,
    "start_time": "2022-10-07T08:25:54.119Z"
   },
   {
    "duration": 130,
    "start_time": "2022-10-07T08:26:12.358Z"
   },
   {
    "duration": 130,
    "start_time": "2022-10-07T08:26:29.727Z"
   },
   {
    "duration": 122,
    "start_time": "2022-10-07T08:26:35.429Z"
   },
   {
    "duration": 215,
    "start_time": "2022-10-07T08:26:42.534Z"
   },
   {
    "duration": 137,
    "start_time": "2022-10-07T08:26:47.485Z"
   },
   {
    "duration": 131,
    "start_time": "2022-10-07T08:26:52.920Z"
   },
   {
    "duration": 193,
    "start_time": "2022-10-07T08:26:57.881Z"
   },
   {
    "duration": 119,
    "start_time": "2022-10-07T08:27:06.254Z"
   },
   {
    "duration": 1164,
    "start_time": "2022-10-07T08:27:23.820Z"
   },
   {
    "duration": 388,
    "start_time": "2022-10-07T08:27:24.986Z"
   },
   {
    "duration": 18,
    "start_time": "2022-10-07T08:27:25.375Z"
   },
   {
    "duration": 26,
    "start_time": "2022-10-07T08:27:25.396Z"
   },
   {
    "duration": 27,
    "start_time": "2022-10-07T08:27:25.424Z"
   },
   {
    "duration": 11,
    "start_time": "2022-10-07T08:27:25.453Z"
   },
   {
    "duration": 52,
    "start_time": "2022-10-07T08:27:25.465Z"
   },
   {
    "duration": 19,
    "start_time": "2022-10-07T08:27:25.519Z"
   },
   {
    "duration": 14,
    "start_time": "2022-10-07T08:27:25.540Z"
   },
   {
    "duration": 109,
    "start_time": "2022-10-07T08:27:25.557Z"
   },
   {
    "duration": 11,
    "start_time": "2022-10-07T08:27:25.668Z"
   },
   {
    "duration": 13,
    "start_time": "2022-10-07T08:27:25.681Z"
   },
   {
    "duration": 12,
    "start_time": "2022-10-07T08:27:25.696Z"
   },
   {
    "duration": 14,
    "start_time": "2022-10-07T08:27:25.710Z"
   },
   {
    "duration": 10,
    "start_time": "2022-10-07T08:27:25.726Z"
   },
   {
    "duration": 9,
    "start_time": "2022-10-07T08:27:25.737Z"
   },
   {
    "duration": 21,
    "start_time": "2022-10-07T08:27:25.748Z"
   },
   {
    "duration": 54,
    "start_time": "2022-10-07T08:27:25.770Z"
   },
   {
    "duration": 249,
    "start_time": "2022-10-07T08:27:25.825Z"
   },
   {
    "duration": 30,
    "start_time": "2022-10-07T08:27:26.077Z"
   },
   {
    "duration": 32,
    "start_time": "2022-10-07T08:27:26.109Z"
   },
   {
    "duration": 22,
    "start_time": "2022-10-07T08:27:26.142Z"
   },
   {
    "duration": 340,
    "start_time": "2022-10-07T08:27:26.166Z"
   },
   {
    "duration": 75,
    "start_time": "2022-10-07T08:27:26.508Z"
   },
   {
    "duration": 491,
    "start_time": "2022-10-07T08:27:26.584Z"
   },
   {
    "duration": 262,
    "start_time": "2022-10-07T08:27:27.077Z"
   },
   {
    "duration": 8,
    "start_time": "2022-10-07T08:27:27.342Z"
   },
   {
    "duration": 32,
    "start_time": "2022-10-07T08:27:27.355Z"
   },
   {
    "duration": 39,
    "start_time": "2022-10-07T08:27:27.389Z"
   },
   {
    "duration": 299,
    "start_time": "2022-10-07T08:27:27.431Z"
   },
   {
    "duration": 28,
    "start_time": "2022-10-07T08:27:27.731Z"
   },
   {
    "duration": 5,
    "start_time": "2022-10-07T08:27:27.761Z"
   },
   {
    "duration": 62,
    "start_time": "2022-10-07T08:27:27.767Z"
   },
   {
    "duration": 37,
    "start_time": "2022-10-07T08:27:27.831Z"
   },
   {
    "duration": 10,
    "start_time": "2022-10-07T08:27:27.870Z"
   },
   {
    "duration": 40,
    "start_time": "2022-10-07T08:27:27.882Z"
   },
   {
    "duration": 28,
    "start_time": "2022-10-07T08:27:27.923Z"
   },
   {
    "duration": 355,
    "start_time": "2022-10-07T08:27:27.953Z"
   },
   {
    "duration": 18,
    "start_time": "2022-10-07T08:27:28.310Z"
   },
   {
    "duration": 49,
    "start_time": "2022-10-07T08:27:28.330Z"
   },
   {
    "duration": 418,
    "start_time": "2022-10-07T08:27:28.381Z"
   },
   {
    "duration": 8,
    "start_time": "2022-10-07T08:27:28.801Z"
   },
   {
    "duration": 137,
    "start_time": "2022-10-07T08:27:28.821Z"
   },
   {
    "duration": 350,
    "start_time": "2022-10-07T08:27:28.960Z"
   },
   {
    "duration": 7,
    "start_time": "2022-10-07T08:27:29.321Z"
   },
   {
    "duration": 53,
    "start_time": "2022-10-07T08:27:29.330Z"
   },
   {
    "duration": 351,
    "start_time": "2022-10-07T08:27:29.384Z"
   },
   {
    "duration": 8,
    "start_time": "2022-10-07T08:27:29.737Z"
   },
   {
    "duration": 50,
    "start_time": "2022-10-07T08:27:29.746Z"
   },
   {
    "duration": 14,
    "start_time": "2022-10-07T08:27:29.798Z"
   },
   {
    "duration": 128,
    "start_time": "2022-10-07T08:27:29.814Z"
   },
   {
    "duration": 160,
    "start_time": "2022-10-07T08:27:29.944Z"
   },
   {
    "duration": 31,
    "start_time": "2022-10-07T08:27:30.106Z"
   },
   {
    "duration": 32,
    "start_time": "2022-10-07T08:27:30.139Z"
   },
   {
    "duration": 319,
    "start_time": "2022-10-07T08:27:30.173Z"
   },
   {
    "duration": 31,
    "start_time": "2022-10-07T08:27:30.493Z"
   },
   {
    "duration": 26,
    "start_time": "2022-10-07T08:27:30.525Z"
   },
   {
    "duration": 46,
    "start_time": "2022-10-07T08:27:30.553Z"
   },
   {
    "duration": 45,
    "start_time": "2022-10-07T08:27:30.601Z"
   },
   {
    "duration": 265,
    "start_time": "2022-10-07T08:27:30.648Z"
   },
   {
    "duration": 32,
    "start_time": "2022-10-07T08:27:30.921Z"
   },
   {
    "duration": 25,
    "start_time": "2022-10-07T08:27:30.955Z"
   },
   {
    "duration": 186,
    "start_time": "2022-10-07T08:27:30.982Z"
   },
   {
    "duration": 11,
    "start_time": "2022-10-07T08:37:11.657Z"
   },
   {
    "duration": 16,
    "start_time": "2022-10-07T08:37:27.915Z"
   },
   {
    "duration": 15,
    "start_time": "2022-10-07T08:39:02.451Z"
   },
   {
    "duration": 5,
    "start_time": "2022-10-07T08:39:16.259Z"
   },
   {
    "duration": 27,
    "start_time": "2022-10-07T08:39:29.505Z"
   },
   {
    "duration": 25,
    "start_time": "2022-10-07T08:39:49.628Z"
   },
   {
    "duration": 37,
    "start_time": "2022-10-07T08:40:06.074Z"
   },
   {
    "duration": 16,
    "start_time": "2022-10-07T08:40:28.955Z"
   },
   {
    "duration": 8,
    "start_time": "2022-10-07T08:41:24.022Z"
   },
   {
    "duration": 14,
    "start_time": "2022-10-07T08:41:39.425Z"
   },
   {
    "duration": 9,
    "start_time": "2022-10-07T08:43:52.572Z"
   },
   {
    "duration": 90,
    "start_time": "2022-10-07T08:59:33.483Z"
   },
   {
    "duration": 73,
    "start_time": "2022-10-07T08:59:44.876Z"
   },
   {
    "duration": 100,
    "start_time": "2022-10-07T09:00:42.391Z"
   },
   {
    "duration": 97,
    "start_time": "2022-10-07T09:01:04.386Z"
   },
   {
    "duration": 1104,
    "start_time": "2022-10-07T09:01:15.812Z"
   },
   {
    "duration": 314,
    "start_time": "2022-10-07T09:01:16.921Z"
   },
   {
    "duration": 15,
    "start_time": "2022-10-07T09:01:17.236Z"
   },
   {
    "duration": 19,
    "start_time": "2022-10-07T09:01:17.252Z"
   },
   {
    "duration": 59,
    "start_time": "2022-10-07T09:01:17.272Z"
   },
   {
    "duration": 10,
    "start_time": "2022-10-07T09:01:17.332Z"
   },
   {
    "duration": 64,
    "start_time": "2022-10-07T09:01:17.343Z"
   },
   {
    "duration": 49,
    "start_time": "2022-10-07T09:01:17.408Z"
   },
   {
    "duration": 29,
    "start_time": "2022-10-07T09:01:17.460Z"
   },
   {
    "duration": 67,
    "start_time": "2022-10-07T09:01:17.491Z"
   },
   {
    "duration": 9,
    "start_time": "2022-10-07T09:01:17.559Z"
   },
   {
    "duration": 47,
    "start_time": "2022-10-07T09:01:17.569Z"
   },
   {
    "duration": 45,
    "start_time": "2022-10-07T09:01:17.617Z"
   },
   {
    "duration": 43,
    "start_time": "2022-10-07T09:01:17.664Z"
   },
   {
    "duration": 56,
    "start_time": "2022-10-07T09:01:17.709Z"
   },
   {
    "duration": 25,
    "start_time": "2022-10-07T09:01:17.766Z"
   },
   {
    "duration": 37,
    "start_time": "2022-10-07T09:01:17.792Z"
   },
   {
    "duration": 61,
    "start_time": "2022-10-07T09:01:17.830Z"
   },
   {
    "duration": 219,
    "start_time": "2022-10-07T09:01:17.892Z"
   },
   {
    "duration": 26,
    "start_time": "2022-10-07T09:01:18.112Z"
   },
   {
    "duration": 22,
    "start_time": "2022-10-07T09:01:18.139Z"
   },
   {
    "duration": 25,
    "start_time": "2022-10-07T09:01:18.163Z"
   },
   {
    "duration": 304,
    "start_time": "2022-10-07T09:01:18.189Z"
   },
   {
    "duration": 71,
    "start_time": "2022-10-07T09:01:18.495Z"
   },
   {
    "duration": 421,
    "start_time": "2022-10-07T09:01:18.567Z"
   },
   {
    "duration": 245,
    "start_time": "2022-10-07T09:01:18.990Z"
   },
   {
    "duration": 5,
    "start_time": "2022-10-07T09:01:19.237Z"
   },
   {
    "duration": 34,
    "start_time": "2022-10-07T09:01:19.245Z"
   },
   {
    "duration": 16,
    "start_time": "2022-10-07T09:01:19.281Z"
   },
   {
    "duration": 290,
    "start_time": "2022-10-07T09:01:19.298Z"
   },
   {
    "duration": 33,
    "start_time": "2022-10-07T09:01:19.590Z"
   },
   {
    "duration": 7,
    "start_time": "2022-10-07T09:01:19.624Z"
   },
   {
    "duration": 46,
    "start_time": "2022-10-07T09:01:19.632Z"
   },
   {
    "duration": 45,
    "start_time": "2022-10-07T09:01:19.679Z"
   },
   {
    "duration": 9,
    "start_time": "2022-10-07T09:01:19.725Z"
   },
   {
    "duration": 25,
    "start_time": "2022-10-07T09:01:19.735Z"
   },
   {
    "duration": 44,
    "start_time": "2022-10-07T09:01:19.762Z"
   },
   {
    "duration": 360,
    "start_time": "2022-10-07T09:01:19.808Z"
   },
   {
    "duration": 7,
    "start_time": "2022-10-07T09:01:20.169Z"
   },
   {
    "duration": 134,
    "start_time": "2022-10-07T09:01:20.177Z"
   },
   {
    "duration": 343,
    "start_time": "2022-10-07T09:01:20.313Z"
   },
   {
    "duration": 7,
    "start_time": "2022-10-07T09:01:20.658Z"
   },
   {
    "duration": 103,
    "start_time": "2022-10-07T09:01:20.666Z"
   },
   {
    "duration": 340,
    "start_time": "2022-10-07T09:01:20.771Z"
   },
   {
    "duration": 14,
    "start_time": "2022-10-07T09:01:21.112Z"
   },
   {
    "duration": 59,
    "start_time": "2022-10-07T09:01:21.128Z"
   },
   {
    "duration": 383,
    "start_time": "2022-10-07T09:01:21.189Z"
   },
   {
    "duration": 9,
    "start_time": "2022-10-07T09:01:21.574Z"
   },
   {
    "duration": 43,
    "start_time": "2022-10-07T09:01:21.585Z"
   },
   {
    "duration": 11,
    "start_time": "2022-10-07T09:01:21.630Z"
   },
   {
    "duration": 280,
    "start_time": "2022-10-07T09:01:21.642Z"
   },
   {
    "duration": 235,
    "start_time": "2022-10-07T09:01:21.923Z"
   },
   {
    "duration": 71,
    "start_time": "2022-10-07T09:01:22.160Z"
   },
   {
    "duration": 26,
    "start_time": "2022-10-07T09:01:22.232Z"
   },
   {
    "duration": 662,
    "start_time": "2022-10-07T09:01:22.260Z"
   },
   {
    "duration": 25,
    "start_time": "2022-10-07T09:01:22.924Z"
   },
   {
    "duration": 9,
    "start_time": "2022-10-07T09:01:22.951Z"
   },
   {
    "duration": 67,
    "start_time": "2022-10-07T09:01:22.961Z"
   },
   {
    "duration": 36,
    "start_time": "2022-10-07T09:01:23.029Z"
   },
   {
    "duration": 381,
    "start_time": "2022-10-07T09:01:23.067Z"
   },
   {
    "duration": 30,
    "start_time": "2022-10-07T09:01:23.449Z"
   },
   {
    "duration": 28,
    "start_time": "2022-10-07T09:01:23.481Z"
   },
   {
    "duration": 128,
    "start_time": "2022-10-07T09:01:23.510Z"
   },
   {
    "duration": 10,
    "start_time": "2022-10-07T09:01:23.639Z"
   },
   {
    "duration": 35,
    "start_time": "2022-10-07T09:01:23.650Z"
   },
   {
    "duration": 40,
    "start_time": "2022-10-07T09:01:23.687Z"
   },
   {
    "duration": 80,
    "start_time": "2022-10-07T09:01:23.728Z"
   },
   {
    "duration": 81,
    "start_time": "2022-10-07T11:58:38.085Z"
   },
   {
    "duration": 1042,
    "start_time": "2022-10-07T11:59:06.782Z"
   },
   {
    "duration": 219,
    "start_time": "2022-10-07T11:59:07.826Z"
   },
   {
    "duration": 15,
    "start_time": "2022-10-07T11:59:08.046Z"
   },
   {
    "duration": 15,
    "start_time": "2022-10-07T11:59:08.062Z"
   },
   {
    "duration": 43,
    "start_time": "2022-10-07T11:59:08.079Z"
   },
   {
    "duration": 10,
    "start_time": "2022-10-07T11:59:08.123Z"
   },
   {
    "duration": 41,
    "start_time": "2022-10-07T11:59:08.134Z"
   },
   {
    "duration": 12,
    "start_time": "2022-10-07T11:59:08.177Z"
   },
   {
    "duration": 8,
    "start_time": "2022-10-07T11:59:08.191Z"
   },
   {
    "duration": 74,
    "start_time": "2022-10-07T11:59:08.200Z"
   },
   {
    "duration": 8,
    "start_time": "2022-10-07T11:59:08.276Z"
   },
   {
    "duration": 11,
    "start_time": "2022-10-07T11:59:08.286Z"
   },
   {
    "duration": 8,
    "start_time": "2022-10-07T11:59:08.298Z"
   },
   {
    "duration": 8,
    "start_time": "2022-10-07T11:59:08.308Z"
   },
   {
    "duration": 8,
    "start_time": "2022-10-07T11:59:08.317Z"
   },
   {
    "duration": 8,
    "start_time": "2022-10-07T11:59:08.326Z"
   },
   {
    "duration": 17,
    "start_time": "2022-10-07T11:59:08.336Z"
   },
   {
    "duration": 46,
    "start_time": "2022-10-07T11:59:08.355Z"
   },
   {
    "duration": 248,
    "start_time": "2022-10-07T11:59:08.402Z"
   },
   {
    "duration": 24,
    "start_time": "2022-10-07T11:59:08.652Z"
   },
   {
    "duration": 14,
    "start_time": "2022-10-07T11:59:08.677Z"
   },
   {
    "duration": 14,
    "start_time": "2022-10-07T11:59:08.692Z"
   },
   {
    "duration": 338,
    "start_time": "2022-10-07T11:59:08.721Z"
   },
   {
    "duration": 84,
    "start_time": "2022-10-07T11:59:09.060Z"
   },
   {
    "duration": 471,
    "start_time": "2022-10-07T11:59:09.145Z"
   },
   {
    "duration": 288,
    "start_time": "2022-10-07T11:59:09.618Z"
   },
   {
    "duration": 4,
    "start_time": "2022-10-07T11:59:09.908Z"
   },
   {
    "duration": 33,
    "start_time": "2022-10-07T11:59:09.914Z"
   },
   {
    "duration": 16,
    "start_time": "2022-10-07T11:59:09.949Z"
   },
   {
    "duration": 322,
    "start_time": "2022-10-07T11:59:09.967Z"
   },
   {
    "duration": 34,
    "start_time": "2022-10-07T11:59:10.291Z"
   },
   {
    "duration": 6,
    "start_time": "2022-10-07T11:59:10.327Z"
   },
   {
    "duration": 39,
    "start_time": "2022-10-07T11:59:10.334Z"
   },
   {
    "duration": 55,
    "start_time": "2022-10-07T11:59:10.375Z"
   },
   {
    "duration": 10,
    "start_time": "2022-10-07T11:59:10.432Z"
   },
   {
    "duration": 19,
    "start_time": "2022-10-07T11:59:10.444Z"
   },
   {
    "duration": 24,
    "start_time": "2022-10-07T11:59:10.465Z"
   },
   {
    "duration": 398,
    "start_time": "2022-10-07T11:59:10.491Z"
   },
   {
    "duration": 8,
    "start_time": "2022-10-07T11:59:10.891Z"
   },
   {
    "duration": 146,
    "start_time": "2022-10-07T11:59:10.900Z"
   },
   {
    "duration": 345,
    "start_time": "2022-10-07T11:59:11.050Z"
   },
   {
    "duration": 8,
    "start_time": "2022-10-07T11:59:11.397Z"
   },
   {
    "duration": 61,
    "start_time": "2022-10-07T11:59:11.407Z"
   },
   {
    "duration": 370,
    "start_time": "2022-10-07T11:59:11.470Z"
   },
   {
    "duration": 8,
    "start_time": "2022-10-07T11:59:11.842Z"
   },
   {
    "duration": 37,
    "start_time": "2022-10-07T11:59:11.851Z"
   },
   {
    "duration": 356,
    "start_time": "2022-10-07T11:59:11.890Z"
   },
   {
    "duration": 7,
    "start_time": "2022-10-07T11:59:12.248Z"
   },
   {
    "duration": 54,
    "start_time": "2022-10-07T11:59:12.257Z"
   },
   {
    "duration": 11,
    "start_time": "2022-10-07T11:59:12.312Z"
   },
   {
    "duration": 128,
    "start_time": "2022-10-07T11:59:12.324Z"
   },
   {
    "duration": 140,
    "start_time": "2022-10-07T11:59:12.453Z"
   },
   {
    "duration": 37,
    "start_time": "2022-10-07T11:59:12.596Z"
   },
   {
    "duration": 35,
    "start_time": "2022-10-07T11:59:12.635Z"
   },
   {
    "duration": 303,
    "start_time": "2022-10-07T11:59:12.672Z"
   },
   {
    "duration": 26,
    "start_time": "2022-10-07T11:59:12.976Z"
   },
   {
    "duration": 21,
    "start_time": "2022-10-07T11:59:13.003Z"
   },
   {
    "duration": 18,
    "start_time": "2022-10-07T11:59:13.026Z"
   },
   {
    "duration": 23,
    "start_time": "2022-10-07T11:59:13.045Z"
   },
   {
    "duration": 223,
    "start_time": "2022-10-07T11:59:13.070Z"
   },
   {
    "duration": 35,
    "start_time": "2022-10-07T11:59:13.295Z"
   },
   {
    "duration": 19,
    "start_time": "2022-10-07T11:59:13.331Z"
   },
   {
    "duration": 133,
    "start_time": "2022-10-07T11:59:13.351Z"
   },
   {
    "duration": 12,
    "start_time": "2022-10-07T11:59:13.485Z"
   },
   {
    "duration": 29,
    "start_time": "2022-10-07T11:59:13.498Z"
   },
   {
    "duration": 18,
    "start_time": "2022-10-07T11:59:13.529Z"
   },
   {
    "duration": 71,
    "start_time": "2022-10-07T11:59:13.549Z"
   },
   {
    "duration": 94,
    "start_time": "2022-10-07T11:59:24.646Z"
   },
   {
    "duration": 106,
    "start_time": "2022-10-07T12:49:04.664Z"
   },
   {
    "duration": 1084,
    "start_time": "2022-10-07T13:31:24.015Z"
   },
   {
    "duration": 218,
    "start_time": "2022-10-07T13:31:25.101Z"
   },
   {
    "duration": 23,
    "start_time": "2022-10-07T13:31:25.321Z"
   },
   {
    "duration": 18,
    "start_time": "2022-10-07T13:31:25.346Z"
   },
   {
    "duration": 36,
    "start_time": "2022-10-07T13:31:25.366Z"
   },
   {
    "duration": 24,
    "start_time": "2022-10-07T13:31:25.404Z"
   },
   {
    "duration": 39,
    "start_time": "2022-10-07T13:31:25.430Z"
   },
   {
    "duration": 14,
    "start_time": "2022-10-07T13:31:25.470Z"
   },
   {
    "duration": 18,
    "start_time": "2022-10-07T13:31:25.485Z"
   },
   {
    "duration": 75,
    "start_time": "2022-10-07T13:31:25.505Z"
   },
   {
    "duration": 8,
    "start_time": "2022-10-07T13:31:25.581Z"
   },
   {
    "duration": 8,
    "start_time": "2022-10-07T13:31:25.591Z"
   },
   {
    "duration": 8,
    "start_time": "2022-10-07T13:31:25.600Z"
   },
   {
    "duration": 8,
    "start_time": "2022-10-07T13:31:25.609Z"
   },
   {
    "duration": 8,
    "start_time": "2022-10-07T13:31:25.619Z"
   },
   {
    "duration": 8,
    "start_time": "2022-10-07T13:31:25.628Z"
   },
   {
    "duration": 16,
    "start_time": "2022-10-07T13:31:25.637Z"
   },
   {
    "duration": 37,
    "start_time": "2022-10-07T13:31:25.654Z"
   },
   {
    "duration": 234,
    "start_time": "2022-10-07T13:31:25.692Z"
   },
   {
    "duration": 23,
    "start_time": "2022-10-07T13:31:25.928Z"
   },
   {
    "duration": 13,
    "start_time": "2022-10-07T13:31:25.953Z"
   },
   {
    "duration": 6,
    "start_time": "2022-10-07T13:31:25.967Z"
   },
   {
    "duration": 401,
    "start_time": "2022-10-07T13:31:25.974Z"
   },
   {
    "duration": 73,
    "start_time": "2022-10-07T13:31:26.377Z"
   },
   {
    "duration": 424,
    "start_time": "2022-10-07T13:31:26.452Z"
   },
   {
    "duration": 249,
    "start_time": "2022-10-07T13:31:26.877Z"
   },
   {
    "duration": 5,
    "start_time": "2022-10-07T13:31:27.128Z"
   },
   {
    "duration": 26,
    "start_time": "2022-10-07T13:31:27.138Z"
   },
   {
    "duration": 17,
    "start_time": "2022-10-07T13:31:27.165Z"
   },
   {
    "duration": 323,
    "start_time": "2022-10-07T13:31:27.184Z"
   },
   {
    "duration": 35,
    "start_time": "2022-10-07T13:31:27.509Z"
   },
   {
    "duration": 6,
    "start_time": "2022-10-07T13:31:27.546Z"
   },
   {
    "duration": 44,
    "start_time": "2022-10-07T13:31:27.554Z"
   },
   {
    "duration": 48,
    "start_time": "2022-10-07T13:31:27.600Z"
   },
   {
    "duration": 12,
    "start_time": "2022-10-07T13:31:27.650Z"
   },
   {
    "duration": 28,
    "start_time": "2022-10-07T13:31:27.663Z"
   },
   {
    "duration": 35,
    "start_time": "2022-10-07T13:31:27.693Z"
   },
   {
    "duration": 350,
    "start_time": "2022-10-07T13:31:27.729Z"
   },
   {
    "duration": 6,
    "start_time": "2022-10-07T13:31:28.081Z"
   },
   {
    "duration": 137,
    "start_time": "2022-10-07T13:31:28.089Z"
   },
   {
    "duration": 327,
    "start_time": "2022-10-07T13:31:28.227Z"
   },
   {
    "duration": 7,
    "start_time": "2022-10-07T13:31:28.555Z"
   },
   {
    "duration": 65,
    "start_time": "2022-10-07T13:31:28.564Z"
   },
   {
    "duration": 336,
    "start_time": "2022-10-07T13:31:28.630Z"
   },
   {
    "duration": 10,
    "start_time": "2022-10-07T13:31:28.968Z"
   },
   {
    "duration": 58,
    "start_time": "2022-10-07T13:31:28.979Z"
   },
   {
    "duration": 360,
    "start_time": "2022-10-07T13:31:29.040Z"
   },
   {
    "duration": 8,
    "start_time": "2022-10-07T13:31:29.402Z"
   },
   {
    "duration": 48,
    "start_time": "2022-10-07T13:31:29.421Z"
   },
   {
    "duration": 12,
    "start_time": "2022-10-07T13:31:29.471Z"
   },
   {
    "duration": 138,
    "start_time": "2022-10-07T13:31:29.485Z"
   },
   {
    "duration": 179,
    "start_time": "2022-10-07T13:31:29.625Z"
   },
   {
    "duration": 31,
    "start_time": "2022-10-07T13:31:29.806Z"
   },
   {
    "duration": 29,
    "start_time": "2022-10-07T13:31:29.838Z"
   },
   {
    "duration": 326,
    "start_time": "2022-10-07T13:31:29.869Z"
   },
   {
    "duration": 46,
    "start_time": "2022-10-07T13:31:30.197Z"
   },
   {
    "duration": 11,
    "start_time": "2022-10-07T13:31:30.247Z"
   },
   {
    "duration": 38,
    "start_time": "2022-10-07T13:31:30.259Z"
   },
   {
    "duration": 67,
    "start_time": "2022-10-07T13:31:30.299Z"
   },
   {
    "duration": 293,
    "start_time": "2022-10-07T13:31:30.368Z"
   },
   {
    "duration": 31,
    "start_time": "2022-10-07T13:31:30.664Z"
   },
   {
    "duration": 45,
    "start_time": "2022-10-07T13:31:30.697Z"
   },
   {
    "duration": 166,
    "start_time": "2022-10-07T13:31:30.744Z"
   },
   {
    "duration": 15,
    "start_time": "2022-10-07T13:31:30.912Z"
   },
   {
    "duration": 68,
    "start_time": "2022-10-07T13:31:30.928Z"
   },
   {
    "duration": 39,
    "start_time": "2022-10-07T13:31:30.997Z"
   }
  ],
  "kernelspec": {
   "display_name": "Python 3 (ipykernel)",
   "language": "python",
   "name": "python3"
  },
  "language_info": {
   "codemirror_mode": {
    "name": "ipython",
    "version": 3
   },
   "file_extension": ".py",
   "mimetype": "text/x-python",
   "name": "python",
   "nbconvert_exporter": "python",
   "pygments_lexer": "ipython3",
   "version": "3.9.5"
  },
  "toc": {
   "base_numbering": 1,
   "nav_menu": {},
   "number_sections": true,
   "sideBar": true,
   "skip_h1_title": true,
   "title_cell": "Table of Contents",
   "title_sidebar": "Contents",
   "toc_cell": false,
   "toc_position": {},
   "toc_section_display": true,
   "toc_window_display": false
  }
 },
 "nbformat": 4,
 "nbformat_minor": 2
}
