{
 "cells": [
  {
   "cell_type": "markdown",
   "metadata": {},
   "source": [
    "# Описание проекта\n",
    "Вы — аналитик крупного интернет-магазина. Вместе с отделом маркетинга вы подготовили список гипотез для увеличения выручки.\n",
    "Приоритизируйте гипотезы, запустите A/B-тест и проанализируйте результаты.\n",
    "\n",
    "\n",
    "#### [Шаг 1. Загрузите данные и подготовьте их к анализу](#cell1)\n",
    "Загрузите данные о гипотезах, визитах, заказах. Оптимизируйте данные для анализа. Убедитесь, что тип данных в каждой колонке — правильный. \n",
    "\n",
    "Данные для первой части\n",
    "Файл /datasets/hypothesis.csv. \n",
    "- Hypothesis — краткое описание гипотезы;\n",
    "- Reach — охват пользователей по 10-балльной шкале;\n",
    "- Impact — влияние на пользователей по 10-балльной шкале;\n",
    "- Confidence — уверенность в гипотезе по 10-балльной шкале;\n",
    "- Efforts — затраты ресурсов на проверку гипотезы по 10-балльной шкале. Чем больше значение Efforts, тем дороже проверка гипотезы.\n",
    "\n",
    "Данные для второй части\n",
    "Файл /datasets/orders.csv. \n",
    "- transactionId — идентификатор заказа;\n",
    "- visitorId — идентификатор пользователя, совершившего заказ;\n",
    "- date — дата, когда был совершён заказ;\n",
    "- revenue — выручка заказа;\n",
    "- group — группа A/B-теста, в которую попал заказ.\n",
    "\n",
    "Файл /datasets/visitors.csv.\n",
    "- date — дата;\n",
    "- group — группа A/B-теста;\n",
    "- visitors — количество пользователей в указанную дату в указанной группе A/B-теста\n",
    "\n",
    "\n",
    "#### [Шаг 2. Приоритизация гипотез](#cell2) \n",
    "В файле /datasets/hypothesis.csv 9 гипотез по увеличению выручки интернет-магазина с указанными параметрами Reach, Impact, Confidence, Effort.\n",
    "Задача\n",
    "- Примените фреймворк ICE для приоритизации гипотез. Отсортируйте их по убыванию приоритета.\n",
    "- Примените фреймворк RICE для приоритизации гипотез. Отсортируйте их по убыванию приоритета.\n",
    "- Укажите, как изменилась приоритизация гипотез при применении RICE вместо ICE. Объясните, почему так произошло.\n",
    "\n",
    "#### [Шаг 3. Анализ A/B-теста](#cell3) \n",
    "Вы провели A/B-тест и получили результаты, которые описаны в файлах /datasets/orders.csv и /datasets/visitors.csv.\n",
    "Задача\n",
    "Проанализируйте A/B-тест:\n",
    "- Постройте график кумулятивной выручки по группам. Сделайте выводы и предположения.\n",
    "- Постройте график кумулятивного среднего чека по группам. Сделайте выводы и предположения.\n",
    "- Постройте график относительного изменения кумулятивного среднего чека группы B к группе A. Сделайте выводы и предположения.\n",
    "- Постройте график кумулятивной конверсии по группам. Сделайте выводы и предположения.\n",
    "- Постройте график относительного изменения кумулятивной конверсии группы B к группе A. Сделайте выводы и предположения.\n",
    "- Постройте точечный график количества заказов по пользователям. Сделайте выводы и предположения.\n",
    "- Посчитайте 95-й и 99-й перцентили количества заказов на пользователя. Выберите границу для определения аномальных пользователей.\n",
    "- Постройте точечный график стоимостей заказов. Сделайте выводы и предположения.\n",
    "- Посчитайте 95-й и 99-й перцентили стоимости заказов. Выберите границу для определения аномальных заказов.\n",
    "- Посчитайте статистическую значимость различий в конверсии между группами по «сырым» данным. Сделайте выводы и предположения.\n",
    "- Посчитайте статистическую значимость различий в среднем чеке заказа между группами по «сырым» данным. Сделайте выводы и предположения.\n",
    "- Посчитайте статистическую значимость различий в конверсии между группами по «очищенным» данным. Сделайте выводы и предположения.\n",
    "- Посчитайте статистическую значимость различий в среднем чеке заказа между группами по «очищенным» данным. Сделайте выводы и предположения.\n",
    "- Примите решение по результатам теста и объясните его. Варианты решений: \n",
    "1. Остановить тест, зафиксировать победу одной из групп. \n",
    "2. Остановить тест, зафиксировать отсутствие различий между группами. \n",
    "3. Продолжить тест.\n",
    "\n",
    "#### [Шаг 4. Вывод](#cell4) "
   ]
  },
  {
   "cell_type": "markdown",
   "metadata": {},
   "source": [
    "# Шаг 1. Загрузите данные и подготовьте их к анализу <a class=\"anchor\" name=\"cell1\"></a>\n",
    "Загрузите данные о гипотезах, визитах, заказах. Оптимизируйте данные для анализа. Убедитесь, что тип данных в каждой колонке — правильный."
   ]
  },
  {
   "cell_type": "code",
   "execution_count": 1,
   "metadata": {},
   "outputs": [],
   "source": [
    "import pandas as pd\n",
    "pd.set_option('display.max_colwidth', 0)\n",
    "import numpy as np\n",
    "import seaborn as sns\n",
    "from matplotlib import pyplot as plt\n",
    "from datetime import datetime, timedelta\n",
    "import math\n",
    "import scipy.stats as stats\n",
    "from scipy import stats as st"
   ]
  },
  {
   "cell_type": "code",
   "execution_count": 2,
   "metadata": {},
   "outputs": [],
   "source": [
    "visitors = pd.read_csv('/datasets/visitors.csv')\n",
    "orders = pd.read_csv('/datasets/orders.csv')\n",
    "hypothesis = pd.read_csv('/datasets/hypothesis.csv')"
   ]
  },
  {
   "cell_type": "code",
   "execution_count": 3,
   "metadata": {},
   "outputs": [
    {
     "data": {
      "text/html": [
       "<div>\n",
       "<style scoped>\n",
       "    .dataframe tbody tr th:only-of-type {\n",
       "        vertical-align: middle;\n",
       "    }\n",
       "\n",
       "    .dataframe tbody tr th {\n",
       "        vertical-align: top;\n",
       "    }\n",
       "\n",
       "    .dataframe thead th {\n",
       "        text-align: right;\n",
       "    }\n",
       "</style>\n",
       "<table border=\"1\" class=\"dataframe\">\n",
       "  <thead>\n",
       "    <tr style=\"text-align: right;\">\n",
       "      <th></th>\n",
       "      <th>date</th>\n",
       "      <th>group</th>\n",
       "      <th>visitors</th>\n",
       "    </tr>\n",
       "  </thead>\n",
       "  <tbody>\n",
       "    <tr>\n",
       "      <th>0</th>\n",
       "      <td>2019-08-01</td>\n",
       "      <td>A</td>\n",
       "      <td>719</td>\n",
       "    </tr>\n",
       "    <tr>\n",
       "      <th>1</th>\n",
       "      <td>2019-08-02</td>\n",
       "      <td>A</td>\n",
       "      <td>619</td>\n",
       "    </tr>\n",
       "    <tr>\n",
       "      <th>2</th>\n",
       "      <td>2019-08-03</td>\n",
       "      <td>A</td>\n",
       "      <td>507</td>\n",
       "    </tr>\n",
       "    <tr>\n",
       "      <th>3</th>\n",
       "      <td>2019-08-04</td>\n",
       "      <td>A</td>\n",
       "      <td>717</td>\n",
       "    </tr>\n",
       "    <tr>\n",
       "      <th>4</th>\n",
       "      <td>2019-08-05</td>\n",
       "      <td>A</td>\n",
       "      <td>756</td>\n",
       "    </tr>\n",
       "    <tr>\n",
       "      <th>5</th>\n",
       "      <td>2019-08-06</td>\n",
       "      <td>A</td>\n",
       "      <td>667</td>\n",
       "    </tr>\n",
       "    <tr>\n",
       "      <th>6</th>\n",
       "      <td>2019-08-07</td>\n",
       "      <td>A</td>\n",
       "      <td>644</td>\n",
       "    </tr>\n",
       "    <tr>\n",
       "      <th>7</th>\n",
       "      <td>2019-08-08</td>\n",
       "      <td>A</td>\n",
       "      <td>610</td>\n",
       "    </tr>\n",
       "    <tr>\n",
       "      <th>8</th>\n",
       "      <td>2019-08-09</td>\n",
       "      <td>A</td>\n",
       "      <td>617</td>\n",
       "    </tr>\n",
       "    <tr>\n",
       "      <th>9</th>\n",
       "      <td>2019-08-10</td>\n",
       "      <td>A</td>\n",
       "      <td>406</td>\n",
       "    </tr>\n",
       "  </tbody>\n",
       "</table>\n",
       "</div>"
      ],
      "text/plain": [
       "         date group  visitors\n",
       "0  2019-08-01  A     719     \n",
       "1  2019-08-02  A     619     \n",
       "2  2019-08-03  A     507     \n",
       "3  2019-08-04  A     717     \n",
       "4  2019-08-05  A     756     \n",
       "5  2019-08-06  A     667     \n",
       "6  2019-08-07  A     644     \n",
       "7  2019-08-08  A     610     \n",
       "8  2019-08-09  A     617     \n",
       "9  2019-08-10  A     406     "
      ]
     },
     "execution_count": 3,
     "metadata": {},
     "output_type": "execute_result"
    }
   ],
   "source": [
    "visitors.head(10)# получение первых 10 строк таблицы visitors"
   ]
  },
  {
   "cell_type": "code",
   "execution_count": 4,
   "metadata": {},
   "outputs": [
    {
     "name": "stdout",
     "output_type": "stream",
     "text": [
      "<class 'pandas.core.frame.DataFrame'>\n",
      "RangeIndex: 62 entries, 0 to 61\n",
      "Data columns (total 3 columns):\n",
      " #   Column    Non-Null Count  Dtype \n",
      "---  ------    --------------  ----- \n",
      " 0   date      62 non-null     object\n",
      " 1   group     62 non-null     object\n",
      " 2   visitors  62 non-null     int64 \n",
      "dtypes: int64(1), object(2)\n",
      "memory usage: 1.6+ KB\n"
     ]
    }
   ],
   "source": [
    "visitors.info() # посмотрим на размер таблицы visitors и типы данных"
   ]
  },
  {
   "cell_type": "code",
   "execution_count": 5,
   "metadata": {},
   "outputs": [
    {
     "data": {
      "text/plain": [
       "date        0\n",
       "group       0\n",
       "visitors    0\n",
       "dtype: int64"
      ]
     },
     "execution_count": 5,
     "metadata": {},
     "output_type": "execute_result"
    }
   ],
   "source": [
    "visitors.isna().sum() # подсчёт пропусков в таблице visitors"
   ]
  },
  {
   "cell_type": "code",
   "execution_count": 6,
   "metadata": {},
   "outputs": [
    {
     "data": {
      "text/plain": [
       "0"
      ]
     },
     "execution_count": 6,
     "metadata": {},
     "output_type": "execute_result"
    }
   ],
   "source": [
    "visitors.duplicated().sum() # подсчёт явных дубликатов в таблице visitors"
   ]
  },
  {
   "cell_type": "code",
   "execution_count": 7,
   "metadata": {},
   "outputs": [
    {
     "data": {
      "text/html": [
       "<div>\n",
       "<style scoped>\n",
       "    .dataframe tbody tr th:only-of-type {\n",
       "        vertical-align: middle;\n",
       "    }\n",
       "\n",
       "    .dataframe tbody tr th {\n",
       "        vertical-align: top;\n",
       "    }\n",
       "\n",
       "    .dataframe thead th {\n",
       "        text-align: right;\n",
       "    }\n",
       "</style>\n",
       "<table border=\"1\" class=\"dataframe\">\n",
       "  <thead>\n",
       "    <tr style=\"text-align: right;\">\n",
       "      <th></th>\n",
       "      <th>transactionId</th>\n",
       "      <th>visitorId</th>\n",
       "      <th>date</th>\n",
       "      <th>revenue</th>\n",
       "      <th>group</th>\n",
       "    </tr>\n",
       "  </thead>\n",
       "  <tbody>\n",
       "    <tr>\n",
       "      <th>0</th>\n",
       "      <td>3667963787</td>\n",
       "      <td>3312258926</td>\n",
       "      <td>2019-08-15</td>\n",
       "      <td>1650</td>\n",
       "      <td>B</td>\n",
       "    </tr>\n",
       "    <tr>\n",
       "      <th>1</th>\n",
       "      <td>2804400009</td>\n",
       "      <td>3642806036</td>\n",
       "      <td>2019-08-15</td>\n",
       "      <td>730</td>\n",
       "      <td>B</td>\n",
       "    </tr>\n",
       "    <tr>\n",
       "      <th>2</th>\n",
       "      <td>2961555356</td>\n",
       "      <td>4069496402</td>\n",
       "      <td>2019-08-15</td>\n",
       "      <td>400</td>\n",
       "      <td>A</td>\n",
       "    </tr>\n",
       "    <tr>\n",
       "      <th>3</th>\n",
       "      <td>3797467345</td>\n",
       "      <td>1196621759</td>\n",
       "      <td>2019-08-15</td>\n",
       "      <td>9759</td>\n",
       "      <td>B</td>\n",
       "    </tr>\n",
       "    <tr>\n",
       "      <th>4</th>\n",
       "      <td>2282983706</td>\n",
       "      <td>2322279887</td>\n",
       "      <td>2019-08-15</td>\n",
       "      <td>2308</td>\n",
       "      <td>B</td>\n",
       "    </tr>\n",
       "    <tr>\n",
       "      <th>5</th>\n",
       "      <td>182168103</td>\n",
       "      <td>935554773</td>\n",
       "      <td>2019-08-15</td>\n",
       "      <td>2210</td>\n",
       "      <td>B</td>\n",
       "    </tr>\n",
       "    <tr>\n",
       "      <th>6</th>\n",
       "      <td>398296753</td>\n",
       "      <td>2900797465</td>\n",
       "      <td>2019-08-15</td>\n",
       "      <td>1860</td>\n",
       "      <td>B</td>\n",
       "    </tr>\n",
       "    <tr>\n",
       "      <th>7</th>\n",
       "      <td>2626614568</td>\n",
       "      <td>78758296</td>\n",
       "      <td>2019-08-15</td>\n",
       "      <td>1044</td>\n",
       "      <td>A</td>\n",
       "    </tr>\n",
       "    <tr>\n",
       "      <th>8</th>\n",
       "      <td>1576988021</td>\n",
       "      <td>295230930</td>\n",
       "      <td>2019-08-15</td>\n",
       "      <td>13710</td>\n",
       "      <td>A</td>\n",
       "    </tr>\n",
       "    <tr>\n",
       "      <th>9</th>\n",
       "      <td>1506739906</td>\n",
       "      <td>1882260405</td>\n",
       "      <td>2019-08-15</td>\n",
       "      <td>1855</td>\n",
       "      <td>B</td>\n",
       "    </tr>\n",
       "  </tbody>\n",
       "</table>\n",
       "</div>"
      ],
      "text/plain": [
       "   transactionId   visitorId        date  revenue group\n",
       "0  3667963787     3312258926  2019-08-15  1650     B   \n",
       "1  2804400009     3642806036  2019-08-15  730      B   \n",
       "2  2961555356     4069496402  2019-08-15  400      A   \n",
       "3  3797467345     1196621759  2019-08-15  9759     B   \n",
       "4  2282983706     2322279887  2019-08-15  2308     B   \n",
       "5  182168103      935554773   2019-08-15  2210     B   \n",
       "6  398296753      2900797465  2019-08-15  1860     B   \n",
       "7  2626614568     78758296    2019-08-15  1044     A   \n",
       "8  1576988021     295230930   2019-08-15  13710    A   \n",
       "9  1506739906     1882260405  2019-08-15  1855     B   "
      ]
     },
     "execution_count": 7,
     "metadata": {},
     "output_type": "execute_result"
    }
   ],
   "source": [
    "orders.head(10) # получение первых 10 строк таблицы orders"
   ]
  },
  {
   "cell_type": "code",
   "execution_count": 8,
   "metadata": {},
   "outputs": [
    {
     "name": "stdout",
     "output_type": "stream",
     "text": [
      "<class 'pandas.core.frame.DataFrame'>\n",
      "RangeIndex: 1197 entries, 0 to 1196\n",
      "Data columns (total 5 columns):\n",
      " #   Column         Non-Null Count  Dtype \n",
      "---  ------         --------------  ----- \n",
      " 0   transactionId  1197 non-null   int64 \n",
      " 1   visitorId      1197 non-null   int64 \n",
      " 2   date           1197 non-null   object\n",
      " 3   revenue        1197 non-null   int64 \n",
      " 4   group          1197 non-null   object\n",
      "dtypes: int64(3), object(2)\n",
      "memory usage: 46.9+ KB\n"
     ]
    }
   ],
   "source": [
    "orders.info() # посмотрим на размер таблицы orders и типы данных"
   ]
  },
  {
   "cell_type": "code",
   "execution_count": 9,
   "metadata": {},
   "outputs": [
    {
     "data": {
      "text/plain": [
       "transactionId    0\n",
       "visitorId        0\n",
       "date             0\n",
       "revenue          0\n",
       "group            0\n",
       "dtype: int64"
      ]
     },
     "execution_count": 9,
     "metadata": {},
     "output_type": "execute_result"
    }
   ],
   "source": [
    "orders.isna().sum() # подсчёт пропусков в таблице orders"
   ]
  },
  {
   "cell_type": "code",
   "execution_count": 10,
   "metadata": {},
   "outputs": [
    {
     "data": {
      "text/plain": [
       "0"
      ]
     },
     "execution_count": 10,
     "metadata": {},
     "output_type": "execute_result"
    }
   ],
   "source": [
    "orders.duplicated().sum() # подсчёт явных дубликатов в таблице orders"
   ]
  },
  {
   "cell_type": "code",
   "execution_count": 11,
   "metadata": {},
   "outputs": [],
   "source": [
    "orders['visitorId'] = orders['visitorId'].astype('Int64')"
   ]
  },
  {
   "cell_type": "code",
   "execution_count": 12,
   "metadata": {},
   "outputs": [
    {
     "data": {
      "text/html": [
       "<div>\n",
       "<style scoped>\n",
       "    .dataframe tbody tr th:only-of-type {\n",
       "        vertical-align: middle;\n",
       "    }\n",
       "\n",
       "    .dataframe tbody tr th {\n",
       "        vertical-align: top;\n",
       "    }\n",
       "\n",
       "    .dataframe thead th {\n",
       "        text-align: right;\n",
       "    }\n",
       "</style>\n",
       "<table border=\"1\" class=\"dataframe\">\n",
       "  <thead>\n",
       "    <tr style=\"text-align: right;\">\n",
       "      <th></th>\n",
       "      <th>transactionId</th>\n",
       "      <th>visitorId</th>\n",
       "      <th>date</th>\n",
       "      <th>revenue</th>\n",
       "      <th>group</th>\n",
       "    </tr>\n",
       "  </thead>\n",
       "  <tbody>\n",
       "    <tr>\n",
       "      <th>507</th>\n",
       "      <td>4067849009</td>\n",
       "      <td>2108163459</td>\n",
       "      <td>2019-08-06</td>\n",
       "      <td>580</td>\n",
       "      <td>A</td>\n",
       "    </tr>\n",
       "    <tr>\n",
       "      <th>556</th>\n",
       "      <td>571224785</td>\n",
       "      <td>3941503500</td>\n",
       "      <td>2019-08-06</td>\n",
       "      <td>4990</td>\n",
       "      <td>B</td>\n",
       "    </tr>\n",
       "    <tr>\n",
       "      <th>558</th>\n",
       "      <td>3621273697</td>\n",
       "      <td>3941503500</td>\n",
       "      <td>2019-08-06</td>\n",
       "      <td>4990</td>\n",
       "      <td>B</td>\n",
       "    </tr>\n",
       "    <tr>\n",
       "      <th>692</th>\n",
       "      <td>3586870909</td>\n",
       "      <td>2458001652</td>\n",
       "      <td>2019-08-09</td>\n",
       "      <td>5227</td>\n",
       "      <td>B</td>\n",
       "    </tr>\n",
       "    <tr>\n",
       "      <th>740</th>\n",
       "      <td>405281389</td>\n",
       "      <td>2108163459</td>\n",
       "      <td>2019-08-09</td>\n",
       "      <td>580</td>\n",
       "      <td>A</td>\n",
       "    </tr>\n",
       "    <tr>\n",
       "      <th>916</th>\n",
       "      <td>527333943</td>\n",
       "      <td>2458001652</td>\n",
       "      <td>2019-08-08</td>\n",
       "      <td>5227</td>\n",
       "      <td>B</td>\n",
       "    </tr>\n",
       "  </tbody>\n",
       "</table>\n",
       "</div>"
      ],
      "text/plain": [
       "     transactionId   visitorId        date  revenue group\n",
       "507  4067849009     2108163459  2019-08-06  580      A   \n",
       "556  571224785      3941503500  2019-08-06  4990     B   \n",
       "558  3621273697     3941503500  2019-08-06  4990     B   \n",
       "692  3586870909     2458001652  2019-08-09  5227     B   \n",
       "740  405281389      2108163459  2019-08-09  580      A   \n",
       "916  527333943      2458001652  2019-08-08  5227     B   "
      ]
     },
     "metadata": {},
     "output_type": "display_data"
    },
    {
     "data": {
      "text/html": [
       "<div>\n",
       "<style scoped>\n",
       "    .dataframe tbody tr th:only-of-type {\n",
       "        vertical-align: middle;\n",
       "    }\n",
       "\n",
       "    .dataframe tbody tr th {\n",
       "        vertical-align: top;\n",
       "    }\n",
       "\n",
       "    .dataframe thead th {\n",
       "        text-align: right;\n",
       "    }\n",
       "</style>\n",
       "<table border=\"1\" class=\"dataframe\">\n",
       "  <thead>\n",
       "    <tr style=\"text-align: right;\">\n",
       "      <th></th>\n",
       "      <th>transactionId</th>\n",
       "      <th>visitorId</th>\n",
       "      <th>date</th>\n",
       "      <th>revenue</th>\n",
       "      <th>group</th>\n",
       "    </tr>\n",
       "  </thead>\n",
       "  <tbody>\n",
       "  </tbody>\n",
       "</table>\n",
       "</div>"
      ],
      "text/plain": [
       "Empty DataFrame\n",
       "Columns: [transactionId, visitorId, date, revenue, group]\n",
       "Index: []"
      ]
     },
     "metadata": {},
     "output_type": "display_data"
    },
    {
     "data": {
      "text/html": [
       "<div>\n",
       "<style scoped>\n",
       "    .dataframe tbody tr th:only-of-type {\n",
       "        vertical-align: middle;\n",
       "    }\n",
       "\n",
       "    .dataframe tbody tr th {\n",
       "        vertical-align: top;\n",
       "    }\n",
       "\n",
       "    .dataframe thead th {\n",
       "        text-align: right;\n",
       "    }\n",
       "</style>\n",
       "<table border=\"1\" class=\"dataframe\">\n",
       "  <thead>\n",
       "    <tr style=\"text-align: right;\">\n",
       "      <th></th>\n",
       "      <th>transactionId</th>\n",
       "      <th>visitorId</th>\n",
       "      <th>date</th>\n",
       "      <th>revenue</th>\n",
       "      <th>group</th>\n",
       "    </tr>\n",
       "  </thead>\n",
       "  <tbody>\n",
       "    <tr>\n",
       "      <th>15</th>\n",
       "      <td>2550768810</td>\n",
       "      <td>2742574263</td>\n",
       "      <td>2019-08-15</td>\n",
       "      <td>15277</td>\n",
       "      <td>B</td>\n",
       "    </tr>\n",
       "    <tr>\n",
       "      <th>26</th>\n",
       "      <td>2223239646</td>\n",
       "      <td>199603092</td>\n",
       "      <td>2019-08-15</td>\n",
       "      <td>3488</td>\n",
       "      <td>A</td>\n",
       "    </tr>\n",
       "    <tr>\n",
       "      <th>32</th>\n",
       "      <td>3666913472</td>\n",
       "      <td>2038680547</td>\n",
       "      <td>2019-08-15</td>\n",
       "      <td>1680</td>\n",
       "      <td>B</td>\n",
       "    </tr>\n",
       "    <tr>\n",
       "      <th>33</th>\n",
       "      <td>486237576</td>\n",
       "      <td>2378935119</td>\n",
       "      <td>2019-08-15</td>\n",
       "      <td>1650</td>\n",
       "      <td>A</td>\n",
       "    </tr>\n",
       "    <tr>\n",
       "      <th>41</th>\n",
       "      <td>2594268419</td>\n",
       "      <td>237748145</td>\n",
       "      <td>2019-08-15</td>\n",
       "      <td>1090</td>\n",
       "      <td>A</td>\n",
       "    </tr>\n",
       "    <tr>\n",
       "      <th>...</th>\n",
       "      <td>...</td>\n",
       "      <td>...</td>\n",
       "      <td>...</td>\n",
       "      <td>...</td>\n",
       "      <td>...</td>\n",
       "    </tr>\n",
       "    <tr>\n",
       "      <th>1172</th>\n",
       "      <td>3898641900</td>\n",
       "      <td>3803269165</td>\n",
       "      <td>2019-08-14</td>\n",
       "      <td>790</td>\n",
       "      <td>B</td>\n",
       "    </tr>\n",
       "    <tr>\n",
       "      <th>1175</th>\n",
       "      <td>1373388206</td>\n",
       "      <td>3717692402</td>\n",
       "      <td>2019-08-14</td>\n",
       "      <td>2400</td>\n",
       "      <td>B</td>\n",
       "    </tr>\n",
       "    <tr>\n",
       "      <th>1182</th>\n",
       "      <td>2682156369</td>\n",
       "      <td>1668030113</td>\n",
       "      <td>2019-08-14</td>\n",
       "      <td>1290</td>\n",
       "      <td>B</td>\n",
       "    </tr>\n",
       "    <tr>\n",
       "      <th>1189</th>\n",
       "      <td>4082620617</td>\n",
       "      <td>393266494</td>\n",
       "      <td>2019-08-14</td>\n",
       "      <td>31550</td>\n",
       "      <td>B</td>\n",
       "    </tr>\n",
       "    <tr>\n",
       "      <th>1195</th>\n",
       "      <td>1947021204</td>\n",
       "      <td>1614305549</td>\n",
       "      <td>2019-08-14</td>\n",
       "      <td>100</td>\n",
       "      <td>A</td>\n",
       "    </tr>\n",
       "  </tbody>\n",
       "</table>\n",
       "<p>172 rows × 5 columns</p>\n",
       "</div>"
      ],
      "text/plain": [
       "      transactionId   visitorId        date  revenue group\n",
       "15    2550768810     2742574263  2019-08-15  15277    B   \n",
       "26    2223239646     199603092   2019-08-15  3488     A   \n",
       "32    3666913472     2038680547  2019-08-15  1680     B   \n",
       "33    486237576      2378935119  2019-08-15  1650     A   \n",
       "41    2594268419     237748145   2019-08-15  1090     A   \n",
       "...          ...           ...          ...   ...    ..   \n",
       "1172  3898641900     3803269165  2019-08-14  790      B   \n",
       "1175  1373388206     3717692402  2019-08-14  2400     B   \n",
       "1182  2682156369     1668030113  2019-08-14  1290     B   \n",
       "1189  4082620617     393266494   2019-08-14  31550    B   \n",
       "1195  1947021204     1614305549  2019-08-14  100      A   \n",
       "\n",
       "[172 rows x 5 columns]"
      ]
     },
     "metadata": {},
     "output_type": "display_data"
    }
   ],
   "source": [
    "display(orders.loc[orders.duplicated(subset=['visitorId', 'group', 'revenue'], keep=False)]) #поищем дубликаты по выручке и пользователям\n",
    "display(orders.loc[orders.duplicated(subset=['transactionId'], keep=False)]) #поищем дубликаты по заказам\n",
    "display(orders.loc[orders.duplicated(subset=['visitorId', 'group'], keep=False)]) #поищем дубликаты по пользователям и тестам"
   ]
  },
  {
   "cell_type": "code",
   "execution_count": 13,
   "metadata": {},
   "outputs": [
    {
     "data": {
      "text/html": [
       "<div>\n",
       "<style scoped>\n",
       "    .dataframe tbody tr th:only-of-type {\n",
       "        vertical-align: middle;\n",
       "    }\n",
       "\n",
       "    .dataframe tbody tr th {\n",
       "        vertical-align: top;\n",
       "    }\n",
       "\n",
       "    .dataframe thead th {\n",
       "        text-align: right;\n",
       "    }\n",
       "</style>\n",
       "<table border=\"1\" class=\"dataframe\">\n",
       "  <thead>\n",
       "    <tr style=\"text-align: right;\">\n",
       "      <th></th>\n",
       "      <th>Hypothesis</th>\n",
       "      <th>Reach</th>\n",
       "      <th>Impact</th>\n",
       "      <th>Confidence</th>\n",
       "      <th>Efforts</th>\n",
       "    </tr>\n",
       "  </thead>\n",
       "  <tbody>\n",
       "    <tr>\n",
       "      <th>0</th>\n",
       "      <td>Добавить два новых канала привлечения трафика, что позволит привлекать на 30% больше пользователей</td>\n",
       "      <td>3</td>\n",
       "      <td>10</td>\n",
       "      <td>8</td>\n",
       "      <td>6</td>\n",
       "    </tr>\n",
       "    <tr>\n",
       "      <th>1</th>\n",
       "      <td>Запустить собственную службу доставки, что сократит срок доставки заказов</td>\n",
       "      <td>2</td>\n",
       "      <td>5</td>\n",
       "      <td>4</td>\n",
       "      <td>10</td>\n",
       "    </tr>\n",
       "    <tr>\n",
       "      <th>2</th>\n",
       "      <td>Добавить блоки рекомендаций товаров на сайт интернет магазина, чтобы повысить конверсию и средний чек заказа</td>\n",
       "      <td>8</td>\n",
       "      <td>3</td>\n",
       "      <td>7</td>\n",
       "      <td>3</td>\n",
       "    </tr>\n",
       "    <tr>\n",
       "      <th>3</th>\n",
       "      <td>Изменить структура категорий, что увеличит конверсию, т.к. пользователи быстрее найдут нужный товар</td>\n",
       "      <td>8</td>\n",
       "      <td>3</td>\n",
       "      <td>3</td>\n",
       "      <td>8</td>\n",
       "    </tr>\n",
       "    <tr>\n",
       "      <th>4</th>\n",
       "      <td>Изменить цвет фона главной страницы, чтобы увеличить вовлеченность пользователей</td>\n",
       "      <td>3</td>\n",
       "      <td>1</td>\n",
       "      <td>1</td>\n",
       "      <td>1</td>\n",
       "    </tr>\n",
       "    <tr>\n",
       "      <th>5</th>\n",
       "      <td>Добавить страницу отзывов клиентов о магазине, что позволит увеличить количество заказов</td>\n",
       "      <td>3</td>\n",
       "      <td>2</td>\n",
       "      <td>2</td>\n",
       "      <td>3</td>\n",
       "    </tr>\n",
       "    <tr>\n",
       "      <th>6</th>\n",
       "      <td>Показать на главной странице баннеры с актуальными акциями и распродажами, чтобы увеличить конверсию</td>\n",
       "      <td>5</td>\n",
       "      <td>3</td>\n",
       "      <td>8</td>\n",
       "      <td>3</td>\n",
       "    </tr>\n",
       "    <tr>\n",
       "      <th>7</th>\n",
       "      <td>Добавить форму подписки на все основные страницы, чтобы собрать базу клиентов для email-рассылок</td>\n",
       "      <td>10</td>\n",
       "      <td>7</td>\n",
       "      <td>8</td>\n",
       "      <td>5</td>\n",
       "    </tr>\n",
       "    <tr>\n",
       "      <th>8</th>\n",
       "      <td>Запустить акцию, дающую скидку на товар в день рождения</td>\n",
       "      <td>1</td>\n",
       "      <td>9</td>\n",
       "      <td>9</td>\n",
       "      <td>5</td>\n",
       "    </tr>\n",
       "  </tbody>\n",
       "</table>\n",
       "</div>"
      ],
      "text/plain": [
       "                                                                                                     Hypothesis  \\\n",
       "0  Добавить два новых канала привлечения трафика, что позволит привлекать на 30% больше пользователей             \n",
       "1  Запустить собственную службу доставки, что сократит срок доставки заказов                                      \n",
       "2  Добавить блоки рекомендаций товаров на сайт интернет магазина, чтобы повысить конверсию и средний чек заказа   \n",
       "3  Изменить структура категорий, что увеличит конверсию, т.к. пользователи быстрее найдут нужный товар            \n",
       "4  Изменить цвет фона главной страницы, чтобы увеличить вовлеченность пользователей                               \n",
       "5  Добавить страницу отзывов клиентов о магазине, что позволит увеличить количество заказов                       \n",
       "6  Показать на главной странице баннеры с актуальными акциями и распродажами, чтобы увеличить конверсию           \n",
       "7  Добавить форму подписки на все основные страницы, чтобы собрать базу клиентов для email-рассылок               \n",
       "8  Запустить акцию, дающую скидку на товар в день рождения                                                        \n",
       "\n",
       "   Reach  Impact  Confidence  Efforts  \n",
       "0  3      10      8           6        \n",
       "1  2      5       4           10       \n",
       "2  8      3       7           3        \n",
       "3  8      3       3           8        \n",
       "4  3      1       1           1        \n",
       "5  3      2       2           3        \n",
       "6  5      3       8           3        \n",
       "7  10     7       8           5        \n",
       "8  1      9       9           5        "
      ]
     },
     "execution_count": 13,
     "metadata": {},
     "output_type": "execute_result"
    }
   ],
   "source": [
    "hypothesis.head(10) # получение первых 10 строк таблицы hypothesis"
   ]
  },
  {
   "cell_type": "code",
   "execution_count": 14,
   "metadata": {},
   "outputs": [
    {
     "name": "stdout",
     "output_type": "stream",
     "text": [
      "<class 'pandas.core.frame.DataFrame'>\n",
      "RangeIndex: 9 entries, 0 to 8\n",
      "Data columns (total 5 columns):\n",
      " #   Column      Non-Null Count  Dtype \n",
      "---  ------      --------------  ----- \n",
      " 0   Hypothesis  9 non-null      object\n",
      " 1   Reach       9 non-null      int64 \n",
      " 2   Impact      9 non-null      int64 \n",
      " 3   Confidence  9 non-null      int64 \n",
      " 4   Efforts     9 non-null      int64 \n",
      "dtypes: int64(4), object(1)\n",
      "memory usage: 488.0+ bytes\n"
     ]
    }
   ],
   "source": [
    "hypothesis.info() # посмотрим на размер таблицы hypothesis и типы данных"
   ]
  },
  {
   "cell_type": "code",
   "execution_count": 15,
   "metadata": {},
   "outputs": [],
   "source": [
    "#поменяем типы данных\n",
    "visitors['date'] = pd.to_datetime(visitors['date'])\n",
    "orders['date'] = pd.to_datetime(orders['date'])"
   ]
  },
  {
   "cell_type": "code",
   "execution_count": 16,
   "metadata": {},
   "outputs": [
    {
     "name": "stdout",
     "output_type": "stream",
     "text": [
      "<class 'pandas.core.frame.DataFrame'>\n",
      "RangeIndex: 62 entries, 0 to 61\n",
      "Data columns (total 3 columns):\n",
      " #   Column    Non-Null Count  Dtype         \n",
      "---  ------    --------------  -----         \n",
      " 0   date      62 non-null     datetime64[ns]\n",
      " 1   group     62 non-null     object        \n",
      " 2   visitors  62 non-null     int64         \n",
      "dtypes: datetime64[ns](1), int64(1), object(1)\n",
      "memory usage: 1.6+ KB\n",
      "<class 'pandas.core.frame.DataFrame'>\n",
      "RangeIndex: 1197 entries, 0 to 1196\n",
      "Data columns (total 5 columns):\n",
      " #   Column         Non-Null Count  Dtype         \n",
      "---  ------         --------------  -----         \n",
      " 0   transactionId  1197 non-null   int64         \n",
      " 1   visitorId      1197 non-null   Int64         \n",
      " 2   date           1197 non-null   datetime64[ns]\n",
      " 3   revenue        1197 non-null   int64         \n",
      " 4   group          1197 non-null   object        \n",
      "dtypes: Int64(1), datetime64[ns](1), int64(2), object(1)\n",
      "memory usage: 48.1+ KB\n"
     ]
    }
   ],
   "source": [
    "visitors.info()\n",
    "orders.info()"
   ]
  },
  {
   "cell_type": "code",
   "execution_count": 17,
   "metadata": {},
   "outputs": [
    {
     "data": {
      "text/html": [
       "<div>\n",
       "<style scoped>\n",
       "    .dataframe tbody tr th:only-of-type {\n",
       "        vertical-align: middle;\n",
       "    }\n",
       "\n",
       "    .dataframe tbody tr th {\n",
       "        vertical-align: top;\n",
       "    }\n",
       "\n",
       "    .dataframe thead th {\n",
       "        text-align: right;\n",
       "    }\n",
       "</style>\n",
       "<table border=\"1\" class=\"dataframe\">\n",
       "  <thead>\n",
       "    <tr style=\"text-align: right;\">\n",
       "      <th></th>\n",
       "      <th>hypothesis</th>\n",
       "      <th>reach</th>\n",
       "      <th>impact</th>\n",
       "      <th>confidence</th>\n",
       "      <th>efforts</th>\n",
       "    </tr>\n",
       "  </thead>\n",
       "  <tbody>\n",
       "    <tr>\n",
       "      <th>0</th>\n",
       "      <td>Добавить два новых канала привлечения трафика, что позволит привлекать на 30% больше пользователей</td>\n",
       "      <td>3</td>\n",
       "      <td>10</td>\n",
       "      <td>8</td>\n",
       "      <td>6</td>\n",
       "    </tr>\n",
       "    <tr>\n",
       "      <th>1</th>\n",
       "      <td>Запустить собственную службу доставки, что сократит срок доставки заказов</td>\n",
       "      <td>2</td>\n",
       "      <td>5</td>\n",
       "      <td>4</td>\n",
       "      <td>10</td>\n",
       "    </tr>\n",
       "    <tr>\n",
       "      <th>2</th>\n",
       "      <td>Добавить блоки рекомендаций товаров на сайт интернет магазина, чтобы повысить конверсию и средний чек заказа</td>\n",
       "      <td>8</td>\n",
       "      <td>3</td>\n",
       "      <td>7</td>\n",
       "      <td>3</td>\n",
       "    </tr>\n",
       "    <tr>\n",
       "      <th>3</th>\n",
       "      <td>Изменить структура категорий, что увеличит конверсию, т.к. пользователи быстрее найдут нужный товар</td>\n",
       "      <td>8</td>\n",
       "      <td>3</td>\n",
       "      <td>3</td>\n",
       "      <td>8</td>\n",
       "    </tr>\n",
       "    <tr>\n",
       "      <th>4</th>\n",
       "      <td>Изменить цвет фона главной страницы, чтобы увеличить вовлеченность пользователей</td>\n",
       "      <td>3</td>\n",
       "      <td>1</td>\n",
       "      <td>1</td>\n",
       "      <td>1</td>\n",
       "    </tr>\n",
       "    <tr>\n",
       "      <th>5</th>\n",
       "      <td>Добавить страницу отзывов клиентов о магазине, что позволит увеличить количество заказов</td>\n",
       "      <td>3</td>\n",
       "      <td>2</td>\n",
       "      <td>2</td>\n",
       "      <td>3</td>\n",
       "    </tr>\n",
       "    <tr>\n",
       "      <th>6</th>\n",
       "      <td>Показать на главной странице баннеры с актуальными акциями и распродажами, чтобы увеличить конверсию</td>\n",
       "      <td>5</td>\n",
       "      <td>3</td>\n",
       "      <td>8</td>\n",
       "      <td>3</td>\n",
       "    </tr>\n",
       "    <tr>\n",
       "      <th>7</th>\n",
       "      <td>Добавить форму подписки на все основные страницы, чтобы собрать базу клиентов для email-рассылок</td>\n",
       "      <td>10</td>\n",
       "      <td>7</td>\n",
       "      <td>8</td>\n",
       "      <td>5</td>\n",
       "    </tr>\n",
       "    <tr>\n",
       "      <th>8</th>\n",
       "      <td>Запустить акцию, дающую скидку на товар в день рождения</td>\n",
       "      <td>1</td>\n",
       "      <td>9</td>\n",
       "      <td>9</td>\n",
       "      <td>5</td>\n",
       "    </tr>\n",
       "  </tbody>\n",
       "</table>\n",
       "</div>"
      ],
      "text/plain": [
       "                                                                                                     hypothesis  \\\n",
       "0  Добавить два новых канала привлечения трафика, что позволит привлекать на 30% больше пользователей             \n",
       "1  Запустить собственную службу доставки, что сократит срок доставки заказов                                      \n",
       "2  Добавить блоки рекомендаций товаров на сайт интернет магазина, чтобы повысить конверсию и средний чек заказа   \n",
       "3  Изменить структура категорий, что увеличит конверсию, т.к. пользователи быстрее найдут нужный товар            \n",
       "4  Изменить цвет фона главной страницы, чтобы увеличить вовлеченность пользователей                               \n",
       "5  Добавить страницу отзывов клиентов о магазине, что позволит увеличить количество заказов                       \n",
       "6  Показать на главной странице баннеры с актуальными акциями и распродажами, чтобы увеличить конверсию           \n",
       "7  Добавить форму подписки на все основные страницы, чтобы собрать базу клиентов для email-рассылок               \n",
       "8  Запустить акцию, дающую скидку на товар в день рождения                                                        \n",
       "\n",
       "   reach  impact  confidence  efforts  \n",
       "0  3      10      8           6        \n",
       "1  2      5       4           10       \n",
       "2  8      3       7           3        \n",
       "3  8      3       3           8        \n",
       "4  3      1       1           1        \n",
       "5  3      2       2           3        \n",
       "6  5      3       8           3        \n",
       "7  10     7       8           5        \n",
       "8  1      9       9           5        "
      ]
     },
     "execution_count": 17,
     "metadata": {},
     "output_type": "execute_result"
    }
   ],
   "source": [
    "#для удобства переименуем столбцы в таблице hypothesis\n",
    "hypothesis = hypothesis.rename(columns={'Hypothesis' : 'hypothesis', 'Reach' : 'reach', 'Impact' : 'impact', 'Confidence' : 'confidence', 'Efforts' : 'efforts' })  \n",
    "hypothesis"
   ]
  },
  {
   "cell_type": "code",
   "execution_count": 18,
   "metadata": {},
   "outputs": [
    {
     "data": {
      "text/html": [
       "<div>\n",
       "<style scoped>\n",
       "    .dataframe tbody tr th:only-of-type {\n",
       "        vertical-align: middle;\n",
       "    }\n",
       "\n",
       "    .dataframe tbody tr th {\n",
       "        vertical-align: top;\n",
       "    }\n",
       "\n",
       "    .dataframe thead th {\n",
       "        text-align: right;\n",
       "    }\n",
       "</style>\n",
       "<table border=\"1\" class=\"dataframe\">\n",
       "  <thead>\n",
       "    <tr style=\"text-align: right;\">\n",
       "      <th></th>\n",
       "      <th>transaction_id</th>\n",
       "      <th>visitor_id</th>\n",
       "      <th>date</th>\n",
       "      <th>revenue</th>\n",
       "      <th>group</th>\n",
       "    </tr>\n",
       "  </thead>\n",
       "  <tbody>\n",
       "    <tr>\n",
       "      <th>0</th>\n",
       "      <td>3667963787</td>\n",
       "      <td>3312258926</td>\n",
       "      <td>2019-08-15</td>\n",
       "      <td>1650</td>\n",
       "      <td>B</td>\n",
       "    </tr>\n",
       "    <tr>\n",
       "      <th>1</th>\n",
       "      <td>2804400009</td>\n",
       "      <td>3642806036</td>\n",
       "      <td>2019-08-15</td>\n",
       "      <td>730</td>\n",
       "      <td>B</td>\n",
       "    </tr>\n",
       "    <tr>\n",
       "      <th>2</th>\n",
       "      <td>2961555356</td>\n",
       "      <td>4069496402</td>\n",
       "      <td>2019-08-15</td>\n",
       "      <td>400</td>\n",
       "      <td>A</td>\n",
       "    </tr>\n",
       "    <tr>\n",
       "      <th>3</th>\n",
       "      <td>3797467345</td>\n",
       "      <td>1196621759</td>\n",
       "      <td>2019-08-15</td>\n",
       "      <td>9759</td>\n",
       "      <td>B</td>\n",
       "    </tr>\n",
       "    <tr>\n",
       "      <th>4</th>\n",
       "      <td>2282983706</td>\n",
       "      <td>2322279887</td>\n",
       "      <td>2019-08-15</td>\n",
       "      <td>2308</td>\n",
       "      <td>B</td>\n",
       "    </tr>\n",
       "    <tr>\n",
       "      <th>...</th>\n",
       "      <td>...</td>\n",
       "      <td>...</td>\n",
       "      <td>...</td>\n",
       "      <td>...</td>\n",
       "      <td>...</td>\n",
       "    </tr>\n",
       "    <tr>\n",
       "      <th>1192</th>\n",
       "      <td>2662137336</td>\n",
       "      <td>3733762160</td>\n",
       "      <td>2019-08-14</td>\n",
       "      <td>6490</td>\n",
       "      <td>B</td>\n",
       "    </tr>\n",
       "    <tr>\n",
       "      <th>1193</th>\n",
       "      <td>2203539145</td>\n",
       "      <td>370388673</td>\n",
       "      <td>2019-08-14</td>\n",
       "      <td>3190</td>\n",
       "      <td>A</td>\n",
       "    </tr>\n",
       "    <tr>\n",
       "      <th>1194</th>\n",
       "      <td>1807773912</td>\n",
       "      <td>573423106</td>\n",
       "      <td>2019-08-14</td>\n",
       "      <td>10550</td>\n",
       "      <td>A</td>\n",
       "    </tr>\n",
       "    <tr>\n",
       "      <th>1195</th>\n",
       "      <td>1947021204</td>\n",
       "      <td>1614305549</td>\n",
       "      <td>2019-08-14</td>\n",
       "      <td>100</td>\n",
       "      <td>A</td>\n",
       "    </tr>\n",
       "    <tr>\n",
       "      <th>1196</th>\n",
       "      <td>3936777065</td>\n",
       "      <td>2108080724</td>\n",
       "      <td>2019-08-15</td>\n",
       "      <td>202740</td>\n",
       "      <td>B</td>\n",
       "    </tr>\n",
       "  </tbody>\n",
       "</table>\n",
       "<p>1197 rows × 5 columns</p>\n",
       "</div>"
      ],
      "text/plain": [
       "      transaction_id  visitor_id       date  revenue group\n",
       "0     3667963787      3312258926 2019-08-15  1650     B   \n",
       "1     2804400009      3642806036 2019-08-15  730      B   \n",
       "2     2961555356      4069496402 2019-08-15  400      A   \n",
       "3     3797467345      1196621759 2019-08-15  9759     B   \n",
       "4     2282983706      2322279887 2019-08-15  2308     B   \n",
       "...          ...             ...        ...   ...    ..   \n",
       "1192  2662137336      3733762160 2019-08-14  6490     B   \n",
       "1193  2203539145      370388673  2019-08-14  3190     A   \n",
       "1194  1807773912      573423106  2019-08-14  10550    A   \n",
       "1195  1947021204      1614305549 2019-08-14  100      A   \n",
       "1196  3936777065      2108080724 2019-08-15  202740   B   \n",
       "\n",
       "[1197 rows x 5 columns]"
      ]
     },
     "execution_count": 18,
     "metadata": {},
     "output_type": "execute_result"
    }
   ],
   "source": [
    "#для удобства переименуем столбцы в таблице orders\n",
    "orders.rename(columns={'transactionId':'transaction_id', 'visitorId':'visitor_id'}, inplace=True)\n",
    "orders"
   ]
  },
  {
   "cell_type": "markdown",
   "metadata": {},
   "source": [
    "**Вывод:** данные в таблицах без пропусков и явных дубликатов. Выявлена ошибка в типах данных - в таблицах с заказами и визитами столбцы с датами привели к соответствующему типу данных. А также заголовки столбцов в таблице с гипотезами и заказами привели к нижнему регистру. Также нашли пользователей, которые есть в таблице заказов и в группе А и в группе В - исправим на следующих этапах."
   ]
  },
  {
   "cell_type": "markdown",
   "metadata": {},
   "source": [
    "# Шаг 2. Приоритизация гипотез <a class=\"anchor\" name=\"cell2\"></a>\n",
    "В файле /datasets/hypothesis.csv 9 гипотез по увеличению выручки интернет-магазина с указанными параметрами Reach, Impact, Confidence, Effort. Задача\n",
    "\n",
    "- Примените фреймворк ICE для приоритизации гипотез. Отсортируйте их по убыванию приоритета.\n",
    "- Примените фреймворк RICE для приоритизации гипотез. Отсортируйте их по убыванию приоритета.\n",
    "- Укажите, как изменилась приоритизация гипотез при применении RICE вместо ICE. Объясните, почему так произошло."
   ]
  },
  {
   "cell_type": "code",
   "execution_count": 19,
   "metadata": {},
   "outputs": [
    {
     "data": {
      "text/plain": [
       "array(['Добавить два новых канала привлечения трафика, что позволит привлекать на 30% больше пользователей',\n",
       "       'Запустить собственную службу доставки, что сократит срок доставки заказов',\n",
       "       'Добавить блоки рекомендаций товаров на сайт интернет магазина, чтобы повысить конверсию и средний чек заказа',\n",
       "       'Изменить структура категорий, что увеличит конверсию, т.к. пользователи быстрее найдут нужный товар',\n",
       "       'Изменить цвет фона главной страницы, чтобы увеличить вовлеченность пользователей',\n",
       "       'Добавить страницу отзывов клиентов о магазине, что позволит увеличить количество заказов',\n",
       "       'Показать на главной странице баннеры с актуальными акциями и распродажами, чтобы увеличить конверсию',\n",
       "       'Добавить форму подписки на все основные страницы, чтобы собрать базу клиентов для email-рассылок',\n",
       "       'Запустить акцию, дающую скидку на товар в день рождения'],\n",
       "      dtype=object)"
      ]
     },
     "execution_count": 19,
     "metadata": {},
     "output_type": "execute_result"
    }
   ],
   "source": [
    "#посмотрим на все гипотезы\n",
    "hypothesis['hypothesis'].unique()"
   ]
  },
  {
   "cell_type": "code",
   "execution_count": 20,
   "metadata": {},
   "outputs": [],
   "source": [
    "#применим фреймворк ICE для приоритизации гипотез. Отсортируем их по убыванию приоритета.\n",
    "hypothesis['ICE'] = (hypothesis['impact']*hypothesis['confidence'])/hypothesis['efforts']"
   ]
  },
  {
   "cell_type": "code",
   "execution_count": 21,
   "metadata": {},
   "outputs": [
    {
     "data": {
      "text/html": [
       "<div>\n",
       "<style scoped>\n",
       "    .dataframe tbody tr th:only-of-type {\n",
       "        vertical-align: middle;\n",
       "    }\n",
       "\n",
       "    .dataframe tbody tr th {\n",
       "        vertical-align: top;\n",
       "    }\n",
       "\n",
       "    .dataframe thead th {\n",
       "        text-align: right;\n",
       "    }\n",
       "</style>\n",
       "<table border=\"1\" class=\"dataframe\">\n",
       "  <thead>\n",
       "    <tr style=\"text-align: right;\">\n",
       "      <th></th>\n",
       "      <th>hypothesis</th>\n",
       "      <th>ICE</th>\n",
       "    </tr>\n",
       "  </thead>\n",
       "  <tbody>\n",
       "    <tr>\n",
       "      <th>8</th>\n",
       "      <td>Запустить акцию, дающую скидку на товар в день рождения</td>\n",
       "      <td>16.200000</td>\n",
       "    </tr>\n",
       "    <tr>\n",
       "      <th>0</th>\n",
       "      <td>Добавить два новых канала привлечения трафика, что позволит привлекать на 30% больше пользователей</td>\n",
       "      <td>13.333333</td>\n",
       "    </tr>\n",
       "    <tr>\n",
       "      <th>7</th>\n",
       "      <td>Добавить форму подписки на все основные страницы, чтобы собрать базу клиентов для email-рассылок</td>\n",
       "      <td>11.200000</td>\n",
       "    </tr>\n",
       "    <tr>\n",
       "      <th>6</th>\n",
       "      <td>Показать на главной странице баннеры с актуальными акциями и распродажами, чтобы увеличить конверсию</td>\n",
       "      <td>8.000000</td>\n",
       "    </tr>\n",
       "    <tr>\n",
       "      <th>2</th>\n",
       "      <td>Добавить блоки рекомендаций товаров на сайт интернет магазина, чтобы повысить конверсию и средний чек заказа</td>\n",
       "      <td>7.000000</td>\n",
       "    </tr>\n",
       "    <tr>\n",
       "      <th>1</th>\n",
       "      <td>Запустить собственную службу доставки, что сократит срок доставки заказов</td>\n",
       "      <td>2.000000</td>\n",
       "    </tr>\n",
       "    <tr>\n",
       "      <th>5</th>\n",
       "      <td>Добавить страницу отзывов клиентов о магазине, что позволит увеличить количество заказов</td>\n",
       "      <td>1.333333</td>\n",
       "    </tr>\n",
       "    <tr>\n",
       "      <th>3</th>\n",
       "      <td>Изменить структура категорий, что увеличит конверсию, т.к. пользователи быстрее найдут нужный товар</td>\n",
       "      <td>1.125000</td>\n",
       "    </tr>\n",
       "    <tr>\n",
       "      <th>4</th>\n",
       "      <td>Изменить цвет фона главной страницы, чтобы увеличить вовлеченность пользователей</td>\n",
       "      <td>1.000000</td>\n",
       "    </tr>\n",
       "  </tbody>\n",
       "</table>\n",
       "</div>"
      ],
      "text/plain": [
       "                                                                                                     hypothesis  \\\n",
       "8  Запустить акцию, дающую скидку на товар в день рождения                                                        \n",
       "0  Добавить два новых канала привлечения трафика, что позволит привлекать на 30% больше пользователей             \n",
       "7  Добавить форму подписки на все основные страницы, чтобы собрать базу клиентов для email-рассылок               \n",
       "6  Показать на главной странице баннеры с актуальными акциями и распродажами, чтобы увеличить конверсию           \n",
       "2  Добавить блоки рекомендаций товаров на сайт интернет магазина, чтобы повысить конверсию и средний чек заказа   \n",
       "1  Запустить собственную службу доставки, что сократит срок доставки заказов                                      \n",
       "5  Добавить страницу отзывов клиентов о магазине, что позволит увеличить количество заказов                       \n",
       "3  Изменить структура категорий, что увеличит конверсию, т.к. пользователи быстрее найдут нужный товар            \n",
       "4  Изменить цвет фона главной страницы, чтобы увеличить вовлеченность пользователей                               \n",
       "\n",
       "         ICE  \n",
       "8  16.200000  \n",
       "0  13.333333  \n",
       "7  11.200000  \n",
       "6  8.000000   \n",
       "2  7.000000   \n",
       "1  2.000000   \n",
       "5  1.333333   \n",
       "3  1.125000   \n",
       "4  1.000000   "
      ]
     },
     "execution_count": 21,
     "metadata": {},
     "output_type": "execute_result"
    }
   ],
   "source": [
    "hypothesis[['hypothesis', 'ICE']].sort_values(by='ICE', ascending = False)"
   ]
  },
  {
   "cell_type": "code",
   "execution_count": 22,
   "metadata": {},
   "outputs": [],
   "source": [
    "#применим фреймворк RICE для приоритизации гипотез. Отсортируйте их по убыванию приоритета.\n",
    "hypothesis['RICE'] = (hypothesis['reach']*hypothesis['impact']*hypothesis['confidence'])/hypothesis['efforts']"
   ]
  },
  {
   "cell_type": "code",
   "execution_count": 23,
   "metadata": {
    "scrolled": true
   },
   "outputs": [
    {
     "data": {
      "text/html": [
       "<div>\n",
       "<style scoped>\n",
       "    .dataframe tbody tr th:only-of-type {\n",
       "        vertical-align: middle;\n",
       "    }\n",
       "\n",
       "    .dataframe tbody tr th {\n",
       "        vertical-align: top;\n",
       "    }\n",
       "\n",
       "    .dataframe thead th {\n",
       "        text-align: right;\n",
       "    }\n",
       "</style>\n",
       "<table border=\"1\" class=\"dataframe\">\n",
       "  <thead>\n",
       "    <tr style=\"text-align: right;\">\n",
       "      <th></th>\n",
       "      <th>hypothesis</th>\n",
       "      <th>RICE</th>\n",
       "      <th>ICE</th>\n",
       "    </tr>\n",
       "  </thead>\n",
       "  <tbody>\n",
       "    <tr>\n",
       "      <th>7</th>\n",
       "      <td>Добавить форму подписки на все основные страницы, чтобы собрать базу клиентов для email-рассылок</td>\n",
       "      <td>112.0</td>\n",
       "      <td>11.200000</td>\n",
       "    </tr>\n",
       "    <tr>\n",
       "      <th>2</th>\n",
       "      <td>Добавить блоки рекомендаций товаров на сайт интернет магазина, чтобы повысить конверсию и средний чек заказа</td>\n",
       "      <td>56.0</td>\n",
       "      <td>7.000000</td>\n",
       "    </tr>\n",
       "    <tr>\n",
       "      <th>0</th>\n",
       "      <td>Добавить два новых канала привлечения трафика, что позволит привлекать на 30% больше пользователей</td>\n",
       "      <td>40.0</td>\n",
       "      <td>13.333333</td>\n",
       "    </tr>\n",
       "    <tr>\n",
       "      <th>6</th>\n",
       "      <td>Показать на главной странице баннеры с актуальными акциями и распродажами, чтобы увеличить конверсию</td>\n",
       "      <td>40.0</td>\n",
       "      <td>8.000000</td>\n",
       "    </tr>\n",
       "    <tr>\n",
       "      <th>8</th>\n",
       "      <td>Запустить акцию, дающую скидку на товар в день рождения</td>\n",
       "      <td>16.2</td>\n",
       "      <td>16.200000</td>\n",
       "    </tr>\n",
       "    <tr>\n",
       "      <th>3</th>\n",
       "      <td>Изменить структура категорий, что увеличит конверсию, т.к. пользователи быстрее найдут нужный товар</td>\n",
       "      <td>9.0</td>\n",
       "      <td>1.125000</td>\n",
       "    </tr>\n",
       "    <tr>\n",
       "      <th>1</th>\n",
       "      <td>Запустить собственную службу доставки, что сократит срок доставки заказов</td>\n",
       "      <td>4.0</td>\n",
       "      <td>2.000000</td>\n",
       "    </tr>\n",
       "    <tr>\n",
       "      <th>5</th>\n",
       "      <td>Добавить страницу отзывов клиентов о магазине, что позволит увеличить количество заказов</td>\n",
       "      <td>4.0</td>\n",
       "      <td>1.333333</td>\n",
       "    </tr>\n",
       "    <tr>\n",
       "      <th>4</th>\n",
       "      <td>Изменить цвет фона главной страницы, чтобы увеличить вовлеченность пользователей</td>\n",
       "      <td>3.0</td>\n",
       "      <td>1.000000</td>\n",
       "    </tr>\n",
       "  </tbody>\n",
       "</table>\n",
       "</div>"
      ],
      "text/plain": [
       "                                                                                                     hypothesis  \\\n",
       "7  Добавить форму подписки на все основные страницы, чтобы собрать базу клиентов для email-рассылок               \n",
       "2  Добавить блоки рекомендаций товаров на сайт интернет магазина, чтобы повысить конверсию и средний чек заказа   \n",
       "0  Добавить два новых канала привлечения трафика, что позволит привлекать на 30% больше пользователей             \n",
       "6  Показать на главной странице баннеры с актуальными акциями и распродажами, чтобы увеличить конверсию           \n",
       "8  Запустить акцию, дающую скидку на товар в день рождения                                                        \n",
       "3  Изменить структура категорий, что увеличит конверсию, т.к. пользователи быстрее найдут нужный товар            \n",
       "1  Запустить собственную службу доставки, что сократит срок доставки заказов                                      \n",
       "5  Добавить страницу отзывов клиентов о магазине, что позволит увеличить количество заказов                       \n",
       "4  Изменить цвет фона главной страницы, чтобы увеличить вовлеченность пользователей                               \n",
       "\n",
       "    RICE        ICE  \n",
       "7  112.0  11.200000  \n",
       "2  56.0   7.000000   \n",
       "0  40.0   13.333333  \n",
       "6  40.0   8.000000   \n",
       "8  16.2   16.200000  \n",
       "3  9.0    1.125000   \n",
       "1  4.0    2.000000   \n",
       "5  4.0    1.333333   \n",
       "4  3.0    1.000000   "
      ]
     },
     "execution_count": 23,
     "metadata": {},
     "output_type": "execute_result"
    }
   ],
   "source": [
    "hypothesis[['hypothesis', 'RICE', 'ICE']].sort_values(by='RICE', ascending = False)"
   ]
  },
  {
   "cell_type": "markdown",
   "metadata": {},
   "source": [
    "**Вывод:** применив фреймворк ICE наиболее перспективные гипотезы оказались:\n",
    "- 8 - Запустить акцию, дающую скидку на товар в день рождения\n",
    "- 0 - Добавить два новых канала привлечения трафика, что позволит привлекать на 30% больше пользователей\n",
    "- 7 - Добавить форму подписки на все основные страницы, чтобы собрать базу клиентов для email-рассылок\n",
    "- 6 - Показать на главной странице баннеры с актуальными акциями и распродажами, чтобы увеличить конверсию\n",
    "Применив фремворк RICE наиболее перспективными оказались гипотезы: 7, 2, 0, 6\n",
    "- 7 - Добавить форму подписки на все основные страницы, чтобы собрать базу клиентов для email-рассылок\n",
    "- 2 - Добавить блоки рекомендаций товаров на сайт интернет магазина, чтобы повысить конверсию и средний чек заказа\n",
    "- 0 - Добавить два новых канала привлечения трафика, что позволит привлекать на 30% больше пользователей\n",
    "- 6 - Показать на главной странице баннеры с актуальными акциями и распродажами, чтобы увеличить конверсию\n",
    "\n",
    "Приоретизация гипотез как мы видим изменилась. Сильная гипотеза 8 ушла с лидирующих позиций в рейтинге RICE, так как имеет низкий параметр Reach, что логично ведь количество пользователей котороых затронет акция в день рождения ниже, чем количество прользователей страниц сайта (гипотеза 7).\n",
    "\n",
    "В лидерах в рейтинге RICE появилась новая гипотеза 2, которая имеет высокий параметр Reach, что также говорит о том что она затронет большое количество пользователей. \n",
    "\n",
    "Так как наша главная задача рост выручки интернет-магазина, то приоретизация гипотез будет принята согласно рейтингу RICE 7, 2, 0, 6 - так как очень важно учитывать охват пользователей этой гипотезой."
   ]
  },
  {
   "cell_type": "markdown",
   "metadata": {},
   "source": [
    "# Шаг 3. Анализ А/В-теста <a class=\"anchor\" name=\"cell3\"></a>\n",
    "Вы провели A/B-тест и получили результаты, которые описаны в файлах /datasets/orders.csv и /datasets/visitors.csv.\n",
    "Проанализируйте A/B-тест:\n",
    "1. Постройте график кумулятивной выручки по группам. Сделайте выводы и предположения.\n",
    "2. Постройте график кумулятивного среднего чека по группам. Сделайте выводы и предположения.\n",
    "3. Постройте график относительного изменения кумулятивного среднего чека группы B к группе A. Сделайте выводы и предположения.\n",
    "4. Постройте график кумулятивной конверсии по группам. Сделайте выводы и предположения.\n",
    "5. Постройте график относительного изменения кумулятивной конверсии группы B к группе A. Сделайте выводы и предположения.\n",
    "6. Постройте точечный график количества заказов по пользователям. Сделайте выводы и предположения.\n",
    "7. Посчитайте 95-й и 99-й перцентили количества заказов на пользователя. Выберите границу для определения аномальных пользователей.\n",
    "8. Постройте точечный график стоимостей заказов. Сделайте выводы и предположения.\n",
    "9. Посчитайте 95-й и 99-й перцентили стоимости заказов. Выберите границу для определения аномальных заказов.\n",
    "10. Посчитайте статистическую значимость различий в конверсии между группами по «сырым» данным. Сделайте выводы и предположения.\n",
    "11. Посчитайте статистическую значимость различий в среднем чеке заказа между группами по «сырым» данным. Сделайте выводы и предположения.\n",
    "12. Посчитайте статистическую значимость различий в конверсии между группами по «очищенным» данным. Сделайте выводы и предположения.\n",
    "13. Посчитайте статистическую значимость различий в среднем чеке заказа между группами по «очищенным» данным. Сделайте выводы и предположения.\n",
    "14. Примите решение по результатам теста и объясните его. Варианты решений: \n",
    "- Остановить тест, зафиксировать победу одной из групп. \n",
    "- Остановить тест, зафиксировать отсутствие различий между группами. \n",
    "- Продолжить тест."
   ]
  },
  {
   "cell_type": "markdown",
   "metadata": {},
   "source": [
    "**Прежде чем переходить к анализу АВ теста, нужно выяснить масштаб ошибки, которую мы нашли ранее, - вхождения ряда пользователей в оба теста.**"
   ]
  },
  {
   "cell_type": "code",
   "execution_count": 24,
   "metadata": {},
   "outputs": [
    {
     "data": {
      "text/plain": [
       "2       4069496402\n",
       "7       78758296  \n",
       "8       295230930 \n",
       "10      879864040 \n",
       "12      3213223594\n",
       "           ...    \n",
       "1187    132143192 \n",
       "1188    1022829655\n",
       "1193    370388673 \n",
       "1194    573423106 \n",
       "1195    1614305549\n",
       "Name: visitor_id, Length: 557, dtype: Int64"
      ]
     },
     "metadata": {},
     "output_type": "display_data"
    },
    {
     "data": {
      "text/plain": [
       "0       3312258926\n",
       "1       3642806036\n",
       "3       1196621759\n",
       "4       2322279887\n",
       "5       935554773 \n",
       "          ...     \n",
       "1189    393266494 \n",
       "1190    1197745035\n",
       "1191    608641596 \n",
       "1192    3733762160\n",
       "1196    2108080724\n",
       "Name: visitor_id, Length: 640, dtype: Int64"
      ]
     },
     "metadata": {},
     "output_type": "display_data"
    }
   ],
   "source": [
    "#найдем количество дубликатов пользователей, которые попали и в А группу тестирования и в В\n",
    "#для начала создадим списки пользователей попавших в группы\n",
    "group_a = orders[orders['group']=='A']['visitor_id']\n",
    "group_b = orders[orders['group']=='B']['visitor_id']\n",
    "display(group_a)\n",
    "display(group_b)"
   ]
  },
  {
   "cell_type": "code",
   "execution_count": 25,
   "metadata": {},
   "outputs": [
    {
     "data": {
      "text/plain": [
       "58"
      ]
     },
     "execution_count": 25,
     "metadata": {},
     "output_type": "execute_result"
    }
   ],
   "source": [
    "#найдем пересечение в этих списках и посчитаем количество пользователей которые попали в обе группы\n",
    "error = pd.Series(list(set(group_a) & set(group_b)))\n",
    "error.nunique()"
   ]
  },
  {
   "cell_type": "code",
   "execution_count": 26,
   "metadata": {},
   "outputs": [
    {
     "data": {
      "text/plain": [
       "False    1016\n",
       "True     181 \n",
       "Name: err, dtype: int64"
      ]
     },
     "execution_count": 26,
     "metadata": {},
     "output_type": "execute_result"
    }
   ],
   "source": [
    "#это ошибка произошла на этапе сбора данных и выяснить точные причины мы не можем\n",
    "#создадим новый столбец err который обозначит принадлежит ли заказ пользователю, который входил в оба теста \n",
    "#и посмотрим сколько таких заказов\n",
    "\n",
    "orders['err'] = orders.visitor_id.isin(error)\n",
    "orders['err'].value_counts()"
   ]
  },
  {
   "cell_type": "markdown",
   "metadata": {},
   "source": [
    "**Вывод** Так как количество таких заказов и пользователей небольшое и сумма пользователей также отоборажена в таблице visitors,в которой найти и удалить точечно ошибочные заказы мы не можем, то правильнее будет оставить всё как есть и не удалять их из таблицы orders."
   ]
  },
  {
   "cell_type": "markdown",
   "metadata": {},
   "source": [
    "### Постройте график кумулятивной выручки по группам. Сделайте выводы и предположения."
   ]
  },
  {
   "cell_type": "code",
   "execution_count": 27,
   "metadata": {},
   "outputs": [],
   "source": [
    "# выводим сводную таблицу с группой датой и суммой выручки\n",
    "orders_grouped = (orders.groupby(['date','group'], as_index=False)\n",
    "                        .agg({'transaction_id':'nunique','visitor_id':'nunique','revenue':'sum'}))\\\n",
    "                        .rename(columns={'transaction_id':'orders','visitor_id':'buyers'})\n",
    "orders_grouped['group_copy'] = orders_grouped['group']\n",
    "orders_grouped = orders_grouped.set_index(['date','group'])\n",
    "\n",
    "orders_cumsum = orders_grouped.sort_values(['date','group']).groupby('group_copy').cumsum().reset_index()"
   ]
  },
  {
   "cell_type": "code",
   "execution_count": 28,
   "metadata": {},
   "outputs": [],
   "source": [
    "# посчитаем сумму визитов по дням в каждой группе\n",
    "visitors_cumsum = visitors.groupby(['date','group'], as_index=False).agg({'visitors':'sum'}).sort_values(['date','group'])\n",
    "# скопируем group чтобы провести по ней кумулятивную сумму\n",
    "visitors_cumsum['group_copy'] = visitors_cumsum['group']\n",
    "visitors_cumsum = visitors_cumsum.set_index(['date','group']).groupby('group_copy').cumsum().reset_index()    "
   ]
  },
  {
   "cell_type": "code",
   "execution_count": 29,
   "metadata": {},
   "outputs": [
    {
     "data": {
      "text/html": [
       "<div>\n",
       "<style scoped>\n",
       "    .dataframe tbody tr th:only-of-type {\n",
       "        vertical-align: middle;\n",
       "    }\n",
       "\n",
       "    .dataframe tbody tr th {\n",
       "        vertical-align: top;\n",
       "    }\n",
       "\n",
       "    .dataframe thead th {\n",
       "        text-align: right;\n",
       "    }\n",
       "</style>\n",
       "<table border=\"1\" class=\"dataframe\">\n",
       "  <thead>\n",
       "    <tr style=\"text-align: right;\">\n",
       "      <th></th>\n",
       "      <th>date</th>\n",
       "      <th>group</th>\n",
       "      <th>orders</th>\n",
       "      <th>buyers</th>\n",
       "      <th>revenue</th>\n",
       "      <th>visitors</th>\n",
       "      <th>average_check</th>\n",
       "      <th>conversion</th>\n",
       "    </tr>\n",
       "  </thead>\n",
       "  <tbody>\n",
       "    <tr>\n",
       "      <th>0</th>\n",
       "      <td>2019-08-01</td>\n",
       "      <td>A</td>\n",
       "      <td>24</td>\n",
       "      <td>20</td>\n",
       "      <td>148579</td>\n",
       "      <td>719</td>\n",
       "      <td>6190.791667</td>\n",
       "      <td>0.033380</td>\n",
       "    </tr>\n",
       "    <tr>\n",
       "      <th>1</th>\n",
       "      <td>2019-08-01</td>\n",
       "      <td>B</td>\n",
       "      <td>21</td>\n",
       "      <td>20</td>\n",
       "      <td>101217</td>\n",
       "      <td>713</td>\n",
       "      <td>4819.857143</td>\n",
       "      <td>0.029453</td>\n",
       "    </tr>\n",
       "    <tr>\n",
       "      <th>2</th>\n",
       "      <td>2019-08-02</td>\n",
       "      <td>A</td>\n",
       "      <td>44</td>\n",
       "      <td>39</td>\n",
       "      <td>242401</td>\n",
       "      <td>1338</td>\n",
       "      <td>5509.113636</td>\n",
       "      <td>0.032885</td>\n",
       "    </tr>\n",
       "    <tr>\n",
       "      <th>3</th>\n",
       "      <td>2019-08-02</td>\n",
       "      <td>B</td>\n",
       "      <td>45</td>\n",
       "      <td>43</td>\n",
       "      <td>266748</td>\n",
       "      <td>1294</td>\n",
       "      <td>5927.733333</td>\n",
       "      <td>0.034776</td>\n",
       "    </tr>\n",
       "    <tr>\n",
       "      <th>4</th>\n",
       "      <td>2019-08-03</td>\n",
       "      <td>A</td>\n",
       "      <td>68</td>\n",
       "      <td>63</td>\n",
       "      <td>354874</td>\n",
       "      <td>1845</td>\n",
       "      <td>5218.735294</td>\n",
       "      <td>0.036856</td>\n",
       "    </tr>\n",
       "  </tbody>\n",
       "</table>\n",
       "</div>"
      ],
      "text/plain": [
       "        date group  orders  buyers  revenue  visitors  average_check  \\\n",
       "0 2019-08-01  A     24      20      148579   719       6190.791667     \n",
       "1 2019-08-01  B     21      20      101217   713       4819.857143     \n",
       "2 2019-08-02  A     44      39      242401   1338      5509.113636     \n",
       "3 2019-08-02  B     45      43      266748   1294      5927.733333     \n",
       "4 2019-08-03  A     68      63      354874   1845      5218.735294     \n",
       "\n",
       "   conversion  \n",
       "0  0.033380    \n",
       "1  0.029453    \n",
       "2  0.032885    \n",
       "3  0.034776    \n",
       "4  0.036856    "
      ]
     },
     "execution_count": 29,
     "metadata": {},
     "output_type": "execute_result"
    }
   ],
   "source": [
    "cummulative = orders_cumsum.join(visitors_cumsum[['visitors']])\n",
    "cummulative['average_check'] = cummulative['revenue'] / cummulative['orders']\n",
    "cummulative['conversion'] = cummulative['orders'] / cummulative['visitors']\n",
    "cummulative.head() "
   ]
  },
  {
   "cell_type": "code",
   "execution_count": 30,
   "metadata": {},
   "outputs": [
    {
     "data": {
      "image/png": "[encoded data removed]",
      "text/plain": [
       "<Figure size 1008x504 with 1 Axes>"
      ]
     },
     "metadata": {
      "needs_background": "light"
     },
     "output_type": "display_data"
    }
   ],
   "source": [
    "cummulativeA = cummulative[cummulative['group']=='A'][['date', 'revenue']]\n",
    "cummulativeB = cummulative[cummulative['group']=='B'][['date', 'revenue']]\n",
    "\n",
    "plt.figure(figsize=(14, 7))\n",
    "plt.plot(cummulativeA.iloc[:,0].to_frame(), cummulativeA.iloc[:,1].to_frame(), label='A' )\n",
    "plt.plot(cummulativeB.iloc[:,0].to_frame(), cummulativeB.iloc[:,1].to_frame(), label='B')\n",
    "plt.title('График кумулятивной и обычной выручкой групп А и Б', fontsize=17, color='blue')\n",
    "plt.xlabel('Даты проведения АБ теста',fontsize=12, color='red')\n",
    "plt.ylabel('Выручка',fontsize=12, color='red')\n",
    "plt.legend([ 'Кумулятивная выручка группа А', 'Кумулятивная выручка группа Б', 'выручка группа А', 'выручка группа Б'])\n",
    "plt.grid(True)\n",
    "plt.show()"
   ]
  },
  {
   "cell_type": "markdown",
   "metadata": {},
   "source": [
    "**Вывод:** видим выброс 19.08.2019 в группе В по выручке, который мог быть связан с некорректным сбором данным или с рекламной компанией, которая могла привести к росту выручки. Группа В растет линейно."
   ]
  },
  {
   "cell_type": "markdown",
   "metadata": {},
   "source": [
    "### Постройте график кумулятивного среднего чека по группам. Сделайте выводы и предположения."
   ]
  },
  {
   "cell_type": "code",
   "execution_count": 31,
   "metadata": {},
   "outputs": [
    {
     "data": {
      "image/png": "[encoded data removed]",
      "text/plain": [
       "<Figure size 1008x504 with 1 Axes>"
      ]
     },
     "metadata": {
      "needs_background": "light"
     },
     "output_type": "display_data"
    }
   ],
   "source": [
    "cummulativeA = cummulative[cummulative['group']=='A'][['date', 'average_check']]\n",
    "cummulativeB = cummulative[cummulative['group']=='B'][['date', 'average_check']]\n",
    "\n",
    "plt.figure(figsize=(14, 7))\n",
    "plt.plot(cummulativeA.iloc[:,0].to_frame(), cummulativeA.iloc[:,1].to_frame(), label='A' )\n",
    "plt.plot(cummulativeB.iloc[:,0].to_frame(), cummulativeB.iloc[:,1].to_frame(), label='B')\n",
    "plt.title('График кумулятивного и обычного среднего чека групп А и Б', fontsize=17, color='blue')\n",
    "plt.xlabel('Даты проведения АБ теста',fontsize=12, color='red')\n",
    "plt.ylabel('Средний чек',fontsize=12, color='red')\n",
    "plt.legend([ 'Средний чек группа А', 'Средний чек группа Б', 'Средний чек А', 'Средний чек группа Б'])\n",
    "plt.grid(True)\n",
    "plt.show()"
   ]
  },
  {
   "cell_type": "markdown",
   "metadata": {},
   "source": [
    "**Вывод:** явно влияют выбросы данных на резкие скачки среднего чека"
   ]
  },
  {
   "cell_type": "markdown",
   "metadata": {},
   "source": [
    "### Постройте график относительного изменения кумулятивного среднего чека группы B к группе A. Сделайте выводы и предположения."
   ]
  },
  {
   "cell_type": "code",
   "execution_count": 32,
   "metadata": {},
   "outputs": [
    {
     "data": {
      "image/png": "[encoded data removed]",
      "text/plain": [
       "<Figure size 1008x504 with 1 Axes>"
      ]
     },
     "metadata": {
      "needs_background": "light"
     },
     "output_type": "display_data"
    }
   ],
   "source": [
    "df = (cummulativeA[['date', 'average_check']].merge(cummulativeB[['date', 'average_check']], \n",
    "                                            left_on='date', right_on='date', how='left', suffixes=['_A', '_B']))\n",
    "\n",
    "plt.figure(figsize=(14, 7))\n",
    "plt.plot(df['date'], df['average_check_B'] / df['average_check_A']-1)\n",
    "plt.title('График относительного изменения кумулятивного среднего чека группы B к группе A', fontsize=17, color='blue')\n",
    "plt.xlabel('Даты проведения АБ теста',fontsize=12, color='red')\n",
    "plt.ylabel('Относительное изменения',fontsize=12, color='red')\n",
    "plt.legend([ 'Относительное изменения кумулятивного среднего чека группы B к группе A', 'Средний чек группа Б'])\n",
    "plt.axhline(y=0, color='black', linestyle='--')\n",
    "plt.grid(True)\n",
    "plt.show()"
   ]
  },
  {
   "cell_type": "markdown",
   "metadata": {},
   "source": [
    "**Вывод:** снова резкие скачки среднего чека в определенные даты, выбросы оказывают влияние "
   ]
  },
  {
   "cell_type": "markdown",
   "metadata": {},
   "source": [
    "### Постройте график кумулятивной конверсии по группам. Сделайте выводы и предположения."
   ]
  },
  {
   "cell_type": "code",
   "execution_count": 33,
   "metadata": {},
   "outputs": [
    {
     "data": {
      "image/png": "[encoded data removed]",
      "text/plain": [
       "<Figure size 1008x504 with 1 Axes>"
      ]
     },
     "metadata": {
      "needs_background": "light"
     },
     "output_type": "display_data"
    }
   ],
   "source": [
    "cummulativeA = cummulative[cummulative['group']=='A'][['date', 'conversion']]\n",
    "cummulativeB = cummulative[cummulative['group']=='B'][['date', 'conversion']]\n",
    "\n",
    "plt.figure(figsize=(14, 7))\n",
    "plt.plot(cummulativeA.iloc[:,0].to_frame(), cummulativeA.iloc[:,1].to_frame(), label='A' )\n",
    "plt.plot(cummulativeB.iloc[:,0].to_frame(), cummulativeB.iloc[:,1].to_frame(), label='B')\n",
    "plt.title('График  кумулятивной конверсии по группам', fontsize=17, color='blue')\n",
    "plt.xlabel('Даты проведения АБ теста',fontsize=12, color='red')\n",
    "plt.ylabel('Конверсия',fontsize=12, color='red')\n",
    "plt.legend([ 'Конверсия группа А', 'Конверсия чек группа Б'])\n",
    "plt.grid(True)\n",
    "plt.show()"
   ]
  },
  {
   "cell_type": "markdown",
   "metadata": {},
   "source": [
    "**Вывод:** В первые 5 дней группа А имела большую конверсию, но потом начала снижаться, а группа В показала рост. Сейчас скачков в конверсии не наблюдается, группа В уверенно лидирует"
   ]
  },
  {
   "cell_type": "markdown",
   "metadata": {},
   "source": [
    "### Постройте график относительного изменения кумулятивной конверсии группы B к группе A. Сделайте выводы и предположения."
   ]
  },
  {
   "cell_type": "code",
   "execution_count": 34,
   "metadata": {},
   "outputs": [
    {
     "data": {
      "image/png": "[encoded data removed]",
      "text/plain": [
       "<Figure size 1008x504 with 1 Axes>"
      ]
     },
     "metadata": {
      "needs_background": "light"
     },
     "output_type": "display_data"
    }
   ],
   "source": [
    "df = (cummulativeA[['date', 'conversion']].merge(cummulativeB[['date', 'conversion']], \n",
    "                                            left_on='date', right_on='date', how='left', suffixes=['_A', '_B']))\n",
    "plt.figure(figsize=(14, 7))\n",
    "plt.plot(df['date'], df['conversion_B'] / df['conversion_A']-1)\n",
    "plt.title('График  относительного изменения кумулятивной конверсии группы B к группе A', fontsize=17, color='blue')\n",
    "plt.xlabel('Даты проведения АБ теста',fontsize=12, color='red')\n",
    "plt.ylabel('Конверсия',fontsize=12, color='red')\n",
    "plt.legend([ 'изменения кумулятивной конверсии группы B'])\n",
    "# задаем масштаб осей\n",
    "plt.axhline(y=0, color='black', linestyle='--')\n",
    "plt.axhline(y=0.2, color='grey', linestyle='--')\n",
    "plt.axhline(y=0.14, color='grey', linestyle='--')\n",
    "plt.grid(True)\n",
    "plt.show()"
   ]
  },
  {
   "cell_type": "markdown",
   "metadata": {},
   "source": [
    "**Вывод**: конверсия группы В уверенно лидирует. До 22 августа наблюдается рост кумулятивной конверсии группы В относительно группы А до 20%, начиная с 22 августа наблюдается снижение и на момент окончания теста конверсия группы В была больше на 14%."
   ]
  },
  {
   "cell_type": "markdown",
   "metadata": {},
   "source": [
    "### Постройте точечный график количества заказов по пользователям. Сделайте выводы и предположения."
   ]
  },
  {
   "cell_type": "code",
   "execution_count": 35,
   "metadata": {},
   "outputs": [
    {
     "data": {
      "text/html": [
       "<div>\n",
       "<style scoped>\n",
       "    .dataframe tbody tr th:only-of-type {\n",
       "        vertical-align: middle;\n",
       "    }\n",
       "\n",
       "    .dataframe tbody tr th {\n",
       "        vertical-align: top;\n",
       "    }\n",
       "\n",
       "    .dataframe thead th {\n",
       "        text-align: right;\n",
       "    }\n",
       "</style>\n",
       "<table border=\"1\" class=\"dataframe\">\n",
       "  <thead>\n",
       "    <tr style=\"text-align: right;\">\n",
       "      <th></th>\n",
       "      <th>visitor_id</th>\n",
       "      <th>orders</th>\n",
       "    </tr>\n",
       "  </thead>\n",
       "  <tbody>\n",
       "    <tr>\n",
       "      <th>0</th>\n",
       "      <td>5114589</td>\n",
       "      <td>1</td>\n",
       "    </tr>\n",
       "    <tr>\n",
       "      <th>1</th>\n",
       "      <td>6958315</td>\n",
       "      <td>1</td>\n",
       "    </tr>\n",
       "    <tr>\n",
       "      <th>2</th>\n",
       "      <td>8300375</td>\n",
       "      <td>2</td>\n",
       "    </tr>\n",
       "    <tr>\n",
       "      <th>3</th>\n",
       "      <td>11685486</td>\n",
       "      <td>1</td>\n",
       "    </tr>\n",
       "    <tr>\n",
       "      <th>4</th>\n",
       "      <td>39475350</td>\n",
       "      <td>1</td>\n",
       "    </tr>\n",
       "    <tr>\n",
       "      <th>...</th>\n",
       "      <td>...</td>\n",
       "      <td>...</td>\n",
       "    </tr>\n",
       "    <tr>\n",
       "      <th>1026</th>\n",
       "      <td>4266935830</td>\n",
       "      <td>2</td>\n",
       "    </tr>\n",
       "    <tr>\n",
       "      <th>1027</th>\n",
       "      <td>4278982564</td>\n",
       "      <td>1</td>\n",
       "    </tr>\n",
       "    <tr>\n",
       "      <th>1028</th>\n",
       "      <td>4279090005</td>\n",
       "      <td>1</td>\n",
       "    </tr>\n",
       "    <tr>\n",
       "      <th>1029</th>\n",
       "      <td>4281247801</td>\n",
       "      <td>1</td>\n",
       "    </tr>\n",
       "    <tr>\n",
       "      <th>1030</th>\n",
       "      <td>4283872382</td>\n",
       "      <td>1</td>\n",
       "    </tr>\n",
       "  </tbody>\n",
       "</table>\n",
       "<p>1031 rows × 2 columns</p>\n",
       "</div>"
      ],
      "text/plain": [
       "      visitor_id  orders\n",
       "0     5114589     1     \n",
       "1     6958315     1     \n",
       "2     8300375     2     \n",
       "3     11685486    1     \n",
       "4     39475350    1     \n",
       "...        ...   ..     \n",
       "1026  4266935830  2     \n",
       "1027  4278982564  1     \n",
       "1028  4279090005  1     \n",
       "1029  4281247801  1     \n",
       "1030  4283872382  1     \n",
       "\n",
       "[1031 rows x 2 columns]"
      ]
     },
     "execution_count": 35,
     "metadata": {},
     "output_type": "execute_result"
    }
   ],
   "source": [
    "#выясним сколько на каждого пользователя пришлось заказов\n",
    "\n",
    "orders_user = orders.groupby('visitor_id', as_index=False).agg({'transaction_id':'nunique'})\\\n",
    "                         .rename(columns={'transaction_id':'orders'})\n",
    "orders_user"
   ]
  },
  {
   "cell_type": "code",
   "execution_count": 36,
   "metadata": {},
   "outputs": [
    {
     "data": {
      "image/png": "[encoded data removed]",
      "text/plain": [
       "<Figure size 720x360 with 1 Axes>"
      ]
     },
     "metadata": {
      "needs_background": "light"
     },
     "output_type": "display_data"
    }
   ],
   "source": [
    "#построим точечную диаграмму методом scatter()\n",
    "plt.figure(figsize=(10, 5))\n",
    "x_values = pd.Series(range(0,len(orders_user)))\n",
    "plt.scatter(x_values, orders_user['orders'])\n",
    "plt.title('Точечный график количества заказов по пользователям', fontsize=17, color='blue')\n",
    "plt.xlabel('Количество пользователей',fontsize=12, color='red')\n",
    "plt.ylabel('Количество заказов',fontsize=12, color='red');"
   ]
  },
  {
   "cell_type": "markdown",
   "metadata": {},
   "source": [
    "### Посчитайте 95-й и 99-й перцентили количества заказов на пользователя. Выберите границу для определения аномальных пользователей."
   ]
  },
  {
   "cell_type": "code",
   "execution_count": 37,
   "metadata": {},
   "outputs": [
    {
     "data": {
      "text/plain": [
       "array([1., 2., 4.])"
      ]
     },
     "metadata": {},
     "output_type": "display_data"
    }
   ],
   "source": [
    "display(np.percentile(orders_user['orders'], [90, 95, 99])) "
   ]
  },
  {
   "cell_type": "markdown",
   "metadata": {},
   "source": [
    "**Вывод:** мы отсеиваем от 1% до 5% данных с крайними значениями. В нашем случае не более 5% пользователей делали больше 2 заказов и не более 1% больше 4. Все, что за 99 перцентилем — аномально."
   ]
  },
  {
   "cell_type": "markdown",
   "metadata": {},
   "source": [
    "### Постройте точечный график стоимостей заказов. Сделайте выводы и предположения."
   ]
  },
  {
   "cell_type": "code",
   "execution_count": 38,
   "metadata": {},
   "outputs": [
    {
     "data": {
      "image/png": "[encoded data removed]",
      "text/plain": [
       "<Figure size 720x360 with 1 Axes>"
      ]
     },
     "metadata": {
      "needs_background": "light"
     },
     "output_type": "display_data"
    }
   ],
   "source": [
    "plt.figure(figsize=(10, 5))\n",
    "x_values = pd.Series(range(0,len(orders['revenue'] < 0.2)))\n",
    "plt.scatter(x_values, orders['revenue'])\n",
    "plt.title('Точечный график стоимостей заказов', fontsize=17, color='blue')\n",
    "plt.xlabel('Количество пользователей',fontsize=12, color='red')\n",
    "plt.ylabel('Стоимость заказов',fontsize=12, color='red')\n",
    "plt.show();"
   ]
  },
  {
   "cell_type": "markdown",
   "metadata": {},
   "source": [
    "**Вывод:** тут мы видим как раз те выбросы, которые появлялись на графиках ранее - большая часть заказов была сделана на сумму в пределах 0.15, но есть несколько заказов стоимостью 0.2 и один более 1.2 - что как раз и является нашими выбросами "
   ]
  },
  {
   "cell_type": "markdown",
   "metadata": {},
   "source": [
    "### Посчитайте 95-й и 99-й перцентили стоимости заказов. Выберите границу для определения аномальных заказов."
   ]
  },
  {
   "cell_type": "code",
   "execution_count": 39,
   "metadata": {},
   "outputs": [
    {
     "data": {
      "text/plain": [
       "array([18168. , 28000. , 58233.2])"
      ]
     },
     "metadata": {},
     "output_type": "display_data"
    }
   ],
   "source": [
    "display(np.percentile(orders['revenue'], [90, 95, 99])) "
   ]
  },
  {
   "cell_type": "markdown",
   "metadata": {},
   "source": [
    "**Вывод:** 90% заказов стоят больше 18168, 5% больше 28000 и только 1% больше 58233.2. Всё что за 99 перцентилем — аномально."
   ]
  },
  {
   "cell_type": "markdown",
   "metadata": {},
   "source": [
    "### Посчитайте статистическую значимость различий в конверсии между группами по «сырым» данным. Сделайте выводы и предположения"
   ]
  },
  {
   "cell_type": "code",
   "execution_count": 40,
   "metadata": {},
   "outputs": [
    {
     "data": {
      "text/html": [
       "<div>\n",
       "<style scoped>\n",
       "    .dataframe tbody tr th:only-of-type {\n",
       "        vertical-align: middle;\n",
       "    }\n",
       "\n",
       "    .dataframe tbody tr th {\n",
       "        vertical-align: top;\n",
       "    }\n",
       "\n",
       "    .dataframe thead th {\n",
       "        text-align: right;\n",
       "    }\n",
       "</style>\n",
       "<table border=\"1\" class=\"dataframe\">\n",
       "  <thead>\n",
       "    <tr style=\"text-align: right;\">\n",
       "      <th></th>\n",
       "      <th>user_id</th>\n",
       "      <th>orders</th>\n",
       "    </tr>\n",
       "  </thead>\n",
       "  <tbody>\n",
       "    <tr>\n",
       "      <th>0</th>\n",
       "      <td>8300375</td>\n",
       "      <td>1</td>\n",
       "    </tr>\n",
       "    <tr>\n",
       "      <th>1</th>\n",
       "      <td>11685486</td>\n",
       "      <td>1</td>\n",
       "    </tr>\n",
       "    <tr>\n",
       "      <th>2</th>\n",
       "      <td>54447517</td>\n",
       "      <td>1</td>\n",
       "    </tr>\n",
       "    <tr>\n",
       "      <th>3</th>\n",
       "      <td>66685450</td>\n",
       "      <td>1</td>\n",
       "    </tr>\n",
       "    <tr>\n",
       "      <th>4</th>\n",
       "      <td>78758296</td>\n",
       "      <td>1</td>\n",
       "    </tr>\n",
       "  </tbody>\n",
       "</table>\n",
       "</div>"
      ],
      "text/plain": [
       "    user_id  orders\n",
       "0  8300375   1     \n",
       "1  11685486  1     \n",
       "2  54447517  1     \n",
       "3  66685450  1     \n",
       "4  78758296  1     "
      ]
     },
     "metadata": {},
     "output_type": "display_data"
    },
    {
     "data": {
      "text/html": [
       "<div>\n",
       "<style scoped>\n",
       "    .dataframe tbody tr th:only-of-type {\n",
       "        vertical-align: middle;\n",
       "    }\n",
       "\n",
       "    .dataframe tbody tr th {\n",
       "        vertical-align: top;\n",
       "    }\n",
       "\n",
       "    .dataframe thead th {\n",
       "        text-align: right;\n",
       "    }\n",
       "</style>\n",
       "<table border=\"1\" class=\"dataframe\">\n",
       "  <thead>\n",
       "    <tr style=\"text-align: right;\">\n",
       "      <th></th>\n",
       "      <th>user_id</th>\n",
       "      <th>orders</th>\n",
       "    </tr>\n",
       "  </thead>\n",
       "  <tbody>\n",
       "    <tr>\n",
       "      <th>0</th>\n",
       "      <td>5114589</td>\n",
       "      <td>1</td>\n",
       "    </tr>\n",
       "    <tr>\n",
       "      <th>1</th>\n",
       "      <td>6958315</td>\n",
       "      <td>1</td>\n",
       "    </tr>\n",
       "    <tr>\n",
       "      <th>2</th>\n",
       "      <td>8300375</td>\n",
       "      <td>1</td>\n",
       "    </tr>\n",
       "    <tr>\n",
       "      <th>3</th>\n",
       "      <td>39475350</td>\n",
       "      <td>1</td>\n",
       "    </tr>\n",
       "    <tr>\n",
       "      <th>4</th>\n",
       "      <td>47206413</td>\n",
       "      <td>1</td>\n",
       "    </tr>\n",
       "  </tbody>\n",
       "</table>\n",
       "</div>"
      ],
      "text/plain": [
       "    user_id  orders\n",
       "0  5114589   1     \n",
       "1  6958315   1     \n",
       "2  8300375   1     \n",
       "3  39475350  1     \n",
       "4  47206413  1     "
      ]
     },
     "metadata": {},
     "output_type": "display_data"
    }
   ],
   "source": [
    "#Создадим отдельно таблицы с конверсиями каждой группы теста\n",
    "#и посчитайтаем статистическую значимость различия конверсии по результатам АВ теста.\n",
    "#Применим тест Манна-Уитни\n",
    "orders_usersA = orders[orders['group']=='A'].groupby('visitor_id', as_index=False).agg({'transaction_id' : pd.Series.nunique})\n",
    "orders_usersA.columns = ['user_id', 'orders']\n",
    "display(orders_usersA.head())\n",
    "\n",
    "orders_usersB = orders[orders['group']=='B'].groupby('visitor_id', as_index=False).agg({'transaction_id' : pd.Series.nunique})\n",
    "orders_usersB.columns = ['user_id', 'orders'] \n",
    "display(orders_usersB.head())"
   ]
  },
  {
   "cell_type": "code",
   "execution_count": 41,
   "metadata": {},
   "outputs": [
    {
     "data": {
      "text/html": [
       "<div>\n",
       "<style scoped>\n",
       "    .dataframe tbody tr th:only-of-type {\n",
       "        vertical-align: middle;\n",
       "    }\n",
       "\n",
       "    .dataframe tbody tr th {\n",
       "        vertical-align: top;\n",
       "    }\n",
       "\n",
       "    .dataframe thead th {\n",
       "        text-align: right;\n",
       "    }\n",
       "</style>\n",
       "<table border=\"1\" class=\"dataframe\">\n",
       "  <thead>\n",
       "    <tr style=\"text-align: right;\">\n",
       "      <th></th>\n",
       "      <th>date</th>\n",
       "      <th>visitors_date</th>\n",
       "    </tr>\n",
       "  </thead>\n",
       "  <tbody>\n",
       "    <tr>\n",
       "      <th>0</th>\n",
       "      <td>2019-08-01</td>\n",
       "      <td>719</td>\n",
       "    </tr>\n",
       "    <tr>\n",
       "      <th>1</th>\n",
       "      <td>2019-08-02</td>\n",
       "      <td>619</td>\n",
       "    </tr>\n",
       "    <tr>\n",
       "      <th>2</th>\n",
       "      <td>2019-08-03</td>\n",
       "      <td>507</td>\n",
       "    </tr>\n",
       "    <tr>\n",
       "      <th>3</th>\n",
       "      <td>2019-08-04</td>\n",
       "      <td>717</td>\n",
       "    </tr>\n",
       "    <tr>\n",
       "      <th>4</th>\n",
       "      <td>2019-08-05</td>\n",
       "      <td>756</td>\n",
       "    </tr>\n",
       "  </tbody>\n",
       "</table>\n",
       "</div>"
      ],
      "text/plain": [
       "        date  visitors_date\n",
       "0 2019-08-01  719          \n",
       "1 2019-08-02  619          \n",
       "2 2019-08-03  507          \n",
       "3 2019-08-04  717          \n",
       "4 2019-08-05  756          "
      ]
     },
     "metadata": {},
     "output_type": "display_data"
    }
   ],
   "source": [
    "visitors_dailyA = visitors[visitors['group']=='A'][['date', 'visitors']]\n",
    "visitors_dailyA.columns = ['date', 'visitors_date']\n",
    "display(visitors_dailyA.head())"
   ]
  },
  {
   "cell_type": "code",
   "execution_count": 42,
   "metadata": {},
   "outputs": [
    {
     "data": {
      "text/html": [
       "<div>\n",
       "<style scoped>\n",
       "    .dataframe tbody tr th:only-of-type {\n",
       "        vertical-align: middle;\n",
       "    }\n",
       "\n",
       "    .dataframe tbody tr th {\n",
       "        vertical-align: top;\n",
       "    }\n",
       "\n",
       "    .dataframe thead th {\n",
       "        text-align: right;\n",
       "    }\n",
       "</style>\n",
       "<table border=\"1\" class=\"dataframe\">\n",
       "  <thead>\n",
       "    <tr style=\"text-align: right;\">\n",
       "      <th></th>\n",
       "      <th>date</th>\n",
       "      <th>visitors_date</th>\n",
       "    </tr>\n",
       "  </thead>\n",
       "  <tbody>\n",
       "    <tr>\n",
       "      <th>31</th>\n",
       "      <td>2019-08-01</td>\n",
       "      <td>713</td>\n",
       "    </tr>\n",
       "    <tr>\n",
       "      <th>32</th>\n",
       "      <td>2019-08-02</td>\n",
       "      <td>581</td>\n",
       "    </tr>\n",
       "    <tr>\n",
       "      <th>33</th>\n",
       "      <td>2019-08-03</td>\n",
       "      <td>509</td>\n",
       "    </tr>\n",
       "    <tr>\n",
       "      <th>34</th>\n",
       "      <td>2019-08-04</td>\n",
       "      <td>770</td>\n",
       "    </tr>\n",
       "    <tr>\n",
       "      <th>35</th>\n",
       "      <td>2019-08-05</td>\n",
       "      <td>707</td>\n",
       "    </tr>\n",
       "  </tbody>\n",
       "</table>\n",
       "</div>"
      ],
      "text/plain": [
       "         date  visitors_date\n",
       "31 2019-08-01  713          \n",
       "32 2019-08-02  581          \n",
       "33 2019-08-03  509          \n",
       "34 2019-08-04  770          \n",
       "35 2019-08-05  707          "
      ]
     },
     "metadata": {},
     "output_type": "display_data"
    }
   ],
   "source": [
    "visitors_dailyB = visitors[visitors['group']=='B'][['date', 'visitors']]\n",
    "visitors_dailyB.columns = ['date', 'visitors_date']\n",
    "display(visitors_dailyB.head())"
   ]
  },
  {
   "cell_type": "code",
   "execution_count": 43,
   "metadata": {},
   "outputs": [
    {
     "data": {
      "text/html": [
       "<div>\n",
       "<style scoped>\n",
       "    .dataframe tbody tr th:only-of-type {\n",
       "        vertical-align: middle;\n",
       "    }\n",
       "\n",
       "    .dataframe tbody tr th {\n",
       "        vertical-align: top;\n",
       "    }\n",
       "\n",
       "    .dataframe thead th {\n",
       "        text-align: right;\n",
       "    }\n",
       "</style>\n",
       "<table border=\"1\" class=\"dataframe\">\n",
       "  <thead>\n",
       "    <tr style=\"text-align: right;\">\n",
       "      <th></th>\n",
       "      <th>date</th>\n",
       "      <th>orders_date</th>\n",
       "      <th>revenue_date</th>\n",
       "    </tr>\n",
       "  </thead>\n",
       "  <tbody>\n",
       "    <tr>\n",
       "      <th>0</th>\n",
       "      <td>2019-08-01</td>\n",
       "      <td>24</td>\n",
       "      <td>148579</td>\n",
       "    </tr>\n",
       "    <tr>\n",
       "      <th>1</th>\n",
       "      <td>2019-08-02</td>\n",
       "      <td>20</td>\n",
       "      <td>93822</td>\n",
       "    </tr>\n",
       "  </tbody>\n",
       "</table>\n",
       "</div>"
      ],
      "text/plain": [
       "        date  orders_date  revenue_date\n",
       "0 2019-08-01  24           148579      \n",
       "1 2019-08-02  20           93822       "
      ]
     },
     "metadata": {},
     "output_type": "display_data"
    },
    {
     "data": {
      "text/html": [
       "<div>\n",
       "<style scoped>\n",
       "    .dataframe tbody tr th:only-of-type {\n",
       "        vertical-align: middle;\n",
       "    }\n",
       "\n",
       "    .dataframe tbody tr th {\n",
       "        vertical-align: top;\n",
       "    }\n",
       "\n",
       "    .dataframe thead th {\n",
       "        text-align: right;\n",
       "    }\n",
       "</style>\n",
       "<table border=\"1\" class=\"dataframe\">\n",
       "  <thead>\n",
       "    <tr style=\"text-align: right;\">\n",
       "      <th></th>\n",
       "      <th>date</th>\n",
       "      <th>orders_date</th>\n",
       "      <th>revenue_date</th>\n",
       "    </tr>\n",
       "  </thead>\n",
       "  <tbody>\n",
       "    <tr>\n",
       "      <th>0</th>\n",
       "      <td>2019-08-01</td>\n",
       "      <td>21</td>\n",
       "      <td>101217</td>\n",
       "    </tr>\n",
       "    <tr>\n",
       "      <th>1</th>\n",
       "      <td>2019-08-02</td>\n",
       "      <td>24</td>\n",
       "      <td>165531</td>\n",
       "    </tr>\n",
       "  </tbody>\n",
       "</table>\n",
       "</div>"
      ],
      "text/plain": [
       "        date  orders_date  revenue_date\n",
       "0 2019-08-01  21           101217      \n",
       "1 2019-08-02  24           165531      "
      ]
     },
     "metadata": {},
     "output_type": "display_data"
    }
   ],
   "source": [
    "orders_dailyA = orders[orders['group']=='A'][['date', 'transaction_id', 'visitor_id', 'revenue']]\\\n",
    "    .groupby('date', as_index=False)\\\n",
    "    .agg({'transaction_id' : pd.Series.nunique, 'revenue' : 'sum'})\n",
    "orders_dailyA.columns = ['date', 'orders_date', 'revenue_date']\n",
    "display(orders_dailyA.head(2))\n",
    "\n",
    "orders_dailyB = orders[orders['group']=='B'][['date', 'transaction_id', 'visitor_id', 'revenue']]\\\n",
    "    .groupby('date', as_index=False)\\\n",
    "    .agg({'transaction_id' : pd.Series.nunique, 'revenue' : 'sum'})\n",
    "orders_dailyB.columns = ['date', 'orders_date', 'revenue_date']\n",
    "display(orders_dailyB.head(2))"
   ]
  },
  {
   "cell_type": "code",
   "execution_count": 44,
   "metadata": {},
   "outputs": [
    {
     "data": {
      "text/plain": [
       "0    1\n",
       "1    1\n",
       "2    1\n",
       "3    1\n",
       "4    1\n",
       "Name: orders, dtype: int64"
      ]
     },
     "metadata": {},
     "output_type": "display_data"
    }
   ],
   "source": [
    "#зададим переменные sampleA и sampleB, в которых пользователям из разных групп будет соответствовать количество заказов \n",
    "#тем, кто ничего не заказал, будут соответствовать нули\n",
    "\n",
    "sampleA = pd.concat([orders_usersA['orders'],\n",
    "                     pd.Series(0, index=np.arange(visitors_dailyA['visitors_date'].sum() \n",
    "                                                  - len(orders_usersA['orders'])), name='orders')],axis=0)\n",
    "display(sampleA.head())"
   ]
  },
  {
   "cell_type": "code",
   "execution_count": 45,
   "metadata": {},
   "outputs": [
    {
     "data": {
      "text/plain": [
       "0    1\n",
       "1    1\n",
       "2    1\n",
       "3    1\n",
       "4    1\n",
       "Name: orders, dtype: int64"
      ]
     },
     "metadata": {},
     "output_type": "display_data"
    }
   ],
   "source": [
    "sampleB = pd.concat([orders_usersB['orders'],\n",
    "                     pd.Series(0, index=np.arange(visitors_dailyB['visitors_date'].sum() \n",
    "                                                  - len(orders_usersB['orders'])), name='orders')],axis=0)\n",
    "display(sampleB.head())"
   ]
  },
  {
   "cell_type": "markdown",
   "metadata": {},
   "source": [
    "Нам необходимо знать если статистически значимая разница между конверсиями группы А и группы Б. Примем за нулевую гипотезу что конверсии равны, альтернативная гипотеза что между конверсиями группы А и группы Б, есть статистическая разница\n",
    "\n",
    "Проверим это предположение Непараметрическим тестом Уилкоксона-Манна-Уитни. Этот тест нам подходит, так как в нашем случае есть большие (по сравнению с нормальным распределением) выбросы. По сравнению с алгебраическими метриками, непараметрический тест Уилкоксона-Манна-Уитни с этим справится лучше.\n",
    "\n",
    "Если выходное значение больше 0.05 то нулевая гипотеза подтверждается и разница между конверсиями статистически не значима"
   ]
  },
  {
   "cell_type": "code",
   "execution_count": 46,
   "metadata": {},
   "outputs": [
    {
     "data": {
      "text/plain": [
       "'Сырые данные Конверсия, p-value - 0.017'"
      ]
     },
     "metadata": {},
     "output_type": "display_data"
    }
   ],
   "source": [
    "display(\"Сырые данные Конверсия, p-value - {0:.3f}\".format(stats.mannwhitneyu(sampleA, sampleB)[1]))"
   ]
  },
  {
   "cell_type": "code",
   "execution_count": 47,
   "metadata": {},
   "outputs": [
    {
     "data": {
      "text/plain": [
       "'Сырые данные Конверсия группы В больше чем конверсия группы А на 13.8%'"
      ]
     },
     "metadata": {},
     "output_type": "display_data"
    }
   ],
   "source": [
    "display(\"Сырые данные Конверсия группы В больше чем конверсия группы А на {0:.1%}\".format((orders_dailyB['orders_date'].sum()/visitors_dailyB['visitors_date'].sum())\n",
    "                       /(orders_dailyA['orders_date'].sum()/visitors_dailyA['visitors_date'].sum())-1))"
   ]
  },
  {
   "cell_type": "markdown",
   "metadata": {},
   "source": [
    "**Вывод:** p-value меньше 0.05 поэтому нулевую гипотезу отвергаем, конверсии не равны - в конверсии между группами есть статистически значимая разница. Также это подтверждает относительный прирост конверсии группы Б относительно группы А почти 14%"
   ]
  },
  {
   "cell_type": "markdown",
   "metadata": {},
   "source": [
    "### Посчитайте статистическую значимость различий в среднем чеке заказа между группами по «сырым» данным. Сделайте выводы и предположения."
   ]
  },
  {
   "cell_type": "code",
   "execution_count": 48,
   "metadata": {},
   "outputs": [
    {
     "name": "stdout",
     "output_type": "stream",
     "text": [
      "p-значение:  0.7292909855432458\n",
      "Не получилось отвергнуть H0: вывод о различии сделать нельзя\n"
     ]
    }
   ],
   "source": [
    "# Воспользуемся критерием Манна-Уитни\n",
    "# H0: Средний чек A не превосходит средний чек группы B\n",
    "# H1: Средний чек A превосходит среднему чеку группы B\n",
    "alpha = 0.05\n",
    "results = st.mannwhitneyu(orders[orders['group']=='A']['revenue'], orders[orders['group']=='B']['revenue'])\n",
    "pvalue = results.pvalue\n",
    "print('p-значение: ', pvalue)\n",
    "if (pvalue < alpha):\n",
    "    print(\"Отвергаем H0: разница статистически значима\")\n",
    "else:\n",
    "    print(\"Не получилось отвергнуть H0: вывод о различии сделать нельзя\")"
   ]
  },
  {
   "cell_type": "code",
   "execution_count": 49,
   "metadata": {},
   "outputs": [
    {
     "data": {
      "text/plain": [
       "7333.578096947936"
      ]
     },
     "metadata": {},
     "output_type": "display_data"
    },
    {
     "data": {
      "text/plain": [
       "9230.875"
      ]
     },
     "metadata": {},
     "output_type": "display_data"
    }
   ],
   "source": [
    "display(orders[orders['group']=='A']['revenue'].mean())\n",
    "display(orders[orders['group']=='B']['revenue'].mean())"
   ]
  },
  {
   "cell_type": "code",
   "execution_count": 50,
   "metadata": {},
   "outputs": [
    {
     "data": {
      "text/plain": [
       "'Cырые данные Средний чек группы В больше чем средний чек группы А на 25.9%'"
      ]
     },
     "metadata": {},
     "output_type": "display_data"
    }
   ],
   "source": [
    "display(\"Cырые данные Средний чек группы В больше чем средний чек группы А на {0:.1%}\"\n",
    "        .format(orders[orders['group']=='B']['revenue'].mean()/orders[orders['group']=='A']['revenue'].mean()-1))"
   ]
  },
  {
   "cell_type": "markdown",
   "metadata": {},
   "source": [
    "**Вывод:** даже относительный прирост среднего чека группы Б относительно группы А в почти 26% не дает нам статистически значимой разницы"
   ]
  },
  {
   "cell_type": "markdown",
   "metadata": {},
   "source": [
    "### Посчитайте статистическую значимость различий в конверсии между группами по «очищенным» данным. Сделайте выводы и предположения."
   ]
  },
  {
   "cell_type": "code",
   "execution_count": 51,
   "metadata": {},
   "outputs": [],
   "source": [
    "# очистим данные\n",
    "#удалим аномалии,всё что за 95 перцентилем\n",
    "users_anomal= orders[orders['revenue'] > 28000]['visitor_id']"
   ]
  },
  {
   "cell_type": "code",
   "execution_count": 52,
   "metadata": {
    "scrolled": true
   },
   "outputs": [
    {
     "data": {
      "text/plain": [
       "18    199603092\n",
       "23    237748145\n",
       "Name: user_id, dtype: int64"
      ]
     },
     "metadata": {},
     "output_type": "display_data"
    },
    {
     "data": {
      "text/plain": [
       "1099    148427295\n",
       "18      199603092\n",
       "dtype: Int64"
      ]
     },
     "metadata": {},
     "output_type": "display_data"
    }
   ],
   "source": [
    "# найдем ID аномальных пользователей (кто платит больше 28 000 руб. и заказывает больше 2 заказов)\n",
    "users_many_orders = pd.concat([orders_usersA[orders_usersA['orders'] > 2]['user_id'],\n",
    "                                 orders_usersB[orders_usersB['orders'] > 2]['user_id']], axis = 0)\n",
    "display(users_many_orders.head(2))\n",
    "users_expensive_orders = orders[orders['revenue'] > 28000]['visitor_id']\n",
    "\n",
    "# соеденяем таблицы с ID тех кто заказывет много и тех кто платит много, удаляем дубликаты\n",
    "\n",
    "ab_clear_users = pd.concat([users_many_orders, users_expensive_orders], axis = 0).drop_duplicates().sort_values()\n",
    "display(ab_clear_users.head(2))"
   ]
  },
  {
   "cell_type": "code",
   "execution_count": 53,
   "metadata": {},
   "outputs": [],
   "source": [
    "#Удалим аномальных пользователей из таблицы\n",
    "sampleA_filtr = pd.concat([orders_usersA[np.logical_not(orders_usersA['user_id'].isin(ab_clear_users))]['orders'],\n",
    "                             pd.Series(0, index=np.arange(visitors_dailyA['visitors_date'].sum() - len(orders_usersA['orders'])),\n",
    "                                       name='orders')],axis=0)\n",
    "\n",
    "sampleB_filtr = pd.concat([orders_usersB[np.logical_not(orders_usersB['user_id'].isin(ab_clear_users))]['orders'],pd.Series(0, index=np.arange(visitors_dailyB['visitors_date'].sum() - len(orders_usersB['orders'])),name='orders')],axis=0) "
   ]
  },
  {
   "cell_type": "code",
   "execution_count": 54,
   "metadata": {},
   "outputs": [
    {
     "data": {
      "text/plain": [
       "0    1\n",
       "1    1\n",
       "2    1\n",
       "3    1\n",
       "4    1\n",
       "Name: orders, dtype: int64"
      ]
     },
     "metadata": {},
     "output_type": "display_data"
    },
    {
     "data": {
      "text/plain": [
       "0    1\n",
       "1    1\n",
       "2    1\n",
       "3    1\n",
       "4    1\n",
       "Name: orders, dtype: int64"
      ]
     },
     "metadata": {},
     "output_type": "display_data"
    }
   ],
   "source": [
    "display(sampleA_filtr.head())\n",
    "display(sampleB_filtr.head())"
   ]
  },
  {
   "cell_type": "markdown",
   "metadata": {},
   "source": [
    "Нам необходимо выяснить если статистически значимая разница между конверсиями группы А и группы Б по чистым данным. Примем за нулевую гипотезу что конверсии равны, альтернативная гипотеза что между конверсиями группы А и группы В, есть статистическая разница"
   ]
  },
  {
   "cell_type": "code",
   "execution_count": 55,
   "metadata": {},
   "outputs": [
    {
     "name": "stdout",
     "output_type": "stream",
     "text": [
      "Очищенные данные конверсия  p-value - 0.01304\n",
      "Очищенные Конверсия группы В больше чем конверсия группы А на 17.3%\n"
     ]
    }
   ],
   "source": [
    "print(\"Очищенные данные конверсия  p-value - {0:.5f}\".format(stats.mannwhitneyu(sampleA_filtr, sampleB_filtr)[1]))\n",
    "\n",
    "#посмотрим разницу конверсий\n",
    "print(\"Очищенные Конверсия группы В больше чем конверсия группы А на {0:.1%}\".format(sampleB_filtr.mean()/sampleA_filtr.mean()-1)) "
   ]
  },
  {
   "cell_type": "markdown",
   "metadata": {},
   "source": [
    "**Вывод:** p-value меньше 0,05 поэтому нулевую гипотезу отвергаем, конверсии не равны. В конверсии между группами есть статистически значимая разница. Относительный прирост конверсии группы В относительно группы А увеличился за счет удаления выбросов до 17%"
   ]
  },
  {
   "cell_type": "markdown",
   "metadata": {},
   "source": [
    "### Посчитайте статистическую значимость различий в среднем чеке заказа между группами по «очищенным» данным. Сделайте выводы и предположения"
   ]
  },
  {
   "cell_type": "code",
   "execution_count": 56,
   "metadata": {},
   "outputs": [
    {
     "data": {
      "text/plain": [
       "'Очищенные данные p-value - 0.738'"
      ]
     },
     "metadata": {},
     "output_type": "display_data"
    }
   ],
   "source": [
    "# Воспользуемся критерием Манна-Уитни\n",
    "display(\"Очищенные данные p-value - {0:.3f}\".format(stats.mannwhitneyu(\n",
    "    orders[np.logical_and(\n",
    "        orders['group']=='A',\n",
    "        np.logical_not(orders['visitor_id'].isin(ab_clear_users)))]['revenue'],\n",
    "    orders[np.logical_and(\n",
    "        orders['group']=='B',\n",
    "        np.logical_not(orders['visitor_id'].isin(ab_clear_users)))]['revenue'])[1]))"
   ]
  },
  {
   "cell_type": "code",
   "execution_count": 57,
   "metadata": {},
   "outputs": [
    {
     "name": "stdout",
     "output_type": "stream",
     "text": [
      "Очищенные данные Средний чек группы В больше чем средний чек группы А на -2.0%\n"
     ]
    }
   ],
   "source": [
    "print(\"Очищенные данные Средний чек группы В больше чем средний чек группы А на {0:.1%}\".format(\n",
    "    orders[np.logical_and(orders['group']=='B',np.logical_not(orders['visitor_id'].isin(ab_clear_users)))]['revenue'].mean()/\n",
    "    orders[np.logical_and(\n",
    "        orders['group']=='A',\n",
    "        np.logical_not(orders['visitor_id'].isin(ab_clear_users)))]['revenue'].mean() - 1)) "
   ]
  },
  {
   "cell_type": "markdown",
   "metadata": {},
   "source": [
    "**Вывод:** p-value больше 0,05 поэтому мы можем подтвердить нулевую гипотезу. В средних чеках между группами нет статистически значимой разница. Относительный прирост среднего чека группы В относительно группы А по \"очищенными данным\" упал до -2%"
   ]
  },
  {
   "cell_type": "markdown",
   "metadata": {},
   "source": [
    "# Шаг 4. Вывод <a class=\"anchor\" name=\"cell4\"></a>"
   ]
  },
  {
   "cell_type": "markdown",
   "metadata": {},
   "source": [
    "- Есть статистически значимое различия по конверсии между группами по «сырым», и по данным после фильтрации аномалий в пользу группы В;\n",
    "- Нет статистически значимого различия по среднему чеку между группами ни по «сырым», по данным после фильтрации аномалий среднего чека группы В относительно группы А по \"очищенными данным\" упал до -2%;\n",
    "\n",
    "После очистки данных:\n",
    "- разница в выручке между группами А и В сильно сократилось (этот вывод сделан на основании среднего чека)\n",
    "- конверсии группы B лучше группы A, но нет значительной тенденции к улучшению - на момент окончания теста набдюдается рост, но ему предществовало падение\n",
    "- по соотношению величины среднего чека группы В к Группе А мы видим что в начале теста средний чек группы Б был значительно выше чем группы А (возможно имела место проблема подглядывания), но в дальнейшем уменьшился и мы видим колебания около нулевой разницы с тенденцией их относительного равенства. Которую мы в дальнейшем скорее всего и получим.\n",
    "\n",
    "Тест нужно остановить и признать его неудавшимся. Так как вероятность улучшения статистической значимости группы B относительно группы А низкая."
   ]
  },
  {
   "cell_type": "markdown",
   "metadata": {},
   "source": [
    "<div class=\"alert alert-success\">\n",
    "    <b>✅ Комментарий ревьюера V2:</b>\n",
    "\n",
    "Проект принят! 🎉\n",
    "    \n",
    "Успехов в дальнейшем обучении!\n",
    "</div>"
   ]
  },
  {
   "cell_type": "code",
   "execution_count": null,
   "metadata": {},
   "outputs": [],
   "source": []
  }
 ],
 "metadata": {
  "ExecuteTimeLog": [
   {
    "duration": 101,
    "start_time": "2022-07-07T10:43:22.960Z"
   },
   {
    "duration": 1285,
    "start_time": "2022-07-07T10:43:59.472Z"
   },
   {
    "duration": 187,
    "start_time": "2022-07-07T10:45:05.761Z"
   },
   {
    "duration": 54,
    "start_time": "2022-07-07T10:45:47.298Z"
   },
   {
    "duration": 36,
    "start_time": "2022-07-07T10:47:43.922Z"
   },
   {
    "duration": 13,
    "start_time": "2022-07-07T10:49:04.575Z"
   },
   {
    "duration": 17,
    "start_time": "2022-07-07T10:49:30.984Z"
   },
   {
    "duration": 6,
    "start_time": "2022-07-07T10:49:52.799Z"
   },
   {
    "duration": 6,
    "start_time": "2022-07-07T10:50:10.841Z"
   },
   {
    "duration": 9,
    "start_time": "2022-07-07T10:50:25.125Z"
   },
   {
    "duration": 12,
    "start_time": "2022-07-07T10:50:35.263Z"
   },
   {
    "duration": 6,
    "start_time": "2022-07-07T10:51:06.966Z"
   },
   {
    "duration": 7,
    "start_time": "2022-07-07T10:51:15.079Z"
   },
   {
    "duration": 10,
    "start_time": "2022-07-07T10:51:31.926Z"
   },
   {
    "duration": 11,
    "start_time": "2022-07-07T10:52:17.531Z"
   },
   {
    "duration": 7,
    "start_time": "2022-07-07T10:59:55.932Z"
   },
   {
    "duration": 17,
    "start_time": "2022-07-07T11:00:10.729Z"
   },
   {
    "duration": 5,
    "start_time": "2022-07-07T11:09:35.820Z"
   },
   {
    "duration": 9,
    "start_time": "2022-07-07T11:10:09.577Z"
   },
   {
    "duration": 10,
    "start_time": "2022-07-07T11:10:24.505Z"
   },
   {
    "duration": 1201,
    "start_time": "2022-07-07T11:10:45.773Z"
   },
   {
    "duration": 40,
    "start_time": "2022-07-07T11:10:46.975Z"
   },
   {
    "duration": 13,
    "start_time": "2022-07-07T11:10:47.018Z"
   },
   {
    "duration": 20,
    "start_time": "2022-07-07T11:10:47.033Z"
   },
   {
    "duration": 17,
    "start_time": "2022-07-07T11:10:47.054Z"
   },
   {
    "duration": 13,
    "start_time": "2022-07-07T11:10:47.072Z"
   },
   {
    "duration": 16,
    "start_time": "2022-07-07T11:10:47.086Z"
   },
   {
    "duration": 19,
    "start_time": "2022-07-07T11:10:47.104Z"
   },
   {
    "duration": 12,
    "start_time": "2022-07-07T11:10:47.125Z"
   },
   {
    "duration": 22,
    "start_time": "2022-07-07T11:10:47.139Z"
   },
   {
    "duration": 18,
    "start_time": "2022-07-07T11:10:47.163Z"
   },
   {
    "duration": 16,
    "start_time": "2022-07-07T11:10:47.183Z"
   },
   {
    "duration": 21,
    "start_time": "2022-07-07T11:10:47.201Z"
   },
   {
    "duration": 27,
    "start_time": "2022-07-07T11:10:47.224Z"
   },
   {
    "duration": 14,
    "start_time": "2022-07-07T11:10:47.253Z"
   },
   {
    "duration": 103,
    "start_time": "2022-07-07T11:10:47.269Z"
   },
   {
    "duration": 4,
    "start_time": "2022-07-07T11:11:11.347Z"
   },
   {
    "duration": 12,
    "start_time": "2022-07-07T11:11:22.070Z"
   },
   {
    "duration": 5,
    "start_time": "2022-07-07T11:12:36.834Z"
   },
   {
    "duration": 3,
    "start_time": "2022-07-07T11:12:50.497Z"
   },
   {
    "duration": 12,
    "start_time": "2022-07-07T11:12:54.039Z"
   },
   {
    "duration": 5,
    "start_time": "2022-07-07T11:16:12.653Z"
   },
   {
    "duration": 1453,
    "start_time": "2022-07-07T17:49:41.578Z"
   },
   {
    "duration": 392,
    "start_time": "2022-07-07T17:49:43.033Z"
   },
   {
    "duration": 11,
    "start_time": "2022-07-07T17:49:43.427Z"
   },
   {
    "duration": 10,
    "start_time": "2022-07-07T17:49:43.440Z"
   },
   {
    "duration": 41,
    "start_time": "2022-07-07T17:49:43.452Z"
   },
   {
    "duration": 10,
    "start_time": "2022-07-07T17:49:43.495Z"
   },
   {
    "duration": 17,
    "start_time": "2022-07-07T17:49:43.509Z"
   },
   {
    "duration": 10,
    "start_time": "2022-07-07T17:49:43.528Z"
   },
   {
    "duration": 6,
    "start_time": "2022-07-07T17:49:43.539Z"
   },
   {
    "duration": 9,
    "start_time": "2022-07-07T17:49:43.548Z"
   },
   {
    "duration": 49,
    "start_time": "2022-07-07T17:49:43.558Z"
   },
   {
    "duration": 14,
    "start_time": "2022-07-07T17:49:43.609Z"
   },
   {
    "duration": 5,
    "start_time": "2022-07-07T17:49:43.625Z"
   },
   {
    "duration": 17,
    "start_time": "2022-07-07T17:49:43.632Z"
   },
   {
    "duration": 18,
    "start_time": "2022-07-07T17:49:43.651Z"
   },
   {
    "duration": 40,
    "start_time": "2022-07-07T17:49:43.671Z"
   },
   {
    "duration": 5,
    "start_time": "2022-07-07T17:49:43.713Z"
   },
   {
    "duration": 7,
    "start_time": "2022-07-07T17:49:43.720Z"
   },
   {
    "duration": 12,
    "start_time": "2022-07-07T17:49:43.729Z"
   },
   {
    "duration": 7,
    "start_time": "2022-07-07T17:49:43.743Z"
   },
   {
    "duration": 59,
    "start_time": "2022-07-07T17:49:43.754Z"
   },
   {
    "duration": 15,
    "start_time": "2022-07-07T17:51:58.990Z"
   },
   {
    "duration": 1231,
    "start_time": "2022-07-07T17:52:07.880Z"
   },
   {
    "duration": 90,
    "start_time": "2022-07-07T17:52:09.113Z"
   },
   {
    "duration": 11,
    "start_time": "2022-07-07T17:52:09.204Z"
   },
   {
    "duration": 12,
    "start_time": "2022-07-07T17:52:09.217Z"
   },
   {
    "duration": 7,
    "start_time": "2022-07-07T17:52:09.231Z"
   },
   {
    "duration": 9,
    "start_time": "2022-07-07T17:52:09.240Z"
   },
   {
    "duration": 52,
    "start_time": "2022-07-07T17:52:09.251Z"
   },
   {
    "duration": 10,
    "start_time": "2022-07-07T17:52:09.304Z"
   },
   {
    "duration": 5,
    "start_time": "2022-07-07T17:52:09.315Z"
   },
   {
    "duration": 6,
    "start_time": "2022-07-07T17:52:09.321Z"
   },
   {
    "duration": 7,
    "start_time": "2022-07-07T17:52:09.329Z"
   },
   {
    "duration": 28,
    "start_time": "2022-07-07T17:52:09.337Z"
   },
   {
    "duration": 34,
    "start_time": "2022-07-07T17:52:09.366Z"
   },
   {
    "duration": 16,
    "start_time": "2022-07-07T17:52:09.402Z"
   },
   {
    "duration": 8,
    "start_time": "2022-07-07T17:52:09.419Z"
   },
   {
    "duration": 12,
    "start_time": "2022-07-07T17:52:09.428Z"
   },
   {
    "duration": 6,
    "start_time": "2022-07-07T17:52:09.442Z"
   },
   {
    "duration": 46,
    "start_time": "2022-07-07T17:52:09.449Z"
   },
   {
    "duration": 10,
    "start_time": "2022-07-07T17:52:09.497Z"
   },
   {
    "duration": 10,
    "start_time": "2022-07-07T17:52:09.508Z"
   },
   {
    "duration": 12,
    "start_time": "2022-07-07T17:52:09.519Z"
   },
   {
    "duration": 1098,
    "start_time": "2022-07-07T17:56:39.008Z"
   },
   {
    "duration": 94,
    "start_time": "2022-07-07T17:56:40.108Z"
   },
   {
    "duration": 14,
    "start_time": "2022-07-07T17:56:40.204Z"
   },
   {
    "duration": 12,
    "start_time": "2022-07-07T17:56:40.220Z"
   },
   {
    "duration": 7,
    "start_time": "2022-07-07T17:56:40.234Z"
   },
   {
    "duration": 19,
    "start_time": "2022-07-07T17:56:40.243Z"
   },
   {
    "duration": 36,
    "start_time": "2022-07-07T17:56:40.264Z"
   },
   {
    "duration": 18,
    "start_time": "2022-07-07T17:56:40.302Z"
   },
   {
    "duration": 10,
    "start_time": "2022-07-07T17:56:40.322Z"
   },
   {
    "duration": 8,
    "start_time": "2022-07-07T17:56:40.333Z"
   },
   {
    "duration": 100,
    "start_time": "2022-07-07T17:56:40.342Z"
   },
   {
    "duration": 0,
    "start_time": "2022-07-07T17:56:40.444Z"
   },
   {
    "duration": 0,
    "start_time": "2022-07-07T17:56:40.445Z"
   },
   {
    "duration": 0,
    "start_time": "2022-07-07T17:56:40.446Z"
   },
   {
    "duration": 0,
    "start_time": "2022-07-07T17:56:40.452Z"
   },
   {
    "duration": 0,
    "start_time": "2022-07-07T17:56:40.452Z"
   },
   {
    "duration": 0,
    "start_time": "2022-07-07T17:56:40.453Z"
   },
   {
    "duration": 0,
    "start_time": "2022-07-07T17:56:40.454Z"
   },
   {
    "duration": 0,
    "start_time": "2022-07-07T17:56:40.455Z"
   },
   {
    "duration": 0,
    "start_time": "2022-07-07T17:56:40.455Z"
   },
   {
    "duration": 0,
    "start_time": "2022-07-07T17:56:40.456Z"
   },
   {
    "duration": 0,
    "start_time": "2022-07-07T17:56:40.457Z"
   },
   {
    "duration": 1135,
    "start_time": "2022-07-07T17:57:09.279Z"
   },
   {
    "duration": 107,
    "start_time": "2022-07-07T17:57:10.416Z"
   },
   {
    "duration": 10,
    "start_time": "2022-07-07T17:57:10.525Z"
   },
   {
    "duration": 10,
    "start_time": "2022-07-07T17:57:10.537Z"
   },
   {
    "duration": 49,
    "start_time": "2022-07-07T17:57:10.549Z"
   },
   {
    "duration": 5,
    "start_time": "2022-07-07T17:57:10.600Z"
   },
   {
    "duration": 10,
    "start_time": "2022-07-07T17:57:10.606Z"
   },
   {
    "duration": 11,
    "start_time": "2022-07-07T17:57:10.617Z"
   },
   {
    "duration": 6,
    "start_time": "2022-07-07T17:57:10.629Z"
   },
   {
    "duration": 6,
    "start_time": "2022-07-07T17:57:10.636Z"
   },
   {
    "duration": 29,
    "start_time": "2022-07-07T17:57:10.644Z"
   },
   {
    "duration": 30,
    "start_time": "2022-07-07T17:57:10.675Z"
   },
   {
    "duration": 15,
    "start_time": "2022-07-07T17:57:10.706Z"
   },
   {
    "duration": 9,
    "start_time": "2022-07-07T17:57:10.723Z"
   },
   {
    "duration": 16,
    "start_time": "2022-07-07T17:57:10.733Z"
   },
   {
    "duration": 14,
    "start_time": "2022-07-07T17:57:10.751Z"
   },
   {
    "duration": 41,
    "start_time": "2022-07-07T17:57:10.767Z"
   },
   {
    "duration": 5,
    "start_time": "2022-07-07T17:57:10.810Z"
   },
   {
    "duration": 7,
    "start_time": "2022-07-07T17:57:10.817Z"
   },
   {
    "duration": 9,
    "start_time": "2022-07-07T17:57:10.826Z"
   },
   {
    "duration": 8,
    "start_time": "2022-07-07T17:57:10.836Z"
   },
   {
    "duration": 15,
    "start_time": "2022-07-07T17:57:10.845Z"
   },
   {
    "duration": 134,
    "start_time": "2022-07-07T17:58:06.194Z"
   },
   {
    "duration": 18,
    "start_time": "2022-07-07T17:58:16.945Z"
   },
   {
    "duration": 9,
    "start_time": "2022-07-07T18:00:06.262Z"
   },
   {
    "duration": 6,
    "start_time": "2022-07-07T18:00:31.302Z"
   },
   {
    "duration": 10,
    "start_time": "2022-07-07T18:03:52.301Z"
   },
   {
    "duration": 1228,
    "start_time": "2022-07-07T18:03:57.833Z"
   },
   {
    "duration": 85,
    "start_time": "2022-07-07T18:03:59.065Z"
   },
   {
    "duration": 25,
    "start_time": "2022-07-07T18:03:59.153Z"
   },
   {
    "duration": 16,
    "start_time": "2022-07-07T18:03:59.184Z"
   },
   {
    "duration": 7,
    "start_time": "2022-07-07T18:03:59.202Z"
   },
   {
    "duration": 11,
    "start_time": "2022-07-07T18:03:59.210Z"
   },
   {
    "duration": 13,
    "start_time": "2022-07-07T18:03:59.222Z"
   },
   {
    "duration": 24,
    "start_time": "2022-07-07T18:03:59.237Z"
   },
   {
    "duration": 20,
    "start_time": "2022-07-07T18:03:59.269Z"
   },
   {
    "duration": 12,
    "start_time": "2022-07-07T18:03:59.292Z"
   },
   {
    "duration": 15,
    "start_time": "2022-07-07T18:03:59.305Z"
   },
   {
    "duration": 8,
    "start_time": "2022-07-07T18:03:59.321Z"
   },
   {
    "duration": 12,
    "start_time": "2022-07-07T18:03:59.331Z"
   },
   {
    "duration": 7,
    "start_time": "2022-07-07T18:03:59.354Z"
   },
   {
    "duration": 42,
    "start_time": "2022-07-07T18:03:59.363Z"
   },
   {
    "duration": 11,
    "start_time": "2022-07-07T18:03:59.407Z"
   },
   {
    "duration": 18,
    "start_time": "2022-07-07T18:03:59.420Z"
   },
   {
    "duration": 8,
    "start_time": "2022-07-07T18:03:59.440Z"
   },
   {
    "duration": 37,
    "start_time": "2022-07-07T18:03:59.450Z"
   },
   {
    "duration": 11,
    "start_time": "2022-07-07T18:03:59.488Z"
   },
   {
    "duration": 8,
    "start_time": "2022-07-07T18:03:59.500Z"
   },
   {
    "duration": 13,
    "start_time": "2022-07-07T18:03:59.509Z"
   },
   {
    "duration": 145,
    "start_time": "2022-07-07T18:05:05.932Z"
   },
   {
    "duration": 10,
    "start_time": "2022-07-07T18:05:22.809Z"
   },
   {
    "duration": 1195,
    "start_time": "2022-07-07T18:07:02.198Z"
   },
   {
    "duration": 77,
    "start_time": "2022-07-07T18:07:03.395Z"
   },
   {
    "duration": 11,
    "start_time": "2022-07-07T18:07:03.474Z"
   },
   {
    "duration": 38,
    "start_time": "2022-07-07T18:07:03.487Z"
   },
   {
    "duration": 69,
    "start_time": "2022-07-07T18:07:03.527Z"
   },
   {
    "duration": 28,
    "start_time": "2022-07-07T18:07:03.598Z"
   },
   {
    "duration": 14,
    "start_time": "2022-07-07T18:07:03.627Z"
   },
   {
    "duration": 48,
    "start_time": "2022-07-07T18:07:03.643Z"
   },
   {
    "duration": 9,
    "start_time": "2022-07-07T18:07:03.693Z"
   },
   {
    "duration": 10,
    "start_time": "2022-07-07T18:07:03.705Z"
   },
   {
    "duration": 7,
    "start_time": "2022-07-07T18:07:03.717Z"
   },
   {
    "duration": 156,
    "start_time": "2022-07-07T18:07:03.726Z"
   },
   {
    "duration": 0,
    "start_time": "2022-07-07T18:07:03.884Z"
   },
   {
    "duration": 0,
    "start_time": "2022-07-07T18:07:03.886Z"
   },
   {
    "duration": 0,
    "start_time": "2022-07-07T18:07:03.887Z"
   },
   {
    "duration": 0,
    "start_time": "2022-07-07T18:07:03.888Z"
   },
   {
    "duration": 0,
    "start_time": "2022-07-07T18:07:03.889Z"
   },
   {
    "duration": 0,
    "start_time": "2022-07-07T18:07:03.891Z"
   },
   {
    "duration": 0,
    "start_time": "2022-07-07T18:07:03.892Z"
   },
   {
    "duration": 0,
    "start_time": "2022-07-07T18:07:03.893Z"
   },
   {
    "duration": 0,
    "start_time": "2022-07-07T18:07:03.894Z"
   },
   {
    "duration": 0,
    "start_time": "2022-07-07T18:07:03.895Z"
   },
   {
    "duration": 0,
    "start_time": "2022-07-07T18:07:03.897Z"
   },
   {
    "duration": 17,
    "start_time": "2022-07-07T18:07:40.550Z"
   },
   {
    "duration": 10,
    "start_time": "2022-07-07T18:08:26.822Z"
   },
   {
    "duration": 10,
    "start_time": "2022-07-07T18:08:35.770Z"
   },
   {
    "duration": 11,
    "start_time": "2022-07-07T18:09:12.176Z"
   },
   {
    "duration": 22,
    "start_time": "2022-07-07T18:10:00.346Z"
   },
   {
    "duration": 15,
    "start_time": "2022-07-07T18:11:21.381Z"
   },
   {
    "duration": 18,
    "start_time": "2022-07-07T18:13:16.589Z"
   },
   {
    "duration": 21,
    "start_time": "2022-07-07T18:13:52.295Z"
   },
   {
    "duration": 19,
    "start_time": "2022-07-07T18:14:35.470Z"
   },
   {
    "duration": 20,
    "start_time": "2022-07-07T18:14:52.569Z"
   },
   {
    "duration": 27,
    "start_time": "2022-07-07T18:15:57.787Z"
   },
   {
    "duration": 1120,
    "start_time": "2022-07-07T18:18:59.903Z"
   },
   {
    "duration": 83,
    "start_time": "2022-07-07T18:19:01.024Z"
   },
   {
    "duration": 11,
    "start_time": "2022-07-07T18:19:01.109Z"
   },
   {
    "duration": 16,
    "start_time": "2022-07-07T18:19:01.123Z"
   },
   {
    "duration": 17,
    "start_time": "2022-07-07T18:19:01.141Z"
   },
   {
    "duration": 23,
    "start_time": "2022-07-07T18:19:01.160Z"
   },
   {
    "duration": 20,
    "start_time": "2022-07-07T18:19:01.185Z"
   },
   {
    "duration": 31,
    "start_time": "2022-07-07T18:19:01.207Z"
   },
   {
    "duration": 10,
    "start_time": "2022-07-07T18:19:01.240Z"
   },
   {
    "duration": 32,
    "start_time": "2022-07-07T18:19:01.253Z"
   },
   {
    "duration": 6,
    "start_time": "2022-07-07T18:19:01.287Z"
   },
   {
    "duration": 41,
    "start_time": "2022-07-07T18:19:01.295Z"
   },
   {
    "duration": 10,
    "start_time": "2022-07-07T18:19:01.338Z"
   },
   {
    "duration": 34,
    "start_time": "2022-07-07T18:19:01.350Z"
   },
   {
    "duration": 28,
    "start_time": "2022-07-07T18:19:01.386Z"
   },
   {
    "duration": 25,
    "start_time": "2022-07-07T18:19:01.416Z"
   },
   {
    "duration": 16,
    "start_time": "2022-07-07T18:19:01.443Z"
   },
   {
    "duration": 30,
    "start_time": "2022-07-07T18:19:01.465Z"
   },
   {
    "duration": 22,
    "start_time": "2022-07-07T18:19:01.496Z"
   },
   {
    "duration": 13,
    "start_time": "2022-07-07T18:19:01.519Z"
   },
   {
    "duration": 12,
    "start_time": "2022-07-07T18:19:01.534Z"
   },
   {
    "duration": 32,
    "start_time": "2022-07-07T18:19:01.548Z"
   },
   {
    "duration": 15,
    "start_time": "2022-07-07T18:19:01.582Z"
   },
   {
    "duration": 16,
    "start_time": "2022-07-07T18:20:54.891Z"
   },
   {
    "duration": 116,
    "start_time": "2022-07-07T18:23:39.328Z"
   },
   {
    "duration": 16,
    "start_time": "2022-07-07T18:24:08.010Z"
   },
   {
    "duration": 19,
    "start_time": "2022-07-07T18:24:18.634Z"
   },
   {
    "duration": 16,
    "start_time": "2022-07-07T18:24:49.202Z"
   },
   {
    "duration": 14,
    "start_time": "2022-07-07T18:25:24.402Z"
   },
   {
    "duration": 13,
    "start_time": "2022-07-07T18:25:40.641Z"
   },
   {
    "duration": 92,
    "start_time": "2022-07-07T18:26:32.585Z"
   },
   {
    "duration": 17,
    "start_time": "2022-07-07T18:26:44.582Z"
   },
   {
    "duration": 19,
    "start_time": "2022-07-07T18:27:08.475Z"
   },
   {
    "duration": 14,
    "start_time": "2022-07-07T18:27:44.780Z"
   },
   {
    "duration": 23,
    "start_time": "2022-07-07T18:27:52.249Z"
   },
   {
    "duration": 11,
    "start_time": "2022-07-07T18:32:30.868Z"
   },
   {
    "duration": 13,
    "start_time": "2022-07-07T18:32:50.764Z"
   },
   {
    "duration": 7,
    "start_time": "2022-07-07T18:37:58.216Z"
   },
   {
    "duration": 10,
    "start_time": "2022-07-07T18:38:25.766Z"
   },
   {
    "duration": 6,
    "start_time": "2022-07-07T18:39:03.223Z"
   },
   {
    "duration": 6,
    "start_time": "2022-07-07T18:41:27.475Z"
   },
   {
    "duration": 16,
    "start_time": "2022-07-07T18:48:36.150Z"
   },
   {
    "duration": 37,
    "start_time": "2022-07-07T18:51:07.051Z"
   },
   {
    "duration": 23,
    "start_time": "2022-07-07T18:51:37.851Z"
   },
   {
    "duration": 13,
    "start_time": "2022-07-07T18:51:51.895Z"
   },
   {
    "duration": 8,
    "start_time": "2022-07-07T18:53:31.463Z"
   },
   {
    "duration": 8,
    "start_time": "2022-07-07T18:53:41.020Z"
   },
   {
    "duration": 18,
    "start_time": "2022-07-07T18:55:51.767Z"
   },
   {
    "duration": 17,
    "start_time": "2022-07-07T18:56:35.583Z"
   },
   {
    "duration": 5,
    "start_time": "2022-07-07T19:00:45.753Z"
   },
   {
    "duration": 1229,
    "start_time": "2022-07-07T19:08:16.719Z"
   },
   {
    "duration": 76,
    "start_time": "2022-07-07T19:08:17.950Z"
   },
   {
    "duration": 12,
    "start_time": "2022-07-07T19:08:18.028Z"
   },
   {
    "duration": 15,
    "start_time": "2022-07-07T19:08:18.045Z"
   },
   {
    "duration": 9,
    "start_time": "2022-07-07T19:08:18.062Z"
   },
   {
    "duration": 7,
    "start_time": "2022-07-07T19:08:18.072Z"
   },
   {
    "duration": 17,
    "start_time": "2022-07-07T19:08:18.081Z"
   },
   {
    "duration": 20,
    "start_time": "2022-07-07T19:08:18.100Z"
   },
   {
    "duration": 33,
    "start_time": "2022-07-07T19:08:18.122Z"
   },
   {
    "duration": 14,
    "start_time": "2022-07-07T19:08:18.159Z"
   },
   {
    "duration": 16,
    "start_time": "2022-07-07T19:08:18.175Z"
   },
   {
    "duration": 51,
    "start_time": "2022-07-07T19:08:18.194Z"
   },
   {
    "duration": 13,
    "start_time": "2022-07-07T19:08:18.247Z"
   },
   {
    "duration": 42,
    "start_time": "2022-07-07T19:08:18.262Z"
   },
   {
    "duration": 13,
    "start_time": "2022-07-07T19:08:18.306Z"
   },
   {
    "duration": 24,
    "start_time": "2022-07-07T19:08:18.322Z"
   },
   {
    "duration": 17,
    "start_time": "2022-07-07T19:08:18.348Z"
   },
   {
    "duration": 26,
    "start_time": "2022-07-07T19:08:18.367Z"
   },
   {
    "duration": 15,
    "start_time": "2022-07-07T19:08:18.395Z"
   },
   {
    "duration": 12,
    "start_time": "2022-07-07T19:08:18.412Z"
   },
   {
    "duration": 11,
    "start_time": "2022-07-07T19:08:18.427Z"
   },
   {
    "duration": 14,
    "start_time": "2022-07-07T19:08:18.440Z"
   },
   {
    "duration": 17,
    "start_time": "2022-07-07T19:08:18.456Z"
   },
   {
    "duration": 15,
    "start_time": "2022-07-07T19:08:18.474Z"
   },
   {
    "duration": 13,
    "start_time": "2022-07-07T19:08:18.491Z"
   },
   {
    "duration": 7,
    "start_time": "2022-07-07T19:08:18.506Z"
   },
   {
    "duration": 45,
    "start_time": "2022-07-07T19:08:18.514Z"
   },
   {
    "duration": 142,
    "start_time": "2022-07-07T19:08:18.563Z"
   },
   {
    "duration": 54,
    "start_time": "2022-07-07T19:09:00.047Z"
   },
   {
    "duration": 92,
    "start_time": "2022-07-07T19:13:46.390Z"
   },
   {
    "duration": 85,
    "start_time": "2022-07-07T19:14:06.749Z"
   },
   {
    "duration": 8,
    "start_time": "2022-07-07T19:14:37.654Z"
   },
   {
    "duration": 9,
    "start_time": "2022-07-07T19:14:54.270Z"
   },
   {
    "duration": 73,
    "start_time": "2022-07-07T19:21:17.364Z"
   },
   {
    "duration": 9,
    "start_time": "2022-07-07T19:21:40.786Z"
   },
   {
    "duration": 1169,
    "start_time": "2022-07-07T19:22:31.540Z"
   },
   {
    "duration": 75,
    "start_time": "2022-07-07T19:22:32.711Z"
   },
   {
    "duration": 11,
    "start_time": "2022-07-07T19:22:32.787Z"
   },
   {
    "duration": 14,
    "start_time": "2022-07-07T19:22:32.800Z"
   },
   {
    "duration": 28,
    "start_time": "2022-07-07T19:22:32.816Z"
   },
   {
    "duration": 7,
    "start_time": "2022-07-07T19:22:32.846Z"
   },
   {
    "duration": 9,
    "start_time": "2022-07-07T19:22:32.854Z"
   },
   {
    "duration": 11,
    "start_time": "2022-07-07T19:22:32.865Z"
   },
   {
    "duration": 9,
    "start_time": "2022-07-07T19:22:32.878Z"
   },
   {
    "duration": 5,
    "start_time": "2022-07-07T19:22:32.889Z"
   },
   {
    "duration": 4,
    "start_time": "2022-07-07T19:22:32.896Z"
   },
   {
    "duration": 58,
    "start_time": "2022-07-07T19:22:32.901Z"
   },
   {
    "duration": 8,
    "start_time": "2022-07-07T19:22:32.961Z"
   },
   {
    "duration": 16,
    "start_time": "2022-07-07T19:22:32.971Z"
   },
   {
    "duration": 10,
    "start_time": "2022-07-07T19:22:32.988Z"
   },
   {
    "duration": 18,
    "start_time": "2022-07-07T19:22:32.999Z"
   },
   {
    "duration": 36,
    "start_time": "2022-07-07T19:22:33.019Z"
   },
   {
    "duration": 16,
    "start_time": "2022-07-07T19:22:33.056Z"
   },
   {
    "duration": 5,
    "start_time": "2022-07-07T19:22:33.073Z"
   },
   {
    "duration": 6,
    "start_time": "2022-07-07T19:22:33.079Z"
   },
   {
    "duration": 9,
    "start_time": "2022-07-07T19:22:33.087Z"
   },
   {
    "duration": 9,
    "start_time": "2022-07-07T19:22:33.097Z"
   },
   {
    "duration": 47,
    "start_time": "2022-07-07T19:22:33.107Z"
   },
   {
    "duration": 16,
    "start_time": "2022-07-07T19:22:33.155Z"
   },
   {
    "duration": 12,
    "start_time": "2022-07-07T19:22:33.173Z"
   },
   {
    "duration": 7,
    "start_time": "2022-07-07T19:22:33.186Z"
   },
   {
    "duration": 6,
    "start_time": "2022-07-07T19:22:33.194Z"
   },
   {
    "duration": 110,
    "start_time": "2022-07-07T19:22:33.203Z"
   },
   {
    "duration": 12,
    "start_time": "2022-07-07T19:22:51.609Z"
   },
   {
    "duration": 18,
    "start_time": "2022-07-07T19:23:01.458Z"
   },
   {
    "duration": 7,
    "start_time": "2022-07-07T19:24:38.637Z"
   },
   {
    "duration": 14,
    "start_time": "2022-07-07T19:24:48.394Z"
   },
   {
    "duration": 8,
    "start_time": "2022-07-07T19:26:04.305Z"
   },
   {
    "duration": 7,
    "start_time": "2022-07-07T19:34:18.647Z"
   },
   {
    "duration": 16,
    "start_time": "2022-07-07T19:34:24.912Z"
   },
   {
    "duration": 7,
    "start_time": "2022-07-07T19:36:25.418Z"
   },
   {
    "duration": 8,
    "start_time": "2022-07-07T19:38:08.847Z"
   },
   {
    "duration": 16,
    "start_time": "2022-07-07T19:39:51.878Z"
   },
   {
    "duration": 22,
    "start_time": "2022-07-07T19:41:48.575Z"
   },
   {
    "duration": 6,
    "start_time": "2022-07-07T19:42:10.550Z"
   },
   {
    "duration": 12,
    "start_time": "2022-07-07T19:42:19.425Z"
   },
   {
    "duration": 9,
    "start_time": "2022-07-07T19:43:29.160Z"
   },
   {
    "duration": 9,
    "start_time": "2022-07-07T19:44:05.188Z"
   },
   {
    "duration": 9,
    "start_time": "2022-07-07T19:44:44.117Z"
   },
   {
    "duration": 12,
    "start_time": "2022-07-07T21:22:42.266Z"
   },
   {
    "duration": 1085,
    "start_time": "2022-07-07T21:22:53.367Z"
   },
   {
    "duration": 74,
    "start_time": "2022-07-07T21:22:54.454Z"
   },
   {
    "duration": 10,
    "start_time": "2022-07-07T21:22:54.530Z"
   },
   {
    "duration": 27,
    "start_time": "2022-07-07T21:22:54.542Z"
   },
   {
    "duration": 7,
    "start_time": "2022-07-07T21:22:54.571Z"
   },
   {
    "duration": 24,
    "start_time": "2022-07-07T21:22:54.580Z"
   },
   {
    "duration": 24,
    "start_time": "2022-07-07T21:22:54.605Z"
   },
   {
    "duration": 38,
    "start_time": "2022-07-07T21:22:54.631Z"
   },
   {
    "duration": 25,
    "start_time": "2022-07-07T21:22:54.671Z"
   },
   {
    "duration": 12,
    "start_time": "2022-07-07T21:22:54.698Z"
   },
   {
    "duration": 20,
    "start_time": "2022-07-07T21:22:54.712Z"
   },
   {
    "duration": 49,
    "start_time": "2022-07-07T21:22:54.734Z"
   },
   {
    "duration": 7,
    "start_time": "2022-07-07T21:22:54.785Z"
   },
   {
    "duration": 26,
    "start_time": "2022-07-07T21:22:54.794Z"
   },
   {
    "duration": 16,
    "start_time": "2022-07-07T21:22:54.822Z"
   },
   {
    "duration": 34,
    "start_time": "2022-07-07T21:22:54.839Z"
   },
   {
    "duration": 19,
    "start_time": "2022-07-07T21:22:54.875Z"
   },
   {
    "duration": 18,
    "start_time": "2022-07-07T21:22:54.895Z"
   },
   {
    "duration": 13,
    "start_time": "2022-07-07T21:22:54.915Z"
   },
   {
    "duration": 22,
    "start_time": "2022-07-07T21:22:54.929Z"
   },
   {
    "duration": 13,
    "start_time": "2022-07-07T21:22:54.953Z"
   },
   {
    "duration": 9,
    "start_time": "2022-07-07T21:22:54.968Z"
   },
   {
    "duration": 38,
    "start_time": "2022-07-07T21:22:54.978Z"
   },
   {
    "duration": 19,
    "start_time": "2022-07-07T21:22:55.018Z"
   },
   {
    "duration": 11,
    "start_time": "2022-07-07T21:22:55.039Z"
   },
   {
    "duration": 15,
    "start_time": "2022-07-07T21:22:55.051Z"
   },
   {
    "duration": 57,
    "start_time": "2022-07-07T21:22:55.068Z"
   },
   {
    "duration": 334,
    "start_time": "2022-07-07T21:23:33.044Z"
   },
   {
    "duration": 19,
    "start_time": "2022-07-07T21:28:13.754Z"
   },
   {
    "duration": 276,
    "start_time": "2022-07-07T21:29:00.014Z"
   },
   {
    "duration": 214,
    "start_time": "2022-07-07T21:29:04.350Z"
   },
   {
    "duration": 368,
    "start_time": "2022-07-07T22:00:19.552Z"
   },
   {
    "duration": 90,
    "start_time": "2022-07-07T22:06:26.853Z"
   },
   {
    "duration": 1066,
    "start_time": "2022-07-07T22:15:13.089Z"
   },
   {
    "duration": 74,
    "start_time": "2022-07-07T22:15:14.157Z"
   },
   {
    "duration": 11,
    "start_time": "2022-07-07T22:15:14.232Z"
   },
   {
    "duration": 15,
    "start_time": "2022-07-07T22:15:14.245Z"
   },
   {
    "duration": 8,
    "start_time": "2022-07-07T22:15:14.261Z"
   },
   {
    "duration": 6,
    "start_time": "2022-07-07T22:15:14.270Z"
   },
   {
    "duration": 15,
    "start_time": "2022-07-07T22:15:14.277Z"
   },
   {
    "duration": 13,
    "start_time": "2022-07-07T22:15:14.294Z"
   },
   {
    "duration": 6,
    "start_time": "2022-07-07T22:15:14.308Z"
   },
   {
    "duration": 6,
    "start_time": "2022-07-07T22:15:14.316Z"
   },
   {
    "duration": 5,
    "start_time": "2022-07-07T22:15:14.324Z"
   },
   {
    "duration": 45,
    "start_time": "2022-07-07T22:15:14.330Z"
   },
   {
    "duration": 8,
    "start_time": "2022-07-07T22:15:14.376Z"
   },
   {
    "duration": 11,
    "start_time": "2022-07-07T22:15:14.385Z"
   },
   {
    "duration": 7,
    "start_time": "2022-07-07T22:15:14.398Z"
   },
   {
    "duration": 17,
    "start_time": "2022-07-07T22:15:14.407Z"
   },
   {
    "duration": 34,
    "start_time": "2022-07-07T22:15:14.426Z"
   },
   {
    "duration": 15,
    "start_time": "2022-07-07T22:15:14.462Z"
   },
   {
    "duration": 8,
    "start_time": "2022-07-07T22:15:14.478Z"
   },
   {
    "duration": 7,
    "start_time": "2022-07-07T22:15:14.488Z"
   },
   {
    "duration": 18,
    "start_time": "2022-07-07T22:15:14.496Z"
   },
   {
    "duration": 6,
    "start_time": "2022-07-07T22:15:14.516Z"
   },
   {
    "duration": 15,
    "start_time": "2022-07-07T22:15:14.524Z"
   },
   {
    "duration": 19,
    "start_time": "2022-07-07T22:15:14.541Z"
   },
   {
    "duration": 5,
    "start_time": "2022-07-07T22:15:14.561Z"
   },
   {
    "duration": 7,
    "start_time": "2022-07-07T22:15:14.567Z"
   },
   {
    "duration": 113,
    "start_time": "2022-07-07T22:15:14.576Z"
   },
   {
    "duration": 0,
    "start_time": "2022-07-07T22:15:14.691Z"
   },
   {
    "duration": 0,
    "start_time": "2022-07-07T22:15:14.692Z"
   },
   {
    "duration": 0,
    "start_time": "2022-07-07T22:15:14.693Z"
   },
   {
    "duration": 0,
    "start_time": "2022-07-07T22:15:14.694Z"
   },
   {
    "duration": 0,
    "start_time": "2022-07-07T22:15:14.695Z"
   },
   {
    "duration": 0,
    "start_time": "2022-07-07T22:15:14.696Z"
   },
   {
    "duration": 0,
    "start_time": "2022-07-07T22:15:14.697Z"
   },
   {
    "duration": 19,
    "start_time": "2022-07-07T22:15:47.633Z"
   },
   {
    "duration": 15,
    "start_time": "2022-07-07T22:15:57.458Z"
   },
   {
    "duration": 13,
    "start_time": "2022-07-07T22:16:01.627Z"
   },
   {
    "duration": 338,
    "start_time": "2022-07-07T22:16:06.109Z"
   },
   {
    "duration": 144,
    "start_time": "2022-07-07T22:16:13.019Z"
   },
   {
    "duration": 219,
    "start_time": "2022-07-07T22:16:41.533Z"
   },
   {
    "duration": 366,
    "start_time": "2022-07-07T22:16:52.733Z"
   },
   {
    "duration": 256,
    "start_time": "2022-07-07T22:16:59.627Z"
   },
   {
    "duration": 195,
    "start_time": "2022-07-07T22:17:41.980Z"
   },
   {
    "duration": 253,
    "start_time": "2022-07-07T22:18:00.470Z"
   },
   {
    "duration": 229,
    "start_time": "2022-07-07T22:18:12.562Z"
   },
   {
    "duration": 402,
    "start_time": "2022-07-07T22:23:56.310Z"
   },
   {
    "duration": 12,
    "start_time": "2022-07-07T22:28:45.940Z"
   },
   {
    "duration": 12,
    "start_time": "2022-07-07T22:28:58.044Z"
   },
   {
    "duration": 11,
    "start_time": "2022-07-07T22:29:51.191Z"
   },
   {
    "duration": 10,
    "start_time": "2022-07-07T22:30:06.814Z"
   },
   {
    "duration": 104,
    "start_time": "2022-07-07T22:30:12.943Z"
   },
   {
    "duration": 8,
    "start_time": "2022-07-07T22:33:08.117Z"
   },
   {
    "duration": 4,
    "start_time": "2022-07-07T22:33:20.349Z"
   },
   {
    "duration": 106,
    "start_time": "2022-07-07T22:36:19.232Z"
   },
   {
    "duration": 107,
    "start_time": "2022-07-07T22:36:45.292Z"
   },
   {
    "duration": 5,
    "start_time": "2022-07-07T22:42:04.193Z"
   },
   {
    "duration": 15,
    "start_time": "2022-07-07T22:47:30.441Z"
   },
   {
    "duration": 12,
    "start_time": "2022-07-07T22:48:26.120Z"
   },
   {
    "duration": 1068,
    "start_time": "2022-07-07T22:49:14.177Z"
   },
   {
    "duration": 73,
    "start_time": "2022-07-07T22:49:15.247Z"
   },
   {
    "duration": 11,
    "start_time": "2022-07-07T22:49:15.322Z"
   },
   {
    "duration": 10,
    "start_time": "2022-07-07T22:49:15.335Z"
   },
   {
    "duration": 6,
    "start_time": "2022-07-07T22:49:15.346Z"
   },
   {
    "duration": 5,
    "start_time": "2022-07-07T22:49:15.354Z"
   },
   {
    "duration": 9,
    "start_time": "2022-07-07T22:49:15.360Z"
   },
   {
    "duration": 10,
    "start_time": "2022-07-07T22:49:15.370Z"
   },
   {
    "duration": 8,
    "start_time": "2022-07-07T22:49:15.381Z"
   },
   {
    "duration": 5,
    "start_time": "2022-07-07T22:49:15.391Z"
   },
   {
    "duration": 6,
    "start_time": "2022-07-07T22:49:15.398Z"
   },
   {
    "duration": 25,
    "start_time": "2022-07-07T22:49:15.405Z"
   },
   {
    "duration": 8,
    "start_time": "2022-07-07T22:49:15.452Z"
   },
   {
    "duration": 12,
    "start_time": "2022-07-07T22:49:15.461Z"
   },
   {
    "duration": 7,
    "start_time": "2022-07-07T22:49:15.475Z"
   },
   {
    "duration": 23,
    "start_time": "2022-07-07T22:49:15.484Z"
   },
   {
    "duration": 8,
    "start_time": "2022-07-07T22:49:15.509Z"
   },
   {
    "duration": 40,
    "start_time": "2022-07-07T22:49:15.519Z"
   },
   {
    "duration": 5,
    "start_time": "2022-07-07T22:49:15.561Z"
   },
   {
    "duration": 6,
    "start_time": "2022-07-07T22:49:15.567Z"
   },
   {
    "duration": 10,
    "start_time": "2022-07-07T22:49:15.575Z"
   },
   {
    "duration": 6,
    "start_time": "2022-07-07T22:49:15.587Z"
   },
   {
    "duration": 14,
    "start_time": "2022-07-07T22:49:15.595Z"
   },
   {
    "duration": 10,
    "start_time": "2022-07-07T22:49:15.610Z"
   },
   {
    "duration": 31,
    "start_time": "2022-07-07T22:49:15.622Z"
   },
   {
    "duration": 11,
    "start_time": "2022-07-07T22:49:15.654Z"
   },
   {
    "duration": 18,
    "start_time": "2022-07-07T22:49:15.667Z"
   },
   {
    "duration": 13,
    "start_time": "2022-07-07T22:49:15.688Z"
   },
   {
    "duration": 13,
    "start_time": "2022-07-07T22:49:15.702Z"
   },
   {
    "duration": 332,
    "start_time": "2022-07-07T22:49:15.716Z"
   },
   {
    "duration": 251,
    "start_time": "2022-07-07T22:49:16.052Z"
   },
   {
    "duration": 354,
    "start_time": "2022-07-07T22:49:16.305Z"
   },
   {
    "duration": 279,
    "start_time": "2022-07-07T22:49:16.660Z"
   },
   {
    "duration": 360,
    "start_time": "2022-07-07T22:49:16.941Z"
   },
   {
    "duration": 12,
    "start_time": "2022-07-07T22:49:17.303Z"
   },
   {
    "duration": 146,
    "start_time": "2022-07-07T22:49:17.317Z"
   },
   {
    "duration": 5,
    "start_time": "2022-07-07T22:49:17.464Z"
   },
   {
    "duration": 153,
    "start_time": "2022-07-07T22:49:17.470Z"
   },
   {
    "duration": 5,
    "start_time": "2022-07-07T22:49:17.624Z"
   },
   {
    "duration": 32,
    "start_time": "2022-07-07T22:49:17.631Z"
   },
   {
    "duration": 109,
    "start_time": "2022-07-07T22:49:17.664Z"
   },
   {
    "duration": 1123,
    "start_time": "2022-07-07T22:49:40.015Z"
   },
   {
    "duration": 72,
    "start_time": "2022-07-07T22:49:41.140Z"
   },
   {
    "duration": 10,
    "start_time": "2022-07-07T22:49:41.214Z"
   },
   {
    "duration": 10,
    "start_time": "2022-07-07T22:49:41.225Z"
   },
   {
    "duration": 6,
    "start_time": "2022-07-07T22:49:41.237Z"
   },
   {
    "duration": 5,
    "start_time": "2022-07-07T22:49:41.245Z"
   },
   {
    "duration": 14,
    "start_time": "2022-07-07T22:49:41.252Z"
   },
   {
    "duration": 11,
    "start_time": "2022-07-07T22:49:41.267Z"
   },
   {
    "duration": 6,
    "start_time": "2022-07-07T22:49:41.279Z"
   },
   {
    "duration": 5,
    "start_time": "2022-07-07T22:49:41.287Z"
   },
   {
    "duration": 6,
    "start_time": "2022-07-07T22:49:41.293Z"
   },
   {
    "duration": 31,
    "start_time": "2022-07-07T22:49:41.300Z"
   },
   {
    "duration": 21,
    "start_time": "2022-07-07T22:49:41.333Z"
   },
   {
    "duration": 11,
    "start_time": "2022-07-07T22:49:41.355Z"
   },
   {
    "duration": 8,
    "start_time": "2022-07-07T22:49:41.368Z"
   },
   {
    "duration": 16,
    "start_time": "2022-07-07T22:49:41.377Z"
   },
   {
    "duration": 9,
    "start_time": "2022-07-07T22:49:41.394Z"
   },
   {
    "duration": 13,
    "start_time": "2022-07-07T22:49:41.404Z"
   },
   {
    "duration": 6,
    "start_time": "2022-07-07T22:49:41.419Z"
   },
   {
    "duration": 28,
    "start_time": "2022-07-07T22:49:41.426Z"
   },
   {
    "duration": 8,
    "start_time": "2022-07-07T22:49:41.455Z"
   },
   {
    "duration": 8,
    "start_time": "2022-07-07T22:49:41.465Z"
   },
   {
    "duration": 18,
    "start_time": "2022-07-07T22:49:41.475Z"
   },
   {
    "duration": 12,
    "start_time": "2022-07-07T22:49:41.495Z"
   },
   {
    "duration": 5,
    "start_time": "2022-07-07T22:49:41.509Z"
   },
   {
    "duration": 9,
    "start_time": "2022-07-07T22:49:41.515Z"
   },
   {
    "duration": 28,
    "start_time": "2022-07-07T22:49:41.526Z"
   },
   {
    "duration": 15,
    "start_time": "2022-07-07T22:49:41.556Z"
   },
   {
    "duration": 12,
    "start_time": "2022-07-07T22:49:41.572Z"
   },
   {
    "duration": 294,
    "start_time": "2022-07-07T22:49:41.586Z"
   },
   {
    "duration": 219,
    "start_time": "2022-07-07T22:49:41.883Z"
   },
   {
    "duration": 311,
    "start_time": "2022-07-07T22:49:42.104Z"
   },
   {
    "duration": 246,
    "start_time": "2022-07-07T22:49:42.416Z"
   },
   {
    "duration": 316,
    "start_time": "2022-07-07T22:49:42.664Z"
   },
   {
    "duration": 13,
    "start_time": "2022-07-07T22:49:42.982Z"
   },
   {
    "duration": 126,
    "start_time": "2022-07-07T22:49:42.996Z"
   },
   {
    "duration": 5,
    "start_time": "2022-07-07T22:49:43.123Z"
   },
   {
    "duration": 130,
    "start_time": "2022-07-07T22:49:43.129Z"
   },
   {
    "duration": 5,
    "start_time": "2022-07-07T22:49:43.260Z"
   },
   {
    "duration": 20,
    "start_time": "2022-07-07T22:49:43.267Z"
   },
   {
    "duration": 6,
    "start_time": "2022-07-07T22:49:43.288Z"
   },
   {
    "duration": 134,
    "start_time": "2022-07-07T22:52:39.267Z"
   },
   {
    "duration": 141,
    "start_time": "2022-07-07T22:52:47.549Z"
   },
   {
    "duration": 137,
    "start_time": "2022-07-07T22:53:09.324Z"
   },
   {
    "duration": 8,
    "start_time": "2022-07-07T22:53:36.698Z"
   },
   {
    "duration": 9,
    "start_time": "2022-07-07T22:53:49.538Z"
   },
   {
    "duration": 9,
    "start_time": "2022-07-07T22:54:21.657Z"
   },
   {
    "duration": 128,
    "start_time": "2022-07-07T22:54:32.755Z"
   },
   {
    "duration": 111,
    "start_time": "2022-07-07T22:56:38.611Z"
   },
   {
    "duration": 31,
    "start_time": "2022-07-07T22:56:54.106Z"
   },
   {
    "duration": 1057,
    "start_time": "2022-07-07T23:03:13.786Z"
   },
   {
    "duration": 73,
    "start_time": "2022-07-07T23:03:14.845Z"
   },
   {
    "duration": 11,
    "start_time": "2022-07-07T23:03:14.919Z"
   },
   {
    "duration": 10,
    "start_time": "2022-07-07T23:03:14.932Z"
   },
   {
    "duration": 6,
    "start_time": "2022-07-07T23:03:14.943Z"
   },
   {
    "duration": 5,
    "start_time": "2022-07-07T23:03:14.951Z"
   },
   {
    "duration": 11,
    "start_time": "2022-07-07T23:03:14.958Z"
   },
   {
    "duration": 13,
    "start_time": "2022-07-07T23:03:14.970Z"
   },
   {
    "duration": 7,
    "start_time": "2022-07-07T23:03:14.984Z"
   },
   {
    "duration": 5,
    "start_time": "2022-07-07T23:03:14.993Z"
   },
   {
    "duration": 3,
    "start_time": "2022-07-07T23:03:14.999Z"
   },
   {
    "duration": 49,
    "start_time": "2022-07-07T23:03:15.004Z"
   },
   {
    "duration": 6,
    "start_time": "2022-07-07T23:03:15.055Z"
   },
   {
    "duration": 12,
    "start_time": "2022-07-07T23:03:15.063Z"
   },
   {
    "duration": 12,
    "start_time": "2022-07-07T23:03:15.078Z"
   },
   {
    "duration": 16,
    "start_time": "2022-07-07T23:03:15.093Z"
   },
   {
    "duration": 9,
    "start_time": "2022-07-07T23:03:15.111Z"
   },
   {
    "duration": 35,
    "start_time": "2022-07-07T23:03:15.121Z"
   },
   {
    "duration": 4,
    "start_time": "2022-07-07T23:03:15.158Z"
   },
   {
    "duration": 5,
    "start_time": "2022-07-07T23:03:15.164Z"
   },
   {
    "duration": 10,
    "start_time": "2022-07-07T23:03:15.171Z"
   },
   {
    "duration": 6,
    "start_time": "2022-07-07T23:03:15.182Z"
   },
   {
    "duration": 10,
    "start_time": "2022-07-07T23:03:15.189Z"
   },
   {
    "duration": 10,
    "start_time": "2022-07-07T23:03:15.200Z"
   },
   {
    "duration": 4,
    "start_time": "2022-07-07T23:03:15.212Z"
   },
   {
    "duration": 36,
    "start_time": "2022-07-07T23:03:15.217Z"
   },
   {
    "duration": 17,
    "start_time": "2022-07-07T23:03:15.255Z"
   },
   {
    "duration": 14,
    "start_time": "2022-07-07T23:03:15.274Z"
   },
   {
    "duration": 12,
    "start_time": "2022-07-07T23:03:15.290Z"
   },
   {
    "duration": 310,
    "start_time": "2022-07-07T23:03:15.303Z"
   },
   {
    "duration": 228,
    "start_time": "2022-07-07T23:03:15.614Z"
   },
   {
    "duration": 373,
    "start_time": "2022-07-07T23:03:15.844Z"
   },
   {
    "duration": 300,
    "start_time": "2022-07-07T23:03:16.219Z"
   },
   {
    "duration": 365,
    "start_time": "2022-07-07T23:03:16.520Z"
   },
   {
    "duration": 14,
    "start_time": "2022-07-07T23:03:16.887Z"
   },
   {
    "duration": 141,
    "start_time": "2022-07-07T23:03:16.902Z"
   },
   {
    "duration": 5,
    "start_time": "2022-07-07T23:03:17.053Z"
   },
   {
    "duration": 146,
    "start_time": "2022-07-07T23:03:17.059Z"
   },
   {
    "duration": 6,
    "start_time": "2022-07-07T23:03:17.206Z"
   },
   {
    "duration": 157,
    "start_time": "2022-07-07T23:03:17.213Z"
   },
   {
    "duration": 9,
    "start_time": "2022-07-07T23:03:17.371Z"
   },
   {
    "duration": 8,
    "start_time": "2022-07-07T23:03:17.382Z"
   },
   {
    "duration": 33,
    "start_time": "2022-07-07T23:03:17.392Z"
   },
   {
    "duration": 1279,
    "start_time": "2022-07-07T23:03:17.427Z"
   },
   {
    "duration": 6,
    "start_time": "2022-07-07T23:04:06.281Z"
   },
   {
    "duration": 1276,
    "start_time": "2022-07-07T23:05:09.712Z"
   },
   {
    "duration": 7,
    "start_time": "2022-07-07T23:05:22.130Z"
   },
   {
    "duration": 20,
    "start_time": "2022-07-07T23:06:41.257Z"
   },
   {
    "duration": 5,
    "start_time": "2022-07-07T23:09:00.161Z"
   },
   {
    "duration": 74,
    "start_time": "2022-07-07T23:13:38.224Z"
   },
   {
    "duration": 53,
    "start_time": "2022-07-08T09:00:45.666Z"
   },
   {
    "duration": 1467,
    "start_time": "2022-07-08T09:01:00.404Z"
   },
   {
    "duration": 232,
    "start_time": "2022-07-08T09:01:01.873Z"
   },
   {
    "duration": 12,
    "start_time": "2022-07-08T09:01:02.107Z"
   },
   {
    "duration": 13,
    "start_time": "2022-07-08T09:01:02.121Z"
   },
   {
    "duration": 29,
    "start_time": "2022-07-08T09:01:02.137Z"
   },
   {
    "duration": 21,
    "start_time": "2022-07-08T09:01:02.168Z"
   },
   {
    "duration": 18,
    "start_time": "2022-07-08T09:01:02.191Z"
   },
   {
    "duration": 28,
    "start_time": "2022-07-08T09:01:02.210Z"
   },
   {
    "duration": 17,
    "start_time": "2022-07-08T09:01:02.240Z"
   },
   {
    "duration": 16,
    "start_time": "2022-07-08T09:01:02.260Z"
   },
   {
    "duration": 12,
    "start_time": "2022-07-08T09:01:02.278Z"
   },
   {
    "duration": 42,
    "start_time": "2022-07-08T09:01:02.292Z"
   },
   {
    "duration": 9,
    "start_time": "2022-07-08T09:01:02.336Z"
   },
   {
    "duration": 33,
    "start_time": "2022-07-08T09:01:02.346Z"
   },
   {
    "duration": 14,
    "start_time": "2022-07-08T09:01:02.381Z"
   },
   {
    "duration": 31,
    "start_time": "2022-07-08T09:01:02.396Z"
   },
   {
    "duration": 15,
    "start_time": "2022-07-08T09:01:02.429Z"
   },
   {
    "duration": 27,
    "start_time": "2022-07-08T09:01:02.446Z"
   },
   {
    "duration": 17,
    "start_time": "2022-07-08T09:01:02.475Z"
   },
   {
    "duration": 17,
    "start_time": "2022-07-08T09:01:02.494Z"
   },
   {
    "duration": 21,
    "start_time": "2022-07-08T09:01:02.512Z"
   },
   {
    "duration": 25,
    "start_time": "2022-07-08T09:01:02.535Z"
   },
   {
    "duration": 26,
    "start_time": "2022-07-08T09:01:02.562Z"
   },
   {
    "duration": 38,
    "start_time": "2022-07-08T09:01:02.590Z"
   },
   {
    "duration": 19,
    "start_time": "2022-07-08T09:01:02.630Z"
   },
   {
    "duration": 28,
    "start_time": "2022-07-08T09:01:02.651Z"
   },
   {
    "duration": 41,
    "start_time": "2022-07-08T09:01:02.682Z"
   },
   {
    "duration": 15,
    "start_time": "2022-07-08T09:01:02.727Z"
   },
   {
    "duration": 27,
    "start_time": "2022-07-08T09:01:02.744Z"
   },
   {
    "duration": 380,
    "start_time": "2022-07-08T09:01:02.773Z"
   },
   {
    "duration": 271,
    "start_time": "2022-07-08T09:01:03.154Z"
   },
   {
    "duration": 436,
    "start_time": "2022-07-08T09:01:03.427Z"
   },
   {
    "duration": 333,
    "start_time": "2022-07-08T09:01:03.865Z"
   },
   {
    "duration": 384,
    "start_time": "2022-07-08T09:01:04.200Z"
   },
   {
    "duration": 19,
    "start_time": "2022-07-08T09:01:04.586Z"
   },
   {
    "duration": 155,
    "start_time": "2022-07-08T09:01:04.607Z"
   },
   {
    "duration": 6,
    "start_time": "2022-07-08T09:01:04.764Z"
   },
   {
    "duration": 186,
    "start_time": "2022-07-08T09:01:04.772Z"
   },
   {
    "duration": 7,
    "start_time": "2022-07-08T09:01:04.961Z"
   },
   {
    "duration": 191,
    "start_time": "2022-07-08T09:01:04.970Z"
   },
   {
    "duration": 9,
    "start_time": "2022-07-08T09:01:05.163Z"
   },
   {
    "duration": 27,
    "start_time": "2022-07-08T09:01:05.174Z"
   },
   {
    "duration": 75,
    "start_time": "2022-07-08T09:01:05.204Z"
   },
   {
    "duration": 6,
    "start_time": "2022-07-08T09:01:05.282Z"
   },
   {
    "duration": 26,
    "start_time": "2022-07-08T09:01:05.290Z"
   },
   {
    "duration": 33,
    "start_time": "2022-07-08T09:01:05.318Z"
   },
   {
    "duration": 7,
    "start_time": "2022-07-08T09:01:05.353Z"
   },
   {
    "duration": 28,
    "start_time": "2022-07-08T09:01:05.362Z"
   },
   {
    "duration": 51,
    "start_time": "2022-07-08T09:01:05.392Z"
   },
   {
    "duration": 7,
    "start_time": "2022-07-08T09:03:02.182Z"
   },
   {
    "duration": 7,
    "start_time": "2022-07-08T09:03:12.575Z"
   },
   {
    "duration": 13,
    "start_time": "2022-07-08T09:08:21.005Z"
   },
   {
    "duration": 9,
    "start_time": "2022-07-08T09:08:58.727Z"
   },
   {
    "duration": 1285,
    "start_time": "2022-07-08T09:10:36.021Z"
   },
   {
    "duration": 78,
    "start_time": "2022-07-08T09:10:37.309Z"
   },
   {
    "duration": 14,
    "start_time": "2022-07-08T09:10:37.389Z"
   },
   {
    "duration": 17,
    "start_time": "2022-07-08T09:10:37.405Z"
   },
   {
    "duration": 9,
    "start_time": "2022-07-08T09:10:37.425Z"
   },
   {
    "duration": 7,
    "start_time": "2022-07-08T09:10:37.436Z"
   },
   {
    "duration": 10,
    "start_time": "2022-07-08T09:10:37.444Z"
   },
   {
    "duration": 12,
    "start_time": "2022-07-08T09:10:37.457Z"
   },
   {
    "duration": 34,
    "start_time": "2022-07-08T09:10:37.470Z"
   },
   {
    "duration": 7,
    "start_time": "2022-07-08T09:10:37.509Z"
   },
   {
    "duration": 5,
    "start_time": "2022-07-08T09:10:37.519Z"
   },
   {
    "duration": 32,
    "start_time": "2022-07-08T09:10:37.526Z"
   },
   {
    "duration": 40,
    "start_time": "2022-07-08T09:10:37.560Z"
   },
   {
    "duration": 16,
    "start_time": "2022-07-08T09:10:37.602Z"
   },
   {
    "duration": 10,
    "start_time": "2022-07-08T09:10:37.620Z"
   },
   {
    "duration": 26,
    "start_time": "2022-07-08T09:10:37.632Z"
   },
   {
    "duration": 12,
    "start_time": "2022-07-08T09:10:37.660Z"
   },
   {
    "duration": 16,
    "start_time": "2022-07-08T09:10:37.699Z"
   },
   {
    "duration": 10,
    "start_time": "2022-07-08T09:10:37.717Z"
   },
   {
    "duration": 8,
    "start_time": "2022-07-08T09:10:37.728Z"
   },
   {
    "duration": 11,
    "start_time": "2022-07-08T09:10:37.737Z"
   },
   {
    "duration": 5,
    "start_time": "2022-07-08T09:10:37.750Z"
   },
   {
    "duration": 11,
    "start_time": "2022-07-08T09:10:37.758Z"
   },
   {
    "duration": 14,
    "start_time": "2022-07-08T09:10:37.798Z"
   },
   {
    "duration": 6,
    "start_time": "2022-07-08T09:10:37.813Z"
   },
   {
    "duration": 7,
    "start_time": "2022-07-08T09:10:37.822Z"
   },
   {
    "duration": 23,
    "start_time": "2022-07-08T09:10:37.831Z"
   },
   {
    "duration": 46,
    "start_time": "2022-07-08T09:10:37.858Z"
   },
   {
    "duration": 15,
    "start_time": "2022-07-08T09:10:37.906Z"
   },
   {
    "duration": 387,
    "start_time": "2022-07-08T09:10:37.923Z"
   },
   {
    "duration": 277,
    "start_time": "2022-07-08T09:10:38.312Z"
   },
   {
    "duration": 434,
    "start_time": "2022-07-08T09:10:38.590Z"
   },
   {
    "duration": 292,
    "start_time": "2022-07-08T09:10:39.026Z"
   },
   {
    "duration": 382,
    "start_time": "2022-07-08T09:10:39.320Z"
   },
   {
    "duration": 16,
    "start_time": "2022-07-08T09:10:39.704Z"
   },
   {
    "duration": 162,
    "start_time": "2022-07-08T09:10:39.722Z"
   },
   {
    "duration": 13,
    "start_time": "2022-07-08T09:10:39.886Z"
   },
   {
    "duration": 157,
    "start_time": "2022-07-08T09:10:39.901Z"
   },
   {
    "duration": 5,
    "start_time": "2022-07-08T09:10:40.060Z"
   },
   {
    "duration": 165,
    "start_time": "2022-07-08T09:10:40.067Z"
   },
   {
    "duration": 10,
    "start_time": "2022-07-08T09:10:40.234Z"
   },
   {
    "duration": 12,
    "start_time": "2022-07-08T09:10:40.245Z"
   },
   {
    "duration": 61,
    "start_time": "2022-07-08T09:10:40.258Z"
   },
   {
    "duration": 7,
    "start_time": "2022-07-08T09:10:40.320Z"
   },
   {
    "duration": 9,
    "start_time": "2022-07-08T09:10:40.329Z"
   },
   {
    "duration": 22,
    "start_time": "2022-07-08T09:10:40.340Z"
   },
   {
    "duration": 5,
    "start_time": "2022-07-08T09:10:40.397Z"
   },
   {
    "duration": 11,
    "start_time": "2022-07-08T09:10:40.404Z"
   },
   {
    "duration": 10,
    "start_time": "2022-07-08T09:10:40.417Z"
   },
   {
    "duration": 130,
    "start_time": "2022-07-08T09:10:40.429Z"
   },
   {
    "duration": 0,
    "start_time": "2022-07-08T09:10:40.561Z"
   },
   {
    "duration": 0,
    "start_time": "2022-07-08T09:10:40.562Z"
   },
   {
    "duration": 0,
    "start_time": "2022-07-08T09:10:40.563Z"
   },
   {
    "duration": 0,
    "start_time": "2022-07-08T09:10:40.564Z"
   },
   {
    "duration": 0,
    "start_time": "2022-07-08T09:10:40.565Z"
   },
   {
    "duration": 9,
    "start_time": "2022-07-08T09:14:57.810Z"
   },
   {
    "duration": 1496,
    "start_time": "2022-07-08T09:16:58.602Z"
   },
   {
    "duration": 4,
    "start_time": "2022-07-08T09:17:11.128Z"
   },
   {
    "duration": 1351,
    "start_time": "2022-07-08T09:21:14.497Z"
   },
   {
    "duration": 14,
    "start_time": "2022-07-08T09:21:33.714Z"
   },
   {
    "duration": 15,
    "start_time": "2022-07-08T09:21:43.522Z"
   },
   {
    "duration": 13,
    "start_time": "2022-07-08T09:27:25.083Z"
   },
   {
    "duration": 12,
    "start_time": "2022-07-08T09:27:37.585Z"
   },
   {
    "duration": 5,
    "start_time": "2022-07-08T09:27:42.098Z"
   },
   {
    "duration": 10,
    "start_time": "2022-07-08T09:28:09.616Z"
   },
   {
    "duration": 24,
    "start_time": "2022-07-08T09:30:00.615Z"
   },
   {
    "duration": 10,
    "start_time": "2022-07-08T09:32:10.961Z"
   },
   {
    "duration": 7,
    "start_time": "2022-07-08T09:32:15.680Z"
   },
   {
    "duration": 13,
    "start_time": "2022-07-08T09:32:17.841Z"
   },
   {
    "duration": 7,
    "start_time": "2022-07-08T09:32:21.735Z"
   },
   {
    "duration": 7,
    "start_time": "2022-07-08T09:32:26.226Z"
   },
   {
    "duration": 1255,
    "start_time": "2022-07-08T09:34:17.316Z"
   },
   {
    "duration": 12,
    "start_time": "2022-07-08T09:34:32.649Z"
   },
   {
    "duration": 2665,
    "start_time": "2022-07-08T09:36:09.003Z"
   },
   {
    "duration": 11,
    "start_time": "2022-07-08T09:36:26.208Z"
   },
   {
    "duration": 10,
    "start_time": "2022-07-08T09:36:49.691Z"
   },
   {
    "duration": 1287,
    "start_time": "2022-07-08T23:26:37.995Z"
   },
   {
    "duration": 110,
    "start_time": "2022-07-08T23:26:39.285Z"
   },
   {
    "duration": 12,
    "start_time": "2022-07-08T23:26:39.396Z"
   },
   {
    "duration": 11,
    "start_time": "2022-07-08T23:26:39.410Z"
   },
   {
    "duration": 9,
    "start_time": "2022-07-08T23:26:39.423Z"
   },
   {
    "duration": 8,
    "start_time": "2022-07-08T23:26:39.433Z"
   },
   {
    "duration": 11,
    "start_time": "2022-07-08T23:26:39.442Z"
   },
   {
    "duration": 11,
    "start_time": "2022-07-08T23:26:39.455Z"
   },
   {
    "duration": 6,
    "start_time": "2022-07-08T23:26:39.467Z"
   },
   {
    "duration": 33,
    "start_time": "2022-07-08T23:26:39.475Z"
   },
   {
    "duration": 5,
    "start_time": "2022-07-08T23:26:39.510Z"
   },
   {
    "duration": 27,
    "start_time": "2022-07-08T23:26:39.516Z"
   },
   {
    "duration": 7,
    "start_time": "2022-07-08T23:26:39.545Z"
   },
   {
    "duration": 12,
    "start_time": "2022-07-08T23:26:39.555Z"
   },
   {
    "duration": 34,
    "start_time": "2022-07-08T23:26:39.569Z"
   },
   {
    "duration": 20,
    "start_time": "2022-07-08T23:26:39.605Z"
   },
   {
    "duration": 8,
    "start_time": "2022-07-08T23:26:39.626Z"
   },
   {
    "duration": 12,
    "start_time": "2022-07-08T23:26:39.636Z"
   },
   {
    "duration": 6,
    "start_time": "2022-07-08T23:26:39.650Z"
   },
   {
    "duration": 8,
    "start_time": "2022-07-08T23:26:39.657Z"
   },
   {
    "duration": 35,
    "start_time": "2022-07-08T23:26:39.667Z"
   },
   {
    "duration": 6,
    "start_time": "2022-07-08T23:26:39.703Z"
   },
   {
    "duration": 11,
    "start_time": "2022-07-08T23:26:39.711Z"
   },
   {
    "duration": 10,
    "start_time": "2022-07-08T23:26:39.724Z"
   },
   {
    "duration": 4,
    "start_time": "2022-07-08T23:26:39.736Z"
   },
   {
    "duration": 10,
    "start_time": "2022-07-08T23:26:39.741Z"
   },
   {
    "duration": 21,
    "start_time": "2022-07-08T23:26:39.752Z"
   },
   {
    "duration": 32,
    "start_time": "2022-07-08T23:26:39.775Z"
   },
   {
    "duration": 12,
    "start_time": "2022-07-08T23:26:39.809Z"
   },
   {
    "duration": 300,
    "start_time": "2022-07-08T23:26:39.823Z"
   },
   {
    "duration": 219,
    "start_time": "2022-07-08T23:26:40.125Z"
   },
   {
    "duration": 345,
    "start_time": "2022-07-08T23:26:40.346Z"
   },
   {
    "duration": 256,
    "start_time": "2022-07-08T23:26:40.692Z"
   },
   {
    "duration": 312,
    "start_time": "2022-07-08T23:26:40.950Z"
   },
   {
    "duration": 12,
    "start_time": "2022-07-08T23:26:41.264Z"
   },
   {
    "duration": 133,
    "start_time": "2022-07-08T23:26:41.278Z"
   },
   {
    "duration": 5,
    "start_time": "2022-07-08T23:26:41.413Z"
   },
   {
    "duration": 138,
    "start_time": "2022-07-08T23:26:41.419Z"
   },
   {
    "duration": 5,
    "start_time": "2022-07-08T23:26:41.558Z"
   },
   {
    "duration": 139,
    "start_time": "2022-07-08T23:26:41.565Z"
   },
   {
    "duration": 8,
    "start_time": "2022-07-08T23:26:41.708Z"
   },
   {
    "duration": 27,
    "start_time": "2022-07-08T23:26:41.718Z"
   },
   {
    "duration": 31,
    "start_time": "2022-07-08T23:26:41.746Z"
   },
   {
    "duration": 7,
    "start_time": "2022-07-08T23:26:41.779Z"
   },
   {
    "duration": 7,
    "start_time": "2022-07-08T23:26:41.801Z"
   },
   {
    "duration": 21,
    "start_time": "2022-07-08T23:26:41.809Z"
   },
   {
    "duration": 5,
    "start_time": "2022-07-08T23:26:41.831Z"
   },
   {
    "duration": 10,
    "start_time": "2022-07-08T23:26:41.837Z"
   },
   {
    "duration": 9,
    "start_time": "2022-07-08T23:26:41.848Z"
   },
   {
    "duration": 9,
    "start_time": "2022-07-08T23:26:41.858Z"
   },
   {
    "duration": 33,
    "start_time": "2022-07-08T23:26:41.868Z"
   },
   {
    "duration": 14,
    "start_time": "2022-07-08T23:26:41.903Z"
   },
   {
    "duration": 7,
    "start_time": "2022-07-08T23:26:41.919Z"
   },
   {
    "duration": 9,
    "start_time": "2022-07-08T23:26:41.928Z"
   },
   {
    "duration": 21,
    "start_time": "2022-07-08T23:26:41.939Z"
   },
   {
    "duration": 40,
    "start_time": "2022-07-08T23:26:41.962Z"
   },
   {
    "duration": 9,
    "start_time": "2022-07-08T23:26:42.004Z"
   },
   {
    "duration": 104,
    "start_time": "2022-07-09T00:34:26.366Z"
   },
   {
    "duration": 15,
    "start_time": "2022-07-09T00:35:04.951Z"
   },
   {
    "duration": 149,
    "start_time": "2022-07-09T00:36:10.968Z"
   },
   {
    "duration": 73,
    "start_time": "2022-07-14T12:18:05.914Z"
   },
   {
    "duration": 1463,
    "start_time": "2022-07-14T12:18:12.993Z"
   },
   {
    "duration": 207,
    "start_time": "2022-07-14T12:18:14.459Z"
   },
   {
    "duration": 24,
    "start_time": "2022-07-14T12:18:14.669Z"
   },
   {
    "duration": 26,
    "start_time": "2022-07-14T12:18:14.696Z"
   },
   {
    "duration": 11,
    "start_time": "2022-07-14T12:18:14.725Z"
   },
   {
    "duration": 12,
    "start_time": "2022-07-14T12:18:14.738Z"
   },
   {
    "duration": 19,
    "start_time": "2022-07-14T12:18:14.751Z"
   },
   {
    "duration": 25,
    "start_time": "2022-07-14T12:18:14.772Z"
   },
   {
    "duration": 8,
    "start_time": "2022-07-14T12:18:14.799Z"
   },
   {
    "duration": 29,
    "start_time": "2022-07-14T12:18:14.808Z"
   },
   {
    "duration": 10,
    "start_time": "2022-07-14T12:18:14.839Z"
   },
   {
    "duration": 35,
    "start_time": "2022-07-14T12:18:14.851Z"
   },
   {
    "duration": 10,
    "start_time": "2022-07-14T12:18:14.888Z"
   },
   {
    "duration": 19,
    "start_time": "2022-07-14T12:18:14.902Z"
   },
   {
    "duration": 15,
    "start_time": "2022-07-14T12:18:14.925Z"
   },
   {
    "duration": 38,
    "start_time": "2022-07-14T12:18:14.942Z"
   },
   {
    "duration": 13,
    "start_time": "2022-07-14T12:18:14.982Z"
   },
   {
    "duration": 28,
    "start_time": "2022-07-14T12:18:14.997Z"
   },
   {
    "duration": 17,
    "start_time": "2022-07-14T12:18:15.028Z"
   },
   {
    "duration": 7,
    "start_time": "2022-07-14T12:18:15.062Z"
   },
   {
    "duration": 168,
    "start_time": "2022-07-14T12:18:15.071Z"
   },
   {
    "duration": 0,
    "start_time": "2022-07-14T12:18:15.241Z"
   },
   {
    "duration": 0,
    "start_time": "2022-07-14T12:18:15.243Z"
   },
   {
    "duration": 0,
    "start_time": "2022-07-14T12:18:15.245Z"
   },
   {
    "duration": 0,
    "start_time": "2022-07-14T12:18:15.247Z"
   },
   {
    "duration": 0,
    "start_time": "2022-07-14T12:18:15.261Z"
   },
   {
    "duration": 0,
    "start_time": "2022-07-14T12:18:15.262Z"
   },
   {
    "duration": 0,
    "start_time": "2022-07-14T12:18:15.263Z"
   },
   {
    "duration": 0,
    "start_time": "2022-07-14T12:18:15.264Z"
   },
   {
    "duration": 0,
    "start_time": "2022-07-14T12:18:15.266Z"
   },
   {
    "duration": 0,
    "start_time": "2022-07-14T12:18:15.267Z"
   },
   {
    "duration": 0,
    "start_time": "2022-07-14T12:18:15.269Z"
   },
   {
    "duration": 0,
    "start_time": "2022-07-14T12:18:15.273Z"
   },
   {
    "duration": 0,
    "start_time": "2022-07-14T12:18:15.274Z"
   },
   {
    "duration": 0,
    "start_time": "2022-07-14T12:18:15.276Z"
   },
   {
    "duration": 0,
    "start_time": "2022-07-14T12:18:15.277Z"
   },
   {
    "duration": 0,
    "start_time": "2022-07-14T12:18:15.279Z"
   },
   {
    "duration": 0,
    "start_time": "2022-07-14T12:18:15.281Z"
   },
   {
    "duration": 0,
    "start_time": "2022-07-14T12:18:15.282Z"
   },
   {
    "duration": 0,
    "start_time": "2022-07-14T12:18:15.284Z"
   },
   {
    "duration": 0,
    "start_time": "2022-07-14T12:18:15.286Z"
   },
   {
    "duration": 0,
    "start_time": "2022-07-14T12:18:15.288Z"
   },
   {
    "duration": 0,
    "start_time": "2022-07-14T12:18:15.290Z"
   },
   {
    "duration": 0,
    "start_time": "2022-07-14T12:18:15.291Z"
   },
   {
    "duration": 0,
    "start_time": "2022-07-14T12:18:15.292Z"
   },
   {
    "duration": 0,
    "start_time": "2022-07-14T12:18:15.294Z"
   },
   {
    "duration": 0,
    "start_time": "2022-07-14T12:18:15.295Z"
   },
   {
    "duration": 0,
    "start_time": "2022-07-14T12:18:15.298Z"
   },
   {
    "duration": 0,
    "start_time": "2022-07-14T12:18:15.306Z"
   },
   {
    "duration": 0,
    "start_time": "2022-07-14T12:18:15.309Z"
   },
   {
    "duration": 0,
    "start_time": "2022-07-14T12:18:15.310Z"
   },
   {
    "duration": 0,
    "start_time": "2022-07-14T12:18:15.312Z"
   },
   {
    "duration": 0,
    "start_time": "2022-07-14T12:18:15.313Z"
   },
   {
    "duration": 0,
    "start_time": "2022-07-14T12:18:15.361Z"
   },
   {
    "duration": 0,
    "start_time": "2022-07-14T12:18:15.363Z"
   },
   {
    "duration": 0,
    "start_time": "2022-07-14T12:18:15.364Z"
   },
   {
    "duration": 0,
    "start_time": "2022-07-14T12:18:15.366Z"
   },
   {
    "duration": 1214,
    "start_time": "2022-07-14T12:18:48.002Z"
   },
   {
    "duration": 82,
    "start_time": "2022-07-14T12:18:49.219Z"
   },
   {
    "duration": 16,
    "start_time": "2022-07-14T12:18:49.303Z"
   },
   {
    "duration": 16,
    "start_time": "2022-07-14T12:18:49.322Z"
   },
   {
    "duration": 13,
    "start_time": "2022-07-14T12:18:49.340Z"
   },
   {
    "duration": 14,
    "start_time": "2022-07-14T12:18:49.354Z"
   },
   {
    "duration": 30,
    "start_time": "2022-07-14T12:18:49.370Z"
   },
   {
    "duration": 17,
    "start_time": "2022-07-14T12:18:49.402Z"
   },
   {
    "duration": 26,
    "start_time": "2022-07-14T12:18:49.421Z"
   },
   {
    "duration": 7,
    "start_time": "2022-07-14T12:18:49.450Z"
   },
   {
    "duration": 30,
    "start_time": "2022-07-14T12:18:49.459Z"
   },
   {
    "duration": 36,
    "start_time": "2022-07-14T12:18:49.492Z"
   },
   {
    "duration": 11,
    "start_time": "2022-07-14T12:18:49.530Z"
   },
   {
    "duration": 20,
    "start_time": "2022-07-14T12:18:49.543Z"
   },
   {
    "duration": 29,
    "start_time": "2022-07-14T12:18:49.567Z"
   },
   {
    "duration": 20,
    "start_time": "2022-07-14T12:18:49.598Z"
   },
   {
    "duration": 9,
    "start_time": "2022-07-14T12:18:49.620Z"
   },
   {
    "duration": 30,
    "start_time": "2022-07-14T12:18:49.631Z"
   },
   {
    "duration": 32,
    "start_time": "2022-07-14T12:18:49.662Z"
   },
   {
    "duration": 10,
    "start_time": "2022-07-14T12:18:49.696Z"
   },
   {
    "duration": 166,
    "start_time": "2022-07-14T12:18:49.708Z"
   },
   {
    "duration": 0,
    "start_time": "2022-07-14T12:18:49.879Z"
   },
   {
    "duration": 0,
    "start_time": "2022-07-14T12:18:49.885Z"
   },
   {
    "duration": 0,
    "start_time": "2022-07-14T12:18:49.888Z"
   },
   {
    "duration": 0,
    "start_time": "2022-07-14T12:18:49.890Z"
   },
   {
    "duration": 0,
    "start_time": "2022-07-14T12:18:49.891Z"
   },
   {
    "duration": 0,
    "start_time": "2022-07-14T12:18:49.892Z"
   },
   {
    "duration": 0,
    "start_time": "2022-07-14T12:18:49.893Z"
   },
   {
    "duration": 0,
    "start_time": "2022-07-14T12:18:49.895Z"
   },
   {
    "duration": 0,
    "start_time": "2022-07-14T12:18:49.896Z"
   },
   {
    "duration": 0,
    "start_time": "2022-07-14T12:18:49.898Z"
   },
   {
    "duration": 0,
    "start_time": "2022-07-14T12:18:49.899Z"
   },
   {
    "duration": 0,
    "start_time": "2022-07-14T12:18:49.900Z"
   },
   {
    "duration": 0,
    "start_time": "2022-07-14T12:18:49.901Z"
   },
   {
    "duration": 0,
    "start_time": "2022-07-14T12:18:49.903Z"
   },
   {
    "duration": 0,
    "start_time": "2022-07-14T12:18:49.904Z"
   },
   {
    "duration": 0,
    "start_time": "2022-07-14T12:18:49.905Z"
   },
   {
    "duration": 0,
    "start_time": "2022-07-14T12:18:49.906Z"
   },
   {
    "duration": 1,
    "start_time": "2022-07-14T12:18:49.906Z"
   },
   {
    "duration": 0,
    "start_time": "2022-07-14T12:18:49.907Z"
   },
   {
    "duration": 0,
    "start_time": "2022-07-14T12:18:49.908Z"
   },
   {
    "duration": 0,
    "start_time": "2022-07-14T12:18:49.910Z"
   },
   {
    "duration": 0,
    "start_time": "2022-07-14T12:18:49.911Z"
   },
   {
    "duration": 0,
    "start_time": "2022-07-14T12:18:49.912Z"
   },
   {
    "duration": 0,
    "start_time": "2022-07-14T12:18:49.913Z"
   },
   {
    "duration": 0,
    "start_time": "2022-07-14T12:18:49.914Z"
   },
   {
    "duration": 0,
    "start_time": "2022-07-14T12:18:49.916Z"
   },
   {
    "duration": 0,
    "start_time": "2022-07-14T12:18:49.917Z"
   },
   {
    "duration": 0,
    "start_time": "2022-07-14T12:18:49.918Z"
   },
   {
    "duration": 0,
    "start_time": "2022-07-14T12:18:49.961Z"
   },
   {
    "duration": 0,
    "start_time": "2022-07-14T12:18:49.962Z"
   },
   {
    "duration": 0,
    "start_time": "2022-07-14T12:18:49.963Z"
   },
   {
    "duration": 0,
    "start_time": "2022-07-14T12:18:49.963Z"
   },
   {
    "duration": 0,
    "start_time": "2022-07-14T12:18:49.964Z"
   },
   {
    "duration": 0,
    "start_time": "2022-07-14T12:18:49.965Z"
   },
   {
    "duration": 0,
    "start_time": "2022-07-14T12:18:49.965Z"
   },
   {
    "duration": 0,
    "start_time": "2022-07-14T12:18:49.966Z"
   },
   {
    "duration": 1282,
    "start_time": "2022-07-14T12:19:16.512Z"
   },
   {
    "duration": 97,
    "start_time": "2022-07-14T12:19:17.796Z"
   },
   {
    "duration": 17,
    "start_time": "2022-07-14T12:19:17.895Z"
   },
   {
    "duration": 18,
    "start_time": "2022-07-14T12:19:17.915Z"
   },
   {
    "duration": 14,
    "start_time": "2022-07-14T12:19:17.935Z"
   },
   {
    "duration": 23,
    "start_time": "2022-07-14T12:19:17.951Z"
   },
   {
    "duration": 25,
    "start_time": "2022-07-14T12:19:17.975Z"
   },
   {
    "duration": 25,
    "start_time": "2022-07-14T12:19:18.002Z"
   },
   {
    "duration": 25,
    "start_time": "2022-07-14T12:19:18.029Z"
   },
   {
    "duration": 37,
    "start_time": "2022-07-14T12:19:18.057Z"
   },
   {
    "duration": 4,
    "start_time": "2022-07-14T12:19:18.096Z"
   },
   {
    "duration": 33,
    "start_time": "2022-07-14T12:19:18.102Z"
   },
   {
    "duration": 8,
    "start_time": "2022-07-14T12:19:18.137Z"
   },
   {
    "duration": 19,
    "start_time": "2022-07-14T12:19:18.147Z"
   },
   {
    "duration": 35,
    "start_time": "2022-07-14T12:19:18.168Z"
   },
   {
    "duration": 24,
    "start_time": "2022-07-14T12:19:18.205Z"
   },
   {
    "duration": 13,
    "start_time": "2022-07-14T12:19:18.231Z"
   },
   {
    "duration": 32,
    "start_time": "2022-07-14T12:19:18.247Z"
   },
   {
    "duration": 12,
    "start_time": "2022-07-14T12:19:18.281Z"
   },
   {
    "duration": 14,
    "start_time": "2022-07-14T12:19:18.295Z"
   },
   {
    "duration": 17,
    "start_time": "2022-07-14T12:19:18.311Z"
   },
   {
    "duration": 12,
    "start_time": "2022-07-14T12:19:18.330Z"
   },
   {
    "duration": 45,
    "start_time": "2022-07-14T12:19:18.344Z"
   },
   {
    "duration": 19,
    "start_time": "2022-07-14T12:19:18.392Z"
   },
   {
    "duration": 11,
    "start_time": "2022-07-14T12:19:18.413Z"
   },
   {
    "duration": 10,
    "start_time": "2022-07-14T12:19:18.426Z"
   },
   {
    "duration": 20,
    "start_time": "2022-07-14T12:19:18.438Z"
   },
   {
    "duration": 36,
    "start_time": "2022-07-14T12:19:18.465Z"
   },
   {
    "duration": 18,
    "start_time": "2022-07-14T12:19:18.503Z"
   },
   {
    "duration": 335,
    "start_time": "2022-07-14T12:19:18.523Z"
   },
   {
    "duration": 260,
    "start_time": "2022-07-14T12:19:18.863Z"
   },
   {
    "duration": 397,
    "start_time": "2022-07-14T12:19:19.125Z"
   },
   {
    "duration": 292,
    "start_time": "2022-07-14T12:19:19.524Z"
   },
   {
    "duration": 361,
    "start_time": "2022-07-14T12:19:19.817Z"
   },
   {
    "duration": 13,
    "start_time": "2022-07-14T12:19:20.179Z"
   },
   {
    "duration": 153,
    "start_time": "2022-07-14T12:19:20.194Z"
   },
   {
    "duration": 4,
    "start_time": "2022-07-14T12:19:20.349Z"
   },
   {
    "duration": 153,
    "start_time": "2022-07-14T12:19:20.355Z"
   },
   {
    "duration": 5,
    "start_time": "2022-07-14T12:19:20.509Z"
   },
   {
    "duration": 166,
    "start_time": "2022-07-14T12:19:20.515Z"
   },
   {
    "duration": 11,
    "start_time": "2022-07-14T12:19:20.683Z"
   },
   {
    "duration": 30,
    "start_time": "2022-07-14T12:19:20.696Z"
   },
   {
    "duration": 46,
    "start_time": "2022-07-14T12:19:20.728Z"
   },
   {
    "duration": 6,
    "start_time": "2022-07-14T12:19:20.776Z"
   },
   {
    "duration": 24,
    "start_time": "2022-07-14T12:19:20.784Z"
   },
   {
    "duration": 57,
    "start_time": "2022-07-14T12:19:20.809Z"
   },
   {
    "duration": 6,
    "start_time": "2022-07-14T12:19:20.867Z"
   },
   {
    "duration": 18,
    "start_time": "2022-07-14T12:19:20.877Z"
   },
   {
    "duration": 12,
    "start_time": "2022-07-14T12:19:20.897Z"
   },
   {
    "duration": 10,
    "start_time": "2022-07-14T12:19:20.911Z"
   },
   {
    "duration": 6,
    "start_time": "2022-07-14T12:19:20.922Z"
   },
   {
    "duration": 15,
    "start_time": "2022-07-14T12:19:20.930Z"
   },
   {
    "duration": 8,
    "start_time": "2022-07-14T12:19:20.946Z"
   },
   {
    "duration": 14,
    "start_time": "2022-07-14T12:19:20.955Z"
   },
   {
    "duration": 41,
    "start_time": "2022-07-14T12:19:20.973Z"
   },
   {
    "duration": 14,
    "start_time": "2022-07-14T12:19:21.017Z"
   },
   {
    "duration": 10,
    "start_time": "2022-07-14T12:19:21.034Z"
   },
   {
    "duration": 15,
    "start_time": "2022-07-14T12:21:30.519Z"
   },
   {
    "duration": 1479,
    "start_time": "2022-07-14T12:38:31.609Z"
   },
   {
    "duration": 82,
    "start_time": "2022-07-14T12:38:33.091Z"
   },
   {
    "duration": 16,
    "start_time": "2022-07-14T12:38:33.176Z"
   },
   {
    "duration": 15,
    "start_time": "2022-07-14T12:38:33.195Z"
   },
   {
    "duration": 20,
    "start_time": "2022-07-14T12:38:33.212Z"
   },
   {
    "duration": 18,
    "start_time": "2022-07-14T12:38:33.234Z"
   },
   {
    "duration": 19,
    "start_time": "2022-07-14T12:38:33.254Z"
   },
   {
    "duration": 15,
    "start_time": "2022-07-14T12:38:33.275Z"
   },
   {
    "duration": 9,
    "start_time": "2022-07-14T12:38:33.293Z"
   },
   {
    "duration": 12,
    "start_time": "2022-07-14T12:38:33.306Z"
   },
   {
    "duration": 12,
    "start_time": "2022-07-14T12:38:33.320Z"
   },
   {
    "duration": 66,
    "start_time": "2022-07-14T12:38:33.334Z"
   },
   {
    "duration": 11,
    "start_time": "2022-07-14T12:38:33.402Z"
   },
   {
    "duration": 23,
    "start_time": "2022-07-14T12:38:33.414Z"
   },
   {
    "duration": 41,
    "start_time": "2022-07-14T12:38:33.439Z"
   },
   {
    "duration": 29,
    "start_time": "2022-07-14T12:38:33.482Z"
   },
   {
    "duration": 11,
    "start_time": "2022-07-14T12:38:33.513Z"
   },
   {
    "duration": 23,
    "start_time": "2022-07-14T12:38:33.526Z"
   },
   {
    "duration": 18,
    "start_time": "2022-07-14T12:38:33.551Z"
   },
   {
    "duration": 10,
    "start_time": "2022-07-14T12:38:33.572Z"
   },
   {
    "duration": 12,
    "start_time": "2022-07-14T12:38:33.584Z"
   },
   {
    "duration": 8,
    "start_time": "2022-07-14T12:38:33.599Z"
   },
   {
    "duration": 18,
    "start_time": "2022-07-14T12:38:33.610Z"
   },
   {
    "duration": 40,
    "start_time": "2022-07-14T12:38:33.630Z"
   },
   {
    "duration": 6,
    "start_time": "2022-07-14T12:38:33.672Z"
   },
   {
    "duration": 16,
    "start_time": "2022-07-14T12:38:33.680Z"
   },
   {
    "duration": 26,
    "start_time": "2022-07-14T12:38:33.699Z"
   },
   {
    "duration": 40,
    "start_time": "2022-07-14T12:38:33.730Z"
   },
   {
    "duration": 18,
    "start_time": "2022-07-14T12:38:33.772Z"
   },
   {
    "duration": 475,
    "start_time": "2022-07-14T12:38:33.792Z"
   },
   {
    "duration": 351,
    "start_time": "2022-07-14T12:38:34.269Z"
   },
   {
    "duration": 468,
    "start_time": "2022-07-14T12:38:34.623Z"
   },
   {
    "duration": 423,
    "start_time": "2022-07-14T12:38:35.093Z"
   },
   {
    "duration": 454,
    "start_time": "2022-07-14T12:38:35.518Z"
   },
   {
    "duration": 19,
    "start_time": "2022-07-14T12:38:35.974Z"
   },
   {
    "duration": 193,
    "start_time": "2022-07-14T12:38:35.995Z"
   },
   {
    "duration": 14,
    "start_time": "2022-07-14T12:38:36.189Z"
   },
   {
    "duration": 273,
    "start_time": "2022-07-14T12:38:36.205Z"
   },
   {
    "duration": 7,
    "start_time": "2022-07-14T12:38:36.480Z"
   },
   {
    "duration": 300,
    "start_time": "2022-07-14T12:38:36.489Z"
   },
   {
    "duration": 11,
    "start_time": "2022-07-14T12:38:36.792Z"
   },
   {
    "duration": 14,
    "start_time": "2022-07-14T12:38:36.805Z"
   },
   {
    "duration": 51,
    "start_time": "2022-07-14T12:38:36.821Z"
   },
   {
    "duration": 9,
    "start_time": "2022-07-14T12:38:36.874Z"
   },
   {
    "duration": 11,
    "start_time": "2022-07-14T12:38:36.885Z"
   },
   {
    "duration": 38,
    "start_time": "2022-07-14T12:38:36.898Z"
   },
   {
    "duration": 28,
    "start_time": "2022-07-14T12:38:36.937Z"
   },
   {
    "duration": 19,
    "start_time": "2022-07-14T12:38:36.967Z"
   },
   {
    "duration": 14,
    "start_time": "2022-07-14T12:38:36.987Z"
   },
   {
    "duration": 15,
    "start_time": "2022-07-14T12:38:37.003Z"
   },
   {
    "duration": 9,
    "start_time": "2022-07-14T12:38:37.021Z"
   },
   {
    "duration": 37,
    "start_time": "2022-07-14T12:38:37.032Z"
   },
   {
    "duration": 11,
    "start_time": "2022-07-14T12:38:37.071Z"
   },
   {
    "duration": 9,
    "start_time": "2022-07-14T12:38:37.084Z"
   },
   {
    "duration": 39,
    "start_time": "2022-07-14T12:38:37.095Z"
   },
   {
    "duration": 36,
    "start_time": "2022-07-14T12:38:37.136Z"
   },
   {
    "duration": 11,
    "start_time": "2022-07-14T12:38:37.174Z"
   },
   {
    "duration": 1306,
    "start_time": "2022-07-14T12:49:31.019Z"
   },
   {
    "duration": 83,
    "start_time": "2022-07-14T12:49:32.327Z"
   },
   {
    "duration": 16,
    "start_time": "2022-07-14T12:49:32.412Z"
   },
   {
    "duration": 23,
    "start_time": "2022-07-14T12:49:32.431Z"
   },
   {
    "duration": 45,
    "start_time": "2022-07-14T12:49:32.456Z"
   },
   {
    "duration": 12,
    "start_time": "2022-07-14T12:49:32.504Z"
   },
   {
    "duration": 41,
    "start_time": "2022-07-14T12:49:32.517Z"
   },
   {
    "duration": 27,
    "start_time": "2022-07-14T12:49:32.560Z"
   },
   {
    "duration": 11,
    "start_time": "2022-07-14T12:49:32.589Z"
   },
   {
    "duration": 17,
    "start_time": "2022-07-14T12:49:32.603Z"
   },
   {
    "duration": 18,
    "start_time": "2022-07-14T12:49:32.622Z"
   },
   {
    "duration": 40,
    "start_time": "2022-07-14T12:49:32.642Z"
   },
   {
    "duration": 11,
    "start_time": "2022-07-14T12:49:32.684Z"
   },
   {
    "duration": 46,
    "start_time": "2022-07-14T12:49:32.697Z"
   },
   {
    "duration": 25,
    "start_time": "2022-07-14T12:49:32.746Z"
   },
   {
    "duration": 30,
    "start_time": "2022-07-14T12:49:32.773Z"
   },
   {
    "duration": 12,
    "start_time": "2022-07-14T12:49:32.805Z"
   },
   {
    "duration": 22,
    "start_time": "2022-07-14T12:49:32.818Z"
   },
   {
    "duration": 10,
    "start_time": "2022-07-14T12:49:32.842Z"
   },
   {
    "duration": 6,
    "start_time": "2022-07-14T12:49:32.861Z"
   },
   {
    "duration": 20,
    "start_time": "2022-07-14T12:49:32.868Z"
   },
   {
    "duration": 9,
    "start_time": "2022-07-14T12:49:32.891Z"
   },
   {
    "duration": 23,
    "start_time": "2022-07-14T12:49:32.902Z"
   },
   {
    "duration": 17,
    "start_time": "2022-07-14T12:49:32.927Z"
   },
   {
    "duration": 7,
    "start_time": "2022-07-14T12:49:32.961Z"
   },
   {
    "duration": 29,
    "start_time": "2022-07-14T12:49:32.969Z"
   },
   {
    "duration": 31,
    "start_time": "2022-07-14T12:49:33.000Z"
   },
   {
    "duration": 25,
    "start_time": "2022-07-14T12:49:33.036Z"
   },
   {
    "duration": 36,
    "start_time": "2022-07-14T12:49:33.063Z"
   },
   {
    "duration": 380,
    "start_time": "2022-07-14T12:49:33.101Z"
   },
   {
    "duration": 258,
    "start_time": "2022-07-14T12:49:33.483Z"
   },
   {
    "duration": 364,
    "start_time": "2022-07-14T12:49:33.742Z"
   },
   {
    "duration": 296,
    "start_time": "2022-07-14T12:49:34.108Z"
   },
   {
    "duration": 340,
    "start_time": "2022-07-14T12:49:34.406Z"
   },
   {
    "duration": 23,
    "start_time": "2022-07-14T12:49:34.748Z"
   },
   {
    "duration": 206,
    "start_time": "2022-07-14T12:49:34.773Z"
   },
   {
    "duration": 7,
    "start_time": "2022-07-14T12:49:34.981Z"
   },
   {
    "duration": 152,
    "start_time": "2022-07-14T12:49:34.989Z"
   },
   {
    "duration": 19,
    "start_time": "2022-07-14T12:49:35.143Z"
   },
   {
    "duration": 230,
    "start_time": "2022-07-14T12:49:35.164Z"
   },
   {
    "duration": 9,
    "start_time": "2022-07-14T12:49:35.396Z"
   },
   {
    "duration": 18,
    "start_time": "2022-07-14T12:49:35.407Z"
   },
   {
    "duration": 47,
    "start_time": "2022-07-14T12:49:35.427Z"
   },
   {
    "duration": 7,
    "start_time": "2022-07-14T12:49:35.476Z"
   },
   {
    "duration": 24,
    "start_time": "2022-07-14T12:49:35.484Z"
   },
   {
    "duration": 27,
    "start_time": "2022-07-14T12:49:35.510Z"
   },
   {
    "duration": 6,
    "start_time": "2022-07-14T12:49:35.539Z"
   },
   {
    "duration": 15,
    "start_time": "2022-07-14T12:49:35.560Z"
   },
   {
    "duration": 15,
    "start_time": "2022-07-14T12:49:35.577Z"
   },
   {
    "duration": 20,
    "start_time": "2022-07-14T12:49:35.595Z"
   },
   {
    "duration": 8,
    "start_time": "2022-07-14T12:49:35.617Z"
   },
   {
    "duration": 19,
    "start_time": "2022-07-14T12:49:35.627Z"
   },
   {
    "duration": 9,
    "start_time": "2022-07-14T12:49:35.661Z"
   },
   {
    "duration": 9,
    "start_time": "2022-07-14T12:49:35.672Z"
   },
   {
    "duration": 28,
    "start_time": "2022-07-14T12:49:35.683Z"
   },
   {
    "duration": 13,
    "start_time": "2022-07-14T12:49:35.713Z"
   },
   {
    "duration": 35,
    "start_time": "2022-07-14T12:49:35.728Z"
   },
   {
    "duration": 183,
    "start_time": "2022-07-14T12:56:47.959Z"
   },
   {
    "duration": 42,
    "start_time": "2022-07-14T13:05:06.260Z"
   },
   {
    "duration": 21,
    "start_time": "2022-07-14T13:05:29.789Z"
   },
   {
    "duration": 21,
    "start_time": "2022-07-14T13:05:44.077Z"
   },
   {
    "duration": 1112,
    "start_time": "2022-07-14T13:59:09.086Z"
   },
   {
    "duration": 78,
    "start_time": "2022-07-14T13:59:10.200Z"
   },
   {
    "duration": 11,
    "start_time": "2022-07-14T13:59:10.280Z"
   },
   {
    "duration": 11,
    "start_time": "2022-07-14T13:59:10.293Z"
   },
   {
    "duration": 7,
    "start_time": "2022-07-14T13:59:10.306Z"
   },
   {
    "duration": 6,
    "start_time": "2022-07-14T13:59:10.315Z"
   },
   {
    "duration": 10,
    "start_time": "2022-07-14T13:59:10.323Z"
   },
   {
    "duration": 27,
    "start_time": "2022-07-14T13:59:10.335Z"
   },
   {
    "duration": 5,
    "start_time": "2022-07-14T13:59:10.363Z"
   },
   {
    "duration": 9,
    "start_time": "2022-07-14T13:59:10.371Z"
   },
   {
    "duration": 7,
    "start_time": "2022-07-14T13:59:10.382Z"
   },
   {
    "duration": 27,
    "start_time": "2022-07-14T13:59:10.391Z"
   },
   {
    "duration": 8,
    "start_time": "2022-07-14T13:59:10.420Z"
   },
   {
    "duration": 37,
    "start_time": "2022-07-14T13:59:10.430Z"
   },
   {
    "duration": 8,
    "start_time": "2022-07-14T13:59:10.469Z"
   },
   {
    "duration": 26,
    "start_time": "2022-07-14T13:59:10.479Z"
   },
   {
    "duration": 13,
    "start_time": "2022-07-14T13:59:10.507Z"
   },
   {
    "duration": 43,
    "start_time": "2022-07-14T13:59:10.522Z"
   },
   {
    "duration": 8,
    "start_time": "2022-07-14T13:59:10.567Z"
   },
   {
    "duration": 10,
    "start_time": "2022-07-14T13:59:10.577Z"
   },
   {
    "duration": 19,
    "start_time": "2022-07-14T13:59:10.589Z"
   },
   {
    "duration": 7,
    "start_time": "2022-07-14T13:59:10.609Z"
   },
   {
    "duration": 19,
    "start_time": "2022-07-14T13:59:10.617Z"
   },
   {
    "duration": 28,
    "start_time": "2022-07-14T13:59:10.638Z"
   },
   {
    "duration": 6,
    "start_time": "2022-07-14T13:59:10.669Z"
   },
   {
    "duration": 9,
    "start_time": "2022-07-14T13:59:10.677Z"
   },
   {
    "duration": 29,
    "start_time": "2022-07-14T13:59:10.688Z"
   },
   {
    "duration": 14,
    "start_time": "2022-07-14T13:59:10.720Z"
   },
   {
    "duration": 32,
    "start_time": "2022-07-14T13:59:10.736Z"
   },
   {
    "duration": 333,
    "start_time": "2022-07-14T13:59:10.770Z"
   },
   {
    "duration": 264,
    "start_time": "2022-07-14T13:59:11.105Z"
   },
   {
    "duration": 352,
    "start_time": "2022-07-14T13:59:11.371Z"
   },
   {
    "duration": 272,
    "start_time": "2022-07-14T13:59:11.725Z"
   },
   {
    "duration": 320,
    "start_time": "2022-07-14T13:59:11.999Z"
   },
   {
    "duration": 15,
    "start_time": "2022-07-14T13:59:12.321Z"
   },
   {
    "duration": 160,
    "start_time": "2022-07-14T13:59:12.337Z"
   },
   {
    "duration": 5,
    "start_time": "2022-07-14T13:59:12.499Z"
   },
   {
    "duration": 161,
    "start_time": "2022-07-14T13:59:12.505Z"
   },
   {
    "duration": 5,
    "start_time": "2022-07-14T13:59:12.668Z"
   },
   {
    "duration": 169,
    "start_time": "2022-07-14T13:59:12.674Z"
   },
   {
    "duration": 21,
    "start_time": "2022-07-14T13:59:12.845Z"
   },
   {
    "duration": 17,
    "start_time": "2022-07-14T13:59:12.867Z"
   },
   {
    "duration": 32,
    "start_time": "2022-07-14T13:59:12.886Z"
   },
   {
    "duration": 7,
    "start_time": "2022-07-14T13:59:12.919Z"
   },
   {
    "duration": 5,
    "start_time": "2022-07-14T13:59:12.928Z"
   },
   {
    "duration": 45,
    "start_time": "2022-07-14T13:59:12.935Z"
   },
   {
    "duration": 5,
    "start_time": "2022-07-14T13:59:12.981Z"
   },
   {
    "duration": 11,
    "start_time": "2022-07-14T13:59:12.988Z"
   },
   {
    "duration": 11,
    "start_time": "2022-07-14T13:59:13.001Z"
   },
   {
    "duration": 7,
    "start_time": "2022-07-14T13:59:13.013Z"
   },
   {
    "duration": 38,
    "start_time": "2022-07-14T13:59:13.022Z"
   },
   {
    "duration": 12,
    "start_time": "2022-07-14T13:59:13.062Z"
   },
   {
    "duration": 10,
    "start_time": "2022-07-14T13:59:13.076Z"
   },
   {
    "duration": 9,
    "start_time": "2022-07-14T13:59:13.088Z"
   },
   {
    "duration": 25,
    "start_time": "2022-07-14T13:59:13.099Z"
   },
   {
    "duration": 10,
    "start_time": "2022-07-14T13:59:13.126Z"
   },
   {
    "duration": 8,
    "start_time": "2022-07-14T13:59:13.161Z"
   },
   {
    "duration": 1190,
    "start_time": "2022-07-14T14:09:16.704Z"
   },
   {
    "duration": 80,
    "start_time": "2022-07-14T14:09:17.896Z"
   },
   {
    "duration": 12,
    "start_time": "2022-07-14T14:09:17.977Z"
   },
   {
    "duration": 12,
    "start_time": "2022-07-14T14:09:17.990Z"
   },
   {
    "duration": 9,
    "start_time": "2022-07-14T14:09:18.003Z"
   },
   {
    "duration": 8,
    "start_time": "2022-07-14T14:09:18.013Z"
   },
   {
    "duration": 14,
    "start_time": "2022-07-14T14:09:18.022Z"
   },
   {
    "duration": 25,
    "start_time": "2022-07-14T14:09:18.038Z"
   },
   {
    "duration": 8,
    "start_time": "2022-07-14T14:09:18.065Z"
   },
   {
    "duration": 7,
    "start_time": "2022-07-14T14:09:18.076Z"
   },
   {
    "duration": 4,
    "start_time": "2022-07-14T14:09:18.085Z"
   },
   {
    "duration": 33,
    "start_time": "2022-07-14T14:09:18.091Z"
   },
   {
    "duration": 36,
    "start_time": "2022-07-14T14:09:18.126Z"
   },
   {
    "duration": 24,
    "start_time": "2022-07-14T14:09:18.164Z"
   },
   {
    "duration": 6,
    "start_time": "2022-07-14T14:09:18.190Z"
   },
   {
    "duration": 22,
    "start_time": "2022-07-14T14:09:18.198Z"
   },
   {
    "duration": 9,
    "start_time": "2022-07-14T14:09:18.221Z"
   },
   {
    "duration": 24,
    "start_time": "2022-07-14T14:09:18.231Z"
   },
   {
    "duration": 7,
    "start_time": "2022-07-14T14:09:18.257Z"
   },
   {
    "duration": 9,
    "start_time": "2022-07-14T14:09:18.266Z"
   },
   {
    "duration": 17,
    "start_time": "2022-07-14T14:09:18.277Z"
   },
   {
    "duration": 6,
    "start_time": "2022-07-14T14:09:18.296Z"
   },
   {
    "duration": 14,
    "start_time": "2022-07-14T14:09:18.304Z"
   },
   {
    "duration": 14,
    "start_time": "2022-07-14T14:09:18.320Z"
   },
   {
    "duration": 6,
    "start_time": "2022-07-14T14:09:18.336Z"
   },
   {
    "duration": 12,
    "start_time": "2022-07-14T14:09:18.361Z"
   },
   {
    "duration": 20,
    "start_time": "2022-07-14T14:09:18.375Z"
   },
   {
    "duration": 14,
    "start_time": "2022-07-14T14:09:18.400Z"
   },
   {
    "duration": 13,
    "start_time": "2022-07-14T14:09:18.416Z"
   },
   {
    "duration": 360,
    "start_time": "2022-07-14T14:09:18.431Z"
   },
   {
    "duration": 230,
    "start_time": "2022-07-14T14:09:18.793Z"
   },
   {
    "duration": 399,
    "start_time": "2022-07-14T14:09:19.025Z"
   },
   {
    "duration": 266,
    "start_time": "2022-07-14T14:09:19.426Z"
   },
   {
    "duration": 320,
    "start_time": "2022-07-14T14:09:19.694Z"
   },
   {
    "duration": 14,
    "start_time": "2022-07-14T14:09:20.015Z"
   },
   {
    "duration": 147,
    "start_time": "2022-07-14T14:09:20.030Z"
   },
   {
    "duration": 5,
    "start_time": "2022-07-14T14:09:20.178Z"
   },
   {
    "duration": 160,
    "start_time": "2022-07-14T14:09:20.185Z"
   },
   {
    "duration": 5,
    "start_time": "2022-07-14T14:09:20.347Z"
   },
   {
    "duration": 168,
    "start_time": "2022-07-14T14:09:20.361Z"
   },
   {
    "duration": 7,
    "start_time": "2022-07-14T14:09:20.531Z"
   },
   {
    "duration": 21,
    "start_time": "2022-07-14T14:09:20.540Z"
   },
   {
    "duration": 36,
    "start_time": "2022-07-14T14:09:20.563Z"
   },
   {
    "duration": 7,
    "start_time": "2022-07-14T14:09:20.601Z"
   },
   {
    "duration": 8,
    "start_time": "2022-07-14T14:09:20.610Z"
   },
   {
    "duration": 59,
    "start_time": "2022-07-14T14:09:20.620Z"
   },
   {
    "duration": 5,
    "start_time": "2022-07-14T14:09:20.682Z"
   },
   {
    "duration": 22,
    "start_time": "2022-07-14T14:09:20.689Z"
   },
   {
    "duration": 18,
    "start_time": "2022-07-14T14:09:20.712Z"
   },
   {
    "duration": 13,
    "start_time": "2022-07-14T14:09:20.731Z"
   },
   {
    "duration": 15,
    "start_time": "2022-07-14T14:09:20.746Z"
   },
   {
    "duration": 16,
    "start_time": "2022-07-14T14:09:20.762Z"
   },
   {
    "duration": 13,
    "start_time": "2022-07-14T14:09:20.780Z"
   },
   {
    "duration": 9,
    "start_time": "2022-07-14T14:09:20.795Z"
   },
   {
    "duration": 23,
    "start_time": "2022-07-14T14:09:20.806Z"
   },
   {
    "duration": 41,
    "start_time": "2022-07-14T14:09:20.830Z"
   },
   {
    "duration": 19,
    "start_time": "2022-07-14T14:09:20.874Z"
   },
   {
    "duration": 146,
    "start_time": "2022-07-14T14:09:52.374Z"
   },
   {
    "duration": 1116,
    "start_time": "2022-07-14T14:21:28.453Z"
   },
   {
    "duration": 79,
    "start_time": "2022-07-14T14:21:29.571Z"
   },
   {
    "duration": 10,
    "start_time": "2022-07-14T14:21:29.651Z"
   },
   {
    "duration": 33,
    "start_time": "2022-07-14T14:21:29.663Z"
   },
   {
    "duration": 17,
    "start_time": "2022-07-14T14:21:29.697Z"
   },
   {
    "duration": 26,
    "start_time": "2022-07-14T14:21:29.716Z"
   },
   {
    "duration": 35,
    "start_time": "2022-07-14T14:21:29.743Z"
   },
   {
    "duration": 27,
    "start_time": "2022-07-14T14:21:29.779Z"
   },
   {
    "duration": 33,
    "start_time": "2022-07-14T14:21:29.808Z"
   },
   {
    "duration": 14,
    "start_time": "2022-07-14T14:21:29.844Z"
   },
   {
    "duration": 33,
    "start_time": "2022-07-14T14:21:29.860Z"
   },
   {
    "duration": 38,
    "start_time": "2022-07-14T14:21:29.895Z"
   },
   {
    "duration": 19,
    "start_time": "2022-07-14T14:21:29.934Z"
   },
   {
    "duration": 26,
    "start_time": "2022-07-14T14:21:29.954Z"
   },
   {
    "duration": 13,
    "start_time": "2022-07-14T14:21:29.981Z"
   },
   {
    "duration": 40,
    "start_time": "2022-07-14T14:21:29.996Z"
   },
   {
    "duration": 18,
    "start_time": "2022-07-14T14:21:30.038Z"
   },
   {
    "duration": 44,
    "start_time": "2022-07-14T14:21:30.058Z"
   },
   {
    "duration": 34,
    "start_time": "2022-07-14T14:21:30.104Z"
   },
   {
    "duration": 31,
    "start_time": "2022-07-14T14:21:30.139Z"
   },
   {
    "duration": 20,
    "start_time": "2022-07-14T14:21:30.171Z"
   },
   {
    "duration": 15,
    "start_time": "2022-07-14T14:21:30.192Z"
   },
   {
    "duration": 17,
    "start_time": "2022-07-14T14:21:30.208Z"
   },
   {
    "duration": 29,
    "start_time": "2022-07-14T14:21:30.226Z"
   },
   {
    "duration": 9,
    "start_time": "2022-07-14T14:21:30.256Z"
   },
   {
    "duration": 12,
    "start_time": "2022-07-14T14:21:30.267Z"
   },
   {
    "duration": 19,
    "start_time": "2022-07-14T14:21:30.280Z"
   },
   {
    "duration": 21,
    "start_time": "2022-07-14T14:21:30.302Z"
   },
   {
    "duration": 19,
    "start_time": "2022-07-14T14:21:30.324Z"
   },
   {
    "duration": 331,
    "start_time": "2022-07-14T14:21:30.344Z"
   },
   {
    "duration": 239,
    "start_time": "2022-07-14T14:21:30.676Z"
   },
   {
    "duration": 365,
    "start_time": "2022-07-14T14:21:30.917Z"
   },
   {
    "duration": 268,
    "start_time": "2022-07-14T14:21:31.284Z"
   },
   {
    "duration": 345,
    "start_time": "2022-07-14T14:21:31.554Z"
   },
   {
    "duration": 12,
    "start_time": "2022-07-14T14:21:31.900Z"
   },
   {
    "duration": 148,
    "start_time": "2022-07-14T14:21:31.914Z"
   },
   {
    "duration": 4,
    "start_time": "2022-07-14T14:21:32.064Z"
   },
   {
    "duration": 206,
    "start_time": "2022-07-14T14:21:32.070Z"
   },
   {
    "duration": 4,
    "start_time": "2022-07-14T14:21:32.278Z"
   },
   {
    "duration": 184,
    "start_time": "2022-07-14T14:21:32.284Z"
   },
   {
    "duration": 8,
    "start_time": "2022-07-14T14:21:32.469Z"
   },
   {
    "duration": 22,
    "start_time": "2022-07-14T14:21:32.478Z"
   },
   {
    "duration": 39,
    "start_time": "2022-07-14T14:21:32.501Z"
   },
   {
    "duration": 72,
    "start_time": "2022-07-14T14:21:32.541Z"
   },
   {
    "duration": 45,
    "start_time": "2022-07-14T14:21:32.615Z"
   },
   {
    "duration": 27,
    "start_time": "2022-07-14T14:21:32.661Z"
   },
   {
    "duration": 9,
    "start_time": "2022-07-14T14:21:32.690Z"
   },
   {
    "duration": 13,
    "start_time": "2022-07-14T14:21:32.702Z"
   },
   {
    "duration": 17,
    "start_time": "2022-07-14T14:21:32.716Z"
   },
   {
    "duration": 9,
    "start_time": "2022-07-14T14:21:32.734Z"
   },
   {
    "duration": 52,
    "start_time": "2022-07-14T14:21:32.745Z"
   },
   {
    "duration": 0,
    "start_time": "2022-07-14T14:21:32.798Z"
   },
   {
    "duration": 0,
    "start_time": "2022-07-14T14:21:32.800Z"
   },
   {
    "duration": 0,
    "start_time": "2022-07-14T14:21:32.801Z"
   },
   {
    "duration": 0,
    "start_time": "2022-07-14T14:21:32.802Z"
   },
   {
    "duration": 0,
    "start_time": "2022-07-14T14:21:32.803Z"
   },
   {
    "duration": 0,
    "start_time": "2022-07-14T14:21:32.804Z"
   },
   {
    "duration": 105,
    "start_time": "2022-07-14T14:21:42.610Z"
   },
   {
    "duration": 1158,
    "start_time": "2022-07-14T14:22:00.911Z"
   },
   {
    "duration": 79,
    "start_time": "2022-07-14T14:22:02.071Z"
   },
   {
    "duration": 11,
    "start_time": "2022-07-14T14:22:02.151Z"
   },
   {
    "duration": 13,
    "start_time": "2022-07-14T14:22:02.163Z"
   },
   {
    "duration": 25,
    "start_time": "2022-07-14T14:22:02.177Z"
   },
   {
    "duration": 26,
    "start_time": "2022-07-14T14:22:02.204Z"
   },
   {
    "duration": 20,
    "start_time": "2022-07-14T14:22:02.232Z"
   },
   {
    "duration": 12,
    "start_time": "2022-07-14T14:22:02.254Z"
   },
   {
    "duration": 15,
    "start_time": "2022-07-14T14:22:02.268Z"
   },
   {
    "duration": 33,
    "start_time": "2022-07-14T14:22:02.285Z"
   },
   {
    "duration": 23,
    "start_time": "2022-07-14T14:22:02.319Z"
   },
   {
    "duration": 36,
    "start_time": "2022-07-14T14:22:02.344Z"
   },
   {
    "duration": 7,
    "start_time": "2022-07-14T14:22:02.382Z"
   },
   {
    "duration": 19,
    "start_time": "2022-07-14T14:22:02.390Z"
   },
   {
    "duration": 10,
    "start_time": "2022-07-14T14:22:02.411Z"
   },
   {
    "duration": 17,
    "start_time": "2022-07-14T14:22:02.423Z"
   },
   {
    "duration": 22,
    "start_time": "2022-07-14T14:22:02.441Z"
   },
   {
    "duration": 19,
    "start_time": "2022-07-14T14:22:02.464Z"
   },
   {
    "duration": 22,
    "start_time": "2022-07-14T14:22:02.484Z"
   },
   {
    "duration": 9,
    "start_time": "2022-07-14T14:22:02.508Z"
   },
   {
    "duration": 24,
    "start_time": "2022-07-14T14:22:02.518Z"
   },
   {
    "duration": 8,
    "start_time": "2022-07-14T14:22:02.543Z"
   },
   {
    "duration": 17,
    "start_time": "2022-07-14T14:22:02.553Z"
   },
   {
    "duration": 11,
    "start_time": "2022-07-14T14:22:02.572Z"
   },
   {
    "duration": 25,
    "start_time": "2022-07-14T14:22:02.585Z"
   },
   {
    "duration": 10,
    "start_time": "2022-07-14T14:22:02.612Z"
   },
   {
    "duration": 21,
    "start_time": "2022-07-14T14:22:02.623Z"
   },
   {
    "duration": 13,
    "start_time": "2022-07-14T14:22:02.648Z"
   },
   {
    "duration": 12,
    "start_time": "2022-07-14T14:22:02.662Z"
   },
   {
    "duration": 315,
    "start_time": "2022-07-14T14:22:02.676Z"
   },
   {
    "duration": 229,
    "start_time": "2022-07-14T14:22:02.993Z"
   },
   {
    "duration": 363,
    "start_time": "2022-07-14T14:22:03.224Z"
   },
   {
    "duration": 275,
    "start_time": "2022-07-14T14:22:03.589Z"
   },
   {
    "duration": 339,
    "start_time": "2022-07-14T14:22:03.866Z"
   },
   {
    "duration": 14,
    "start_time": "2022-07-14T14:22:04.207Z"
   },
   {
    "duration": 158,
    "start_time": "2022-07-14T14:22:04.223Z"
   },
   {
    "duration": 4,
    "start_time": "2022-07-14T14:22:04.383Z"
   },
   {
    "duration": 161,
    "start_time": "2022-07-14T14:22:04.389Z"
   },
   {
    "duration": 11,
    "start_time": "2022-07-14T14:22:04.552Z"
   },
   {
    "duration": 156,
    "start_time": "2022-07-14T14:22:04.564Z"
   },
   {
    "duration": 9,
    "start_time": "2022-07-14T14:22:04.722Z"
   },
   {
    "duration": 11,
    "start_time": "2022-07-14T14:22:04.732Z"
   },
   {
    "duration": 43,
    "start_time": "2022-07-14T14:22:04.744Z"
   },
   {
    "duration": 6,
    "start_time": "2022-07-14T14:22:04.788Z"
   },
   {
    "duration": 9,
    "start_time": "2022-07-14T14:22:04.795Z"
   },
   {
    "duration": 22,
    "start_time": "2022-07-14T14:22:04.806Z"
   },
   {
    "duration": 5,
    "start_time": "2022-07-14T14:22:04.829Z"
   },
   {
    "duration": 8,
    "start_time": "2022-07-14T14:22:04.861Z"
   },
   {
    "duration": 13,
    "start_time": "2022-07-14T14:22:04.870Z"
   },
   {
    "duration": 7,
    "start_time": "2022-07-14T14:22:04.884Z"
   },
   {
    "duration": 8,
    "start_time": "2022-07-14T14:22:04.892Z"
   },
   {
    "duration": 13,
    "start_time": "2022-07-14T14:22:04.901Z"
   },
   {
    "duration": 6,
    "start_time": "2022-07-14T14:22:04.916Z"
   },
   {
    "duration": 14,
    "start_time": "2022-07-14T14:22:04.924Z"
   },
   {
    "duration": 21,
    "start_time": "2022-07-14T14:22:04.961Z"
   },
   {
    "duration": 9,
    "start_time": "2022-07-14T14:22:04.984Z"
   },
   {
    "duration": 11,
    "start_time": "2022-07-14T14:22:04.995Z"
   },
   {
    "duration": 1117,
    "start_time": "2022-07-14T14:32:32.849Z"
   },
   {
    "duration": 78,
    "start_time": "2022-07-14T14:32:33.968Z"
   },
   {
    "duration": 15,
    "start_time": "2022-07-14T14:32:34.048Z"
   },
   {
    "duration": 12,
    "start_time": "2022-07-14T14:32:34.066Z"
   },
   {
    "duration": 8,
    "start_time": "2022-07-14T14:32:34.080Z"
   },
   {
    "duration": 12,
    "start_time": "2022-07-14T14:32:34.089Z"
   },
   {
    "duration": 9,
    "start_time": "2022-07-14T14:32:34.103Z"
   },
   {
    "duration": 11,
    "start_time": "2022-07-14T14:32:34.114Z"
   },
   {
    "duration": 8,
    "start_time": "2022-07-14T14:32:34.126Z"
   },
   {
    "duration": 27,
    "start_time": "2022-07-14T14:32:34.136Z"
   },
   {
    "duration": 4,
    "start_time": "2022-07-14T14:32:34.164Z"
   },
   {
    "duration": 26,
    "start_time": "2022-07-14T14:32:34.170Z"
   },
   {
    "duration": 7,
    "start_time": "2022-07-14T14:32:34.197Z"
   },
   {
    "duration": 12,
    "start_time": "2022-07-14T14:32:34.206Z"
   },
   {
    "duration": 8,
    "start_time": "2022-07-14T14:32:34.220Z"
   },
   {
    "duration": 38,
    "start_time": "2022-07-14T14:32:34.230Z"
   },
   {
    "duration": 8,
    "start_time": "2022-07-14T14:32:34.270Z"
   },
   {
    "duration": 21,
    "start_time": "2022-07-14T14:32:34.279Z"
   },
   {
    "duration": 8,
    "start_time": "2022-07-14T14:32:34.301Z"
   },
   {
    "duration": 8,
    "start_time": "2022-07-14T14:32:34.310Z"
   },
   {
    "duration": 22,
    "start_time": "2022-07-14T14:32:34.320Z"
   },
   {
    "duration": 7,
    "start_time": "2022-07-14T14:32:34.344Z"
   },
   {
    "duration": 16,
    "start_time": "2022-07-14T14:32:34.352Z"
   },
   {
    "duration": 14,
    "start_time": "2022-07-14T14:32:34.369Z"
   },
   {
    "duration": 4,
    "start_time": "2022-07-14T14:32:34.384Z"
   },
   {
    "duration": 14,
    "start_time": "2022-07-14T14:32:34.390Z"
   },
   {
    "duration": 19,
    "start_time": "2022-07-14T14:32:34.405Z"
   },
   {
    "duration": 12,
    "start_time": "2022-07-14T14:32:34.428Z"
   },
   {
    "duration": 27,
    "start_time": "2022-07-14T14:32:34.441Z"
   },
   {
    "duration": 341,
    "start_time": "2022-07-14T14:32:34.469Z"
   },
   {
    "duration": 223,
    "start_time": "2022-07-14T14:32:34.812Z"
   },
   {
    "duration": 379,
    "start_time": "2022-07-14T14:32:35.036Z"
   },
   {
    "duration": 272,
    "start_time": "2022-07-14T14:32:35.416Z"
   },
   {
    "duration": 333,
    "start_time": "2022-07-14T14:32:35.689Z"
   },
   {
    "duration": 13,
    "start_time": "2022-07-14T14:32:36.024Z"
   },
   {
    "duration": 155,
    "start_time": "2022-07-14T14:32:36.039Z"
   },
   {
    "duration": 7,
    "start_time": "2022-07-14T14:32:36.196Z"
   },
   {
    "duration": 205,
    "start_time": "2022-07-14T14:32:36.205Z"
   },
   {
    "duration": 6,
    "start_time": "2022-07-14T14:32:36.413Z"
   },
   {
    "duration": 168,
    "start_time": "2022-07-14T14:32:36.420Z"
   },
   {
    "duration": 8,
    "start_time": "2022-07-14T14:32:36.590Z"
   },
   {
    "duration": 11,
    "start_time": "2022-07-14T14:32:36.599Z"
   },
   {
    "duration": 28,
    "start_time": "2022-07-14T14:32:36.612Z"
   },
   {
    "duration": 6,
    "start_time": "2022-07-14T14:32:36.661Z"
   },
   {
    "duration": 8,
    "start_time": "2022-07-14T14:32:36.668Z"
   },
   {
    "duration": 32,
    "start_time": "2022-07-14T14:32:36.678Z"
   },
   {
    "duration": 5,
    "start_time": "2022-07-14T14:32:36.711Z"
   },
   {
    "duration": 10,
    "start_time": "2022-07-14T14:32:36.717Z"
   },
   {
    "duration": 9,
    "start_time": "2022-07-14T14:32:36.728Z"
   },
   {
    "duration": 27,
    "start_time": "2022-07-14T14:32:36.738Z"
   },
   {
    "duration": 9,
    "start_time": "2022-07-14T14:32:36.767Z"
   },
   {
    "duration": 13,
    "start_time": "2022-07-14T14:32:36.778Z"
   },
   {
    "duration": 7,
    "start_time": "2022-07-14T14:32:36.792Z"
   },
   {
    "duration": 11,
    "start_time": "2022-07-14T14:32:36.800Z"
   },
   {
    "duration": 25,
    "start_time": "2022-07-14T14:32:36.812Z"
   },
   {
    "duration": 29,
    "start_time": "2022-07-14T14:32:36.838Z"
   },
   {
    "duration": 8,
    "start_time": "2022-07-14T14:32:36.869Z"
   },
   {
    "duration": 1259,
    "start_time": "2022-07-15T12:21:36.348Z"
   },
   {
    "duration": 188,
    "start_time": "2022-07-15T12:21:37.609Z"
   },
   {
    "duration": 11,
    "start_time": "2022-07-15T12:21:37.799Z"
   },
   {
    "duration": 13,
    "start_time": "2022-07-15T12:21:37.811Z"
   },
   {
    "duration": 9,
    "start_time": "2022-07-15T12:21:37.826Z"
   },
   {
    "duration": 7,
    "start_time": "2022-07-15T12:21:37.837Z"
   },
   {
    "duration": 12,
    "start_time": "2022-07-15T12:21:37.845Z"
   },
   {
    "duration": 11,
    "start_time": "2022-07-15T12:21:37.859Z"
   },
   {
    "duration": 10,
    "start_time": "2022-07-15T12:21:37.872Z"
   },
   {
    "duration": 11,
    "start_time": "2022-07-15T12:21:37.884Z"
   },
   {
    "duration": 11,
    "start_time": "2022-07-15T12:21:37.896Z"
   },
   {
    "duration": 41,
    "start_time": "2022-07-15T12:21:37.909Z"
   },
   {
    "duration": 8,
    "start_time": "2022-07-15T12:21:37.951Z"
   },
   {
    "duration": 10,
    "start_time": "2022-07-15T12:21:37.963Z"
   },
   {
    "duration": 8,
    "start_time": "2022-07-15T12:21:37.975Z"
   },
   {
    "duration": 46,
    "start_time": "2022-07-15T12:21:37.985Z"
   },
   {
    "duration": 14,
    "start_time": "2022-07-15T12:21:38.033Z"
   },
   {
    "duration": 35,
    "start_time": "2022-07-15T12:21:38.049Z"
   },
   {
    "duration": 38,
    "start_time": "2022-07-15T12:21:38.086Z"
   },
   {
    "duration": 19,
    "start_time": "2022-07-15T12:21:38.126Z"
   },
   {
    "duration": 21,
    "start_time": "2022-07-15T12:21:38.146Z"
   },
   {
    "duration": 12,
    "start_time": "2022-07-15T12:21:38.169Z"
   },
   {
    "duration": 26,
    "start_time": "2022-07-15T12:21:38.183Z"
   },
   {
    "duration": 34,
    "start_time": "2022-07-15T12:21:38.210Z"
   },
   {
    "duration": 19,
    "start_time": "2022-07-15T12:21:38.246Z"
   },
   {
    "duration": 44,
    "start_time": "2022-07-15T12:21:38.266Z"
   },
   {
    "duration": 20,
    "start_time": "2022-07-15T12:21:38.312Z"
   },
   {
    "duration": 17,
    "start_time": "2022-07-15T12:21:38.334Z"
   },
   {
    "duration": 21,
    "start_time": "2022-07-15T12:21:38.353Z"
   },
   {
    "duration": 318,
    "start_time": "2022-07-15T12:21:38.375Z"
   },
   {
    "duration": 282,
    "start_time": "2022-07-15T12:21:38.694Z"
   },
   {
    "duration": 439,
    "start_time": "2022-07-15T12:21:38.978Z"
   },
   {
    "duration": 283,
    "start_time": "2022-07-15T12:21:39.418Z"
   },
   {
    "duration": 376,
    "start_time": "2022-07-15T12:21:39.704Z"
   },
   {
    "duration": 12,
    "start_time": "2022-07-15T12:21:40.082Z"
   },
   {
    "duration": 152,
    "start_time": "2022-07-15T12:21:40.096Z"
   },
   {
    "duration": 4,
    "start_time": "2022-07-15T12:21:40.250Z"
   },
   {
    "duration": 175,
    "start_time": "2022-07-15T12:21:40.256Z"
   },
   {
    "duration": 5,
    "start_time": "2022-07-15T12:21:40.432Z"
   },
   {
    "duration": 156,
    "start_time": "2022-07-15T12:21:40.439Z"
   },
   {
    "duration": 9,
    "start_time": "2022-07-15T12:21:40.599Z"
   },
   {
    "duration": 10,
    "start_time": "2022-07-15T12:21:40.623Z"
   },
   {
    "duration": 34,
    "start_time": "2022-07-15T12:21:40.635Z"
   },
   {
    "duration": 8,
    "start_time": "2022-07-15T12:21:40.670Z"
   },
   {
    "duration": 8,
    "start_time": "2022-07-15T12:21:40.679Z"
   },
   {
    "duration": 23,
    "start_time": "2022-07-15T12:21:40.724Z"
   },
   {
    "duration": 5,
    "start_time": "2022-07-15T12:21:40.749Z"
   },
   {
    "duration": 10,
    "start_time": "2022-07-15T12:21:40.756Z"
   },
   {
    "duration": 13,
    "start_time": "2022-07-15T12:21:40.768Z"
   },
   {
    "duration": 7,
    "start_time": "2022-07-15T12:21:40.783Z"
   },
   {
    "duration": 41,
    "start_time": "2022-07-15T12:21:40.791Z"
   },
   {
    "duration": 11,
    "start_time": "2022-07-15T12:21:40.834Z"
   },
   {
    "duration": 8,
    "start_time": "2022-07-15T12:21:40.847Z"
   },
   {
    "duration": 9,
    "start_time": "2022-07-15T12:21:40.857Z"
   },
   {
    "duration": 20,
    "start_time": "2022-07-15T12:21:40.868Z"
   },
   {
    "duration": 34,
    "start_time": "2022-07-15T12:21:40.889Z"
   },
   {
    "duration": 9,
    "start_time": "2022-07-15T12:21:40.925Z"
   }
  ],
  "kernelspec": {
   "display_name": "Python 3 (ipykernel)",
   "language": "python",
   "name": "python3"
  },
  "language_info": {
   "codemirror_mode": {
    "name": "ipython",
    "version": 3
   },
   "file_extension": ".py",
   "mimetype": "text/x-python",
   "name": "python",
   "nbconvert_exporter": "python",
   "pygments_lexer": "ipython3",
   "version": "3.9.5"
  },
  "toc": {
   "base_numbering": 1,
   "nav_menu": {},
   "number_sections": true,
   "sideBar": true,
   "skip_h1_title": true,
   "title_cell": "Table of Contents",
   "title_sidebar": "Contents",
   "toc_cell": false,
   "toc_position": {},
   "toc_section_display": true,
   "toc_window_display": false
  }
 },
 "nbformat": 4,
 "nbformat_minor": 2
}
